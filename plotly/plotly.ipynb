{
 "cells": [
  {
   "cell_type": "code",
   "execution_count": 4,
   "id": "9bd68b3d",
   "metadata": {},
   "outputs": [],
   "source": [
    "# plotly is an interactive visualization library\n",
    "# cufflinks connects plotly with pandas\n"
   ]
  },
  {
   "cell_type": "code",
   "execution_count": 6,
   "id": "6d20ff5d",
   "metadata": {},
   "outputs": [
    {
     "name": "stdout",
     "output_type": "stream",
     "text": [
      "Requirement already satisfied: plotly in c:\\users\\top\\anaconda3\\lib\\site-packages (5.6.0)\n",
      "Requirement already satisfied: tenacity>=6.2.0 in c:\\users\\top\\anaconda3\\lib\\site-packages (from plotly) (8.0.1)\n",
      "Requirement already satisfied: six in c:\\users\\top\\anaconda3\\lib\\site-packages (from plotly) (1.16.0)\n",
      "Note: you may need to restart the kernel to use updated packages.\n"
     ]
    }
   ],
   "source": [
    "pip install plotly"
   ]
  },
  {
   "cell_type": "code",
   "execution_count": 7,
   "id": "7fca6ef4",
   "metadata": {},
   "outputs": [
    {
     "name": "stdout",
     "output_type": "stream",
     "text": [
      "Collecting cufflinks\n",
      "  Downloading cufflinks-0.17.3.tar.gz (81 kB)\n",
      "Requirement already satisfied: numpy>=1.9.2 in c:\\users\\top\\anaconda3\\lib\\site-packages (from cufflinks) (1.21.5)\n",
      "Requirement already satisfied: pandas>=0.19.2 in c:\\users\\top\\anaconda3\\lib\\site-packages (from cufflinks) (1.4.2)\n",
      "Requirement already satisfied: plotly>=4.1.1 in c:\\users\\top\\anaconda3\\lib\\site-packages (from cufflinks) (5.6.0)\n",
      "Requirement already satisfied: six>=1.9.0 in c:\\users\\top\\anaconda3\\lib\\site-packages (from cufflinks) (1.16.0)\n",
      "Collecting colorlover>=0.2.1\n",
      "  Downloading colorlover-0.3.0-py3-none-any.whl (8.9 kB)\n",
      "Requirement already satisfied: setuptools>=34.4.1 in c:\\users\\top\\anaconda3\\lib\\site-packages (from cufflinks) (61.2.0)\n",
      "Requirement already satisfied: ipython>=5.3.0 in c:\\users\\top\\anaconda3\\lib\\site-packages (from cufflinks) (8.2.0)\n",
      "Requirement already satisfied: ipywidgets>=7.0.0 in c:\\users\\top\\anaconda3\\lib\\site-packages (from cufflinks) (7.6.5)\n",
      "Requirement already satisfied: stack-data in c:\\users\\top\\anaconda3\\lib\\site-packages (from ipython>=5.3.0->cufflinks) (0.2.0)\n",
      "Requirement already satisfied: decorator in c:\\users\\top\\anaconda3\\lib\\site-packages (from ipython>=5.3.0->cufflinks) (5.1.1)\n",
      "Requirement already satisfied: pygments>=2.4.0 in c:\\users\\top\\anaconda3\\lib\\site-packages (from ipython>=5.3.0->cufflinks) (2.11.2)\n",
      "Requirement already satisfied: traitlets>=5 in c:\\users\\top\\anaconda3\\lib\\site-packages (from ipython>=5.3.0->cufflinks) (5.1.1)\n",
      "Requirement already satisfied: backcall in c:\\users\\top\\anaconda3\\lib\\site-packages (from ipython>=5.3.0->cufflinks) (0.2.0)\n",
      "Requirement already satisfied: pickleshare in c:\\users\\top\\anaconda3\\lib\\site-packages (from ipython>=5.3.0->cufflinks) (0.7.5)\n",
      "Requirement already satisfied: matplotlib-inline in c:\\users\\top\\anaconda3\\lib\\site-packages (from ipython>=5.3.0->cufflinks) (0.1.2)\n",
      "Requirement already satisfied: colorama in c:\\users\\top\\anaconda3\\lib\\site-packages (from ipython>=5.3.0->cufflinks) (0.4.4)\n",
      "Requirement already satisfied: prompt-toolkit!=3.0.0,!=3.0.1,<3.1.0,>=2.0.0 in c:\\users\\top\\anaconda3\\lib\\site-packages (from ipython>=5.3.0->cufflinks) (3.0.20)\n",
      "Requirement already satisfied: jedi>=0.16 in c:\\users\\top\\anaconda3\\lib\\site-packages (from ipython>=5.3.0->cufflinks) (0.18.1)\n",
      "Requirement already satisfied: jupyterlab-widgets>=1.0.0 in c:\\users\\top\\anaconda3\\lib\\site-packages (from ipywidgets>=7.0.0->cufflinks) (1.0.0)\n",
      "Requirement already satisfied: nbformat>=4.2.0 in c:\\users\\top\\anaconda3\\lib\\site-packages (from ipywidgets>=7.0.0->cufflinks) (5.3.0)\n",
      "Requirement already satisfied: widgetsnbextension~=3.5.0 in c:\\users\\top\\anaconda3\\lib\\site-packages (from ipywidgets>=7.0.0->cufflinks) (3.5.2)\n",
      "Requirement already satisfied: ipykernel>=4.5.1 in c:\\users\\top\\anaconda3\\lib\\site-packages (from ipywidgets>=7.0.0->cufflinks) (6.9.1)\n",
      "Requirement already satisfied: ipython-genutils~=0.2.0 in c:\\users\\top\\anaconda3\\lib\\site-packages (from ipywidgets>=7.0.0->cufflinks) (0.2.0)\n",
      "Requirement already satisfied: jupyter-client<8.0 in c:\\users\\top\\anaconda3\\lib\\site-packages (from ipykernel>=4.5.1->ipywidgets>=7.0.0->cufflinks) (6.1.12)\n",
      "Requirement already satisfied: nest-asyncio in c:\\users\\top\\anaconda3\\lib\\site-packages (from ipykernel>=4.5.1->ipywidgets>=7.0.0->cufflinks) (1.5.5)\n",
      "Requirement already satisfied: debugpy<2.0,>=1.0.0 in c:\\users\\top\\anaconda3\\lib\\site-packages (from ipykernel>=4.5.1->ipywidgets>=7.0.0->cufflinks) (1.5.1)\n",
      "Requirement already satisfied: tornado<7.0,>=4.2 in c:\\users\\top\\anaconda3\\lib\\site-packages (from ipykernel>=4.5.1->ipywidgets>=7.0.0->cufflinks) (6.1)\n",
      "Requirement already satisfied: parso<0.9.0,>=0.8.0 in c:\\users\\top\\anaconda3\\lib\\site-packages (from jedi>=0.16->ipython>=5.3.0->cufflinks) (0.8.3)\n",
      "Requirement already satisfied: jupyter-core>=4.6.0 in c:\\users\\top\\anaconda3\\lib\\site-packages (from jupyter-client<8.0->ipykernel>=4.5.1->ipywidgets>=7.0.0->cufflinks) (4.9.2)\n",
      "Requirement already satisfied: pyzmq>=13 in c:\\users\\top\\anaconda3\\lib\\site-packages (from jupyter-client<8.0->ipykernel>=4.5.1->ipywidgets>=7.0.0->cufflinks) (22.3.0)\n",
      "Requirement already satisfied: python-dateutil>=2.1 in c:\\users\\top\\anaconda3\\lib\\site-packages (from jupyter-client<8.0->ipykernel>=4.5.1->ipywidgets>=7.0.0->cufflinks) (2.8.2)\n",
      "Requirement already satisfied: pywin32>=1.0 in c:\\users\\top\\anaconda3\\lib\\site-packages (from jupyter-core>=4.6.0->jupyter-client<8.0->ipykernel>=4.5.1->ipywidgets>=7.0.0->cufflinks) (302)\n",
      "Requirement already satisfied: fastjsonschema in c:\\users\\top\\anaconda3\\lib\\site-packages (from nbformat>=4.2.0->ipywidgets>=7.0.0->cufflinks) (2.15.1)\n",
      "Requirement already satisfied: jsonschema>=2.6 in c:\\users\\top\\anaconda3\\lib\\site-packages (from nbformat>=4.2.0->ipywidgets>=7.0.0->cufflinks) (4.4.0)\n",
      "Requirement already satisfied: attrs>=17.4.0 in c:\\users\\top\\anaconda3\\lib\\site-packages (from jsonschema>=2.6->nbformat>=4.2.0->ipywidgets>=7.0.0->cufflinks) (21.4.0)\n",
      "Requirement already satisfied: pyrsistent!=0.17.0,!=0.17.1,!=0.17.2,>=0.14.0 in c:\\users\\top\\anaconda3\\lib\\site-packages (from jsonschema>=2.6->nbformat>=4.2.0->ipywidgets>=7.0.0->cufflinks) (0.18.0)\n",
      "Requirement already satisfied: pytz>=2020.1 in c:\\users\\top\\anaconda3\\lib\\site-packages (from pandas>=0.19.2->cufflinks) (2021.3)\n",
      "Requirement already satisfied: tenacity>=6.2.0 in c:\\users\\top\\anaconda3\\lib\\site-packages (from plotly>=4.1.1->cufflinks) (8.0.1)\n",
      "Requirement already satisfied: wcwidth in c:\\users\\top\\anaconda3\\lib\\site-packages (from prompt-toolkit!=3.0.0,!=3.0.1,<3.1.0,>=2.0.0->ipython>=5.3.0->cufflinks) (0.2.5)\n",
      "Requirement already satisfied: notebook>=4.4.1 in c:\\users\\top\\anaconda3\\lib\\site-packages (from widgetsnbextension~=3.5.0->ipywidgets>=7.0.0->cufflinks) (6.4.8)\n",
      "Requirement already satisfied: nbconvert in c:\\users\\top\\anaconda3\\lib\\site-packages (from notebook>=4.4.1->widgetsnbextension~=3.5.0->ipywidgets>=7.0.0->cufflinks) (6.4.4)\n",
      "Requirement already satisfied: Send2Trash>=1.8.0 in c:\\users\\top\\anaconda3\\lib\\site-packages (from notebook>=4.4.1->widgetsnbextension~=3.5.0->ipywidgets>=7.0.0->cufflinks) (1.8.0)\n",
      "Requirement already satisfied: prometheus-client in c:\\users\\top\\anaconda3\\lib\\site-packages (from notebook>=4.4.1->widgetsnbextension~=3.5.0->ipywidgets>=7.0.0->cufflinks) (0.13.1)\n",
      "Requirement already satisfied: jinja2 in c:\\users\\top\\anaconda3\\lib\\site-packages (from notebook>=4.4.1->widgetsnbextension~=3.5.0->ipywidgets>=7.0.0->cufflinks) (2.11.3)\n",
      "Requirement already satisfied: argon2-cffi in c:\\users\\top\\anaconda3\\lib\\site-packages (from notebook>=4.4.1->widgetsnbextension~=3.5.0->ipywidgets>=7.0.0->cufflinks) (21.3.0)\n",
      "Requirement already satisfied: terminado>=0.8.3 in c:\\users\\top\\anaconda3\\lib\\site-packages (from notebook>=4.4.1->widgetsnbextension~=3.5.0->ipywidgets>=7.0.0->cufflinks) (0.13.1)\n",
      "Requirement already satisfied: pywinpty>=1.1.0 in c:\\users\\top\\anaconda3\\lib\\site-packages (from terminado>=0.8.3->notebook>=4.4.1->widgetsnbextension~=3.5.0->ipywidgets>=7.0.0->cufflinks) (2.0.2)\n",
      "Requirement already satisfied: argon2-cffi-bindings in c:\\users\\top\\anaconda3\\lib\\site-packages (from argon2-cffi->notebook>=4.4.1->widgetsnbextension~=3.5.0->ipywidgets>=7.0.0->cufflinks) (21.2.0)\n",
      "Requirement already satisfied: cffi>=1.0.1 in c:\\users\\top\\anaconda3\\lib\\site-packages (from argon2-cffi-bindings->argon2-cffi->notebook>=4.4.1->widgetsnbextension~=3.5.0->ipywidgets>=7.0.0->cufflinks) (1.15.0)\n",
      "Requirement already satisfied: pycparser in c:\\users\\top\\anaconda3\\lib\\site-packages (from cffi>=1.0.1->argon2-cffi-bindings->argon2-cffi->notebook>=4.4.1->widgetsnbextension~=3.5.0->ipywidgets>=7.0.0->cufflinks) (2.21)\n",
      "Requirement already satisfied: MarkupSafe>=0.23 in c:\\users\\top\\anaconda3\\lib\\site-packages (from jinja2->notebook>=4.4.1->widgetsnbextension~=3.5.0->ipywidgets>=7.0.0->cufflinks) (2.0.1)\n",
      "Requirement already satisfied: defusedxml in c:\\users\\top\\anaconda3\\lib\\site-packages (from nbconvert->notebook>=4.4.1->widgetsnbextension~=3.5.0->ipywidgets>=7.0.0->cufflinks) (0.7.1)\n",
      "Requirement already satisfied: bleach in c:\\users\\top\\anaconda3\\lib\\site-packages (from nbconvert->notebook>=4.4.1->widgetsnbextension~=3.5.0->ipywidgets>=7.0.0->cufflinks) (4.1.0)\n",
      "Requirement already satisfied: testpath in c:\\users\\top\\anaconda3\\lib\\site-packages (from nbconvert->notebook>=4.4.1->widgetsnbextension~=3.5.0->ipywidgets>=7.0.0->cufflinks) (0.5.0)\n",
      "Requirement already satisfied: jupyterlab-pygments in c:\\users\\top\\anaconda3\\lib\\site-packages (from nbconvert->notebook>=4.4.1->widgetsnbextension~=3.5.0->ipywidgets>=7.0.0->cufflinks) (0.1.2)\n",
      "Requirement already satisfied: mistune<2,>=0.8.1 in c:\\users\\top\\anaconda3\\lib\\site-packages (from nbconvert->notebook>=4.4.1->widgetsnbextension~=3.5.0->ipywidgets>=7.0.0->cufflinks) (0.8.4)\n",
      "Requirement already satisfied: pandocfilters>=1.4.1 in c:\\users\\top\\anaconda3\\lib\\site-packages (from nbconvert->notebook>=4.4.1->widgetsnbextension~=3.5.0->ipywidgets>=7.0.0->cufflinks) (1.5.0)\n",
      "Requirement already satisfied: beautifulsoup4 in c:\\users\\top\\anaconda3\\lib\\site-packages (from nbconvert->notebook>=4.4.1->widgetsnbextension~=3.5.0->ipywidgets>=7.0.0->cufflinks) (4.11.1)Note: you may need to restart the kernel to use updated packages.\n",
      "Requirement already satisfied: entrypoints>=0.2.2 in c:\\users\\top\\anaconda3\\lib\\site-packages (from nbconvert->notebook>=4.4.1->widgetsnbextension~=3.5.0->ipywidgets>=7.0.0->cufflinks) (0.4)\n",
      "Requirement already satisfied: nbclient<0.6.0,>=0.5.0 in c:\\users\\top\\anaconda3\\lib\\site-packages (from nbconvert->notebook>=4.4.1->widgetsnbextension~=3.5.0->ipywidgets>=7.0.0->cufflinks) (0.5.13)\n",
      "Requirement already satisfied: soupsieve>1.2 in c:\\users\\top\\anaconda3\\lib\\site-packages (from beautifulsoup4->nbconvert->notebook>=4.4.1->widgetsnbextension~=3.5.0->ipywidgets>=7.0.0->cufflinks) (2.3.1)\n",
      "\n"
     ]
    },
    {
     "name": "stdout",
     "output_type": "stream",
     "text": [
      "Requirement already satisfied: webencodings in c:\\users\\top\\anaconda3\\lib\\site-packages (from bleach->nbconvert->notebook>=4.4.1->widgetsnbextension~=3.5.0->ipywidgets>=7.0.0->cufflinks) (0.5.1)\n",
      "Requirement already satisfied: packaging in c:\\users\\top\\anaconda3\\lib\\site-packages (from bleach->nbconvert->notebook>=4.4.1->widgetsnbextension~=3.5.0->ipywidgets>=7.0.0->cufflinks) (21.3)\n",
      "Requirement already satisfied: pyparsing!=3.0.5,>=2.0.2 in c:\\users\\top\\anaconda3\\lib\\site-packages (from packaging->bleach->nbconvert->notebook>=4.4.1->widgetsnbextension~=3.5.0->ipywidgets>=7.0.0->cufflinks) (3.0.4)\n",
      "Requirement already satisfied: pure-eval in c:\\users\\top\\anaconda3\\lib\\site-packages (from stack-data->ipython>=5.3.0->cufflinks) (0.2.2)\n",
      "Requirement already satisfied: asttokens in c:\\users\\top\\anaconda3\\lib\\site-packages (from stack-data->ipython>=5.3.0->cufflinks) (2.0.5)\n",
      "Requirement already satisfied: executing in c:\\users\\top\\anaconda3\\lib\\site-packages (from stack-data->ipython>=5.3.0->cufflinks) (0.8.3)\n",
      "Building wheels for collected packages: cufflinks\n",
      "  Building wheel for cufflinks (setup.py): started\n",
      "  Building wheel for cufflinks (setup.py): finished with status 'done'\n",
      "  Created wheel for cufflinks: filename=cufflinks-0.17.3-py3-none-any.whl size=68736 sha256=ebe10ff41136c246c4911e734272f9fcd731f8b8e2bb40427e1d281037acbfb5\n",
      "  Stored in directory: c:\\users\\top\\appdata\\local\\pip\\cache\\wheels\\29\\b4\\f8\\2fd2206eeeba6ccad8167e4e8894b8c4ec27bf1342037fd136\n",
      "Successfully built cufflinks\n",
      "Installing collected packages: colorlover, cufflinks\n",
      "Successfully installed colorlover-0.3.0 cufflinks-0.17.3\n"
     ]
    }
   ],
   "source": [
    "pip install cufflinks"
   ]
  },
  {
   "cell_type": "code",
   "execution_count": 8,
   "id": "7b660326",
   "metadata": {},
   "outputs": [],
   "source": [
    "import pandas as pd\n",
    "import numpy as np"
   ]
  },
  {
   "cell_type": "code",
   "execution_count": 9,
   "id": "62bb49af",
   "metadata": {},
   "outputs": [],
   "source": [
    "from plotly import __version__"
   ]
  },
  {
   "cell_type": "code",
   "execution_count": 10,
   "id": "a40c64dc",
   "metadata": {},
   "outputs": [
    {
     "name": "stdout",
     "output_type": "stream",
     "text": [
      "5.6.0\n"
     ]
    }
   ],
   "source": [
    "print(__version__)"
   ]
  },
  {
   "cell_type": "code",
   "execution_count": 11,
   "id": "3f8e2bcf",
   "metadata": {},
   "outputs": [],
   "source": [
    "import cufflinks as cf"
   ]
  },
  {
   "cell_type": "code",
   "execution_count": 12,
   "id": "736da543",
   "metadata": {},
   "outputs": [],
   "source": [
    "from plotly.offline import download_plotlyjs,init_notebook_mode,plot,iplot"
   ]
  },
  {
   "cell_type": "code",
   "execution_count": 13,
   "id": "71d66c90",
   "metadata": {},
   "outputs": [
    {
     "data": {
      "text/html": [
       "        <script type=\"text/javascript\">\n",
       "        window.PlotlyConfig = {MathJaxConfig: 'local'};\n",
       "        if (window.MathJax) {MathJax.Hub.Config({SVG: {font: \"STIX-Web\"}});}\n",
       "        if (typeof require !== 'undefined') {\n",
       "        require.undef(\"plotly\");\n",
       "        requirejs.config({\n",
       "            paths: {\n",
       "                'plotly': ['https://cdn.plot.ly/plotly-2.9.0.min']\n",
       "            }\n",
       "        });\n",
       "        require(['plotly'], function(Plotly) {\n",
       "            window._Plotly = Plotly;\n",
       "        });\n",
       "        }\n",
       "        </script>\n",
       "        "
      ]
     },
     "metadata": {},
     "output_type": "display_data"
    }
   ],
   "source": [
    "# it will connect javascript to notebook\n",
    "init_notebook_mode(connected=True)"
   ]
  },
  {
   "cell_type": "code",
   "execution_count": 15,
   "id": "315cdcd5",
   "metadata": {},
   "outputs": [
    {
     "data": {
      "text/html": [
       "        <script type=\"text/javascript\">\n",
       "        window.PlotlyConfig = {MathJaxConfig: 'local'};\n",
       "        if (window.MathJax) {MathJax.Hub.Config({SVG: {font: \"STIX-Web\"}});}\n",
       "        if (typeof require !== 'undefined') {\n",
       "        require.undef(\"plotly\");\n",
       "        requirejs.config({\n",
       "            paths: {\n",
       "                'plotly': ['https://cdn.plot.ly/plotly-2.9.0.min']\n",
       "            }\n",
       "        });\n",
       "        require(['plotly'], function(Plotly) {\n",
       "            window._Plotly = Plotly;\n",
       "        });\n",
       "        }\n",
       "        </script>\n",
       "        "
      ]
     },
     "metadata": {},
     "output_type": "display_data"
    }
   ],
   "source": [
    "#this allows to cufflinks to go offline\n",
    "cf.go_offline()"
   ]
  },
  {
   "cell_type": "code",
   "execution_count": 17,
   "id": "f49d1365",
   "metadata": {},
   "outputs": [],
   "source": [
    "#data\n",
    "df= pd.DataFrame(np.random.randn(100,4),columns='A B C D'.split())"
   ]
  },
  {
   "cell_type": "code",
   "execution_count": 18,
   "id": "b4f1d4c4",
   "metadata": {},
   "outputs": [
    {
     "data": {
      "text/html": [
       "<div>\n",
       "<style scoped>\n",
       "    .dataframe tbody tr th:only-of-type {\n",
       "        vertical-align: middle;\n",
       "    }\n",
       "\n",
       "    .dataframe tbody tr th {\n",
       "        vertical-align: top;\n",
       "    }\n",
       "\n",
       "    .dataframe thead th {\n",
       "        text-align: right;\n",
       "    }\n",
       "</style>\n",
       "<table border=\"1\" class=\"dataframe\">\n",
       "  <thead>\n",
       "    <tr style=\"text-align: right;\">\n",
       "      <th></th>\n",
       "      <th>A</th>\n",
       "      <th>B</th>\n",
       "      <th>C</th>\n",
       "      <th>D</th>\n",
       "    </tr>\n",
       "  </thead>\n",
       "  <tbody>\n",
       "    <tr>\n",
       "      <th>0</th>\n",
       "      <td>1.384941</td>\n",
       "      <td>-0.117946</td>\n",
       "      <td>1.940148</td>\n",
       "      <td>-0.232607</td>\n",
       "    </tr>\n",
       "    <tr>\n",
       "      <th>1</th>\n",
       "      <td>-0.364787</td>\n",
       "      <td>1.269779</td>\n",
       "      <td>-1.239733</td>\n",
       "      <td>-0.107457</td>\n",
       "    </tr>\n",
       "    <tr>\n",
       "      <th>2</th>\n",
       "      <td>-1.613378</td>\n",
       "      <td>-2.167616</td>\n",
       "      <td>-1.018676</td>\n",
       "      <td>0.730167</td>\n",
       "    </tr>\n",
       "    <tr>\n",
       "      <th>3</th>\n",
       "      <td>-0.129205</td>\n",
       "      <td>-0.248571</td>\n",
       "      <td>-0.335479</td>\n",
       "      <td>-0.808655</td>\n",
       "    </tr>\n",
       "    <tr>\n",
       "      <th>4</th>\n",
       "      <td>-0.630003</td>\n",
       "      <td>0.404607</td>\n",
       "      <td>-1.369955</td>\n",
       "      <td>-0.380893</td>\n",
       "    </tr>\n",
       "  </tbody>\n",
       "</table>\n",
       "</div>"
      ],
      "text/plain": [
       "          A         B         C         D\n",
       "0  1.384941 -0.117946  1.940148 -0.232607\n",
       "1 -0.364787  1.269779 -1.239733 -0.107457\n",
       "2 -1.613378 -2.167616 -1.018676  0.730167\n",
       "3 -0.129205 -0.248571 -0.335479 -0.808655\n",
       "4 -0.630003  0.404607 -1.369955 -0.380893"
      ]
     },
     "execution_count": 18,
     "metadata": {},
     "output_type": "execute_result"
    }
   ],
   "source": [
    "df.head()"
   ]
  },
  {
   "cell_type": "code",
   "execution_count": 19,
   "id": "2c497e69",
   "metadata": {},
   "outputs": [],
   "source": [
    "df2=pd.DataFrame({'Category':['A','B','C'],'Values':[32,43,50]})"
   ]
  },
  {
   "cell_type": "code",
   "execution_count": 20,
   "id": "933f304c",
   "metadata": {},
   "outputs": [
    {
     "data": {
      "text/html": [
       "<div>\n",
       "<style scoped>\n",
       "    .dataframe tbody tr th:only-of-type {\n",
       "        vertical-align: middle;\n",
       "    }\n",
       "\n",
       "    .dataframe tbody tr th {\n",
       "        vertical-align: top;\n",
       "    }\n",
       "\n",
       "    .dataframe thead th {\n",
       "        text-align: right;\n",
       "    }\n",
       "</style>\n",
       "<table border=\"1\" class=\"dataframe\">\n",
       "  <thead>\n",
       "    <tr style=\"text-align: right;\">\n",
       "      <th></th>\n",
       "      <th>Category</th>\n",
       "      <th>Values</th>\n",
       "    </tr>\n",
       "  </thead>\n",
       "  <tbody>\n",
       "    <tr>\n",
       "      <th>0</th>\n",
       "      <td>A</td>\n",
       "      <td>32</td>\n",
       "    </tr>\n",
       "    <tr>\n",
       "      <th>1</th>\n",
       "      <td>B</td>\n",
       "      <td>43</td>\n",
       "    </tr>\n",
       "    <tr>\n",
       "      <th>2</th>\n",
       "      <td>C</td>\n",
       "      <td>50</td>\n",
       "    </tr>\n",
       "  </tbody>\n",
       "</table>\n",
       "</div>"
      ],
      "text/plain": [
       "  Category  Values\n",
       "0        A      32\n",
       "1        B      43\n",
       "2        C      50"
      ]
     },
     "execution_count": 20,
     "metadata": {},
     "output_type": "execute_result"
    }
   ],
   "source": [
    "df2"
   ]
  },
  {
   "cell_type": "code",
   "execution_count": 22,
   "id": "fdb16fe6",
   "metadata": {},
   "outputs": [
    {
     "data": {
      "text/plain": [
       "<AxesSubplot:>"
      ]
     },
     "execution_count": 22,
     "metadata": {},
     "output_type": "execute_result"
    },
    {
     "data": {
      "image/png": "[encoded data removed]",
      "text/plain": [
       "<Figure size 432x288 with 1 Axes>"
      ]
     },
     "metadata": {
      "needs_background": "light"
     },
     "output_type": "display_data"
    }
   ],
   "source": [
    "df.plot()"
   ]
  },
  {
   "cell_type": "code",
   "execution_count": 23,
   "id": "9a98a327",
   "metadata": {},
   "outputs": [
    {
     "data": {
      "application/vnd.plotly.v1+json": {
       "config": {
        "linkText": "Export to plot.ly",
        "plotlyServerURL": "https://plot.ly",
        "showLink": true
       },
       "data": [
        {
         "line": {
          "color": "rgba(255, 153, 51, 1.0)",
          "dash": "solid",
          "shape": "linear",
          "width": 1.3
         },
         "mode": "lines",
         "name": "A",
         "text": "",
         "type": "scatter",
         "x": [
          0,
          1,
          2,
          3,
          4,
          5,
          6,
          7,
          8,
          9,
          10,
          11,
          12,
          13,
          14,
          15,
          16,
          17,
          18,
          19,
          20,
          21,
          22,
          23,
          24,
          25,
          26,
          27,
          28,
          29,
          30,
          31,
          32,
          33,
          34,
          35,
          36,
          37,
          38,
          39,
          40,
          41,
          42,
          43,
          44,
          45,
          46,
          47,
          48,
          49,
          50,
          51,
          52,
          53,
          54,
          55,
          56,
          57,
          58,
          59,
          60,
          61,
          62,
          63,
          64,
          65,
          66,
          67,
          68,
          69,
          70,
          71,
          72,
          73,
          74,
          75,
          76,
          77,
          78,
          79,
          80,
          81,
          82,
          83,
          84,
          85,
          86,
          87,
          88,
          89,
          90,
          91,
          92,
          93,
          94,
          95,
          96,
          97,
          98,
          99
         ],
         "y": [
          1.384941095893982,
          -0.3647871044245467,
          -1.613377798789012,
          -0.12920481127577702,
          -0.6300029180423312,
          0.6955311102837984,
          -0.07774289928427856,
          -1.5481508917079352,
          0.3144299528461812,
          1.483756889675816,
          1.3631631851081898,
          0.3577161379182844,
          0.44425005373458687,
          -1.3026835005270772,
          0.8586317944028101,
          -0.12796403591939365,
          0.373209303997531,
          0.5869332431334456,
          0.4864253873475166,
          1.0756346615585344,
          -1.052001580878504,
          0.0906431802398545,
          1.0580572090375877,
          -0.9848808039026463,
          0.5513641846951675,
          1.1659210728519842,
          0.020314764012267873,
          0.3074031709948694,
          -0.23909296540380182,
          0.02171216478090794,
          -0.16254690733414418,
          -0.33711970357111226,
          0.8142846009651958,
          0.5807041935213351,
          1.517465474603419,
          2.64825109236516,
          0.9118993743273417,
          0.3344914818573978,
          -0.6980817050442862,
          -0.014535950295435083,
          -0.29814416383545383,
          -0.0017524875066887394,
          -1.1233972672402575,
          0.06762297707903585,
          -0.16466873420852687,
          -0.1795079343480467,
          -0.6751925963714834,
          2.006888382314444,
          -0.7838881243097859,
          0.9294115904771026,
          -1.058238874474584,
          0.6586637071443632,
          -0.37707299217026374,
          -0.13598986025585266,
          -1.4967184420595114,
          0.4153485006683915,
          0.24121216996263192,
          -3.092016438708254,
          -1.2219917686899848,
          0.8869662273854365,
          -1.0682780065598037,
          -1.2106122878269856,
          0.803250005443257,
          0.9877199560578738,
          -0.2258121665388722,
          0.13923967982184132,
          -0.22573522543316654,
          1.6171694614878647,
          0.5477551242136519,
          0.4420065170066808,
          0.06747036201760358,
          -1.641776468835695,
          -0.2876490151341459,
          0.3684314172007868,
          1.1306668046343704,
          -0.8340553638572694,
          0.6712547294009807,
          0.8197535903257653,
          0.2124039178122506,
          -0.5392633467972721,
          0.010110482279003876,
          0.958789971496834,
          -0.07020997545633594,
          0.33616891127553034,
          -0.3907482690955859,
          0.8806514736157832,
          0.31650766745412495,
          0.1448946459985747,
          0.27772853189609437,
          -0.4036166749778001,
          -0.2926052183646972,
          1.3491425878516692,
          -1.4689030081303354,
          1.43789556687664,
          -1.79323467847179,
          -0.17223590815000211,
          1.0094163974481396,
          -0.31501498808974,
          -0.3962647074563389,
          -2.0067551306542164
         ]
        },
        {
         "line": {
          "color": "rgba(55, 128, 191, 1.0)",
          "dash": "solid",
          "shape": "linear",
          "width": 1.3
         },
         "mode": "lines",
         "name": "B",
         "text": "",
         "type": "scatter",
         "x": [
          0,
          1,
          2,
          3,
          4,
          5,
          6,
          7,
          8,
          9,
          10,
          11,
          12,
          13,
          14,
          15,
          16,
          17,
          18,
          19,
          20,
          21,
          22,
          23,
          24,
          25,
          26,
          27,
          28,
          29,
          30,
          31,
          32,
          33,
          34,
          35,
          36,
          37,
          38,
          39,
          40,
          41,
          42,
          43,
          44,
          45,
          46,
          47,
          48,
          49,
          50,
          51,
          52,
          53,
          54,
          55,
          56,
          57,
          58,
          59,
          60,
          61,
          62,
          63,
          64,
          65,
          66,
          67,
          68,
          69,
          70,
          71,
          72,
          73,
          74,
          75,
          76,
          77,
          78,
          79,
          80,
          81,
          82,
          83,
          84,
          85,
          86,
          87,
          88,
          89,
          90,
          91,
          92,
          93,
          94,
          95,
          96,
          97,
          98,
          99
         ],
         "y": [
          -0.11794573212984044,
          1.2697792200547326,
          -2.1676156275817493,
          -0.24857109473288877,
          0.40460693442474416,
          1.6139280285149076,
          0.2360306035442598,
          -0.22602808881920358,
          0.057142677471569564,
          -0.7772782408575107,
          0.9429237937088079,
          0.20523204088664526,
          -0.7154259155847406,
          1.1964788967171962,
          1.1522379793062072,
          0.8376926086136763,
          1.3857641285531264,
          -1.2374578036932693,
          -1.7210512496642552,
          -0.2495034317564669,
          0.549318005327426,
          -1.1113590661117567,
          -1.4100862237170253,
          0.9532142588336986,
          -0.5315758547787328,
          0.026876504527802447,
          1.475296799480042,
          -0.05540255585344138,
          0.9422840651588723,
          -1.8656941194067982,
          0.7869650084081312,
          1.405011375883612,
          2.255057549388606,
          0.1462871105740621,
          -2.1847079312579747,
          -1.161172611275934,
          0.6196167217877991,
          0.11183036629305333,
          -0.05854992899036618,
          0.5065278797161682,
          0.175142247004244,
          1.095194809193081,
          2.6837799095371384,
          -0.012627706308564711,
          0.9660921024626176,
          0.6886580320242333,
          -1.0591087700884958,
          0.1104364113543046,
          2.372207831365576,
          -0.8860199351161889,
          1.086165799454149,
          -0.8626755672497495,
          -0.06868432104132013,
          -0.7200816182896868,
          0.4188150947497825,
          0.4228561041113086,
          -0.698445960962204,
          -0.6988310924554466,
          -0.6658491938730066,
          0.2958846261817548,
          -0.3507001784507818,
          0.647173773145682,
          -1.2328387228246311,
          1.0459553224352556,
          0.1231502442460987,
          0.6522703753362419,
          1.3888130593209138,
          0.10676669523311827,
          -1.8282146343099823,
          -0.9934128961933868,
          0.0391113792741524,
          -0.8611094358006953,
          0.41413313956819325,
          -1.4101986910835675,
          1.815049449469626,
          0.9231752547232016,
          0.17927969270330754,
          1.3991110254560424,
          -0.22439988703791916,
          -0.9325281027769723,
          1.434972285835641,
          0.41293299829143254,
          0.22260783277251583,
          -0.6284887586125657,
          -0.04186487356009881,
          -0.4049849380508509,
          1.0931210510758536,
          -0.9357279986842723,
          -0.8187865619869552,
          -2.177802400994987,
          0.38835428050347276,
          -0.138536009177223,
          1.3287017218425048,
          2.193100689061061,
          2.7502259232461843,
          -1.4807074423373137,
          0.27064831548673124,
          0.034154607417923276,
          -0.2738508186098899,
          -0.5388356081283091
         ]
        },
        {
         "line": {
          "color": "rgba(50, 171, 96, 1.0)",
          "dash": "solid",
          "shape": "linear",
          "width": 1.3
         },
         "mode": "lines",
         "name": "C",
         "text": "",
         "type": "scatter",
         "x": [
          0,
          1,
          2,
          3,
          4,
          5,
          6,
          7,
          8,
          9,
          10,
          11,
          12,
          13,
          14,
          15,
          16,
          17,
          18,
          19,
          20,
          21,
          22,
          23,
          24,
          25,
          26,
          27,
          28,
          29,
          30,
          31,
          32,
          33,
          34,
          35,
          36,
          37,
          38,
          39,
          40,
          41,
          42,
          43,
          44,
          45,
          46,
          47,
          48,
          49,
          50,
          51,
          52,
          53,
          54,
          55,
          56,
          57,
          58,
          59,
          60,
          61,
          62,
          63,
          64,
          65,
          66,
          67,
          68,
          69,
          70,
          71,
          72,
          73,
          74,
          75,
          76,
          77,
          78,
          79,
          80,
          81,
          82,
          83,
          84,
          85,
          86,
          87,
          88,
          89,
          90,
          91,
          92,
          93,
          94,
          95,
          96,
          97,
          98,
          99
         ],
         "y": [
          1.9401484848174453,
          -1.2397331297731549,
          -1.018675973013534,
          -0.33547878047215196,
          -1.3699549380833393,
          1.3810263767929065,
          0.7721843153431419,
          -0.7722237296090372,
          0.8486180756818512,
          1.7440433826405037,
          -0.08001824533932232,
          2.0661183345020007,
          0.04572602069072565,
          -1.0819021945413614,
          0.009085452996414885,
          -0.9878765751184702,
          0.37075917857625,
          0.25437485137637955,
          1.1841266827114045,
          -1.1453249365393527,
          0.5857775601891346,
          0.8710303685429346,
          -0.024783030100748008,
          0.6150492408405598,
          1.4716652952158042,
          -0.46758776423255266,
          -0.1588164476426438,
          -0.30304520129019064,
          -0.390934590087459,
          -0.24233821807824782,
          -0.8688043843960509,
          2.1365140455407627,
          0.4390931231504873,
          -1.4893614799515036,
          -2.4386452322949346,
          -1.1422505213045908,
          -1.4149163539103322,
          -0.013994673048110981,
          -2.034223797662766,
          1.4253019420988005,
          -2.0632544066807643,
          0.6996640900505026,
          0.5166100297666383,
          -1.071532965949633,
          -0.9051225166232557,
          -0.7934178460696767,
          -0.8224502512549449,
          0.15493335662541116,
          0.39500230090794575,
          0.8857418121756081,
          0.32000079106086377,
          -0.008234679363814059,
          0.49444038047693045,
          -0.7121015253712025,
          0.11159926839694684,
          -0.6397544473062552,
          -0.6297012892092753,
          -0.14708147193593385,
          -1.831759802918478,
          -1.132317223629694,
          0.8300459562443999,
          -0.5768572815494716,
          0.7256517351358649,
          0.315413301407352,
          0.2568963021893039,
          0.27725859353110416,
          -0.13520879790699447,
          -0.5648419203108074,
          -2.954018487536646,
          -0.940562870249268,
          -1.2466882336102456,
          -0.8033234119044046,
          0.26439271338445264,
          -0.21474918616508726,
          -0.39167546554283417,
          0.11783823012584817,
          -0.46125483724851585,
          1.328839452652975,
          3.1635328556243794,
          0.1034546363343562,
          -1.260959363985953,
          1.2107659875753456,
          1.3089355281014505,
          -0.08791413108196387,
          -0.3599472537742511,
          1.980076893144827,
          0.3797782251011386,
          -1.7519402263507402,
          -0.7082770903572351,
          -0.15113155411961024,
          0.43962501015970173,
          -0.20895860876046474,
          0.5546753479330597,
          0.1782227202309211,
          1.7531082352203122,
          -0.7415829058805974,
          -0.6266777912851297,
          0.6640612063767465,
          0.41009329778209624,
          0.6915880772218923
         ]
        },
        {
         "line": {
          "color": "rgba(128, 0, 128, 1.0)",
          "dash": "solid",
          "shape": "linear",
          "width": 1.3
         },
         "mode": "lines",
         "name": "D",
         "text": "",
         "type": "scatter",
         "x": [
          0,
          1,
          2,
          3,
          4,
          5,
          6,
          7,
          8,
          9,
          10,
          11,
          12,
          13,
          14,
          15,
          16,
          17,
          18,
          19,
          20,
          21,
          22,
          23,
          24,
          25,
          26,
          27,
          28,
          29,
          30,
          31,
          32,
          33,
          34,
          35,
          36,
          37,
          38,
          39,
          40,
          41,
          42,
          43,
          44,
          45,
          46,
          47,
          48,
          49,
          50,
          51,
          52,
          53,
          54,
          55,
          56,
          57,
          58,
          59,
          60,
          61,
          62,
          63,
          64,
          65,
          66,
          67,
          68,
          69,
          70,
          71,
          72,
          73,
          74,
          75,
          76,
          77,
          78,
          79,
          80,
          81,
          82,
          83,
          84,
          85,
          86,
          87,
          88,
          89,
          90,
          91,
          92,
          93,
          94,
          95,
          96,
          97,
          98,
          99
         ],
         "y": [
          -0.232607190972093,
          -0.10745682172545627,
          0.7301665782338982,
          -0.8086553985085576,
          -0.3808934345748271,
          -0.49728208115444156,
          -1.143202283557806,
          -0.00924216908427607,
          -0.5762292058604443,
          1.8107409045922969,
          -0.6429151459186503,
          -2.037122862243596,
          -1.1833441828811444,
          -0.2798311937972491,
          -2.3309295348858714,
          -1.181839359370192,
          0.9880300418287801,
          0.8556429383351365,
          1.1693382981537819,
          -1.3808702075475496,
          -0.18309447973892146,
          0.8438897509043974,
          1.581060734608897,
          -0.3596068422236975,
          0.13079908839655863,
          2.2113961251101677,
          -0.36346947498616455,
          -0.6800940270845436,
          1.1187059400934791,
          1.1043099757023331,
          -0.6823882796178447,
          -1.10897733367768,
          -1.6084453760231952,
          0.6398458111237544,
          -2.141650215025133,
          -0.629848221432961,
          -1.3459166652575534,
          0.9192082959941965,
          -0.5172725131310544,
          -0.8588962555419287,
          -0.09863404903046664,
          -1.804389501103032,
          -0.9593821912233614,
          1.0241520629708463,
          -0.6603271986227551,
          -0.26588194329921705,
          0.004759080754978136,
          0.34865477211306106,
          -0.3448425950988407,
          0.7842889066349303,
          1.3925201197443657,
          -0.3594709526907821,
          1.0618973955064497,
          0.14680351808446498,
          -1.7515468410520656,
          -0.6135423107048211,
          -0.9575148475814658,
          1.572687835401607,
          1.5922959327473496,
          1.2073779390002217,
          -0.36322906421417334,
          -2.0688991515179,
          1.1871757251508457,
          2.557928207241564,
          -0.1451521867356024,
          1.0728316273159937,
          0.5540363273931462,
          -0.8189397303937418,
          -0.2991846022135686,
          -0.5589151651974367,
          -1.5852563314699741,
          -1.0250545535826507,
          -0.7307299175017817,
          -1.7498252041560964,
          -1.7707723082582265,
          -0.10650969392090688,
          -1.4960048164865472,
          0.9058747618060715,
          -1.365560984520852,
          -0.5567782956347211,
          1.3349620404090474,
          -0.9921533022298292,
          -1.8561767161985299,
          -1.6961557334052646,
          0.26087038337192237,
          -1.087077580151142,
          -0.7672263733059088,
          -1.3359037825120874,
          -1.6155450718347866,
          -0.14483939598188197,
          0.4677086656212009,
          -0.35371284765311806,
          0.907492357905892,
          -0.39278850620491024,
          1.430034099034796,
          -0.1159178226728583,
          -0.8399729920788126,
          0.6935514209462399,
          -1.1970166117060872,
          -0.8287646619103597
         ]
        }
       ],
       "layout": {
        "legend": {
         "bgcolor": "#F5F6F9",
         "font": {
          "color": "#4D5663"
         }
        },
        "paper_bgcolor": "#F5F6F9",
        "plot_bgcolor": "#F5F6F9",
        "template": {
         "data": {
          "bar": [
           {
            "error_x": {
             "color": "#2a3f5f"
            },
            "error_y": {
             "color": "#2a3f5f"
            },
            "marker": {
             "line": {
              "color": "#E5ECF6",
              "width": 0.5
             },
             "pattern": {
              "fillmode": "overlay",
              "size": 10,
              "solidity": 0.2
             }
            },
            "type": "bar"
           }
          ],
          "barpolar": [
           {
            "marker": {
             "line": {
              "color": "#E5ECF6",
              "width": 0.5
             },
             "pattern": {
              "fillmode": "overlay",
              "size": 10,
              "solidity": 0.2
             }
            },
            "type": "barpolar"
           }
          ],
          "carpet": [
           {
            "aaxis": {
             "endlinecolor": "#2a3f5f",
             "gridcolor": "white",
             "linecolor": "white",
             "minorgridcolor": "white",
             "startlinecolor": "#2a3f5f"
            },
            "baxis": {
             "endlinecolor": "#2a3f5f",
             "gridcolor": "white",
             "linecolor": "white",
             "minorgridcolor": "white",
             "startlinecolor": "#2a3f5f"
            },
            "type": "carpet"
           }
          ],
          "choropleth": [
           {
            "colorbar": {
             "outlinewidth": 0,
             "ticks": ""
            },
            "type": "choropleth"
           }
          ],
          "contour": [
           {
            "colorbar": {
             "outlinewidth": 0,
             "ticks": ""
            },
            "colorscale": [
             [
              0,
              "#0d0887"
             ],
             [
              0.1111111111111111,
              "#46039f"
             ],
             [
              0.2222222222222222,
              "#7201a8"
             ],
             [
              0.3333333333333333,
              "#9c179e"
             ],
             [
              0.4444444444444444,
              "#bd3786"
             ],
             [
              0.5555555555555556,
              "#d8576b"
             ],
             [
              0.6666666666666666,
              "#ed7953"
             ],
             [
              0.7777777777777778,
              "#fb9f3a"
             ],
             [
              0.8888888888888888,
              "#fdca26"
             ],
             [
              1,
              "#f0f921"
             ]
            ],
            "type": "contour"
           }
          ],
          "contourcarpet": [
           {
            "colorbar": {
             "outlinewidth": 0,
             "ticks": ""
            },
            "type": "contourcarpet"
           }
          ],
          "heatmap": [
           {
            "colorbar": {
             "outlinewidth": 0,
             "ticks": ""
            },
            "colorscale": [
             [
              0,
              "#0d0887"
             ],
             [
              0.1111111111111111,
              "#46039f"
             ],
             [
              0.2222222222222222,
              "#7201a8"
             ],
             [
              0.3333333333333333,
              "#9c179e"
             ],
             [
              0.4444444444444444,
              "#bd3786"
             ],
             [
              0.5555555555555556,
              "#d8576b"
             ],
             [
              0.6666666666666666,
              "#ed7953"
             ],
             [
              0.7777777777777778,
              "#fb9f3a"
             ],
             [
              0.8888888888888888,
              "#fdca26"
             ],
             [
              1,
              "#f0f921"
             ]
            ],
            "type": "heatmap"
           }
          ],
          "heatmapgl": [
           {
            "colorbar": {
             "outlinewidth": 0,
             "ticks": ""
            },
            "colorscale": [
             [
              0,
              "#0d0887"
             ],
             [
              0.1111111111111111,
              "#46039f"
             ],
             [
              0.2222222222222222,
              "#7201a8"
             ],
             [
              0.3333333333333333,
              "#9c179e"
             ],
             [
              0.4444444444444444,
              "#bd3786"
             ],
             [
              0.5555555555555556,
              "#d8576b"
             ],
             [
              0.6666666666666666,
              "#ed7953"
             ],
             [
              0.7777777777777778,
              "#fb9f3a"
             ],
             [
              0.8888888888888888,
              "#fdca26"
             ],
             [
              1,
              "#f0f921"
             ]
            ],
            "type": "heatmapgl"
           }
          ],
          "histogram": [
           {
            "marker": {
             "pattern": {
              "fillmode": "overlay",
              "size": 10,
              "solidity": 0.2
             }
            },
            "type": "histogram"
           }
          ],
          "histogram2d": [
           {
            "colorbar": {
             "outlinewidth": 0,
             "ticks": ""
            },
            "colorscale": [
             [
              0,
              "#0d0887"
             ],
             [
              0.1111111111111111,
              "#46039f"
             ],
             [
              0.2222222222222222,
              "#7201a8"
             ],
             [
              0.3333333333333333,
              "#9c179e"
             ],
             [
              0.4444444444444444,
              "#bd3786"
             ],
             [
              0.5555555555555556,
              "#d8576b"
             ],
             [
              0.6666666666666666,
              "#ed7953"
             ],
             [
              0.7777777777777778,
              "#fb9f3a"
             ],
             [
              0.8888888888888888,
              "#fdca26"
             ],
             [
              1,
              "#f0f921"
             ]
            ],
            "type": "histogram2d"
           }
          ],
          "histogram2dcontour": [
           {
            "colorbar": {
             "outlinewidth": 0,
             "ticks": ""
            },
            "colorscale": [
             [
              0,
              "#0d0887"
             ],
             [
              0.1111111111111111,
              "#46039f"
             ],
             [
              0.2222222222222222,
              "#7201a8"
             ],
             [
              0.3333333333333333,
              "#9c179e"
             ],
             [
              0.4444444444444444,
              "#bd3786"
             ],
             [
              0.5555555555555556,
              "#d8576b"
             ],
             [
              0.6666666666666666,
              "#ed7953"
             ],
             [
              0.7777777777777778,
              "#fb9f3a"
             ],
             [
              0.8888888888888888,
              "#fdca26"
             ],
             [
              1,
              "#f0f921"
             ]
            ],
            "type": "histogram2dcontour"
           }
          ],
          "mesh3d": [
           {
            "colorbar": {
             "outlinewidth": 0,
             "ticks": ""
            },
            "type": "mesh3d"
           }
          ],
          "parcoords": [
           {
            "line": {
             "colorbar": {
              "outlinewidth": 0,
              "ticks": ""
             }
            },
            "type": "parcoords"
           }
          ],
          "pie": [
           {
            "automargin": true,
            "type": "pie"
           }
          ],
          "scatter": [
           {
            "marker": {
             "colorbar": {
              "outlinewidth": 0,
              "ticks": ""
             }
            },
            "type": "scatter"
           }
          ],
          "scatter3d": [
           {
            "line": {
             "colorbar": {
              "outlinewidth": 0,
              "ticks": ""
             }
            },
            "marker": {
             "colorbar": {
              "outlinewidth": 0,
              "ticks": ""
             }
            },
            "type": "scatter3d"
           }
          ],
          "scattercarpet": [
           {
            "marker": {
             "colorbar": {
              "outlinewidth": 0,
              "ticks": ""
             }
            },
            "type": "scattercarpet"
           }
          ],
          "scattergeo": [
           {
            "marker": {
             "colorbar": {
              "outlinewidth": 0,
              "ticks": ""
             }
            },
            "type": "scattergeo"
           }
          ],
          "scattergl": [
           {
            "marker": {
             "colorbar": {
              "outlinewidth": 0,
              "ticks": ""
             }
            },
            "type": "scattergl"
           }
          ],
          "scattermapbox": [
           {
            "marker": {
             "colorbar": {
              "outlinewidth": 0,
              "ticks": ""
             }
            },
            "type": "scattermapbox"
           }
          ],
          "scatterpolar": [
           {
            "marker": {
             "colorbar": {
              "outlinewidth": 0,
              "ticks": ""
             }
            },
            "type": "scatterpolar"
           }
          ],
          "scatterpolargl": [
           {
            "marker": {
             "colorbar": {
              "outlinewidth": 0,
              "ticks": ""
             }
            },
            "type": "scatterpolargl"
           }
          ],
          "scatterternary": [
           {
            "marker": {
             "colorbar": {
              "outlinewidth": 0,
              "ticks": ""
             }
            },
            "type": "scatterternary"
           }
          ],
          "surface": [
           {
            "colorbar": {
             "outlinewidth": 0,
             "ticks": ""
            },
            "colorscale": [
             [
              0,
              "#0d0887"
             ],
             [
              0.1111111111111111,
              "#46039f"
             ],
             [
              0.2222222222222222,
              "#7201a8"
             ],
             [
              0.3333333333333333,
              "#9c179e"
             ],
             [
              0.4444444444444444,
              "#bd3786"
             ],
             [
              0.5555555555555556,
              "#d8576b"
             ],
             [
              0.6666666666666666,
              "#ed7953"
             ],
             [
              0.7777777777777778,
              "#fb9f3a"
             ],
             [
              0.8888888888888888,
              "#fdca26"
             ],
             [
              1,
              "#f0f921"
             ]
            ],
            "type": "surface"
           }
          ],
          "table": [
           {
            "cells": {
             "fill": {
              "color": "#EBF0F8"
             },
             "line": {
              "color": "white"
             }
            },
            "header": {
             "fill": {
              "color": "#C8D4E3"
             },
             "line": {
              "color": "white"
             }
            },
            "type": "table"
           }
          ]
         },
         "layout": {
          "annotationdefaults": {
           "arrowcolor": "#2a3f5f",
           "arrowhead": 0,
           "arrowwidth": 1
          },
          "autotypenumbers": "strict",
          "coloraxis": {
           "colorbar": {
            "outlinewidth": 0,
            "ticks": ""
           }
          },
          "colorscale": {
           "diverging": [
            [
             0,
             "#8e0152"
            ],
            [
             0.1,
             "#c51b7d"
            ],
            [
             0.2,
             "#de77ae"
            ],
            [
             0.3,
             "#f1b6da"
            ],
            [
             0.4,
             "#fde0ef"
            ],
            [
             0.5,
             "#f7f7f7"
            ],
            [
             0.6,
             "#e6f5d0"
            ],
            [
             0.7,
             "#b8e186"
            ],
            [
             0.8,
             "#7fbc41"
            ],
            [
             0.9,
             "#4d9221"
            ],
            [
             1,
             "#276419"
            ]
           ],
           "sequential": [
            [
             0,
             "#0d0887"
            ],
            [
             0.1111111111111111,
             "#46039f"
            ],
            [
             0.2222222222222222,
             "#7201a8"
            ],
            [
             0.3333333333333333,
             "#9c179e"
            ],
            [
             0.4444444444444444,
             "#bd3786"
            ],
            [
             0.5555555555555556,
             "#d8576b"
            ],
            [
             0.6666666666666666,
             "#ed7953"
            ],
            [
             0.7777777777777778,
             "#fb9f3a"
            ],
            [
             0.8888888888888888,
             "#fdca26"
            ],
            [
             1,
             "#f0f921"
            ]
           ],
           "sequentialminus": [
            [
             0,
             "#0d0887"
            ],
            [
             0.1111111111111111,
             "#46039f"
            ],
            [
             0.2222222222222222,
             "#7201a8"
            ],
            [
             0.3333333333333333,
             "#9c179e"
            ],
            [
             0.4444444444444444,
             "#bd3786"
            ],
            [
             0.5555555555555556,
             "#d8576b"
            ],
            [
             0.6666666666666666,
             "#ed7953"
            ],
            [
             0.7777777777777778,
             "#fb9f3a"
            ],
            [
             0.8888888888888888,
             "#fdca26"
            ],
            [
             1,
             "#f0f921"
            ]
           ]
          },
          "colorway": [
           "#636efa",
           "#EF553B",
           "#00cc96",
           "#ab63fa",
           "#FFA15A",
           "#19d3f3",
           "#FF6692",
           "#B6E880",
           "#FF97FF",
           "#FECB52"
          ],
          "font": {
           "color": "#2a3f5f"
          },
          "geo": {
           "bgcolor": "white",
           "lakecolor": "white",
           "landcolor": "#E5ECF6",
           "showlakes": true,
           "showland": true,
           "subunitcolor": "white"
          },
          "hoverlabel": {
           "align": "left"
          },
          "hovermode": "closest",
          "mapbox": {
           "style": "light"
          },
          "paper_bgcolor": "white",
          "plot_bgcolor": "#E5ECF6",
          "polar": {
           "angularaxis": {
            "gridcolor": "white",
            "linecolor": "white",
            "ticks": ""
           },
           "bgcolor": "#E5ECF6",
           "radialaxis": {
            "gridcolor": "white",
            "linecolor": "white",
            "ticks": ""
           }
          },
          "scene": {
           "xaxis": {
            "backgroundcolor": "#E5ECF6",
            "gridcolor": "white",
            "gridwidth": 2,
            "linecolor": "white",
            "showbackground": true,
            "ticks": "",
            "zerolinecolor": "white"
           },
           "yaxis": {
            "backgroundcolor": "#E5ECF6",
            "gridcolor": "white",
            "gridwidth": 2,
            "linecolor": "white",
            "showbackground": true,
            "ticks": "",
            "zerolinecolor": "white"
           },
           "zaxis": {
            "backgroundcolor": "#E5ECF6",
            "gridcolor": "white",
            "gridwidth": 2,
            "linecolor": "white",
            "showbackground": true,
            "ticks": "",
            "zerolinecolor": "white"
           }
          },
          "shapedefaults": {
           "line": {
            "color": "#2a3f5f"
           }
          },
          "ternary": {
           "aaxis": {
            "gridcolor": "white",
            "linecolor": "white",
            "ticks": ""
           },
           "baxis": {
            "gridcolor": "white",
            "linecolor": "white",
            "ticks": ""
           },
           "bgcolor": "#E5ECF6",
           "caxis": {
            "gridcolor": "white",
            "linecolor": "white",
            "ticks": ""
           }
          },
          "title": {
           "x": 0.05
          },
          "xaxis": {
           "automargin": true,
           "gridcolor": "white",
           "linecolor": "white",
           "ticks": "",
           "title": {
            "standoff": 15
           },
           "zerolinecolor": "white",
           "zerolinewidth": 2
          },
          "yaxis": {
           "automargin": true,
           "gridcolor": "white",
           "linecolor": "white",
           "ticks": "",
           "title": {
            "standoff": 15
           },
           "zerolinecolor": "white",
           "zerolinewidth": 2
          }
         }
        },
        "title": {
         "font": {
          "color": "#4D5663"
         }
        },
        "xaxis": {
         "gridcolor": "#E1E5ED",
         "showgrid": true,
         "tickfont": {
          "color": "#4D5663"
         },
         "title": {
          "font": {
           "color": "#4D5663"
          },
          "text": ""
         },
         "zerolinecolor": "#E1E5ED"
        },
        "yaxis": {
         "gridcolor": "#E1E5ED",
         "showgrid": true,
         "tickfont": {
          "color": "#4D5663"
         },
         "title": {
          "font": {
           "color": "#4D5663"
          },
          "text": ""
         },
         "zerolinecolor": "#E1E5ED"
        }
       }
      },
      "text/html": [
       "<div>                            <div id=\"97d26e0c-4715-4055-9310-ca0f4c184853\" class=\"plotly-graph-div\" style=\"height:525px; width:100%;\"></div>            <script type=\"text/javascript\">                require([\"plotly\"], function(Plotly) {                    window.PLOTLYENV=window.PLOTLYENV || {};\n",
       "                    window.PLOTLYENV.BASE_URL='https://plot.ly';                                    if (document.getElementById(\"97d26e0c-4715-4055-9310-ca0f4c184853\")) {                    Plotly.newPlot(                        \"97d26e0c-4715-4055-9310-ca0f4c184853\",                        [{\"line\":{\"color\":\"rgba(255, 153, 51, 1.0)\",\"dash\":\"solid\",\"shape\":\"linear\",\"width\":1.3},\"mode\":\"lines\",\"name\":\"A\",\"text\":\"\",\"x\":[0,1,2,3,4,5,6,7,8,9,10,11,12,13,14,15,16,17,18,19,20,21,22,23,24,25,26,27,28,29,30,31,32,33,34,35,36,37,38,39,40,41,42,43,44,45,46,47,48,49,50,51,52,53,54,55,56,57,58,59,60,61,62,63,64,65,66,67,68,69,70,71,72,73,74,75,76,77,78,79,80,81,82,83,84,85,86,87,88,89,90,91,92,93,94,95,96,97,98,99],\"y\":[1.384941095893982,-0.3647871044245467,-1.613377798789012,-0.12920481127577702,-0.6300029180423312,0.6955311102837984,-0.07774289928427856,-1.5481508917079352,0.3144299528461812,1.483756889675816,1.3631631851081898,0.3577161379182844,0.44425005373458687,-1.3026835005270772,0.8586317944028101,-0.12796403591939365,0.373209303997531,0.5869332431334456,0.4864253873475166,1.0756346615585344,-1.052001580878504,0.0906431802398545,1.0580572090375877,-0.9848808039026463,0.5513641846951675,1.1659210728519842,0.020314764012267873,0.3074031709948694,-0.23909296540380182,0.02171216478090794,-0.16254690733414418,-0.33711970357111226,0.8142846009651958,0.5807041935213351,1.517465474603419,2.64825109236516,0.9118993743273417,0.3344914818573978,-0.6980817050442862,-0.014535950295435083,-0.29814416383545383,-0.0017524875066887394,-1.1233972672402575,0.06762297707903585,-0.16466873420852687,-0.1795079343480467,-0.6751925963714834,2.006888382314444,-0.7838881243097859,0.9294115904771026,-1.058238874474584,0.6586637071443632,-0.37707299217026374,-0.13598986025585266,-1.4967184420595114,0.4153485006683915,0.24121216996263192,-3.092016438708254,-1.2219917686899848,0.8869662273854365,-1.0682780065598037,-1.2106122878269856,0.803250005443257,0.9877199560578738,-0.2258121665388722,0.13923967982184132,-0.22573522543316654,1.6171694614878647,0.5477551242136519,0.4420065170066808,0.06747036201760358,-1.641776468835695,-0.2876490151341459,0.3684314172007868,1.1306668046343704,-0.8340553638572694,0.6712547294009807,0.8197535903257653,0.2124039178122506,-0.5392633467972721,0.010110482279003876,0.958789971496834,-0.07020997545633594,0.33616891127553034,-0.3907482690955859,0.8806514736157832,0.31650766745412495,0.1448946459985747,0.27772853189609437,-0.4036166749778001,-0.2926052183646972,1.3491425878516692,-1.4689030081303354,1.43789556687664,-1.79323467847179,-0.17223590815000211,1.0094163974481396,-0.31501498808974,-0.3962647074563389,-2.0067551306542164],\"type\":\"scatter\"},{\"line\":{\"color\":\"rgba(55, 128, 191, 1.0)\",\"dash\":\"solid\",\"shape\":\"linear\",\"width\":1.3},\"mode\":\"lines\",\"name\":\"B\",\"text\":\"\",\"x\":[0,1,2,3,4,5,6,7,8,9,10,11,12,13,14,15,16,17,18,19,20,21,22,23,24,25,26,27,28,29,30,31,32,33,34,35,36,37,38,39,40,41,42,43,44,45,46,47,48,49,50,51,52,53,54,55,56,57,58,59,60,61,62,63,64,65,66,67,68,69,70,71,72,73,74,75,76,77,78,79,80,81,82,83,84,85,86,87,88,89,90,91,92,93,94,95,96,97,98,99],\"y\":[-0.11794573212984044,1.2697792200547326,-2.1676156275817493,-0.24857109473288877,0.40460693442474416,1.6139280285149076,0.2360306035442598,-0.22602808881920358,0.057142677471569564,-0.7772782408575107,0.9429237937088079,0.20523204088664526,-0.7154259155847406,1.1964788967171962,1.1522379793062072,0.8376926086136763,1.3857641285531264,-1.2374578036932693,-1.7210512496642552,-0.2495034317564669,0.549318005327426,-1.1113590661117567,-1.4100862237170253,0.9532142588336986,-0.5315758547787328,0.026876504527802447,1.475296799480042,-0.05540255585344138,0.9422840651588723,-1.8656941194067982,0.7869650084081312,1.405011375883612,2.255057549388606,0.1462871105740621,-2.1847079312579747,-1.161172611275934,0.6196167217877991,0.11183036629305333,-0.05854992899036618,0.5065278797161682,0.175142247004244,1.095194809193081,2.6837799095371384,-0.012627706308564711,0.9660921024626176,0.6886580320242333,-1.0591087700884958,0.1104364113543046,2.372207831365576,-0.8860199351161889,1.086165799454149,-0.8626755672497495,-0.06868432104132013,-0.7200816182896868,0.4188150947497825,0.4228561041113086,-0.698445960962204,-0.6988310924554466,-0.6658491938730066,0.2958846261817548,-0.3507001784507818,0.647173773145682,-1.2328387228246311,1.0459553224352556,0.1231502442460987,0.6522703753362419,1.3888130593209138,0.10676669523311827,-1.8282146343099823,-0.9934128961933868,0.0391113792741524,-0.8611094358006953,0.41413313956819325,-1.4101986910835675,1.815049449469626,0.9231752547232016,0.17927969270330754,1.3991110254560424,-0.22439988703791916,-0.9325281027769723,1.434972285835641,0.41293299829143254,0.22260783277251583,-0.6284887586125657,-0.04186487356009881,-0.4049849380508509,1.0931210510758536,-0.9357279986842723,-0.8187865619869552,-2.177802400994987,0.38835428050347276,-0.138536009177223,1.3287017218425048,2.193100689061061,2.7502259232461843,-1.4807074423373137,0.27064831548673124,0.034154607417923276,-0.2738508186098899,-0.5388356081283091],\"type\":\"scatter\"},{\"line\":{\"color\":\"rgba(50, 171, 96, 1.0)\",\"dash\":\"solid\",\"shape\":\"linear\",\"width\":1.3},\"mode\":\"lines\",\"name\":\"C\",\"text\":\"\",\"x\":[0,1,2,3,4,5,6,7,8,9,10,11,12,13,14,15,16,17,18,19,20,21,22,23,24,25,26,27,28,29,30,31,32,33,34,35,36,37,38,39,40,41,42,43,44,45,46,47,48,49,50,51,52,53,54,55,56,57,58,59,60,61,62,63,64,65,66,67,68,69,70,71,72,73,74,75,76,77,78,79,80,81,82,83,84,85,86,87,88,89,90,91,92,93,94,95,96,97,98,99],\"y\":[1.9401484848174453,-1.2397331297731549,-1.018675973013534,-0.33547878047215196,-1.3699549380833393,1.3810263767929065,0.7721843153431419,-0.7722237296090372,0.8486180756818512,1.7440433826405037,-0.08001824533932232,2.0661183345020007,0.04572602069072565,-1.0819021945413614,0.009085452996414885,-0.9878765751184702,0.37075917857625,0.25437485137637955,1.1841266827114045,-1.1453249365393527,0.5857775601891346,0.8710303685429346,-0.024783030100748008,0.6150492408405598,1.4716652952158042,-0.46758776423255266,-0.1588164476426438,-0.30304520129019064,-0.390934590087459,-0.24233821807824782,-0.8688043843960509,2.1365140455407627,0.4390931231504873,-1.4893614799515036,-2.4386452322949346,-1.1422505213045908,-1.4149163539103322,-0.013994673048110981,-2.034223797662766,1.4253019420988005,-2.0632544066807643,0.6996640900505026,0.5166100297666383,-1.071532965949633,-0.9051225166232557,-0.7934178460696767,-0.8224502512549449,0.15493335662541116,0.39500230090794575,0.8857418121756081,0.32000079106086377,-0.008234679363814059,0.49444038047693045,-0.7121015253712025,0.11159926839694684,-0.6397544473062552,-0.6297012892092753,-0.14708147193593385,-1.831759802918478,-1.132317223629694,0.8300459562443999,-0.5768572815494716,0.7256517351358649,0.315413301407352,0.2568963021893039,0.27725859353110416,-0.13520879790699447,-0.5648419203108074,-2.954018487536646,-0.940562870249268,-1.2466882336102456,-0.8033234119044046,0.26439271338445264,-0.21474918616508726,-0.39167546554283417,0.11783823012584817,-0.46125483724851585,1.328839452652975,3.1635328556243794,0.1034546363343562,-1.260959363985953,1.2107659875753456,1.3089355281014505,-0.08791413108196387,-0.3599472537742511,1.980076893144827,0.3797782251011386,-1.7519402263507402,-0.7082770903572351,-0.15113155411961024,0.43962501015970173,-0.20895860876046474,0.5546753479330597,0.1782227202309211,1.7531082352203122,-0.7415829058805974,-0.6266777912851297,0.6640612063767465,0.41009329778209624,0.6915880772218923],\"type\":\"scatter\"},{\"line\":{\"color\":\"rgba(128, 0, 128, 1.0)\",\"dash\":\"solid\",\"shape\":\"linear\",\"width\":1.3},\"mode\":\"lines\",\"name\":\"D\",\"text\":\"\",\"x\":[0,1,2,3,4,5,6,7,8,9,10,11,12,13,14,15,16,17,18,19,20,21,22,23,24,25,26,27,28,29,30,31,32,33,34,35,36,37,38,39,40,41,42,43,44,45,46,47,48,49,50,51,52,53,54,55,56,57,58,59,60,61,62,63,64,65,66,67,68,69,70,71,72,73,74,75,76,77,78,79,80,81,82,83,84,85,86,87,88,89,90,91,92,93,94,95,96,97,98,99],\"y\":[-0.232607190972093,-0.10745682172545627,0.7301665782338982,-0.8086553985085576,-0.3808934345748271,-0.49728208115444156,-1.143202283557806,-0.00924216908427607,-0.5762292058604443,1.8107409045922969,-0.6429151459186503,-2.037122862243596,-1.1833441828811444,-0.2798311937972491,-2.3309295348858714,-1.181839359370192,0.9880300418287801,0.8556429383351365,1.1693382981537819,-1.3808702075475496,-0.18309447973892146,0.8438897509043974,1.581060734608897,-0.3596068422236975,0.13079908839655863,2.2113961251101677,-0.36346947498616455,-0.6800940270845436,1.1187059400934791,1.1043099757023331,-0.6823882796178447,-1.10897733367768,-1.6084453760231952,0.6398458111237544,-2.141650215025133,-0.629848221432961,-1.3459166652575534,0.9192082959941965,-0.5172725131310544,-0.8588962555419287,-0.09863404903046664,-1.804389501103032,-0.9593821912233614,1.0241520629708463,-0.6603271986227551,-0.26588194329921705,0.004759080754978136,0.34865477211306106,-0.3448425950988407,0.7842889066349303,1.3925201197443657,-0.3594709526907821,1.0618973955064497,0.14680351808446498,-1.7515468410520656,-0.6135423107048211,-0.9575148475814658,1.572687835401607,1.5922959327473496,1.2073779390002217,-0.36322906421417334,-2.0688991515179,1.1871757251508457,2.557928207241564,-0.1451521867356024,1.0728316273159937,0.5540363273931462,-0.8189397303937418,-0.2991846022135686,-0.5589151651974367,-1.5852563314699741,-1.0250545535826507,-0.7307299175017817,-1.7498252041560964,-1.7707723082582265,-0.10650969392090688,-1.4960048164865472,0.9058747618060715,-1.365560984520852,-0.5567782956347211,1.3349620404090474,-0.9921533022298292,-1.8561767161985299,-1.6961557334052646,0.26087038337192237,-1.087077580151142,-0.7672263733059088,-1.3359037825120874,-1.6155450718347866,-0.14483939598188197,0.4677086656212009,-0.35371284765311806,0.907492357905892,-0.39278850620491024,1.430034099034796,-0.1159178226728583,-0.8399729920788126,0.6935514209462399,-1.1970166117060872,-0.8287646619103597],\"type\":\"scatter\"}],                        {\"legend\":{\"bgcolor\":\"#F5F6F9\",\"font\":{\"color\":\"#4D5663\"}},\"paper_bgcolor\":\"#F5F6F9\",\"plot_bgcolor\":\"#F5F6F9\",\"template\":{\"data\":{\"barpolar\":[{\"marker\":{\"line\":{\"color\":\"#E5ECF6\",\"width\":0.5},\"pattern\":{\"fillmode\":\"overlay\",\"size\":10,\"solidity\":0.2}},\"type\":\"barpolar\"}],\"bar\":[{\"error_x\":{\"color\":\"#2a3f5f\"},\"error_y\":{\"color\":\"#2a3f5f\"},\"marker\":{\"line\":{\"color\":\"#E5ECF6\",\"width\":0.5},\"pattern\":{\"fillmode\":\"overlay\",\"size\":10,\"solidity\":0.2}},\"type\":\"bar\"}],\"carpet\":[{\"aaxis\":{\"endlinecolor\":\"#2a3f5f\",\"gridcolor\":\"white\",\"linecolor\":\"white\",\"minorgridcolor\":\"white\",\"startlinecolor\":\"#2a3f5f\"},\"baxis\":{\"endlinecolor\":\"#2a3f5f\",\"gridcolor\":\"white\",\"linecolor\":\"white\",\"minorgridcolor\":\"white\",\"startlinecolor\":\"#2a3f5f\"},\"type\":\"carpet\"}],\"choropleth\":[{\"colorbar\":{\"outlinewidth\":0,\"ticks\":\"\"},\"type\":\"choropleth\"}],\"contourcarpet\":[{\"colorbar\":{\"outlinewidth\":0,\"ticks\":\"\"},\"type\":\"contourcarpet\"}],\"contour\":[{\"colorbar\":{\"outlinewidth\":0,\"ticks\":\"\"},\"colorscale\":[[0.0,\"#0d0887\"],[0.1111111111111111,\"#46039f\"],[0.2222222222222222,\"#7201a8\"],[0.3333333333333333,\"#9c179e\"],[0.4444444444444444,\"#bd3786\"],[0.5555555555555556,\"#d8576b\"],[0.6666666666666666,\"#ed7953\"],[0.7777777777777778,\"#fb9f3a\"],[0.8888888888888888,\"#fdca26\"],[1.0,\"#f0f921\"]],\"type\":\"contour\"}],\"heatmapgl\":[{\"colorbar\":{\"outlinewidth\":0,\"ticks\":\"\"},\"colorscale\":[[0.0,\"#0d0887\"],[0.1111111111111111,\"#46039f\"],[0.2222222222222222,\"#7201a8\"],[0.3333333333333333,\"#9c179e\"],[0.4444444444444444,\"#bd3786\"],[0.5555555555555556,\"#d8576b\"],[0.6666666666666666,\"#ed7953\"],[0.7777777777777778,\"#fb9f3a\"],[0.8888888888888888,\"#fdca26\"],[1.0,\"#f0f921\"]],\"type\":\"heatmapgl\"}],\"heatmap\":[{\"colorbar\":{\"outlinewidth\":0,\"ticks\":\"\"},\"colorscale\":[[0.0,\"#0d0887\"],[0.1111111111111111,\"#46039f\"],[0.2222222222222222,\"#7201a8\"],[0.3333333333333333,\"#9c179e\"],[0.4444444444444444,\"#bd3786\"],[0.5555555555555556,\"#d8576b\"],[0.6666666666666666,\"#ed7953\"],[0.7777777777777778,\"#fb9f3a\"],[0.8888888888888888,\"#fdca26\"],[1.0,\"#f0f921\"]],\"type\":\"heatmap\"}],\"histogram2dcontour\":[{\"colorbar\":{\"outlinewidth\":0,\"ticks\":\"\"},\"colorscale\":[[0.0,\"#0d0887\"],[0.1111111111111111,\"#46039f\"],[0.2222222222222222,\"#7201a8\"],[0.3333333333333333,\"#9c179e\"],[0.4444444444444444,\"#bd3786\"],[0.5555555555555556,\"#d8576b\"],[0.6666666666666666,\"#ed7953\"],[0.7777777777777778,\"#fb9f3a\"],[0.8888888888888888,\"#fdca26\"],[1.0,\"#f0f921\"]],\"type\":\"histogram2dcontour\"}],\"histogram2d\":[{\"colorbar\":{\"outlinewidth\":0,\"ticks\":\"\"},\"colorscale\":[[0.0,\"#0d0887\"],[0.1111111111111111,\"#46039f\"],[0.2222222222222222,\"#7201a8\"],[0.3333333333333333,\"#9c179e\"],[0.4444444444444444,\"#bd3786\"],[0.5555555555555556,\"#d8576b\"],[0.6666666666666666,\"#ed7953\"],[0.7777777777777778,\"#fb9f3a\"],[0.8888888888888888,\"#fdca26\"],[1.0,\"#f0f921\"]],\"type\":\"histogram2d\"}],\"histogram\":[{\"marker\":{\"pattern\":{\"fillmode\":\"overlay\",\"size\":10,\"solidity\":0.2}},\"type\":\"histogram\"}],\"mesh3d\":[{\"colorbar\":{\"outlinewidth\":0,\"ticks\":\"\"},\"type\":\"mesh3d\"}],\"parcoords\":[{\"line\":{\"colorbar\":{\"outlinewidth\":0,\"ticks\":\"\"}},\"type\":\"parcoords\"}],\"pie\":[{\"automargin\":true,\"type\":\"pie\"}],\"scatter3d\":[{\"line\":{\"colorbar\":{\"outlinewidth\":0,\"ticks\":\"\"}},\"marker\":{\"colorbar\":{\"outlinewidth\":0,\"ticks\":\"\"}},\"type\":\"scatter3d\"}],\"scattercarpet\":[{\"marker\":{\"colorbar\":{\"outlinewidth\":0,\"ticks\":\"\"}},\"type\":\"scattercarpet\"}],\"scattergeo\":[{\"marker\":{\"colorbar\":{\"outlinewidth\":0,\"ticks\":\"\"}},\"type\":\"scattergeo\"}],\"scattergl\":[{\"marker\":{\"colorbar\":{\"outlinewidth\":0,\"ticks\":\"\"}},\"type\":\"scattergl\"}],\"scattermapbox\":[{\"marker\":{\"colorbar\":{\"outlinewidth\":0,\"ticks\":\"\"}},\"type\":\"scattermapbox\"}],\"scatterpolargl\":[{\"marker\":{\"colorbar\":{\"outlinewidth\":0,\"ticks\":\"\"}},\"type\":\"scatterpolargl\"}],\"scatterpolar\":[{\"marker\":{\"colorbar\":{\"outlinewidth\":0,\"ticks\":\"\"}},\"type\":\"scatterpolar\"}],\"scatter\":[{\"marker\":{\"colorbar\":{\"outlinewidth\":0,\"ticks\":\"\"}},\"type\":\"scatter\"}],\"scatterternary\":[{\"marker\":{\"colorbar\":{\"outlinewidth\":0,\"ticks\":\"\"}},\"type\":\"scatterternary\"}],\"surface\":[{\"colorbar\":{\"outlinewidth\":0,\"ticks\":\"\"},\"colorscale\":[[0.0,\"#0d0887\"],[0.1111111111111111,\"#46039f\"],[0.2222222222222222,\"#7201a8\"],[0.3333333333333333,\"#9c179e\"],[0.4444444444444444,\"#bd3786\"],[0.5555555555555556,\"#d8576b\"],[0.6666666666666666,\"#ed7953\"],[0.7777777777777778,\"#fb9f3a\"],[0.8888888888888888,\"#fdca26\"],[1.0,\"#f0f921\"]],\"type\":\"surface\"}],\"table\":[{\"cells\":{\"fill\":{\"color\":\"#EBF0F8\"},\"line\":{\"color\":\"white\"}},\"header\":{\"fill\":{\"color\":\"#C8D4E3\"},\"line\":{\"color\":\"white\"}},\"type\":\"table\"}]},\"layout\":{\"annotationdefaults\":{\"arrowcolor\":\"#2a3f5f\",\"arrowhead\":0,\"arrowwidth\":1},\"autotypenumbers\":\"strict\",\"coloraxis\":{\"colorbar\":{\"outlinewidth\":0,\"ticks\":\"\"}},\"colorscale\":{\"diverging\":[[0,\"#8e0152\"],[0.1,\"#c51b7d\"],[0.2,\"#de77ae\"],[0.3,\"#f1b6da\"],[0.4,\"#fde0ef\"],[0.5,\"#f7f7f7\"],[0.6,\"#e6f5d0\"],[0.7,\"#b8e186\"],[0.8,\"#7fbc41\"],[0.9,\"#4d9221\"],[1,\"#276419\"]],\"sequential\":[[0.0,\"#0d0887\"],[0.1111111111111111,\"#46039f\"],[0.2222222222222222,\"#7201a8\"],[0.3333333333333333,\"#9c179e\"],[0.4444444444444444,\"#bd3786\"],[0.5555555555555556,\"#d8576b\"],[0.6666666666666666,\"#ed7953\"],[0.7777777777777778,\"#fb9f3a\"],[0.8888888888888888,\"#fdca26\"],[1.0,\"#f0f921\"]],\"sequentialminus\":[[0.0,\"#0d0887\"],[0.1111111111111111,\"#46039f\"],[0.2222222222222222,\"#7201a8\"],[0.3333333333333333,\"#9c179e\"],[0.4444444444444444,\"#bd3786\"],[0.5555555555555556,\"#d8576b\"],[0.6666666666666666,\"#ed7953\"],[0.7777777777777778,\"#fb9f3a\"],[0.8888888888888888,\"#fdca26\"],[1.0,\"#f0f921\"]]},\"colorway\":[\"#636efa\",\"#EF553B\",\"#00cc96\",\"#ab63fa\",\"#FFA15A\",\"#19d3f3\",\"#FF6692\",\"#B6E880\",\"#FF97FF\",\"#FECB52\"],\"font\":{\"color\":\"#2a3f5f\"},\"geo\":{\"bgcolor\":\"white\",\"lakecolor\":\"white\",\"landcolor\":\"#E5ECF6\",\"showlakes\":true,\"showland\":true,\"subunitcolor\":\"white\"},\"hoverlabel\":{\"align\":\"left\"},\"hovermode\":\"closest\",\"mapbox\":{\"style\":\"light\"},\"paper_bgcolor\":\"white\",\"plot_bgcolor\":\"#E5ECF6\",\"polar\":{\"angularaxis\":{\"gridcolor\":\"white\",\"linecolor\":\"white\",\"ticks\":\"\"},\"bgcolor\":\"#E5ECF6\",\"radialaxis\":{\"gridcolor\":\"white\",\"linecolor\":\"white\",\"ticks\":\"\"}},\"scene\":{\"xaxis\":{\"backgroundcolor\":\"#E5ECF6\",\"gridcolor\":\"white\",\"gridwidth\":2,\"linecolor\":\"white\",\"showbackground\":true,\"ticks\":\"\",\"zerolinecolor\":\"white\"},\"yaxis\":{\"backgroundcolor\":\"#E5ECF6\",\"gridcolor\":\"white\",\"gridwidth\":2,\"linecolor\":\"white\",\"showbackground\":true,\"ticks\":\"\",\"zerolinecolor\":\"white\"},\"zaxis\":{\"backgroundcolor\":\"#E5ECF6\",\"gridcolor\":\"white\",\"gridwidth\":2,\"linecolor\":\"white\",\"showbackground\":true,\"ticks\":\"\",\"zerolinecolor\":\"white\"}},\"shapedefaults\":{\"line\":{\"color\":\"#2a3f5f\"}},\"ternary\":{\"aaxis\":{\"gridcolor\":\"white\",\"linecolor\":\"white\",\"ticks\":\"\"},\"baxis\":{\"gridcolor\":\"white\",\"linecolor\":\"white\",\"ticks\":\"\"},\"bgcolor\":\"#E5ECF6\",\"caxis\":{\"gridcolor\":\"white\",\"linecolor\":\"white\",\"ticks\":\"\"}},\"title\":{\"x\":0.05},\"xaxis\":{\"automargin\":true,\"gridcolor\":\"white\",\"linecolor\":\"white\",\"ticks\":\"\",\"title\":{\"standoff\":15},\"zerolinecolor\":\"white\",\"zerolinewidth\":2},\"yaxis\":{\"automargin\":true,\"gridcolor\":\"white\",\"linecolor\":\"white\",\"ticks\":\"\",\"title\":{\"standoff\":15},\"zerolinecolor\":\"white\",\"zerolinewidth\":2}}},\"title\":{\"font\":{\"color\":\"#4D5663\"}},\"xaxis\":{\"gridcolor\":\"#E1E5ED\",\"showgrid\":true,\"tickfont\":{\"color\":\"#4D5663\"},\"title\":{\"font\":{\"color\":\"#4D5663\"},\"text\":\"\"},\"zerolinecolor\":\"#E1E5ED\"},\"yaxis\":{\"gridcolor\":\"#E1E5ED\",\"showgrid\":true,\"tickfont\":{\"color\":\"#4D5663\"},\"title\":{\"font\":{\"color\":\"#4D5663\"},\"text\":\"\"},\"zerolinecolor\":\"#E1E5ED\"}},                        {\"showLink\": true, \"linkText\": \"Export to plot.ly\", \"plotlyServerURL\": \"https://plot.ly\", \"responsive\": true}                    ).then(function(){\n",
       "                            \n",
       "var gd = document.getElementById('97d26e0c-4715-4055-9310-ca0f4c184853');\n",
       "var x = new MutationObserver(function (mutations, observer) {{\n",
       "        var display = window.getComputedStyle(gd).display;\n",
       "        if (!display || display === 'none') {{\n",
       "            console.log([gd, 'removed!']);\n",
       "            Plotly.purge(gd);\n",
       "            observer.disconnect();\n",
       "        }}\n",
       "}});\n",
       "\n",
       "// Listen for the removal of the full notebook cells\n",
       "var notebookContainer = gd.closest('#notebook-container');\n",
       "if (notebookContainer) {{\n",
       "    x.observe(notebookContainer, {childList: true});\n",
       "}}\n",
       "\n",
       "// Listen for the clearing of the current output cell\n",
       "var outputEl = gd.closest('.output');\n",
       "if (outputEl) {{\n",
       "    x.observe(outputEl, {childList: true});\n",
       "}}\n",
       "\n",
       "                        })                };                });            </script>        </div>"
      ]
     },
     "metadata": {},
     "output_type": "display_data"
    }
   ],
   "source": [
    "df.iplot()"
   ]
  },
  {
   "cell_type": "code",
   "execution_count": 24,
   "id": "8c8afd3b",
   "metadata": {},
   "outputs": [
    {
     "data": {
      "application/vnd.plotly.v1+json": {
       "config": {
        "linkText": "Export to plot.ly",
        "plotlyServerURL": "https://plot.ly",
        "showLink": true
       },
       "data": [
        {
         "line": {
          "color": "rgba(255, 153, 51, 1.0)",
          "dash": "solid",
          "shape": "linear",
          "width": 1.3
         },
         "mode": "lines",
         "name": "B",
         "text": "",
         "type": "scatter",
         "x": [
          1.384941095893982,
          -0.3647871044245467,
          -1.613377798789012,
          -0.12920481127577702,
          -0.6300029180423312,
          0.6955311102837984,
          -0.07774289928427856,
          -1.5481508917079352,
          0.3144299528461812,
          1.483756889675816,
          1.3631631851081898,
          0.3577161379182844,
          0.44425005373458687,
          -1.3026835005270772,
          0.8586317944028101,
          -0.12796403591939365,
          0.373209303997531,
          0.5869332431334456,
          0.4864253873475166,
          1.0756346615585344,
          -1.052001580878504,
          0.0906431802398545,
          1.0580572090375877,
          -0.9848808039026463,
          0.5513641846951675,
          1.1659210728519842,
          0.020314764012267873,
          0.3074031709948694,
          -0.23909296540380182,
          0.02171216478090794,
          -0.16254690733414418,
          -0.33711970357111226,
          0.8142846009651958,
          0.5807041935213351,
          1.517465474603419,
          2.64825109236516,
          0.9118993743273417,
          0.3344914818573978,
          -0.6980817050442862,
          -0.014535950295435083,
          -0.29814416383545383,
          -0.0017524875066887394,
          -1.1233972672402575,
          0.06762297707903585,
          -0.16466873420852687,
          -0.1795079343480467,
          -0.6751925963714834,
          2.006888382314444,
          -0.7838881243097859,
          0.9294115904771026,
          -1.058238874474584,
          0.6586637071443632,
          -0.37707299217026374,
          -0.13598986025585266,
          -1.4967184420595114,
          0.4153485006683915,
          0.24121216996263192,
          -3.092016438708254,
          -1.2219917686899848,
          0.8869662273854365,
          -1.0682780065598037,
          -1.2106122878269856,
          0.803250005443257,
          0.9877199560578738,
          -0.2258121665388722,
          0.13923967982184132,
          -0.22573522543316654,
          1.6171694614878647,
          0.5477551242136519,
          0.4420065170066808,
          0.06747036201760358,
          -1.641776468835695,
          -0.2876490151341459,
          0.3684314172007868,
          1.1306668046343704,
          -0.8340553638572694,
          0.6712547294009807,
          0.8197535903257653,
          0.2124039178122506,
          -0.5392633467972721,
          0.010110482279003876,
          0.958789971496834,
          -0.07020997545633594,
          0.33616891127553034,
          -0.3907482690955859,
          0.8806514736157832,
          0.31650766745412495,
          0.1448946459985747,
          0.27772853189609437,
          -0.4036166749778001,
          -0.2926052183646972,
          1.3491425878516692,
          -1.4689030081303354,
          1.43789556687664,
          -1.79323467847179,
          -0.17223590815000211,
          1.0094163974481396,
          -0.31501498808974,
          -0.3962647074563389,
          -2.0067551306542164
         ],
         "y": [
          -0.11794573212984044,
          1.2697792200547326,
          -2.1676156275817493,
          -0.24857109473288877,
          0.40460693442474416,
          1.6139280285149076,
          0.2360306035442598,
          -0.22602808881920358,
          0.057142677471569564,
          -0.7772782408575107,
          0.9429237937088079,
          0.20523204088664526,
          -0.7154259155847406,
          1.1964788967171962,
          1.1522379793062072,
          0.8376926086136763,
          1.3857641285531264,
          -1.2374578036932693,
          -1.7210512496642552,
          -0.2495034317564669,
          0.549318005327426,
          -1.1113590661117567,
          -1.4100862237170253,
          0.9532142588336986,
          -0.5315758547787328,
          0.026876504527802447,
          1.475296799480042,
          -0.05540255585344138,
          0.9422840651588723,
          -1.8656941194067982,
          0.7869650084081312,
          1.405011375883612,
          2.255057549388606,
          0.1462871105740621,
          -2.1847079312579747,
          -1.161172611275934,
          0.6196167217877991,
          0.11183036629305333,
          -0.05854992899036618,
          0.5065278797161682,
          0.175142247004244,
          1.095194809193081,
          2.6837799095371384,
          -0.012627706308564711,
          0.9660921024626176,
          0.6886580320242333,
          -1.0591087700884958,
          0.1104364113543046,
          2.372207831365576,
          -0.8860199351161889,
          1.086165799454149,
          -0.8626755672497495,
          -0.06868432104132013,
          -0.7200816182896868,
          0.4188150947497825,
          0.4228561041113086,
          -0.698445960962204,
          -0.6988310924554466,
          -0.6658491938730066,
          0.2958846261817548,
          -0.3507001784507818,
          0.647173773145682,
          -1.2328387228246311,
          1.0459553224352556,
          0.1231502442460987,
          0.6522703753362419,
          1.3888130593209138,
          0.10676669523311827,
          -1.8282146343099823,
          -0.9934128961933868,
          0.0391113792741524,
          -0.8611094358006953,
          0.41413313956819325,
          -1.4101986910835675,
          1.815049449469626,
          0.9231752547232016,
          0.17927969270330754,
          1.3991110254560424,
          -0.22439988703791916,
          -0.9325281027769723,
          1.434972285835641,
          0.41293299829143254,
          0.22260783277251583,
          -0.6284887586125657,
          -0.04186487356009881,
          -0.4049849380508509,
          1.0931210510758536,
          -0.9357279986842723,
          -0.8187865619869552,
          -2.177802400994987,
          0.38835428050347276,
          -0.138536009177223,
          1.3287017218425048,
          2.193100689061061,
          2.7502259232461843,
          -1.4807074423373137,
          0.27064831548673124,
          0.034154607417923276,
          -0.2738508186098899,
          -0.5388356081283091
         ]
        }
       ],
       "layout": {
        "legend": {
         "bgcolor": "#F5F6F9",
         "font": {
          "color": "#4D5663"
         }
        },
        "paper_bgcolor": "#F5F6F9",
        "plot_bgcolor": "#F5F6F9",
        "template": {
         "data": {
          "bar": [
           {
            "error_x": {
             "color": "#2a3f5f"
            },
            "error_y": {
             "color": "#2a3f5f"
            },
            "marker": {
             "line": {
              "color": "#E5ECF6",
              "width": 0.5
             },
             "pattern": {
              "fillmode": "overlay",
              "size": 10,
              "solidity": 0.2
             }
            },
            "type": "bar"
           }
          ],
          "barpolar": [
           {
            "marker": {
             "line": {
              "color": "#E5ECF6",
              "width": 0.5
             },
             "pattern": {
              "fillmode": "overlay",
              "size": 10,
              "solidity": 0.2
             }
            },
            "type": "barpolar"
           }
          ],
          "carpet": [
           {
            "aaxis": {
             "endlinecolor": "#2a3f5f",
             "gridcolor": "white",
             "linecolor": "white",
             "minorgridcolor": "white",
             "startlinecolor": "#2a3f5f"
            },
            "baxis": {
             "endlinecolor": "#2a3f5f",
             "gridcolor": "white",
             "linecolor": "white",
             "minorgridcolor": "white",
             "startlinecolor": "#2a3f5f"
            },
            "type": "carpet"
           }
          ],
          "choropleth": [
           {
            "colorbar": {
             "outlinewidth": 0,
             "ticks": ""
            },
            "type": "choropleth"
           }
          ],
          "contour": [
           {
            "colorbar": {
             "outlinewidth": 0,
             "ticks": ""
            },
            "colorscale": [
             [
              0,
              "#0d0887"
             ],
             [
              0.1111111111111111,
              "#46039f"
             ],
             [
              0.2222222222222222,
              "#7201a8"
             ],
             [
              0.3333333333333333,
              "#9c179e"
             ],
             [
              0.4444444444444444,
              "#bd3786"
             ],
             [
              0.5555555555555556,
              "#d8576b"
             ],
             [
              0.6666666666666666,
              "#ed7953"
             ],
             [
              0.7777777777777778,
              "#fb9f3a"
             ],
             [
              0.8888888888888888,
              "#fdca26"
             ],
             [
              1,
              "#f0f921"
             ]
            ],
            "type": "contour"
           }
          ],
          "contourcarpet": [
           {
            "colorbar": {
             "outlinewidth": 0,
             "ticks": ""
            },
            "type": "contourcarpet"
           }
          ],
          "heatmap": [
           {
            "colorbar": {
             "outlinewidth": 0,
             "ticks": ""
            },
            "colorscale": [
             [
              0,
              "#0d0887"
             ],
             [
              0.1111111111111111,
              "#46039f"
             ],
             [
              0.2222222222222222,
              "#7201a8"
             ],
             [
              0.3333333333333333,
              "#9c179e"
             ],
             [
              0.4444444444444444,
              "#bd3786"
             ],
             [
              0.5555555555555556,
              "#d8576b"
             ],
             [
              0.6666666666666666,
              "#ed7953"
             ],
             [
              0.7777777777777778,
              "#fb9f3a"
             ],
             [
              0.8888888888888888,
              "#fdca26"
             ],
             [
              1,
              "#f0f921"
             ]
            ],
            "type": "heatmap"
           }
          ],
          "heatmapgl": [
           {
            "colorbar": {
             "outlinewidth": 0,
             "ticks": ""
            },
            "colorscale": [
             [
              0,
              "#0d0887"
             ],
             [
              0.1111111111111111,
              "#46039f"
             ],
             [
              0.2222222222222222,
              "#7201a8"
             ],
             [
              0.3333333333333333,
              "#9c179e"
             ],
             [
              0.4444444444444444,
              "#bd3786"
             ],
             [
              0.5555555555555556,
              "#d8576b"
             ],
             [
              0.6666666666666666,
              "#ed7953"
             ],
             [
              0.7777777777777778,
              "#fb9f3a"
             ],
             [
              0.8888888888888888,
              "#fdca26"
             ],
             [
              1,
              "#f0f921"
             ]
            ],
            "type": "heatmapgl"
           }
          ],
          "histogram": [
           {
            "marker": {
             "pattern": {
              "fillmode": "overlay",
              "size": 10,
              "solidity": 0.2
             }
            },
            "type": "histogram"
           }
          ],
          "histogram2d": [
           {
            "colorbar": {
             "outlinewidth": 0,
             "ticks": ""
            },
            "colorscale": [
             [
              0,
              "#0d0887"
             ],
             [
              0.1111111111111111,
              "#46039f"
             ],
             [
              0.2222222222222222,
              "#7201a8"
             ],
             [
              0.3333333333333333,
              "#9c179e"
             ],
             [
              0.4444444444444444,
              "#bd3786"
             ],
             [
              0.5555555555555556,
              "#d8576b"
             ],
             [
              0.6666666666666666,
              "#ed7953"
             ],
             [
              0.7777777777777778,
              "#fb9f3a"
             ],
             [
              0.8888888888888888,
              "#fdca26"
             ],
             [
              1,
              "#f0f921"
             ]
            ],
            "type": "histogram2d"
           }
          ],
          "histogram2dcontour": [
           {
            "colorbar": {
             "outlinewidth": 0,
             "ticks": ""
            },
            "colorscale": [
             [
              0,
              "#0d0887"
             ],
             [
              0.1111111111111111,
              "#46039f"
             ],
             [
              0.2222222222222222,
              "#7201a8"
             ],
             [
              0.3333333333333333,
              "#9c179e"
             ],
             [
              0.4444444444444444,
              "#bd3786"
             ],
             [
              0.5555555555555556,
              "#d8576b"
             ],
             [
              0.6666666666666666,
              "#ed7953"
             ],
             [
              0.7777777777777778,
              "#fb9f3a"
             ],
             [
              0.8888888888888888,
              "#fdca26"
             ],
             [
              1,
              "#f0f921"
             ]
            ],
            "type": "histogram2dcontour"
           }
          ],
          "mesh3d": [
           {
            "colorbar": {
             "outlinewidth": 0,
             "ticks": ""
            },
            "type": "mesh3d"
           }
          ],
          "parcoords": [
           {
            "line": {
             "colorbar": {
              "outlinewidth": 0,
              "ticks": ""
             }
            },
            "type": "parcoords"
           }
          ],
          "pie": [
           {
            "automargin": true,
            "type": "pie"
           }
          ],
          "scatter": [
           {
            "marker": {
             "colorbar": {
              "outlinewidth": 0,
              "ticks": ""
             }
            },
            "type": "scatter"
           }
          ],
          "scatter3d": [
           {
            "line": {
             "colorbar": {
              "outlinewidth": 0,
              "ticks": ""
             }
            },
            "marker": {
             "colorbar": {
              "outlinewidth": 0,
              "ticks": ""
             }
            },
            "type": "scatter3d"
           }
          ],
          "scattercarpet": [
           {
            "marker": {
             "colorbar": {
              "outlinewidth": 0,
              "ticks": ""
             }
            },
            "type": "scattercarpet"
           }
          ],
          "scattergeo": [
           {
            "marker": {
             "colorbar": {
              "outlinewidth": 0,
              "ticks": ""
             }
            },
            "type": "scattergeo"
           }
          ],
          "scattergl": [
           {
            "marker": {
             "colorbar": {
              "outlinewidth": 0,
              "ticks": ""
             }
            },
            "type": "scattergl"
           }
          ],
          "scattermapbox": [
           {
            "marker": {
             "colorbar": {
              "outlinewidth": 0,
              "ticks": ""
             }
            },
            "type": "scattermapbox"
           }
          ],
          "scatterpolar": [
           {
            "marker": {
             "colorbar": {
              "outlinewidth": 0,
              "ticks": ""
             }
            },
            "type": "scatterpolar"
           }
          ],
          "scatterpolargl": [
           {
            "marker": {
             "colorbar": {
              "outlinewidth": 0,
              "ticks": ""
             }
            },
            "type": "scatterpolargl"
           }
          ],
          "scatterternary": [
           {
            "marker": {
             "colorbar": {
              "outlinewidth": 0,
              "ticks": ""
             }
            },
            "type": "scatterternary"
           }
          ],
          "surface": [
           {
            "colorbar": {
             "outlinewidth": 0,
             "ticks": ""
            },
            "colorscale": [
             [
              0,
              "#0d0887"
             ],
             [
              0.1111111111111111,
              "#46039f"
             ],
             [
              0.2222222222222222,
              "#7201a8"
             ],
             [
              0.3333333333333333,
              "#9c179e"
             ],
             [
              0.4444444444444444,
              "#bd3786"
             ],
             [
              0.5555555555555556,
              "#d8576b"
             ],
             [
              0.6666666666666666,
              "#ed7953"
             ],
             [
              0.7777777777777778,
              "#fb9f3a"
             ],
             [
              0.8888888888888888,
              "#fdca26"
             ],
             [
              1,
              "#f0f921"
             ]
            ],
            "type": "surface"
           }
          ],
          "table": [
           {
            "cells": {
             "fill": {
              "color": "#EBF0F8"
             },
             "line": {
              "color": "white"
             }
            },
            "header": {
             "fill": {
              "color": "#C8D4E3"
             },
             "line": {
              "color": "white"
             }
            },
            "type": "table"
           }
          ]
         },
         "layout": {
          "annotationdefaults": {
           "arrowcolor": "#2a3f5f",
           "arrowhead": 0,
           "arrowwidth": 1
          },
          "autotypenumbers": "strict",
          "coloraxis": {
           "colorbar": {
            "outlinewidth": 0,
            "ticks": ""
           }
          },
          "colorscale": {
           "diverging": [
            [
             0,
             "#8e0152"
            ],
            [
             0.1,
             "#c51b7d"
            ],
            [
             0.2,
             "#de77ae"
            ],
            [
             0.3,
             "#f1b6da"
            ],
            [
             0.4,
             "#fde0ef"
            ],
            [
             0.5,
             "#f7f7f7"
            ],
            [
             0.6,
             "#e6f5d0"
            ],
            [
             0.7,
             "#b8e186"
            ],
            [
             0.8,
             "#7fbc41"
            ],
            [
             0.9,
             "#4d9221"
            ],
            [
             1,
             "#276419"
            ]
           ],
           "sequential": [
            [
             0,
             "#0d0887"
            ],
            [
             0.1111111111111111,
             "#46039f"
            ],
            [
             0.2222222222222222,
             "#7201a8"
            ],
            [
             0.3333333333333333,
             "#9c179e"
            ],
            [
             0.4444444444444444,
             "#bd3786"
            ],
            [
             0.5555555555555556,
             "#d8576b"
            ],
            [
             0.6666666666666666,
             "#ed7953"
            ],
            [
             0.7777777777777778,
             "#fb9f3a"
            ],
            [
             0.8888888888888888,
             "#fdca26"
            ],
            [
             1,
             "#f0f921"
            ]
           ],
           "sequentialminus": [
            [
             0,
             "#0d0887"
            ],
            [
             0.1111111111111111,
             "#46039f"
            ],
            [
             0.2222222222222222,
             "#7201a8"
            ],
            [
             0.3333333333333333,
             "#9c179e"
            ],
            [
             0.4444444444444444,
             "#bd3786"
            ],
            [
             0.5555555555555556,
             "#d8576b"
            ],
            [
             0.6666666666666666,
             "#ed7953"
            ],
            [
             0.7777777777777778,
             "#fb9f3a"
            ],
            [
             0.8888888888888888,
             "#fdca26"
            ],
            [
             1,
             "#f0f921"
            ]
           ]
          },
          "colorway": [
           "#636efa",
           "#EF553B",
           "#00cc96",
           "#ab63fa",
           "#FFA15A",
           "#19d3f3",
           "#FF6692",
           "#B6E880",
           "#FF97FF",
           "#FECB52"
          ],
          "font": {
           "color": "#2a3f5f"
          },
          "geo": {
           "bgcolor": "white",
           "lakecolor": "white",
           "landcolor": "#E5ECF6",
           "showlakes": true,
           "showland": true,
           "subunitcolor": "white"
          },
          "hoverlabel": {
           "align": "left"
          },
          "hovermode": "closest",
          "mapbox": {
           "style": "light"
          },
          "paper_bgcolor": "white",
          "plot_bgcolor": "#E5ECF6",
          "polar": {
           "angularaxis": {
            "gridcolor": "white",
            "linecolor": "white",
            "ticks": ""
           },
           "bgcolor": "#E5ECF6",
           "radialaxis": {
            "gridcolor": "white",
            "linecolor": "white",
            "ticks": ""
           }
          },
          "scene": {
           "xaxis": {
            "backgroundcolor": "#E5ECF6",
            "gridcolor": "white",
            "gridwidth": 2,
            "linecolor": "white",
            "showbackground": true,
            "ticks": "",
            "zerolinecolor": "white"
           },
           "yaxis": {
            "backgroundcolor": "#E5ECF6",
            "gridcolor": "white",
            "gridwidth": 2,
            "linecolor": "white",
            "showbackground": true,
            "ticks": "",
            "zerolinecolor": "white"
           },
           "zaxis": {
            "backgroundcolor": "#E5ECF6",
            "gridcolor": "white",
            "gridwidth": 2,
            "linecolor": "white",
            "showbackground": true,
            "ticks": "",
            "zerolinecolor": "white"
           }
          },
          "shapedefaults": {
           "line": {
            "color": "#2a3f5f"
           }
          },
          "ternary": {
           "aaxis": {
            "gridcolor": "white",
            "linecolor": "white",
            "ticks": ""
           },
           "baxis": {
            "gridcolor": "white",
            "linecolor": "white",
            "ticks": ""
           },
           "bgcolor": "#E5ECF6",
           "caxis": {
            "gridcolor": "white",
            "linecolor": "white",
            "ticks": ""
           }
          },
          "title": {
           "x": 0.05
          },
          "xaxis": {
           "automargin": true,
           "gridcolor": "white",
           "linecolor": "white",
           "ticks": "",
           "title": {
            "standoff": 15
           },
           "zerolinecolor": "white",
           "zerolinewidth": 2
          },
          "yaxis": {
           "automargin": true,
           "gridcolor": "white",
           "linecolor": "white",
           "ticks": "",
           "title": {
            "standoff": 15
           },
           "zerolinecolor": "white",
           "zerolinewidth": 2
          }
         }
        },
        "title": {
         "font": {
          "color": "#4D5663"
         }
        },
        "xaxis": {
         "gridcolor": "#E1E5ED",
         "showgrid": true,
         "tickfont": {
          "color": "#4D5663"
         },
         "title": {
          "font": {
           "color": "#4D5663"
          },
          "text": ""
         },
         "zerolinecolor": "#E1E5ED"
        },
        "yaxis": {
         "gridcolor": "#E1E5ED",
         "showgrid": true,
         "tickfont": {
          "color": "#4D5663"
         },
         "title": {
          "font": {
           "color": "#4D5663"
          },
          "text": ""
         },
         "zerolinecolor": "#E1E5ED"
        }
       }
      },
      "text/html": [
       "<div>                            <div id=\"dd6e0e39-956f-4590-94eb-0ae349be3451\" class=\"plotly-graph-div\" style=\"height:525px; width:100%;\"></div>            <script type=\"text/javascript\">                require([\"plotly\"], function(Plotly) {                    window.PLOTLYENV=window.PLOTLYENV || {};\n",
       "                    window.PLOTLYENV.BASE_URL='https://plot.ly';                                    if (document.getElementById(\"dd6e0e39-956f-4590-94eb-0ae349be3451\")) {                    Plotly.newPlot(                        \"dd6e0e39-956f-4590-94eb-0ae349be3451\",                        [{\"line\":{\"color\":\"rgba(255, 153, 51, 1.0)\",\"dash\":\"solid\",\"shape\":\"linear\",\"width\":1.3},\"mode\":\"lines\",\"name\":\"B\",\"text\":\"\",\"x\":[1.384941095893982,-0.3647871044245467,-1.613377798789012,-0.12920481127577702,-0.6300029180423312,0.6955311102837984,-0.07774289928427856,-1.5481508917079352,0.3144299528461812,1.483756889675816,1.3631631851081898,0.3577161379182844,0.44425005373458687,-1.3026835005270772,0.8586317944028101,-0.12796403591939365,0.373209303997531,0.5869332431334456,0.4864253873475166,1.0756346615585344,-1.052001580878504,0.0906431802398545,1.0580572090375877,-0.9848808039026463,0.5513641846951675,1.1659210728519842,0.020314764012267873,0.3074031709948694,-0.23909296540380182,0.02171216478090794,-0.16254690733414418,-0.33711970357111226,0.8142846009651958,0.5807041935213351,1.517465474603419,2.64825109236516,0.9118993743273417,0.3344914818573978,-0.6980817050442862,-0.014535950295435083,-0.29814416383545383,-0.0017524875066887394,-1.1233972672402575,0.06762297707903585,-0.16466873420852687,-0.1795079343480467,-0.6751925963714834,2.006888382314444,-0.7838881243097859,0.9294115904771026,-1.058238874474584,0.6586637071443632,-0.37707299217026374,-0.13598986025585266,-1.4967184420595114,0.4153485006683915,0.24121216996263192,-3.092016438708254,-1.2219917686899848,0.8869662273854365,-1.0682780065598037,-1.2106122878269856,0.803250005443257,0.9877199560578738,-0.2258121665388722,0.13923967982184132,-0.22573522543316654,1.6171694614878647,0.5477551242136519,0.4420065170066808,0.06747036201760358,-1.641776468835695,-0.2876490151341459,0.3684314172007868,1.1306668046343704,-0.8340553638572694,0.6712547294009807,0.8197535903257653,0.2124039178122506,-0.5392633467972721,0.010110482279003876,0.958789971496834,-0.07020997545633594,0.33616891127553034,-0.3907482690955859,0.8806514736157832,0.31650766745412495,0.1448946459985747,0.27772853189609437,-0.4036166749778001,-0.2926052183646972,1.3491425878516692,-1.4689030081303354,1.43789556687664,-1.79323467847179,-0.17223590815000211,1.0094163974481396,-0.31501498808974,-0.3962647074563389,-2.0067551306542164],\"y\":[-0.11794573212984044,1.2697792200547326,-2.1676156275817493,-0.24857109473288877,0.40460693442474416,1.6139280285149076,0.2360306035442598,-0.22602808881920358,0.057142677471569564,-0.7772782408575107,0.9429237937088079,0.20523204088664526,-0.7154259155847406,1.1964788967171962,1.1522379793062072,0.8376926086136763,1.3857641285531264,-1.2374578036932693,-1.7210512496642552,-0.2495034317564669,0.549318005327426,-1.1113590661117567,-1.4100862237170253,0.9532142588336986,-0.5315758547787328,0.026876504527802447,1.475296799480042,-0.05540255585344138,0.9422840651588723,-1.8656941194067982,0.7869650084081312,1.405011375883612,2.255057549388606,0.1462871105740621,-2.1847079312579747,-1.161172611275934,0.6196167217877991,0.11183036629305333,-0.05854992899036618,0.5065278797161682,0.175142247004244,1.095194809193081,2.6837799095371384,-0.012627706308564711,0.9660921024626176,0.6886580320242333,-1.0591087700884958,0.1104364113543046,2.372207831365576,-0.8860199351161889,1.086165799454149,-0.8626755672497495,-0.06868432104132013,-0.7200816182896868,0.4188150947497825,0.4228561041113086,-0.698445960962204,-0.6988310924554466,-0.6658491938730066,0.2958846261817548,-0.3507001784507818,0.647173773145682,-1.2328387228246311,1.0459553224352556,0.1231502442460987,0.6522703753362419,1.3888130593209138,0.10676669523311827,-1.8282146343099823,-0.9934128961933868,0.0391113792741524,-0.8611094358006953,0.41413313956819325,-1.4101986910835675,1.815049449469626,0.9231752547232016,0.17927969270330754,1.3991110254560424,-0.22439988703791916,-0.9325281027769723,1.434972285835641,0.41293299829143254,0.22260783277251583,-0.6284887586125657,-0.04186487356009881,-0.4049849380508509,1.0931210510758536,-0.9357279986842723,-0.8187865619869552,-2.177802400994987,0.38835428050347276,-0.138536009177223,1.3287017218425048,2.193100689061061,2.7502259232461843,-1.4807074423373137,0.27064831548673124,0.034154607417923276,-0.2738508186098899,-0.5388356081283091],\"type\":\"scatter\"}],                        {\"legend\":{\"bgcolor\":\"#F5F6F9\",\"font\":{\"color\":\"#4D5663\"}},\"paper_bgcolor\":\"#F5F6F9\",\"plot_bgcolor\":\"#F5F6F9\",\"template\":{\"data\":{\"barpolar\":[{\"marker\":{\"line\":{\"color\":\"#E5ECF6\",\"width\":0.5},\"pattern\":{\"fillmode\":\"overlay\",\"size\":10,\"solidity\":0.2}},\"type\":\"barpolar\"}],\"bar\":[{\"error_x\":{\"color\":\"#2a3f5f\"},\"error_y\":{\"color\":\"#2a3f5f\"},\"marker\":{\"line\":{\"color\":\"#E5ECF6\",\"width\":0.5},\"pattern\":{\"fillmode\":\"overlay\",\"size\":10,\"solidity\":0.2}},\"type\":\"bar\"}],\"carpet\":[{\"aaxis\":{\"endlinecolor\":\"#2a3f5f\",\"gridcolor\":\"white\",\"linecolor\":\"white\",\"minorgridcolor\":\"white\",\"startlinecolor\":\"#2a3f5f\"},\"baxis\":{\"endlinecolor\":\"#2a3f5f\",\"gridcolor\":\"white\",\"linecolor\":\"white\",\"minorgridcolor\":\"white\",\"startlinecolor\":\"#2a3f5f\"},\"type\":\"carpet\"}],\"choropleth\":[{\"colorbar\":{\"outlinewidth\":0,\"ticks\":\"\"},\"type\":\"choropleth\"}],\"contourcarpet\":[{\"colorbar\":{\"outlinewidth\":0,\"ticks\":\"\"},\"type\":\"contourcarpet\"}],\"contour\":[{\"colorbar\":{\"outlinewidth\":0,\"ticks\":\"\"},\"colorscale\":[[0.0,\"#0d0887\"],[0.1111111111111111,\"#46039f\"],[0.2222222222222222,\"#7201a8\"],[0.3333333333333333,\"#9c179e\"],[0.4444444444444444,\"#bd3786\"],[0.5555555555555556,\"#d8576b\"],[0.6666666666666666,\"#ed7953\"],[0.7777777777777778,\"#fb9f3a\"],[0.8888888888888888,\"#fdca26\"],[1.0,\"#f0f921\"]],\"type\":\"contour\"}],\"heatmapgl\":[{\"colorbar\":{\"outlinewidth\":0,\"ticks\":\"\"},\"colorscale\":[[0.0,\"#0d0887\"],[0.1111111111111111,\"#46039f\"],[0.2222222222222222,\"#7201a8\"],[0.3333333333333333,\"#9c179e\"],[0.4444444444444444,\"#bd3786\"],[0.5555555555555556,\"#d8576b\"],[0.6666666666666666,\"#ed7953\"],[0.7777777777777778,\"#fb9f3a\"],[0.8888888888888888,\"#fdca26\"],[1.0,\"#f0f921\"]],\"type\":\"heatmapgl\"}],\"heatmap\":[{\"colorbar\":{\"outlinewidth\":0,\"ticks\":\"\"},\"colorscale\":[[0.0,\"#0d0887\"],[0.1111111111111111,\"#46039f\"],[0.2222222222222222,\"#7201a8\"],[0.3333333333333333,\"#9c179e\"],[0.4444444444444444,\"#bd3786\"],[0.5555555555555556,\"#d8576b\"],[0.6666666666666666,\"#ed7953\"],[0.7777777777777778,\"#fb9f3a\"],[0.8888888888888888,\"#fdca26\"],[1.0,\"#f0f921\"]],\"type\":\"heatmap\"}],\"histogram2dcontour\":[{\"colorbar\":{\"outlinewidth\":0,\"ticks\":\"\"},\"colorscale\":[[0.0,\"#0d0887\"],[0.1111111111111111,\"#46039f\"],[0.2222222222222222,\"#7201a8\"],[0.3333333333333333,\"#9c179e\"],[0.4444444444444444,\"#bd3786\"],[0.5555555555555556,\"#d8576b\"],[0.6666666666666666,\"#ed7953\"],[0.7777777777777778,\"#fb9f3a\"],[0.8888888888888888,\"#fdca26\"],[1.0,\"#f0f921\"]],\"type\":\"histogram2dcontour\"}],\"histogram2d\":[{\"colorbar\":{\"outlinewidth\":0,\"ticks\":\"\"},\"colorscale\":[[0.0,\"#0d0887\"],[0.1111111111111111,\"#46039f\"],[0.2222222222222222,\"#7201a8\"],[0.3333333333333333,\"#9c179e\"],[0.4444444444444444,\"#bd3786\"],[0.5555555555555556,\"#d8576b\"],[0.6666666666666666,\"#ed7953\"],[0.7777777777777778,\"#fb9f3a\"],[0.8888888888888888,\"#fdca26\"],[1.0,\"#f0f921\"]],\"type\":\"histogram2d\"}],\"histogram\":[{\"marker\":{\"pattern\":{\"fillmode\":\"overlay\",\"size\":10,\"solidity\":0.2}},\"type\":\"histogram\"}],\"mesh3d\":[{\"colorbar\":{\"outlinewidth\":0,\"ticks\":\"\"},\"type\":\"mesh3d\"}],\"parcoords\":[{\"line\":{\"colorbar\":{\"outlinewidth\":0,\"ticks\":\"\"}},\"type\":\"parcoords\"}],\"pie\":[{\"automargin\":true,\"type\":\"pie\"}],\"scatter3d\":[{\"line\":{\"colorbar\":{\"outlinewidth\":0,\"ticks\":\"\"}},\"marker\":{\"colorbar\":{\"outlinewidth\":0,\"ticks\":\"\"}},\"type\":\"scatter3d\"}],\"scattercarpet\":[{\"marker\":{\"colorbar\":{\"outlinewidth\":0,\"ticks\":\"\"}},\"type\":\"scattercarpet\"}],\"scattergeo\":[{\"marker\":{\"colorbar\":{\"outlinewidth\":0,\"ticks\":\"\"}},\"type\":\"scattergeo\"}],\"scattergl\":[{\"marker\":{\"colorbar\":{\"outlinewidth\":0,\"ticks\":\"\"}},\"type\":\"scattergl\"}],\"scattermapbox\":[{\"marker\":{\"colorbar\":{\"outlinewidth\":0,\"ticks\":\"\"}},\"type\":\"scattermapbox\"}],\"scatterpolargl\":[{\"marker\":{\"colorbar\":{\"outlinewidth\":0,\"ticks\":\"\"}},\"type\":\"scatterpolargl\"}],\"scatterpolar\":[{\"marker\":{\"colorbar\":{\"outlinewidth\":0,\"ticks\":\"\"}},\"type\":\"scatterpolar\"}],\"scatter\":[{\"marker\":{\"colorbar\":{\"outlinewidth\":0,\"ticks\":\"\"}},\"type\":\"scatter\"}],\"scatterternary\":[{\"marker\":{\"colorbar\":{\"outlinewidth\":0,\"ticks\":\"\"}},\"type\":\"scatterternary\"}],\"surface\":[{\"colorbar\":{\"outlinewidth\":0,\"ticks\":\"\"},\"colorscale\":[[0.0,\"#0d0887\"],[0.1111111111111111,\"#46039f\"],[0.2222222222222222,\"#7201a8\"],[0.3333333333333333,\"#9c179e\"],[0.4444444444444444,\"#bd3786\"],[0.5555555555555556,\"#d8576b\"],[0.6666666666666666,\"#ed7953\"],[0.7777777777777778,\"#fb9f3a\"],[0.8888888888888888,\"#fdca26\"],[1.0,\"#f0f921\"]],\"type\":\"surface\"}],\"table\":[{\"cells\":{\"fill\":{\"color\":\"#EBF0F8\"},\"line\":{\"color\":\"white\"}},\"header\":{\"fill\":{\"color\":\"#C8D4E3\"},\"line\":{\"color\":\"white\"}},\"type\":\"table\"}]},\"layout\":{\"annotationdefaults\":{\"arrowcolor\":\"#2a3f5f\",\"arrowhead\":0,\"arrowwidth\":1},\"autotypenumbers\":\"strict\",\"coloraxis\":{\"colorbar\":{\"outlinewidth\":0,\"ticks\":\"\"}},\"colorscale\":{\"diverging\":[[0,\"#8e0152\"],[0.1,\"#c51b7d\"],[0.2,\"#de77ae\"],[0.3,\"#f1b6da\"],[0.4,\"#fde0ef\"],[0.5,\"#f7f7f7\"],[0.6,\"#e6f5d0\"],[0.7,\"#b8e186\"],[0.8,\"#7fbc41\"],[0.9,\"#4d9221\"],[1,\"#276419\"]],\"sequential\":[[0.0,\"#0d0887\"],[0.1111111111111111,\"#46039f\"],[0.2222222222222222,\"#7201a8\"],[0.3333333333333333,\"#9c179e\"],[0.4444444444444444,\"#bd3786\"],[0.5555555555555556,\"#d8576b\"],[0.6666666666666666,\"#ed7953\"],[0.7777777777777778,\"#fb9f3a\"],[0.8888888888888888,\"#fdca26\"],[1.0,\"#f0f921\"]],\"sequentialminus\":[[0.0,\"#0d0887\"],[0.1111111111111111,\"#46039f\"],[0.2222222222222222,\"#7201a8\"],[0.3333333333333333,\"#9c179e\"],[0.4444444444444444,\"#bd3786\"],[0.5555555555555556,\"#d8576b\"],[0.6666666666666666,\"#ed7953\"],[0.7777777777777778,\"#fb9f3a\"],[0.8888888888888888,\"#fdca26\"],[1.0,\"#f0f921\"]]},\"colorway\":[\"#636efa\",\"#EF553B\",\"#00cc96\",\"#ab63fa\",\"#FFA15A\",\"#19d3f3\",\"#FF6692\",\"#B6E880\",\"#FF97FF\",\"#FECB52\"],\"font\":{\"color\":\"#2a3f5f\"},\"geo\":{\"bgcolor\":\"white\",\"lakecolor\":\"white\",\"landcolor\":\"#E5ECF6\",\"showlakes\":true,\"showland\":true,\"subunitcolor\":\"white\"},\"hoverlabel\":{\"align\":\"left\"},\"hovermode\":\"closest\",\"mapbox\":{\"style\":\"light\"},\"paper_bgcolor\":\"white\",\"plot_bgcolor\":\"#E5ECF6\",\"polar\":{\"angularaxis\":{\"gridcolor\":\"white\",\"linecolor\":\"white\",\"ticks\":\"\"},\"bgcolor\":\"#E5ECF6\",\"radialaxis\":{\"gridcolor\":\"white\",\"linecolor\":\"white\",\"ticks\":\"\"}},\"scene\":{\"xaxis\":{\"backgroundcolor\":\"#E5ECF6\",\"gridcolor\":\"white\",\"gridwidth\":2,\"linecolor\":\"white\",\"showbackground\":true,\"ticks\":\"\",\"zerolinecolor\":\"white\"},\"yaxis\":{\"backgroundcolor\":\"#E5ECF6\",\"gridcolor\":\"white\",\"gridwidth\":2,\"linecolor\":\"white\",\"showbackground\":true,\"ticks\":\"\",\"zerolinecolor\":\"white\"},\"zaxis\":{\"backgroundcolor\":\"#E5ECF6\",\"gridcolor\":\"white\",\"gridwidth\":2,\"linecolor\":\"white\",\"showbackground\":true,\"ticks\":\"\",\"zerolinecolor\":\"white\"}},\"shapedefaults\":{\"line\":{\"color\":\"#2a3f5f\"}},\"ternary\":{\"aaxis\":{\"gridcolor\":\"white\",\"linecolor\":\"white\",\"ticks\":\"\"},\"baxis\":{\"gridcolor\":\"white\",\"linecolor\":\"white\",\"ticks\":\"\"},\"bgcolor\":\"#E5ECF6\",\"caxis\":{\"gridcolor\":\"white\",\"linecolor\":\"white\",\"ticks\":\"\"}},\"title\":{\"x\":0.05},\"xaxis\":{\"automargin\":true,\"gridcolor\":\"white\",\"linecolor\":\"white\",\"ticks\":\"\",\"title\":{\"standoff\":15},\"zerolinecolor\":\"white\",\"zerolinewidth\":2},\"yaxis\":{\"automargin\":true,\"gridcolor\":\"white\",\"linecolor\":\"white\",\"ticks\":\"\",\"title\":{\"standoff\":15},\"zerolinecolor\":\"white\",\"zerolinewidth\":2}}},\"title\":{\"font\":{\"color\":\"#4D5663\"}},\"xaxis\":{\"gridcolor\":\"#E1E5ED\",\"showgrid\":true,\"tickfont\":{\"color\":\"#4D5663\"},\"title\":{\"font\":{\"color\":\"#4D5663\"},\"text\":\"\"},\"zerolinecolor\":\"#E1E5ED\"},\"yaxis\":{\"gridcolor\":\"#E1E5ED\",\"showgrid\":true,\"tickfont\":{\"color\":\"#4D5663\"},\"title\":{\"font\":{\"color\":\"#4D5663\"},\"text\":\"\"},\"zerolinecolor\":\"#E1E5ED\"}},                        {\"showLink\": true, \"linkText\": \"Export to plot.ly\", \"plotlyServerURL\": \"https://plot.ly\", \"responsive\": true}                    ).then(function(){\n",
       "                            \n",
       "var gd = document.getElementById('dd6e0e39-956f-4590-94eb-0ae349be3451');\n",
       "var x = new MutationObserver(function (mutations, observer) {{\n",
       "        var display = window.getComputedStyle(gd).display;\n",
       "        if (!display || display === 'none') {{\n",
       "            console.log([gd, 'removed!']);\n",
       "            Plotly.purge(gd);\n",
       "            observer.disconnect();\n",
       "        }}\n",
       "}});\n",
       "\n",
       "// Listen for the removal of the full notebook cells\n",
       "var notebookContainer = gd.closest('#notebook-container');\n",
       "if (notebookContainer) {{\n",
       "    x.observe(notebookContainer, {childList: true});\n",
       "}}\n",
       "\n",
       "// Listen for the clearing of the current output cell\n",
       "var outputEl = gd.closest('.output');\n",
       "if (outputEl) {{\n",
       "    x.observe(outputEl, {childList: true});\n",
       "}}\n",
       "\n",
       "                        })                };                });            </script>        </div>"
      ]
     },
     "metadata": {},
     "output_type": "display_data"
    }
   ],
   "source": [
    "df.iplot(kind='scatter',x='A',y='B')"
   ]
  },
  {
   "cell_type": "code",
   "execution_count": 29,
   "id": "5a164c7b",
   "metadata": {},
   "outputs": [
    {
     "data": {
      "application/vnd.plotly.v1+json": {
       "config": {
        "linkText": "Export to plot.ly",
        "plotlyServerURL": "https://plot.ly",
        "showLink": true
       },
       "data": [
        {
         "line": {
          "color": "rgba(255, 153, 51, 1.0)",
          "dash": "solid",
          "shape": "linear",
          "width": 1.3
         },
         "marker": {
          "size": 10,
          "symbol": "circle"
         },
         "mode": "markers",
         "name": "B",
         "text": "",
         "type": "scatter",
         "x": [
          1.384941095893982,
          -0.3647871044245467,
          -1.613377798789012,
          -0.12920481127577702,
          -0.6300029180423312,
          0.6955311102837984,
          -0.07774289928427856,
          -1.5481508917079352,
          0.3144299528461812,
          1.483756889675816,
          1.3631631851081898,
          0.3577161379182844,
          0.44425005373458687,
          -1.3026835005270772,
          0.8586317944028101,
          -0.12796403591939365,
          0.373209303997531,
          0.5869332431334456,
          0.4864253873475166,
          1.0756346615585344,
          -1.052001580878504,
          0.0906431802398545,
          1.0580572090375877,
          -0.9848808039026463,
          0.5513641846951675,
          1.1659210728519842,
          0.020314764012267873,
          0.3074031709948694,
          -0.23909296540380182,
          0.02171216478090794,
          -0.16254690733414418,
          -0.33711970357111226,
          0.8142846009651958,
          0.5807041935213351,
          1.517465474603419,
          2.64825109236516,
          0.9118993743273417,
          0.3344914818573978,
          -0.6980817050442862,
          -0.014535950295435083,
          -0.29814416383545383,
          -0.0017524875066887394,
          -1.1233972672402575,
          0.06762297707903585,
          -0.16466873420852687,
          -0.1795079343480467,
          -0.6751925963714834,
          2.006888382314444,
          -0.7838881243097859,
          0.9294115904771026,
          -1.058238874474584,
          0.6586637071443632,
          -0.37707299217026374,
          -0.13598986025585266,
          -1.4967184420595114,
          0.4153485006683915,
          0.24121216996263192,
          -3.092016438708254,
          -1.2219917686899848,
          0.8869662273854365,
          -1.0682780065598037,
          -1.2106122878269856,
          0.803250005443257,
          0.9877199560578738,
          -0.2258121665388722,
          0.13923967982184132,
          -0.22573522543316654,
          1.6171694614878647,
          0.5477551242136519,
          0.4420065170066808,
          0.06747036201760358,
          -1.641776468835695,
          -0.2876490151341459,
          0.3684314172007868,
          1.1306668046343704,
          -0.8340553638572694,
          0.6712547294009807,
          0.8197535903257653,
          0.2124039178122506,
          -0.5392633467972721,
          0.010110482279003876,
          0.958789971496834,
          -0.07020997545633594,
          0.33616891127553034,
          -0.3907482690955859,
          0.8806514736157832,
          0.31650766745412495,
          0.1448946459985747,
          0.27772853189609437,
          -0.4036166749778001,
          -0.2926052183646972,
          1.3491425878516692,
          -1.4689030081303354,
          1.43789556687664,
          -1.79323467847179,
          -0.17223590815000211,
          1.0094163974481396,
          -0.31501498808974,
          -0.3962647074563389,
          -2.0067551306542164
         ],
         "y": [
          -0.11794573212984044,
          1.2697792200547326,
          -2.1676156275817493,
          -0.24857109473288877,
          0.40460693442474416,
          1.6139280285149076,
          0.2360306035442598,
          -0.22602808881920358,
          0.057142677471569564,
          -0.7772782408575107,
          0.9429237937088079,
          0.20523204088664526,
          -0.7154259155847406,
          1.1964788967171962,
          1.1522379793062072,
          0.8376926086136763,
          1.3857641285531264,
          -1.2374578036932693,
          -1.7210512496642552,
          -0.2495034317564669,
          0.549318005327426,
          -1.1113590661117567,
          -1.4100862237170253,
          0.9532142588336986,
          -0.5315758547787328,
          0.026876504527802447,
          1.475296799480042,
          -0.05540255585344138,
          0.9422840651588723,
          -1.8656941194067982,
          0.7869650084081312,
          1.405011375883612,
          2.255057549388606,
          0.1462871105740621,
          -2.1847079312579747,
          -1.161172611275934,
          0.6196167217877991,
          0.11183036629305333,
          -0.05854992899036618,
          0.5065278797161682,
          0.175142247004244,
          1.095194809193081,
          2.6837799095371384,
          -0.012627706308564711,
          0.9660921024626176,
          0.6886580320242333,
          -1.0591087700884958,
          0.1104364113543046,
          2.372207831365576,
          -0.8860199351161889,
          1.086165799454149,
          -0.8626755672497495,
          -0.06868432104132013,
          -0.7200816182896868,
          0.4188150947497825,
          0.4228561041113086,
          -0.698445960962204,
          -0.6988310924554466,
          -0.6658491938730066,
          0.2958846261817548,
          -0.3507001784507818,
          0.647173773145682,
          -1.2328387228246311,
          1.0459553224352556,
          0.1231502442460987,
          0.6522703753362419,
          1.3888130593209138,
          0.10676669523311827,
          -1.8282146343099823,
          -0.9934128961933868,
          0.0391113792741524,
          -0.8611094358006953,
          0.41413313956819325,
          -1.4101986910835675,
          1.815049449469626,
          0.9231752547232016,
          0.17927969270330754,
          1.3991110254560424,
          -0.22439988703791916,
          -0.9325281027769723,
          1.434972285835641,
          0.41293299829143254,
          0.22260783277251583,
          -0.6284887586125657,
          -0.04186487356009881,
          -0.4049849380508509,
          1.0931210510758536,
          -0.9357279986842723,
          -0.8187865619869552,
          -2.177802400994987,
          0.38835428050347276,
          -0.138536009177223,
          1.3287017218425048,
          2.193100689061061,
          2.7502259232461843,
          -1.4807074423373137,
          0.27064831548673124,
          0.034154607417923276,
          -0.2738508186098899,
          -0.5388356081283091
         ]
        }
       ],
       "layout": {
        "legend": {
         "bgcolor": "#F5F6F9",
         "font": {
          "color": "#4D5663"
         }
        },
        "paper_bgcolor": "#F5F6F9",
        "plot_bgcolor": "#F5F6F9",
        "template": {
         "data": {
          "bar": [
           {
            "error_x": {
             "color": "#2a3f5f"
            },
            "error_y": {
             "color": "#2a3f5f"
            },
            "marker": {
             "line": {
              "color": "#E5ECF6",
              "width": 0.5
             },
             "pattern": {
              "fillmode": "overlay",
              "size": 10,
              "solidity": 0.2
             }
            },
            "type": "bar"
           }
          ],
          "barpolar": [
           {
            "marker": {
             "line": {
              "color": "#E5ECF6",
              "width": 0.5
             },
             "pattern": {
              "fillmode": "overlay",
              "size": 10,
              "solidity": 0.2
             }
            },
            "type": "barpolar"
           }
          ],
          "carpet": [
           {
            "aaxis": {
             "endlinecolor": "#2a3f5f",
             "gridcolor": "white",
             "linecolor": "white",
             "minorgridcolor": "white",
             "startlinecolor": "#2a3f5f"
            },
            "baxis": {
             "endlinecolor": "#2a3f5f",
             "gridcolor": "white",
             "linecolor": "white",
             "minorgridcolor": "white",
             "startlinecolor": "#2a3f5f"
            },
            "type": "carpet"
           }
          ],
          "choropleth": [
           {
            "colorbar": {
             "outlinewidth": 0,
             "ticks": ""
            },
            "type": "choropleth"
           }
          ],
          "contour": [
           {
            "colorbar": {
             "outlinewidth": 0,
             "ticks": ""
            },
            "colorscale": [
             [
              0,
              "#0d0887"
             ],
             [
              0.1111111111111111,
              "#46039f"
             ],
             [
              0.2222222222222222,
              "#7201a8"
             ],
             [
              0.3333333333333333,
              "#9c179e"
             ],
             [
              0.4444444444444444,
              "#bd3786"
             ],
             [
              0.5555555555555556,
              "#d8576b"
             ],
             [
              0.6666666666666666,
              "#ed7953"
             ],
             [
              0.7777777777777778,
              "#fb9f3a"
             ],
             [
              0.8888888888888888,
              "#fdca26"
             ],
             [
              1,
              "#f0f921"
             ]
            ],
            "type": "contour"
           }
          ],
          "contourcarpet": [
           {
            "colorbar": {
             "outlinewidth": 0,
             "ticks": ""
            },
            "type": "contourcarpet"
           }
          ],
          "heatmap": [
           {
            "colorbar": {
             "outlinewidth": 0,
             "ticks": ""
            },
            "colorscale": [
             [
              0,
              "#0d0887"
             ],
             [
              0.1111111111111111,
              "#46039f"
             ],
             [
              0.2222222222222222,
              "#7201a8"
             ],
             [
              0.3333333333333333,
              "#9c179e"
             ],
             [
              0.4444444444444444,
              "#bd3786"
             ],
             [
              0.5555555555555556,
              "#d8576b"
             ],
             [
              0.6666666666666666,
              "#ed7953"
             ],
             [
              0.7777777777777778,
              "#fb9f3a"
             ],
             [
              0.8888888888888888,
              "#fdca26"
             ],
             [
              1,
              "#f0f921"
             ]
            ],
            "type": "heatmap"
           }
          ],
          "heatmapgl": [
           {
            "colorbar": {
             "outlinewidth": 0,
             "ticks": ""
            },
            "colorscale": [
             [
              0,
              "#0d0887"
             ],
             [
              0.1111111111111111,
              "#46039f"
             ],
             [
              0.2222222222222222,
              "#7201a8"
             ],
             [
              0.3333333333333333,
              "#9c179e"
             ],
             [
              0.4444444444444444,
              "#bd3786"
             ],
             [
              0.5555555555555556,
              "#d8576b"
             ],
             [
              0.6666666666666666,
              "#ed7953"
             ],
             [
              0.7777777777777778,
              "#fb9f3a"
             ],
             [
              0.8888888888888888,
              "#fdca26"
             ],
             [
              1,
              "#f0f921"
             ]
            ],
            "type": "heatmapgl"
           }
          ],
          "histogram": [
           {
            "marker": {
             "pattern": {
              "fillmode": "overlay",
              "size": 10,
              "solidity": 0.2
             }
            },
            "type": "histogram"
           }
          ],
          "histogram2d": [
           {
            "colorbar": {
             "outlinewidth": 0,
             "ticks": ""
            },
            "colorscale": [
             [
              0,
              "#0d0887"
             ],
             [
              0.1111111111111111,
              "#46039f"
             ],
             [
              0.2222222222222222,
              "#7201a8"
             ],
             [
              0.3333333333333333,
              "#9c179e"
             ],
             [
              0.4444444444444444,
              "#bd3786"
             ],
             [
              0.5555555555555556,
              "#d8576b"
             ],
             [
              0.6666666666666666,
              "#ed7953"
             ],
             [
              0.7777777777777778,
              "#fb9f3a"
             ],
             [
              0.8888888888888888,
              "#fdca26"
             ],
             [
              1,
              "#f0f921"
             ]
            ],
            "type": "histogram2d"
           }
          ],
          "histogram2dcontour": [
           {
            "colorbar": {
             "outlinewidth": 0,
             "ticks": ""
            },
            "colorscale": [
             [
              0,
              "#0d0887"
             ],
             [
              0.1111111111111111,
              "#46039f"
             ],
             [
              0.2222222222222222,
              "#7201a8"
             ],
             [
              0.3333333333333333,
              "#9c179e"
             ],
             [
              0.4444444444444444,
              "#bd3786"
             ],
             [
              0.5555555555555556,
              "#d8576b"
             ],
             [
              0.6666666666666666,
              "#ed7953"
             ],
             [
              0.7777777777777778,
              "#fb9f3a"
             ],
             [
              0.8888888888888888,
              "#fdca26"
             ],
             [
              1,
              "#f0f921"
             ]
            ],
            "type": "histogram2dcontour"
           }
          ],
          "mesh3d": [
           {
            "colorbar": {
             "outlinewidth": 0,
             "ticks": ""
            },
            "type": "mesh3d"
           }
          ],
          "parcoords": [
           {
            "line": {
             "colorbar": {
              "outlinewidth": 0,
              "ticks": ""
             }
            },
            "type": "parcoords"
           }
          ],
          "pie": [
           {
            "automargin": true,
            "type": "pie"
           }
          ],
          "scatter": [
           {
            "marker": {
             "colorbar": {
              "outlinewidth": 0,
              "ticks": ""
             }
            },
            "type": "scatter"
           }
          ],
          "scatter3d": [
           {
            "line": {
             "colorbar": {
              "outlinewidth": 0,
              "ticks": ""
             }
            },
            "marker": {
             "colorbar": {
              "outlinewidth": 0,
              "ticks": ""
             }
            },
            "type": "scatter3d"
           }
          ],
          "scattercarpet": [
           {
            "marker": {
             "colorbar": {
              "outlinewidth": 0,
              "ticks": ""
             }
            },
            "type": "scattercarpet"
           }
          ],
          "scattergeo": [
           {
            "marker": {
             "colorbar": {
              "outlinewidth": 0,
              "ticks": ""
             }
            },
            "type": "scattergeo"
           }
          ],
          "scattergl": [
           {
            "marker": {
             "colorbar": {
              "outlinewidth": 0,
              "ticks": ""
             }
            },
            "type": "scattergl"
           }
          ],
          "scattermapbox": [
           {
            "marker": {
             "colorbar": {
              "outlinewidth": 0,
              "ticks": ""
             }
            },
            "type": "scattermapbox"
           }
          ],
          "scatterpolar": [
           {
            "marker": {
             "colorbar": {
              "outlinewidth": 0,
              "ticks": ""
             }
            },
            "type": "scatterpolar"
           }
          ],
          "scatterpolargl": [
           {
            "marker": {
             "colorbar": {
              "outlinewidth": 0,
              "ticks": ""
             }
            },
            "type": "scatterpolargl"
           }
          ],
          "scatterternary": [
           {
            "marker": {
             "colorbar": {
              "outlinewidth": 0,
              "ticks": ""
             }
            },
            "type": "scatterternary"
           }
          ],
          "surface": [
           {
            "colorbar": {
             "outlinewidth": 0,
             "ticks": ""
            },
            "colorscale": [
             [
              0,
              "#0d0887"
             ],
             [
              0.1111111111111111,
              "#46039f"
             ],
             [
              0.2222222222222222,
              "#7201a8"
             ],
             [
              0.3333333333333333,
              "#9c179e"
             ],
             [
              0.4444444444444444,
              "#bd3786"
             ],
             [
              0.5555555555555556,
              "#d8576b"
             ],
             [
              0.6666666666666666,
              "#ed7953"
             ],
             [
              0.7777777777777778,
              "#fb9f3a"
             ],
             [
              0.8888888888888888,
              "#fdca26"
             ],
             [
              1,
              "#f0f921"
             ]
            ],
            "type": "surface"
           }
          ],
          "table": [
           {
            "cells": {
             "fill": {
              "color": "#EBF0F8"
             },
             "line": {
              "color": "white"
             }
            },
            "header": {
             "fill": {
              "color": "#C8D4E3"
             },
             "line": {
              "color": "white"
             }
            },
            "type": "table"
           }
          ]
         },
         "layout": {
          "annotationdefaults": {
           "arrowcolor": "#2a3f5f",
           "arrowhead": 0,
           "arrowwidth": 1
          },
          "autotypenumbers": "strict",
          "coloraxis": {
           "colorbar": {
            "outlinewidth": 0,
            "ticks": ""
           }
          },
          "colorscale": {
           "diverging": [
            [
             0,
             "#8e0152"
            ],
            [
             0.1,
             "#c51b7d"
            ],
            [
             0.2,
             "#de77ae"
            ],
            [
             0.3,
             "#f1b6da"
            ],
            [
             0.4,
             "#fde0ef"
            ],
            [
             0.5,
             "#f7f7f7"
            ],
            [
             0.6,
             "#e6f5d0"
            ],
            [
             0.7,
             "#b8e186"
            ],
            [
             0.8,
             "#7fbc41"
            ],
            [
             0.9,
             "#4d9221"
            ],
            [
             1,
             "#276419"
            ]
           ],
           "sequential": [
            [
             0,
             "#0d0887"
            ],
            [
             0.1111111111111111,
             "#46039f"
            ],
            [
             0.2222222222222222,
             "#7201a8"
            ],
            [
             0.3333333333333333,
             "#9c179e"
            ],
            [
             0.4444444444444444,
             "#bd3786"
            ],
            [
             0.5555555555555556,
             "#d8576b"
            ],
            [
             0.6666666666666666,
             "#ed7953"
            ],
            [
             0.7777777777777778,
             "#fb9f3a"
            ],
            [
             0.8888888888888888,
             "#fdca26"
            ],
            [
             1,
             "#f0f921"
            ]
           ],
           "sequentialminus": [
            [
             0,
             "#0d0887"
            ],
            [
             0.1111111111111111,
             "#46039f"
            ],
            [
             0.2222222222222222,
             "#7201a8"
            ],
            [
             0.3333333333333333,
             "#9c179e"
            ],
            [
             0.4444444444444444,
             "#bd3786"
            ],
            [
             0.5555555555555556,
             "#d8576b"
            ],
            [
             0.6666666666666666,
             "#ed7953"
            ],
            [
             0.7777777777777778,
             "#fb9f3a"
            ],
            [
             0.8888888888888888,
             "#fdca26"
            ],
            [
             1,
             "#f0f921"
            ]
           ]
          },
          "colorway": [
           "#636efa",
           "#EF553B",
           "#00cc96",
           "#ab63fa",
           "#FFA15A",
           "#19d3f3",
           "#FF6692",
           "#B6E880",
           "#FF97FF",
           "#FECB52"
          ],
          "font": {
           "color": "#2a3f5f"
          },
          "geo": {
           "bgcolor": "white",
           "lakecolor": "white",
           "landcolor": "#E5ECF6",
           "showlakes": true,
           "showland": true,
           "subunitcolor": "white"
          },
          "hoverlabel": {
           "align": "left"
          },
          "hovermode": "closest",
          "mapbox": {
           "style": "light"
          },
          "paper_bgcolor": "white",
          "plot_bgcolor": "#E5ECF6",
          "polar": {
           "angularaxis": {
            "gridcolor": "white",
            "linecolor": "white",
            "ticks": ""
           },
           "bgcolor": "#E5ECF6",
           "radialaxis": {
            "gridcolor": "white",
            "linecolor": "white",
            "ticks": ""
           }
          },
          "scene": {
           "xaxis": {
            "backgroundcolor": "#E5ECF6",
            "gridcolor": "white",
            "gridwidth": 2,
            "linecolor": "white",
            "showbackground": true,
            "ticks": "",
            "zerolinecolor": "white"
           },
           "yaxis": {
            "backgroundcolor": "#E5ECF6",
            "gridcolor": "white",
            "gridwidth": 2,
            "linecolor": "white",
            "showbackground": true,
            "ticks": "",
            "zerolinecolor": "white"
           },
           "zaxis": {
            "backgroundcolor": "#E5ECF6",
            "gridcolor": "white",
            "gridwidth": 2,
            "linecolor": "white",
            "showbackground": true,
            "ticks": "",
            "zerolinecolor": "white"
           }
          },
          "shapedefaults": {
           "line": {
            "color": "#2a3f5f"
           }
          },
          "ternary": {
           "aaxis": {
            "gridcolor": "white",
            "linecolor": "white",
            "ticks": ""
           },
           "baxis": {
            "gridcolor": "white",
            "linecolor": "white",
            "ticks": ""
           },
           "bgcolor": "#E5ECF6",
           "caxis": {
            "gridcolor": "white",
            "linecolor": "white",
            "ticks": ""
           }
          },
          "title": {
           "x": 0.05
          },
          "xaxis": {
           "automargin": true,
           "gridcolor": "white",
           "linecolor": "white",
           "ticks": "",
           "title": {
            "standoff": 15
           },
           "zerolinecolor": "white",
           "zerolinewidth": 2
          },
          "yaxis": {
           "automargin": true,
           "gridcolor": "white",
           "linecolor": "white",
           "ticks": "",
           "title": {
            "standoff": 15
           },
           "zerolinecolor": "white",
           "zerolinewidth": 2
          }
         }
        },
        "title": {
         "font": {
          "color": "#4D5663"
         }
        },
        "xaxis": {
         "gridcolor": "#E1E5ED",
         "showgrid": true,
         "tickfont": {
          "color": "#4D5663"
         },
         "title": {
          "font": {
           "color": "#4D5663"
          },
          "text": ""
         },
         "zerolinecolor": "#E1E5ED"
        },
        "yaxis": {
         "gridcolor": "#E1E5ED",
         "showgrid": true,
         "tickfont": {
          "color": "#4D5663"
         },
         "title": {
          "font": {
           "color": "#4D5663"
          },
          "text": ""
         },
         "zerolinecolor": "#E1E5ED"
        }
       }
      },
      "text/html": [
       "<div>                            <div id=\"f6636576-e924-498b-9585-436952a5c3ad\" class=\"plotly-graph-div\" style=\"height:525px; width:100%;\"></div>            <script type=\"text/javascript\">                require([\"plotly\"], function(Plotly) {                    window.PLOTLYENV=window.PLOTLYENV || {};\n",
       "                    window.PLOTLYENV.BASE_URL='https://plot.ly';                                    if (document.getElementById(\"f6636576-e924-498b-9585-436952a5c3ad\")) {                    Plotly.newPlot(                        \"f6636576-e924-498b-9585-436952a5c3ad\",                        [{\"line\":{\"color\":\"rgba(255, 153, 51, 1.0)\",\"dash\":\"solid\",\"shape\":\"linear\",\"width\":1.3},\"marker\":{\"size\":10,\"symbol\":\"circle\"},\"mode\":\"markers\",\"name\":\"B\",\"text\":\"\",\"x\":[1.384941095893982,-0.3647871044245467,-1.613377798789012,-0.12920481127577702,-0.6300029180423312,0.6955311102837984,-0.07774289928427856,-1.5481508917079352,0.3144299528461812,1.483756889675816,1.3631631851081898,0.3577161379182844,0.44425005373458687,-1.3026835005270772,0.8586317944028101,-0.12796403591939365,0.373209303997531,0.5869332431334456,0.4864253873475166,1.0756346615585344,-1.052001580878504,0.0906431802398545,1.0580572090375877,-0.9848808039026463,0.5513641846951675,1.1659210728519842,0.020314764012267873,0.3074031709948694,-0.23909296540380182,0.02171216478090794,-0.16254690733414418,-0.33711970357111226,0.8142846009651958,0.5807041935213351,1.517465474603419,2.64825109236516,0.9118993743273417,0.3344914818573978,-0.6980817050442862,-0.014535950295435083,-0.29814416383545383,-0.0017524875066887394,-1.1233972672402575,0.06762297707903585,-0.16466873420852687,-0.1795079343480467,-0.6751925963714834,2.006888382314444,-0.7838881243097859,0.9294115904771026,-1.058238874474584,0.6586637071443632,-0.37707299217026374,-0.13598986025585266,-1.4967184420595114,0.4153485006683915,0.24121216996263192,-3.092016438708254,-1.2219917686899848,0.8869662273854365,-1.0682780065598037,-1.2106122878269856,0.803250005443257,0.9877199560578738,-0.2258121665388722,0.13923967982184132,-0.22573522543316654,1.6171694614878647,0.5477551242136519,0.4420065170066808,0.06747036201760358,-1.641776468835695,-0.2876490151341459,0.3684314172007868,1.1306668046343704,-0.8340553638572694,0.6712547294009807,0.8197535903257653,0.2124039178122506,-0.5392633467972721,0.010110482279003876,0.958789971496834,-0.07020997545633594,0.33616891127553034,-0.3907482690955859,0.8806514736157832,0.31650766745412495,0.1448946459985747,0.27772853189609437,-0.4036166749778001,-0.2926052183646972,1.3491425878516692,-1.4689030081303354,1.43789556687664,-1.79323467847179,-0.17223590815000211,1.0094163974481396,-0.31501498808974,-0.3962647074563389,-2.0067551306542164],\"y\":[-0.11794573212984044,1.2697792200547326,-2.1676156275817493,-0.24857109473288877,0.40460693442474416,1.6139280285149076,0.2360306035442598,-0.22602808881920358,0.057142677471569564,-0.7772782408575107,0.9429237937088079,0.20523204088664526,-0.7154259155847406,1.1964788967171962,1.1522379793062072,0.8376926086136763,1.3857641285531264,-1.2374578036932693,-1.7210512496642552,-0.2495034317564669,0.549318005327426,-1.1113590661117567,-1.4100862237170253,0.9532142588336986,-0.5315758547787328,0.026876504527802447,1.475296799480042,-0.05540255585344138,0.9422840651588723,-1.8656941194067982,0.7869650084081312,1.405011375883612,2.255057549388606,0.1462871105740621,-2.1847079312579747,-1.161172611275934,0.6196167217877991,0.11183036629305333,-0.05854992899036618,0.5065278797161682,0.175142247004244,1.095194809193081,2.6837799095371384,-0.012627706308564711,0.9660921024626176,0.6886580320242333,-1.0591087700884958,0.1104364113543046,2.372207831365576,-0.8860199351161889,1.086165799454149,-0.8626755672497495,-0.06868432104132013,-0.7200816182896868,0.4188150947497825,0.4228561041113086,-0.698445960962204,-0.6988310924554466,-0.6658491938730066,0.2958846261817548,-0.3507001784507818,0.647173773145682,-1.2328387228246311,1.0459553224352556,0.1231502442460987,0.6522703753362419,1.3888130593209138,0.10676669523311827,-1.8282146343099823,-0.9934128961933868,0.0391113792741524,-0.8611094358006953,0.41413313956819325,-1.4101986910835675,1.815049449469626,0.9231752547232016,0.17927969270330754,1.3991110254560424,-0.22439988703791916,-0.9325281027769723,1.434972285835641,0.41293299829143254,0.22260783277251583,-0.6284887586125657,-0.04186487356009881,-0.4049849380508509,1.0931210510758536,-0.9357279986842723,-0.8187865619869552,-2.177802400994987,0.38835428050347276,-0.138536009177223,1.3287017218425048,2.193100689061061,2.7502259232461843,-1.4807074423373137,0.27064831548673124,0.034154607417923276,-0.2738508186098899,-0.5388356081283091],\"type\":\"scatter\"}],                        {\"legend\":{\"bgcolor\":\"#F5F6F9\",\"font\":{\"color\":\"#4D5663\"}},\"paper_bgcolor\":\"#F5F6F9\",\"plot_bgcolor\":\"#F5F6F9\",\"template\":{\"data\":{\"barpolar\":[{\"marker\":{\"line\":{\"color\":\"#E5ECF6\",\"width\":0.5},\"pattern\":{\"fillmode\":\"overlay\",\"size\":10,\"solidity\":0.2}},\"type\":\"barpolar\"}],\"bar\":[{\"error_x\":{\"color\":\"#2a3f5f\"},\"error_y\":{\"color\":\"#2a3f5f\"},\"marker\":{\"line\":{\"color\":\"#E5ECF6\",\"width\":0.5},\"pattern\":{\"fillmode\":\"overlay\",\"size\":10,\"solidity\":0.2}},\"type\":\"bar\"}],\"carpet\":[{\"aaxis\":{\"endlinecolor\":\"#2a3f5f\",\"gridcolor\":\"white\",\"linecolor\":\"white\",\"minorgridcolor\":\"white\",\"startlinecolor\":\"#2a3f5f\"},\"baxis\":{\"endlinecolor\":\"#2a3f5f\",\"gridcolor\":\"white\",\"linecolor\":\"white\",\"minorgridcolor\":\"white\",\"startlinecolor\":\"#2a3f5f\"},\"type\":\"carpet\"}],\"choropleth\":[{\"colorbar\":{\"outlinewidth\":0,\"ticks\":\"\"},\"type\":\"choropleth\"}],\"contourcarpet\":[{\"colorbar\":{\"outlinewidth\":0,\"ticks\":\"\"},\"type\":\"contourcarpet\"}],\"contour\":[{\"colorbar\":{\"outlinewidth\":0,\"ticks\":\"\"},\"colorscale\":[[0.0,\"#0d0887\"],[0.1111111111111111,\"#46039f\"],[0.2222222222222222,\"#7201a8\"],[0.3333333333333333,\"#9c179e\"],[0.4444444444444444,\"#bd3786\"],[0.5555555555555556,\"#d8576b\"],[0.6666666666666666,\"#ed7953\"],[0.7777777777777778,\"#fb9f3a\"],[0.8888888888888888,\"#fdca26\"],[1.0,\"#f0f921\"]],\"type\":\"contour\"}],\"heatmapgl\":[{\"colorbar\":{\"outlinewidth\":0,\"ticks\":\"\"},\"colorscale\":[[0.0,\"#0d0887\"],[0.1111111111111111,\"#46039f\"],[0.2222222222222222,\"#7201a8\"],[0.3333333333333333,\"#9c179e\"],[0.4444444444444444,\"#bd3786\"],[0.5555555555555556,\"#d8576b\"],[0.6666666666666666,\"#ed7953\"],[0.7777777777777778,\"#fb9f3a\"],[0.8888888888888888,\"#fdca26\"],[1.0,\"#f0f921\"]],\"type\":\"heatmapgl\"}],\"heatmap\":[{\"colorbar\":{\"outlinewidth\":0,\"ticks\":\"\"},\"colorscale\":[[0.0,\"#0d0887\"],[0.1111111111111111,\"#46039f\"],[0.2222222222222222,\"#7201a8\"],[0.3333333333333333,\"#9c179e\"],[0.4444444444444444,\"#bd3786\"],[0.5555555555555556,\"#d8576b\"],[0.6666666666666666,\"#ed7953\"],[0.7777777777777778,\"#fb9f3a\"],[0.8888888888888888,\"#fdca26\"],[1.0,\"#f0f921\"]],\"type\":\"heatmap\"}],\"histogram2dcontour\":[{\"colorbar\":{\"outlinewidth\":0,\"ticks\":\"\"},\"colorscale\":[[0.0,\"#0d0887\"],[0.1111111111111111,\"#46039f\"],[0.2222222222222222,\"#7201a8\"],[0.3333333333333333,\"#9c179e\"],[0.4444444444444444,\"#bd3786\"],[0.5555555555555556,\"#d8576b\"],[0.6666666666666666,\"#ed7953\"],[0.7777777777777778,\"#fb9f3a\"],[0.8888888888888888,\"#fdca26\"],[1.0,\"#f0f921\"]],\"type\":\"histogram2dcontour\"}],\"histogram2d\":[{\"colorbar\":{\"outlinewidth\":0,\"ticks\":\"\"},\"colorscale\":[[0.0,\"#0d0887\"],[0.1111111111111111,\"#46039f\"],[0.2222222222222222,\"#7201a8\"],[0.3333333333333333,\"#9c179e\"],[0.4444444444444444,\"#bd3786\"],[0.5555555555555556,\"#d8576b\"],[0.6666666666666666,\"#ed7953\"],[0.7777777777777778,\"#fb9f3a\"],[0.8888888888888888,\"#fdca26\"],[1.0,\"#f0f921\"]],\"type\":\"histogram2d\"}],\"histogram\":[{\"marker\":{\"pattern\":{\"fillmode\":\"overlay\",\"size\":10,\"solidity\":0.2}},\"type\":\"histogram\"}],\"mesh3d\":[{\"colorbar\":{\"outlinewidth\":0,\"ticks\":\"\"},\"type\":\"mesh3d\"}],\"parcoords\":[{\"line\":{\"colorbar\":{\"outlinewidth\":0,\"ticks\":\"\"}},\"type\":\"parcoords\"}],\"pie\":[{\"automargin\":true,\"type\":\"pie\"}],\"scatter3d\":[{\"line\":{\"colorbar\":{\"outlinewidth\":0,\"ticks\":\"\"}},\"marker\":{\"colorbar\":{\"outlinewidth\":0,\"ticks\":\"\"}},\"type\":\"scatter3d\"}],\"scattercarpet\":[{\"marker\":{\"colorbar\":{\"outlinewidth\":0,\"ticks\":\"\"}},\"type\":\"scattercarpet\"}],\"scattergeo\":[{\"marker\":{\"colorbar\":{\"outlinewidth\":0,\"ticks\":\"\"}},\"type\":\"scattergeo\"}],\"scattergl\":[{\"marker\":{\"colorbar\":{\"outlinewidth\":0,\"ticks\":\"\"}},\"type\":\"scattergl\"}],\"scattermapbox\":[{\"marker\":{\"colorbar\":{\"outlinewidth\":0,\"ticks\":\"\"}},\"type\":\"scattermapbox\"}],\"scatterpolargl\":[{\"marker\":{\"colorbar\":{\"outlinewidth\":0,\"ticks\":\"\"}},\"type\":\"scatterpolargl\"}],\"scatterpolar\":[{\"marker\":{\"colorbar\":{\"outlinewidth\":0,\"ticks\":\"\"}},\"type\":\"scatterpolar\"}],\"scatter\":[{\"marker\":{\"colorbar\":{\"outlinewidth\":0,\"ticks\":\"\"}},\"type\":\"scatter\"}],\"scatterternary\":[{\"marker\":{\"colorbar\":{\"outlinewidth\":0,\"ticks\":\"\"}},\"type\":\"scatterternary\"}],\"surface\":[{\"colorbar\":{\"outlinewidth\":0,\"ticks\":\"\"},\"colorscale\":[[0.0,\"#0d0887\"],[0.1111111111111111,\"#46039f\"],[0.2222222222222222,\"#7201a8\"],[0.3333333333333333,\"#9c179e\"],[0.4444444444444444,\"#bd3786\"],[0.5555555555555556,\"#d8576b\"],[0.6666666666666666,\"#ed7953\"],[0.7777777777777778,\"#fb9f3a\"],[0.8888888888888888,\"#fdca26\"],[1.0,\"#f0f921\"]],\"type\":\"surface\"}],\"table\":[{\"cells\":{\"fill\":{\"color\":\"#EBF0F8\"},\"line\":{\"color\":\"white\"}},\"header\":{\"fill\":{\"color\":\"#C8D4E3\"},\"line\":{\"color\":\"white\"}},\"type\":\"table\"}]},\"layout\":{\"annotationdefaults\":{\"arrowcolor\":\"#2a3f5f\",\"arrowhead\":0,\"arrowwidth\":1},\"autotypenumbers\":\"strict\",\"coloraxis\":{\"colorbar\":{\"outlinewidth\":0,\"ticks\":\"\"}},\"colorscale\":{\"diverging\":[[0,\"#8e0152\"],[0.1,\"#c51b7d\"],[0.2,\"#de77ae\"],[0.3,\"#f1b6da\"],[0.4,\"#fde0ef\"],[0.5,\"#f7f7f7\"],[0.6,\"#e6f5d0\"],[0.7,\"#b8e186\"],[0.8,\"#7fbc41\"],[0.9,\"#4d9221\"],[1,\"#276419\"]],\"sequential\":[[0.0,\"#0d0887\"],[0.1111111111111111,\"#46039f\"],[0.2222222222222222,\"#7201a8\"],[0.3333333333333333,\"#9c179e\"],[0.4444444444444444,\"#bd3786\"],[0.5555555555555556,\"#d8576b\"],[0.6666666666666666,\"#ed7953\"],[0.7777777777777778,\"#fb9f3a\"],[0.8888888888888888,\"#fdca26\"],[1.0,\"#f0f921\"]],\"sequentialminus\":[[0.0,\"#0d0887\"],[0.1111111111111111,\"#46039f\"],[0.2222222222222222,\"#7201a8\"],[0.3333333333333333,\"#9c179e\"],[0.4444444444444444,\"#bd3786\"],[0.5555555555555556,\"#d8576b\"],[0.6666666666666666,\"#ed7953\"],[0.7777777777777778,\"#fb9f3a\"],[0.8888888888888888,\"#fdca26\"],[1.0,\"#f0f921\"]]},\"colorway\":[\"#636efa\",\"#EF553B\",\"#00cc96\",\"#ab63fa\",\"#FFA15A\",\"#19d3f3\",\"#FF6692\",\"#B6E880\",\"#FF97FF\",\"#FECB52\"],\"font\":{\"color\":\"#2a3f5f\"},\"geo\":{\"bgcolor\":\"white\",\"lakecolor\":\"white\",\"landcolor\":\"#E5ECF6\",\"showlakes\":true,\"showland\":true,\"subunitcolor\":\"white\"},\"hoverlabel\":{\"align\":\"left\"},\"hovermode\":\"closest\",\"mapbox\":{\"style\":\"light\"},\"paper_bgcolor\":\"white\",\"plot_bgcolor\":\"#E5ECF6\",\"polar\":{\"angularaxis\":{\"gridcolor\":\"white\",\"linecolor\":\"white\",\"ticks\":\"\"},\"bgcolor\":\"#E5ECF6\",\"radialaxis\":{\"gridcolor\":\"white\",\"linecolor\":\"white\",\"ticks\":\"\"}},\"scene\":{\"xaxis\":{\"backgroundcolor\":\"#E5ECF6\",\"gridcolor\":\"white\",\"gridwidth\":2,\"linecolor\":\"white\",\"showbackground\":true,\"ticks\":\"\",\"zerolinecolor\":\"white\"},\"yaxis\":{\"backgroundcolor\":\"#E5ECF6\",\"gridcolor\":\"white\",\"gridwidth\":2,\"linecolor\":\"white\",\"showbackground\":true,\"ticks\":\"\",\"zerolinecolor\":\"white\"},\"zaxis\":{\"backgroundcolor\":\"#E5ECF6\",\"gridcolor\":\"white\",\"gridwidth\":2,\"linecolor\":\"white\",\"showbackground\":true,\"ticks\":\"\",\"zerolinecolor\":\"white\"}},\"shapedefaults\":{\"line\":{\"color\":\"#2a3f5f\"}},\"ternary\":{\"aaxis\":{\"gridcolor\":\"white\",\"linecolor\":\"white\",\"ticks\":\"\"},\"baxis\":{\"gridcolor\":\"white\",\"linecolor\":\"white\",\"ticks\":\"\"},\"bgcolor\":\"#E5ECF6\",\"caxis\":{\"gridcolor\":\"white\",\"linecolor\":\"white\",\"ticks\":\"\"}},\"title\":{\"x\":0.05},\"xaxis\":{\"automargin\":true,\"gridcolor\":\"white\",\"linecolor\":\"white\",\"ticks\":\"\",\"title\":{\"standoff\":15},\"zerolinecolor\":\"white\",\"zerolinewidth\":2},\"yaxis\":{\"automargin\":true,\"gridcolor\":\"white\",\"linecolor\":\"white\",\"ticks\":\"\",\"title\":{\"standoff\":15},\"zerolinecolor\":\"white\",\"zerolinewidth\":2}}},\"title\":{\"font\":{\"color\":\"#4D5663\"}},\"xaxis\":{\"gridcolor\":\"#E1E5ED\",\"showgrid\":true,\"tickfont\":{\"color\":\"#4D5663\"},\"title\":{\"font\":{\"color\":\"#4D5663\"},\"text\":\"\"},\"zerolinecolor\":\"#E1E5ED\"},\"yaxis\":{\"gridcolor\":\"#E1E5ED\",\"showgrid\":true,\"tickfont\":{\"color\":\"#4D5663\"},\"title\":{\"font\":{\"color\":\"#4D5663\"},\"text\":\"\"},\"zerolinecolor\":\"#E1E5ED\"}},                        {\"showLink\": true, \"linkText\": \"Export to plot.ly\", \"plotlyServerURL\": \"https://plot.ly\", \"responsive\": true}                    ).then(function(){\n",
       "                            \n",
       "var gd = document.getElementById('f6636576-e924-498b-9585-436952a5c3ad');\n",
       "var x = new MutationObserver(function (mutations, observer) {{\n",
       "        var display = window.getComputedStyle(gd).display;\n",
       "        if (!display || display === 'none') {{\n",
       "            console.log([gd, 'removed!']);\n",
       "            Plotly.purge(gd);\n",
       "            observer.disconnect();\n",
       "        }}\n",
       "}});\n",
       "\n",
       "// Listen for the removal of the full notebook cells\n",
       "var notebookContainer = gd.closest('#notebook-container');\n",
       "if (notebookContainer) {{\n",
       "    x.observe(notebookContainer, {childList: true});\n",
       "}}\n",
       "\n",
       "// Listen for the clearing of the current output cell\n",
       "var outputEl = gd.closest('.output');\n",
       "if (outputEl) {{\n",
       "    x.observe(outputEl, {childList: true});\n",
       "}}\n",
       "\n",
       "                        })                };                });            </script>        </div>"
      ]
     },
     "metadata": {},
     "output_type": "display_data"
    }
   ],
   "source": [
    "df.iplot(kind='scatter',x='A',y='B',mode='markers',size=10)"
   ]
  },
  {
   "cell_type": "code",
   "execution_count": 30,
   "id": "228027f5",
   "metadata": {},
   "outputs": [
    {
     "data": {
      "application/vnd.plotly.v1+json": {
       "config": {
        "linkText": "Export to plot.ly",
        "plotlyServerURL": "https://plot.ly",
        "showLink": true
       },
       "data": [
        {
         "marker": {
          "color": "rgba(255, 153, 51, 0.6)",
          "line": {
           "color": "rgba(255, 153, 51, 1.0)",
           "width": 1
          }
         },
         "name": "Values",
         "orientation": "v",
         "text": "",
         "type": "bar",
         "x": [
          "A",
          "B",
          "C"
         ],
         "y": [
          32,
          43,
          50
         ]
        }
       ],
       "layout": {
        "legend": {
         "bgcolor": "#F5F6F9",
         "font": {
          "color": "#4D5663"
         }
        },
        "paper_bgcolor": "#F5F6F9",
        "plot_bgcolor": "#F5F6F9",
        "template": {
         "data": {
          "bar": [
           {
            "error_x": {
             "color": "#2a3f5f"
            },
            "error_y": {
             "color": "#2a3f5f"
            },
            "marker": {
             "line": {
              "color": "#E5ECF6",
              "width": 0.5
             },
             "pattern": {
              "fillmode": "overlay",
              "size": 10,
              "solidity": 0.2
             }
            },
            "type": "bar"
           }
          ],
          "barpolar": [
           {
            "marker": {
             "line": {
              "color": "#E5ECF6",
              "width": 0.5
             },
             "pattern": {
              "fillmode": "overlay",
              "size": 10,
              "solidity": 0.2
             }
            },
            "type": "barpolar"
           }
          ],
          "carpet": [
           {
            "aaxis": {
             "endlinecolor": "#2a3f5f",
             "gridcolor": "white",
             "linecolor": "white",
             "minorgridcolor": "white",
             "startlinecolor": "#2a3f5f"
            },
            "baxis": {
             "endlinecolor": "#2a3f5f",
             "gridcolor": "white",
             "linecolor": "white",
             "minorgridcolor": "white",
             "startlinecolor": "#2a3f5f"
            },
            "type": "carpet"
           }
          ],
          "choropleth": [
           {
            "colorbar": {
             "outlinewidth": 0,
             "ticks": ""
            },
            "type": "choropleth"
           }
          ],
          "contour": [
           {
            "colorbar": {
             "outlinewidth": 0,
             "ticks": ""
            },
            "colorscale": [
             [
              0,
              "#0d0887"
             ],
             [
              0.1111111111111111,
              "#46039f"
             ],
             [
              0.2222222222222222,
              "#7201a8"
             ],
             [
              0.3333333333333333,
              "#9c179e"
             ],
             [
              0.4444444444444444,
              "#bd3786"
             ],
             [
              0.5555555555555556,
              "#d8576b"
             ],
             [
              0.6666666666666666,
              "#ed7953"
             ],
             [
              0.7777777777777778,
              "#fb9f3a"
             ],
             [
              0.8888888888888888,
              "#fdca26"
             ],
             [
              1,
              "#f0f921"
             ]
            ],
            "type": "contour"
           }
          ],
          "contourcarpet": [
           {
            "colorbar": {
             "outlinewidth": 0,
             "ticks": ""
            },
            "type": "contourcarpet"
           }
          ],
          "heatmap": [
           {
            "colorbar": {
             "outlinewidth": 0,
             "ticks": ""
            },
            "colorscale": [
             [
              0,
              "#0d0887"
             ],
             [
              0.1111111111111111,
              "#46039f"
             ],
             [
              0.2222222222222222,
              "#7201a8"
             ],
             [
              0.3333333333333333,
              "#9c179e"
             ],
             [
              0.4444444444444444,
              "#bd3786"
             ],
             [
              0.5555555555555556,
              "#d8576b"
             ],
             [
              0.6666666666666666,
              "#ed7953"
             ],
             [
              0.7777777777777778,
              "#fb9f3a"
             ],
             [
              0.8888888888888888,
              "#fdca26"
             ],
             [
              1,
              "#f0f921"
             ]
            ],
            "type": "heatmap"
           }
          ],
          "heatmapgl": [
           {
            "colorbar": {
             "outlinewidth": 0,
             "ticks": ""
            },
            "colorscale": [
             [
              0,
              "#0d0887"
             ],
             [
              0.1111111111111111,
              "#46039f"
             ],
             [
              0.2222222222222222,
              "#7201a8"
             ],
             [
              0.3333333333333333,
              "#9c179e"
             ],
             [
              0.4444444444444444,
              "#bd3786"
             ],
             [
              0.5555555555555556,
              "#d8576b"
             ],
             [
              0.6666666666666666,
              "#ed7953"
             ],
             [
              0.7777777777777778,
              "#fb9f3a"
             ],
             [
              0.8888888888888888,
              "#fdca26"
             ],
             [
              1,
              "#f0f921"
             ]
            ],
            "type": "heatmapgl"
           }
          ],
          "histogram": [
           {
            "marker": {
             "pattern": {
              "fillmode": "overlay",
              "size": 10,
              "solidity": 0.2
             }
            },
            "type": "histogram"
           }
          ],
          "histogram2d": [
           {
            "colorbar": {
             "outlinewidth": 0,
             "ticks": ""
            },
            "colorscale": [
             [
              0,
              "#0d0887"
             ],
             [
              0.1111111111111111,
              "#46039f"
             ],
             [
              0.2222222222222222,
              "#7201a8"
             ],
             [
              0.3333333333333333,
              "#9c179e"
             ],
             [
              0.4444444444444444,
              "#bd3786"
             ],
             [
              0.5555555555555556,
              "#d8576b"
             ],
             [
              0.6666666666666666,
              "#ed7953"
             ],
             [
              0.7777777777777778,
              "#fb9f3a"
             ],
             [
              0.8888888888888888,
              "#fdca26"
             ],
             [
              1,
              "#f0f921"
             ]
            ],
            "type": "histogram2d"
           }
          ],
          "histogram2dcontour": [
           {
            "colorbar": {
             "outlinewidth": 0,
             "ticks": ""
            },
            "colorscale": [
             [
              0,
              "#0d0887"
             ],
             [
              0.1111111111111111,
              "#46039f"
             ],
             [
              0.2222222222222222,
              "#7201a8"
             ],
             [
              0.3333333333333333,
              "#9c179e"
             ],
             [
              0.4444444444444444,
              "#bd3786"
             ],
             [
              0.5555555555555556,
              "#d8576b"
             ],
             [
              0.6666666666666666,
              "#ed7953"
             ],
             [
              0.7777777777777778,
              "#fb9f3a"
             ],
             [
              0.8888888888888888,
              "#fdca26"
             ],
             [
              1,
              "#f0f921"
             ]
            ],
            "type": "histogram2dcontour"
           }
          ],
          "mesh3d": [
           {
            "colorbar": {
             "outlinewidth": 0,
             "ticks": ""
            },
            "type": "mesh3d"
           }
          ],
          "parcoords": [
           {
            "line": {
             "colorbar": {
              "outlinewidth": 0,
              "ticks": ""
             }
            },
            "type": "parcoords"
           }
          ],
          "pie": [
           {
            "automargin": true,
            "type": "pie"
           }
          ],
          "scatter": [
           {
            "marker": {
             "colorbar": {
              "outlinewidth": 0,
              "ticks": ""
             }
            },
            "type": "scatter"
           }
          ],
          "scatter3d": [
           {
            "line": {
             "colorbar": {
              "outlinewidth": 0,
              "ticks": ""
             }
            },
            "marker": {
             "colorbar": {
              "outlinewidth": 0,
              "ticks": ""
             }
            },
            "type": "scatter3d"
           }
          ],
          "scattercarpet": [
           {
            "marker": {
             "colorbar": {
              "outlinewidth": 0,
              "ticks": ""
             }
            },
            "type": "scattercarpet"
           }
          ],
          "scattergeo": [
           {
            "marker": {
             "colorbar": {
              "outlinewidth": 0,
              "ticks": ""
             }
            },
            "type": "scattergeo"
           }
          ],
          "scattergl": [
           {
            "marker": {
             "colorbar": {
              "outlinewidth": 0,
              "ticks": ""
             }
            },
            "type": "scattergl"
           }
          ],
          "scattermapbox": [
           {
            "marker": {
             "colorbar": {
              "outlinewidth": 0,
              "ticks": ""
             }
            },
            "type": "scattermapbox"
           }
          ],
          "scatterpolar": [
           {
            "marker": {
             "colorbar": {
              "outlinewidth": 0,
              "ticks": ""
             }
            },
            "type": "scatterpolar"
           }
          ],
          "scatterpolargl": [
           {
            "marker": {
             "colorbar": {
              "outlinewidth": 0,
              "ticks": ""
             }
            },
            "type": "scatterpolargl"
           }
          ],
          "scatterternary": [
           {
            "marker": {
             "colorbar": {
              "outlinewidth": 0,
              "ticks": ""
             }
            },
            "type": "scatterternary"
           }
          ],
          "surface": [
           {
            "colorbar": {
             "outlinewidth": 0,
             "ticks": ""
            },
            "colorscale": [
             [
              0,
              "#0d0887"
             ],
             [
              0.1111111111111111,
              "#46039f"
             ],
             [
              0.2222222222222222,
              "#7201a8"
             ],
             [
              0.3333333333333333,
              "#9c179e"
             ],
             [
              0.4444444444444444,
              "#bd3786"
             ],
             [
              0.5555555555555556,
              "#d8576b"
             ],
             [
              0.6666666666666666,
              "#ed7953"
             ],
             [
              0.7777777777777778,
              "#fb9f3a"
             ],
             [
              0.8888888888888888,
              "#fdca26"
             ],
             [
              1,
              "#f0f921"
             ]
            ],
            "type": "surface"
           }
          ],
          "table": [
           {
            "cells": {
             "fill": {
              "color": "#EBF0F8"
             },
             "line": {
              "color": "white"
             }
            },
            "header": {
             "fill": {
              "color": "#C8D4E3"
             },
             "line": {
              "color": "white"
             }
            },
            "type": "table"
           }
          ]
         },
         "layout": {
          "annotationdefaults": {
           "arrowcolor": "#2a3f5f",
           "arrowhead": 0,
           "arrowwidth": 1
          },
          "autotypenumbers": "strict",
          "coloraxis": {
           "colorbar": {
            "outlinewidth": 0,
            "ticks": ""
           }
          },
          "colorscale": {
           "diverging": [
            [
             0,
             "#8e0152"
            ],
            [
             0.1,
             "#c51b7d"
            ],
            [
             0.2,
             "#de77ae"
            ],
            [
             0.3,
             "#f1b6da"
            ],
            [
             0.4,
             "#fde0ef"
            ],
            [
             0.5,
             "#f7f7f7"
            ],
            [
             0.6,
             "#e6f5d0"
            ],
            [
             0.7,
             "#b8e186"
            ],
            [
             0.8,
             "#7fbc41"
            ],
            [
             0.9,
             "#4d9221"
            ],
            [
             1,
             "#276419"
            ]
           ],
           "sequential": [
            [
             0,
             "#0d0887"
            ],
            [
             0.1111111111111111,
             "#46039f"
            ],
            [
             0.2222222222222222,
             "#7201a8"
            ],
            [
             0.3333333333333333,
             "#9c179e"
            ],
            [
             0.4444444444444444,
             "#bd3786"
            ],
            [
             0.5555555555555556,
             "#d8576b"
            ],
            [
             0.6666666666666666,
             "#ed7953"
            ],
            [
             0.7777777777777778,
             "#fb9f3a"
            ],
            [
             0.8888888888888888,
             "#fdca26"
            ],
            [
             1,
             "#f0f921"
            ]
           ],
           "sequentialminus": [
            [
             0,
             "#0d0887"
            ],
            [
             0.1111111111111111,
             "#46039f"
            ],
            [
             0.2222222222222222,
             "#7201a8"
            ],
            [
             0.3333333333333333,
             "#9c179e"
            ],
            [
             0.4444444444444444,
             "#bd3786"
            ],
            [
             0.5555555555555556,
             "#d8576b"
            ],
            [
             0.6666666666666666,
             "#ed7953"
            ],
            [
             0.7777777777777778,
             "#fb9f3a"
            ],
            [
             0.8888888888888888,
             "#fdca26"
            ],
            [
             1,
             "#f0f921"
            ]
           ]
          },
          "colorway": [
           "#636efa",
           "#EF553B",
           "#00cc96",
           "#ab63fa",
           "#FFA15A",
           "#19d3f3",
           "#FF6692",
           "#B6E880",
           "#FF97FF",
           "#FECB52"
          ],
          "font": {
           "color": "#2a3f5f"
          },
          "geo": {
           "bgcolor": "white",
           "lakecolor": "white",
           "landcolor": "#E5ECF6",
           "showlakes": true,
           "showland": true,
           "subunitcolor": "white"
          },
          "hoverlabel": {
           "align": "left"
          },
          "hovermode": "closest",
          "mapbox": {
           "style": "light"
          },
          "paper_bgcolor": "white",
          "plot_bgcolor": "#E5ECF6",
          "polar": {
           "angularaxis": {
            "gridcolor": "white",
            "linecolor": "white",
            "ticks": ""
           },
           "bgcolor": "#E5ECF6",
           "radialaxis": {
            "gridcolor": "white",
            "linecolor": "white",
            "ticks": ""
           }
          },
          "scene": {
           "xaxis": {
            "backgroundcolor": "#E5ECF6",
            "gridcolor": "white",
            "gridwidth": 2,
            "linecolor": "white",
            "showbackground": true,
            "ticks": "",
            "zerolinecolor": "white"
           },
           "yaxis": {
            "backgroundcolor": "#E5ECF6",
            "gridcolor": "white",
            "gridwidth": 2,
            "linecolor": "white",
            "showbackground": true,
            "ticks": "",
            "zerolinecolor": "white"
           },
           "zaxis": {
            "backgroundcolor": "#E5ECF6",
            "gridcolor": "white",
            "gridwidth": 2,
            "linecolor": "white",
            "showbackground": true,
            "ticks": "",
            "zerolinecolor": "white"
           }
          },
          "shapedefaults": {
           "line": {
            "color": "#2a3f5f"
           }
          },
          "ternary": {
           "aaxis": {
            "gridcolor": "white",
            "linecolor": "white",
            "ticks": ""
           },
           "baxis": {
            "gridcolor": "white",
            "linecolor": "white",
            "ticks": ""
           },
           "bgcolor": "#E5ECF6",
           "caxis": {
            "gridcolor": "white",
            "linecolor": "white",
            "ticks": ""
           }
          },
          "title": {
           "x": 0.05
          },
          "xaxis": {
           "automargin": true,
           "gridcolor": "white",
           "linecolor": "white",
           "ticks": "",
           "title": {
            "standoff": 15
           },
           "zerolinecolor": "white",
           "zerolinewidth": 2
          },
          "yaxis": {
           "automargin": true,
           "gridcolor": "white",
           "linecolor": "white",
           "ticks": "",
           "title": {
            "standoff": 15
           },
           "zerolinecolor": "white",
           "zerolinewidth": 2
          }
         }
        },
        "title": {
         "font": {
          "color": "#4D5663"
         }
        },
        "xaxis": {
         "gridcolor": "#E1E5ED",
         "showgrid": true,
         "tickfont": {
          "color": "#4D5663"
         },
         "title": {
          "font": {
           "color": "#4D5663"
          },
          "text": ""
         },
         "zerolinecolor": "#E1E5ED"
        },
        "yaxis": {
         "gridcolor": "#E1E5ED",
         "showgrid": true,
         "tickfont": {
          "color": "#4D5663"
         },
         "title": {
          "font": {
           "color": "#4D5663"
          },
          "text": ""
         },
         "zerolinecolor": "#E1E5ED"
        }
       }
      },
      "text/html": [
       "<div>                            <div id=\"c55ff7d1-2edb-46bd-bf8f-f2952f47ce17\" class=\"plotly-graph-div\" style=\"height:525px; width:100%;\"></div>            <script type=\"text/javascript\">                require([\"plotly\"], function(Plotly) {                    window.PLOTLYENV=window.PLOTLYENV || {};\n",
       "                    window.PLOTLYENV.BASE_URL='https://plot.ly';                                    if (document.getElementById(\"c55ff7d1-2edb-46bd-bf8f-f2952f47ce17\")) {                    Plotly.newPlot(                        \"c55ff7d1-2edb-46bd-bf8f-f2952f47ce17\",                        [{\"marker\":{\"color\":\"rgba(255, 153, 51, 0.6)\",\"line\":{\"color\":\"rgba(255, 153, 51, 1.0)\",\"width\":1}},\"name\":\"Values\",\"orientation\":\"v\",\"text\":\"\",\"x\":[\"A\",\"B\",\"C\"],\"y\":[32,43,50],\"type\":\"bar\"}],                        {\"legend\":{\"bgcolor\":\"#F5F6F9\",\"font\":{\"color\":\"#4D5663\"}},\"paper_bgcolor\":\"#F5F6F9\",\"plot_bgcolor\":\"#F5F6F9\",\"template\":{\"data\":{\"barpolar\":[{\"marker\":{\"line\":{\"color\":\"#E5ECF6\",\"width\":0.5},\"pattern\":{\"fillmode\":\"overlay\",\"size\":10,\"solidity\":0.2}},\"type\":\"barpolar\"}],\"bar\":[{\"error_x\":{\"color\":\"#2a3f5f\"},\"error_y\":{\"color\":\"#2a3f5f\"},\"marker\":{\"line\":{\"color\":\"#E5ECF6\",\"width\":0.5},\"pattern\":{\"fillmode\":\"overlay\",\"size\":10,\"solidity\":0.2}},\"type\":\"bar\"}],\"carpet\":[{\"aaxis\":{\"endlinecolor\":\"#2a3f5f\",\"gridcolor\":\"white\",\"linecolor\":\"white\",\"minorgridcolor\":\"white\",\"startlinecolor\":\"#2a3f5f\"},\"baxis\":{\"endlinecolor\":\"#2a3f5f\",\"gridcolor\":\"white\",\"linecolor\":\"white\",\"minorgridcolor\":\"white\",\"startlinecolor\":\"#2a3f5f\"},\"type\":\"carpet\"}],\"choropleth\":[{\"colorbar\":{\"outlinewidth\":0,\"ticks\":\"\"},\"type\":\"choropleth\"}],\"contourcarpet\":[{\"colorbar\":{\"outlinewidth\":0,\"ticks\":\"\"},\"type\":\"contourcarpet\"}],\"contour\":[{\"colorbar\":{\"outlinewidth\":0,\"ticks\":\"\"},\"colorscale\":[[0.0,\"#0d0887\"],[0.1111111111111111,\"#46039f\"],[0.2222222222222222,\"#7201a8\"],[0.3333333333333333,\"#9c179e\"],[0.4444444444444444,\"#bd3786\"],[0.5555555555555556,\"#d8576b\"],[0.6666666666666666,\"#ed7953\"],[0.7777777777777778,\"#fb9f3a\"],[0.8888888888888888,\"#fdca26\"],[1.0,\"#f0f921\"]],\"type\":\"contour\"}],\"heatmapgl\":[{\"colorbar\":{\"outlinewidth\":0,\"ticks\":\"\"},\"colorscale\":[[0.0,\"#0d0887\"],[0.1111111111111111,\"#46039f\"],[0.2222222222222222,\"#7201a8\"],[0.3333333333333333,\"#9c179e\"],[0.4444444444444444,\"#bd3786\"],[0.5555555555555556,\"#d8576b\"],[0.6666666666666666,\"#ed7953\"],[0.7777777777777778,\"#fb9f3a\"],[0.8888888888888888,\"#fdca26\"],[1.0,\"#f0f921\"]],\"type\":\"heatmapgl\"}],\"heatmap\":[{\"colorbar\":{\"outlinewidth\":0,\"ticks\":\"\"},\"colorscale\":[[0.0,\"#0d0887\"],[0.1111111111111111,\"#46039f\"],[0.2222222222222222,\"#7201a8\"],[0.3333333333333333,\"#9c179e\"],[0.4444444444444444,\"#bd3786\"],[0.5555555555555556,\"#d8576b\"],[0.6666666666666666,\"#ed7953\"],[0.7777777777777778,\"#fb9f3a\"],[0.8888888888888888,\"#fdca26\"],[1.0,\"#f0f921\"]],\"type\":\"heatmap\"}],\"histogram2dcontour\":[{\"colorbar\":{\"outlinewidth\":0,\"ticks\":\"\"},\"colorscale\":[[0.0,\"#0d0887\"],[0.1111111111111111,\"#46039f\"],[0.2222222222222222,\"#7201a8\"],[0.3333333333333333,\"#9c179e\"],[0.4444444444444444,\"#bd3786\"],[0.5555555555555556,\"#d8576b\"],[0.6666666666666666,\"#ed7953\"],[0.7777777777777778,\"#fb9f3a\"],[0.8888888888888888,\"#fdca26\"],[1.0,\"#f0f921\"]],\"type\":\"histogram2dcontour\"}],\"histogram2d\":[{\"colorbar\":{\"outlinewidth\":0,\"ticks\":\"\"},\"colorscale\":[[0.0,\"#0d0887\"],[0.1111111111111111,\"#46039f\"],[0.2222222222222222,\"#7201a8\"],[0.3333333333333333,\"#9c179e\"],[0.4444444444444444,\"#bd3786\"],[0.5555555555555556,\"#d8576b\"],[0.6666666666666666,\"#ed7953\"],[0.7777777777777778,\"#fb9f3a\"],[0.8888888888888888,\"#fdca26\"],[1.0,\"#f0f921\"]],\"type\":\"histogram2d\"}],\"histogram\":[{\"marker\":{\"pattern\":{\"fillmode\":\"overlay\",\"size\":10,\"solidity\":0.2}},\"type\":\"histogram\"}],\"mesh3d\":[{\"colorbar\":{\"outlinewidth\":0,\"ticks\":\"\"},\"type\":\"mesh3d\"}],\"parcoords\":[{\"line\":{\"colorbar\":{\"outlinewidth\":0,\"ticks\":\"\"}},\"type\":\"parcoords\"}],\"pie\":[{\"automargin\":true,\"type\":\"pie\"}],\"scatter3d\":[{\"line\":{\"colorbar\":{\"outlinewidth\":0,\"ticks\":\"\"}},\"marker\":{\"colorbar\":{\"outlinewidth\":0,\"ticks\":\"\"}},\"type\":\"scatter3d\"}],\"scattercarpet\":[{\"marker\":{\"colorbar\":{\"outlinewidth\":0,\"ticks\":\"\"}},\"type\":\"scattercarpet\"}],\"scattergeo\":[{\"marker\":{\"colorbar\":{\"outlinewidth\":0,\"ticks\":\"\"}},\"type\":\"scattergeo\"}],\"scattergl\":[{\"marker\":{\"colorbar\":{\"outlinewidth\":0,\"ticks\":\"\"}},\"type\":\"scattergl\"}],\"scattermapbox\":[{\"marker\":{\"colorbar\":{\"outlinewidth\":0,\"ticks\":\"\"}},\"type\":\"scattermapbox\"}],\"scatterpolargl\":[{\"marker\":{\"colorbar\":{\"outlinewidth\":0,\"ticks\":\"\"}},\"type\":\"scatterpolargl\"}],\"scatterpolar\":[{\"marker\":{\"colorbar\":{\"outlinewidth\":0,\"ticks\":\"\"}},\"type\":\"scatterpolar\"}],\"scatter\":[{\"marker\":{\"colorbar\":{\"outlinewidth\":0,\"ticks\":\"\"}},\"type\":\"scatter\"}],\"scatterternary\":[{\"marker\":{\"colorbar\":{\"outlinewidth\":0,\"ticks\":\"\"}},\"type\":\"scatterternary\"}],\"surface\":[{\"colorbar\":{\"outlinewidth\":0,\"ticks\":\"\"},\"colorscale\":[[0.0,\"#0d0887\"],[0.1111111111111111,\"#46039f\"],[0.2222222222222222,\"#7201a8\"],[0.3333333333333333,\"#9c179e\"],[0.4444444444444444,\"#bd3786\"],[0.5555555555555556,\"#d8576b\"],[0.6666666666666666,\"#ed7953\"],[0.7777777777777778,\"#fb9f3a\"],[0.8888888888888888,\"#fdca26\"],[1.0,\"#f0f921\"]],\"type\":\"surface\"}],\"table\":[{\"cells\":{\"fill\":{\"color\":\"#EBF0F8\"},\"line\":{\"color\":\"white\"}},\"header\":{\"fill\":{\"color\":\"#C8D4E3\"},\"line\":{\"color\":\"white\"}},\"type\":\"table\"}]},\"layout\":{\"annotationdefaults\":{\"arrowcolor\":\"#2a3f5f\",\"arrowhead\":0,\"arrowwidth\":1},\"autotypenumbers\":\"strict\",\"coloraxis\":{\"colorbar\":{\"outlinewidth\":0,\"ticks\":\"\"}},\"colorscale\":{\"diverging\":[[0,\"#8e0152\"],[0.1,\"#c51b7d\"],[0.2,\"#de77ae\"],[0.3,\"#f1b6da\"],[0.4,\"#fde0ef\"],[0.5,\"#f7f7f7\"],[0.6,\"#e6f5d0\"],[0.7,\"#b8e186\"],[0.8,\"#7fbc41\"],[0.9,\"#4d9221\"],[1,\"#276419\"]],\"sequential\":[[0.0,\"#0d0887\"],[0.1111111111111111,\"#46039f\"],[0.2222222222222222,\"#7201a8\"],[0.3333333333333333,\"#9c179e\"],[0.4444444444444444,\"#bd3786\"],[0.5555555555555556,\"#d8576b\"],[0.6666666666666666,\"#ed7953\"],[0.7777777777777778,\"#fb9f3a\"],[0.8888888888888888,\"#fdca26\"],[1.0,\"#f0f921\"]],\"sequentialminus\":[[0.0,\"#0d0887\"],[0.1111111111111111,\"#46039f\"],[0.2222222222222222,\"#7201a8\"],[0.3333333333333333,\"#9c179e\"],[0.4444444444444444,\"#bd3786\"],[0.5555555555555556,\"#d8576b\"],[0.6666666666666666,\"#ed7953\"],[0.7777777777777778,\"#fb9f3a\"],[0.8888888888888888,\"#fdca26\"],[1.0,\"#f0f921\"]]},\"colorway\":[\"#636efa\",\"#EF553B\",\"#00cc96\",\"#ab63fa\",\"#FFA15A\",\"#19d3f3\",\"#FF6692\",\"#B6E880\",\"#FF97FF\",\"#FECB52\"],\"font\":{\"color\":\"#2a3f5f\"},\"geo\":{\"bgcolor\":\"white\",\"lakecolor\":\"white\",\"landcolor\":\"#E5ECF6\",\"showlakes\":true,\"showland\":true,\"subunitcolor\":\"white\"},\"hoverlabel\":{\"align\":\"left\"},\"hovermode\":\"closest\",\"mapbox\":{\"style\":\"light\"},\"paper_bgcolor\":\"white\",\"plot_bgcolor\":\"#E5ECF6\",\"polar\":{\"angularaxis\":{\"gridcolor\":\"white\",\"linecolor\":\"white\",\"ticks\":\"\"},\"bgcolor\":\"#E5ECF6\",\"radialaxis\":{\"gridcolor\":\"white\",\"linecolor\":\"white\",\"ticks\":\"\"}},\"scene\":{\"xaxis\":{\"backgroundcolor\":\"#E5ECF6\",\"gridcolor\":\"white\",\"gridwidth\":2,\"linecolor\":\"white\",\"showbackground\":true,\"ticks\":\"\",\"zerolinecolor\":\"white\"},\"yaxis\":{\"backgroundcolor\":\"#E5ECF6\",\"gridcolor\":\"white\",\"gridwidth\":2,\"linecolor\":\"white\",\"showbackground\":true,\"ticks\":\"\",\"zerolinecolor\":\"white\"},\"zaxis\":{\"backgroundcolor\":\"#E5ECF6\",\"gridcolor\":\"white\",\"gridwidth\":2,\"linecolor\":\"white\",\"showbackground\":true,\"ticks\":\"\",\"zerolinecolor\":\"white\"}},\"shapedefaults\":{\"line\":{\"color\":\"#2a3f5f\"}},\"ternary\":{\"aaxis\":{\"gridcolor\":\"white\",\"linecolor\":\"white\",\"ticks\":\"\"},\"baxis\":{\"gridcolor\":\"white\",\"linecolor\":\"white\",\"ticks\":\"\"},\"bgcolor\":\"#E5ECF6\",\"caxis\":{\"gridcolor\":\"white\",\"linecolor\":\"white\",\"ticks\":\"\"}},\"title\":{\"x\":0.05},\"xaxis\":{\"automargin\":true,\"gridcolor\":\"white\",\"linecolor\":\"white\",\"ticks\":\"\",\"title\":{\"standoff\":15},\"zerolinecolor\":\"white\",\"zerolinewidth\":2},\"yaxis\":{\"automargin\":true,\"gridcolor\":\"white\",\"linecolor\":\"white\",\"ticks\":\"\",\"title\":{\"standoff\":15},\"zerolinecolor\":\"white\",\"zerolinewidth\":2}}},\"title\":{\"font\":{\"color\":\"#4D5663\"}},\"xaxis\":{\"gridcolor\":\"#E1E5ED\",\"showgrid\":true,\"tickfont\":{\"color\":\"#4D5663\"},\"title\":{\"font\":{\"color\":\"#4D5663\"},\"text\":\"\"},\"zerolinecolor\":\"#E1E5ED\"},\"yaxis\":{\"gridcolor\":\"#E1E5ED\",\"showgrid\":true,\"tickfont\":{\"color\":\"#4D5663\"},\"title\":{\"font\":{\"color\":\"#4D5663\"},\"text\":\"\"},\"zerolinecolor\":\"#E1E5ED\"}},                        {\"showLink\": true, \"linkText\": \"Export to plot.ly\", \"plotlyServerURL\": \"https://plot.ly\", \"responsive\": true}                    ).then(function(){\n",
       "                            \n",
       "var gd = document.getElementById('c55ff7d1-2edb-46bd-bf8f-f2952f47ce17');\n",
       "var x = new MutationObserver(function (mutations, observer) {{\n",
       "        var display = window.getComputedStyle(gd).display;\n",
       "        if (!display || display === 'none') {{\n",
       "            console.log([gd, 'removed!']);\n",
       "            Plotly.purge(gd);\n",
       "            observer.disconnect();\n",
       "        }}\n",
       "}});\n",
       "\n",
       "// Listen for the removal of the full notebook cells\n",
       "var notebookContainer = gd.closest('#notebook-container');\n",
       "if (notebookContainer) {{\n",
       "    x.observe(notebookContainer, {childList: true});\n",
       "}}\n",
       "\n",
       "// Listen for the clearing of the current output cell\n",
       "var outputEl = gd.closest('.output');\n",
       "if (outputEl) {{\n",
       "    x.observe(outputEl, {childList: true});\n",
       "}}\n",
       "\n",
       "                        })                };                });            </script>        </div>"
      ]
     },
     "metadata": {},
     "output_type": "display_data"
    }
   ],
   "source": [
    "df2.iplot(kind='bar',x='Category',y='Values')"
   ]
  },
  {
   "cell_type": "code",
   "execution_count": 36,
   "id": "29d45e5d",
   "metadata": {},
   "outputs": [
    {
     "data": {
      "application/vnd.plotly.v1+json": {
       "config": {
        "linkText": "Export to plot.ly",
        "plotlyServerURL": "https://plot.ly",
        "showLink": true
       },
       "data": [
        {
         "marker": {
          "color": "rgba(255, 153, 51, 0.6)",
          "line": {
           "color": "rgba(255, 153, 51, 1.0)",
           "width": 1
          }
         },
         "name": "A",
         "orientation": "v",
         "text": "",
         "type": "bar",
         "x": [
          0,
          1,
          2,
          3,
          4,
          5,
          6,
          7,
          8,
          9,
          10,
          11,
          12,
          13,
          14,
          15,
          16,
          17,
          18,
          19,
          20,
          21,
          22,
          23,
          24,
          25,
          26,
          27,
          28,
          29,
          30,
          31,
          32,
          33,
          34,
          35,
          36,
          37,
          38,
          39,
          40,
          41,
          42,
          43,
          44,
          45,
          46,
          47,
          48,
          49,
          50,
          51,
          52,
          53,
          54,
          55,
          56,
          57,
          58,
          59,
          60,
          61,
          62,
          63,
          64,
          65,
          66,
          67,
          68,
          69,
          70,
          71,
          72,
          73,
          74,
          75,
          76,
          77,
          78,
          79,
          80,
          81,
          82,
          83,
          84,
          85,
          86,
          87,
          88,
          89,
          90,
          91,
          92,
          93,
          94,
          95,
          96,
          97,
          98,
          99
         ],
         "y": [
          1.384941095893982,
          -0.3647871044245467,
          -1.613377798789012,
          -0.12920481127577702,
          -0.6300029180423312,
          0.6955311102837984,
          -0.07774289928427856,
          -1.5481508917079352,
          0.3144299528461812,
          1.483756889675816,
          1.3631631851081898,
          0.3577161379182844,
          0.44425005373458687,
          -1.3026835005270772,
          0.8586317944028101,
          -0.12796403591939365,
          0.373209303997531,
          0.5869332431334456,
          0.4864253873475166,
          1.0756346615585344,
          -1.052001580878504,
          0.0906431802398545,
          1.0580572090375877,
          -0.9848808039026463,
          0.5513641846951675,
          1.1659210728519842,
          0.020314764012267873,
          0.3074031709948694,
          -0.23909296540380182,
          0.02171216478090794,
          -0.16254690733414418,
          -0.33711970357111226,
          0.8142846009651958,
          0.5807041935213351,
          1.517465474603419,
          2.64825109236516,
          0.9118993743273417,
          0.3344914818573978,
          -0.6980817050442862,
          -0.014535950295435083,
          -0.29814416383545383,
          -0.0017524875066887394,
          -1.1233972672402575,
          0.06762297707903585,
          -0.16466873420852687,
          -0.1795079343480467,
          -0.6751925963714834,
          2.006888382314444,
          -0.7838881243097859,
          0.9294115904771026,
          -1.058238874474584,
          0.6586637071443632,
          -0.37707299217026374,
          -0.13598986025585266,
          -1.4967184420595114,
          0.4153485006683915,
          0.24121216996263192,
          -3.092016438708254,
          -1.2219917686899848,
          0.8869662273854365,
          -1.0682780065598037,
          -1.2106122878269856,
          0.803250005443257,
          0.9877199560578738,
          -0.2258121665388722,
          0.13923967982184132,
          -0.22573522543316654,
          1.6171694614878647,
          0.5477551242136519,
          0.4420065170066808,
          0.06747036201760358,
          -1.641776468835695,
          -0.2876490151341459,
          0.3684314172007868,
          1.1306668046343704,
          -0.8340553638572694,
          0.6712547294009807,
          0.8197535903257653,
          0.2124039178122506,
          -0.5392633467972721,
          0.010110482279003876,
          0.958789971496834,
          -0.07020997545633594,
          0.33616891127553034,
          -0.3907482690955859,
          0.8806514736157832,
          0.31650766745412495,
          0.1448946459985747,
          0.27772853189609437,
          -0.4036166749778001,
          -0.2926052183646972,
          1.3491425878516692,
          -1.4689030081303354,
          1.43789556687664,
          -1.79323467847179,
          -0.17223590815000211,
          1.0094163974481396,
          -0.31501498808974,
          -0.3962647074563389,
          -2.0067551306542164
         ]
        },
        {
         "marker": {
          "color": "rgba(55, 128, 191, 0.6)",
          "line": {
           "color": "rgba(55, 128, 191, 1.0)",
           "width": 1
          }
         },
         "name": "B",
         "orientation": "v",
         "text": "",
         "type": "bar",
         "x": [
          0,
          1,
          2,
          3,
          4,
          5,
          6,
          7,
          8,
          9,
          10,
          11,
          12,
          13,
          14,
          15,
          16,
          17,
          18,
          19,
          20,
          21,
          22,
          23,
          24,
          25,
          26,
          27,
          28,
          29,
          30,
          31,
          32,
          33,
          34,
          35,
          36,
          37,
          38,
          39,
          40,
          41,
          42,
          43,
          44,
          45,
          46,
          47,
          48,
          49,
          50,
          51,
          52,
          53,
          54,
          55,
          56,
          57,
          58,
          59,
          60,
          61,
          62,
          63,
          64,
          65,
          66,
          67,
          68,
          69,
          70,
          71,
          72,
          73,
          74,
          75,
          76,
          77,
          78,
          79,
          80,
          81,
          82,
          83,
          84,
          85,
          86,
          87,
          88,
          89,
          90,
          91,
          92,
          93,
          94,
          95,
          96,
          97,
          98,
          99
         ],
         "y": [
          -0.11794573212984044,
          1.2697792200547326,
          -2.1676156275817493,
          -0.24857109473288877,
          0.40460693442474416,
          1.6139280285149076,
          0.2360306035442598,
          -0.22602808881920358,
          0.057142677471569564,
          -0.7772782408575107,
          0.9429237937088079,
          0.20523204088664526,
          -0.7154259155847406,
          1.1964788967171962,
          1.1522379793062072,
          0.8376926086136763,
          1.3857641285531264,
          -1.2374578036932693,
          -1.7210512496642552,
          -0.2495034317564669,
          0.549318005327426,
          -1.1113590661117567,
          -1.4100862237170253,
          0.9532142588336986,
          -0.5315758547787328,
          0.026876504527802447,
          1.475296799480042,
          -0.05540255585344138,
          0.9422840651588723,
          -1.8656941194067982,
          0.7869650084081312,
          1.405011375883612,
          2.255057549388606,
          0.1462871105740621,
          -2.1847079312579747,
          -1.161172611275934,
          0.6196167217877991,
          0.11183036629305333,
          -0.05854992899036618,
          0.5065278797161682,
          0.175142247004244,
          1.095194809193081,
          2.6837799095371384,
          -0.012627706308564711,
          0.9660921024626176,
          0.6886580320242333,
          -1.0591087700884958,
          0.1104364113543046,
          2.372207831365576,
          -0.8860199351161889,
          1.086165799454149,
          -0.8626755672497495,
          -0.06868432104132013,
          -0.7200816182896868,
          0.4188150947497825,
          0.4228561041113086,
          -0.698445960962204,
          -0.6988310924554466,
          -0.6658491938730066,
          0.2958846261817548,
          -0.3507001784507818,
          0.647173773145682,
          -1.2328387228246311,
          1.0459553224352556,
          0.1231502442460987,
          0.6522703753362419,
          1.3888130593209138,
          0.10676669523311827,
          -1.8282146343099823,
          -0.9934128961933868,
          0.0391113792741524,
          -0.8611094358006953,
          0.41413313956819325,
          -1.4101986910835675,
          1.815049449469626,
          0.9231752547232016,
          0.17927969270330754,
          1.3991110254560424,
          -0.22439988703791916,
          -0.9325281027769723,
          1.434972285835641,
          0.41293299829143254,
          0.22260783277251583,
          -0.6284887586125657,
          -0.04186487356009881,
          -0.4049849380508509,
          1.0931210510758536,
          -0.9357279986842723,
          -0.8187865619869552,
          -2.177802400994987,
          0.38835428050347276,
          -0.138536009177223,
          1.3287017218425048,
          2.193100689061061,
          2.7502259232461843,
          -1.4807074423373137,
          0.27064831548673124,
          0.034154607417923276,
          -0.2738508186098899,
          -0.5388356081283091
         ]
        },
        {
         "marker": {
          "color": "rgba(50, 171, 96, 0.6)",
          "line": {
           "color": "rgba(50, 171, 96, 1.0)",
           "width": 1
          }
         },
         "name": "C",
         "orientation": "v",
         "text": "",
         "type": "bar",
         "x": [
          0,
          1,
          2,
          3,
          4,
          5,
          6,
          7,
          8,
          9,
          10,
          11,
          12,
          13,
          14,
          15,
          16,
          17,
          18,
          19,
          20,
          21,
          22,
          23,
          24,
          25,
          26,
          27,
          28,
          29,
          30,
          31,
          32,
          33,
          34,
          35,
          36,
          37,
          38,
          39,
          40,
          41,
          42,
          43,
          44,
          45,
          46,
          47,
          48,
          49,
          50,
          51,
          52,
          53,
          54,
          55,
          56,
          57,
          58,
          59,
          60,
          61,
          62,
          63,
          64,
          65,
          66,
          67,
          68,
          69,
          70,
          71,
          72,
          73,
          74,
          75,
          76,
          77,
          78,
          79,
          80,
          81,
          82,
          83,
          84,
          85,
          86,
          87,
          88,
          89,
          90,
          91,
          92,
          93,
          94,
          95,
          96,
          97,
          98,
          99
         ],
         "y": [
          1.9401484848174453,
          -1.2397331297731549,
          -1.018675973013534,
          -0.33547878047215196,
          -1.3699549380833393,
          1.3810263767929065,
          0.7721843153431419,
          -0.7722237296090372,
          0.8486180756818512,
          1.7440433826405037,
          -0.08001824533932232,
          2.0661183345020007,
          0.04572602069072565,
          -1.0819021945413614,
          0.009085452996414885,
          -0.9878765751184702,
          0.37075917857625,
          0.25437485137637955,
          1.1841266827114045,
          -1.1453249365393527,
          0.5857775601891346,
          0.8710303685429346,
          -0.024783030100748008,
          0.6150492408405598,
          1.4716652952158042,
          -0.46758776423255266,
          -0.1588164476426438,
          -0.30304520129019064,
          -0.390934590087459,
          -0.24233821807824782,
          -0.8688043843960509,
          2.1365140455407627,
          0.4390931231504873,
          -1.4893614799515036,
          -2.4386452322949346,
          -1.1422505213045908,
          -1.4149163539103322,
          -0.013994673048110981,
          -2.034223797662766,
          1.4253019420988005,
          -2.0632544066807643,
          0.6996640900505026,
          0.5166100297666383,
          -1.071532965949633,
          -0.9051225166232557,
          -0.7934178460696767,
          -0.8224502512549449,
          0.15493335662541116,
          0.39500230090794575,
          0.8857418121756081,
          0.32000079106086377,
          -0.008234679363814059,
          0.49444038047693045,
          -0.7121015253712025,
          0.11159926839694684,
          -0.6397544473062552,
          -0.6297012892092753,
          -0.14708147193593385,
          -1.831759802918478,
          -1.132317223629694,
          0.8300459562443999,
          -0.5768572815494716,
          0.7256517351358649,
          0.315413301407352,
          0.2568963021893039,
          0.27725859353110416,
          -0.13520879790699447,
          -0.5648419203108074,
          -2.954018487536646,
          -0.940562870249268,
          -1.2466882336102456,
          -0.8033234119044046,
          0.26439271338445264,
          -0.21474918616508726,
          -0.39167546554283417,
          0.11783823012584817,
          -0.46125483724851585,
          1.328839452652975,
          3.1635328556243794,
          0.1034546363343562,
          -1.260959363985953,
          1.2107659875753456,
          1.3089355281014505,
          -0.08791413108196387,
          -0.3599472537742511,
          1.980076893144827,
          0.3797782251011386,
          -1.7519402263507402,
          -0.7082770903572351,
          -0.15113155411961024,
          0.43962501015970173,
          -0.20895860876046474,
          0.5546753479330597,
          0.1782227202309211,
          1.7531082352203122,
          -0.7415829058805974,
          -0.6266777912851297,
          0.6640612063767465,
          0.41009329778209624,
          0.6915880772218923
         ]
        },
        {
         "marker": {
          "color": "rgba(128, 0, 128, 0.6)",
          "line": {
           "color": "rgba(128, 0, 128, 1.0)",
           "width": 1
          }
         },
         "name": "D",
         "orientation": "v",
         "text": "",
         "type": "bar",
         "x": [
          0,
          1,
          2,
          3,
          4,
          5,
          6,
          7,
          8,
          9,
          10,
          11,
          12,
          13,
          14,
          15,
          16,
          17,
          18,
          19,
          20,
          21,
          22,
          23,
          24,
          25,
          26,
          27,
          28,
          29,
          30,
          31,
          32,
          33,
          34,
          35,
          36,
          37,
          38,
          39,
          40,
          41,
          42,
          43,
          44,
          45,
          46,
          47,
          48,
          49,
          50,
          51,
          52,
          53,
          54,
          55,
          56,
          57,
          58,
          59,
          60,
          61,
          62,
          63,
          64,
          65,
          66,
          67,
          68,
          69,
          70,
          71,
          72,
          73,
          74,
          75,
          76,
          77,
          78,
          79,
          80,
          81,
          82,
          83,
          84,
          85,
          86,
          87,
          88,
          89,
          90,
          91,
          92,
          93,
          94,
          95,
          96,
          97,
          98,
          99
         ],
         "y": [
          -0.232607190972093,
          -0.10745682172545627,
          0.7301665782338982,
          -0.8086553985085576,
          -0.3808934345748271,
          -0.49728208115444156,
          -1.143202283557806,
          -0.00924216908427607,
          -0.5762292058604443,
          1.8107409045922969,
          -0.6429151459186503,
          -2.037122862243596,
          -1.1833441828811444,
          -0.2798311937972491,
          -2.3309295348858714,
          -1.181839359370192,
          0.9880300418287801,
          0.8556429383351365,
          1.1693382981537819,
          -1.3808702075475496,
          -0.18309447973892146,
          0.8438897509043974,
          1.581060734608897,
          -0.3596068422236975,
          0.13079908839655863,
          2.2113961251101677,
          -0.36346947498616455,
          -0.6800940270845436,
          1.1187059400934791,
          1.1043099757023331,
          -0.6823882796178447,
          -1.10897733367768,
          -1.6084453760231952,
          0.6398458111237544,
          -2.141650215025133,
          -0.629848221432961,
          -1.3459166652575534,
          0.9192082959941965,
          -0.5172725131310544,
          -0.8588962555419287,
          -0.09863404903046664,
          -1.804389501103032,
          -0.9593821912233614,
          1.0241520629708463,
          -0.6603271986227551,
          -0.26588194329921705,
          0.004759080754978136,
          0.34865477211306106,
          -0.3448425950988407,
          0.7842889066349303,
          1.3925201197443657,
          -0.3594709526907821,
          1.0618973955064497,
          0.14680351808446498,
          -1.7515468410520656,
          -0.6135423107048211,
          -0.9575148475814658,
          1.572687835401607,
          1.5922959327473496,
          1.2073779390002217,
          -0.36322906421417334,
          -2.0688991515179,
          1.1871757251508457,
          2.557928207241564,
          -0.1451521867356024,
          1.0728316273159937,
          0.5540363273931462,
          -0.8189397303937418,
          -0.2991846022135686,
          -0.5589151651974367,
          -1.5852563314699741,
          -1.0250545535826507,
          -0.7307299175017817,
          -1.7498252041560964,
          -1.7707723082582265,
          -0.10650969392090688,
          -1.4960048164865472,
          0.9058747618060715,
          -1.365560984520852,
          -0.5567782956347211,
          1.3349620404090474,
          -0.9921533022298292,
          -1.8561767161985299,
          -1.6961557334052646,
          0.26087038337192237,
          -1.087077580151142,
          -0.7672263733059088,
          -1.3359037825120874,
          -1.6155450718347866,
          -0.14483939598188197,
          0.4677086656212009,
          -0.35371284765311806,
          0.907492357905892,
          -0.39278850620491024,
          1.430034099034796,
          -0.1159178226728583,
          -0.8399729920788126,
          0.6935514209462399,
          -1.1970166117060872,
          -0.8287646619103597
         ]
        }
       ],
       "layout": {
        "legend": {
         "bgcolor": "#F5F6F9",
         "font": {
          "color": "#4D5663"
         }
        },
        "paper_bgcolor": "#F5F6F9",
        "plot_bgcolor": "#F5F6F9",
        "template": {
         "data": {
          "bar": [
           {
            "error_x": {
             "color": "#2a3f5f"
            },
            "error_y": {
             "color": "#2a3f5f"
            },
            "marker": {
             "line": {
              "color": "#E5ECF6",
              "width": 0.5
             },
             "pattern": {
              "fillmode": "overlay",
              "size": 10,
              "solidity": 0.2
             }
            },
            "type": "bar"
           }
          ],
          "barpolar": [
           {
            "marker": {
             "line": {
              "color": "#E5ECF6",
              "width": 0.5
             },
             "pattern": {
              "fillmode": "overlay",
              "size": 10,
              "solidity": 0.2
             }
            },
            "type": "barpolar"
           }
          ],
          "carpet": [
           {
            "aaxis": {
             "endlinecolor": "#2a3f5f",
             "gridcolor": "white",
             "linecolor": "white",
             "minorgridcolor": "white",
             "startlinecolor": "#2a3f5f"
            },
            "baxis": {
             "endlinecolor": "#2a3f5f",
             "gridcolor": "white",
             "linecolor": "white",
             "minorgridcolor": "white",
             "startlinecolor": "#2a3f5f"
            },
            "type": "carpet"
           }
          ],
          "choropleth": [
           {
            "colorbar": {
             "outlinewidth": 0,
             "ticks": ""
            },
            "type": "choropleth"
           }
          ],
          "contour": [
           {
            "colorbar": {
             "outlinewidth": 0,
             "ticks": ""
            },
            "colorscale": [
             [
              0,
              "#0d0887"
             ],
             [
              0.1111111111111111,
              "#46039f"
             ],
             [
              0.2222222222222222,
              "#7201a8"
             ],
             [
              0.3333333333333333,
              "#9c179e"
             ],
             [
              0.4444444444444444,
              "#bd3786"
             ],
             [
              0.5555555555555556,
              "#d8576b"
             ],
             [
              0.6666666666666666,
              "#ed7953"
             ],
             [
              0.7777777777777778,
              "#fb9f3a"
             ],
             [
              0.8888888888888888,
              "#fdca26"
             ],
             [
              1,
              "#f0f921"
             ]
            ],
            "type": "contour"
           }
          ],
          "contourcarpet": [
           {
            "colorbar": {
             "outlinewidth": 0,
             "ticks": ""
            },
            "type": "contourcarpet"
           }
          ],
          "heatmap": [
           {
            "colorbar": {
             "outlinewidth": 0,
             "ticks": ""
            },
            "colorscale": [
             [
              0,
              "#0d0887"
             ],
             [
              0.1111111111111111,
              "#46039f"
             ],
             [
              0.2222222222222222,
              "#7201a8"
             ],
             [
              0.3333333333333333,
              "#9c179e"
             ],
             [
              0.4444444444444444,
              "#bd3786"
             ],
             [
              0.5555555555555556,
              "#d8576b"
             ],
             [
              0.6666666666666666,
              "#ed7953"
             ],
             [
              0.7777777777777778,
              "#fb9f3a"
             ],
             [
              0.8888888888888888,
              "#fdca26"
             ],
             [
              1,
              "#f0f921"
             ]
            ],
            "type": "heatmap"
           }
          ],
          "heatmapgl": [
           {
            "colorbar": {
             "outlinewidth": 0,
             "ticks": ""
            },
            "colorscale": [
             [
              0,
              "#0d0887"
             ],
             [
              0.1111111111111111,
              "#46039f"
             ],
             [
              0.2222222222222222,
              "#7201a8"
             ],
             [
              0.3333333333333333,
              "#9c179e"
             ],
             [
              0.4444444444444444,
              "#bd3786"
             ],
             [
              0.5555555555555556,
              "#d8576b"
             ],
             [
              0.6666666666666666,
              "#ed7953"
             ],
             [
              0.7777777777777778,
              "#fb9f3a"
             ],
             [
              0.8888888888888888,
              "#fdca26"
             ],
             [
              1,
              "#f0f921"
             ]
            ],
            "type": "heatmapgl"
           }
          ],
          "histogram": [
           {
            "marker": {
             "pattern": {
              "fillmode": "overlay",
              "size": 10,
              "solidity": 0.2
             }
            },
            "type": "histogram"
           }
          ],
          "histogram2d": [
           {
            "colorbar": {
             "outlinewidth": 0,
             "ticks": ""
            },
            "colorscale": [
             [
              0,
              "#0d0887"
             ],
             [
              0.1111111111111111,
              "#46039f"
             ],
             [
              0.2222222222222222,
              "#7201a8"
             ],
             [
              0.3333333333333333,
              "#9c179e"
             ],
             [
              0.4444444444444444,
              "#bd3786"
             ],
             [
              0.5555555555555556,
              "#d8576b"
             ],
             [
              0.6666666666666666,
              "#ed7953"
             ],
             [
              0.7777777777777778,
              "#fb9f3a"
             ],
             [
              0.8888888888888888,
              "#fdca26"
             ],
             [
              1,
              "#f0f921"
             ]
            ],
            "type": "histogram2d"
           }
          ],
          "histogram2dcontour": [
           {
            "colorbar": {
             "outlinewidth": 0,
             "ticks": ""
            },
            "colorscale": [
             [
              0,
              "#0d0887"
             ],
             [
              0.1111111111111111,
              "#46039f"
             ],
             [
              0.2222222222222222,
              "#7201a8"
             ],
             [
              0.3333333333333333,
              "#9c179e"
             ],
             [
              0.4444444444444444,
              "#bd3786"
             ],
             [
              0.5555555555555556,
              "#d8576b"
             ],
             [
              0.6666666666666666,
              "#ed7953"
             ],
             [
              0.7777777777777778,
              "#fb9f3a"
             ],
             [
              0.8888888888888888,
              "#fdca26"
             ],
             [
              1,
              "#f0f921"
             ]
            ],
            "type": "histogram2dcontour"
           }
          ],
          "mesh3d": [
           {
            "colorbar": {
             "outlinewidth": 0,
             "ticks": ""
            },
            "type": "mesh3d"
           }
          ],
          "parcoords": [
           {
            "line": {
             "colorbar": {
              "outlinewidth": 0,
              "ticks": ""
             }
            },
            "type": "parcoords"
           }
          ],
          "pie": [
           {
            "automargin": true,
            "type": "pie"
           }
          ],
          "scatter": [
           {
            "marker": {
             "colorbar": {
              "outlinewidth": 0,
              "ticks": ""
             }
            },
            "type": "scatter"
           }
          ],
          "scatter3d": [
           {
            "line": {
             "colorbar": {
              "outlinewidth": 0,
              "ticks": ""
             }
            },
            "marker": {
             "colorbar": {
              "outlinewidth": 0,
              "ticks": ""
             }
            },
            "type": "scatter3d"
           }
          ],
          "scattercarpet": [
           {
            "marker": {
             "colorbar": {
              "outlinewidth": 0,
              "ticks": ""
             }
            },
            "type": "scattercarpet"
           }
          ],
          "scattergeo": [
           {
            "marker": {
             "colorbar": {
              "outlinewidth": 0,
              "ticks": ""
             }
            },
            "type": "scattergeo"
           }
          ],
          "scattergl": [
           {
            "marker": {
             "colorbar": {
              "outlinewidth": 0,
              "ticks": ""
             }
            },
            "type": "scattergl"
           }
          ],
          "scattermapbox": [
           {
            "marker": {
             "colorbar": {
              "outlinewidth": 0,
              "ticks": ""
             }
            },
            "type": "scattermapbox"
           }
          ],
          "scatterpolar": [
           {
            "marker": {
             "colorbar": {
              "outlinewidth": 0,
              "ticks": ""
             }
            },
            "type": "scatterpolar"
           }
          ],
          "scatterpolargl": [
           {
            "marker": {
             "colorbar": {
              "outlinewidth": 0,
              "ticks": ""
             }
            },
            "type": "scatterpolargl"
           }
          ],
          "scatterternary": [
           {
            "marker": {
             "colorbar": {
              "outlinewidth": 0,
              "ticks": ""
             }
            },
            "type": "scatterternary"
           }
          ],
          "surface": [
           {
            "colorbar": {
             "outlinewidth": 0,
             "ticks": ""
            },
            "colorscale": [
             [
              0,
              "#0d0887"
             ],
             [
              0.1111111111111111,
              "#46039f"
             ],
             [
              0.2222222222222222,
              "#7201a8"
             ],
             [
              0.3333333333333333,
              "#9c179e"
             ],
             [
              0.4444444444444444,
              "#bd3786"
             ],
             [
              0.5555555555555556,
              "#d8576b"
             ],
             [
              0.6666666666666666,
              "#ed7953"
             ],
             [
              0.7777777777777778,
              "#fb9f3a"
             ],
             [
              0.8888888888888888,
              "#fdca26"
             ],
             [
              1,
              "#f0f921"
             ]
            ],
            "type": "surface"
           }
          ],
          "table": [
           {
            "cells": {
             "fill": {
              "color": "#EBF0F8"
             },
             "line": {
              "color": "white"
             }
            },
            "header": {
             "fill": {
              "color": "#C8D4E3"
             },
             "line": {
              "color": "white"
             }
            },
            "type": "table"
           }
          ]
         },
         "layout": {
          "annotationdefaults": {
           "arrowcolor": "#2a3f5f",
           "arrowhead": 0,
           "arrowwidth": 1
          },
          "autotypenumbers": "strict",
          "coloraxis": {
           "colorbar": {
            "outlinewidth": 0,
            "ticks": ""
           }
          },
          "colorscale": {
           "diverging": [
            [
             0,
             "#8e0152"
            ],
            [
             0.1,
             "#c51b7d"
            ],
            [
             0.2,
             "#de77ae"
            ],
            [
             0.3,
             "#f1b6da"
            ],
            [
             0.4,
             "#fde0ef"
            ],
            [
             0.5,
             "#f7f7f7"
            ],
            [
             0.6,
             "#e6f5d0"
            ],
            [
             0.7,
             "#b8e186"
            ],
            [
             0.8,
             "#7fbc41"
            ],
            [
             0.9,
             "#4d9221"
            ],
            [
             1,
             "#276419"
            ]
           ],
           "sequential": [
            [
             0,
             "#0d0887"
            ],
            [
             0.1111111111111111,
             "#46039f"
            ],
            [
             0.2222222222222222,
             "#7201a8"
            ],
            [
             0.3333333333333333,
             "#9c179e"
            ],
            [
             0.4444444444444444,
             "#bd3786"
            ],
            [
             0.5555555555555556,
             "#d8576b"
            ],
            [
             0.6666666666666666,
             "#ed7953"
            ],
            [
             0.7777777777777778,
             "#fb9f3a"
            ],
            [
             0.8888888888888888,
             "#fdca26"
            ],
            [
             1,
             "#f0f921"
            ]
           ],
           "sequentialminus": [
            [
             0,
             "#0d0887"
            ],
            [
             0.1111111111111111,
             "#46039f"
            ],
            [
             0.2222222222222222,
             "#7201a8"
            ],
            [
             0.3333333333333333,
             "#9c179e"
            ],
            [
             0.4444444444444444,
             "#bd3786"
            ],
            [
             0.5555555555555556,
             "#d8576b"
            ],
            [
             0.6666666666666666,
             "#ed7953"
            ],
            [
             0.7777777777777778,
             "#fb9f3a"
            ],
            [
             0.8888888888888888,
             "#fdca26"
            ],
            [
             1,
             "#f0f921"
            ]
           ]
          },
          "colorway": [
           "#636efa",
           "#EF553B",
           "#00cc96",
           "#ab63fa",
           "#FFA15A",
           "#19d3f3",
           "#FF6692",
           "#B6E880",
           "#FF97FF",
           "#FECB52"
          ],
          "font": {
           "color": "#2a3f5f"
          },
          "geo": {
           "bgcolor": "white",
           "lakecolor": "white",
           "landcolor": "#E5ECF6",
           "showlakes": true,
           "showland": true,
           "subunitcolor": "white"
          },
          "hoverlabel": {
           "align": "left"
          },
          "hovermode": "closest",
          "mapbox": {
           "style": "light"
          },
          "paper_bgcolor": "white",
          "plot_bgcolor": "#E5ECF6",
          "polar": {
           "angularaxis": {
            "gridcolor": "white",
            "linecolor": "white",
            "ticks": ""
           },
           "bgcolor": "#E5ECF6",
           "radialaxis": {
            "gridcolor": "white",
            "linecolor": "white",
            "ticks": ""
           }
          },
          "scene": {
           "xaxis": {
            "backgroundcolor": "#E5ECF6",
            "gridcolor": "white",
            "gridwidth": 2,
            "linecolor": "white",
            "showbackground": true,
            "ticks": "",
            "zerolinecolor": "white"
           },
           "yaxis": {
            "backgroundcolor": "#E5ECF6",
            "gridcolor": "white",
            "gridwidth": 2,
            "linecolor": "white",
            "showbackground": true,
            "ticks": "",
            "zerolinecolor": "white"
           },
           "zaxis": {
            "backgroundcolor": "#E5ECF6",
            "gridcolor": "white",
            "gridwidth": 2,
            "linecolor": "white",
            "showbackground": true,
            "ticks": "",
            "zerolinecolor": "white"
           }
          },
          "shapedefaults": {
           "line": {
            "color": "#2a3f5f"
           }
          },
          "ternary": {
           "aaxis": {
            "gridcolor": "white",
            "linecolor": "white",
            "ticks": ""
           },
           "baxis": {
            "gridcolor": "white",
            "linecolor": "white",
            "ticks": ""
           },
           "bgcolor": "#E5ECF6",
           "caxis": {
            "gridcolor": "white",
            "linecolor": "white",
            "ticks": ""
           }
          },
          "title": {
           "x": 0.05
          },
          "xaxis": {
           "automargin": true,
           "gridcolor": "white",
           "linecolor": "white",
           "ticks": "",
           "title": {
            "standoff": 15
           },
           "zerolinecolor": "white",
           "zerolinewidth": 2
          },
          "yaxis": {
           "automargin": true,
           "gridcolor": "white",
           "linecolor": "white",
           "ticks": "",
           "title": {
            "standoff": 15
           },
           "zerolinecolor": "white",
           "zerolinewidth": 2
          }
         }
        },
        "title": {
         "font": {
          "color": "#4D5663"
         }
        },
        "xaxis": {
         "gridcolor": "#E1E5ED",
         "showgrid": true,
         "tickfont": {
          "color": "#4D5663"
         },
         "title": {
          "font": {
           "color": "#4D5663"
          },
          "text": ""
         },
         "zerolinecolor": "#E1E5ED"
        },
        "yaxis": {
         "gridcolor": "#E1E5ED",
         "showgrid": true,
         "tickfont": {
          "color": "#4D5663"
         },
         "title": {
          "font": {
           "color": "#4D5663"
          },
          "text": ""
         },
         "zerolinecolor": "#E1E5ED"
        }
       }
      },
      "text/html": [
       "<div>                            <div id=\"66c8b09c-9180-4204-a6c3-6a873e305f93\" class=\"plotly-graph-div\" style=\"height:525px; width:100%;\"></div>            <script type=\"text/javascript\">                require([\"plotly\"], function(Plotly) {                    window.PLOTLYENV=window.PLOTLYENV || {};\n",
       "                    window.PLOTLYENV.BASE_URL='https://plot.ly';                                    if (document.getElementById(\"66c8b09c-9180-4204-a6c3-6a873e305f93\")) {                    Plotly.newPlot(                        \"66c8b09c-9180-4204-a6c3-6a873e305f93\",                        [{\"marker\":{\"color\":\"rgba(255, 153, 51, 0.6)\",\"line\":{\"color\":\"rgba(255, 153, 51, 1.0)\",\"width\":1}},\"name\":\"A\",\"orientation\":\"v\",\"text\":\"\",\"x\":[0,1,2,3,4,5,6,7,8,9,10,11,12,13,14,15,16,17,18,19,20,21,22,23,24,25,26,27,28,29,30,31,32,33,34,35,36,37,38,39,40,41,42,43,44,45,46,47,48,49,50,51,52,53,54,55,56,57,58,59,60,61,62,63,64,65,66,67,68,69,70,71,72,73,74,75,76,77,78,79,80,81,82,83,84,85,86,87,88,89,90,91,92,93,94,95,96,97,98,99],\"y\":[1.384941095893982,-0.3647871044245467,-1.613377798789012,-0.12920481127577702,-0.6300029180423312,0.6955311102837984,-0.07774289928427856,-1.5481508917079352,0.3144299528461812,1.483756889675816,1.3631631851081898,0.3577161379182844,0.44425005373458687,-1.3026835005270772,0.8586317944028101,-0.12796403591939365,0.373209303997531,0.5869332431334456,0.4864253873475166,1.0756346615585344,-1.052001580878504,0.0906431802398545,1.0580572090375877,-0.9848808039026463,0.5513641846951675,1.1659210728519842,0.020314764012267873,0.3074031709948694,-0.23909296540380182,0.02171216478090794,-0.16254690733414418,-0.33711970357111226,0.8142846009651958,0.5807041935213351,1.517465474603419,2.64825109236516,0.9118993743273417,0.3344914818573978,-0.6980817050442862,-0.014535950295435083,-0.29814416383545383,-0.0017524875066887394,-1.1233972672402575,0.06762297707903585,-0.16466873420852687,-0.1795079343480467,-0.6751925963714834,2.006888382314444,-0.7838881243097859,0.9294115904771026,-1.058238874474584,0.6586637071443632,-0.37707299217026374,-0.13598986025585266,-1.4967184420595114,0.4153485006683915,0.24121216996263192,-3.092016438708254,-1.2219917686899848,0.8869662273854365,-1.0682780065598037,-1.2106122878269856,0.803250005443257,0.9877199560578738,-0.2258121665388722,0.13923967982184132,-0.22573522543316654,1.6171694614878647,0.5477551242136519,0.4420065170066808,0.06747036201760358,-1.641776468835695,-0.2876490151341459,0.3684314172007868,1.1306668046343704,-0.8340553638572694,0.6712547294009807,0.8197535903257653,0.2124039178122506,-0.5392633467972721,0.010110482279003876,0.958789971496834,-0.07020997545633594,0.33616891127553034,-0.3907482690955859,0.8806514736157832,0.31650766745412495,0.1448946459985747,0.27772853189609437,-0.4036166749778001,-0.2926052183646972,1.3491425878516692,-1.4689030081303354,1.43789556687664,-1.79323467847179,-0.17223590815000211,1.0094163974481396,-0.31501498808974,-0.3962647074563389,-2.0067551306542164],\"type\":\"bar\"},{\"marker\":{\"color\":\"rgba(55, 128, 191, 0.6)\",\"line\":{\"color\":\"rgba(55, 128, 191, 1.0)\",\"width\":1}},\"name\":\"B\",\"orientation\":\"v\",\"text\":\"\",\"x\":[0,1,2,3,4,5,6,7,8,9,10,11,12,13,14,15,16,17,18,19,20,21,22,23,24,25,26,27,28,29,30,31,32,33,34,35,36,37,38,39,40,41,42,43,44,45,46,47,48,49,50,51,52,53,54,55,56,57,58,59,60,61,62,63,64,65,66,67,68,69,70,71,72,73,74,75,76,77,78,79,80,81,82,83,84,85,86,87,88,89,90,91,92,93,94,95,96,97,98,99],\"y\":[-0.11794573212984044,1.2697792200547326,-2.1676156275817493,-0.24857109473288877,0.40460693442474416,1.6139280285149076,0.2360306035442598,-0.22602808881920358,0.057142677471569564,-0.7772782408575107,0.9429237937088079,0.20523204088664526,-0.7154259155847406,1.1964788967171962,1.1522379793062072,0.8376926086136763,1.3857641285531264,-1.2374578036932693,-1.7210512496642552,-0.2495034317564669,0.549318005327426,-1.1113590661117567,-1.4100862237170253,0.9532142588336986,-0.5315758547787328,0.026876504527802447,1.475296799480042,-0.05540255585344138,0.9422840651588723,-1.8656941194067982,0.7869650084081312,1.405011375883612,2.255057549388606,0.1462871105740621,-2.1847079312579747,-1.161172611275934,0.6196167217877991,0.11183036629305333,-0.05854992899036618,0.5065278797161682,0.175142247004244,1.095194809193081,2.6837799095371384,-0.012627706308564711,0.9660921024626176,0.6886580320242333,-1.0591087700884958,0.1104364113543046,2.372207831365576,-0.8860199351161889,1.086165799454149,-0.8626755672497495,-0.06868432104132013,-0.7200816182896868,0.4188150947497825,0.4228561041113086,-0.698445960962204,-0.6988310924554466,-0.6658491938730066,0.2958846261817548,-0.3507001784507818,0.647173773145682,-1.2328387228246311,1.0459553224352556,0.1231502442460987,0.6522703753362419,1.3888130593209138,0.10676669523311827,-1.8282146343099823,-0.9934128961933868,0.0391113792741524,-0.8611094358006953,0.41413313956819325,-1.4101986910835675,1.815049449469626,0.9231752547232016,0.17927969270330754,1.3991110254560424,-0.22439988703791916,-0.9325281027769723,1.434972285835641,0.41293299829143254,0.22260783277251583,-0.6284887586125657,-0.04186487356009881,-0.4049849380508509,1.0931210510758536,-0.9357279986842723,-0.8187865619869552,-2.177802400994987,0.38835428050347276,-0.138536009177223,1.3287017218425048,2.193100689061061,2.7502259232461843,-1.4807074423373137,0.27064831548673124,0.034154607417923276,-0.2738508186098899,-0.5388356081283091],\"type\":\"bar\"},{\"marker\":{\"color\":\"rgba(50, 171, 96, 0.6)\",\"line\":{\"color\":\"rgba(50, 171, 96, 1.0)\",\"width\":1}},\"name\":\"C\",\"orientation\":\"v\",\"text\":\"\",\"x\":[0,1,2,3,4,5,6,7,8,9,10,11,12,13,14,15,16,17,18,19,20,21,22,23,24,25,26,27,28,29,30,31,32,33,34,35,36,37,38,39,40,41,42,43,44,45,46,47,48,49,50,51,52,53,54,55,56,57,58,59,60,61,62,63,64,65,66,67,68,69,70,71,72,73,74,75,76,77,78,79,80,81,82,83,84,85,86,87,88,89,90,91,92,93,94,95,96,97,98,99],\"y\":[1.9401484848174453,-1.2397331297731549,-1.018675973013534,-0.33547878047215196,-1.3699549380833393,1.3810263767929065,0.7721843153431419,-0.7722237296090372,0.8486180756818512,1.7440433826405037,-0.08001824533932232,2.0661183345020007,0.04572602069072565,-1.0819021945413614,0.009085452996414885,-0.9878765751184702,0.37075917857625,0.25437485137637955,1.1841266827114045,-1.1453249365393527,0.5857775601891346,0.8710303685429346,-0.024783030100748008,0.6150492408405598,1.4716652952158042,-0.46758776423255266,-0.1588164476426438,-0.30304520129019064,-0.390934590087459,-0.24233821807824782,-0.8688043843960509,2.1365140455407627,0.4390931231504873,-1.4893614799515036,-2.4386452322949346,-1.1422505213045908,-1.4149163539103322,-0.013994673048110981,-2.034223797662766,1.4253019420988005,-2.0632544066807643,0.6996640900505026,0.5166100297666383,-1.071532965949633,-0.9051225166232557,-0.7934178460696767,-0.8224502512549449,0.15493335662541116,0.39500230090794575,0.8857418121756081,0.32000079106086377,-0.008234679363814059,0.49444038047693045,-0.7121015253712025,0.11159926839694684,-0.6397544473062552,-0.6297012892092753,-0.14708147193593385,-1.831759802918478,-1.132317223629694,0.8300459562443999,-0.5768572815494716,0.7256517351358649,0.315413301407352,0.2568963021893039,0.27725859353110416,-0.13520879790699447,-0.5648419203108074,-2.954018487536646,-0.940562870249268,-1.2466882336102456,-0.8033234119044046,0.26439271338445264,-0.21474918616508726,-0.39167546554283417,0.11783823012584817,-0.46125483724851585,1.328839452652975,3.1635328556243794,0.1034546363343562,-1.260959363985953,1.2107659875753456,1.3089355281014505,-0.08791413108196387,-0.3599472537742511,1.980076893144827,0.3797782251011386,-1.7519402263507402,-0.7082770903572351,-0.15113155411961024,0.43962501015970173,-0.20895860876046474,0.5546753479330597,0.1782227202309211,1.7531082352203122,-0.7415829058805974,-0.6266777912851297,0.6640612063767465,0.41009329778209624,0.6915880772218923],\"type\":\"bar\"},{\"marker\":{\"color\":\"rgba(128, 0, 128, 0.6)\",\"line\":{\"color\":\"rgba(128, 0, 128, 1.0)\",\"width\":1}},\"name\":\"D\",\"orientation\":\"v\",\"text\":\"\",\"x\":[0,1,2,3,4,5,6,7,8,9,10,11,12,13,14,15,16,17,18,19,20,21,22,23,24,25,26,27,28,29,30,31,32,33,34,35,36,37,38,39,40,41,42,43,44,45,46,47,48,49,50,51,52,53,54,55,56,57,58,59,60,61,62,63,64,65,66,67,68,69,70,71,72,73,74,75,76,77,78,79,80,81,82,83,84,85,86,87,88,89,90,91,92,93,94,95,96,97,98,99],\"y\":[-0.232607190972093,-0.10745682172545627,0.7301665782338982,-0.8086553985085576,-0.3808934345748271,-0.49728208115444156,-1.143202283557806,-0.00924216908427607,-0.5762292058604443,1.8107409045922969,-0.6429151459186503,-2.037122862243596,-1.1833441828811444,-0.2798311937972491,-2.3309295348858714,-1.181839359370192,0.9880300418287801,0.8556429383351365,1.1693382981537819,-1.3808702075475496,-0.18309447973892146,0.8438897509043974,1.581060734608897,-0.3596068422236975,0.13079908839655863,2.2113961251101677,-0.36346947498616455,-0.6800940270845436,1.1187059400934791,1.1043099757023331,-0.6823882796178447,-1.10897733367768,-1.6084453760231952,0.6398458111237544,-2.141650215025133,-0.629848221432961,-1.3459166652575534,0.9192082959941965,-0.5172725131310544,-0.8588962555419287,-0.09863404903046664,-1.804389501103032,-0.9593821912233614,1.0241520629708463,-0.6603271986227551,-0.26588194329921705,0.004759080754978136,0.34865477211306106,-0.3448425950988407,0.7842889066349303,1.3925201197443657,-0.3594709526907821,1.0618973955064497,0.14680351808446498,-1.7515468410520656,-0.6135423107048211,-0.9575148475814658,1.572687835401607,1.5922959327473496,1.2073779390002217,-0.36322906421417334,-2.0688991515179,1.1871757251508457,2.557928207241564,-0.1451521867356024,1.0728316273159937,0.5540363273931462,-0.8189397303937418,-0.2991846022135686,-0.5589151651974367,-1.5852563314699741,-1.0250545535826507,-0.7307299175017817,-1.7498252041560964,-1.7707723082582265,-0.10650969392090688,-1.4960048164865472,0.9058747618060715,-1.365560984520852,-0.5567782956347211,1.3349620404090474,-0.9921533022298292,-1.8561767161985299,-1.6961557334052646,0.26087038337192237,-1.087077580151142,-0.7672263733059088,-1.3359037825120874,-1.6155450718347866,-0.14483939598188197,0.4677086656212009,-0.35371284765311806,0.907492357905892,-0.39278850620491024,1.430034099034796,-0.1159178226728583,-0.8399729920788126,0.6935514209462399,-1.1970166117060872,-0.8287646619103597],\"type\":\"bar\"}],                        {\"legend\":{\"bgcolor\":\"#F5F6F9\",\"font\":{\"color\":\"#4D5663\"}},\"paper_bgcolor\":\"#F5F6F9\",\"plot_bgcolor\":\"#F5F6F9\",\"template\":{\"data\":{\"barpolar\":[{\"marker\":{\"line\":{\"color\":\"#E5ECF6\",\"width\":0.5},\"pattern\":{\"fillmode\":\"overlay\",\"size\":10,\"solidity\":0.2}},\"type\":\"barpolar\"}],\"bar\":[{\"error_x\":{\"color\":\"#2a3f5f\"},\"error_y\":{\"color\":\"#2a3f5f\"},\"marker\":{\"line\":{\"color\":\"#E5ECF6\",\"width\":0.5},\"pattern\":{\"fillmode\":\"overlay\",\"size\":10,\"solidity\":0.2}},\"type\":\"bar\"}],\"carpet\":[{\"aaxis\":{\"endlinecolor\":\"#2a3f5f\",\"gridcolor\":\"white\",\"linecolor\":\"white\",\"minorgridcolor\":\"white\",\"startlinecolor\":\"#2a3f5f\"},\"baxis\":{\"endlinecolor\":\"#2a3f5f\",\"gridcolor\":\"white\",\"linecolor\":\"white\",\"minorgridcolor\":\"white\",\"startlinecolor\":\"#2a3f5f\"},\"type\":\"carpet\"}],\"choropleth\":[{\"colorbar\":{\"outlinewidth\":0,\"ticks\":\"\"},\"type\":\"choropleth\"}],\"contourcarpet\":[{\"colorbar\":{\"outlinewidth\":0,\"ticks\":\"\"},\"type\":\"contourcarpet\"}],\"contour\":[{\"colorbar\":{\"outlinewidth\":0,\"ticks\":\"\"},\"colorscale\":[[0.0,\"#0d0887\"],[0.1111111111111111,\"#46039f\"],[0.2222222222222222,\"#7201a8\"],[0.3333333333333333,\"#9c179e\"],[0.4444444444444444,\"#bd3786\"],[0.5555555555555556,\"#d8576b\"],[0.6666666666666666,\"#ed7953\"],[0.7777777777777778,\"#fb9f3a\"],[0.8888888888888888,\"#fdca26\"],[1.0,\"#f0f921\"]],\"type\":\"contour\"}],\"heatmapgl\":[{\"colorbar\":{\"outlinewidth\":0,\"ticks\":\"\"},\"colorscale\":[[0.0,\"#0d0887\"],[0.1111111111111111,\"#46039f\"],[0.2222222222222222,\"#7201a8\"],[0.3333333333333333,\"#9c179e\"],[0.4444444444444444,\"#bd3786\"],[0.5555555555555556,\"#d8576b\"],[0.6666666666666666,\"#ed7953\"],[0.7777777777777778,\"#fb9f3a\"],[0.8888888888888888,\"#fdca26\"],[1.0,\"#f0f921\"]],\"type\":\"heatmapgl\"}],\"heatmap\":[{\"colorbar\":{\"outlinewidth\":0,\"ticks\":\"\"},\"colorscale\":[[0.0,\"#0d0887\"],[0.1111111111111111,\"#46039f\"],[0.2222222222222222,\"#7201a8\"],[0.3333333333333333,\"#9c179e\"],[0.4444444444444444,\"#bd3786\"],[0.5555555555555556,\"#d8576b\"],[0.6666666666666666,\"#ed7953\"],[0.7777777777777778,\"#fb9f3a\"],[0.8888888888888888,\"#fdca26\"],[1.0,\"#f0f921\"]],\"type\":\"heatmap\"}],\"histogram2dcontour\":[{\"colorbar\":{\"outlinewidth\":0,\"ticks\":\"\"},\"colorscale\":[[0.0,\"#0d0887\"],[0.1111111111111111,\"#46039f\"],[0.2222222222222222,\"#7201a8\"],[0.3333333333333333,\"#9c179e\"],[0.4444444444444444,\"#bd3786\"],[0.5555555555555556,\"#d8576b\"],[0.6666666666666666,\"#ed7953\"],[0.7777777777777778,\"#fb9f3a\"],[0.8888888888888888,\"#fdca26\"],[1.0,\"#f0f921\"]],\"type\":\"histogram2dcontour\"}],\"histogram2d\":[{\"colorbar\":{\"outlinewidth\":0,\"ticks\":\"\"},\"colorscale\":[[0.0,\"#0d0887\"],[0.1111111111111111,\"#46039f\"],[0.2222222222222222,\"#7201a8\"],[0.3333333333333333,\"#9c179e\"],[0.4444444444444444,\"#bd3786\"],[0.5555555555555556,\"#d8576b\"],[0.6666666666666666,\"#ed7953\"],[0.7777777777777778,\"#fb9f3a\"],[0.8888888888888888,\"#fdca26\"],[1.0,\"#f0f921\"]],\"type\":\"histogram2d\"}],\"histogram\":[{\"marker\":{\"pattern\":{\"fillmode\":\"overlay\",\"size\":10,\"solidity\":0.2}},\"type\":\"histogram\"}],\"mesh3d\":[{\"colorbar\":{\"outlinewidth\":0,\"ticks\":\"\"},\"type\":\"mesh3d\"}],\"parcoords\":[{\"line\":{\"colorbar\":{\"outlinewidth\":0,\"ticks\":\"\"}},\"type\":\"parcoords\"}],\"pie\":[{\"automargin\":true,\"type\":\"pie\"}],\"scatter3d\":[{\"line\":{\"colorbar\":{\"outlinewidth\":0,\"ticks\":\"\"}},\"marker\":{\"colorbar\":{\"outlinewidth\":0,\"ticks\":\"\"}},\"type\":\"scatter3d\"}],\"scattercarpet\":[{\"marker\":{\"colorbar\":{\"outlinewidth\":0,\"ticks\":\"\"}},\"type\":\"scattercarpet\"}],\"scattergeo\":[{\"marker\":{\"colorbar\":{\"outlinewidth\":0,\"ticks\":\"\"}},\"type\":\"scattergeo\"}],\"scattergl\":[{\"marker\":{\"colorbar\":{\"outlinewidth\":0,\"ticks\":\"\"}},\"type\":\"scattergl\"}],\"scattermapbox\":[{\"marker\":{\"colorbar\":{\"outlinewidth\":0,\"ticks\":\"\"}},\"type\":\"scattermapbox\"}],\"scatterpolargl\":[{\"marker\":{\"colorbar\":{\"outlinewidth\":0,\"ticks\":\"\"}},\"type\":\"scatterpolargl\"}],\"scatterpolar\":[{\"marker\":{\"colorbar\":{\"outlinewidth\":0,\"ticks\":\"\"}},\"type\":\"scatterpolar\"}],\"scatter\":[{\"marker\":{\"colorbar\":{\"outlinewidth\":0,\"ticks\":\"\"}},\"type\":\"scatter\"}],\"scatterternary\":[{\"marker\":{\"colorbar\":{\"outlinewidth\":0,\"ticks\":\"\"}},\"type\":\"scatterternary\"}],\"surface\":[{\"colorbar\":{\"outlinewidth\":0,\"ticks\":\"\"},\"colorscale\":[[0.0,\"#0d0887\"],[0.1111111111111111,\"#46039f\"],[0.2222222222222222,\"#7201a8\"],[0.3333333333333333,\"#9c179e\"],[0.4444444444444444,\"#bd3786\"],[0.5555555555555556,\"#d8576b\"],[0.6666666666666666,\"#ed7953\"],[0.7777777777777778,\"#fb9f3a\"],[0.8888888888888888,\"#fdca26\"],[1.0,\"#f0f921\"]],\"type\":\"surface\"}],\"table\":[{\"cells\":{\"fill\":{\"color\":\"#EBF0F8\"},\"line\":{\"color\":\"white\"}},\"header\":{\"fill\":{\"color\":\"#C8D4E3\"},\"line\":{\"color\":\"white\"}},\"type\":\"table\"}]},\"layout\":{\"annotationdefaults\":{\"arrowcolor\":\"#2a3f5f\",\"arrowhead\":0,\"arrowwidth\":1},\"autotypenumbers\":\"strict\",\"coloraxis\":{\"colorbar\":{\"outlinewidth\":0,\"ticks\":\"\"}},\"colorscale\":{\"diverging\":[[0,\"#8e0152\"],[0.1,\"#c51b7d\"],[0.2,\"#de77ae\"],[0.3,\"#f1b6da\"],[0.4,\"#fde0ef\"],[0.5,\"#f7f7f7\"],[0.6,\"#e6f5d0\"],[0.7,\"#b8e186\"],[0.8,\"#7fbc41\"],[0.9,\"#4d9221\"],[1,\"#276419\"]],\"sequential\":[[0.0,\"#0d0887\"],[0.1111111111111111,\"#46039f\"],[0.2222222222222222,\"#7201a8\"],[0.3333333333333333,\"#9c179e\"],[0.4444444444444444,\"#bd3786\"],[0.5555555555555556,\"#d8576b\"],[0.6666666666666666,\"#ed7953\"],[0.7777777777777778,\"#fb9f3a\"],[0.8888888888888888,\"#fdca26\"],[1.0,\"#f0f921\"]],\"sequentialminus\":[[0.0,\"#0d0887\"],[0.1111111111111111,\"#46039f\"],[0.2222222222222222,\"#7201a8\"],[0.3333333333333333,\"#9c179e\"],[0.4444444444444444,\"#bd3786\"],[0.5555555555555556,\"#d8576b\"],[0.6666666666666666,\"#ed7953\"],[0.7777777777777778,\"#fb9f3a\"],[0.8888888888888888,\"#fdca26\"],[1.0,\"#f0f921\"]]},\"colorway\":[\"#636efa\",\"#EF553B\",\"#00cc96\",\"#ab63fa\",\"#FFA15A\",\"#19d3f3\",\"#FF6692\",\"#B6E880\",\"#FF97FF\",\"#FECB52\"],\"font\":{\"color\":\"#2a3f5f\"},\"geo\":{\"bgcolor\":\"white\",\"lakecolor\":\"white\",\"landcolor\":\"#E5ECF6\",\"showlakes\":true,\"showland\":true,\"subunitcolor\":\"white\"},\"hoverlabel\":{\"align\":\"left\"},\"hovermode\":\"closest\",\"mapbox\":{\"style\":\"light\"},\"paper_bgcolor\":\"white\",\"plot_bgcolor\":\"#E5ECF6\",\"polar\":{\"angularaxis\":{\"gridcolor\":\"white\",\"linecolor\":\"white\",\"ticks\":\"\"},\"bgcolor\":\"#E5ECF6\",\"radialaxis\":{\"gridcolor\":\"white\",\"linecolor\":\"white\",\"ticks\":\"\"}},\"scene\":{\"xaxis\":{\"backgroundcolor\":\"#E5ECF6\",\"gridcolor\":\"white\",\"gridwidth\":2,\"linecolor\":\"white\",\"showbackground\":true,\"ticks\":\"\",\"zerolinecolor\":\"white\"},\"yaxis\":{\"backgroundcolor\":\"#E5ECF6\",\"gridcolor\":\"white\",\"gridwidth\":2,\"linecolor\":\"white\",\"showbackground\":true,\"ticks\":\"\",\"zerolinecolor\":\"white\"},\"zaxis\":{\"backgroundcolor\":\"#E5ECF6\",\"gridcolor\":\"white\",\"gridwidth\":2,\"linecolor\":\"white\",\"showbackground\":true,\"ticks\":\"\",\"zerolinecolor\":\"white\"}},\"shapedefaults\":{\"line\":{\"color\":\"#2a3f5f\"}},\"ternary\":{\"aaxis\":{\"gridcolor\":\"white\",\"linecolor\":\"white\",\"ticks\":\"\"},\"baxis\":{\"gridcolor\":\"white\",\"linecolor\":\"white\",\"ticks\":\"\"},\"bgcolor\":\"#E5ECF6\",\"caxis\":{\"gridcolor\":\"white\",\"linecolor\":\"white\",\"ticks\":\"\"}},\"title\":{\"x\":0.05},\"xaxis\":{\"automargin\":true,\"gridcolor\":\"white\",\"linecolor\":\"white\",\"ticks\":\"\",\"title\":{\"standoff\":15},\"zerolinecolor\":\"white\",\"zerolinewidth\":2},\"yaxis\":{\"automargin\":true,\"gridcolor\":\"white\",\"linecolor\":\"white\",\"ticks\":\"\",\"title\":{\"standoff\":15},\"zerolinecolor\":\"white\",\"zerolinewidth\":2}}},\"title\":{\"font\":{\"color\":\"#4D5663\"}},\"xaxis\":{\"gridcolor\":\"#E1E5ED\",\"showgrid\":true,\"tickfont\":{\"color\":\"#4D5663\"},\"title\":{\"font\":{\"color\":\"#4D5663\"},\"text\":\"\"},\"zerolinecolor\":\"#E1E5ED\"},\"yaxis\":{\"gridcolor\":\"#E1E5ED\",\"showgrid\":true,\"tickfont\":{\"color\":\"#4D5663\"},\"title\":{\"font\":{\"color\":\"#4D5663\"},\"text\":\"\"},\"zerolinecolor\":\"#E1E5ED\"}},                        {\"showLink\": true, \"linkText\": \"Export to plot.ly\", \"plotlyServerURL\": \"https://plot.ly\", \"responsive\": true}                    ).then(function(){\n",
       "                            \n",
       "var gd = document.getElementById('66c8b09c-9180-4204-a6c3-6a873e305f93');\n",
       "var x = new MutationObserver(function (mutations, observer) {{\n",
       "        var display = window.getComputedStyle(gd).display;\n",
       "        if (!display || display === 'none') {{\n",
       "            console.log([gd, 'removed!']);\n",
       "            Plotly.purge(gd);\n",
       "            observer.disconnect();\n",
       "        }}\n",
       "}});\n",
       "\n",
       "// Listen for the removal of the full notebook cells\n",
       "var notebookContainer = gd.closest('#notebook-container');\n",
       "if (notebookContainer) {{\n",
       "    x.observe(notebookContainer, {childList: true});\n",
       "}}\n",
       "\n",
       "// Listen for the clearing of the current output cell\n",
       "var outputEl = gd.closest('.output');\n",
       "if (outputEl) {{\n",
       "    x.observe(outputEl, {childList: true});\n",
       "}}\n",
       "\n",
       "                        })                };                });            </script>        </div>"
      ]
     },
     "metadata": {},
     "output_type": "display_data"
    }
   ],
   "source": [
    "# bar plot is usefull when groupby or aggregate\n",
    "df.iplot(kind='bar')"
   ]
  },
  {
   "cell_type": "code",
   "execution_count": 34,
   "id": "4f2ecb07",
   "metadata": {},
   "outputs": [
    {
     "data": {
      "application/vnd.plotly.v1+json": {
       "config": {
        "linkText": "Export to plot.ly",
        "plotlyServerURL": "https://plot.ly",
        "showLink": true
       },
       "data": [
        {
         "marker": {
          "color": "rgba(255, 153, 51, 0.6)",
          "line": {
           "color": "rgba(255, 153, 51, 1.0)",
           "width": 1
          }
         },
         "name": "None",
         "orientation": "v",
         "text": "",
         "type": "bar",
         "x": [
          "A",
          "B",
          "C",
          "D"
         ],
         "y": [
          100,
          100,
          100,
          100
         ]
        }
       ],
       "layout": {
        "legend": {
         "bgcolor": "#F5F6F9",
         "font": {
          "color": "#4D5663"
         }
        },
        "paper_bgcolor": "#F5F6F9",
        "plot_bgcolor": "#F5F6F9",
        "template": {
         "data": {
          "bar": [
           {
            "error_x": {
             "color": "#2a3f5f"
            },
            "error_y": {
             "color": "#2a3f5f"
            },
            "marker": {
             "line": {
              "color": "#E5ECF6",
              "width": 0.5
             },
             "pattern": {
              "fillmode": "overlay",
              "size": 10,
              "solidity": 0.2
             }
            },
            "type": "bar"
           }
          ],
          "barpolar": [
           {
            "marker": {
             "line": {
              "color": "#E5ECF6",
              "width": 0.5
             },
             "pattern": {
              "fillmode": "overlay",
              "size": 10,
              "solidity": 0.2
             }
            },
            "type": "barpolar"
           }
          ],
          "carpet": [
           {
            "aaxis": {
             "endlinecolor": "#2a3f5f",
             "gridcolor": "white",
             "linecolor": "white",
             "minorgridcolor": "white",
             "startlinecolor": "#2a3f5f"
            },
            "baxis": {
             "endlinecolor": "#2a3f5f",
             "gridcolor": "white",
             "linecolor": "white",
             "minorgridcolor": "white",
             "startlinecolor": "#2a3f5f"
            },
            "type": "carpet"
           }
          ],
          "choropleth": [
           {
            "colorbar": {
             "outlinewidth": 0,
             "ticks": ""
            },
            "type": "choropleth"
           }
          ],
          "contour": [
           {
            "colorbar": {
             "outlinewidth": 0,
             "ticks": ""
            },
            "colorscale": [
             [
              0,
              "#0d0887"
             ],
             [
              0.1111111111111111,
              "#46039f"
             ],
             [
              0.2222222222222222,
              "#7201a8"
             ],
             [
              0.3333333333333333,
              "#9c179e"
             ],
             [
              0.4444444444444444,
              "#bd3786"
             ],
             [
              0.5555555555555556,
              "#d8576b"
             ],
             [
              0.6666666666666666,
              "#ed7953"
             ],
             [
              0.7777777777777778,
              "#fb9f3a"
             ],
             [
              0.8888888888888888,
              "#fdca26"
             ],
             [
              1,
              "#f0f921"
             ]
            ],
            "type": "contour"
           }
          ],
          "contourcarpet": [
           {
            "colorbar": {
             "outlinewidth": 0,
             "ticks": ""
            },
            "type": "contourcarpet"
           }
          ],
          "heatmap": [
           {
            "colorbar": {
             "outlinewidth": 0,
             "ticks": ""
            },
            "colorscale": [
             [
              0,
              "#0d0887"
             ],
             [
              0.1111111111111111,
              "#46039f"
             ],
             [
              0.2222222222222222,
              "#7201a8"
             ],
             [
              0.3333333333333333,
              "#9c179e"
             ],
             [
              0.4444444444444444,
              "#bd3786"
             ],
             [
              0.5555555555555556,
              "#d8576b"
             ],
             [
              0.6666666666666666,
              "#ed7953"
             ],
             [
              0.7777777777777778,
              "#fb9f3a"
             ],
             [
              0.8888888888888888,
              "#fdca26"
             ],
             [
              1,
              "#f0f921"
             ]
            ],
            "type": "heatmap"
           }
          ],
          "heatmapgl": [
           {
            "colorbar": {
             "outlinewidth": 0,
             "ticks": ""
            },
            "colorscale": [
             [
              0,
              "#0d0887"
             ],
             [
              0.1111111111111111,
              "#46039f"
             ],
             [
              0.2222222222222222,
              "#7201a8"
             ],
             [
              0.3333333333333333,
              "#9c179e"
             ],
             [
              0.4444444444444444,
              "#bd3786"
             ],
             [
              0.5555555555555556,
              "#d8576b"
             ],
             [
              0.6666666666666666,
              "#ed7953"
             ],
             [
              0.7777777777777778,
              "#fb9f3a"
             ],
             [
              0.8888888888888888,
              "#fdca26"
             ],
             [
              1,
              "#f0f921"
             ]
            ],
            "type": "heatmapgl"
           }
          ],
          "histogram": [
           {
            "marker": {
             "pattern": {
              "fillmode": "overlay",
              "size": 10,
              "solidity": 0.2
             }
            },
            "type": "histogram"
           }
          ],
          "histogram2d": [
           {
            "colorbar": {
             "outlinewidth": 0,
             "ticks": ""
            },
            "colorscale": [
             [
              0,
              "#0d0887"
             ],
             [
              0.1111111111111111,
              "#46039f"
             ],
             [
              0.2222222222222222,
              "#7201a8"
             ],
             [
              0.3333333333333333,
              "#9c179e"
             ],
             [
              0.4444444444444444,
              "#bd3786"
             ],
             [
              0.5555555555555556,
              "#d8576b"
             ],
             [
              0.6666666666666666,
              "#ed7953"
             ],
             [
              0.7777777777777778,
              "#fb9f3a"
             ],
             [
              0.8888888888888888,
              "#fdca26"
             ],
             [
              1,
              "#f0f921"
             ]
            ],
            "type": "histogram2d"
           }
          ],
          "histogram2dcontour": [
           {
            "colorbar": {
             "outlinewidth": 0,
             "ticks": ""
            },
            "colorscale": [
             [
              0,
              "#0d0887"
             ],
             [
              0.1111111111111111,
              "#46039f"
             ],
             [
              0.2222222222222222,
              "#7201a8"
             ],
             [
              0.3333333333333333,
              "#9c179e"
             ],
             [
              0.4444444444444444,
              "#bd3786"
             ],
             [
              0.5555555555555556,
              "#d8576b"
             ],
             [
              0.6666666666666666,
              "#ed7953"
             ],
             [
              0.7777777777777778,
              "#fb9f3a"
             ],
             [
              0.8888888888888888,
              "#fdca26"
             ],
             [
              1,
              "#f0f921"
             ]
            ],
            "type": "histogram2dcontour"
           }
          ],
          "mesh3d": [
           {
            "colorbar": {
             "outlinewidth": 0,
             "ticks": ""
            },
            "type": "mesh3d"
           }
          ],
          "parcoords": [
           {
            "line": {
             "colorbar": {
              "outlinewidth": 0,
              "ticks": ""
             }
            },
            "type": "parcoords"
           }
          ],
          "pie": [
           {
            "automargin": true,
            "type": "pie"
           }
          ],
          "scatter": [
           {
            "marker": {
             "colorbar": {
              "outlinewidth": 0,
              "ticks": ""
             }
            },
            "type": "scatter"
           }
          ],
          "scatter3d": [
           {
            "line": {
             "colorbar": {
              "outlinewidth": 0,
              "ticks": ""
             }
            },
            "marker": {
             "colorbar": {
              "outlinewidth": 0,
              "ticks": ""
             }
            },
            "type": "scatter3d"
           }
          ],
          "scattercarpet": [
           {
            "marker": {
             "colorbar": {
              "outlinewidth": 0,
              "ticks": ""
             }
            },
            "type": "scattercarpet"
           }
          ],
          "scattergeo": [
           {
            "marker": {
             "colorbar": {
              "outlinewidth": 0,
              "ticks": ""
             }
            },
            "type": "scattergeo"
           }
          ],
          "scattergl": [
           {
            "marker": {
             "colorbar": {
              "outlinewidth": 0,
              "ticks": ""
             }
            },
            "type": "scattergl"
           }
          ],
          "scattermapbox": [
           {
            "marker": {
             "colorbar": {
              "outlinewidth": 0,
              "ticks": ""
             }
            },
            "type": "scattermapbox"
           }
          ],
          "scatterpolar": [
           {
            "marker": {
             "colorbar": {
              "outlinewidth": 0,
              "ticks": ""
             }
            },
            "type": "scatterpolar"
           }
          ],
          "scatterpolargl": [
           {
            "marker": {
             "colorbar": {
              "outlinewidth": 0,
              "ticks": ""
             }
            },
            "type": "scatterpolargl"
           }
          ],
          "scatterternary": [
           {
            "marker": {
             "colorbar": {
              "outlinewidth": 0,
              "ticks": ""
             }
            },
            "type": "scatterternary"
           }
          ],
          "surface": [
           {
            "colorbar": {
             "outlinewidth": 0,
             "ticks": ""
            },
            "colorscale": [
             [
              0,
              "#0d0887"
             ],
             [
              0.1111111111111111,
              "#46039f"
             ],
             [
              0.2222222222222222,
              "#7201a8"
             ],
             [
              0.3333333333333333,
              "#9c179e"
             ],
             [
              0.4444444444444444,
              "#bd3786"
             ],
             [
              0.5555555555555556,
              "#d8576b"
             ],
             [
              0.6666666666666666,
              "#ed7953"
             ],
             [
              0.7777777777777778,
              "#fb9f3a"
             ],
             [
              0.8888888888888888,
              "#fdca26"
             ],
             [
              1,
              "#f0f921"
             ]
            ],
            "type": "surface"
           }
          ],
          "table": [
           {
            "cells": {
             "fill": {
              "color": "#EBF0F8"
             },
             "line": {
              "color": "white"
             }
            },
            "header": {
             "fill": {
              "color": "#C8D4E3"
             },
             "line": {
              "color": "white"
             }
            },
            "type": "table"
           }
          ]
         },
         "layout": {
          "annotationdefaults": {
           "arrowcolor": "#2a3f5f",
           "arrowhead": 0,
           "arrowwidth": 1
          },
          "autotypenumbers": "strict",
          "coloraxis": {
           "colorbar": {
            "outlinewidth": 0,
            "ticks": ""
           }
          },
          "colorscale": {
           "diverging": [
            [
             0,
             "#8e0152"
            ],
            [
             0.1,
             "#c51b7d"
            ],
            [
             0.2,
             "#de77ae"
            ],
            [
             0.3,
             "#f1b6da"
            ],
            [
             0.4,
             "#fde0ef"
            ],
            [
             0.5,
             "#f7f7f7"
            ],
            [
             0.6,
             "#e6f5d0"
            ],
            [
             0.7,
             "#b8e186"
            ],
            [
             0.8,
             "#7fbc41"
            ],
            [
             0.9,
             "#4d9221"
            ],
            [
             1,
             "#276419"
            ]
           ],
           "sequential": [
            [
             0,
             "#0d0887"
            ],
            [
             0.1111111111111111,
             "#46039f"
            ],
            [
             0.2222222222222222,
             "#7201a8"
            ],
            [
             0.3333333333333333,
             "#9c179e"
            ],
            [
             0.4444444444444444,
             "#bd3786"
            ],
            [
             0.5555555555555556,
             "#d8576b"
            ],
            [
             0.6666666666666666,
             "#ed7953"
            ],
            [
             0.7777777777777778,
             "#fb9f3a"
            ],
            [
             0.8888888888888888,
             "#fdca26"
            ],
            [
             1,
             "#f0f921"
            ]
           ],
           "sequentialminus": [
            [
             0,
             "#0d0887"
            ],
            [
             0.1111111111111111,
             "#46039f"
            ],
            [
             0.2222222222222222,
             "#7201a8"
            ],
            [
             0.3333333333333333,
             "#9c179e"
            ],
            [
             0.4444444444444444,
             "#bd3786"
            ],
            [
             0.5555555555555556,
             "#d8576b"
            ],
            [
             0.6666666666666666,
             "#ed7953"
            ],
            [
             0.7777777777777778,
             "#fb9f3a"
            ],
            [
             0.8888888888888888,
             "#fdca26"
            ],
            [
             1,
             "#f0f921"
            ]
           ]
          },
          "colorway": [
           "#636efa",
           "#EF553B",
           "#00cc96",
           "#ab63fa",
           "#FFA15A",
           "#19d3f3",
           "#FF6692",
           "#B6E880",
           "#FF97FF",
           "#FECB52"
          ],
          "font": {
           "color": "#2a3f5f"
          },
          "geo": {
           "bgcolor": "white",
           "lakecolor": "white",
           "landcolor": "#E5ECF6",
           "showlakes": true,
           "showland": true,
           "subunitcolor": "white"
          },
          "hoverlabel": {
           "align": "left"
          },
          "hovermode": "closest",
          "mapbox": {
           "style": "light"
          },
          "paper_bgcolor": "white",
          "plot_bgcolor": "#E5ECF6",
          "polar": {
           "angularaxis": {
            "gridcolor": "white",
            "linecolor": "white",
            "ticks": ""
           },
           "bgcolor": "#E5ECF6",
           "radialaxis": {
            "gridcolor": "white",
            "linecolor": "white",
            "ticks": ""
           }
          },
          "scene": {
           "xaxis": {
            "backgroundcolor": "#E5ECF6",
            "gridcolor": "white",
            "gridwidth": 2,
            "linecolor": "white",
            "showbackground": true,
            "ticks": "",
            "zerolinecolor": "white"
           },
           "yaxis": {
            "backgroundcolor": "#E5ECF6",
            "gridcolor": "white",
            "gridwidth": 2,
            "linecolor": "white",
            "showbackground": true,
            "ticks": "",
            "zerolinecolor": "white"
           },
           "zaxis": {
            "backgroundcolor": "#E5ECF6",
            "gridcolor": "white",
            "gridwidth": 2,
            "linecolor": "white",
            "showbackground": true,
            "ticks": "",
            "zerolinecolor": "white"
           }
          },
          "shapedefaults": {
           "line": {
            "color": "#2a3f5f"
           }
          },
          "ternary": {
           "aaxis": {
            "gridcolor": "white",
            "linecolor": "white",
            "ticks": ""
           },
           "baxis": {
            "gridcolor": "white",
            "linecolor": "white",
            "ticks": ""
           },
           "bgcolor": "#E5ECF6",
           "caxis": {
            "gridcolor": "white",
            "linecolor": "white",
            "ticks": ""
           }
          },
          "title": {
           "x": 0.05
          },
          "xaxis": {
           "automargin": true,
           "gridcolor": "white",
           "linecolor": "white",
           "ticks": "",
           "title": {
            "standoff": 15
           },
           "zerolinecolor": "white",
           "zerolinewidth": 2
          },
          "yaxis": {
           "automargin": true,
           "gridcolor": "white",
           "linecolor": "white",
           "ticks": "",
           "title": {
            "standoff": 15
           },
           "zerolinecolor": "white",
           "zerolinewidth": 2
          }
         }
        },
        "title": {
         "font": {
          "color": "#4D5663"
         }
        },
        "xaxis": {
         "gridcolor": "#E1E5ED",
         "showgrid": true,
         "tickfont": {
          "color": "#4D5663"
         },
         "title": {
          "font": {
           "color": "#4D5663"
          },
          "text": ""
         },
         "zerolinecolor": "#E1E5ED"
        },
        "yaxis": {
         "gridcolor": "#E1E5ED",
         "showgrid": true,
         "tickfont": {
          "color": "#4D5663"
         },
         "title": {
          "font": {
           "color": "#4D5663"
          },
          "text": ""
         },
         "zerolinecolor": "#E1E5ED"
        }
       }
      },
      "text/html": [
       "<div>                            <div id=\"84d19b45-9c31-4766-bc54-9aae7d2d0c74\" class=\"plotly-graph-div\" style=\"height:525px; width:100%;\"></div>            <script type=\"text/javascript\">                require([\"plotly\"], function(Plotly) {                    window.PLOTLYENV=window.PLOTLYENV || {};\n",
       "                    window.PLOTLYENV.BASE_URL='https://plot.ly';                                    if (document.getElementById(\"84d19b45-9c31-4766-bc54-9aae7d2d0c74\")) {                    Plotly.newPlot(                        \"84d19b45-9c31-4766-bc54-9aae7d2d0c74\",                        [{\"marker\":{\"color\":\"rgba(255, 153, 51, 0.6)\",\"line\":{\"color\":\"rgba(255, 153, 51, 1.0)\",\"width\":1}},\"name\":\"None\",\"orientation\":\"v\",\"text\":\"\",\"x\":[\"A\",\"B\",\"C\",\"D\"],\"y\":[100,100,100,100],\"type\":\"bar\"}],                        {\"legend\":{\"bgcolor\":\"#F5F6F9\",\"font\":{\"color\":\"#4D5663\"}},\"paper_bgcolor\":\"#F5F6F9\",\"plot_bgcolor\":\"#F5F6F9\",\"template\":{\"data\":{\"barpolar\":[{\"marker\":{\"line\":{\"color\":\"#E5ECF6\",\"width\":0.5},\"pattern\":{\"fillmode\":\"overlay\",\"size\":10,\"solidity\":0.2}},\"type\":\"barpolar\"}],\"bar\":[{\"error_x\":{\"color\":\"#2a3f5f\"},\"error_y\":{\"color\":\"#2a3f5f\"},\"marker\":{\"line\":{\"color\":\"#E5ECF6\",\"width\":0.5},\"pattern\":{\"fillmode\":\"overlay\",\"size\":10,\"solidity\":0.2}},\"type\":\"bar\"}],\"carpet\":[{\"aaxis\":{\"endlinecolor\":\"#2a3f5f\",\"gridcolor\":\"white\",\"linecolor\":\"white\",\"minorgridcolor\":\"white\",\"startlinecolor\":\"#2a3f5f\"},\"baxis\":{\"endlinecolor\":\"#2a3f5f\",\"gridcolor\":\"white\",\"linecolor\":\"white\",\"minorgridcolor\":\"white\",\"startlinecolor\":\"#2a3f5f\"},\"type\":\"carpet\"}],\"choropleth\":[{\"colorbar\":{\"outlinewidth\":0,\"ticks\":\"\"},\"type\":\"choropleth\"}],\"contourcarpet\":[{\"colorbar\":{\"outlinewidth\":0,\"ticks\":\"\"},\"type\":\"contourcarpet\"}],\"contour\":[{\"colorbar\":{\"outlinewidth\":0,\"ticks\":\"\"},\"colorscale\":[[0.0,\"#0d0887\"],[0.1111111111111111,\"#46039f\"],[0.2222222222222222,\"#7201a8\"],[0.3333333333333333,\"#9c179e\"],[0.4444444444444444,\"#bd3786\"],[0.5555555555555556,\"#d8576b\"],[0.6666666666666666,\"#ed7953\"],[0.7777777777777778,\"#fb9f3a\"],[0.8888888888888888,\"#fdca26\"],[1.0,\"#f0f921\"]],\"type\":\"contour\"}],\"heatmapgl\":[{\"colorbar\":{\"outlinewidth\":0,\"ticks\":\"\"},\"colorscale\":[[0.0,\"#0d0887\"],[0.1111111111111111,\"#46039f\"],[0.2222222222222222,\"#7201a8\"],[0.3333333333333333,\"#9c179e\"],[0.4444444444444444,\"#bd3786\"],[0.5555555555555556,\"#d8576b\"],[0.6666666666666666,\"#ed7953\"],[0.7777777777777778,\"#fb9f3a\"],[0.8888888888888888,\"#fdca26\"],[1.0,\"#f0f921\"]],\"type\":\"heatmapgl\"}],\"heatmap\":[{\"colorbar\":{\"outlinewidth\":0,\"ticks\":\"\"},\"colorscale\":[[0.0,\"#0d0887\"],[0.1111111111111111,\"#46039f\"],[0.2222222222222222,\"#7201a8\"],[0.3333333333333333,\"#9c179e\"],[0.4444444444444444,\"#bd3786\"],[0.5555555555555556,\"#d8576b\"],[0.6666666666666666,\"#ed7953\"],[0.7777777777777778,\"#fb9f3a\"],[0.8888888888888888,\"#fdca26\"],[1.0,\"#f0f921\"]],\"type\":\"heatmap\"}],\"histogram2dcontour\":[{\"colorbar\":{\"outlinewidth\":0,\"ticks\":\"\"},\"colorscale\":[[0.0,\"#0d0887\"],[0.1111111111111111,\"#46039f\"],[0.2222222222222222,\"#7201a8\"],[0.3333333333333333,\"#9c179e\"],[0.4444444444444444,\"#bd3786\"],[0.5555555555555556,\"#d8576b\"],[0.6666666666666666,\"#ed7953\"],[0.7777777777777778,\"#fb9f3a\"],[0.8888888888888888,\"#fdca26\"],[1.0,\"#f0f921\"]],\"type\":\"histogram2dcontour\"}],\"histogram2d\":[{\"colorbar\":{\"outlinewidth\":0,\"ticks\":\"\"},\"colorscale\":[[0.0,\"#0d0887\"],[0.1111111111111111,\"#46039f\"],[0.2222222222222222,\"#7201a8\"],[0.3333333333333333,\"#9c179e\"],[0.4444444444444444,\"#bd3786\"],[0.5555555555555556,\"#d8576b\"],[0.6666666666666666,\"#ed7953\"],[0.7777777777777778,\"#fb9f3a\"],[0.8888888888888888,\"#fdca26\"],[1.0,\"#f0f921\"]],\"type\":\"histogram2d\"}],\"histogram\":[{\"marker\":{\"pattern\":{\"fillmode\":\"overlay\",\"size\":10,\"solidity\":0.2}},\"type\":\"histogram\"}],\"mesh3d\":[{\"colorbar\":{\"outlinewidth\":0,\"ticks\":\"\"},\"type\":\"mesh3d\"}],\"parcoords\":[{\"line\":{\"colorbar\":{\"outlinewidth\":0,\"ticks\":\"\"}},\"type\":\"parcoords\"}],\"pie\":[{\"automargin\":true,\"type\":\"pie\"}],\"scatter3d\":[{\"line\":{\"colorbar\":{\"outlinewidth\":0,\"ticks\":\"\"}},\"marker\":{\"colorbar\":{\"outlinewidth\":0,\"ticks\":\"\"}},\"type\":\"scatter3d\"}],\"scattercarpet\":[{\"marker\":{\"colorbar\":{\"outlinewidth\":0,\"ticks\":\"\"}},\"type\":\"scattercarpet\"}],\"scattergeo\":[{\"marker\":{\"colorbar\":{\"outlinewidth\":0,\"ticks\":\"\"}},\"type\":\"scattergeo\"}],\"scattergl\":[{\"marker\":{\"colorbar\":{\"outlinewidth\":0,\"ticks\":\"\"}},\"type\":\"scattergl\"}],\"scattermapbox\":[{\"marker\":{\"colorbar\":{\"outlinewidth\":0,\"ticks\":\"\"}},\"type\":\"scattermapbox\"}],\"scatterpolargl\":[{\"marker\":{\"colorbar\":{\"outlinewidth\":0,\"ticks\":\"\"}},\"type\":\"scatterpolargl\"}],\"scatterpolar\":[{\"marker\":{\"colorbar\":{\"outlinewidth\":0,\"ticks\":\"\"}},\"type\":\"scatterpolar\"}],\"scatter\":[{\"marker\":{\"colorbar\":{\"outlinewidth\":0,\"ticks\":\"\"}},\"type\":\"scatter\"}],\"scatterternary\":[{\"marker\":{\"colorbar\":{\"outlinewidth\":0,\"ticks\":\"\"}},\"type\":\"scatterternary\"}],\"surface\":[{\"colorbar\":{\"outlinewidth\":0,\"ticks\":\"\"},\"colorscale\":[[0.0,\"#0d0887\"],[0.1111111111111111,\"#46039f\"],[0.2222222222222222,\"#7201a8\"],[0.3333333333333333,\"#9c179e\"],[0.4444444444444444,\"#bd3786\"],[0.5555555555555556,\"#d8576b\"],[0.6666666666666666,\"#ed7953\"],[0.7777777777777778,\"#fb9f3a\"],[0.8888888888888888,\"#fdca26\"],[1.0,\"#f0f921\"]],\"type\":\"surface\"}],\"table\":[{\"cells\":{\"fill\":{\"color\":\"#EBF0F8\"},\"line\":{\"color\":\"white\"}},\"header\":{\"fill\":{\"color\":\"#C8D4E3\"},\"line\":{\"color\":\"white\"}},\"type\":\"table\"}]},\"layout\":{\"annotationdefaults\":{\"arrowcolor\":\"#2a3f5f\",\"arrowhead\":0,\"arrowwidth\":1},\"autotypenumbers\":\"strict\",\"coloraxis\":{\"colorbar\":{\"outlinewidth\":0,\"ticks\":\"\"}},\"colorscale\":{\"diverging\":[[0,\"#8e0152\"],[0.1,\"#c51b7d\"],[0.2,\"#de77ae\"],[0.3,\"#f1b6da\"],[0.4,\"#fde0ef\"],[0.5,\"#f7f7f7\"],[0.6,\"#e6f5d0\"],[0.7,\"#b8e186\"],[0.8,\"#7fbc41\"],[0.9,\"#4d9221\"],[1,\"#276419\"]],\"sequential\":[[0.0,\"#0d0887\"],[0.1111111111111111,\"#46039f\"],[0.2222222222222222,\"#7201a8\"],[0.3333333333333333,\"#9c179e\"],[0.4444444444444444,\"#bd3786\"],[0.5555555555555556,\"#d8576b\"],[0.6666666666666666,\"#ed7953\"],[0.7777777777777778,\"#fb9f3a\"],[0.8888888888888888,\"#fdca26\"],[1.0,\"#f0f921\"]],\"sequentialminus\":[[0.0,\"#0d0887\"],[0.1111111111111111,\"#46039f\"],[0.2222222222222222,\"#7201a8\"],[0.3333333333333333,\"#9c179e\"],[0.4444444444444444,\"#bd3786\"],[0.5555555555555556,\"#d8576b\"],[0.6666666666666666,\"#ed7953\"],[0.7777777777777778,\"#fb9f3a\"],[0.8888888888888888,\"#fdca26\"],[1.0,\"#f0f921\"]]},\"colorway\":[\"#636efa\",\"#EF553B\",\"#00cc96\",\"#ab63fa\",\"#FFA15A\",\"#19d3f3\",\"#FF6692\",\"#B6E880\",\"#FF97FF\",\"#FECB52\"],\"font\":{\"color\":\"#2a3f5f\"},\"geo\":{\"bgcolor\":\"white\",\"lakecolor\":\"white\",\"landcolor\":\"#E5ECF6\",\"showlakes\":true,\"showland\":true,\"subunitcolor\":\"white\"},\"hoverlabel\":{\"align\":\"left\"},\"hovermode\":\"closest\",\"mapbox\":{\"style\":\"light\"},\"paper_bgcolor\":\"white\",\"plot_bgcolor\":\"#E5ECF6\",\"polar\":{\"angularaxis\":{\"gridcolor\":\"white\",\"linecolor\":\"white\",\"ticks\":\"\"},\"bgcolor\":\"#E5ECF6\",\"radialaxis\":{\"gridcolor\":\"white\",\"linecolor\":\"white\",\"ticks\":\"\"}},\"scene\":{\"xaxis\":{\"backgroundcolor\":\"#E5ECF6\",\"gridcolor\":\"white\",\"gridwidth\":2,\"linecolor\":\"white\",\"showbackground\":true,\"ticks\":\"\",\"zerolinecolor\":\"white\"},\"yaxis\":{\"backgroundcolor\":\"#E5ECF6\",\"gridcolor\":\"white\",\"gridwidth\":2,\"linecolor\":\"white\",\"showbackground\":true,\"ticks\":\"\",\"zerolinecolor\":\"white\"},\"zaxis\":{\"backgroundcolor\":\"#E5ECF6\",\"gridcolor\":\"white\",\"gridwidth\":2,\"linecolor\":\"white\",\"showbackground\":true,\"ticks\":\"\",\"zerolinecolor\":\"white\"}},\"shapedefaults\":{\"line\":{\"color\":\"#2a3f5f\"}},\"ternary\":{\"aaxis\":{\"gridcolor\":\"white\",\"linecolor\":\"white\",\"ticks\":\"\"},\"baxis\":{\"gridcolor\":\"white\",\"linecolor\":\"white\",\"ticks\":\"\"},\"bgcolor\":\"#E5ECF6\",\"caxis\":{\"gridcolor\":\"white\",\"linecolor\":\"white\",\"ticks\":\"\"}},\"title\":{\"x\":0.05},\"xaxis\":{\"automargin\":true,\"gridcolor\":\"white\",\"linecolor\":\"white\",\"ticks\":\"\",\"title\":{\"standoff\":15},\"zerolinecolor\":\"white\",\"zerolinewidth\":2},\"yaxis\":{\"automargin\":true,\"gridcolor\":\"white\",\"linecolor\":\"white\",\"ticks\":\"\",\"title\":{\"standoff\":15},\"zerolinecolor\":\"white\",\"zerolinewidth\":2}}},\"title\":{\"font\":{\"color\":\"#4D5663\"}},\"xaxis\":{\"gridcolor\":\"#E1E5ED\",\"showgrid\":true,\"tickfont\":{\"color\":\"#4D5663\"},\"title\":{\"font\":{\"color\":\"#4D5663\"},\"text\":\"\"},\"zerolinecolor\":\"#E1E5ED\"},\"yaxis\":{\"gridcolor\":\"#E1E5ED\",\"showgrid\":true,\"tickfont\":{\"color\":\"#4D5663\"},\"title\":{\"font\":{\"color\":\"#4D5663\"},\"text\":\"\"},\"zerolinecolor\":\"#E1E5ED\"}},                        {\"showLink\": true, \"linkText\": \"Export to plot.ly\", \"plotlyServerURL\": \"https://plot.ly\", \"responsive\": true}                    ).then(function(){\n",
       "                            \n",
       "var gd = document.getElementById('84d19b45-9c31-4766-bc54-9aae7d2d0c74');\n",
       "var x = new MutationObserver(function (mutations, observer) {{\n",
       "        var display = window.getComputedStyle(gd).display;\n",
       "        if (!display || display === 'none') {{\n",
       "            console.log([gd, 'removed!']);\n",
       "            Plotly.purge(gd);\n",
       "            observer.disconnect();\n",
       "        }}\n",
       "}});\n",
       "\n",
       "// Listen for the removal of the full notebook cells\n",
       "var notebookContainer = gd.closest('#notebook-container');\n",
       "if (notebookContainer) {{\n",
       "    x.observe(notebookContainer, {childList: true});\n",
       "}}\n",
       "\n",
       "// Listen for the clearing of the current output cell\n",
       "var outputEl = gd.closest('.output');\n",
       "if (outputEl) {{\n",
       "    x.observe(outputEl, {childList: true});\n",
       "}}\n",
       "\n",
       "                        })                };                });            </script>        </div>"
      ]
     },
     "metadata": {},
     "output_type": "display_data"
    }
   ],
   "source": [
    "df.count().iplot(kind='bar')"
   ]
  },
  {
   "cell_type": "code",
   "execution_count": 35,
   "id": "f53ba7c0",
   "metadata": {},
   "outputs": [
    {
     "data": {
      "application/vnd.plotly.v1+json": {
       "config": {
        "linkText": "Export to plot.ly",
        "plotlyServerURL": "https://plot.ly",
        "showLink": true
       },
       "data": [
        {
         "marker": {
          "color": "rgba(255, 153, 51, 0.6)",
          "line": {
           "color": "rgba(255, 153, 51, 1.0)",
           "width": 1
          }
         },
         "name": "None",
         "orientation": "v",
         "text": "",
         "type": "bar",
         "x": [
          "A",
          "B",
          "C",
          "D"
         ],
         "y": [
          5.948152436390867,
          11.473407040841469,
          -5.271298973777117,
          -24.340638927646726
         ]
        }
       ],
       "layout": {
        "legend": {
         "bgcolor": "#F5F6F9",
         "font": {
          "color": "#4D5663"
         }
        },
        "paper_bgcolor": "#F5F6F9",
        "plot_bgcolor": "#F5F6F9",
        "template": {
         "data": {
          "bar": [
           {
            "error_x": {
             "color": "#2a3f5f"
            },
            "error_y": {
             "color": "#2a3f5f"
            },
            "marker": {
             "line": {
              "color": "#E5ECF6",
              "width": 0.5
             },
             "pattern": {
              "fillmode": "overlay",
              "size": 10,
              "solidity": 0.2
             }
            },
            "type": "bar"
           }
          ],
          "barpolar": [
           {
            "marker": {
             "line": {
              "color": "#E5ECF6",
              "width": 0.5
             },
             "pattern": {
              "fillmode": "overlay",
              "size": 10,
              "solidity": 0.2
             }
            },
            "type": "barpolar"
           }
          ],
          "carpet": [
           {
            "aaxis": {
             "endlinecolor": "#2a3f5f",
             "gridcolor": "white",
             "linecolor": "white",
             "minorgridcolor": "white",
             "startlinecolor": "#2a3f5f"
            },
            "baxis": {
             "endlinecolor": "#2a3f5f",
             "gridcolor": "white",
             "linecolor": "white",
             "minorgridcolor": "white",
             "startlinecolor": "#2a3f5f"
            },
            "type": "carpet"
           }
          ],
          "choropleth": [
           {
            "colorbar": {
             "outlinewidth": 0,
             "ticks": ""
            },
            "type": "choropleth"
           }
          ],
          "contour": [
           {
            "colorbar": {
             "outlinewidth": 0,
             "ticks": ""
            },
            "colorscale": [
             [
              0,
              "#0d0887"
             ],
             [
              0.1111111111111111,
              "#46039f"
             ],
             [
              0.2222222222222222,
              "#7201a8"
             ],
             [
              0.3333333333333333,
              "#9c179e"
             ],
             [
              0.4444444444444444,
              "#bd3786"
             ],
             [
              0.5555555555555556,
              "#d8576b"
             ],
             [
              0.6666666666666666,
              "#ed7953"
             ],
             [
              0.7777777777777778,
              "#fb9f3a"
             ],
             [
              0.8888888888888888,
              "#fdca26"
             ],
             [
              1,
              "#f0f921"
             ]
            ],
            "type": "contour"
           }
          ],
          "contourcarpet": [
           {
            "colorbar": {
             "outlinewidth": 0,
             "ticks": ""
            },
            "type": "contourcarpet"
           }
          ],
          "heatmap": [
           {
            "colorbar": {
             "outlinewidth": 0,
             "ticks": ""
            },
            "colorscale": [
             [
              0,
              "#0d0887"
             ],
             [
              0.1111111111111111,
              "#46039f"
             ],
             [
              0.2222222222222222,
              "#7201a8"
             ],
             [
              0.3333333333333333,
              "#9c179e"
             ],
             [
              0.4444444444444444,
              "#bd3786"
             ],
             [
              0.5555555555555556,
              "#d8576b"
             ],
             [
              0.6666666666666666,
              "#ed7953"
             ],
             [
              0.7777777777777778,
              "#fb9f3a"
             ],
             [
              0.8888888888888888,
              "#fdca26"
             ],
             [
              1,
              "#f0f921"
             ]
            ],
            "type": "heatmap"
           }
          ],
          "heatmapgl": [
           {
            "colorbar": {
             "outlinewidth": 0,
             "ticks": ""
            },
            "colorscale": [
             [
              0,
              "#0d0887"
             ],
             [
              0.1111111111111111,
              "#46039f"
             ],
             [
              0.2222222222222222,
              "#7201a8"
             ],
             [
              0.3333333333333333,
              "#9c179e"
             ],
             [
              0.4444444444444444,
              "#bd3786"
             ],
             [
              0.5555555555555556,
              "#d8576b"
             ],
             [
              0.6666666666666666,
              "#ed7953"
             ],
             [
              0.7777777777777778,
              "#fb9f3a"
             ],
             [
              0.8888888888888888,
              "#fdca26"
             ],
             [
              1,
              "#f0f921"
             ]
            ],
            "type": "heatmapgl"
           }
          ],
          "histogram": [
           {
            "marker": {
             "pattern": {
              "fillmode": "overlay",
              "size": 10,
              "solidity": 0.2
             }
            },
            "type": "histogram"
           }
          ],
          "histogram2d": [
           {
            "colorbar": {
             "outlinewidth": 0,
             "ticks": ""
            },
            "colorscale": [
             [
              0,
              "#0d0887"
             ],
             [
              0.1111111111111111,
              "#46039f"
             ],
             [
              0.2222222222222222,
              "#7201a8"
             ],
             [
              0.3333333333333333,
              "#9c179e"
             ],
             [
              0.4444444444444444,
              "#bd3786"
             ],
             [
              0.5555555555555556,
              "#d8576b"
             ],
             [
              0.6666666666666666,
              "#ed7953"
             ],
             [
              0.7777777777777778,
              "#fb9f3a"
             ],
             [
              0.8888888888888888,
              "#fdca26"
             ],
             [
              1,
              "#f0f921"
             ]
            ],
            "type": "histogram2d"
           }
          ],
          "histogram2dcontour": [
           {
            "colorbar": {
             "outlinewidth": 0,
             "ticks": ""
            },
            "colorscale": [
             [
              0,
              "#0d0887"
             ],
             [
              0.1111111111111111,
              "#46039f"
             ],
             [
              0.2222222222222222,
              "#7201a8"
             ],
             [
              0.3333333333333333,
              "#9c179e"
             ],
             [
              0.4444444444444444,
              "#bd3786"
             ],
             [
              0.5555555555555556,
              "#d8576b"
             ],
             [
              0.6666666666666666,
              "#ed7953"
             ],
             [
              0.7777777777777778,
              "#fb9f3a"
             ],
             [
              0.8888888888888888,
              "#fdca26"
             ],
             [
              1,
              "#f0f921"
             ]
            ],
            "type": "histogram2dcontour"
           }
          ],
          "mesh3d": [
           {
            "colorbar": {
             "outlinewidth": 0,
             "ticks": ""
            },
            "type": "mesh3d"
           }
          ],
          "parcoords": [
           {
            "line": {
             "colorbar": {
              "outlinewidth": 0,
              "ticks": ""
             }
            },
            "type": "parcoords"
           }
          ],
          "pie": [
           {
            "automargin": true,
            "type": "pie"
           }
          ],
          "scatter": [
           {
            "marker": {
             "colorbar": {
              "outlinewidth": 0,
              "ticks": ""
             }
            },
            "type": "scatter"
           }
          ],
          "scatter3d": [
           {
            "line": {
             "colorbar": {
              "outlinewidth": 0,
              "ticks": ""
             }
            },
            "marker": {
             "colorbar": {
              "outlinewidth": 0,
              "ticks": ""
             }
            },
            "type": "scatter3d"
           }
          ],
          "scattercarpet": [
           {
            "marker": {
             "colorbar": {
              "outlinewidth": 0,
              "ticks": ""
             }
            },
            "type": "scattercarpet"
           }
          ],
          "scattergeo": [
           {
            "marker": {
             "colorbar": {
              "outlinewidth": 0,
              "ticks": ""
             }
            },
            "type": "scattergeo"
           }
          ],
          "scattergl": [
           {
            "marker": {
             "colorbar": {
              "outlinewidth": 0,
              "ticks": ""
             }
            },
            "type": "scattergl"
           }
          ],
          "scattermapbox": [
           {
            "marker": {
             "colorbar": {
              "outlinewidth": 0,
              "ticks": ""
             }
            },
            "type": "scattermapbox"
           }
          ],
          "scatterpolar": [
           {
            "marker": {
             "colorbar": {
              "outlinewidth": 0,
              "ticks": ""
             }
            },
            "type": "scatterpolar"
           }
          ],
          "scatterpolargl": [
           {
            "marker": {
             "colorbar": {
              "outlinewidth": 0,
              "ticks": ""
             }
            },
            "type": "scatterpolargl"
           }
          ],
          "scatterternary": [
           {
            "marker": {
             "colorbar": {
              "outlinewidth": 0,
              "ticks": ""
             }
            },
            "type": "scatterternary"
           }
          ],
          "surface": [
           {
            "colorbar": {
             "outlinewidth": 0,
             "ticks": ""
            },
            "colorscale": [
             [
              0,
              "#0d0887"
             ],
             [
              0.1111111111111111,
              "#46039f"
             ],
             [
              0.2222222222222222,
              "#7201a8"
             ],
             [
              0.3333333333333333,
              "#9c179e"
             ],
             [
              0.4444444444444444,
              "#bd3786"
             ],
             [
              0.5555555555555556,
              "#d8576b"
             ],
             [
              0.6666666666666666,
              "#ed7953"
             ],
             [
              0.7777777777777778,
              "#fb9f3a"
             ],
             [
              0.8888888888888888,
              "#fdca26"
             ],
             [
              1,
              "#f0f921"
             ]
            ],
            "type": "surface"
           }
          ],
          "table": [
           {
            "cells": {
             "fill": {
              "color": "#EBF0F8"
             },
             "line": {
              "color": "white"
             }
            },
            "header": {
             "fill": {
              "color": "#C8D4E3"
             },
             "line": {
              "color": "white"
             }
            },
            "type": "table"
           }
          ]
         },
         "layout": {
          "annotationdefaults": {
           "arrowcolor": "#2a3f5f",
           "arrowhead": 0,
           "arrowwidth": 1
          },
          "autotypenumbers": "strict",
          "coloraxis": {
           "colorbar": {
            "outlinewidth": 0,
            "ticks": ""
           }
          },
          "colorscale": {
           "diverging": [
            [
             0,
             "#8e0152"
            ],
            [
             0.1,
             "#c51b7d"
            ],
            [
             0.2,
             "#de77ae"
            ],
            [
             0.3,
             "#f1b6da"
            ],
            [
             0.4,
             "#fde0ef"
            ],
            [
             0.5,
             "#f7f7f7"
            ],
            [
             0.6,
             "#e6f5d0"
            ],
            [
             0.7,
             "#b8e186"
            ],
            [
             0.8,
             "#7fbc41"
            ],
            [
             0.9,
             "#4d9221"
            ],
            [
             1,
             "#276419"
            ]
           ],
           "sequential": [
            [
             0,
             "#0d0887"
            ],
            [
             0.1111111111111111,
             "#46039f"
            ],
            [
             0.2222222222222222,
             "#7201a8"
            ],
            [
             0.3333333333333333,
             "#9c179e"
            ],
            [
             0.4444444444444444,
             "#bd3786"
            ],
            [
             0.5555555555555556,
             "#d8576b"
            ],
            [
             0.6666666666666666,
             "#ed7953"
            ],
            [
             0.7777777777777778,
             "#fb9f3a"
            ],
            [
             0.8888888888888888,
             "#fdca26"
            ],
            [
             1,
             "#f0f921"
            ]
           ],
           "sequentialminus": [
            [
             0,
             "#0d0887"
            ],
            [
             0.1111111111111111,
             "#46039f"
            ],
            [
             0.2222222222222222,
             "#7201a8"
            ],
            [
             0.3333333333333333,
             "#9c179e"
            ],
            [
             0.4444444444444444,
             "#bd3786"
            ],
            [
             0.5555555555555556,
             "#d8576b"
            ],
            [
             0.6666666666666666,
             "#ed7953"
            ],
            [
             0.7777777777777778,
             "#fb9f3a"
            ],
            [
             0.8888888888888888,
             "#fdca26"
            ],
            [
             1,
             "#f0f921"
            ]
           ]
          },
          "colorway": [
           "#636efa",
           "#EF553B",
           "#00cc96",
           "#ab63fa",
           "#FFA15A",
           "#19d3f3",
           "#FF6692",
           "#B6E880",
           "#FF97FF",
           "#FECB52"
          ],
          "font": {
           "color": "#2a3f5f"
          },
          "geo": {
           "bgcolor": "white",
           "lakecolor": "white",
           "landcolor": "#E5ECF6",
           "showlakes": true,
           "showland": true,
           "subunitcolor": "white"
          },
          "hoverlabel": {
           "align": "left"
          },
          "hovermode": "closest",
          "mapbox": {
           "style": "light"
          },
          "paper_bgcolor": "white",
          "plot_bgcolor": "#E5ECF6",
          "polar": {
           "angularaxis": {
            "gridcolor": "white",
            "linecolor": "white",
            "ticks": ""
           },
           "bgcolor": "#E5ECF6",
           "radialaxis": {
            "gridcolor": "white",
            "linecolor": "white",
            "ticks": ""
           }
          },
          "scene": {
           "xaxis": {
            "backgroundcolor": "#E5ECF6",
            "gridcolor": "white",
            "gridwidth": 2,
            "linecolor": "white",
            "showbackground": true,
            "ticks": "",
            "zerolinecolor": "white"
           },
           "yaxis": {
            "backgroundcolor": "#E5ECF6",
            "gridcolor": "white",
            "gridwidth": 2,
            "linecolor": "white",
            "showbackground": true,
            "ticks": "",
            "zerolinecolor": "white"
           },
           "zaxis": {
            "backgroundcolor": "#E5ECF6",
            "gridcolor": "white",
            "gridwidth": 2,
            "linecolor": "white",
            "showbackground": true,
            "ticks": "",
            "zerolinecolor": "white"
           }
          },
          "shapedefaults": {
           "line": {
            "color": "#2a3f5f"
           }
          },
          "ternary": {
           "aaxis": {
            "gridcolor": "white",
            "linecolor": "white",
            "ticks": ""
           },
           "baxis": {
            "gridcolor": "white",
            "linecolor": "white",
            "ticks": ""
           },
           "bgcolor": "#E5ECF6",
           "caxis": {
            "gridcolor": "white",
            "linecolor": "white",
            "ticks": ""
           }
          },
          "title": {
           "x": 0.05
          },
          "xaxis": {
           "automargin": true,
           "gridcolor": "white",
           "linecolor": "white",
           "ticks": "",
           "title": {
            "standoff": 15
           },
           "zerolinecolor": "white",
           "zerolinewidth": 2
          },
          "yaxis": {
           "automargin": true,
           "gridcolor": "white",
           "linecolor": "white",
           "ticks": "",
           "title": {
            "standoff": 15
           },
           "zerolinecolor": "white",
           "zerolinewidth": 2
          }
         }
        },
        "title": {
         "font": {
          "color": "#4D5663"
         }
        },
        "xaxis": {
         "gridcolor": "#E1E5ED",
         "showgrid": true,
         "tickfont": {
          "color": "#4D5663"
         },
         "title": {
          "font": {
           "color": "#4D5663"
          },
          "text": ""
         },
         "zerolinecolor": "#E1E5ED"
        },
        "yaxis": {
         "gridcolor": "#E1E5ED",
         "showgrid": true,
         "tickfont": {
          "color": "#4D5663"
         },
         "title": {
          "font": {
           "color": "#4D5663"
          },
          "text": ""
         },
         "zerolinecolor": "#E1E5ED"
        }
       }
      },
      "text/html": [
       "<div>                            <div id=\"af2b6f43-279d-4dce-bc82-3edf46c0ddf2\" class=\"plotly-graph-div\" style=\"height:525px; width:100%;\"></div>            <script type=\"text/javascript\">                require([\"plotly\"], function(Plotly) {                    window.PLOTLYENV=window.PLOTLYENV || {};\n",
       "                    window.PLOTLYENV.BASE_URL='https://plot.ly';                                    if (document.getElementById(\"af2b6f43-279d-4dce-bc82-3edf46c0ddf2\")) {                    Plotly.newPlot(                        \"af2b6f43-279d-4dce-bc82-3edf46c0ddf2\",                        [{\"marker\":{\"color\":\"rgba(255, 153, 51, 0.6)\",\"line\":{\"color\":\"rgba(255, 153, 51, 1.0)\",\"width\":1}},\"name\":\"None\",\"orientation\":\"v\",\"text\":\"\",\"x\":[\"A\",\"B\",\"C\",\"D\"],\"y\":[5.948152436390867,11.473407040841469,-5.271298973777117,-24.340638927646726],\"type\":\"bar\"}],                        {\"legend\":{\"bgcolor\":\"#F5F6F9\",\"font\":{\"color\":\"#4D5663\"}},\"paper_bgcolor\":\"#F5F6F9\",\"plot_bgcolor\":\"#F5F6F9\",\"template\":{\"data\":{\"barpolar\":[{\"marker\":{\"line\":{\"color\":\"#E5ECF6\",\"width\":0.5},\"pattern\":{\"fillmode\":\"overlay\",\"size\":10,\"solidity\":0.2}},\"type\":\"barpolar\"}],\"bar\":[{\"error_x\":{\"color\":\"#2a3f5f\"},\"error_y\":{\"color\":\"#2a3f5f\"},\"marker\":{\"line\":{\"color\":\"#E5ECF6\",\"width\":0.5},\"pattern\":{\"fillmode\":\"overlay\",\"size\":10,\"solidity\":0.2}},\"type\":\"bar\"}],\"carpet\":[{\"aaxis\":{\"endlinecolor\":\"#2a3f5f\",\"gridcolor\":\"white\",\"linecolor\":\"white\",\"minorgridcolor\":\"white\",\"startlinecolor\":\"#2a3f5f\"},\"baxis\":{\"endlinecolor\":\"#2a3f5f\",\"gridcolor\":\"white\",\"linecolor\":\"white\",\"minorgridcolor\":\"white\",\"startlinecolor\":\"#2a3f5f\"},\"type\":\"carpet\"}],\"choropleth\":[{\"colorbar\":{\"outlinewidth\":0,\"ticks\":\"\"},\"type\":\"choropleth\"}],\"contourcarpet\":[{\"colorbar\":{\"outlinewidth\":0,\"ticks\":\"\"},\"type\":\"contourcarpet\"}],\"contour\":[{\"colorbar\":{\"outlinewidth\":0,\"ticks\":\"\"},\"colorscale\":[[0.0,\"#0d0887\"],[0.1111111111111111,\"#46039f\"],[0.2222222222222222,\"#7201a8\"],[0.3333333333333333,\"#9c179e\"],[0.4444444444444444,\"#bd3786\"],[0.5555555555555556,\"#d8576b\"],[0.6666666666666666,\"#ed7953\"],[0.7777777777777778,\"#fb9f3a\"],[0.8888888888888888,\"#fdca26\"],[1.0,\"#f0f921\"]],\"type\":\"contour\"}],\"heatmapgl\":[{\"colorbar\":{\"outlinewidth\":0,\"ticks\":\"\"},\"colorscale\":[[0.0,\"#0d0887\"],[0.1111111111111111,\"#46039f\"],[0.2222222222222222,\"#7201a8\"],[0.3333333333333333,\"#9c179e\"],[0.4444444444444444,\"#bd3786\"],[0.5555555555555556,\"#d8576b\"],[0.6666666666666666,\"#ed7953\"],[0.7777777777777778,\"#fb9f3a\"],[0.8888888888888888,\"#fdca26\"],[1.0,\"#f0f921\"]],\"type\":\"heatmapgl\"}],\"heatmap\":[{\"colorbar\":{\"outlinewidth\":0,\"ticks\":\"\"},\"colorscale\":[[0.0,\"#0d0887\"],[0.1111111111111111,\"#46039f\"],[0.2222222222222222,\"#7201a8\"],[0.3333333333333333,\"#9c179e\"],[0.4444444444444444,\"#bd3786\"],[0.5555555555555556,\"#d8576b\"],[0.6666666666666666,\"#ed7953\"],[0.7777777777777778,\"#fb9f3a\"],[0.8888888888888888,\"#fdca26\"],[1.0,\"#f0f921\"]],\"type\":\"heatmap\"}],\"histogram2dcontour\":[{\"colorbar\":{\"outlinewidth\":0,\"ticks\":\"\"},\"colorscale\":[[0.0,\"#0d0887\"],[0.1111111111111111,\"#46039f\"],[0.2222222222222222,\"#7201a8\"],[0.3333333333333333,\"#9c179e\"],[0.4444444444444444,\"#bd3786\"],[0.5555555555555556,\"#d8576b\"],[0.6666666666666666,\"#ed7953\"],[0.7777777777777778,\"#fb9f3a\"],[0.8888888888888888,\"#fdca26\"],[1.0,\"#f0f921\"]],\"type\":\"histogram2dcontour\"}],\"histogram2d\":[{\"colorbar\":{\"outlinewidth\":0,\"ticks\":\"\"},\"colorscale\":[[0.0,\"#0d0887\"],[0.1111111111111111,\"#46039f\"],[0.2222222222222222,\"#7201a8\"],[0.3333333333333333,\"#9c179e\"],[0.4444444444444444,\"#bd3786\"],[0.5555555555555556,\"#d8576b\"],[0.6666666666666666,\"#ed7953\"],[0.7777777777777778,\"#fb9f3a\"],[0.8888888888888888,\"#fdca26\"],[1.0,\"#f0f921\"]],\"type\":\"histogram2d\"}],\"histogram\":[{\"marker\":{\"pattern\":{\"fillmode\":\"overlay\",\"size\":10,\"solidity\":0.2}},\"type\":\"histogram\"}],\"mesh3d\":[{\"colorbar\":{\"outlinewidth\":0,\"ticks\":\"\"},\"type\":\"mesh3d\"}],\"parcoords\":[{\"line\":{\"colorbar\":{\"outlinewidth\":0,\"ticks\":\"\"}},\"type\":\"parcoords\"}],\"pie\":[{\"automargin\":true,\"type\":\"pie\"}],\"scatter3d\":[{\"line\":{\"colorbar\":{\"outlinewidth\":0,\"ticks\":\"\"}},\"marker\":{\"colorbar\":{\"outlinewidth\":0,\"ticks\":\"\"}},\"type\":\"scatter3d\"}],\"scattercarpet\":[{\"marker\":{\"colorbar\":{\"outlinewidth\":0,\"ticks\":\"\"}},\"type\":\"scattercarpet\"}],\"scattergeo\":[{\"marker\":{\"colorbar\":{\"outlinewidth\":0,\"ticks\":\"\"}},\"type\":\"scattergeo\"}],\"scattergl\":[{\"marker\":{\"colorbar\":{\"outlinewidth\":0,\"ticks\":\"\"}},\"type\":\"scattergl\"}],\"scattermapbox\":[{\"marker\":{\"colorbar\":{\"outlinewidth\":0,\"ticks\":\"\"}},\"type\":\"scattermapbox\"}],\"scatterpolargl\":[{\"marker\":{\"colorbar\":{\"outlinewidth\":0,\"ticks\":\"\"}},\"type\":\"scatterpolargl\"}],\"scatterpolar\":[{\"marker\":{\"colorbar\":{\"outlinewidth\":0,\"ticks\":\"\"}},\"type\":\"scatterpolar\"}],\"scatter\":[{\"marker\":{\"colorbar\":{\"outlinewidth\":0,\"ticks\":\"\"}},\"type\":\"scatter\"}],\"scatterternary\":[{\"marker\":{\"colorbar\":{\"outlinewidth\":0,\"ticks\":\"\"}},\"type\":\"scatterternary\"}],\"surface\":[{\"colorbar\":{\"outlinewidth\":0,\"ticks\":\"\"},\"colorscale\":[[0.0,\"#0d0887\"],[0.1111111111111111,\"#46039f\"],[0.2222222222222222,\"#7201a8\"],[0.3333333333333333,\"#9c179e\"],[0.4444444444444444,\"#bd3786\"],[0.5555555555555556,\"#d8576b\"],[0.6666666666666666,\"#ed7953\"],[0.7777777777777778,\"#fb9f3a\"],[0.8888888888888888,\"#fdca26\"],[1.0,\"#f0f921\"]],\"type\":\"surface\"}],\"table\":[{\"cells\":{\"fill\":{\"color\":\"#EBF0F8\"},\"line\":{\"color\":\"white\"}},\"header\":{\"fill\":{\"color\":\"#C8D4E3\"},\"line\":{\"color\":\"white\"}},\"type\":\"table\"}]},\"layout\":{\"annotationdefaults\":{\"arrowcolor\":\"#2a3f5f\",\"arrowhead\":0,\"arrowwidth\":1},\"autotypenumbers\":\"strict\",\"coloraxis\":{\"colorbar\":{\"outlinewidth\":0,\"ticks\":\"\"}},\"colorscale\":{\"diverging\":[[0,\"#8e0152\"],[0.1,\"#c51b7d\"],[0.2,\"#de77ae\"],[0.3,\"#f1b6da\"],[0.4,\"#fde0ef\"],[0.5,\"#f7f7f7\"],[0.6,\"#e6f5d0\"],[0.7,\"#b8e186\"],[0.8,\"#7fbc41\"],[0.9,\"#4d9221\"],[1,\"#276419\"]],\"sequential\":[[0.0,\"#0d0887\"],[0.1111111111111111,\"#46039f\"],[0.2222222222222222,\"#7201a8\"],[0.3333333333333333,\"#9c179e\"],[0.4444444444444444,\"#bd3786\"],[0.5555555555555556,\"#d8576b\"],[0.6666666666666666,\"#ed7953\"],[0.7777777777777778,\"#fb9f3a\"],[0.8888888888888888,\"#fdca26\"],[1.0,\"#f0f921\"]],\"sequentialminus\":[[0.0,\"#0d0887\"],[0.1111111111111111,\"#46039f\"],[0.2222222222222222,\"#7201a8\"],[0.3333333333333333,\"#9c179e\"],[0.4444444444444444,\"#bd3786\"],[0.5555555555555556,\"#d8576b\"],[0.6666666666666666,\"#ed7953\"],[0.7777777777777778,\"#fb9f3a\"],[0.8888888888888888,\"#fdca26\"],[1.0,\"#f0f921\"]]},\"colorway\":[\"#636efa\",\"#EF553B\",\"#00cc96\",\"#ab63fa\",\"#FFA15A\",\"#19d3f3\",\"#FF6692\",\"#B6E880\",\"#FF97FF\",\"#FECB52\"],\"font\":{\"color\":\"#2a3f5f\"},\"geo\":{\"bgcolor\":\"white\",\"lakecolor\":\"white\",\"landcolor\":\"#E5ECF6\",\"showlakes\":true,\"showland\":true,\"subunitcolor\":\"white\"},\"hoverlabel\":{\"align\":\"left\"},\"hovermode\":\"closest\",\"mapbox\":{\"style\":\"light\"},\"paper_bgcolor\":\"white\",\"plot_bgcolor\":\"#E5ECF6\",\"polar\":{\"angularaxis\":{\"gridcolor\":\"white\",\"linecolor\":\"white\",\"ticks\":\"\"},\"bgcolor\":\"#E5ECF6\",\"radialaxis\":{\"gridcolor\":\"white\",\"linecolor\":\"white\",\"ticks\":\"\"}},\"scene\":{\"xaxis\":{\"backgroundcolor\":\"#E5ECF6\",\"gridcolor\":\"white\",\"gridwidth\":2,\"linecolor\":\"white\",\"showbackground\":true,\"ticks\":\"\",\"zerolinecolor\":\"white\"},\"yaxis\":{\"backgroundcolor\":\"#E5ECF6\",\"gridcolor\":\"white\",\"gridwidth\":2,\"linecolor\":\"white\",\"showbackground\":true,\"ticks\":\"\",\"zerolinecolor\":\"white\"},\"zaxis\":{\"backgroundcolor\":\"#E5ECF6\",\"gridcolor\":\"white\",\"gridwidth\":2,\"linecolor\":\"white\",\"showbackground\":true,\"ticks\":\"\",\"zerolinecolor\":\"white\"}},\"shapedefaults\":{\"line\":{\"color\":\"#2a3f5f\"}},\"ternary\":{\"aaxis\":{\"gridcolor\":\"white\",\"linecolor\":\"white\",\"ticks\":\"\"},\"baxis\":{\"gridcolor\":\"white\",\"linecolor\":\"white\",\"ticks\":\"\"},\"bgcolor\":\"#E5ECF6\",\"caxis\":{\"gridcolor\":\"white\",\"linecolor\":\"white\",\"ticks\":\"\"}},\"title\":{\"x\":0.05},\"xaxis\":{\"automargin\":true,\"gridcolor\":\"white\",\"linecolor\":\"white\",\"ticks\":\"\",\"title\":{\"standoff\":15},\"zerolinecolor\":\"white\",\"zerolinewidth\":2},\"yaxis\":{\"automargin\":true,\"gridcolor\":\"white\",\"linecolor\":\"white\",\"ticks\":\"\",\"title\":{\"standoff\":15},\"zerolinecolor\":\"white\",\"zerolinewidth\":2}}},\"title\":{\"font\":{\"color\":\"#4D5663\"}},\"xaxis\":{\"gridcolor\":\"#E1E5ED\",\"showgrid\":true,\"tickfont\":{\"color\":\"#4D5663\"},\"title\":{\"font\":{\"color\":\"#4D5663\"},\"text\":\"\"},\"zerolinecolor\":\"#E1E5ED\"},\"yaxis\":{\"gridcolor\":\"#E1E5ED\",\"showgrid\":true,\"tickfont\":{\"color\":\"#4D5663\"},\"title\":{\"font\":{\"color\":\"#4D5663\"},\"text\":\"\"},\"zerolinecolor\":\"#E1E5ED\"}},                        {\"showLink\": true, \"linkText\": \"Export to plot.ly\", \"plotlyServerURL\": \"https://plot.ly\", \"responsive\": true}                    ).then(function(){\n",
       "                            \n",
       "var gd = document.getElementById('af2b6f43-279d-4dce-bc82-3edf46c0ddf2');\n",
       "var x = new MutationObserver(function (mutations, observer) {{\n",
       "        var display = window.getComputedStyle(gd).display;\n",
       "        if (!display || display === 'none') {{\n",
       "            console.log([gd, 'removed!']);\n",
       "            Plotly.purge(gd);\n",
       "            observer.disconnect();\n",
       "        }}\n",
       "}});\n",
       "\n",
       "// Listen for the removal of the full notebook cells\n",
       "var notebookContainer = gd.closest('#notebook-container');\n",
       "if (notebookContainer) {{\n",
       "    x.observe(notebookContainer, {childList: true});\n",
       "}}\n",
       "\n",
       "// Listen for the clearing of the current output cell\n",
       "var outputEl = gd.closest('.output');\n",
       "if (outputEl) {{\n",
       "    x.observe(outputEl, {childList: true});\n",
       "}}\n",
       "\n",
       "                        })                };                });            </script>        </div>"
      ]
     },
     "metadata": {},
     "output_type": "display_data"
    }
   ],
   "source": [
    "df.sum().iplot(kind='bar')"
   ]
  },
  {
   "cell_type": "code",
   "execution_count": 37,
   "id": "1bc10e6e",
   "metadata": {},
   "outputs": [
    {
     "data": {
      "application/vnd.plotly.v1+json": {
       "config": {
        "linkText": "Export to plot.ly",
        "plotlyServerURL": "https://plot.ly",
        "showLink": true
       },
       "data": [
        {
         "boxpoints": false,
         "line": {
          "width": 1.3
         },
         "marker": {
          "color": "rgba(255, 153, 51, 1.0)"
         },
         "name": "A",
         "orientation": "v",
         "type": "box",
         "y": [
          1.384941095893982,
          -0.3647871044245467,
          -1.613377798789012,
          -0.12920481127577702,
          -0.6300029180423312,
          0.6955311102837984,
          -0.07774289928427856,
          -1.5481508917079352,
          0.3144299528461812,
          1.483756889675816,
          1.3631631851081898,
          0.3577161379182844,
          0.44425005373458687,
          -1.3026835005270772,
          0.8586317944028101,
          -0.12796403591939365,
          0.373209303997531,
          0.5869332431334456,
          0.4864253873475166,
          1.0756346615585344,
          -1.052001580878504,
          0.0906431802398545,
          1.0580572090375877,
          -0.9848808039026463,
          0.5513641846951675,
          1.1659210728519842,
          0.020314764012267873,
          0.3074031709948694,
          -0.23909296540380182,
          0.02171216478090794,
          -0.16254690733414418,
          -0.33711970357111226,
          0.8142846009651958,
          0.5807041935213351,
          1.517465474603419,
          2.64825109236516,
          0.9118993743273417,
          0.3344914818573978,
          -0.6980817050442862,
          -0.014535950295435083,
          -0.29814416383545383,
          -0.0017524875066887394,
          -1.1233972672402575,
          0.06762297707903585,
          -0.16466873420852687,
          -0.1795079343480467,
          -0.6751925963714834,
          2.006888382314444,
          -0.7838881243097859,
          0.9294115904771026,
          -1.058238874474584,
          0.6586637071443632,
          -0.37707299217026374,
          -0.13598986025585266,
          -1.4967184420595114,
          0.4153485006683915,
          0.24121216996263192,
          -3.092016438708254,
          -1.2219917686899848,
          0.8869662273854365,
          -1.0682780065598037,
          -1.2106122878269856,
          0.803250005443257,
          0.9877199560578738,
          -0.2258121665388722,
          0.13923967982184132,
          -0.22573522543316654,
          1.6171694614878647,
          0.5477551242136519,
          0.4420065170066808,
          0.06747036201760358,
          -1.641776468835695,
          -0.2876490151341459,
          0.3684314172007868,
          1.1306668046343704,
          -0.8340553638572694,
          0.6712547294009807,
          0.8197535903257653,
          0.2124039178122506,
          -0.5392633467972721,
          0.010110482279003876,
          0.958789971496834,
          -0.07020997545633594,
          0.33616891127553034,
          -0.3907482690955859,
          0.8806514736157832,
          0.31650766745412495,
          0.1448946459985747,
          0.27772853189609437,
          -0.4036166749778001,
          -0.2926052183646972,
          1.3491425878516692,
          -1.4689030081303354,
          1.43789556687664,
          -1.79323467847179,
          -0.17223590815000211,
          1.0094163974481396,
          -0.31501498808974,
          -0.3962647074563389,
          -2.0067551306542164
         ]
        },
        {
         "boxpoints": false,
         "line": {
          "width": 1.3
         },
         "marker": {
          "color": "rgba(55, 128, 191, 1.0)"
         },
         "name": "B",
         "orientation": "v",
         "type": "box",
         "y": [
          -0.11794573212984044,
          1.2697792200547326,
          -2.1676156275817493,
          -0.24857109473288877,
          0.40460693442474416,
          1.6139280285149076,
          0.2360306035442598,
          -0.22602808881920358,
          0.057142677471569564,
          -0.7772782408575107,
          0.9429237937088079,
          0.20523204088664526,
          -0.7154259155847406,
          1.1964788967171962,
          1.1522379793062072,
          0.8376926086136763,
          1.3857641285531264,
          -1.2374578036932693,
          -1.7210512496642552,
          -0.2495034317564669,
          0.549318005327426,
          -1.1113590661117567,
          -1.4100862237170253,
          0.9532142588336986,
          -0.5315758547787328,
          0.026876504527802447,
          1.475296799480042,
          -0.05540255585344138,
          0.9422840651588723,
          -1.8656941194067982,
          0.7869650084081312,
          1.405011375883612,
          2.255057549388606,
          0.1462871105740621,
          -2.1847079312579747,
          -1.161172611275934,
          0.6196167217877991,
          0.11183036629305333,
          -0.05854992899036618,
          0.5065278797161682,
          0.175142247004244,
          1.095194809193081,
          2.6837799095371384,
          -0.012627706308564711,
          0.9660921024626176,
          0.6886580320242333,
          -1.0591087700884958,
          0.1104364113543046,
          2.372207831365576,
          -0.8860199351161889,
          1.086165799454149,
          -0.8626755672497495,
          -0.06868432104132013,
          -0.7200816182896868,
          0.4188150947497825,
          0.4228561041113086,
          -0.698445960962204,
          -0.6988310924554466,
          -0.6658491938730066,
          0.2958846261817548,
          -0.3507001784507818,
          0.647173773145682,
          -1.2328387228246311,
          1.0459553224352556,
          0.1231502442460987,
          0.6522703753362419,
          1.3888130593209138,
          0.10676669523311827,
          -1.8282146343099823,
          -0.9934128961933868,
          0.0391113792741524,
          -0.8611094358006953,
          0.41413313956819325,
          -1.4101986910835675,
          1.815049449469626,
          0.9231752547232016,
          0.17927969270330754,
          1.3991110254560424,
          -0.22439988703791916,
          -0.9325281027769723,
          1.434972285835641,
          0.41293299829143254,
          0.22260783277251583,
          -0.6284887586125657,
          -0.04186487356009881,
          -0.4049849380508509,
          1.0931210510758536,
          -0.9357279986842723,
          -0.8187865619869552,
          -2.177802400994987,
          0.38835428050347276,
          -0.138536009177223,
          1.3287017218425048,
          2.193100689061061,
          2.7502259232461843,
          -1.4807074423373137,
          0.27064831548673124,
          0.034154607417923276,
          -0.2738508186098899,
          -0.5388356081283091
         ]
        },
        {
         "boxpoints": false,
         "line": {
          "width": 1.3
         },
         "marker": {
          "color": "rgba(50, 171, 96, 1.0)"
         },
         "name": "C",
         "orientation": "v",
         "type": "box",
         "y": [
          1.9401484848174453,
          -1.2397331297731549,
          -1.018675973013534,
          -0.33547878047215196,
          -1.3699549380833393,
          1.3810263767929065,
          0.7721843153431419,
          -0.7722237296090372,
          0.8486180756818512,
          1.7440433826405037,
          -0.08001824533932232,
          2.0661183345020007,
          0.04572602069072565,
          -1.0819021945413614,
          0.009085452996414885,
          -0.9878765751184702,
          0.37075917857625,
          0.25437485137637955,
          1.1841266827114045,
          -1.1453249365393527,
          0.5857775601891346,
          0.8710303685429346,
          -0.024783030100748008,
          0.6150492408405598,
          1.4716652952158042,
          -0.46758776423255266,
          -0.1588164476426438,
          -0.30304520129019064,
          -0.390934590087459,
          -0.24233821807824782,
          -0.8688043843960509,
          2.1365140455407627,
          0.4390931231504873,
          -1.4893614799515036,
          -2.4386452322949346,
          -1.1422505213045908,
          -1.4149163539103322,
          -0.013994673048110981,
          -2.034223797662766,
          1.4253019420988005,
          -2.0632544066807643,
          0.6996640900505026,
          0.5166100297666383,
          -1.071532965949633,
          -0.9051225166232557,
          -0.7934178460696767,
          -0.8224502512549449,
          0.15493335662541116,
          0.39500230090794575,
          0.8857418121756081,
          0.32000079106086377,
          -0.008234679363814059,
          0.49444038047693045,
          -0.7121015253712025,
          0.11159926839694684,
          -0.6397544473062552,
          -0.6297012892092753,
          -0.14708147193593385,
          -1.831759802918478,
          -1.132317223629694,
          0.8300459562443999,
          -0.5768572815494716,
          0.7256517351358649,
          0.315413301407352,
          0.2568963021893039,
          0.27725859353110416,
          -0.13520879790699447,
          -0.5648419203108074,
          -2.954018487536646,
          -0.940562870249268,
          -1.2466882336102456,
          -0.8033234119044046,
          0.26439271338445264,
          -0.21474918616508726,
          -0.39167546554283417,
          0.11783823012584817,
          -0.46125483724851585,
          1.328839452652975,
          3.1635328556243794,
          0.1034546363343562,
          -1.260959363985953,
          1.2107659875753456,
          1.3089355281014505,
          -0.08791413108196387,
          -0.3599472537742511,
          1.980076893144827,
          0.3797782251011386,
          -1.7519402263507402,
          -0.7082770903572351,
          -0.15113155411961024,
          0.43962501015970173,
          -0.20895860876046474,
          0.5546753479330597,
          0.1782227202309211,
          1.7531082352203122,
          -0.7415829058805974,
          -0.6266777912851297,
          0.6640612063767465,
          0.41009329778209624,
          0.6915880772218923
         ]
        },
        {
         "boxpoints": false,
         "line": {
          "width": 1.3
         },
         "marker": {
          "color": "rgba(128, 0, 128, 1.0)"
         },
         "name": "D",
         "orientation": "v",
         "type": "box",
         "y": [
          -0.232607190972093,
          -0.10745682172545627,
          0.7301665782338982,
          -0.8086553985085576,
          -0.3808934345748271,
          -0.49728208115444156,
          -1.143202283557806,
          -0.00924216908427607,
          -0.5762292058604443,
          1.8107409045922969,
          -0.6429151459186503,
          -2.037122862243596,
          -1.1833441828811444,
          -0.2798311937972491,
          -2.3309295348858714,
          -1.181839359370192,
          0.9880300418287801,
          0.8556429383351365,
          1.1693382981537819,
          -1.3808702075475496,
          -0.18309447973892146,
          0.8438897509043974,
          1.581060734608897,
          -0.3596068422236975,
          0.13079908839655863,
          2.2113961251101677,
          -0.36346947498616455,
          -0.6800940270845436,
          1.1187059400934791,
          1.1043099757023331,
          -0.6823882796178447,
          -1.10897733367768,
          -1.6084453760231952,
          0.6398458111237544,
          -2.141650215025133,
          -0.629848221432961,
          -1.3459166652575534,
          0.9192082959941965,
          -0.5172725131310544,
          -0.8588962555419287,
          -0.09863404903046664,
          -1.804389501103032,
          -0.9593821912233614,
          1.0241520629708463,
          -0.6603271986227551,
          -0.26588194329921705,
          0.004759080754978136,
          0.34865477211306106,
          -0.3448425950988407,
          0.7842889066349303,
          1.3925201197443657,
          -0.3594709526907821,
          1.0618973955064497,
          0.14680351808446498,
          -1.7515468410520656,
          -0.6135423107048211,
          -0.9575148475814658,
          1.572687835401607,
          1.5922959327473496,
          1.2073779390002217,
          -0.36322906421417334,
          -2.0688991515179,
          1.1871757251508457,
          2.557928207241564,
          -0.1451521867356024,
          1.0728316273159937,
          0.5540363273931462,
          -0.8189397303937418,
          -0.2991846022135686,
          -0.5589151651974367,
          -1.5852563314699741,
          -1.0250545535826507,
          -0.7307299175017817,
          -1.7498252041560964,
          -1.7707723082582265,
          -0.10650969392090688,
          -1.4960048164865472,
          0.9058747618060715,
          -1.365560984520852,
          -0.5567782956347211,
          1.3349620404090474,
          -0.9921533022298292,
          -1.8561767161985299,
          -1.6961557334052646,
          0.26087038337192237,
          -1.087077580151142,
          -0.7672263733059088,
          -1.3359037825120874,
          -1.6155450718347866,
          -0.14483939598188197,
          0.4677086656212009,
          -0.35371284765311806,
          0.907492357905892,
          -0.39278850620491024,
          1.430034099034796,
          -0.1159178226728583,
          -0.8399729920788126,
          0.6935514209462399,
          -1.1970166117060872,
          -0.8287646619103597
         ]
        }
       ],
       "layout": {
        "legend": {
         "bgcolor": "#F5F6F9",
         "font": {
          "color": "#4D5663"
         }
        },
        "paper_bgcolor": "#F5F6F9",
        "plot_bgcolor": "#F5F6F9",
        "template": {
         "data": {
          "bar": [
           {
            "error_x": {
             "color": "#2a3f5f"
            },
            "error_y": {
             "color": "#2a3f5f"
            },
            "marker": {
             "line": {
              "color": "#E5ECF6",
              "width": 0.5
             },
             "pattern": {
              "fillmode": "overlay",
              "size": 10,
              "solidity": 0.2
             }
            },
            "type": "bar"
           }
          ],
          "barpolar": [
           {
            "marker": {
             "line": {
              "color": "#E5ECF6",
              "width": 0.5
             },
             "pattern": {
              "fillmode": "overlay",
              "size": 10,
              "solidity": 0.2
             }
            },
            "type": "barpolar"
           }
          ],
          "carpet": [
           {
            "aaxis": {
             "endlinecolor": "#2a3f5f",
             "gridcolor": "white",
             "linecolor": "white",
             "minorgridcolor": "white",
             "startlinecolor": "#2a3f5f"
            },
            "baxis": {
             "endlinecolor": "#2a3f5f",
             "gridcolor": "white",
             "linecolor": "white",
             "minorgridcolor": "white",
             "startlinecolor": "#2a3f5f"
            },
            "type": "carpet"
           }
          ],
          "choropleth": [
           {
            "colorbar": {
             "outlinewidth": 0,
             "ticks": ""
            },
            "type": "choropleth"
           }
          ],
          "contour": [
           {
            "colorbar": {
             "outlinewidth": 0,
             "ticks": ""
            },
            "colorscale": [
             [
              0,
              "#0d0887"
             ],
             [
              0.1111111111111111,
              "#46039f"
             ],
             [
              0.2222222222222222,
              "#7201a8"
             ],
             [
              0.3333333333333333,
              "#9c179e"
             ],
             [
              0.4444444444444444,
              "#bd3786"
             ],
             [
              0.5555555555555556,
              "#d8576b"
             ],
             [
              0.6666666666666666,
              "#ed7953"
             ],
             [
              0.7777777777777778,
              "#fb9f3a"
             ],
             [
              0.8888888888888888,
              "#fdca26"
             ],
             [
              1,
              "#f0f921"
             ]
            ],
            "type": "contour"
           }
          ],
          "contourcarpet": [
           {
            "colorbar": {
             "outlinewidth": 0,
             "ticks": ""
            },
            "type": "contourcarpet"
           }
          ],
          "heatmap": [
           {
            "colorbar": {
             "outlinewidth": 0,
             "ticks": ""
            },
            "colorscale": [
             [
              0,
              "#0d0887"
             ],
             [
              0.1111111111111111,
              "#46039f"
             ],
             [
              0.2222222222222222,
              "#7201a8"
             ],
             [
              0.3333333333333333,
              "#9c179e"
             ],
             [
              0.4444444444444444,
              "#bd3786"
             ],
             [
              0.5555555555555556,
              "#d8576b"
             ],
             [
              0.6666666666666666,
              "#ed7953"
             ],
             [
              0.7777777777777778,
              "#fb9f3a"
             ],
             [
              0.8888888888888888,
              "#fdca26"
             ],
             [
              1,
              "#f0f921"
             ]
            ],
            "type": "heatmap"
           }
          ],
          "heatmapgl": [
           {
            "colorbar": {
             "outlinewidth": 0,
             "ticks": ""
            },
            "colorscale": [
             [
              0,
              "#0d0887"
             ],
             [
              0.1111111111111111,
              "#46039f"
             ],
             [
              0.2222222222222222,
              "#7201a8"
             ],
             [
              0.3333333333333333,
              "#9c179e"
             ],
             [
              0.4444444444444444,
              "#bd3786"
             ],
             [
              0.5555555555555556,
              "#d8576b"
             ],
             [
              0.6666666666666666,
              "#ed7953"
             ],
             [
              0.7777777777777778,
              "#fb9f3a"
             ],
             [
              0.8888888888888888,
              "#fdca26"
             ],
             [
              1,
              "#f0f921"
             ]
            ],
            "type": "heatmapgl"
           }
          ],
          "histogram": [
           {
            "marker": {
             "pattern": {
              "fillmode": "overlay",
              "size": 10,
              "solidity": 0.2
             }
            },
            "type": "histogram"
           }
          ],
          "histogram2d": [
           {
            "colorbar": {
             "outlinewidth": 0,
             "ticks": ""
            },
            "colorscale": [
             [
              0,
              "#0d0887"
             ],
             [
              0.1111111111111111,
              "#46039f"
             ],
             [
              0.2222222222222222,
              "#7201a8"
             ],
             [
              0.3333333333333333,
              "#9c179e"
             ],
             [
              0.4444444444444444,
              "#bd3786"
             ],
             [
              0.5555555555555556,
              "#d8576b"
             ],
             [
              0.6666666666666666,
              "#ed7953"
             ],
             [
              0.7777777777777778,
              "#fb9f3a"
             ],
             [
              0.8888888888888888,
              "#fdca26"
             ],
             [
              1,
              "#f0f921"
             ]
            ],
            "type": "histogram2d"
           }
          ],
          "histogram2dcontour": [
           {
            "colorbar": {
             "outlinewidth": 0,
             "ticks": ""
            },
            "colorscale": [
             [
              0,
              "#0d0887"
             ],
             [
              0.1111111111111111,
              "#46039f"
             ],
             [
              0.2222222222222222,
              "#7201a8"
             ],
             [
              0.3333333333333333,
              "#9c179e"
             ],
             [
              0.4444444444444444,
              "#bd3786"
             ],
             [
              0.5555555555555556,
              "#d8576b"
             ],
             [
              0.6666666666666666,
              "#ed7953"
             ],
             [
              0.7777777777777778,
              "#fb9f3a"
             ],
             [
              0.8888888888888888,
              "#fdca26"
             ],
             [
              1,
              "#f0f921"
             ]
            ],
            "type": "histogram2dcontour"
           }
          ],
          "mesh3d": [
           {
            "colorbar": {
             "outlinewidth": 0,
             "ticks": ""
            },
            "type": "mesh3d"
           }
          ],
          "parcoords": [
           {
            "line": {
             "colorbar": {
              "outlinewidth": 0,
              "ticks": ""
             }
            },
            "type": "parcoords"
           }
          ],
          "pie": [
           {
            "automargin": true,
            "type": "pie"
           }
          ],
          "scatter": [
           {
            "marker": {
             "colorbar": {
              "outlinewidth": 0,
              "ticks": ""
             }
            },
            "type": "scatter"
           }
          ],
          "scatter3d": [
           {
            "line": {
             "colorbar": {
              "outlinewidth": 0,
              "ticks": ""
             }
            },
            "marker": {
             "colorbar": {
              "outlinewidth": 0,
              "ticks": ""
             }
            },
            "type": "scatter3d"
           }
          ],
          "scattercarpet": [
           {
            "marker": {
             "colorbar": {
              "outlinewidth": 0,
              "ticks": ""
             }
            },
            "type": "scattercarpet"
           }
          ],
          "scattergeo": [
           {
            "marker": {
             "colorbar": {
              "outlinewidth": 0,
              "ticks": ""
             }
            },
            "type": "scattergeo"
           }
          ],
          "scattergl": [
           {
            "marker": {
             "colorbar": {
              "outlinewidth": 0,
              "ticks": ""
             }
            },
            "type": "scattergl"
           }
          ],
          "scattermapbox": [
           {
            "marker": {
             "colorbar": {
              "outlinewidth": 0,
              "ticks": ""
             }
            },
            "type": "scattermapbox"
           }
          ],
          "scatterpolar": [
           {
            "marker": {
             "colorbar": {
              "outlinewidth": 0,
              "ticks": ""
             }
            },
            "type": "scatterpolar"
           }
          ],
          "scatterpolargl": [
           {
            "marker": {
             "colorbar": {
              "outlinewidth": 0,
              "ticks": ""
             }
            },
            "type": "scatterpolargl"
           }
          ],
          "scatterternary": [
           {
            "marker": {
             "colorbar": {
              "outlinewidth": 0,
              "ticks": ""
             }
            },
            "type": "scatterternary"
           }
          ],
          "surface": [
           {
            "colorbar": {
             "outlinewidth": 0,
             "ticks": ""
            },
            "colorscale": [
             [
              0,
              "#0d0887"
             ],
             [
              0.1111111111111111,
              "#46039f"
             ],
             [
              0.2222222222222222,
              "#7201a8"
             ],
             [
              0.3333333333333333,
              "#9c179e"
             ],
             [
              0.4444444444444444,
              "#bd3786"
             ],
             [
              0.5555555555555556,
              "#d8576b"
             ],
             [
              0.6666666666666666,
              "#ed7953"
             ],
             [
              0.7777777777777778,
              "#fb9f3a"
             ],
             [
              0.8888888888888888,
              "#fdca26"
             ],
             [
              1,
              "#f0f921"
             ]
            ],
            "type": "surface"
           }
          ],
          "table": [
           {
            "cells": {
             "fill": {
              "color": "#EBF0F8"
             },
             "line": {
              "color": "white"
             }
            },
            "header": {
             "fill": {
              "color": "#C8D4E3"
             },
             "line": {
              "color": "white"
             }
            },
            "type": "table"
           }
          ]
         },
         "layout": {
          "annotationdefaults": {
           "arrowcolor": "#2a3f5f",
           "arrowhead": 0,
           "arrowwidth": 1
          },
          "autotypenumbers": "strict",
          "coloraxis": {
           "colorbar": {
            "outlinewidth": 0,
            "ticks": ""
           }
          },
          "colorscale": {
           "diverging": [
            [
             0,
             "#8e0152"
            ],
            [
             0.1,
             "#c51b7d"
            ],
            [
             0.2,
             "#de77ae"
            ],
            [
             0.3,
             "#f1b6da"
            ],
            [
             0.4,
             "#fde0ef"
            ],
            [
             0.5,
             "#f7f7f7"
            ],
            [
             0.6,
             "#e6f5d0"
            ],
            [
             0.7,
             "#b8e186"
            ],
            [
             0.8,
             "#7fbc41"
            ],
            [
             0.9,
             "#4d9221"
            ],
            [
             1,
             "#276419"
            ]
           ],
           "sequential": [
            [
             0,
             "#0d0887"
            ],
            [
             0.1111111111111111,
             "#46039f"
            ],
            [
             0.2222222222222222,
             "#7201a8"
            ],
            [
             0.3333333333333333,
             "#9c179e"
            ],
            [
             0.4444444444444444,
             "#bd3786"
            ],
            [
             0.5555555555555556,
             "#d8576b"
            ],
            [
             0.6666666666666666,
             "#ed7953"
            ],
            [
             0.7777777777777778,
             "#fb9f3a"
            ],
            [
             0.8888888888888888,
             "#fdca26"
            ],
            [
             1,
             "#f0f921"
            ]
           ],
           "sequentialminus": [
            [
             0,
             "#0d0887"
            ],
            [
             0.1111111111111111,
             "#46039f"
            ],
            [
             0.2222222222222222,
             "#7201a8"
            ],
            [
             0.3333333333333333,
             "#9c179e"
            ],
            [
             0.4444444444444444,
             "#bd3786"
            ],
            [
             0.5555555555555556,
             "#d8576b"
            ],
            [
             0.6666666666666666,
             "#ed7953"
            ],
            [
             0.7777777777777778,
             "#fb9f3a"
            ],
            [
             0.8888888888888888,
             "#fdca26"
            ],
            [
             1,
             "#f0f921"
            ]
           ]
          },
          "colorway": [
           "#636efa",
           "#EF553B",
           "#00cc96",
           "#ab63fa",
           "#FFA15A",
           "#19d3f3",
           "#FF6692",
           "#B6E880",
           "#FF97FF",
           "#FECB52"
          ],
          "font": {
           "color": "#2a3f5f"
          },
          "geo": {
           "bgcolor": "white",
           "lakecolor": "white",
           "landcolor": "#E5ECF6",
           "showlakes": true,
           "showland": true,
           "subunitcolor": "white"
          },
          "hoverlabel": {
           "align": "left"
          },
          "hovermode": "closest",
          "mapbox": {
           "style": "light"
          },
          "paper_bgcolor": "white",
          "plot_bgcolor": "#E5ECF6",
          "polar": {
           "angularaxis": {
            "gridcolor": "white",
            "linecolor": "white",
            "ticks": ""
           },
           "bgcolor": "#E5ECF6",
           "radialaxis": {
            "gridcolor": "white",
            "linecolor": "white",
            "ticks": ""
           }
          },
          "scene": {
           "xaxis": {
            "backgroundcolor": "#E5ECF6",
            "gridcolor": "white",
            "gridwidth": 2,
            "linecolor": "white",
            "showbackground": true,
            "ticks": "",
            "zerolinecolor": "white"
           },
           "yaxis": {
            "backgroundcolor": "#E5ECF6",
            "gridcolor": "white",
            "gridwidth": 2,
            "linecolor": "white",
            "showbackground": true,
            "ticks": "",
            "zerolinecolor": "white"
           },
           "zaxis": {
            "backgroundcolor": "#E5ECF6",
            "gridcolor": "white",
            "gridwidth": 2,
            "linecolor": "white",
            "showbackground": true,
            "ticks": "",
            "zerolinecolor": "white"
           }
          },
          "shapedefaults": {
           "line": {
            "color": "#2a3f5f"
           }
          },
          "ternary": {
           "aaxis": {
            "gridcolor": "white",
            "linecolor": "white",
            "ticks": ""
           },
           "baxis": {
            "gridcolor": "white",
            "linecolor": "white",
            "ticks": ""
           },
           "bgcolor": "#E5ECF6",
           "caxis": {
            "gridcolor": "white",
            "linecolor": "white",
            "ticks": ""
           }
          },
          "title": {
           "x": 0.05
          },
          "xaxis": {
           "automargin": true,
           "gridcolor": "white",
           "linecolor": "white",
           "ticks": "",
           "title": {
            "standoff": 15
           },
           "zerolinecolor": "white",
           "zerolinewidth": 2
          },
          "yaxis": {
           "automargin": true,
           "gridcolor": "white",
           "linecolor": "white",
           "ticks": "",
           "title": {
            "standoff": 15
           },
           "zerolinecolor": "white",
           "zerolinewidth": 2
          }
         }
        },
        "title": {
         "font": {
          "color": "#4D5663"
         }
        },
        "xaxis": {
         "gridcolor": "#E1E5ED",
         "showgrid": true,
         "tickfont": {
          "color": "#4D5663"
         },
         "title": {
          "font": {
           "color": "#4D5663"
          },
          "text": ""
         },
         "zerolinecolor": "#E1E5ED"
        },
        "yaxis": {
         "gridcolor": "#E1E5ED",
         "showgrid": true,
         "tickfont": {
          "color": "#4D5663"
         },
         "title": {
          "font": {
           "color": "#4D5663"
          },
          "text": ""
         },
         "zerolinecolor": "#E1E5ED"
        }
       }
      },
      "text/html": [
       "<div>                            <div id=\"bf34a0d0-1e9f-44b4-89e6-6e453708e181\" class=\"plotly-graph-div\" style=\"height:525px; width:100%;\"></div>            <script type=\"text/javascript\">                require([\"plotly\"], function(Plotly) {                    window.PLOTLYENV=window.PLOTLYENV || {};\n",
       "                    window.PLOTLYENV.BASE_URL='https://plot.ly';                                    if (document.getElementById(\"bf34a0d0-1e9f-44b4-89e6-6e453708e181\")) {                    Plotly.newPlot(                        \"bf34a0d0-1e9f-44b4-89e6-6e453708e181\",                        [{\"boxpoints\":false,\"line\":{\"width\":1.3},\"marker\":{\"color\":\"rgba(255, 153, 51, 1.0)\"},\"name\":\"A\",\"orientation\":\"v\",\"y\":[1.384941095893982,-0.3647871044245467,-1.613377798789012,-0.12920481127577702,-0.6300029180423312,0.6955311102837984,-0.07774289928427856,-1.5481508917079352,0.3144299528461812,1.483756889675816,1.3631631851081898,0.3577161379182844,0.44425005373458687,-1.3026835005270772,0.8586317944028101,-0.12796403591939365,0.373209303997531,0.5869332431334456,0.4864253873475166,1.0756346615585344,-1.052001580878504,0.0906431802398545,1.0580572090375877,-0.9848808039026463,0.5513641846951675,1.1659210728519842,0.020314764012267873,0.3074031709948694,-0.23909296540380182,0.02171216478090794,-0.16254690733414418,-0.33711970357111226,0.8142846009651958,0.5807041935213351,1.517465474603419,2.64825109236516,0.9118993743273417,0.3344914818573978,-0.6980817050442862,-0.014535950295435083,-0.29814416383545383,-0.0017524875066887394,-1.1233972672402575,0.06762297707903585,-0.16466873420852687,-0.1795079343480467,-0.6751925963714834,2.006888382314444,-0.7838881243097859,0.9294115904771026,-1.058238874474584,0.6586637071443632,-0.37707299217026374,-0.13598986025585266,-1.4967184420595114,0.4153485006683915,0.24121216996263192,-3.092016438708254,-1.2219917686899848,0.8869662273854365,-1.0682780065598037,-1.2106122878269856,0.803250005443257,0.9877199560578738,-0.2258121665388722,0.13923967982184132,-0.22573522543316654,1.6171694614878647,0.5477551242136519,0.4420065170066808,0.06747036201760358,-1.641776468835695,-0.2876490151341459,0.3684314172007868,1.1306668046343704,-0.8340553638572694,0.6712547294009807,0.8197535903257653,0.2124039178122506,-0.5392633467972721,0.010110482279003876,0.958789971496834,-0.07020997545633594,0.33616891127553034,-0.3907482690955859,0.8806514736157832,0.31650766745412495,0.1448946459985747,0.27772853189609437,-0.4036166749778001,-0.2926052183646972,1.3491425878516692,-1.4689030081303354,1.43789556687664,-1.79323467847179,-0.17223590815000211,1.0094163974481396,-0.31501498808974,-0.3962647074563389,-2.0067551306542164],\"type\":\"box\"},{\"boxpoints\":false,\"line\":{\"width\":1.3},\"marker\":{\"color\":\"rgba(55, 128, 191, 1.0)\"},\"name\":\"B\",\"orientation\":\"v\",\"y\":[-0.11794573212984044,1.2697792200547326,-2.1676156275817493,-0.24857109473288877,0.40460693442474416,1.6139280285149076,0.2360306035442598,-0.22602808881920358,0.057142677471569564,-0.7772782408575107,0.9429237937088079,0.20523204088664526,-0.7154259155847406,1.1964788967171962,1.1522379793062072,0.8376926086136763,1.3857641285531264,-1.2374578036932693,-1.7210512496642552,-0.2495034317564669,0.549318005327426,-1.1113590661117567,-1.4100862237170253,0.9532142588336986,-0.5315758547787328,0.026876504527802447,1.475296799480042,-0.05540255585344138,0.9422840651588723,-1.8656941194067982,0.7869650084081312,1.405011375883612,2.255057549388606,0.1462871105740621,-2.1847079312579747,-1.161172611275934,0.6196167217877991,0.11183036629305333,-0.05854992899036618,0.5065278797161682,0.175142247004244,1.095194809193081,2.6837799095371384,-0.012627706308564711,0.9660921024626176,0.6886580320242333,-1.0591087700884958,0.1104364113543046,2.372207831365576,-0.8860199351161889,1.086165799454149,-0.8626755672497495,-0.06868432104132013,-0.7200816182896868,0.4188150947497825,0.4228561041113086,-0.698445960962204,-0.6988310924554466,-0.6658491938730066,0.2958846261817548,-0.3507001784507818,0.647173773145682,-1.2328387228246311,1.0459553224352556,0.1231502442460987,0.6522703753362419,1.3888130593209138,0.10676669523311827,-1.8282146343099823,-0.9934128961933868,0.0391113792741524,-0.8611094358006953,0.41413313956819325,-1.4101986910835675,1.815049449469626,0.9231752547232016,0.17927969270330754,1.3991110254560424,-0.22439988703791916,-0.9325281027769723,1.434972285835641,0.41293299829143254,0.22260783277251583,-0.6284887586125657,-0.04186487356009881,-0.4049849380508509,1.0931210510758536,-0.9357279986842723,-0.8187865619869552,-2.177802400994987,0.38835428050347276,-0.138536009177223,1.3287017218425048,2.193100689061061,2.7502259232461843,-1.4807074423373137,0.27064831548673124,0.034154607417923276,-0.2738508186098899,-0.5388356081283091],\"type\":\"box\"},{\"boxpoints\":false,\"line\":{\"width\":1.3},\"marker\":{\"color\":\"rgba(50, 171, 96, 1.0)\"},\"name\":\"C\",\"orientation\":\"v\",\"y\":[1.9401484848174453,-1.2397331297731549,-1.018675973013534,-0.33547878047215196,-1.3699549380833393,1.3810263767929065,0.7721843153431419,-0.7722237296090372,0.8486180756818512,1.7440433826405037,-0.08001824533932232,2.0661183345020007,0.04572602069072565,-1.0819021945413614,0.009085452996414885,-0.9878765751184702,0.37075917857625,0.25437485137637955,1.1841266827114045,-1.1453249365393527,0.5857775601891346,0.8710303685429346,-0.024783030100748008,0.6150492408405598,1.4716652952158042,-0.46758776423255266,-0.1588164476426438,-0.30304520129019064,-0.390934590087459,-0.24233821807824782,-0.8688043843960509,2.1365140455407627,0.4390931231504873,-1.4893614799515036,-2.4386452322949346,-1.1422505213045908,-1.4149163539103322,-0.013994673048110981,-2.034223797662766,1.4253019420988005,-2.0632544066807643,0.6996640900505026,0.5166100297666383,-1.071532965949633,-0.9051225166232557,-0.7934178460696767,-0.8224502512549449,0.15493335662541116,0.39500230090794575,0.8857418121756081,0.32000079106086377,-0.008234679363814059,0.49444038047693045,-0.7121015253712025,0.11159926839694684,-0.6397544473062552,-0.6297012892092753,-0.14708147193593385,-1.831759802918478,-1.132317223629694,0.8300459562443999,-0.5768572815494716,0.7256517351358649,0.315413301407352,0.2568963021893039,0.27725859353110416,-0.13520879790699447,-0.5648419203108074,-2.954018487536646,-0.940562870249268,-1.2466882336102456,-0.8033234119044046,0.26439271338445264,-0.21474918616508726,-0.39167546554283417,0.11783823012584817,-0.46125483724851585,1.328839452652975,3.1635328556243794,0.1034546363343562,-1.260959363985953,1.2107659875753456,1.3089355281014505,-0.08791413108196387,-0.3599472537742511,1.980076893144827,0.3797782251011386,-1.7519402263507402,-0.7082770903572351,-0.15113155411961024,0.43962501015970173,-0.20895860876046474,0.5546753479330597,0.1782227202309211,1.7531082352203122,-0.7415829058805974,-0.6266777912851297,0.6640612063767465,0.41009329778209624,0.6915880772218923],\"type\":\"box\"},{\"boxpoints\":false,\"line\":{\"width\":1.3},\"marker\":{\"color\":\"rgba(128, 0, 128, 1.0)\"},\"name\":\"D\",\"orientation\":\"v\",\"y\":[-0.232607190972093,-0.10745682172545627,0.7301665782338982,-0.8086553985085576,-0.3808934345748271,-0.49728208115444156,-1.143202283557806,-0.00924216908427607,-0.5762292058604443,1.8107409045922969,-0.6429151459186503,-2.037122862243596,-1.1833441828811444,-0.2798311937972491,-2.3309295348858714,-1.181839359370192,0.9880300418287801,0.8556429383351365,1.1693382981537819,-1.3808702075475496,-0.18309447973892146,0.8438897509043974,1.581060734608897,-0.3596068422236975,0.13079908839655863,2.2113961251101677,-0.36346947498616455,-0.6800940270845436,1.1187059400934791,1.1043099757023331,-0.6823882796178447,-1.10897733367768,-1.6084453760231952,0.6398458111237544,-2.141650215025133,-0.629848221432961,-1.3459166652575534,0.9192082959941965,-0.5172725131310544,-0.8588962555419287,-0.09863404903046664,-1.804389501103032,-0.9593821912233614,1.0241520629708463,-0.6603271986227551,-0.26588194329921705,0.004759080754978136,0.34865477211306106,-0.3448425950988407,0.7842889066349303,1.3925201197443657,-0.3594709526907821,1.0618973955064497,0.14680351808446498,-1.7515468410520656,-0.6135423107048211,-0.9575148475814658,1.572687835401607,1.5922959327473496,1.2073779390002217,-0.36322906421417334,-2.0688991515179,1.1871757251508457,2.557928207241564,-0.1451521867356024,1.0728316273159937,0.5540363273931462,-0.8189397303937418,-0.2991846022135686,-0.5589151651974367,-1.5852563314699741,-1.0250545535826507,-0.7307299175017817,-1.7498252041560964,-1.7707723082582265,-0.10650969392090688,-1.4960048164865472,0.9058747618060715,-1.365560984520852,-0.5567782956347211,1.3349620404090474,-0.9921533022298292,-1.8561767161985299,-1.6961557334052646,0.26087038337192237,-1.087077580151142,-0.7672263733059088,-1.3359037825120874,-1.6155450718347866,-0.14483939598188197,0.4677086656212009,-0.35371284765311806,0.907492357905892,-0.39278850620491024,1.430034099034796,-0.1159178226728583,-0.8399729920788126,0.6935514209462399,-1.1970166117060872,-0.8287646619103597],\"type\":\"box\"}],                        {\"legend\":{\"bgcolor\":\"#F5F6F9\",\"font\":{\"color\":\"#4D5663\"}},\"paper_bgcolor\":\"#F5F6F9\",\"plot_bgcolor\":\"#F5F6F9\",\"template\":{\"data\":{\"barpolar\":[{\"marker\":{\"line\":{\"color\":\"#E5ECF6\",\"width\":0.5},\"pattern\":{\"fillmode\":\"overlay\",\"size\":10,\"solidity\":0.2}},\"type\":\"barpolar\"}],\"bar\":[{\"error_x\":{\"color\":\"#2a3f5f\"},\"error_y\":{\"color\":\"#2a3f5f\"},\"marker\":{\"line\":{\"color\":\"#E5ECF6\",\"width\":0.5},\"pattern\":{\"fillmode\":\"overlay\",\"size\":10,\"solidity\":0.2}},\"type\":\"bar\"}],\"carpet\":[{\"aaxis\":{\"endlinecolor\":\"#2a3f5f\",\"gridcolor\":\"white\",\"linecolor\":\"white\",\"minorgridcolor\":\"white\",\"startlinecolor\":\"#2a3f5f\"},\"baxis\":{\"endlinecolor\":\"#2a3f5f\",\"gridcolor\":\"white\",\"linecolor\":\"white\",\"minorgridcolor\":\"white\",\"startlinecolor\":\"#2a3f5f\"},\"type\":\"carpet\"}],\"choropleth\":[{\"colorbar\":{\"outlinewidth\":0,\"ticks\":\"\"},\"type\":\"choropleth\"}],\"contourcarpet\":[{\"colorbar\":{\"outlinewidth\":0,\"ticks\":\"\"},\"type\":\"contourcarpet\"}],\"contour\":[{\"colorbar\":{\"outlinewidth\":0,\"ticks\":\"\"},\"colorscale\":[[0.0,\"#0d0887\"],[0.1111111111111111,\"#46039f\"],[0.2222222222222222,\"#7201a8\"],[0.3333333333333333,\"#9c179e\"],[0.4444444444444444,\"#bd3786\"],[0.5555555555555556,\"#d8576b\"],[0.6666666666666666,\"#ed7953\"],[0.7777777777777778,\"#fb9f3a\"],[0.8888888888888888,\"#fdca26\"],[1.0,\"#f0f921\"]],\"type\":\"contour\"}],\"heatmapgl\":[{\"colorbar\":{\"outlinewidth\":0,\"ticks\":\"\"},\"colorscale\":[[0.0,\"#0d0887\"],[0.1111111111111111,\"#46039f\"],[0.2222222222222222,\"#7201a8\"],[0.3333333333333333,\"#9c179e\"],[0.4444444444444444,\"#bd3786\"],[0.5555555555555556,\"#d8576b\"],[0.6666666666666666,\"#ed7953\"],[0.7777777777777778,\"#fb9f3a\"],[0.8888888888888888,\"#fdca26\"],[1.0,\"#f0f921\"]],\"type\":\"heatmapgl\"}],\"heatmap\":[{\"colorbar\":{\"outlinewidth\":0,\"ticks\":\"\"},\"colorscale\":[[0.0,\"#0d0887\"],[0.1111111111111111,\"#46039f\"],[0.2222222222222222,\"#7201a8\"],[0.3333333333333333,\"#9c179e\"],[0.4444444444444444,\"#bd3786\"],[0.5555555555555556,\"#d8576b\"],[0.6666666666666666,\"#ed7953\"],[0.7777777777777778,\"#fb9f3a\"],[0.8888888888888888,\"#fdca26\"],[1.0,\"#f0f921\"]],\"type\":\"heatmap\"}],\"histogram2dcontour\":[{\"colorbar\":{\"outlinewidth\":0,\"ticks\":\"\"},\"colorscale\":[[0.0,\"#0d0887\"],[0.1111111111111111,\"#46039f\"],[0.2222222222222222,\"#7201a8\"],[0.3333333333333333,\"#9c179e\"],[0.4444444444444444,\"#bd3786\"],[0.5555555555555556,\"#d8576b\"],[0.6666666666666666,\"#ed7953\"],[0.7777777777777778,\"#fb9f3a\"],[0.8888888888888888,\"#fdca26\"],[1.0,\"#f0f921\"]],\"type\":\"histogram2dcontour\"}],\"histogram2d\":[{\"colorbar\":{\"outlinewidth\":0,\"ticks\":\"\"},\"colorscale\":[[0.0,\"#0d0887\"],[0.1111111111111111,\"#46039f\"],[0.2222222222222222,\"#7201a8\"],[0.3333333333333333,\"#9c179e\"],[0.4444444444444444,\"#bd3786\"],[0.5555555555555556,\"#d8576b\"],[0.6666666666666666,\"#ed7953\"],[0.7777777777777778,\"#fb9f3a\"],[0.8888888888888888,\"#fdca26\"],[1.0,\"#f0f921\"]],\"type\":\"histogram2d\"}],\"histogram\":[{\"marker\":{\"pattern\":{\"fillmode\":\"overlay\",\"size\":10,\"solidity\":0.2}},\"type\":\"histogram\"}],\"mesh3d\":[{\"colorbar\":{\"outlinewidth\":0,\"ticks\":\"\"},\"type\":\"mesh3d\"}],\"parcoords\":[{\"line\":{\"colorbar\":{\"outlinewidth\":0,\"ticks\":\"\"}},\"type\":\"parcoords\"}],\"pie\":[{\"automargin\":true,\"type\":\"pie\"}],\"scatter3d\":[{\"line\":{\"colorbar\":{\"outlinewidth\":0,\"ticks\":\"\"}},\"marker\":{\"colorbar\":{\"outlinewidth\":0,\"ticks\":\"\"}},\"type\":\"scatter3d\"}],\"scattercarpet\":[{\"marker\":{\"colorbar\":{\"outlinewidth\":0,\"ticks\":\"\"}},\"type\":\"scattercarpet\"}],\"scattergeo\":[{\"marker\":{\"colorbar\":{\"outlinewidth\":0,\"ticks\":\"\"}},\"type\":\"scattergeo\"}],\"scattergl\":[{\"marker\":{\"colorbar\":{\"outlinewidth\":0,\"ticks\":\"\"}},\"type\":\"scattergl\"}],\"scattermapbox\":[{\"marker\":{\"colorbar\":{\"outlinewidth\":0,\"ticks\":\"\"}},\"type\":\"scattermapbox\"}],\"scatterpolargl\":[{\"marker\":{\"colorbar\":{\"outlinewidth\":0,\"ticks\":\"\"}},\"type\":\"scatterpolargl\"}],\"scatterpolar\":[{\"marker\":{\"colorbar\":{\"outlinewidth\":0,\"ticks\":\"\"}},\"type\":\"scatterpolar\"}],\"scatter\":[{\"marker\":{\"colorbar\":{\"outlinewidth\":0,\"ticks\":\"\"}},\"type\":\"scatter\"}],\"scatterternary\":[{\"marker\":{\"colorbar\":{\"outlinewidth\":0,\"ticks\":\"\"}},\"type\":\"scatterternary\"}],\"surface\":[{\"colorbar\":{\"outlinewidth\":0,\"ticks\":\"\"},\"colorscale\":[[0.0,\"#0d0887\"],[0.1111111111111111,\"#46039f\"],[0.2222222222222222,\"#7201a8\"],[0.3333333333333333,\"#9c179e\"],[0.4444444444444444,\"#bd3786\"],[0.5555555555555556,\"#d8576b\"],[0.6666666666666666,\"#ed7953\"],[0.7777777777777778,\"#fb9f3a\"],[0.8888888888888888,\"#fdca26\"],[1.0,\"#f0f921\"]],\"type\":\"surface\"}],\"table\":[{\"cells\":{\"fill\":{\"color\":\"#EBF0F8\"},\"line\":{\"color\":\"white\"}},\"header\":{\"fill\":{\"color\":\"#C8D4E3\"},\"line\":{\"color\":\"white\"}},\"type\":\"table\"}]},\"layout\":{\"annotationdefaults\":{\"arrowcolor\":\"#2a3f5f\",\"arrowhead\":0,\"arrowwidth\":1},\"autotypenumbers\":\"strict\",\"coloraxis\":{\"colorbar\":{\"outlinewidth\":0,\"ticks\":\"\"}},\"colorscale\":{\"diverging\":[[0,\"#8e0152\"],[0.1,\"#c51b7d\"],[0.2,\"#de77ae\"],[0.3,\"#f1b6da\"],[0.4,\"#fde0ef\"],[0.5,\"#f7f7f7\"],[0.6,\"#e6f5d0\"],[0.7,\"#b8e186\"],[0.8,\"#7fbc41\"],[0.9,\"#4d9221\"],[1,\"#276419\"]],\"sequential\":[[0.0,\"#0d0887\"],[0.1111111111111111,\"#46039f\"],[0.2222222222222222,\"#7201a8\"],[0.3333333333333333,\"#9c179e\"],[0.4444444444444444,\"#bd3786\"],[0.5555555555555556,\"#d8576b\"],[0.6666666666666666,\"#ed7953\"],[0.7777777777777778,\"#fb9f3a\"],[0.8888888888888888,\"#fdca26\"],[1.0,\"#f0f921\"]],\"sequentialminus\":[[0.0,\"#0d0887\"],[0.1111111111111111,\"#46039f\"],[0.2222222222222222,\"#7201a8\"],[0.3333333333333333,\"#9c179e\"],[0.4444444444444444,\"#bd3786\"],[0.5555555555555556,\"#d8576b\"],[0.6666666666666666,\"#ed7953\"],[0.7777777777777778,\"#fb9f3a\"],[0.8888888888888888,\"#fdca26\"],[1.0,\"#f0f921\"]]},\"colorway\":[\"#636efa\",\"#EF553B\",\"#00cc96\",\"#ab63fa\",\"#FFA15A\",\"#19d3f3\",\"#FF6692\",\"#B6E880\",\"#FF97FF\",\"#FECB52\"],\"font\":{\"color\":\"#2a3f5f\"},\"geo\":{\"bgcolor\":\"white\",\"lakecolor\":\"white\",\"landcolor\":\"#E5ECF6\",\"showlakes\":true,\"showland\":true,\"subunitcolor\":\"white\"},\"hoverlabel\":{\"align\":\"left\"},\"hovermode\":\"closest\",\"mapbox\":{\"style\":\"light\"},\"paper_bgcolor\":\"white\",\"plot_bgcolor\":\"#E5ECF6\",\"polar\":{\"angularaxis\":{\"gridcolor\":\"white\",\"linecolor\":\"white\",\"ticks\":\"\"},\"bgcolor\":\"#E5ECF6\",\"radialaxis\":{\"gridcolor\":\"white\",\"linecolor\":\"white\",\"ticks\":\"\"}},\"scene\":{\"xaxis\":{\"backgroundcolor\":\"#E5ECF6\",\"gridcolor\":\"white\",\"gridwidth\":2,\"linecolor\":\"white\",\"showbackground\":true,\"ticks\":\"\",\"zerolinecolor\":\"white\"},\"yaxis\":{\"backgroundcolor\":\"#E5ECF6\",\"gridcolor\":\"white\",\"gridwidth\":2,\"linecolor\":\"white\",\"showbackground\":true,\"ticks\":\"\",\"zerolinecolor\":\"white\"},\"zaxis\":{\"backgroundcolor\":\"#E5ECF6\",\"gridcolor\":\"white\",\"gridwidth\":2,\"linecolor\":\"white\",\"showbackground\":true,\"ticks\":\"\",\"zerolinecolor\":\"white\"}},\"shapedefaults\":{\"line\":{\"color\":\"#2a3f5f\"}},\"ternary\":{\"aaxis\":{\"gridcolor\":\"white\",\"linecolor\":\"white\",\"ticks\":\"\"},\"baxis\":{\"gridcolor\":\"white\",\"linecolor\":\"white\",\"ticks\":\"\"},\"bgcolor\":\"#E5ECF6\",\"caxis\":{\"gridcolor\":\"white\",\"linecolor\":\"white\",\"ticks\":\"\"}},\"title\":{\"x\":0.05},\"xaxis\":{\"automargin\":true,\"gridcolor\":\"white\",\"linecolor\":\"white\",\"ticks\":\"\",\"title\":{\"standoff\":15},\"zerolinecolor\":\"white\",\"zerolinewidth\":2},\"yaxis\":{\"automargin\":true,\"gridcolor\":\"white\",\"linecolor\":\"white\",\"ticks\":\"\",\"title\":{\"standoff\":15},\"zerolinecolor\":\"white\",\"zerolinewidth\":2}}},\"title\":{\"font\":{\"color\":\"#4D5663\"}},\"xaxis\":{\"gridcolor\":\"#E1E5ED\",\"showgrid\":true,\"tickfont\":{\"color\":\"#4D5663\"},\"title\":{\"font\":{\"color\":\"#4D5663\"},\"text\":\"\"},\"zerolinecolor\":\"#E1E5ED\"},\"yaxis\":{\"gridcolor\":\"#E1E5ED\",\"showgrid\":true,\"tickfont\":{\"color\":\"#4D5663\"},\"title\":{\"font\":{\"color\":\"#4D5663\"},\"text\":\"\"},\"zerolinecolor\":\"#E1E5ED\"}},                        {\"showLink\": true, \"linkText\": \"Export to plot.ly\", \"plotlyServerURL\": \"https://plot.ly\", \"responsive\": true}                    ).then(function(){\n",
       "                            \n",
       "var gd = document.getElementById('bf34a0d0-1e9f-44b4-89e6-6e453708e181');\n",
       "var x = new MutationObserver(function (mutations, observer) {{\n",
       "        var display = window.getComputedStyle(gd).display;\n",
       "        if (!display || display === 'none') {{\n",
       "            console.log([gd, 'removed!']);\n",
       "            Plotly.purge(gd);\n",
       "            observer.disconnect();\n",
       "        }}\n",
       "}});\n",
       "\n",
       "// Listen for the removal of the full notebook cells\n",
       "var notebookContainer = gd.closest('#notebook-container');\n",
       "if (notebookContainer) {{\n",
       "    x.observe(notebookContainer, {childList: true});\n",
       "}}\n",
       "\n",
       "// Listen for the clearing of the current output cell\n",
       "var outputEl = gd.closest('.output');\n",
       "if (outputEl) {{\n",
       "    x.observe(outputEl, {childList: true});\n",
       "}}\n",
       "\n",
       "                        })                };                });            </script>        </div>"
      ]
     },
     "metadata": {},
     "output_type": "display_data"
    }
   ],
   "source": [
    "df.iplot(kind='box')"
   ]
  },
  {
   "cell_type": "code",
   "execution_count": 40,
   "id": "2877756b",
   "metadata": {},
   "outputs": [],
   "source": [
    "df3= pd.DataFrame({'x':[1,2,3,4,5],'y':[10,20,30,20,10],'z':[500,400,300,200,100]})"
   ]
  },
  {
   "cell_type": "code",
   "execution_count": 41,
   "id": "5acd9636",
   "metadata": {},
   "outputs": [
    {
     "data": {
      "text/html": [
       "<div>\n",
       "<style scoped>\n",
       "    .dataframe tbody tr th:only-of-type {\n",
       "        vertical-align: middle;\n",
       "    }\n",
       "\n",
       "    .dataframe tbody tr th {\n",
       "        vertical-align: top;\n",
       "    }\n",
       "\n",
       "    .dataframe thead th {\n",
       "        text-align: right;\n",
       "    }\n",
       "</style>\n",
       "<table border=\"1\" class=\"dataframe\">\n",
       "  <thead>\n",
       "    <tr style=\"text-align: right;\">\n",
       "      <th></th>\n",
       "      <th>x</th>\n",
       "      <th>y</th>\n",
       "      <th>z</th>\n",
       "    </tr>\n",
       "  </thead>\n",
       "  <tbody>\n",
       "    <tr>\n",
       "      <th>0</th>\n",
       "      <td>1</td>\n",
       "      <td>10</td>\n",
       "      <td>500</td>\n",
       "    </tr>\n",
       "    <tr>\n",
       "      <th>1</th>\n",
       "      <td>2</td>\n",
       "      <td>20</td>\n",
       "      <td>400</td>\n",
       "    </tr>\n",
       "    <tr>\n",
       "      <th>2</th>\n",
       "      <td>3</td>\n",
       "      <td>30</td>\n",
       "      <td>300</td>\n",
       "    </tr>\n",
       "    <tr>\n",
       "      <th>3</th>\n",
       "      <td>4</td>\n",
       "      <td>20</td>\n",
       "      <td>200</td>\n",
       "    </tr>\n",
       "    <tr>\n",
       "      <th>4</th>\n",
       "      <td>5</td>\n",
       "      <td>10</td>\n",
       "      <td>100</td>\n",
       "    </tr>\n",
       "  </tbody>\n",
       "</table>\n",
       "</div>"
      ],
      "text/plain": [
       "   x   y    z\n",
       "0  1  10  500\n",
       "1  2  20  400\n",
       "2  3  30  300\n",
       "3  4  20  200\n",
       "4  5  10  100"
      ]
     },
     "execution_count": 41,
     "metadata": {},
     "output_type": "execute_result"
    }
   ],
   "source": [
    "df3"
   ]
  },
  {
   "cell_type": "code",
   "execution_count": 43,
   "id": "b5be1b46",
   "metadata": {},
   "outputs": [
    {
     "data": {
      "application/vnd.plotly.v1+json": {
       "config": {
        "linkText": "Export to plot.ly",
        "plotlyServerURL": "https://plot.ly",
        "showLink": true
       },
       "data": [
        {
         "colorscale": [
          [
           0,
           "rgb(165,0,38)"
          ],
          [
           0.1,
           "rgb(215,48,39)"
          ],
          [
           0.2,
           "rgb(244,109,67)"
          ],
          [
           0.3,
           "rgb(253,174,97)"
          ],
          [
           0.4,
           "rgb(254,224,144)"
          ],
          [
           0.5,
           "rgb(255,255,191)"
          ],
          [
           0.6,
           "rgb(224,243,248)"
          ],
          [
           0.7,
           "rgb(171,217,233)"
          ],
          [
           0.8,
           "rgb(116,173,209)"
          ],
          [
           0.9,
           "rgb(69,117,180)"
          ],
          [
           1,
           "rgb(49,54,149)"
          ]
         ],
         "type": "surface",
         "x": [
          0,
          1,
          2,
          3,
          4
         ],
         "y": [
          "x",
          "y",
          "z"
         ],
         "z": [
          [
           1,
           2,
           3,
           4,
           5
          ],
          [
           10,
           20,
           30,
           20,
           10
          ],
          [
           500,
           400,
           300,
           200,
           100
          ]
         ]
        }
       ],
       "layout": {
        "legend": {
         "bgcolor": "#F5F6F9",
         "font": {
          "color": "#4D5663"
         }
        },
        "paper_bgcolor": "#F5F6F9",
        "plot_bgcolor": "#F5F6F9",
        "template": {
         "data": {
          "bar": [
           {
            "error_x": {
             "color": "#2a3f5f"
            },
            "error_y": {
             "color": "#2a3f5f"
            },
            "marker": {
             "line": {
              "color": "#E5ECF6",
              "width": 0.5
             },
             "pattern": {
              "fillmode": "overlay",
              "size": 10,
              "solidity": 0.2
             }
            },
            "type": "bar"
           }
          ],
          "barpolar": [
           {
            "marker": {
             "line": {
              "color": "#E5ECF6",
              "width": 0.5
             },
             "pattern": {
              "fillmode": "overlay",
              "size": 10,
              "solidity": 0.2
             }
            },
            "type": "barpolar"
           }
          ],
          "carpet": [
           {
            "aaxis": {
             "endlinecolor": "#2a3f5f",
             "gridcolor": "white",
             "linecolor": "white",
             "minorgridcolor": "white",
             "startlinecolor": "#2a3f5f"
            },
            "baxis": {
             "endlinecolor": "#2a3f5f",
             "gridcolor": "white",
             "linecolor": "white",
             "minorgridcolor": "white",
             "startlinecolor": "#2a3f5f"
            },
            "type": "carpet"
           }
          ],
          "choropleth": [
           {
            "colorbar": {
             "outlinewidth": 0,
             "ticks": ""
            },
            "type": "choropleth"
           }
          ],
          "contour": [
           {
            "colorbar": {
             "outlinewidth": 0,
             "ticks": ""
            },
            "colorscale": [
             [
              0,
              "#0d0887"
             ],
             [
              0.1111111111111111,
              "#46039f"
             ],
             [
              0.2222222222222222,
              "#7201a8"
             ],
             [
              0.3333333333333333,
              "#9c179e"
             ],
             [
              0.4444444444444444,
              "#bd3786"
             ],
             [
              0.5555555555555556,
              "#d8576b"
             ],
             [
              0.6666666666666666,
              "#ed7953"
             ],
             [
              0.7777777777777778,
              "#fb9f3a"
             ],
             [
              0.8888888888888888,
              "#fdca26"
             ],
             [
              1,
              "#f0f921"
             ]
            ],
            "type": "contour"
           }
          ],
          "contourcarpet": [
           {
            "colorbar": {
             "outlinewidth": 0,
             "ticks": ""
            },
            "type": "contourcarpet"
           }
          ],
          "heatmap": [
           {
            "colorbar": {
             "outlinewidth": 0,
             "ticks": ""
            },
            "colorscale": [
             [
              0,
              "#0d0887"
             ],
             [
              0.1111111111111111,
              "#46039f"
             ],
             [
              0.2222222222222222,
              "#7201a8"
             ],
             [
              0.3333333333333333,
              "#9c179e"
             ],
             [
              0.4444444444444444,
              "#bd3786"
             ],
             [
              0.5555555555555556,
              "#d8576b"
             ],
             [
              0.6666666666666666,
              "#ed7953"
             ],
             [
              0.7777777777777778,
              "#fb9f3a"
             ],
             [
              0.8888888888888888,
              "#fdca26"
             ],
             [
              1,
              "#f0f921"
             ]
            ],
            "type": "heatmap"
           }
          ],
          "heatmapgl": [
           {
            "colorbar": {
             "outlinewidth": 0,
             "ticks": ""
            },
            "colorscale": [
             [
              0,
              "#0d0887"
             ],
             [
              0.1111111111111111,
              "#46039f"
             ],
             [
              0.2222222222222222,
              "#7201a8"
             ],
             [
              0.3333333333333333,
              "#9c179e"
             ],
             [
              0.4444444444444444,
              "#bd3786"
             ],
             [
              0.5555555555555556,
              "#d8576b"
             ],
             [
              0.6666666666666666,
              "#ed7953"
             ],
             [
              0.7777777777777778,
              "#fb9f3a"
             ],
             [
              0.8888888888888888,
              "#fdca26"
             ],
             [
              1,
              "#f0f921"
             ]
            ],
            "type": "heatmapgl"
           }
          ],
          "histogram": [
           {
            "marker": {
             "pattern": {
              "fillmode": "overlay",
              "size": 10,
              "solidity": 0.2
             }
            },
            "type": "histogram"
           }
          ],
          "histogram2d": [
           {
            "colorbar": {
             "outlinewidth": 0,
             "ticks": ""
            },
            "colorscale": [
             [
              0,
              "#0d0887"
             ],
             [
              0.1111111111111111,
              "#46039f"
             ],
             [
              0.2222222222222222,
              "#7201a8"
             ],
             [
              0.3333333333333333,
              "#9c179e"
             ],
             [
              0.4444444444444444,
              "#bd3786"
             ],
             [
              0.5555555555555556,
              "#d8576b"
             ],
             [
              0.6666666666666666,
              "#ed7953"
             ],
             [
              0.7777777777777778,
              "#fb9f3a"
             ],
             [
              0.8888888888888888,
              "#fdca26"
             ],
             [
              1,
              "#f0f921"
             ]
            ],
            "type": "histogram2d"
           }
          ],
          "histogram2dcontour": [
           {
            "colorbar": {
             "outlinewidth": 0,
             "ticks": ""
            },
            "colorscale": [
             [
              0,
              "#0d0887"
             ],
             [
              0.1111111111111111,
              "#46039f"
             ],
             [
              0.2222222222222222,
              "#7201a8"
             ],
             [
              0.3333333333333333,
              "#9c179e"
             ],
             [
              0.4444444444444444,
              "#bd3786"
             ],
             [
              0.5555555555555556,
              "#d8576b"
             ],
             [
              0.6666666666666666,
              "#ed7953"
             ],
             [
              0.7777777777777778,
              "#fb9f3a"
             ],
             [
              0.8888888888888888,
              "#fdca26"
             ],
             [
              1,
              "#f0f921"
             ]
            ],
            "type": "histogram2dcontour"
           }
          ],
          "mesh3d": [
           {
            "colorbar": {
             "outlinewidth": 0,
             "ticks": ""
            },
            "type": "mesh3d"
           }
          ],
          "parcoords": [
           {
            "line": {
             "colorbar": {
              "outlinewidth": 0,
              "ticks": ""
             }
            },
            "type": "parcoords"
           }
          ],
          "pie": [
           {
            "automargin": true,
            "type": "pie"
           }
          ],
          "scatter": [
           {
            "marker": {
             "colorbar": {
              "outlinewidth": 0,
              "ticks": ""
             }
            },
            "type": "scatter"
           }
          ],
          "scatter3d": [
           {
            "line": {
             "colorbar": {
              "outlinewidth": 0,
              "ticks": ""
             }
            },
            "marker": {
             "colorbar": {
              "outlinewidth": 0,
              "ticks": ""
             }
            },
            "type": "scatter3d"
           }
          ],
          "scattercarpet": [
           {
            "marker": {
             "colorbar": {
              "outlinewidth": 0,
              "ticks": ""
             }
            },
            "type": "scattercarpet"
           }
          ],
          "scattergeo": [
           {
            "marker": {
             "colorbar": {
              "outlinewidth": 0,
              "ticks": ""
             }
            },
            "type": "scattergeo"
           }
          ],
          "scattergl": [
           {
            "marker": {
             "colorbar": {
              "outlinewidth": 0,
              "ticks": ""
             }
            },
            "type": "scattergl"
           }
          ],
          "scattermapbox": [
           {
            "marker": {
             "colorbar": {
              "outlinewidth": 0,
              "ticks": ""
             }
            },
            "type": "scattermapbox"
           }
          ],
          "scatterpolar": [
           {
            "marker": {
             "colorbar": {
              "outlinewidth": 0,
              "ticks": ""
             }
            },
            "type": "scatterpolar"
           }
          ],
          "scatterpolargl": [
           {
            "marker": {
             "colorbar": {
              "outlinewidth": 0,
              "ticks": ""
             }
            },
            "type": "scatterpolargl"
           }
          ],
          "scatterternary": [
           {
            "marker": {
             "colorbar": {
              "outlinewidth": 0,
              "ticks": ""
             }
            },
            "type": "scatterternary"
           }
          ],
          "surface": [
           {
            "colorbar": {
             "outlinewidth": 0,
             "ticks": ""
            },
            "colorscale": [
             [
              0,
              "#0d0887"
             ],
             [
              0.1111111111111111,
              "#46039f"
             ],
             [
              0.2222222222222222,
              "#7201a8"
             ],
             [
              0.3333333333333333,
              "#9c179e"
             ],
             [
              0.4444444444444444,
              "#bd3786"
             ],
             [
              0.5555555555555556,
              "#d8576b"
             ],
             [
              0.6666666666666666,
              "#ed7953"
             ],
             [
              0.7777777777777778,
              "#fb9f3a"
             ],
             [
              0.8888888888888888,
              "#fdca26"
             ],
             [
              1,
              "#f0f921"
             ]
            ],
            "type": "surface"
           }
          ],
          "table": [
           {
            "cells": {
             "fill": {
              "color": "#EBF0F8"
             },
             "line": {
              "color": "white"
             }
            },
            "header": {
             "fill": {
              "color": "#C8D4E3"
             },
             "line": {
              "color": "white"
             }
            },
            "type": "table"
           }
          ]
         },
         "layout": {
          "annotationdefaults": {
           "arrowcolor": "#2a3f5f",
           "arrowhead": 0,
           "arrowwidth": 1
          },
          "autotypenumbers": "strict",
          "coloraxis": {
           "colorbar": {
            "outlinewidth": 0,
            "ticks": ""
           }
          },
          "colorscale": {
           "diverging": [
            [
             0,
             "#8e0152"
            ],
            [
             0.1,
             "#c51b7d"
            ],
            [
             0.2,
             "#de77ae"
            ],
            [
             0.3,
             "#f1b6da"
            ],
            [
             0.4,
             "#fde0ef"
            ],
            [
             0.5,
             "#f7f7f7"
            ],
            [
             0.6,
             "#e6f5d0"
            ],
            [
             0.7,
             "#b8e186"
            ],
            [
             0.8,
             "#7fbc41"
            ],
            [
             0.9,
             "#4d9221"
            ],
            [
             1,
             "#276419"
            ]
           ],
           "sequential": [
            [
             0,
             "#0d0887"
            ],
            [
             0.1111111111111111,
             "#46039f"
            ],
            [
             0.2222222222222222,
             "#7201a8"
            ],
            [
             0.3333333333333333,
             "#9c179e"
            ],
            [
             0.4444444444444444,
             "#bd3786"
            ],
            [
             0.5555555555555556,
             "#d8576b"
            ],
            [
             0.6666666666666666,
             "#ed7953"
            ],
            [
             0.7777777777777778,
             "#fb9f3a"
            ],
            [
             0.8888888888888888,
             "#fdca26"
            ],
            [
             1,
             "#f0f921"
            ]
           ],
           "sequentialminus": [
            [
             0,
             "#0d0887"
            ],
            [
             0.1111111111111111,
             "#46039f"
            ],
            [
             0.2222222222222222,
             "#7201a8"
            ],
            [
             0.3333333333333333,
             "#9c179e"
            ],
            [
             0.4444444444444444,
             "#bd3786"
            ],
            [
             0.5555555555555556,
             "#d8576b"
            ],
            [
             0.6666666666666666,
             "#ed7953"
            ],
            [
             0.7777777777777778,
             "#fb9f3a"
            ],
            [
             0.8888888888888888,
             "#fdca26"
            ],
            [
             1,
             "#f0f921"
            ]
           ]
          },
          "colorway": [
           "#636efa",
           "#EF553B",
           "#00cc96",
           "#ab63fa",
           "#FFA15A",
           "#19d3f3",
           "#FF6692",
           "#B6E880",
           "#FF97FF",
           "#FECB52"
          ],
          "font": {
           "color": "#2a3f5f"
          },
          "geo": {
           "bgcolor": "white",
           "lakecolor": "white",
           "landcolor": "#E5ECF6",
           "showlakes": true,
           "showland": true,
           "subunitcolor": "white"
          },
          "hoverlabel": {
           "align": "left"
          },
          "hovermode": "closest",
          "mapbox": {
           "style": "light"
          },
          "paper_bgcolor": "white",
          "plot_bgcolor": "#E5ECF6",
          "polar": {
           "angularaxis": {
            "gridcolor": "white",
            "linecolor": "white",
            "ticks": ""
           },
           "bgcolor": "#E5ECF6",
           "radialaxis": {
            "gridcolor": "white",
            "linecolor": "white",
            "ticks": ""
           }
          },
          "scene": {
           "xaxis": {
            "backgroundcolor": "#E5ECF6",
            "gridcolor": "white",
            "gridwidth": 2,
            "linecolor": "white",
            "showbackground": true,
            "ticks": "",
            "zerolinecolor": "white"
           },
           "yaxis": {
            "backgroundcolor": "#E5ECF6",
            "gridcolor": "white",
            "gridwidth": 2,
            "linecolor": "white",
            "showbackground": true,
            "ticks": "",
            "zerolinecolor": "white"
           },
           "zaxis": {
            "backgroundcolor": "#E5ECF6",
            "gridcolor": "white",
            "gridwidth": 2,
            "linecolor": "white",
            "showbackground": true,
            "ticks": "",
            "zerolinecolor": "white"
           }
          },
          "shapedefaults": {
           "line": {
            "color": "#2a3f5f"
           }
          },
          "ternary": {
           "aaxis": {
            "gridcolor": "white",
            "linecolor": "white",
            "ticks": ""
           },
           "baxis": {
            "gridcolor": "white",
            "linecolor": "white",
            "ticks": ""
           },
           "bgcolor": "#E5ECF6",
           "caxis": {
            "gridcolor": "white",
            "linecolor": "white",
            "ticks": ""
           }
          },
          "title": {
           "x": 0.05
          },
          "xaxis": {
           "automargin": true,
           "gridcolor": "white",
           "linecolor": "white",
           "ticks": "",
           "title": {
            "standoff": 15
           },
           "zerolinecolor": "white",
           "zerolinewidth": 2
          },
          "yaxis": {
           "automargin": true,
           "gridcolor": "white",
           "linecolor": "white",
           "ticks": "",
           "title": {
            "standoff": 15
           },
           "zerolinecolor": "white",
           "zerolinewidth": 2
          }
         }
        },
        "title": {
         "font": {
          "color": "#4D5663"
         }
        },
        "xaxis": {
         "gridcolor": "#E1E5ED",
         "showgrid": true,
         "tickfont": {
          "color": "#4D5663"
         },
         "title": {
          "font": {
           "color": "#4D5663"
          },
          "text": ""
         },
         "zerolinecolor": "#E1E5ED"
        },
        "yaxis": {
         "gridcolor": "#E1E5ED",
         "showgrid": true,
         "tickfont": {
          "color": "#4D5663"
         },
         "title": {
          "font": {
           "color": "#4D5663"
          },
          "text": ""
         },
         "zerolinecolor": "#E1E5ED"
        }
       }
      },
      "text/html": [
       "<div>                            <div id=\"1364167a-f2a2-4798-b3f4-4aac78c78f22\" class=\"plotly-graph-div\" style=\"height:525px; width:100%;\"></div>            <script type=\"text/javascript\">                require([\"plotly\"], function(Plotly) {                    window.PLOTLYENV=window.PLOTLYENV || {};\n",
       "                    window.PLOTLYENV.BASE_URL='https://plot.ly';                                    if (document.getElementById(\"1364167a-f2a2-4798-b3f4-4aac78c78f22\")) {                    Plotly.newPlot(                        \"1364167a-f2a2-4798-b3f4-4aac78c78f22\",                        [{\"colorscale\":[[0.0,\"rgb(165,0,38)\"],[0.1,\"rgb(215,48,39)\"],[0.2,\"rgb(244,109,67)\"],[0.3,\"rgb(253,174,97)\"],[0.4,\"rgb(254,224,144)\"],[0.5,\"rgb(255,255,191)\"],[0.6,\"rgb(224,243,248)\"],[0.7,\"rgb(171,217,233)\"],[0.8,\"rgb(116,173,209)\"],[0.9,\"rgb(69,117,180)\"],[1.0,\"rgb(49,54,149)\"]],\"x\":[0,1,2,3,4],\"y\":[\"x\",\"y\",\"z\"],\"z\":[[1,2,3,4,5],[10,20,30,20,10],[500,400,300,200,100]],\"type\":\"surface\"}],                        {\"legend\":{\"bgcolor\":\"#F5F6F9\",\"font\":{\"color\":\"#4D5663\"}},\"paper_bgcolor\":\"#F5F6F9\",\"plot_bgcolor\":\"#F5F6F9\",\"template\":{\"data\":{\"barpolar\":[{\"marker\":{\"line\":{\"color\":\"#E5ECF6\",\"width\":0.5},\"pattern\":{\"fillmode\":\"overlay\",\"size\":10,\"solidity\":0.2}},\"type\":\"barpolar\"}],\"bar\":[{\"error_x\":{\"color\":\"#2a3f5f\"},\"error_y\":{\"color\":\"#2a3f5f\"},\"marker\":{\"line\":{\"color\":\"#E5ECF6\",\"width\":0.5},\"pattern\":{\"fillmode\":\"overlay\",\"size\":10,\"solidity\":0.2}},\"type\":\"bar\"}],\"carpet\":[{\"aaxis\":{\"endlinecolor\":\"#2a3f5f\",\"gridcolor\":\"white\",\"linecolor\":\"white\",\"minorgridcolor\":\"white\",\"startlinecolor\":\"#2a3f5f\"},\"baxis\":{\"endlinecolor\":\"#2a3f5f\",\"gridcolor\":\"white\",\"linecolor\":\"white\",\"minorgridcolor\":\"white\",\"startlinecolor\":\"#2a3f5f\"},\"type\":\"carpet\"}],\"choropleth\":[{\"colorbar\":{\"outlinewidth\":0,\"ticks\":\"\"},\"type\":\"choropleth\"}],\"contourcarpet\":[{\"colorbar\":{\"outlinewidth\":0,\"ticks\":\"\"},\"type\":\"contourcarpet\"}],\"contour\":[{\"colorbar\":{\"outlinewidth\":0,\"ticks\":\"\"},\"colorscale\":[[0.0,\"#0d0887\"],[0.1111111111111111,\"#46039f\"],[0.2222222222222222,\"#7201a8\"],[0.3333333333333333,\"#9c179e\"],[0.4444444444444444,\"#bd3786\"],[0.5555555555555556,\"#d8576b\"],[0.6666666666666666,\"#ed7953\"],[0.7777777777777778,\"#fb9f3a\"],[0.8888888888888888,\"#fdca26\"],[1.0,\"#f0f921\"]],\"type\":\"contour\"}],\"heatmapgl\":[{\"colorbar\":{\"outlinewidth\":0,\"ticks\":\"\"},\"colorscale\":[[0.0,\"#0d0887\"],[0.1111111111111111,\"#46039f\"],[0.2222222222222222,\"#7201a8\"],[0.3333333333333333,\"#9c179e\"],[0.4444444444444444,\"#bd3786\"],[0.5555555555555556,\"#d8576b\"],[0.6666666666666666,\"#ed7953\"],[0.7777777777777778,\"#fb9f3a\"],[0.8888888888888888,\"#fdca26\"],[1.0,\"#f0f921\"]],\"type\":\"heatmapgl\"}],\"heatmap\":[{\"colorbar\":{\"outlinewidth\":0,\"ticks\":\"\"},\"colorscale\":[[0.0,\"#0d0887\"],[0.1111111111111111,\"#46039f\"],[0.2222222222222222,\"#7201a8\"],[0.3333333333333333,\"#9c179e\"],[0.4444444444444444,\"#bd3786\"],[0.5555555555555556,\"#d8576b\"],[0.6666666666666666,\"#ed7953\"],[0.7777777777777778,\"#fb9f3a\"],[0.8888888888888888,\"#fdca26\"],[1.0,\"#f0f921\"]],\"type\":\"heatmap\"}],\"histogram2dcontour\":[{\"colorbar\":{\"outlinewidth\":0,\"ticks\":\"\"},\"colorscale\":[[0.0,\"#0d0887\"],[0.1111111111111111,\"#46039f\"],[0.2222222222222222,\"#7201a8\"],[0.3333333333333333,\"#9c179e\"],[0.4444444444444444,\"#bd3786\"],[0.5555555555555556,\"#d8576b\"],[0.6666666666666666,\"#ed7953\"],[0.7777777777777778,\"#fb9f3a\"],[0.8888888888888888,\"#fdca26\"],[1.0,\"#f0f921\"]],\"type\":\"histogram2dcontour\"}],\"histogram2d\":[{\"colorbar\":{\"outlinewidth\":0,\"ticks\":\"\"},\"colorscale\":[[0.0,\"#0d0887\"],[0.1111111111111111,\"#46039f\"],[0.2222222222222222,\"#7201a8\"],[0.3333333333333333,\"#9c179e\"],[0.4444444444444444,\"#bd3786\"],[0.5555555555555556,\"#d8576b\"],[0.6666666666666666,\"#ed7953\"],[0.7777777777777778,\"#fb9f3a\"],[0.8888888888888888,\"#fdca26\"],[1.0,\"#f0f921\"]],\"type\":\"histogram2d\"}],\"histogram\":[{\"marker\":{\"pattern\":{\"fillmode\":\"overlay\",\"size\":10,\"solidity\":0.2}},\"type\":\"histogram\"}],\"mesh3d\":[{\"colorbar\":{\"outlinewidth\":0,\"ticks\":\"\"},\"type\":\"mesh3d\"}],\"parcoords\":[{\"line\":{\"colorbar\":{\"outlinewidth\":0,\"ticks\":\"\"}},\"type\":\"parcoords\"}],\"pie\":[{\"automargin\":true,\"type\":\"pie\"}],\"scatter3d\":[{\"line\":{\"colorbar\":{\"outlinewidth\":0,\"ticks\":\"\"}},\"marker\":{\"colorbar\":{\"outlinewidth\":0,\"ticks\":\"\"}},\"type\":\"scatter3d\"}],\"scattercarpet\":[{\"marker\":{\"colorbar\":{\"outlinewidth\":0,\"ticks\":\"\"}},\"type\":\"scattercarpet\"}],\"scattergeo\":[{\"marker\":{\"colorbar\":{\"outlinewidth\":0,\"ticks\":\"\"}},\"type\":\"scattergeo\"}],\"scattergl\":[{\"marker\":{\"colorbar\":{\"outlinewidth\":0,\"ticks\":\"\"}},\"type\":\"scattergl\"}],\"scattermapbox\":[{\"marker\":{\"colorbar\":{\"outlinewidth\":0,\"ticks\":\"\"}},\"type\":\"scattermapbox\"}],\"scatterpolargl\":[{\"marker\":{\"colorbar\":{\"outlinewidth\":0,\"ticks\":\"\"}},\"type\":\"scatterpolargl\"}],\"scatterpolar\":[{\"marker\":{\"colorbar\":{\"outlinewidth\":0,\"ticks\":\"\"}},\"type\":\"scatterpolar\"}],\"scatter\":[{\"marker\":{\"colorbar\":{\"outlinewidth\":0,\"ticks\":\"\"}},\"type\":\"scatter\"}],\"scatterternary\":[{\"marker\":{\"colorbar\":{\"outlinewidth\":0,\"ticks\":\"\"}},\"type\":\"scatterternary\"}],\"surface\":[{\"colorbar\":{\"outlinewidth\":0,\"ticks\":\"\"},\"colorscale\":[[0.0,\"#0d0887\"],[0.1111111111111111,\"#46039f\"],[0.2222222222222222,\"#7201a8\"],[0.3333333333333333,\"#9c179e\"],[0.4444444444444444,\"#bd3786\"],[0.5555555555555556,\"#d8576b\"],[0.6666666666666666,\"#ed7953\"],[0.7777777777777778,\"#fb9f3a\"],[0.8888888888888888,\"#fdca26\"],[1.0,\"#f0f921\"]],\"type\":\"surface\"}],\"table\":[{\"cells\":{\"fill\":{\"color\":\"#EBF0F8\"},\"line\":{\"color\":\"white\"}},\"header\":{\"fill\":{\"color\":\"#C8D4E3\"},\"line\":{\"color\":\"white\"}},\"type\":\"table\"}]},\"layout\":{\"annotationdefaults\":{\"arrowcolor\":\"#2a3f5f\",\"arrowhead\":0,\"arrowwidth\":1},\"autotypenumbers\":\"strict\",\"coloraxis\":{\"colorbar\":{\"outlinewidth\":0,\"ticks\":\"\"}},\"colorscale\":{\"diverging\":[[0,\"#8e0152\"],[0.1,\"#c51b7d\"],[0.2,\"#de77ae\"],[0.3,\"#f1b6da\"],[0.4,\"#fde0ef\"],[0.5,\"#f7f7f7\"],[0.6,\"#e6f5d0\"],[0.7,\"#b8e186\"],[0.8,\"#7fbc41\"],[0.9,\"#4d9221\"],[1,\"#276419\"]],\"sequential\":[[0.0,\"#0d0887\"],[0.1111111111111111,\"#46039f\"],[0.2222222222222222,\"#7201a8\"],[0.3333333333333333,\"#9c179e\"],[0.4444444444444444,\"#bd3786\"],[0.5555555555555556,\"#d8576b\"],[0.6666666666666666,\"#ed7953\"],[0.7777777777777778,\"#fb9f3a\"],[0.8888888888888888,\"#fdca26\"],[1.0,\"#f0f921\"]],\"sequentialminus\":[[0.0,\"#0d0887\"],[0.1111111111111111,\"#46039f\"],[0.2222222222222222,\"#7201a8\"],[0.3333333333333333,\"#9c179e\"],[0.4444444444444444,\"#bd3786\"],[0.5555555555555556,\"#d8576b\"],[0.6666666666666666,\"#ed7953\"],[0.7777777777777778,\"#fb9f3a\"],[0.8888888888888888,\"#fdca26\"],[1.0,\"#f0f921\"]]},\"colorway\":[\"#636efa\",\"#EF553B\",\"#00cc96\",\"#ab63fa\",\"#FFA15A\",\"#19d3f3\",\"#FF6692\",\"#B6E880\",\"#FF97FF\",\"#FECB52\"],\"font\":{\"color\":\"#2a3f5f\"},\"geo\":{\"bgcolor\":\"white\",\"lakecolor\":\"white\",\"landcolor\":\"#E5ECF6\",\"showlakes\":true,\"showland\":true,\"subunitcolor\":\"white\"},\"hoverlabel\":{\"align\":\"left\"},\"hovermode\":\"closest\",\"mapbox\":{\"style\":\"light\"},\"paper_bgcolor\":\"white\",\"plot_bgcolor\":\"#E5ECF6\",\"polar\":{\"angularaxis\":{\"gridcolor\":\"white\",\"linecolor\":\"white\",\"ticks\":\"\"},\"bgcolor\":\"#E5ECF6\",\"radialaxis\":{\"gridcolor\":\"white\",\"linecolor\":\"white\",\"ticks\":\"\"}},\"scene\":{\"xaxis\":{\"backgroundcolor\":\"#E5ECF6\",\"gridcolor\":\"white\",\"gridwidth\":2,\"linecolor\":\"white\",\"showbackground\":true,\"ticks\":\"\",\"zerolinecolor\":\"white\"},\"yaxis\":{\"backgroundcolor\":\"#E5ECF6\",\"gridcolor\":\"white\",\"gridwidth\":2,\"linecolor\":\"white\",\"showbackground\":true,\"ticks\":\"\",\"zerolinecolor\":\"white\"},\"zaxis\":{\"backgroundcolor\":\"#E5ECF6\",\"gridcolor\":\"white\",\"gridwidth\":2,\"linecolor\":\"white\",\"showbackground\":true,\"ticks\":\"\",\"zerolinecolor\":\"white\"}},\"shapedefaults\":{\"line\":{\"color\":\"#2a3f5f\"}},\"ternary\":{\"aaxis\":{\"gridcolor\":\"white\",\"linecolor\":\"white\",\"ticks\":\"\"},\"baxis\":{\"gridcolor\":\"white\",\"linecolor\":\"white\",\"ticks\":\"\"},\"bgcolor\":\"#E5ECF6\",\"caxis\":{\"gridcolor\":\"white\",\"linecolor\":\"white\",\"ticks\":\"\"}},\"title\":{\"x\":0.05},\"xaxis\":{\"automargin\":true,\"gridcolor\":\"white\",\"linecolor\":\"white\",\"ticks\":\"\",\"title\":{\"standoff\":15},\"zerolinecolor\":\"white\",\"zerolinewidth\":2},\"yaxis\":{\"automargin\":true,\"gridcolor\":\"white\",\"linecolor\":\"white\",\"ticks\":\"\",\"title\":{\"standoff\":15},\"zerolinecolor\":\"white\",\"zerolinewidth\":2}}},\"title\":{\"font\":{\"color\":\"#4D5663\"}},\"xaxis\":{\"gridcolor\":\"#E1E5ED\",\"showgrid\":true,\"tickfont\":{\"color\":\"#4D5663\"},\"title\":{\"font\":{\"color\":\"#4D5663\"},\"text\":\"\"},\"zerolinecolor\":\"#E1E5ED\"},\"yaxis\":{\"gridcolor\":\"#E1E5ED\",\"showgrid\":true,\"tickfont\":{\"color\":\"#4D5663\"},\"title\":{\"font\":{\"color\":\"#4D5663\"},\"text\":\"\"},\"zerolinecolor\":\"#E1E5ED\"}},                        {\"showLink\": true, \"linkText\": \"Export to plot.ly\", \"plotlyServerURL\": \"https://plot.ly\", \"responsive\": true}                    ).then(function(){\n",
       "                            \n",
       "var gd = document.getElementById('1364167a-f2a2-4798-b3f4-4aac78c78f22');\n",
       "var x = new MutationObserver(function (mutations, observer) {{\n",
       "        var display = window.getComputedStyle(gd).display;\n",
       "        if (!display || display === 'none') {{\n",
       "            console.log([gd, 'removed!']);\n",
       "            Plotly.purge(gd);\n",
       "            observer.disconnect();\n",
       "        }}\n",
       "}});\n",
       "\n",
       "// Listen for the removal of the full notebook cells\n",
       "var notebookContainer = gd.closest('#notebook-container');\n",
       "if (notebookContainer) {{\n",
       "    x.observe(notebookContainer, {childList: true});\n",
       "}}\n",
       "\n",
       "// Listen for the clearing of the current output cell\n",
       "var outputEl = gd.closest('.output');\n",
       "if (outputEl) {{\n",
       "    x.observe(outputEl, {childList: true});\n",
       "}}\n",
       "\n",
       "                        })                };                });            </script>        </div>"
      ]
     },
     "metadata": {},
     "output_type": "display_data"
    }
   ],
   "source": [
    "df3.iplot(kind='surface',colorscale='rdylbu')"
   ]
  },
  {
   "cell_type": "code",
   "execution_count": 46,
   "id": "cbe13cc2",
   "metadata": {},
   "outputs": [
    {
     "data": {
      "application/vnd.plotly.v1+json": {
       "config": {
        "linkText": "Export to plot.ly",
        "plotlyServerURL": "https://plot.ly",
        "showLink": true
       },
       "data": [
        {
         "histfunc": "count",
         "histnorm": "",
         "marker": {
          "color": "rgba(255, 153, 51, 1.0)",
          "line": {
           "color": "#4D5663",
           "width": 1.3
          }
         },
         "name": "A",
         "nbinsx": 100,
         "opacity": 0.8,
         "orientation": "v",
         "type": "histogram",
         "x": [
          1.384941095893982,
          -0.3647871044245467,
          -1.613377798789012,
          -0.12920481127577702,
          -0.6300029180423312,
          0.6955311102837984,
          -0.07774289928427856,
          -1.5481508917079352,
          0.3144299528461812,
          1.483756889675816,
          1.3631631851081898,
          0.3577161379182844,
          0.44425005373458687,
          -1.3026835005270772,
          0.8586317944028101,
          -0.12796403591939365,
          0.373209303997531,
          0.5869332431334456,
          0.4864253873475166,
          1.0756346615585344,
          -1.052001580878504,
          0.0906431802398545,
          1.0580572090375877,
          -0.9848808039026463,
          0.5513641846951675,
          1.1659210728519842,
          0.020314764012267873,
          0.3074031709948694,
          -0.23909296540380182,
          0.02171216478090794,
          -0.16254690733414418,
          -0.33711970357111226,
          0.8142846009651958,
          0.5807041935213351,
          1.517465474603419,
          2.64825109236516,
          0.9118993743273417,
          0.3344914818573978,
          -0.6980817050442862,
          -0.014535950295435083,
          -0.29814416383545383,
          -0.0017524875066887394,
          -1.1233972672402575,
          0.06762297707903585,
          -0.16466873420852687,
          -0.1795079343480467,
          -0.6751925963714834,
          2.006888382314444,
          -0.7838881243097859,
          0.9294115904771026,
          -1.058238874474584,
          0.6586637071443632,
          -0.37707299217026374,
          -0.13598986025585266,
          -1.4967184420595114,
          0.4153485006683915,
          0.24121216996263192,
          -3.092016438708254,
          -1.2219917686899848,
          0.8869662273854365,
          -1.0682780065598037,
          -1.2106122878269856,
          0.803250005443257,
          0.9877199560578738,
          -0.2258121665388722,
          0.13923967982184132,
          -0.22573522543316654,
          1.6171694614878647,
          0.5477551242136519,
          0.4420065170066808,
          0.06747036201760358,
          -1.641776468835695,
          -0.2876490151341459,
          0.3684314172007868,
          1.1306668046343704,
          -0.8340553638572694,
          0.6712547294009807,
          0.8197535903257653,
          0.2124039178122506,
          -0.5392633467972721,
          0.010110482279003876,
          0.958789971496834,
          -0.07020997545633594,
          0.33616891127553034,
          -0.3907482690955859,
          0.8806514736157832,
          0.31650766745412495,
          0.1448946459985747,
          0.27772853189609437,
          -0.4036166749778001,
          -0.2926052183646972,
          1.3491425878516692,
          -1.4689030081303354,
          1.43789556687664,
          -1.79323467847179,
          -0.17223590815000211,
          1.0094163974481396,
          -0.31501498808974,
          -0.3962647074563389,
          -2.0067551306542164
         ]
        }
       ],
       "layout": {
        "barmode": "overlay",
        "legend": {
         "bgcolor": "#F5F6F9",
         "font": {
          "color": "#4D5663"
         }
        },
        "paper_bgcolor": "#F5F6F9",
        "plot_bgcolor": "#F5F6F9",
        "template": {
         "data": {
          "bar": [
           {
            "error_x": {
             "color": "#2a3f5f"
            },
            "error_y": {
             "color": "#2a3f5f"
            },
            "marker": {
             "line": {
              "color": "#E5ECF6",
              "width": 0.5
             },
             "pattern": {
              "fillmode": "overlay",
              "size": 10,
              "solidity": 0.2
             }
            },
            "type": "bar"
           }
          ],
          "barpolar": [
           {
            "marker": {
             "line": {
              "color": "#E5ECF6",
              "width": 0.5
             },
             "pattern": {
              "fillmode": "overlay",
              "size": 10,
              "solidity": 0.2
             }
            },
            "type": "barpolar"
           }
          ],
          "carpet": [
           {
            "aaxis": {
             "endlinecolor": "#2a3f5f",
             "gridcolor": "white",
             "linecolor": "white",
             "minorgridcolor": "white",
             "startlinecolor": "#2a3f5f"
            },
            "baxis": {
             "endlinecolor": "#2a3f5f",
             "gridcolor": "white",
             "linecolor": "white",
             "minorgridcolor": "white",
             "startlinecolor": "#2a3f5f"
            },
            "type": "carpet"
           }
          ],
          "choropleth": [
           {
            "colorbar": {
             "outlinewidth": 0,
             "ticks": ""
            },
            "type": "choropleth"
           }
          ],
          "contour": [
           {
            "colorbar": {
             "outlinewidth": 0,
             "ticks": ""
            },
            "colorscale": [
             [
              0,
              "#0d0887"
             ],
             [
              0.1111111111111111,
              "#46039f"
             ],
             [
              0.2222222222222222,
              "#7201a8"
             ],
             [
              0.3333333333333333,
              "#9c179e"
             ],
             [
              0.4444444444444444,
              "#bd3786"
             ],
             [
              0.5555555555555556,
              "#d8576b"
             ],
             [
              0.6666666666666666,
              "#ed7953"
             ],
             [
              0.7777777777777778,
              "#fb9f3a"
             ],
             [
              0.8888888888888888,
              "#fdca26"
             ],
             [
              1,
              "#f0f921"
             ]
            ],
            "type": "contour"
           }
          ],
          "contourcarpet": [
           {
            "colorbar": {
             "outlinewidth": 0,
             "ticks": ""
            },
            "type": "contourcarpet"
           }
          ],
          "heatmap": [
           {
            "colorbar": {
             "outlinewidth": 0,
             "ticks": ""
            },
            "colorscale": [
             [
              0,
              "#0d0887"
             ],
             [
              0.1111111111111111,
              "#46039f"
             ],
             [
              0.2222222222222222,
              "#7201a8"
             ],
             [
              0.3333333333333333,
              "#9c179e"
             ],
             [
              0.4444444444444444,
              "#bd3786"
             ],
             [
              0.5555555555555556,
              "#d8576b"
             ],
             [
              0.6666666666666666,
              "#ed7953"
             ],
             [
              0.7777777777777778,
              "#fb9f3a"
             ],
             [
              0.8888888888888888,
              "#fdca26"
             ],
             [
              1,
              "#f0f921"
             ]
            ],
            "type": "heatmap"
           }
          ],
          "heatmapgl": [
           {
            "colorbar": {
             "outlinewidth": 0,
             "ticks": ""
            },
            "colorscale": [
             [
              0,
              "#0d0887"
             ],
             [
              0.1111111111111111,
              "#46039f"
             ],
             [
              0.2222222222222222,
              "#7201a8"
             ],
             [
              0.3333333333333333,
              "#9c179e"
             ],
             [
              0.4444444444444444,
              "#bd3786"
             ],
             [
              0.5555555555555556,
              "#d8576b"
             ],
             [
              0.6666666666666666,
              "#ed7953"
             ],
             [
              0.7777777777777778,
              "#fb9f3a"
             ],
             [
              0.8888888888888888,
              "#fdca26"
             ],
             [
              1,
              "#f0f921"
             ]
            ],
            "type": "heatmapgl"
           }
          ],
          "histogram": [
           {
            "marker": {
             "pattern": {
              "fillmode": "overlay",
              "size": 10,
              "solidity": 0.2
             }
            },
            "type": "histogram"
           }
          ],
          "histogram2d": [
           {
            "colorbar": {
             "outlinewidth": 0,
             "ticks": ""
            },
            "colorscale": [
             [
              0,
              "#0d0887"
             ],
             [
              0.1111111111111111,
              "#46039f"
             ],
             [
              0.2222222222222222,
              "#7201a8"
             ],
             [
              0.3333333333333333,
              "#9c179e"
             ],
             [
              0.4444444444444444,
              "#bd3786"
             ],
             [
              0.5555555555555556,
              "#d8576b"
             ],
             [
              0.6666666666666666,
              "#ed7953"
             ],
             [
              0.7777777777777778,
              "#fb9f3a"
             ],
             [
              0.8888888888888888,
              "#fdca26"
             ],
             [
              1,
              "#f0f921"
             ]
            ],
            "type": "histogram2d"
           }
          ],
          "histogram2dcontour": [
           {
            "colorbar": {
             "outlinewidth": 0,
             "ticks": ""
            },
            "colorscale": [
             [
              0,
              "#0d0887"
             ],
             [
              0.1111111111111111,
              "#46039f"
             ],
             [
              0.2222222222222222,
              "#7201a8"
             ],
             [
              0.3333333333333333,
              "#9c179e"
             ],
             [
              0.4444444444444444,
              "#bd3786"
             ],
             [
              0.5555555555555556,
              "#d8576b"
             ],
             [
              0.6666666666666666,
              "#ed7953"
             ],
             [
              0.7777777777777778,
              "#fb9f3a"
             ],
             [
              0.8888888888888888,
              "#fdca26"
             ],
             [
              1,
              "#f0f921"
             ]
            ],
            "type": "histogram2dcontour"
           }
          ],
          "mesh3d": [
           {
            "colorbar": {
             "outlinewidth": 0,
             "ticks": ""
            },
            "type": "mesh3d"
           }
          ],
          "parcoords": [
           {
            "line": {
             "colorbar": {
              "outlinewidth": 0,
              "ticks": ""
             }
            },
            "type": "parcoords"
           }
          ],
          "pie": [
           {
            "automargin": true,
            "type": "pie"
           }
          ],
          "scatter": [
           {
            "marker": {
             "colorbar": {
              "outlinewidth": 0,
              "ticks": ""
             }
            },
            "type": "scatter"
           }
          ],
          "scatter3d": [
           {
            "line": {
             "colorbar": {
              "outlinewidth": 0,
              "ticks": ""
             }
            },
            "marker": {
             "colorbar": {
              "outlinewidth": 0,
              "ticks": ""
             }
            },
            "type": "scatter3d"
           }
          ],
          "scattercarpet": [
           {
            "marker": {
             "colorbar": {
              "outlinewidth": 0,
              "ticks": ""
             }
            },
            "type": "scattercarpet"
           }
          ],
          "scattergeo": [
           {
            "marker": {
             "colorbar": {
              "outlinewidth": 0,
              "ticks": ""
             }
            },
            "type": "scattergeo"
           }
          ],
          "scattergl": [
           {
            "marker": {
             "colorbar": {
              "outlinewidth": 0,
              "ticks": ""
             }
            },
            "type": "scattergl"
           }
          ],
          "scattermapbox": [
           {
            "marker": {
             "colorbar": {
              "outlinewidth": 0,
              "ticks": ""
             }
            },
            "type": "scattermapbox"
           }
          ],
          "scatterpolar": [
           {
            "marker": {
             "colorbar": {
              "outlinewidth": 0,
              "ticks": ""
             }
            },
            "type": "scatterpolar"
           }
          ],
          "scatterpolargl": [
           {
            "marker": {
             "colorbar": {
              "outlinewidth": 0,
              "ticks": ""
             }
            },
            "type": "scatterpolargl"
           }
          ],
          "scatterternary": [
           {
            "marker": {
             "colorbar": {
              "outlinewidth": 0,
              "ticks": ""
             }
            },
            "type": "scatterternary"
           }
          ],
          "surface": [
           {
            "colorbar": {
             "outlinewidth": 0,
             "ticks": ""
            },
            "colorscale": [
             [
              0,
              "#0d0887"
             ],
             [
              0.1111111111111111,
              "#46039f"
             ],
             [
              0.2222222222222222,
              "#7201a8"
             ],
             [
              0.3333333333333333,
              "#9c179e"
             ],
             [
              0.4444444444444444,
              "#bd3786"
             ],
             [
              0.5555555555555556,
              "#d8576b"
             ],
             [
              0.6666666666666666,
              "#ed7953"
             ],
             [
              0.7777777777777778,
              "#fb9f3a"
             ],
             [
              0.8888888888888888,
              "#fdca26"
             ],
             [
              1,
              "#f0f921"
             ]
            ],
            "type": "surface"
           }
          ],
          "table": [
           {
            "cells": {
             "fill": {
              "color": "#EBF0F8"
             },
             "line": {
              "color": "white"
             }
            },
            "header": {
             "fill": {
              "color": "#C8D4E3"
             },
             "line": {
              "color": "white"
             }
            },
            "type": "table"
           }
          ]
         },
         "layout": {
          "annotationdefaults": {
           "arrowcolor": "#2a3f5f",
           "arrowhead": 0,
           "arrowwidth": 1
          },
          "autotypenumbers": "strict",
          "coloraxis": {
           "colorbar": {
            "outlinewidth": 0,
            "ticks": ""
           }
          },
          "colorscale": {
           "diverging": [
            [
             0,
             "#8e0152"
            ],
            [
             0.1,
             "#c51b7d"
            ],
            [
             0.2,
             "#de77ae"
            ],
            [
             0.3,
             "#f1b6da"
            ],
            [
             0.4,
             "#fde0ef"
            ],
            [
             0.5,
             "#f7f7f7"
            ],
            [
             0.6,
             "#e6f5d0"
            ],
            [
             0.7,
             "#b8e186"
            ],
            [
             0.8,
             "#7fbc41"
            ],
            [
             0.9,
             "#4d9221"
            ],
            [
             1,
             "#276419"
            ]
           ],
           "sequential": [
            [
             0,
             "#0d0887"
            ],
            [
             0.1111111111111111,
             "#46039f"
            ],
            [
             0.2222222222222222,
             "#7201a8"
            ],
            [
             0.3333333333333333,
             "#9c179e"
            ],
            [
             0.4444444444444444,
             "#bd3786"
            ],
            [
             0.5555555555555556,
             "#d8576b"
            ],
            [
             0.6666666666666666,
             "#ed7953"
            ],
            [
             0.7777777777777778,
             "#fb9f3a"
            ],
            [
             0.8888888888888888,
             "#fdca26"
            ],
            [
             1,
             "#f0f921"
            ]
           ],
           "sequentialminus": [
            [
             0,
             "#0d0887"
            ],
            [
             0.1111111111111111,
             "#46039f"
            ],
            [
             0.2222222222222222,
             "#7201a8"
            ],
            [
             0.3333333333333333,
             "#9c179e"
            ],
            [
             0.4444444444444444,
             "#bd3786"
            ],
            [
             0.5555555555555556,
             "#d8576b"
            ],
            [
             0.6666666666666666,
             "#ed7953"
            ],
            [
             0.7777777777777778,
             "#fb9f3a"
            ],
            [
             0.8888888888888888,
             "#fdca26"
            ],
            [
             1,
             "#f0f921"
            ]
           ]
          },
          "colorway": [
           "#636efa",
           "#EF553B",
           "#00cc96",
           "#ab63fa",
           "#FFA15A",
           "#19d3f3",
           "#FF6692",
           "#B6E880",
           "#FF97FF",
           "#FECB52"
          ],
          "font": {
           "color": "#2a3f5f"
          },
          "geo": {
           "bgcolor": "white",
           "lakecolor": "white",
           "landcolor": "#E5ECF6",
           "showlakes": true,
           "showland": true,
           "subunitcolor": "white"
          },
          "hoverlabel": {
           "align": "left"
          },
          "hovermode": "closest",
          "mapbox": {
           "style": "light"
          },
          "paper_bgcolor": "white",
          "plot_bgcolor": "#E5ECF6",
          "polar": {
           "angularaxis": {
            "gridcolor": "white",
            "linecolor": "white",
            "ticks": ""
           },
           "bgcolor": "#E5ECF6",
           "radialaxis": {
            "gridcolor": "white",
            "linecolor": "white",
            "ticks": ""
           }
          },
          "scene": {
           "xaxis": {
            "backgroundcolor": "#E5ECF6",
            "gridcolor": "white",
            "gridwidth": 2,
            "linecolor": "white",
            "showbackground": true,
            "ticks": "",
            "zerolinecolor": "white"
           },
           "yaxis": {
            "backgroundcolor": "#E5ECF6",
            "gridcolor": "white",
            "gridwidth": 2,
            "linecolor": "white",
            "showbackground": true,
            "ticks": "",
            "zerolinecolor": "white"
           },
           "zaxis": {
            "backgroundcolor": "#E5ECF6",
            "gridcolor": "white",
            "gridwidth": 2,
            "linecolor": "white",
            "showbackground": true,
            "ticks": "",
            "zerolinecolor": "white"
           }
          },
          "shapedefaults": {
           "line": {
            "color": "#2a3f5f"
           }
          },
          "ternary": {
           "aaxis": {
            "gridcolor": "white",
            "linecolor": "white",
            "ticks": ""
           },
           "baxis": {
            "gridcolor": "white",
            "linecolor": "white",
            "ticks": ""
           },
           "bgcolor": "#E5ECF6",
           "caxis": {
            "gridcolor": "white",
            "linecolor": "white",
            "ticks": ""
           }
          },
          "title": {
           "x": 0.05
          },
          "xaxis": {
           "automargin": true,
           "gridcolor": "white",
           "linecolor": "white",
           "ticks": "",
           "title": {
            "standoff": 15
           },
           "zerolinecolor": "white",
           "zerolinewidth": 2
          },
          "yaxis": {
           "automargin": true,
           "gridcolor": "white",
           "linecolor": "white",
           "ticks": "",
           "title": {
            "standoff": 15
           },
           "zerolinecolor": "white",
           "zerolinewidth": 2
          }
         }
        },
        "title": {
         "font": {
          "color": "#4D5663"
         }
        },
        "xaxis": {
         "gridcolor": "#E1E5ED",
         "showgrid": true,
         "tickfont": {
          "color": "#4D5663"
         },
         "title": {
          "font": {
           "color": "#4D5663"
          },
          "text": ""
         },
         "zerolinecolor": "#E1E5ED"
        },
        "yaxis": {
         "gridcolor": "#E1E5ED",
         "showgrid": true,
         "tickfont": {
          "color": "#4D5663"
         },
         "title": {
          "font": {
           "color": "#4D5663"
          },
          "text": ""
         },
         "zerolinecolor": "#E1E5ED"
        }
       }
      },
      "text/html": [
       "<div>                            <div id=\"ecd3ab07-7e7b-435f-a02c-ade70ddd2b87\" class=\"plotly-graph-div\" style=\"height:525px; width:100%;\"></div>            <script type=\"text/javascript\">                require([\"plotly\"], function(Plotly) {                    window.PLOTLYENV=window.PLOTLYENV || {};\n",
       "                    window.PLOTLYENV.BASE_URL='https://plot.ly';                                    if (document.getElementById(\"ecd3ab07-7e7b-435f-a02c-ade70ddd2b87\")) {                    Plotly.newPlot(                        \"ecd3ab07-7e7b-435f-a02c-ade70ddd2b87\",                        [{\"histfunc\":\"count\",\"histnorm\":\"\",\"marker\":{\"color\":\"rgba(255, 153, 51, 1.0)\",\"line\":{\"color\":\"#4D5663\",\"width\":1.3}},\"name\":\"A\",\"nbinsx\":100,\"opacity\":0.8,\"orientation\":\"v\",\"x\":[1.384941095893982,-0.3647871044245467,-1.613377798789012,-0.12920481127577702,-0.6300029180423312,0.6955311102837984,-0.07774289928427856,-1.5481508917079352,0.3144299528461812,1.483756889675816,1.3631631851081898,0.3577161379182844,0.44425005373458687,-1.3026835005270772,0.8586317944028101,-0.12796403591939365,0.373209303997531,0.5869332431334456,0.4864253873475166,1.0756346615585344,-1.052001580878504,0.0906431802398545,1.0580572090375877,-0.9848808039026463,0.5513641846951675,1.1659210728519842,0.020314764012267873,0.3074031709948694,-0.23909296540380182,0.02171216478090794,-0.16254690733414418,-0.33711970357111226,0.8142846009651958,0.5807041935213351,1.517465474603419,2.64825109236516,0.9118993743273417,0.3344914818573978,-0.6980817050442862,-0.014535950295435083,-0.29814416383545383,-0.0017524875066887394,-1.1233972672402575,0.06762297707903585,-0.16466873420852687,-0.1795079343480467,-0.6751925963714834,2.006888382314444,-0.7838881243097859,0.9294115904771026,-1.058238874474584,0.6586637071443632,-0.37707299217026374,-0.13598986025585266,-1.4967184420595114,0.4153485006683915,0.24121216996263192,-3.092016438708254,-1.2219917686899848,0.8869662273854365,-1.0682780065598037,-1.2106122878269856,0.803250005443257,0.9877199560578738,-0.2258121665388722,0.13923967982184132,-0.22573522543316654,1.6171694614878647,0.5477551242136519,0.4420065170066808,0.06747036201760358,-1.641776468835695,-0.2876490151341459,0.3684314172007868,1.1306668046343704,-0.8340553638572694,0.6712547294009807,0.8197535903257653,0.2124039178122506,-0.5392633467972721,0.010110482279003876,0.958789971496834,-0.07020997545633594,0.33616891127553034,-0.3907482690955859,0.8806514736157832,0.31650766745412495,0.1448946459985747,0.27772853189609437,-0.4036166749778001,-0.2926052183646972,1.3491425878516692,-1.4689030081303354,1.43789556687664,-1.79323467847179,-0.17223590815000211,1.0094163974481396,-0.31501498808974,-0.3962647074563389,-2.0067551306542164],\"type\":\"histogram\"}],                        {\"barmode\":\"overlay\",\"legend\":{\"bgcolor\":\"#F5F6F9\",\"font\":{\"color\":\"#4D5663\"}},\"paper_bgcolor\":\"#F5F6F9\",\"plot_bgcolor\":\"#F5F6F9\",\"template\":{\"data\":{\"barpolar\":[{\"marker\":{\"line\":{\"color\":\"#E5ECF6\",\"width\":0.5},\"pattern\":{\"fillmode\":\"overlay\",\"size\":10,\"solidity\":0.2}},\"type\":\"barpolar\"}],\"bar\":[{\"error_x\":{\"color\":\"#2a3f5f\"},\"error_y\":{\"color\":\"#2a3f5f\"},\"marker\":{\"line\":{\"color\":\"#E5ECF6\",\"width\":0.5},\"pattern\":{\"fillmode\":\"overlay\",\"size\":10,\"solidity\":0.2}},\"type\":\"bar\"}],\"carpet\":[{\"aaxis\":{\"endlinecolor\":\"#2a3f5f\",\"gridcolor\":\"white\",\"linecolor\":\"white\",\"minorgridcolor\":\"white\",\"startlinecolor\":\"#2a3f5f\"},\"baxis\":{\"endlinecolor\":\"#2a3f5f\",\"gridcolor\":\"white\",\"linecolor\":\"white\",\"minorgridcolor\":\"white\",\"startlinecolor\":\"#2a3f5f\"},\"type\":\"carpet\"}],\"choropleth\":[{\"colorbar\":{\"outlinewidth\":0,\"ticks\":\"\"},\"type\":\"choropleth\"}],\"contourcarpet\":[{\"colorbar\":{\"outlinewidth\":0,\"ticks\":\"\"},\"type\":\"contourcarpet\"}],\"contour\":[{\"colorbar\":{\"outlinewidth\":0,\"ticks\":\"\"},\"colorscale\":[[0.0,\"#0d0887\"],[0.1111111111111111,\"#46039f\"],[0.2222222222222222,\"#7201a8\"],[0.3333333333333333,\"#9c179e\"],[0.4444444444444444,\"#bd3786\"],[0.5555555555555556,\"#d8576b\"],[0.6666666666666666,\"#ed7953\"],[0.7777777777777778,\"#fb9f3a\"],[0.8888888888888888,\"#fdca26\"],[1.0,\"#f0f921\"]],\"type\":\"contour\"}],\"heatmapgl\":[{\"colorbar\":{\"outlinewidth\":0,\"ticks\":\"\"},\"colorscale\":[[0.0,\"#0d0887\"],[0.1111111111111111,\"#46039f\"],[0.2222222222222222,\"#7201a8\"],[0.3333333333333333,\"#9c179e\"],[0.4444444444444444,\"#bd3786\"],[0.5555555555555556,\"#d8576b\"],[0.6666666666666666,\"#ed7953\"],[0.7777777777777778,\"#fb9f3a\"],[0.8888888888888888,\"#fdca26\"],[1.0,\"#f0f921\"]],\"type\":\"heatmapgl\"}],\"heatmap\":[{\"colorbar\":{\"outlinewidth\":0,\"ticks\":\"\"},\"colorscale\":[[0.0,\"#0d0887\"],[0.1111111111111111,\"#46039f\"],[0.2222222222222222,\"#7201a8\"],[0.3333333333333333,\"#9c179e\"],[0.4444444444444444,\"#bd3786\"],[0.5555555555555556,\"#d8576b\"],[0.6666666666666666,\"#ed7953\"],[0.7777777777777778,\"#fb9f3a\"],[0.8888888888888888,\"#fdca26\"],[1.0,\"#f0f921\"]],\"type\":\"heatmap\"}],\"histogram2dcontour\":[{\"colorbar\":{\"outlinewidth\":0,\"ticks\":\"\"},\"colorscale\":[[0.0,\"#0d0887\"],[0.1111111111111111,\"#46039f\"],[0.2222222222222222,\"#7201a8\"],[0.3333333333333333,\"#9c179e\"],[0.4444444444444444,\"#bd3786\"],[0.5555555555555556,\"#d8576b\"],[0.6666666666666666,\"#ed7953\"],[0.7777777777777778,\"#fb9f3a\"],[0.8888888888888888,\"#fdca26\"],[1.0,\"#f0f921\"]],\"type\":\"histogram2dcontour\"}],\"histogram2d\":[{\"colorbar\":{\"outlinewidth\":0,\"ticks\":\"\"},\"colorscale\":[[0.0,\"#0d0887\"],[0.1111111111111111,\"#46039f\"],[0.2222222222222222,\"#7201a8\"],[0.3333333333333333,\"#9c179e\"],[0.4444444444444444,\"#bd3786\"],[0.5555555555555556,\"#d8576b\"],[0.6666666666666666,\"#ed7953\"],[0.7777777777777778,\"#fb9f3a\"],[0.8888888888888888,\"#fdca26\"],[1.0,\"#f0f921\"]],\"type\":\"histogram2d\"}],\"histogram\":[{\"marker\":{\"pattern\":{\"fillmode\":\"overlay\",\"size\":10,\"solidity\":0.2}},\"type\":\"histogram\"}],\"mesh3d\":[{\"colorbar\":{\"outlinewidth\":0,\"ticks\":\"\"},\"type\":\"mesh3d\"}],\"parcoords\":[{\"line\":{\"colorbar\":{\"outlinewidth\":0,\"ticks\":\"\"}},\"type\":\"parcoords\"}],\"pie\":[{\"automargin\":true,\"type\":\"pie\"}],\"scatter3d\":[{\"line\":{\"colorbar\":{\"outlinewidth\":0,\"ticks\":\"\"}},\"marker\":{\"colorbar\":{\"outlinewidth\":0,\"ticks\":\"\"}},\"type\":\"scatter3d\"}],\"scattercarpet\":[{\"marker\":{\"colorbar\":{\"outlinewidth\":0,\"ticks\":\"\"}},\"type\":\"scattercarpet\"}],\"scattergeo\":[{\"marker\":{\"colorbar\":{\"outlinewidth\":0,\"ticks\":\"\"}},\"type\":\"scattergeo\"}],\"scattergl\":[{\"marker\":{\"colorbar\":{\"outlinewidth\":0,\"ticks\":\"\"}},\"type\":\"scattergl\"}],\"scattermapbox\":[{\"marker\":{\"colorbar\":{\"outlinewidth\":0,\"ticks\":\"\"}},\"type\":\"scattermapbox\"}],\"scatterpolargl\":[{\"marker\":{\"colorbar\":{\"outlinewidth\":0,\"ticks\":\"\"}},\"type\":\"scatterpolargl\"}],\"scatterpolar\":[{\"marker\":{\"colorbar\":{\"outlinewidth\":0,\"ticks\":\"\"}},\"type\":\"scatterpolar\"}],\"scatter\":[{\"marker\":{\"colorbar\":{\"outlinewidth\":0,\"ticks\":\"\"}},\"type\":\"scatter\"}],\"scatterternary\":[{\"marker\":{\"colorbar\":{\"outlinewidth\":0,\"ticks\":\"\"}},\"type\":\"scatterternary\"}],\"surface\":[{\"colorbar\":{\"outlinewidth\":0,\"ticks\":\"\"},\"colorscale\":[[0.0,\"#0d0887\"],[0.1111111111111111,\"#46039f\"],[0.2222222222222222,\"#7201a8\"],[0.3333333333333333,\"#9c179e\"],[0.4444444444444444,\"#bd3786\"],[0.5555555555555556,\"#d8576b\"],[0.6666666666666666,\"#ed7953\"],[0.7777777777777778,\"#fb9f3a\"],[0.8888888888888888,\"#fdca26\"],[1.0,\"#f0f921\"]],\"type\":\"surface\"}],\"table\":[{\"cells\":{\"fill\":{\"color\":\"#EBF0F8\"},\"line\":{\"color\":\"white\"}},\"header\":{\"fill\":{\"color\":\"#C8D4E3\"},\"line\":{\"color\":\"white\"}},\"type\":\"table\"}]},\"layout\":{\"annotationdefaults\":{\"arrowcolor\":\"#2a3f5f\",\"arrowhead\":0,\"arrowwidth\":1},\"autotypenumbers\":\"strict\",\"coloraxis\":{\"colorbar\":{\"outlinewidth\":0,\"ticks\":\"\"}},\"colorscale\":{\"diverging\":[[0,\"#8e0152\"],[0.1,\"#c51b7d\"],[0.2,\"#de77ae\"],[0.3,\"#f1b6da\"],[0.4,\"#fde0ef\"],[0.5,\"#f7f7f7\"],[0.6,\"#e6f5d0\"],[0.7,\"#b8e186\"],[0.8,\"#7fbc41\"],[0.9,\"#4d9221\"],[1,\"#276419\"]],\"sequential\":[[0.0,\"#0d0887\"],[0.1111111111111111,\"#46039f\"],[0.2222222222222222,\"#7201a8\"],[0.3333333333333333,\"#9c179e\"],[0.4444444444444444,\"#bd3786\"],[0.5555555555555556,\"#d8576b\"],[0.6666666666666666,\"#ed7953\"],[0.7777777777777778,\"#fb9f3a\"],[0.8888888888888888,\"#fdca26\"],[1.0,\"#f0f921\"]],\"sequentialminus\":[[0.0,\"#0d0887\"],[0.1111111111111111,\"#46039f\"],[0.2222222222222222,\"#7201a8\"],[0.3333333333333333,\"#9c179e\"],[0.4444444444444444,\"#bd3786\"],[0.5555555555555556,\"#d8576b\"],[0.6666666666666666,\"#ed7953\"],[0.7777777777777778,\"#fb9f3a\"],[0.8888888888888888,\"#fdca26\"],[1.0,\"#f0f921\"]]},\"colorway\":[\"#636efa\",\"#EF553B\",\"#00cc96\",\"#ab63fa\",\"#FFA15A\",\"#19d3f3\",\"#FF6692\",\"#B6E880\",\"#FF97FF\",\"#FECB52\"],\"font\":{\"color\":\"#2a3f5f\"},\"geo\":{\"bgcolor\":\"white\",\"lakecolor\":\"white\",\"landcolor\":\"#E5ECF6\",\"showlakes\":true,\"showland\":true,\"subunitcolor\":\"white\"},\"hoverlabel\":{\"align\":\"left\"},\"hovermode\":\"closest\",\"mapbox\":{\"style\":\"light\"},\"paper_bgcolor\":\"white\",\"plot_bgcolor\":\"#E5ECF6\",\"polar\":{\"angularaxis\":{\"gridcolor\":\"white\",\"linecolor\":\"white\",\"ticks\":\"\"},\"bgcolor\":\"#E5ECF6\",\"radialaxis\":{\"gridcolor\":\"white\",\"linecolor\":\"white\",\"ticks\":\"\"}},\"scene\":{\"xaxis\":{\"backgroundcolor\":\"#E5ECF6\",\"gridcolor\":\"white\",\"gridwidth\":2,\"linecolor\":\"white\",\"showbackground\":true,\"ticks\":\"\",\"zerolinecolor\":\"white\"},\"yaxis\":{\"backgroundcolor\":\"#E5ECF6\",\"gridcolor\":\"white\",\"gridwidth\":2,\"linecolor\":\"white\",\"showbackground\":true,\"ticks\":\"\",\"zerolinecolor\":\"white\"},\"zaxis\":{\"backgroundcolor\":\"#E5ECF6\",\"gridcolor\":\"white\",\"gridwidth\":2,\"linecolor\":\"white\",\"showbackground\":true,\"ticks\":\"\",\"zerolinecolor\":\"white\"}},\"shapedefaults\":{\"line\":{\"color\":\"#2a3f5f\"}},\"ternary\":{\"aaxis\":{\"gridcolor\":\"white\",\"linecolor\":\"white\",\"ticks\":\"\"},\"baxis\":{\"gridcolor\":\"white\",\"linecolor\":\"white\",\"ticks\":\"\"},\"bgcolor\":\"#E5ECF6\",\"caxis\":{\"gridcolor\":\"white\",\"linecolor\":\"white\",\"ticks\":\"\"}},\"title\":{\"x\":0.05},\"xaxis\":{\"automargin\":true,\"gridcolor\":\"white\",\"linecolor\":\"white\",\"ticks\":\"\",\"title\":{\"standoff\":15},\"zerolinecolor\":\"white\",\"zerolinewidth\":2},\"yaxis\":{\"automargin\":true,\"gridcolor\":\"white\",\"linecolor\":\"white\",\"ticks\":\"\",\"title\":{\"standoff\":15},\"zerolinecolor\":\"white\",\"zerolinewidth\":2}}},\"title\":{\"font\":{\"color\":\"#4D5663\"}},\"xaxis\":{\"gridcolor\":\"#E1E5ED\",\"showgrid\":true,\"tickfont\":{\"color\":\"#4D5663\"},\"title\":{\"font\":{\"color\":\"#4D5663\"},\"text\":\"\"},\"zerolinecolor\":\"#E1E5ED\"},\"yaxis\":{\"gridcolor\":\"#E1E5ED\",\"showgrid\":true,\"tickfont\":{\"color\":\"#4D5663\"},\"title\":{\"font\":{\"color\":\"#4D5663\"},\"text\":\"\"},\"zerolinecolor\":\"#E1E5ED\"}},                        {\"showLink\": true, \"linkText\": \"Export to plot.ly\", \"plotlyServerURL\": \"https://plot.ly\", \"responsive\": true}                    ).then(function(){\n",
       "                            \n",
       "var gd = document.getElementById('ecd3ab07-7e7b-435f-a02c-ade70ddd2b87');\n",
       "var x = new MutationObserver(function (mutations, observer) {{\n",
       "        var display = window.getComputedStyle(gd).display;\n",
       "        if (!display || display === 'none') {{\n",
       "            console.log([gd, 'removed!']);\n",
       "            Plotly.purge(gd);\n",
       "            observer.disconnect();\n",
       "        }}\n",
       "}});\n",
       "\n",
       "// Listen for the removal of the full notebook cells\n",
       "var notebookContainer = gd.closest('#notebook-container');\n",
       "if (notebookContainer) {{\n",
       "    x.observe(notebookContainer, {childList: true});\n",
       "}}\n",
       "\n",
       "// Listen for the clearing of the current output cell\n",
       "var outputEl = gd.closest('.output');\n",
       "if (outputEl) {{\n",
       "    x.observe(outputEl, {childList: true});\n",
       "}}\n",
       "\n",
       "                        })                };                });            </script>        </div>"
      ]
     },
     "metadata": {},
     "output_type": "display_data"
    }
   ],
   "source": [
    "df['A'].iplot(kind='hist',bins=100)"
   ]
  },
  {
   "cell_type": "code",
   "execution_count": 47,
   "id": "9593c9a2",
   "metadata": {},
   "outputs": [
    {
     "data": {
      "application/vnd.plotly.v1+json": {
       "config": {
        "linkText": "Export to plot.ly",
        "plotlyServerURL": "https://plot.ly",
        "showLink": true
       },
       "data": [
        {
         "histfunc": "count",
         "histnorm": "",
         "marker": {
          "color": "rgba(255, 153, 51, 1.0)",
          "line": {
           "color": "#4D5663",
           "width": 1.3
          }
         },
         "name": "A",
         "nbinsx": 100,
         "opacity": 0.8,
         "orientation": "v",
         "type": "histogram",
         "x": [
          1.384941095893982,
          -0.3647871044245467,
          -1.613377798789012,
          -0.12920481127577702,
          -0.6300029180423312,
          0.6955311102837984,
          -0.07774289928427856,
          -1.5481508917079352,
          0.3144299528461812,
          1.483756889675816,
          1.3631631851081898,
          0.3577161379182844,
          0.44425005373458687,
          -1.3026835005270772,
          0.8586317944028101,
          -0.12796403591939365,
          0.373209303997531,
          0.5869332431334456,
          0.4864253873475166,
          1.0756346615585344,
          -1.052001580878504,
          0.0906431802398545,
          1.0580572090375877,
          -0.9848808039026463,
          0.5513641846951675,
          1.1659210728519842,
          0.020314764012267873,
          0.3074031709948694,
          -0.23909296540380182,
          0.02171216478090794,
          -0.16254690733414418,
          -0.33711970357111226,
          0.8142846009651958,
          0.5807041935213351,
          1.517465474603419,
          2.64825109236516,
          0.9118993743273417,
          0.3344914818573978,
          -0.6980817050442862,
          -0.014535950295435083,
          -0.29814416383545383,
          -0.0017524875066887394,
          -1.1233972672402575,
          0.06762297707903585,
          -0.16466873420852687,
          -0.1795079343480467,
          -0.6751925963714834,
          2.006888382314444,
          -0.7838881243097859,
          0.9294115904771026,
          -1.058238874474584,
          0.6586637071443632,
          -0.37707299217026374,
          -0.13598986025585266,
          -1.4967184420595114,
          0.4153485006683915,
          0.24121216996263192,
          -3.092016438708254,
          -1.2219917686899848,
          0.8869662273854365,
          -1.0682780065598037,
          -1.2106122878269856,
          0.803250005443257,
          0.9877199560578738,
          -0.2258121665388722,
          0.13923967982184132,
          -0.22573522543316654,
          1.6171694614878647,
          0.5477551242136519,
          0.4420065170066808,
          0.06747036201760358,
          -1.641776468835695,
          -0.2876490151341459,
          0.3684314172007868,
          1.1306668046343704,
          -0.8340553638572694,
          0.6712547294009807,
          0.8197535903257653,
          0.2124039178122506,
          -0.5392633467972721,
          0.010110482279003876,
          0.958789971496834,
          -0.07020997545633594,
          0.33616891127553034,
          -0.3907482690955859,
          0.8806514736157832,
          0.31650766745412495,
          0.1448946459985747,
          0.27772853189609437,
          -0.4036166749778001,
          -0.2926052183646972,
          1.3491425878516692,
          -1.4689030081303354,
          1.43789556687664,
          -1.79323467847179,
          -0.17223590815000211,
          1.0094163974481396,
          -0.31501498808974,
          -0.3962647074563389,
          -2.0067551306542164
         ]
        },
        {
         "histfunc": "count",
         "histnorm": "",
         "marker": {
          "color": "rgba(55, 128, 191, 1.0)",
          "line": {
           "color": "#4D5663",
           "width": 1.3
          }
         },
         "name": "B",
         "nbinsx": 100,
         "opacity": 0.8,
         "orientation": "v",
         "type": "histogram",
         "x": [
          -0.11794573212984044,
          1.2697792200547326,
          -2.1676156275817493,
          -0.24857109473288877,
          0.40460693442474416,
          1.6139280285149076,
          0.2360306035442598,
          -0.22602808881920358,
          0.057142677471569564,
          -0.7772782408575107,
          0.9429237937088079,
          0.20523204088664526,
          -0.7154259155847406,
          1.1964788967171962,
          1.1522379793062072,
          0.8376926086136763,
          1.3857641285531264,
          -1.2374578036932693,
          -1.7210512496642552,
          -0.2495034317564669,
          0.549318005327426,
          -1.1113590661117567,
          -1.4100862237170253,
          0.9532142588336986,
          -0.5315758547787328,
          0.026876504527802447,
          1.475296799480042,
          -0.05540255585344138,
          0.9422840651588723,
          -1.8656941194067982,
          0.7869650084081312,
          1.405011375883612,
          2.255057549388606,
          0.1462871105740621,
          -2.1847079312579747,
          -1.161172611275934,
          0.6196167217877991,
          0.11183036629305333,
          -0.05854992899036618,
          0.5065278797161682,
          0.175142247004244,
          1.095194809193081,
          2.6837799095371384,
          -0.012627706308564711,
          0.9660921024626176,
          0.6886580320242333,
          -1.0591087700884958,
          0.1104364113543046,
          2.372207831365576,
          -0.8860199351161889,
          1.086165799454149,
          -0.8626755672497495,
          -0.06868432104132013,
          -0.7200816182896868,
          0.4188150947497825,
          0.4228561041113086,
          -0.698445960962204,
          -0.6988310924554466,
          -0.6658491938730066,
          0.2958846261817548,
          -0.3507001784507818,
          0.647173773145682,
          -1.2328387228246311,
          1.0459553224352556,
          0.1231502442460987,
          0.6522703753362419,
          1.3888130593209138,
          0.10676669523311827,
          -1.8282146343099823,
          -0.9934128961933868,
          0.0391113792741524,
          -0.8611094358006953,
          0.41413313956819325,
          -1.4101986910835675,
          1.815049449469626,
          0.9231752547232016,
          0.17927969270330754,
          1.3991110254560424,
          -0.22439988703791916,
          -0.9325281027769723,
          1.434972285835641,
          0.41293299829143254,
          0.22260783277251583,
          -0.6284887586125657,
          -0.04186487356009881,
          -0.4049849380508509,
          1.0931210510758536,
          -0.9357279986842723,
          -0.8187865619869552,
          -2.177802400994987,
          0.38835428050347276,
          -0.138536009177223,
          1.3287017218425048,
          2.193100689061061,
          2.7502259232461843,
          -1.4807074423373137,
          0.27064831548673124,
          0.034154607417923276,
          -0.2738508186098899,
          -0.5388356081283091
         ]
        },
        {
         "histfunc": "count",
         "histnorm": "",
         "marker": {
          "color": "rgba(50, 171, 96, 1.0)",
          "line": {
           "color": "#4D5663",
           "width": 1.3
          }
         },
         "name": "C",
         "nbinsx": 100,
         "opacity": 0.8,
         "orientation": "v",
         "type": "histogram",
         "x": [
          1.9401484848174453,
          -1.2397331297731549,
          -1.018675973013534,
          -0.33547878047215196,
          -1.3699549380833393,
          1.3810263767929065,
          0.7721843153431419,
          -0.7722237296090372,
          0.8486180756818512,
          1.7440433826405037,
          -0.08001824533932232,
          2.0661183345020007,
          0.04572602069072565,
          -1.0819021945413614,
          0.009085452996414885,
          -0.9878765751184702,
          0.37075917857625,
          0.25437485137637955,
          1.1841266827114045,
          -1.1453249365393527,
          0.5857775601891346,
          0.8710303685429346,
          -0.024783030100748008,
          0.6150492408405598,
          1.4716652952158042,
          -0.46758776423255266,
          -0.1588164476426438,
          -0.30304520129019064,
          -0.390934590087459,
          -0.24233821807824782,
          -0.8688043843960509,
          2.1365140455407627,
          0.4390931231504873,
          -1.4893614799515036,
          -2.4386452322949346,
          -1.1422505213045908,
          -1.4149163539103322,
          -0.013994673048110981,
          -2.034223797662766,
          1.4253019420988005,
          -2.0632544066807643,
          0.6996640900505026,
          0.5166100297666383,
          -1.071532965949633,
          -0.9051225166232557,
          -0.7934178460696767,
          -0.8224502512549449,
          0.15493335662541116,
          0.39500230090794575,
          0.8857418121756081,
          0.32000079106086377,
          -0.008234679363814059,
          0.49444038047693045,
          -0.7121015253712025,
          0.11159926839694684,
          -0.6397544473062552,
          -0.6297012892092753,
          -0.14708147193593385,
          -1.831759802918478,
          -1.132317223629694,
          0.8300459562443999,
          -0.5768572815494716,
          0.7256517351358649,
          0.315413301407352,
          0.2568963021893039,
          0.27725859353110416,
          -0.13520879790699447,
          -0.5648419203108074,
          -2.954018487536646,
          -0.940562870249268,
          -1.2466882336102456,
          -0.8033234119044046,
          0.26439271338445264,
          -0.21474918616508726,
          -0.39167546554283417,
          0.11783823012584817,
          -0.46125483724851585,
          1.328839452652975,
          3.1635328556243794,
          0.1034546363343562,
          -1.260959363985953,
          1.2107659875753456,
          1.3089355281014505,
          -0.08791413108196387,
          -0.3599472537742511,
          1.980076893144827,
          0.3797782251011386,
          -1.7519402263507402,
          -0.7082770903572351,
          -0.15113155411961024,
          0.43962501015970173,
          -0.20895860876046474,
          0.5546753479330597,
          0.1782227202309211,
          1.7531082352203122,
          -0.7415829058805974,
          -0.6266777912851297,
          0.6640612063767465,
          0.41009329778209624,
          0.6915880772218923
         ]
        },
        {
         "histfunc": "count",
         "histnorm": "",
         "marker": {
          "color": "rgba(128, 0, 128, 1.0)",
          "line": {
           "color": "#4D5663",
           "width": 1.3
          }
         },
         "name": "D",
         "nbinsx": 100,
         "opacity": 0.8,
         "orientation": "v",
         "type": "histogram",
         "x": [
          -0.232607190972093,
          -0.10745682172545627,
          0.7301665782338982,
          -0.8086553985085576,
          -0.3808934345748271,
          -0.49728208115444156,
          -1.143202283557806,
          -0.00924216908427607,
          -0.5762292058604443,
          1.8107409045922969,
          -0.6429151459186503,
          -2.037122862243596,
          -1.1833441828811444,
          -0.2798311937972491,
          -2.3309295348858714,
          -1.181839359370192,
          0.9880300418287801,
          0.8556429383351365,
          1.1693382981537819,
          -1.3808702075475496,
          -0.18309447973892146,
          0.8438897509043974,
          1.581060734608897,
          -0.3596068422236975,
          0.13079908839655863,
          2.2113961251101677,
          -0.36346947498616455,
          -0.6800940270845436,
          1.1187059400934791,
          1.1043099757023331,
          -0.6823882796178447,
          -1.10897733367768,
          -1.6084453760231952,
          0.6398458111237544,
          -2.141650215025133,
          -0.629848221432961,
          -1.3459166652575534,
          0.9192082959941965,
          -0.5172725131310544,
          -0.8588962555419287,
          -0.09863404903046664,
          -1.804389501103032,
          -0.9593821912233614,
          1.0241520629708463,
          -0.6603271986227551,
          -0.26588194329921705,
          0.004759080754978136,
          0.34865477211306106,
          -0.3448425950988407,
          0.7842889066349303,
          1.3925201197443657,
          -0.3594709526907821,
          1.0618973955064497,
          0.14680351808446498,
          -1.7515468410520656,
          -0.6135423107048211,
          -0.9575148475814658,
          1.572687835401607,
          1.5922959327473496,
          1.2073779390002217,
          -0.36322906421417334,
          -2.0688991515179,
          1.1871757251508457,
          2.557928207241564,
          -0.1451521867356024,
          1.0728316273159937,
          0.5540363273931462,
          -0.8189397303937418,
          -0.2991846022135686,
          -0.5589151651974367,
          -1.5852563314699741,
          -1.0250545535826507,
          -0.7307299175017817,
          -1.7498252041560964,
          -1.7707723082582265,
          -0.10650969392090688,
          -1.4960048164865472,
          0.9058747618060715,
          -1.365560984520852,
          -0.5567782956347211,
          1.3349620404090474,
          -0.9921533022298292,
          -1.8561767161985299,
          -1.6961557334052646,
          0.26087038337192237,
          -1.087077580151142,
          -0.7672263733059088,
          -1.3359037825120874,
          -1.6155450718347866,
          -0.14483939598188197,
          0.4677086656212009,
          -0.35371284765311806,
          0.907492357905892,
          -0.39278850620491024,
          1.430034099034796,
          -0.1159178226728583,
          -0.8399729920788126,
          0.6935514209462399,
          -1.1970166117060872,
          -0.8287646619103597
         ]
        }
       ],
       "layout": {
        "barmode": "overlay",
        "legend": {
         "bgcolor": "#F5F6F9",
         "font": {
          "color": "#4D5663"
         }
        },
        "paper_bgcolor": "#F5F6F9",
        "plot_bgcolor": "#F5F6F9",
        "template": {
         "data": {
          "bar": [
           {
            "error_x": {
             "color": "#2a3f5f"
            },
            "error_y": {
             "color": "#2a3f5f"
            },
            "marker": {
             "line": {
              "color": "#E5ECF6",
              "width": 0.5
             },
             "pattern": {
              "fillmode": "overlay",
              "size": 10,
              "solidity": 0.2
             }
            },
            "type": "bar"
           }
          ],
          "barpolar": [
           {
            "marker": {
             "line": {
              "color": "#E5ECF6",
              "width": 0.5
             },
             "pattern": {
              "fillmode": "overlay",
              "size": 10,
              "solidity": 0.2
             }
            },
            "type": "barpolar"
           }
          ],
          "carpet": [
           {
            "aaxis": {
             "endlinecolor": "#2a3f5f",
             "gridcolor": "white",
             "linecolor": "white",
             "minorgridcolor": "white",
             "startlinecolor": "#2a3f5f"
            },
            "baxis": {
             "endlinecolor": "#2a3f5f",
             "gridcolor": "white",
             "linecolor": "white",
             "minorgridcolor": "white",
             "startlinecolor": "#2a3f5f"
            },
            "type": "carpet"
           }
          ],
          "choropleth": [
           {
            "colorbar": {
             "outlinewidth": 0,
             "ticks": ""
            },
            "type": "choropleth"
           }
          ],
          "contour": [
           {
            "colorbar": {
             "outlinewidth": 0,
             "ticks": ""
            },
            "colorscale": [
             [
              0,
              "#0d0887"
             ],
             [
              0.1111111111111111,
              "#46039f"
             ],
             [
              0.2222222222222222,
              "#7201a8"
             ],
             [
              0.3333333333333333,
              "#9c179e"
             ],
             [
              0.4444444444444444,
              "#bd3786"
             ],
             [
              0.5555555555555556,
              "#d8576b"
             ],
             [
              0.6666666666666666,
              "#ed7953"
             ],
             [
              0.7777777777777778,
              "#fb9f3a"
             ],
             [
              0.8888888888888888,
              "#fdca26"
             ],
             [
              1,
              "#f0f921"
             ]
            ],
            "type": "contour"
           }
          ],
          "contourcarpet": [
           {
            "colorbar": {
             "outlinewidth": 0,
             "ticks": ""
            },
            "type": "contourcarpet"
           }
          ],
          "heatmap": [
           {
            "colorbar": {
             "outlinewidth": 0,
             "ticks": ""
            },
            "colorscale": [
             [
              0,
              "#0d0887"
             ],
             [
              0.1111111111111111,
              "#46039f"
             ],
             [
              0.2222222222222222,
              "#7201a8"
             ],
             [
              0.3333333333333333,
              "#9c179e"
             ],
             [
              0.4444444444444444,
              "#bd3786"
             ],
             [
              0.5555555555555556,
              "#d8576b"
             ],
             [
              0.6666666666666666,
              "#ed7953"
             ],
             [
              0.7777777777777778,
              "#fb9f3a"
             ],
             [
              0.8888888888888888,
              "#fdca26"
             ],
             [
              1,
              "#f0f921"
             ]
            ],
            "type": "heatmap"
           }
          ],
          "heatmapgl": [
           {
            "colorbar": {
             "outlinewidth": 0,
             "ticks": ""
            },
            "colorscale": [
             [
              0,
              "#0d0887"
             ],
             [
              0.1111111111111111,
              "#46039f"
             ],
             [
              0.2222222222222222,
              "#7201a8"
             ],
             [
              0.3333333333333333,
              "#9c179e"
             ],
             [
              0.4444444444444444,
              "#bd3786"
             ],
             [
              0.5555555555555556,
              "#d8576b"
             ],
             [
              0.6666666666666666,
              "#ed7953"
             ],
             [
              0.7777777777777778,
              "#fb9f3a"
             ],
             [
              0.8888888888888888,
              "#fdca26"
             ],
             [
              1,
              "#f0f921"
             ]
            ],
            "type": "heatmapgl"
           }
          ],
          "histogram": [
           {
            "marker": {
             "pattern": {
              "fillmode": "overlay",
              "size": 10,
              "solidity": 0.2
             }
            },
            "type": "histogram"
           }
          ],
          "histogram2d": [
           {
            "colorbar": {
             "outlinewidth": 0,
             "ticks": ""
            },
            "colorscale": [
             [
              0,
              "#0d0887"
             ],
             [
              0.1111111111111111,
              "#46039f"
             ],
             [
              0.2222222222222222,
              "#7201a8"
             ],
             [
              0.3333333333333333,
              "#9c179e"
             ],
             [
              0.4444444444444444,
              "#bd3786"
             ],
             [
              0.5555555555555556,
              "#d8576b"
             ],
             [
              0.6666666666666666,
              "#ed7953"
             ],
             [
              0.7777777777777778,
              "#fb9f3a"
             ],
             [
              0.8888888888888888,
              "#fdca26"
             ],
             [
              1,
              "#f0f921"
             ]
            ],
            "type": "histogram2d"
           }
          ],
          "histogram2dcontour": [
           {
            "colorbar": {
             "outlinewidth": 0,
             "ticks": ""
            },
            "colorscale": [
             [
              0,
              "#0d0887"
             ],
             [
              0.1111111111111111,
              "#46039f"
             ],
             [
              0.2222222222222222,
              "#7201a8"
             ],
             [
              0.3333333333333333,
              "#9c179e"
             ],
             [
              0.4444444444444444,
              "#bd3786"
             ],
             [
              0.5555555555555556,
              "#d8576b"
             ],
             [
              0.6666666666666666,
              "#ed7953"
             ],
             [
              0.7777777777777778,
              "#fb9f3a"
             ],
             [
              0.8888888888888888,
              "#fdca26"
             ],
             [
              1,
              "#f0f921"
             ]
            ],
            "type": "histogram2dcontour"
           }
          ],
          "mesh3d": [
           {
            "colorbar": {
             "outlinewidth": 0,
             "ticks": ""
            },
            "type": "mesh3d"
           }
          ],
          "parcoords": [
           {
            "line": {
             "colorbar": {
              "outlinewidth": 0,
              "ticks": ""
             }
            },
            "type": "parcoords"
           }
          ],
          "pie": [
           {
            "automargin": true,
            "type": "pie"
           }
          ],
          "scatter": [
           {
            "marker": {
             "colorbar": {
              "outlinewidth": 0,
              "ticks": ""
             }
            },
            "type": "scatter"
           }
          ],
          "scatter3d": [
           {
            "line": {
             "colorbar": {
              "outlinewidth": 0,
              "ticks": ""
             }
            },
            "marker": {
             "colorbar": {
              "outlinewidth": 0,
              "ticks": ""
             }
            },
            "type": "scatter3d"
           }
          ],
          "scattercarpet": [
           {
            "marker": {
             "colorbar": {
              "outlinewidth": 0,
              "ticks": ""
             }
            },
            "type": "scattercarpet"
           }
          ],
          "scattergeo": [
           {
            "marker": {
             "colorbar": {
              "outlinewidth": 0,
              "ticks": ""
             }
            },
            "type": "scattergeo"
           }
          ],
          "scattergl": [
           {
            "marker": {
             "colorbar": {
              "outlinewidth": 0,
              "ticks": ""
             }
            },
            "type": "scattergl"
           }
          ],
          "scattermapbox": [
           {
            "marker": {
             "colorbar": {
              "outlinewidth": 0,
              "ticks": ""
             }
            },
            "type": "scattermapbox"
           }
          ],
          "scatterpolar": [
           {
            "marker": {
             "colorbar": {
              "outlinewidth": 0,
              "ticks": ""
             }
            },
            "type": "scatterpolar"
           }
          ],
          "scatterpolargl": [
           {
            "marker": {
             "colorbar": {
              "outlinewidth": 0,
              "ticks": ""
             }
            },
            "type": "scatterpolargl"
           }
          ],
          "scatterternary": [
           {
            "marker": {
             "colorbar": {
              "outlinewidth": 0,
              "ticks": ""
             }
            },
            "type": "scatterternary"
           }
          ],
          "surface": [
           {
            "colorbar": {
             "outlinewidth": 0,
             "ticks": ""
            },
            "colorscale": [
             [
              0,
              "#0d0887"
             ],
             [
              0.1111111111111111,
              "#46039f"
             ],
             [
              0.2222222222222222,
              "#7201a8"
             ],
             [
              0.3333333333333333,
              "#9c179e"
             ],
             [
              0.4444444444444444,
              "#bd3786"
             ],
             [
              0.5555555555555556,
              "#d8576b"
             ],
             [
              0.6666666666666666,
              "#ed7953"
             ],
             [
              0.7777777777777778,
              "#fb9f3a"
             ],
             [
              0.8888888888888888,
              "#fdca26"
             ],
             [
              1,
              "#f0f921"
             ]
            ],
            "type": "surface"
           }
          ],
          "table": [
           {
            "cells": {
             "fill": {
              "color": "#EBF0F8"
             },
             "line": {
              "color": "white"
             }
            },
            "header": {
             "fill": {
              "color": "#C8D4E3"
             },
             "line": {
              "color": "white"
             }
            },
            "type": "table"
           }
          ]
         },
         "layout": {
          "annotationdefaults": {
           "arrowcolor": "#2a3f5f",
           "arrowhead": 0,
           "arrowwidth": 1
          },
          "autotypenumbers": "strict",
          "coloraxis": {
           "colorbar": {
            "outlinewidth": 0,
            "ticks": ""
           }
          },
          "colorscale": {
           "diverging": [
            [
             0,
             "#8e0152"
            ],
            [
             0.1,
             "#c51b7d"
            ],
            [
             0.2,
             "#de77ae"
            ],
            [
             0.3,
             "#f1b6da"
            ],
            [
             0.4,
             "#fde0ef"
            ],
            [
             0.5,
             "#f7f7f7"
            ],
            [
             0.6,
             "#e6f5d0"
            ],
            [
             0.7,
             "#b8e186"
            ],
            [
             0.8,
             "#7fbc41"
            ],
            [
             0.9,
             "#4d9221"
            ],
            [
             1,
             "#276419"
            ]
           ],
           "sequential": [
            [
             0,
             "#0d0887"
            ],
            [
             0.1111111111111111,
             "#46039f"
            ],
            [
             0.2222222222222222,
             "#7201a8"
            ],
            [
             0.3333333333333333,
             "#9c179e"
            ],
            [
             0.4444444444444444,
             "#bd3786"
            ],
            [
             0.5555555555555556,
             "#d8576b"
            ],
            [
             0.6666666666666666,
             "#ed7953"
            ],
            [
             0.7777777777777778,
             "#fb9f3a"
            ],
            [
             0.8888888888888888,
             "#fdca26"
            ],
            [
             1,
             "#f0f921"
            ]
           ],
           "sequentialminus": [
            [
             0,
             "#0d0887"
            ],
            [
             0.1111111111111111,
             "#46039f"
            ],
            [
             0.2222222222222222,
             "#7201a8"
            ],
            [
             0.3333333333333333,
             "#9c179e"
            ],
            [
             0.4444444444444444,
             "#bd3786"
            ],
            [
             0.5555555555555556,
             "#d8576b"
            ],
            [
             0.6666666666666666,
             "#ed7953"
            ],
            [
             0.7777777777777778,
             "#fb9f3a"
            ],
            [
             0.8888888888888888,
             "#fdca26"
            ],
            [
             1,
             "#f0f921"
            ]
           ]
          },
          "colorway": [
           "#636efa",
           "#EF553B",
           "#00cc96",
           "#ab63fa",
           "#FFA15A",
           "#19d3f3",
           "#FF6692",
           "#B6E880",
           "#FF97FF",
           "#FECB52"
          ],
          "font": {
           "color": "#2a3f5f"
          },
          "geo": {
           "bgcolor": "white",
           "lakecolor": "white",
           "landcolor": "#E5ECF6",
           "showlakes": true,
           "showland": true,
           "subunitcolor": "white"
          },
          "hoverlabel": {
           "align": "left"
          },
          "hovermode": "closest",
          "mapbox": {
           "style": "light"
          },
          "paper_bgcolor": "white",
          "plot_bgcolor": "#E5ECF6",
          "polar": {
           "angularaxis": {
            "gridcolor": "white",
            "linecolor": "white",
            "ticks": ""
           },
           "bgcolor": "#E5ECF6",
           "radialaxis": {
            "gridcolor": "white",
            "linecolor": "white",
            "ticks": ""
           }
          },
          "scene": {
           "xaxis": {
            "backgroundcolor": "#E5ECF6",
            "gridcolor": "white",
            "gridwidth": 2,
            "linecolor": "white",
            "showbackground": true,
            "ticks": "",
            "zerolinecolor": "white"
           },
           "yaxis": {
            "backgroundcolor": "#E5ECF6",
            "gridcolor": "white",
            "gridwidth": 2,
            "linecolor": "white",
            "showbackground": true,
            "ticks": "",
            "zerolinecolor": "white"
           },
           "zaxis": {
            "backgroundcolor": "#E5ECF6",
            "gridcolor": "white",
            "gridwidth": 2,
            "linecolor": "white",
            "showbackground": true,
            "ticks": "",
            "zerolinecolor": "white"
           }
          },
          "shapedefaults": {
           "line": {
            "color": "#2a3f5f"
           }
          },
          "ternary": {
           "aaxis": {
            "gridcolor": "white",
            "linecolor": "white",
            "ticks": ""
           },
           "baxis": {
            "gridcolor": "white",
            "linecolor": "white",
            "ticks": ""
           },
           "bgcolor": "#E5ECF6",
           "caxis": {
            "gridcolor": "white",
            "linecolor": "white",
            "ticks": ""
           }
          },
          "title": {
           "x": 0.05
          },
          "xaxis": {
           "automargin": true,
           "gridcolor": "white",
           "linecolor": "white",
           "ticks": "",
           "title": {
            "standoff": 15
           },
           "zerolinecolor": "white",
           "zerolinewidth": 2
          },
          "yaxis": {
           "automargin": true,
           "gridcolor": "white",
           "linecolor": "white",
           "ticks": "",
           "title": {
            "standoff": 15
           },
           "zerolinecolor": "white",
           "zerolinewidth": 2
          }
         }
        },
        "title": {
         "font": {
          "color": "#4D5663"
         }
        },
        "xaxis": {
         "gridcolor": "#E1E5ED",
         "showgrid": true,
         "tickfont": {
          "color": "#4D5663"
         },
         "title": {
          "font": {
           "color": "#4D5663"
          },
          "text": ""
         },
         "zerolinecolor": "#E1E5ED"
        },
        "yaxis": {
         "gridcolor": "#E1E5ED",
         "showgrid": true,
         "tickfont": {
          "color": "#4D5663"
         },
         "title": {
          "font": {
           "color": "#4D5663"
          },
          "text": ""
         },
         "zerolinecolor": "#E1E5ED"
        }
       }
      },
      "text/html": [
       "<div>                            <div id=\"f073b4c8-2e29-48bc-91f9-b4fbd5c57e23\" class=\"plotly-graph-div\" style=\"height:525px; width:100%;\"></div>            <script type=\"text/javascript\">                require([\"plotly\"], function(Plotly) {                    window.PLOTLYENV=window.PLOTLYENV || {};\n",
       "                    window.PLOTLYENV.BASE_URL='https://plot.ly';                                    if (document.getElementById(\"f073b4c8-2e29-48bc-91f9-b4fbd5c57e23\")) {                    Plotly.newPlot(                        \"f073b4c8-2e29-48bc-91f9-b4fbd5c57e23\",                        [{\"histfunc\":\"count\",\"histnorm\":\"\",\"marker\":{\"color\":\"rgba(255, 153, 51, 1.0)\",\"line\":{\"color\":\"#4D5663\",\"width\":1.3}},\"name\":\"A\",\"nbinsx\":100,\"opacity\":0.8,\"orientation\":\"v\",\"x\":[1.384941095893982,-0.3647871044245467,-1.613377798789012,-0.12920481127577702,-0.6300029180423312,0.6955311102837984,-0.07774289928427856,-1.5481508917079352,0.3144299528461812,1.483756889675816,1.3631631851081898,0.3577161379182844,0.44425005373458687,-1.3026835005270772,0.8586317944028101,-0.12796403591939365,0.373209303997531,0.5869332431334456,0.4864253873475166,1.0756346615585344,-1.052001580878504,0.0906431802398545,1.0580572090375877,-0.9848808039026463,0.5513641846951675,1.1659210728519842,0.020314764012267873,0.3074031709948694,-0.23909296540380182,0.02171216478090794,-0.16254690733414418,-0.33711970357111226,0.8142846009651958,0.5807041935213351,1.517465474603419,2.64825109236516,0.9118993743273417,0.3344914818573978,-0.6980817050442862,-0.014535950295435083,-0.29814416383545383,-0.0017524875066887394,-1.1233972672402575,0.06762297707903585,-0.16466873420852687,-0.1795079343480467,-0.6751925963714834,2.006888382314444,-0.7838881243097859,0.9294115904771026,-1.058238874474584,0.6586637071443632,-0.37707299217026374,-0.13598986025585266,-1.4967184420595114,0.4153485006683915,0.24121216996263192,-3.092016438708254,-1.2219917686899848,0.8869662273854365,-1.0682780065598037,-1.2106122878269856,0.803250005443257,0.9877199560578738,-0.2258121665388722,0.13923967982184132,-0.22573522543316654,1.6171694614878647,0.5477551242136519,0.4420065170066808,0.06747036201760358,-1.641776468835695,-0.2876490151341459,0.3684314172007868,1.1306668046343704,-0.8340553638572694,0.6712547294009807,0.8197535903257653,0.2124039178122506,-0.5392633467972721,0.010110482279003876,0.958789971496834,-0.07020997545633594,0.33616891127553034,-0.3907482690955859,0.8806514736157832,0.31650766745412495,0.1448946459985747,0.27772853189609437,-0.4036166749778001,-0.2926052183646972,1.3491425878516692,-1.4689030081303354,1.43789556687664,-1.79323467847179,-0.17223590815000211,1.0094163974481396,-0.31501498808974,-0.3962647074563389,-2.0067551306542164],\"type\":\"histogram\"},{\"histfunc\":\"count\",\"histnorm\":\"\",\"marker\":{\"color\":\"rgba(55, 128, 191, 1.0)\",\"line\":{\"color\":\"#4D5663\",\"width\":1.3}},\"name\":\"B\",\"nbinsx\":100,\"opacity\":0.8,\"orientation\":\"v\",\"x\":[-0.11794573212984044,1.2697792200547326,-2.1676156275817493,-0.24857109473288877,0.40460693442474416,1.6139280285149076,0.2360306035442598,-0.22602808881920358,0.057142677471569564,-0.7772782408575107,0.9429237937088079,0.20523204088664526,-0.7154259155847406,1.1964788967171962,1.1522379793062072,0.8376926086136763,1.3857641285531264,-1.2374578036932693,-1.7210512496642552,-0.2495034317564669,0.549318005327426,-1.1113590661117567,-1.4100862237170253,0.9532142588336986,-0.5315758547787328,0.026876504527802447,1.475296799480042,-0.05540255585344138,0.9422840651588723,-1.8656941194067982,0.7869650084081312,1.405011375883612,2.255057549388606,0.1462871105740621,-2.1847079312579747,-1.161172611275934,0.6196167217877991,0.11183036629305333,-0.05854992899036618,0.5065278797161682,0.175142247004244,1.095194809193081,2.6837799095371384,-0.012627706308564711,0.9660921024626176,0.6886580320242333,-1.0591087700884958,0.1104364113543046,2.372207831365576,-0.8860199351161889,1.086165799454149,-0.8626755672497495,-0.06868432104132013,-0.7200816182896868,0.4188150947497825,0.4228561041113086,-0.698445960962204,-0.6988310924554466,-0.6658491938730066,0.2958846261817548,-0.3507001784507818,0.647173773145682,-1.2328387228246311,1.0459553224352556,0.1231502442460987,0.6522703753362419,1.3888130593209138,0.10676669523311827,-1.8282146343099823,-0.9934128961933868,0.0391113792741524,-0.8611094358006953,0.41413313956819325,-1.4101986910835675,1.815049449469626,0.9231752547232016,0.17927969270330754,1.3991110254560424,-0.22439988703791916,-0.9325281027769723,1.434972285835641,0.41293299829143254,0.22260783277251583,-0.6284887586125657,-0.04186487356009881,-0.4049849380508509,1.0931210510758536,-0.9357279986842723,-0.8187865619869552,-2.177802400994987,0.38835428050347276,-0.138536009177223,1.3287017218425048,2.193100689061061,2.7502259232461843,-1.4807074423373137,0.27064831548673124,0.034154607417923276,-0.2738508186098899,-0.5388356081283091],\"type\":\"histogram\"},{\"histfunc\":\"count\",\"histnorm\":\"\",\"marker\":{\"color\":\"rgba(50, 171, 96, 1.0)\",\"line\":{\"color\":\"#4D5663\",\"width\":1.3}},\"name\":\"C\",\"nbinsx\":100,\"opacity\":0.8,\"orientation\":\"v\",\"x\":[1.9401484848174453,-1.2397331297731549,-1.018675973013534,-0.33547878047215196,-1.3699549380833393,1.3810263767929065,0.7721843153431419,-0.7722237296090372,0.8486180756818512,1.7440433826405037,-0.08001824533932232,2.0661183345020007,0.04572602069072565,-1.0819021945413614,0.009085452996414885,-0.9878765751184702,0.37075917857625,0.25437485137637955,1.1841266827114045,-1.1453249365393527,0.5857775601891346,0.8710303685429346,-0.024783030100748008,0.6150492408405598,1.4716652952158042,-0.46758776423255266,-0.1588164476426438,-0.30304520129019064,-0.390934590087459,-0.24233821807824782,-0.8688043843960509,2.1365140455407627,0.4390931231504873,-1.4893614799515036,-2.4386452322949346,-1.1422505213045908,-1.4149163539103322,-0.013994673048110981,-2.034223797662766,1.4253019420988005,-2.0632544066807643,0.6996640900505026,0.5166100297666383,-1.071532965949633,-0.9051225166232557,-0.7934178460696767,-0.8224502512549449,0.15493335662541116,0.39500230090794575,0.8857418121756081,0.32000079106086377,-0.008234679363814059,0.49444038047693045,-0.7121015253712025,0.11159926839694684,-0.6397544473062552,-0.6297012892092753,-0.14708147193593385,-1.831759802918478,-1.132317223629694,0.8300459562443999,-0.5768572815494716,0.7256517351358649,0.315413301407352,0.2568963021893039,0.27725859353110416,-0.13520879790699447,-0.5648419203108074,-2.954018487536646,-0.940562870249268,-1.2466882336102456,-0.8033234119044046,0.26439271338445264,-0.21474918616508726,-0.39167546554283417,0.11783823012584817,-0.46125483724851585,1.328839452652975,3.1635328556243794,0.1034546363343562,-1.260959363985953,1.2107659875753456,1.3089355281014505,-0.08791413108196387,-0.3599472537742511,1.980076893144827,0.3797782251011386,-1.7519402263507402,-0.7082770903572351,-0.15113155411961024,0.43962501015970173,-0.20895860876046474,0.5546753479330597,0.1782227202309211,1.7531082352203122,-0.7415829058805974,-0.6266777912851297,0.6640612063767465,0.41009329778209624,0.6915880772218923],\"type\":\"histogram\"},{\"histfunc\":\"count\",\"histnorm\":\"\",\"marker\":{\"color\":\"rgba(128, 0, 128, 1.0)\",\"line\":{\"color\":\"#4D5663\",\"width\":1.3}},\"name\":\"D\",\"nbinsx\":100,\"opacity\":0.8,\"orientation\":\"v\",\"x\":[-0.232607190972093,-0.10745682172545627,0.7301665782338982,-0.8086553985085576,-0.3808934345748271,-0.49728208115444156,-1.143202283557806,-0.00924216908427607,-0.5762292058604443,1.8107409045922969,-0.6429151459186503,-2.037122862243596,-1.1833441828811444,-0.2798311937972491,-2.3309295348858714,-1.181839359370192,0.9880300418287801,0.8556429383351365,1.1693382981537819,-1.3808702075475496,-0.18309447973892146,0.8438897509043974,1.581060734608897,-0.3596068422236975,0.13079908839655863,2.2113961251101677,-0.36346947498616455,-0.6800940270845436,1.1187059400934791,1.1043099757023331,-0.6823882796178447,-1.10897733367768,-1.6084453760231952,0.6398458111237544,-2.141650215025133,-0.629848221432961,-1.3459166652575534,0.9192082959941965,-0.5172725131310544,-0.8588962555419287,-0.09863404903046664,-1.804389501103032,-0.9593821912233614,1.0241520629708463,-0.6603271986227551,-0.26588194329921705,0.004759080754978136,0.34865477211306106,-0.3448425950988407,0.7842889066349303,1.3925201197443657,-0.3594709526907821,1.0618973955064497,0.14680351808446498,-1.7515468410520656,-0.6135423107048211,-0.9575148475814658,1.572687835401607,1.5922959327473496,1.2073779390002217,-0.36322906421417334,-2.0688991515179,1.1871757251508457,2.557928207241564,-0.1451521867356024,1.0728316273159937,0.5540363273931462,-0.8189397303937418,-0.2991846022135686,-0.5589151651974367,-1.5852563314699741,-1.0250545535826507,-0.7307299175017817,-1.7498252041560964,-1.7707723082582265,-0.10650969392090688,-1.4960048164865472,0.9058747618060715,-1.365560984520852,-0.5567782956347211,1.3349620404090474,-0.9921533022298292,-1.8561767161985299,-1.6961557334052646,0.26087038337192237,-1.087077580151142,-0.7672263733059088,-1.3359037825120874,-1.6155450718347866,-0.14483939598188197,0.4677086656212009,-0.35371284765311806,0.907492357905892,-0.39278850620491024,1.430034099034796,-0.1159178226728583,-0.8399729920788126,0.6935514209462399,-1.1970166117060872,-0.8287646619103597],\"type\":\"histogram\"}],                        {\"barmode\":\"overlay\",\"legend\":{\"bgcolor\":\"#F5F6F9\",\"font\":{\"color\":\"#4D5663\"}},\"paper_bgcolor\":\"#F5F6F9\",\"plot_bgcolor\":\"#F5F6F9\",\"template\":{\"data\":{\"barpolar\":[{\"marker\":{\"line\":{\"color\":\"#E5ECF6\",\"width\":0.5},\"pattern\":{\"fillmode\":\"overlay\",\"size\":10,\"solidity\":0.2}},\"type\":\"barpolar\"}],\"bar\":[{\"error_x\":{\"color\":\"#2a3f5f\"},\"error_y\":{\"color\":\"#2a3f5f\"},\"marker\":{\"line\":{\"color\":\"#E5ECF6\",\"width\":0.5},\"pattern\":{\"fillmode\":\"overlay\",\"size\":10,\"solidity\":0.2}},\"type\":\"bar\"}],\"carpet\":[{\"aaxis\":{\"endlinecolor\":\"#2a3f5f\",\"gridcolor\":\"white\",\"linecolor\":\"white\",\"minorgridcolor\":\"white\",\"startlinecolor\":\"#2a3f5f\"},\"baxis\":{\"endlinecolor\":\"#2a3f5f\",\"gridcolor\":\"white\",\"linecolor\":\"white\",\"minorgridcolor\":\"white\",\"startlinecolor\":\"#2a3f5f\"},\"type\":\"carpet\"}],\"choropleth\":[{\"colorbar\":{\"outlinewidth\":0,\"ticks\":\"\"},\"type\":\"choropleth\"}],\"contourcarpet\":[{\"colorbar\":{\"outlinewidth\":0,\"ticks\":\"\"},\"type\":\"contourcarpet\"}],\"contour\":[{\"colorbar\":{\"outlinewidth\":0,\"ticks\":\"\"},\"colorscale\":[[0.0,\"#0d0887\"],[0.1111111111111111,\"#46039f\"],[0.2222222222222222,\"#7201a8\"],[0.3333333333333333,\"#9c179e\"],[0.4444444444444444,\"#bd3786\"],[0.5555555555555556,\"#d8576b\"],[0.6666666666666666,\"#ed7953\"],[0.7777777777777778,\"#fb9f3a\"],[0.8888888888888888,\"#fdca26\"],[1.0,\"#f0f921\"]],\"type\":\"contour\"}],\"heatmapgl\":[{\"colorbar\":{\"outlinewidth\":0,\"ticks\":\"\"},\"colorscale\":[[0.0,\"#0d0887\"],[0.1111111111111111,\"#46039f\"],[0.2222222222222222,\"#7201a8\"],[0.3333333333333333,\"#9c179e\"],[0.4444444444444444,\"#bd3786\"],[0.5555555555555556,\"#d8576b\"],[0.6666666666666666,\"#ed7953\"],[0.7777777777777778,\"#fb9f3a\"],[0.8888888888888888,\"#fdca26\"],[1.0,\"#f0f921\"]],\"type\":\"heatmapgl\"}],\"heatmap\":[{\"colorbar\":{\"outlinewidth\":0,\"ticks\":\"\"},\"colorscale\":[[0.0,\"#0d0887\"],[0.1111111111111111,\"#46039f\"],[0.2222222222222222,\"#7201a8\"],[0.3333333333333333,\"#9c179e\"],[0.4444444444444444,\"#bd3786\"],[0.5555555555555556,\"#d8576b\"],[0.6666666666666666,\"#ed7953\"],[0.7777777777777778,\"#fb9f3a\"],[0.8888888888888888,\"#fdca26\"],[1.0,\"#f0f921\"]],\"type\":\"heatmap\"}],\"histogram2dcontour\":[{\"colorbar\":{\"outlinewidth\":0,\"ticks\":\"\"},\"colorscale\":[[0.0,\"#0d0887\"],[0.1111111111111111,\"#46039f\"],[0.2222222222222222,\"#7201a8\"],[0.3333333333333333,\"#9c179e\"],[0.4444444444444444,\"#bd3786\"],[0.5555555555555556,\"#d8576b\"],[0.6666666666666666,\"#ed7953\"],[0.7777777777777778,\"#fb9f3a\"],[0.8888888888888888,\"#fdca26\"],[1.0,\"#f0f921\"]],\"type\":\"histogram2dcontour\"}],\"histogram2d\":[{\"colorbar\":{\"outlinewidth\":0,\"ticks\":\"\"},\"colorscale\":[[0.0,\"#0d0887\"],[0.1111111111111111,\"#46039f\"],[0.2222222222222222,\"#7201a8\"],[0.3333333333333333,\"#9c179e\"],[0.4444444444444444,\"#bd3786\"],[0.5555555555555556,\"#d8576b\"],[0.6666666666666666,\"#ed7953\"],[0.7777777777777778,\"#fb9f3a\"],[0.8888888888888888,\"#fdca26\"],[1.0,\"#f0f921\"]],\"type\":\"histogram2d\"}],\"histogram\":[{\"marker\":{\"pattern\":{\"fillmode\":\"overlay\",\"size\":10,\"solidity\":0.2}},\"type\":\"histogram\"}],\"mesh3d\":[{\"colorbar\":{\"outlinewidth\":0,\"ticks\":\"\"},\"type\":\"mesh3d\"}],\"parcoords\":[{\"line\":{\"colorbar\":{\"outlinewidth\":0,\"ticks\":\"\"}},\"type\":\"parcoords\"}],\"pie\":[{\"automargin\":true,\"type\":\"pie\"}],\"scatter3d\":[{\"line\":{\"colorbar\":{\"outlinewidth\":0,\"ticks\":\"\"}},\"marker\":{\"colorbar\":{\"outlinewidth\":0,\"ticks\":\"\"}},\"type\":\"scatter3d\"}],\"scattercarpet\":[{\"marker\":{\"colorbar\":{\"outlinewidth\":0,\"ticks\":\"\"}},\"type\":\"scattercarpet\"}],\"scattergeo\":[{\"marker\":{\"colorbar\":{\"outlinewidth\":0,\"ticks\":\"\"}},\"type\":\"scattergeo\"}],\"scattergl\":[{\"marker\":{\"colorbar\":{\"outlinewidth\":0,\"ticks\":\"\"}},\"type\":\"scattergl\"}],\"scattermapbox\":[{\"marker\":{\"colorbar\":{\"outlinewidth\":0,\"ticks\":\"\"}},\"type\":\"scattermapbox\"}],\"scatterpolargl\":[{\"marker\":{\"colorbar\":{\"outlinewidth\":0,\"ticks\":\"\"}},\"type\":\"scatterpolargl\"}],\"scatterpolar\":[{\"marker\":{\"colorbar\":{\"outlinewidth\":0,\"ticks\":\"\"}},\"type\":\"scatterpolar\"}],\"scatter\":[{\"marker\":{\"colorbar\":{\"outlinewidth\":0,\"ticks\":\"\"}},\"type\":\"scatter\"}],\"scatterternary\":[{\"marker\":{\"colorbar\":{\"outlinewidth\":0,\"ticks\":\"\"}},\"type\":\"scatterternary\"}],\"surface\":[{\"colorbar\":{\"outlinewidth\":0,\"ticks\":\"\"},\"colorscale\":[[0.0,\"#0d0887\"],[0.1111111111111111,\"#46039f\"],[0.2222222222222222,\"#7201a8\"],[0.3333333333333333,\"#9c179e\"],[0.4444444444444444,\"#bd3786\"],[0.5555555555555556,\"#d8576b\"],[0.6666666666666666,\"#ed7953\"],[0.7777777777777778,\"#fb9f3a\"],[0.8888888888888888,\"#fdca26\"],[1.0,\"#f0f921\"]],\"type\":\"surface\"}],\"table\":[{\"cells\":{\"fill\":{\"color\":\"#EBF0F8\"},\"line\":{\"color\":\"white\"}},\"header\":{\"fill\":{\"color\":\"#C8D4E3\"},\"line\":{\"color\":\"white\"}},\"type\":\"table\"}]},\"layout\":{\"annotationdefaults\":{\"arrowcolor\":\"#2a3f5f\",\"arrowhead\":0,\"arrowwidth\":1},\"autotypenumbers\":\"strict\",\"coloraxis\":{\"colorbar\":{\"outlinewidth\":0,\"ticks\":\"\"}},\"colorscale\":{\"diverging\":[[0,\"#8e0152\"],[0.1,\"#c51b7d\"],[0.2,\"#de77ae\"],[0.3,\"#f1b6da\"],[0.4,\"#fde0ef\"],[0.5,\"#f7f7f7\"],[0.6,\"#e6f5d0\"],[0.7,\"#b8e186\"],[0.8,\"#7fbc41\"],[0.9,\"#4d9221\"],[1,\"#276419\"]],\"sequential\":[[0.0,\"#0d0887\"],[0.1111111111111111,\"#46039f\"],[0.2222222222222222,\"#7201a8\"],[0.3333333333333333,\"#9c179e\"],[0.4444444444444444,\"#bd3786\"],[0.5555555555555556,\"#d8576b\"],[0.6666666666666666,\"#ed7953\"],[0.7777777777777778,\"#fb9f3a\"],[0.8888888888888888,\"#fdca26\"],[1.0,\"#f0f921\"]],\"sequentialminus\":[[0.0,\"#0d0887\"],[0.1111111111111111,\"#46039f\"],[0.2222222222222222,\"#7201a8\"],[0.3333333333333333,\"#9c179e\"],[0.4444444444444444,\"#bd3786\"],[0.5555555555555556,\"#d8576b\"],[0.6666666666666666,\"#ed7953\"],[0.7777777777777778,\"#fb9f3a\"],[0.8888888888888888,\"#fdca26\"],[1.0,\"#f0f921\"]]},\"colorway\":[\"#636efa\",\"#EF553B\",\"#00cc96\",\"#ab63fa\",\"#FFA15A\",\"#19d3f3\",\"#FF6692\",\"#B6E880\",\"#FF97FF\",\"#FECB52\"],\"font\":{\"color\":\"#2a3f5f\"},\"geo\":{\"bgcolor\":\"white\",\"lakecolor\":\"white\",\"landcolor\":\"#E5ECF6\",\"showlakes\":true,\"showland\":true,\"subunitcolor\":\"white\"},\"hoverlabel\":{\"align\":\"left\"},\"hovermode\":\"closest\",\"mapbox\":{\"style\":\"light\"},\"paper_bgcolor\":\"white\",\"plot_bgcolor\":\"#E5ECF6\",\"polar\":{\"angularaxis\":{\"gridcolor\":\"white\",\"linecolor\":\"white\",\"ticks\":\"\"},\"bgcolor\":\"#E5ECF6\",\"radialaxis\":{\"gridcolor\":\"white\",\"linecolor\":\"white\",\"ticks\":\"\"}},\"scene\":{\"xaxis\":{\"backgroundcolor\":\"#E5ECF6\",\"gridcolor\":\"white\",\"gridwidth\":2,\"linecolor\":\"white\",\"showbackground\":true,\"ticks\":\"\",\"zerolinecolor\":\"white\"},\"yaxis\":{\"backgroundcolor\":\"#E5ECF6\",\"gridcolor\":\"white\",\"gridwidth\":2,\"linecolor\":\"white\",\"showbackground\":true,\"ticks\":\"\",\"zerolinecolor\":\"white\"},\"zaxis\":{\"backgroundcolor\":\"#E5ECF6\",\"gridcolor\":\"white\",\"gridwidth\":2,\"linecolor\":\"white\",\"showbackground\":true,\"ticks\":\"\",\"zerolinecolor\":\"white\"}},\"shapedefaults\":{\"line\":{\"color\":\"#2a3f5f\"}},\"ternary\":{\"aaxis\":{\"gridcolor\":\"white\",\"linecolor\":\"white\",\"ticks\":\"\"},\"baxis\":{\"gridcolor\":\"white\",\"linecolor\":\"white\",\"ticks\":\"\"},\"bgcolor\":\"#E5ECF6\",\"caxis\":{\"gridcolor\":\"white\",\"linecolor\":\"white\",\"ticks\":\"\"}},\"title\":{\"x\":0.05},\"xaxis\":{\"automargin\":true,\"gridcolor\":\"white\",\"linecolor\":\"white\",\"ticks\":\"\",\"title\":{\"standoff\":15},\"zerolinecolor\":\"white\",\"zerolinewidth\":2},\"yaxis\":{\"automargin\":true,\"gridcolor\":\"white\",\"linecolor\":\"white\",\"ticks\":\"\",\"title\":{\"standoff\":15},\"zerolinecolor\":\"white\",\"zerolinewidth\":2}}},\"title\":{\"font\":{\"color\":\"#4D5663\"}},\"xaxis\":{\"gridcolor\":\"#E1E5ED\",\"showgrid\":true,\"tickfont\":{\"color\":\"#4D5663\"},\"title\":{\"font\":{\"color\":\"#4D5663\"},\"text\":\"\"},\"zerolinecolor\":\"#E1E5ED\"},\"yaxis\":{\"gridcolor\":\"#E1E5ED\",\"showgrid\":true,\"tickfont\":{\"color\":\"#4D5663\"},\"title\":{\"font\":{\"color\":\"#4D5663\"},\"text\":\"\"},\"zerolinecolor\":\"#E1E5ED\"}},                        {\"showLink\": true, \"linkText\": \"Export to plot.ly\", \"plotlyServerURL\": \"https://plot.ly\", \"responsive\": true}                    ).then(function(){\n",
       "                            \n",
       "var gd = document.getElementById('f073b4c8-2e29-48bc-91f9-b4fbd5c57e23');\n",
       "var x = new MutationObserver(function (mutations, observer) {{\n",
       "        var display = window.getComputedStyle(gd).display;\n",
       "        if (!display || display === 'none') {{\n",
       "            console.log([gd, 'removed!']);\n",
       "            Plotly.purge(gd);\n",
       "            observer.disconnect();\n",
       "        }}\n",
       "}});\n",
       "\n",
       "// Listen for the removal of the full notebook cells\n",
       "var notebookContainer = gd.closest('#notebook-container');\n",
       "if (notebookContainer) {{\n",
       "    x.observe(notebookContainer, {childList: true});\n",
       "}}\n",
       "\n",
       "// Listen for the clearing of the current output cell\n",
       "var outputEl = gd.closest('.output');\n",
       "if (outputEl) {{\n",
       "    x.observe(outputEl, {childList: true});\n",
       "}}\n",
       "\n",
       "                        })                };                });            </script>        </div>"
      ]
     },
     "metadata": {},
     "output_type": "display_data"
    }
   ],
   "source": [
    "df.iplot(kind='hist',bins=100)"
   ]
  },
  {
   "cell_type": "code",
   "execution_count": 50,
   "id": "4c4191e9",
   "metadata": {},
   "outputs": [
    {
     "name": "stderr",
     "output_type": "stream",
     "text": [
      "C:\\Users\\top\\anaconda3\\lib\\site-packages\\cufflinks\\plotlytools.py:849: FutureWarning:\n",
      "\n",
      "The pandas.np module is deprecated and will be removed from pandas in a future version. Import numpy directly instead.\n",
      "\n",
      "C:\\Users\\top\\anaconda3\\lib\\site-packages\\cufflinks\\plotlytools.py:850: FutureWarning:\n",
      "\n",
      "The pandas.np module is deprecated and will be removed from pandas in a future version. Import numpy directly instead.\n",
      "\n"
     ]
    },
    {
     "data": {
      "application/vnd.plotly.v1+json": {
       "config": {
        "linkText": "Export to plot.ly",
        "plotlyServerURL": "https://plot.ly",
        "showLink": true
       },
       "data": [
        {
         "line": {
          "color": "rgba(255, 153, 51, 1.0)",
          "dash": "solid",
          "shape": "linear",
          "width": 1.3
         },
         "mode": "lines",
         "name": "A",
         "text": "",
         "type": "scatter",
         "x": [
          0,
          1,
          2,
          3,
          4,
          5,
          6,
          7,
          8,
          9,
          10,
          11,
          12,
          13,
          14,
          15,
          16,
          17,
          18,
          19,
          20,
          21,
          22,
          23,
          24,
          25,
          26,
          27,
          28,
          29,
          30,
          31,
          32,
          33,
          34,
          35,
          36,
          37,
          38,
          39,
          40,
          41,
          42,
          43,
          44,
          45,
          46,
          47,
          48,
          49,
          50,
          51,
          52,
          53,
          54,
          55,
          56,
          57,
          58,
          59,
          60,
          61,
          62,
          63,
          64,
          65,
          66,
          67,
          68,
          69,
          70,
          71,
          72,
          73,
          74,
          75,
          76,
          77,
          78,
          79,
          80,
          81,
          82,
          83,
          84,
          85,
          86,
          87,
          88,
          89,
          90,
          91,
          92,
          93,
          94,
          95,
          96,
          97,
          98,
          99
         ],
         "y": [
          1.384941095893982,
          -0.3647871044245467,
          -1.613377798789012,
          -0.12920481127577702,
          -0.6300029180423312,
          0.6955311102837984,
          -0.07774289928427856,
          -1.5481508917079352,
          0.3144299528461812,
          1.483756889675816,
          1.3631631851081898,
          0.3577161379182844,
          0.44425005373458687,
          -1.3026835005270772,
          0.8586317944028101,
          -0.12796403591939365,
          0.373209303997531,
          0.5869332431334456,
          0.4864253873475166,
          1.0756346615585344,
          -1.052001580878504,
          0.0906431802398545,
          1.0580572090375877,
          -0.9848808039026463,
          0.5513641846951675,
          1.1659210728519842,
          0.020314764012267873,
          0.3074031709948694,
          -0.23909296540380182,
          0.02171216478090794,
          -0.16254690733414418,
          -0.33711970357111226,
          0.8142846009651958,
          0.5807041935213351,
          1.517465474603419,
          2.64825109236516,
          0.9118993743273417,
          0.3344914818573978,
          -0.6980817050442862,
          -0.014535950295435083,
          -0.29814416383545383,
          -0.0017524875066887394,
          -1.1233972672402575,
          0.06762297707903585,
          -0.16466873420852687,
          -0.1795079343480467,
          -0.6751925963714834,
          2.006888382314444,
          -0.7838881243097859,
          0.9294115904771026,
          -1.058238874474584,
          0.6586637071443632,
          -0.37707299217026374,
          -0.13598986025585266,
          -1.4967184420595114,
          0.4153485006683915,
          0.24121216996263192,
          -3.092016438708254,
          -1.2219917686899848,
          0.8869662273854365,
          -1.0682780065598037,
          -1.2106122878269856,
          0.803250005443257,
          0.9877199560578738,
          -0.2258121665388722,
          0.13923967982184132,
          -0.22573522543316654,
          1.6171694614878647,
          0.5477551242136519,
          0.4420065170066808,
          0.06747036201760358,
          -1.641776468835695,
          -0.2876490151341459,
          0.3684314172007868,
          1.1306668046343704,
          -0.8340553638572694,
          0.6712547294009807,
          0.8197535903257653,
          0.2124039178122506,
          -0.5392633467972721,
          0.010110482279003876,
          0.958789971496834,
          -0.07020997545633594,
          0.33616891127553034,
          -0.3907482690955859,
          0.8806514736157832,
          0.31650766745412495,
          0.1448946459985747,
          0.27772853189609437,
          -0.4036166749778001,
          -0.2926052183646972,
          1.3491425878516692,
          -1.4689030081303354,
          1.43789556687664,
          -1.79323467847179,
          -0.17223590815000211,
          1.0094163974481396,
          -0.31501498808974,
          -0.3962647074563389,
          -2.0067551306542164
         ]
        },
        {
         "line": {
          "color": "rgba(55, 128, 191, 1.0)",
          "dash": "solid",
          "shape": "linear",
          "width": 1.3
         },
         "mode": "lines",
         "name": "B",
         "text": "",
         "type": "scatter",
         "x": [
          0,
          1,
          2,
          3,
          4,
          5,
          6,
          7,
          8,
          9,
          10,
          11,
          12,
          13,
          14,
          15,
          16,
          17,
          18,
          19,
          20,
          21,
          22,
          23,
          24,
          25,
          26,
          27,
          28,
          29,
          30,
          31,
          32,
          33,
          34,
          35,
          36,
          37,
          38,
          39,
          40,
          41,
          42,
          43,
          44,
          45,
          46,
          47,
          48,
          49,
          50,
          51,
          52,
          53,
          54,
          55,
          56,
          57,
          58,
          59,
          60,
          61,
          62,
          63,
          64,
          65,
          66,
          67,
          68,
          69,
          70,
          71,
          72,
          73,
          74,
          75,
          76,
          77,
          78,
          79,
          80,
          81,
          82,
          83,
          84,
          85,
          86,
          87,
          88,
          89,
          90,
          91,
          92,
          93,
          94,
          95,
          96,
          97,
          98,
          99
         ],
         "y": [
          -0.11794573212984044,
          1.2697792200547326,
          -2.1676156275817493,
          -0.24857109473288877,
          0.40460693442474416,
          1.6139280285149076,
          0.2360306035442598,
          -0.22602808881920358,
          0.057142677471569564,
          -0.7772782408575107,
          0.9429237937088079,
          0.20523204088664526,
          -0.7154259155847406,
          1.1964788967171962,
          1.1522379793062072,
          0.8376926086136763,
          1.3857641285531264,
          -1.2374578036932693,
          -1.7210512496642552,
          -0.2495034317564669,
          0.549318005327426,
          -1.1113590661117567,
          -1.4100862237170253,
          0.9532142588336986,
          -0.5315758547787328,
          0.026876504527802447,
          1.475296799480042,
          -0.05540255585344138,
          0.9422840651588723,
          -1.8656941194067982,
          0.7869650084081312,
          1.405011375883612,
          2.255057549388606,
          0.1462871105740621,
          -2.1847079312579747,
          -1.161172611275934,
          0.6196167217877991,
          0.11183036629305333,
          -0.05854992899036618,
          0.5065278797161682,
          0.175142247004244,
          1.095194809193081,
          2.6837799095371384,
          -0.012627706308564711,
          0.9660921024626176,
          0.6886580320242333,
          -1.0591087700884958,
          0.1104364113543046,
          2.372207831365576,
          -0.8860199351161889,
          1.086165799454149,
          -0.8626755672497495,
          -0.06868432104132013,
          -0.7200816182896868,
          0.4188150947497825,
          0.4228561041113086,
          -0.698445960962204,
          -0.6988310924554466,
          -0.6658491938730066,
          0.2958846261817548,
          -0.3507001784507818,
          0.647173773145682,
          -1.2328387228246311,
          1.0459553224352556,
          0.1231502442460987,
          0.6522703753362419,
          1.3888130593209138,
          0.10676669523311827,
          -1.8282146343099823,
          -0.9934128961933868,
          0.0391113792741524,
          -0.8611094358006953,
          0.41413313956819325,
          -1.4101986910835675,
          1.815049449469626,
          0.9231752547232016,
          0.17927969270330754,
          1.3991110254560424,
          -0.22439988703791916,
          -0.9325281027769723,
          1.434972285835641,
          0.41293299829143254,
          0.22260783277251583,
          -0.6284887586125657,
          -0.04186487356009881,
          -0.4049849380508509,
          1.0931210510758536,
          -0.9357279986842723,
          -0.8187865619869552,
          -2.177802400994987,
          0.38835428050347276,
          -0.138536009177223,
          1.3287017218425048,
          2.193100689061061,
          2.7502259232461843,
          -1.4807074423373137,
          0.27064831548673124,
          0.034154607417923276,
          -0.2738508186098899,
          -0.5388356081283091
         ]
        },
        {
         "connectgaps": false,
         "fill": "tozeroy",
         "line": {
          "color": "green",
          "dash": "solid",
          "shape": "linear",
          "width": 0.5
         },
         "mode": "lines",
         "name": "Spread",
         "showlegend": false,
         "type": "scatter",
         "x": [
          0,
          1,
          2,
          3,
          4,
          5,
          6,
          7,
          8,
          9,
          10,
          11,
          12,
          13,
          14,
          15,
          16,
          17,
          18,
          19,
          20,
          21,
          22,
          23,
          24,
          25,
          26,
          27,
          28,
          29,
          30,
          31,
          32,
          33,
          34,
          35,
          36,
          37,
          38,
          39,
          40,
          41,
          42,
          43,
          44,
          45,
          46,
          47,
          48,
          49,
          50,
          51,
          52,
          53,
          54,
          55,
          56,
          57,
          58,
          59,
          60,
          61,
          62,
          63,
          64,
          65,
          66,
          67,
          68,
          69,
          70,
          71,
          72,
          73,
          74,
          75,
          76,
          77,
          78,
          79,
          80,
          81,
          82,
          83,
          84,
          85,
          86,
          87,
          88,
          89,
          90,
          91,
          92,
          93,
          94,
          95,
          96,
          97,
          98,
          99
         ],
         "xaxis": "x2",
         "y": [
          1.5028868280238226,
          "",
          0.5542378287927372,
          0.11936628345711175,
          "",
          "",
          "",
          "",
          0.2572872753746116,
          2.261035130533327,
          0.42023939139938193,
          0.15248409703163912,
          1.1596759693193275,
          "",
          "",
          "",
          "",
          1.8243910468267148,
          2.207476637011772,
          1.3251380933150012,
          "",
          1.2020022463516111,
          2.468143432754613,
          "",
          1.0829400394739004,
          1.1390445683241817,
          "",
          0.3628057268483108,
          "",
          1.8874062841877062,
          "",
          "",
          "",
          0.434417082947273,
          3.7021734058613935,
          3.809423703641094,
          0.29228265253954255,
          0.22266111556434448,
          "",
          "",
          "",
          "",
          "",
          0.08025068338760055,
          "",
          "",
          0.38391617371701237,
          1.8964519709601395,
          "",
          1.8154315255932916,
          "",
          1.5213392743941125,
          "",
          0.5840917580338341,
          "",
          "",
          0.939658130924836,
          "",
          "",
          0.5910816012036817,
          "",
          "",
          2.036088728267888,
          "",
          "",
          "",
          "",
          1.5104027662547463,
          2.375969758523634,
          1.4354194132000675,
          0.02835898274345118,
          "",
          "",
          1.7786301082843543,
          "",
          "",
          0.4919750366976732,
          "",
          0.4368038048501698,
          0.39326475597970023,
          "",
          0.5458569732054015,
          "",
          0.964657669888096,
          "",
          1.2856364116666341,
          "",
          1.080622644682847,
          1.0965150938830495,
          1.7741857260171867,
          "",
          1.4876785970288922,
          "",
          "",
          "",
          1.3084715341873117,
          0.7387680819614084,
          "",
          "",
          ""
         ],
         "yaxis": "y2"
        },
        {
         "connectgaps": false,
         "fill": "tozeroy",
         "line": {
          "color": "red",
          "dash": "solid",
          "shape": "linear",
          "width": 0.5
         },
         "mode": "lines",
         "name": "Spread",
         "showlegend": false,
         "type": "scatter",
         "x": [
          0,
          1,
          2,
          3,
          4,
          5,
          6,
          7,
          8,
          9,
          10,
          11,
          12,
          13,
          14,
          15,
          16,
          17,
          18,
          19,
          20,
          21,
          22,
          23,
          24,
          25,
          26,
          27,
          28,
          29,
          30,
          31,
          32,
          33,
          34,
          35,
          36,
          37,
          38,
          39,
          40,
          41,
          42,
          43,
          44,
          45,
          46,
          47,
          48,
          49,
          50,
          51,
          52,
          53,
          54,
          55,
          56,
          57,
          58,
          59,
          60,
          61,
          62,
          63,
          64,
          65,
          66,
          67,
          68,
          69,
          70,
          71,
          72,
          73,
          74,
          75,
          76,
          77,
          78,
          79,
          80,
          81,
          82,
          83,
          84,
          85,
          86,
          87,
          88,
          89,
          90,
          91,
          92,
          93,
          94,
          95,
          96,
          97,
          98,
          99
         ],
         "xaxis": "x2",
         "y": [
          "",
          -1.6345663244792794,
          "",
          "",
          -1.0346098524670753,
          -0.9183969182311091,
          -0.3137735028285384,
          -1.3221228028887315,
          "",
          "",
          "",
          "",
          "",
          -2.499162397244273,
          -0.29360618490339707,
          -0.96565664453307,
          -1.0125548245555953,
          "",
          "",
          "",
          -1.60131958620593,
          "",
          "",
          -1.938095062736345,
          "",
          "",
          -1.4549820354677743,
          "",
          -1.181377030562674,
          "",
          -0.9495119157422753,
          -1.7421310794547242,
          -1.4407729484234102,
          "",
          "",
          "",
          "",
          "",
          -0.6395317760539201,
          -0.5210638300116033,
          -0.4732864108396978,
          -1.0969472966997698,
          -3.8071771767773956,
          "",
          -1.1307608366711444,
          -0.8681659663722799,
          "",
          "",
          -3.1560959556753616,
          "",
          -2.144404673928733,
          "",
          -0.30838867112894364,
          "",
          -1.9155335368092938,
          -0.007507603442917066,
          "",
          -2.393185346252807,
          -0.5561425748169783,
          "",
          -0.7175778281090219,
          -1.8577860609726677,
          "",
          -0.0582353663773818,
          -0.3489624107849709,
          -0.5130306955144006,
          -1.6145482847540804,
          "",
          "",
          "",
          "",
          -0.7806670330349997,
          -0.7017821547023392,
          "",
          -0.6843826448352557,
          -1.7572306185804711,
          "",
          -0.579357435130277,
          "",
          "",
          -1.4248618035566372,
          "",
          -0.2928178082288518,
          "",
          -0.3488833955354871,
          "",
          -0.7766133836217286,
          "",
          "",
          "",
          -0.68095949886817,
          "",
          -2.79760472997284,
          -0.7552051221844209,
          -4.543460601717975,
          "",
          "",
          -0.34916959550766324,
          -0.12241388884644899,
          -1.4679195225259072
         ],
         "yaxis": "y2"
        }
       ],
       "layout": {
        "hovermode": "x",
        "legend": {
         "bgcolor": "#F5F6F9",
         "font": {
          "color": "#4D5663"
         }
        },
        "paper_bgcolor": "#F5F6F9",
        "plot_bgcolor": "#F5F6F9",
        "template": {
         "data": {
          "bar": [
           {
            "error_x": {
             "color": "#2a3f5f"
            },
            "error_y": {
             "color": "#2a3f5f"
            },
            "marker": {
             "line": {
              "color": "#E5ECF6",
              "width": 0.5
             },
             "pattern": {
              "fillmode": "overlay",
              "size": 10,
              "solidity": 0.2
             }
            },
            "type": "bar"
           }
          ],
          "barpolar": [
           {
            "marker": {
             "line": {
              "color": "#E5ECF6",
              "width": 0.5
             },
             "pattern": {
              "fillmode": "overlay",
              "size": 10,
              "solidity": 0.2
             }
            },
            "type": "barpolar"
           }
          ],
          "carpet": [
           {
            "aaxis": {
             "endlinecolor": "#2a3f5f",
             "gridcolor": "white",
             "linecolor": "white",
             "minorgridcolor": "white",
             "startlinecolor": "#2a3f5f"
            },
            "baxis": {
             "endlinecolor": "#2a3f5f",
             "gridcolor": "white",
             "linecolor": "white",
             "minorgridcolor": "white",
             "startlinecolor": "#2a3f5f"
            },
            "type": "carpet"
           }
          ],
          "choropleth": [
           {
            "colorbar": {
             "outlinewidth": 0,
             "ticks": ""
            },
            "type": "choropleth"
           }
          ],
          "contour": [
           {
            "colorbar": {
             "outlinewidth": 0,
             "ticks": ""
            },
            "colorscale": [
             [
              0,
              "#0d0887"
             ],
             [
              0.1111111111111111,
              "#46039f"
             ],
             [
              0.2222222222222222,
              "#7201a8"
             ],
             [
              0.3333333333333333,
              "#9c179e"
             ],
             [
              0.4444444444444444,
              "#bd3786"
             ],
             [
              0.5555555555555556,
              "#d8576b"
             ],
             [
              0.6666666666666666,
              "#ed7953"
             ],
             [
              0.7777777777777778,
              "#fb9f3a"
             ],
             [
              0.8888888888888888,
              "#fdca26"
             ],
             [
              1,
              "#f0f921"
             ]
            ],
            "type": "contour"
           }
          ],
          "contourcarpet": [
           {
            "colorbar": {
             "outlinewidth": 0,
             "ticks": ""
            },
            "type": "contourcarpet"
           }
          ],
          "heatmap": [
           {
            "colorbar": {
             "outlinewidth": 0,
             "ticks": ""
            },
            "colorscale": [
             [
              0,
              "#0d0887"
             ],
             [
              0.1111111111111111,
              "#46039f"
             ],
             [
              0.2222222222222222,
              "#7201a8"
             ],
             [
              0.3333333333333333,
              "#9c179e"
             ],
             [
              0.4444444444444444,
              "#bd3786"
             ],
             [
              0.5555555555555556,
              "#d8576b"
             ],
             [
              0.6666666666666666,
              "#ed7953"
             ],
             [
              0.7777777777777778,
              "#fb9f3a"
             ],
             [
              0.8888888888888888,
              "#fdca26"
             ],
             [
              1,
              "#f0f921"
             ]
            ],
            "type": "heatmap"
           }
          ],
          "heatmapgl": [
           {
            "colorbar": {
             "outlinewidth": 0,
             "ticks": ""
            },
            "colorscale": [
             [
              0,
              "#0d0887"
             ],
             [
              0.1111111111111111,
              "#46039f"
             ],
             [
              0.2222222222222222,
              "#7201a8"
             ],
             [
              0.3333333333333333,
              "#9c179e"
             ],
             [
              0.4444444444444444,
              "#bd3786"
             ],
             [
              0.5555555555555556,
              "#d8576b"
             ],
             [
              0.6666666666666666,
              "#ed7953"
             ],
             [
              0.7777777777777778,
              "#fb9f3a"
             ],
             [
              0.8888888888888888,
              "#fdca26"
             ],
             [
              1,
              "#f0f921"
             ]
            ],
            "type": "heatmapgl"
           }
          ],
          "histogram": [
           {
            "marker": {
             "pattern": {
              "fillmode": "overlay",
              "size": 10,
              "solidity": 0.2
             }
            },
            "type": "histogram"
           }
          ],
          "histogram2d": [
           {
            "colorbar": {
             "outlinewidth": 0,
             "ticks": ""
            },
            "colorscale": [
             [
              0,
              "#0d0887"
             ],
             [
              0.1111111111111111,
              "#46039f"
             ],
             [
              0.2222222222222222,
              "#7201a8"
             ],
             [
              0.3333333333333333,
              "#9c179e"
             ],
             [
              0.4444444444444444,
              "#bd3786"
             ],
             [
              0.5555555555555556,
              "#d8576b"
             ],
             [
              0.6666666666666666,
              "#ed7953"
             ],
             [
              0.7777777777777778,
              "#fb9f3a"
             ],
             [
              0.8888888888888888,
              "#fdca26"
             ],
             [
              1,
              "#f0f921"
             ]
            ],
            "type": "histogram2d"
           }
          ],
          "histogram2dcontour": [
           {
            "colorbar": {
             "outlinewidth": 0,
             "ticks": ""
            },
            "colorscale": [
             [
              0,
              "#0d0887"
             ],
             [
              0.1111111111111111,
              "#46039f"
             ],
             [
              0.2222222222222222,
              "#7201a8"
             ],
             [
              0.3333333333333333,
              "#9c179e"
             ],
             [
              0.4444444444444444,
              "#bd3786"
             ],
             [
              0.5555555555555556,
              "#d8576b"
             ],
             [
              0.6666666666666666,
              "#ed7953"
             ],
             [
              0.7777777777777778,
              "#fb9f3a"
             ],
             [
              0.8888888888888888,
              "#fdca26"
             ],
             [
              1,
              "#f0f921"
             ]
            ],
            "type": "histogram2dcontour"
           }
          ],
          "mesh3d": [
           {
            "colorbar": {
             "outlinewidth": 0,
             "ticks": ""
            },
            "type": "mesh3d"
           }
          ],
          "parcoords": [
           {
            "line": {
             "colorbar": {
              "outlinewidth": 0,
              "ticks": ""
             }
            },
            "type": "parcoords"
           }
          ],
          "pie": [
           {
            "automargin": true,
            "type": "pie"
           }
          ],
          "scatter": [
           {
            "marker": {
             "colorbar": {
              "outlinewidth": 0,
              "ticks": ""
             }
            },
            "type": "scatter"
           }
          ],
          "scatter3d": [
           {
            "line": {
             "colorbar": {
              "outlinewidth": 0,
              "ticks": ""
             }
            },
            "marker": {
             "colorbar": {
              "outlinewidth": 0,
              "ticks": ""
             }
            },
            "type": "scatter3d"
           }
          ],
          "scattercarpet": [
           {
            "marker": {
             "colorbar": {
              "outlinewidth": 0,
              "ticks": ""
             }
            },
            "type": "scattercarpet"
           }
          ],
          "scattergeo": [
           {
            "marker": {
             "colorbar": {
              "outlinewidth": 0,
              "ticks": ""
             }
            },
            "type": "scattergeo"
           }
          ],
          "scattergl": [
           {
            "marker": {
             "colorbar": {
              "outlinewidth": 0,
              "ticks": ""
             }
            },
            "type": "scattergl"
           }
          ],
          "scattermapbox": [
           {
            "marker": {
             "colorbar": {
              "outlinewidth": 0,
              "ticks": ""
             }
            },
            "type": "scattermapbox"
           }
          ],
          "scatterpolar": [
           {
            "marker": {
             "colorbar": {
              "outlinewidth": 0,
              "ticks": ""
             }
            },
            "type": "scatterpolar"
           }
          ],
          "scatterpolargl": [
           {
            "marker": {
             "colorbar": {
              "outlinewidth": 0,
              "ticks": ""
             }
            },
            "type": "scatterpolargl"
           }
          ],
          "scatterternary": [
           {
            "marker": {
             "colorbar": {
              "outlinewidth": 0,
              "ticks": ""
             }
            },
            "type": "scatterternary"
           }
          ],
          "surface": [
           {
            "colorbar": {
             "outlinewidth": 0,
             "ticks": ""
            },
            "colorscale": [
             [
              0,
              "#0d0887"
             ],
             [
              0.1111111111111111,
              "#46039f"
             ],
             [
              0.2222222222222222,
              "#7201a8"
             ],
             [
              0.3333333333333333,
              "#9c179e"
             ],
             [
              0.4444444444444444,
              "#bd3786"
             ],
             [
              0.5555555555555556,
              "#d8576b"
             ],
             [
              0.6666666666666666,
              "#ed7953"
             ],
             [
              0.7777777777777778,
              "#fb9f3a"
             ],
             [
              0.8888888888888888,
              "#fdca26"
             ],
             [
              1,
              "#f0f921"
             ]
            ],
            "type": "surface"
           }
          ],
          "table": [
           {
            "cells": {
             "fill": {
              "color": "#EBF0F8"
             },
             "line": {
              "color": "white"
             }
            },
            "header": {
             "fill": {
              "color": "#C8D4E3"
             },
             "line": {
              "color": "white"
             }
            },
            "type": "table"
           }
          ]
         },
         "layout": {
          "annotationdefaults": {
           "arrowcolor": "#2a3f5f",
           "arrowhead": 0,
           "arrowwidth": 1
          },
          "autotypenumbers": "strict",
          "coloraxis": {
           "colorbar": {
            "outlinewidth": 0,
            "ticks": ""
           }
          },
          "colorscale": {
           "diverging": [
            [
             0,
             "#8e0152"
            ],
            [
             0.1,
             "#c51b7d"
            ],
            [
             0.2,
             "#de77ae"
            ],
            [
             0.3,
             "#f1b6da"
            ],
            [
             0.4,
             "#fde0ef"
            ],
            [
             0.5,
             "#f7f7f7"
            ],
            [
             0.6,
             "#e6f5d0"
            ],
            [
             0.7,
             "#b8e186"
            ],
            [
             0.8,
             "#7fbc41"
            ],
            [
             0.9,
             "#4d9221"
            ],
            [
             1,
             "#276419"
            ]
           ],
           "sequential": [
            [
             0,
             "#0d0887"
            ],
            [
             0.1111111111111111,
             "#46039f"
            ],
            [
             0.2222222222222222,
             "#7201a8"
            ],
            [
             0.3333333333333333,
             "#9c179e"
            ],
            [
             0.4444444444444444,
             "#bd3786"
            ],
            [
             0.5555555555555556,
             "#d8576b"
            ],
            [
             0.6666666666666666,
             "#ed7953"
            ],
            [
             0.7777777777777778,
             "#fb9f3a"
            ],
            [
             0.8888888888888888,
             "#fdca26"
            ],
            [
             1,
             "#f0f921"
            ]
           ],
           "sequentialminus": [
            [
             0,
             "#0d0887"
            ],
            [
             0.1111111111111111,
             "#46039f"
            ],
            [
             0.2222222222222222,
             "#7201a8"
            ],
            [
             0.3333333333333333,
             "#9c179e"
            ],
            [
             0.4444444444444444,
             "#bd3786"
            ],
            [
             0.5555555555555556,
             "#d8576b"
            ],
            [
             0.6666666666666666,
             "#ed7953"
            ],
            [
             0.7777777777777778,
             "#fb9f3a"
            ],
            [
             0.8888888888888888,
             "#fdca26"
            ],
            [
             1,
             "#f0f921"
            ]
           ]
          },
          "colorway": [
           "#636efa",
           "#EF553B",
           "#00cc96",
           "#ab63fa",
           "#FFA15A",
           "#19d3f3",
           "#FF6692",
           "#B6E880",
           "#FF97FF",
           "#FECB52"
          ],
          "font": {
           "color": "#2a3f5f"
          },
          "geo": {
           "bgcolor": "white",
           "lakecolor": "white",
           "landcolor": "#E5ECF6",
           "showlakes": true,
           "showland": true,
           "subunitcolor": "white"
          },
          "hoverlabel": {
           "align": "left"
          },
          "hovermode": "closest",
          "mapbox": {
           "style": "light"
          },
          "paper_bgcolor": "white",
          "plot_bgcolor": "#E5ECF6",
          "polar": {
           "angularaxis": {
            "gridcolor": "white",
            "linecolor": "white",
            "ticks": ""
           },
           "bgcolor": "#E5ECF6",
           "radialaxis": {
            "gridcolor": "white",
            "linecolor": "white",
            "ticks": ""
           }
          },
          "scene": {
           "xaxis": {
            "backgroundcolor": "#E5ECF6",
            "gridcolor": "white",
            "gridwidth": 2,
            "linecolor": "white",
            "showbackground": true,
            "ticks": "",
            "zerolinecolor": "white"
           },
           "yaxis": {
            "backgroundcolor": "#E5ECF6",
            "gridcolor": "white",
            "gridwidth": 2,
            "linecolor": "white",
            "showbackground": true,
            "ticks": "",
            "zerolinecolor": "white"
           },
           "zaxis": {
            "backgroundcolor": "#E5ECF6",
            "gridcolor": "white",
            "gridwidth": 2,
            "linecolor": "white",
            "showbackground": true,
            "ticks": "",
            "zerolinecolor": "white"
           }
          },
          "shapedefaults": {
           "line": {
            "color": "#2a3f5f"
           }
          },
          "ternary": {
           "aaxis": {
            "gridcolor": "white",
            "linecolor": "white",
            "ticks": ""
           },
           "baxis": {
            "gridcolor": "white",
            "linecolor": "white",
            "ticks": ""
           },
           "bgcolor": "#E5ECF6",
           "caxis": {
            "gridcolor": "white",
            "linecolor": "white",
            "ticks": ""
           }
          },
          "title": {
           "x": 0.05
          },
          "xaxis": {
           "automargin": true,
           "gridcolor": "white",
           "linecolor": "white",
           "ticks": "",
           "title": {
            "standoff": 15
           },
           "zerolinecolor": "white",
           "zerolinewidth": 2
          },
          "yaxis": {
           "automargin": true,
           "gridcolor": "white",
           "linecolor": "white",
           "ticks": "",
           "title": {
            "standoff": 15
           },
           "zerolinecolor": "white",
           "zerolinewidth": 2
          }
         }
        },
        "title": {
         "font": {
          "color": "#4D5663"
         }
        },
        "xaxis": {
         "gridcolor": "#E1E5ED",
         "showgrid": true,
         "tickfont": {
          "color": "#4D5663"
         },
         "title": {
          "font": {
           "color": "#4D5663"
          },
          "text": ""
         },
         "zerolinecolor": "#E1E5ED"
        },
        "xaxis2": {
         "anchor": "y2",
         "gridcolor": "#E1E5ED",
         "showgrid": true,
         "showticklabels": false,
         "tickfont": {
          "color": "#4D5663"
         },
         "title": {
          "font": {
           "color": "#4D5663"
          },
          "text": ""
         },
         "zerolinecolor": "#E1E5ED"
        },
        "yaxis": {
         "domain": [
          0.3,
          1
         ],
         "gridcolor": "#E1E5ED",
         "showgrid": true,
         "tickfont": {
          "color": "#4D5663"
         },
         "title": {
          "font": {
           "color": "#4D5663"
          },
          "text": ""
         },
         "zerolinecolor": "#E1E5ED"
        },
        "yaxis2": {
         "domain": [
          0,
          0.25
         ],
         "gridcolor": "#E1E5ED",
         "showgrid": true,
         "tickfont": {
          "color": "#4D5663"
         },
         "title": {
          "font": {
           "color": "#4D5663"
          },
          "text": "Spread"
         },
         "zerolinecolor": "#E1E5ED"
        }
       }
      },
      "text/html": [
       "<div>                            <div id=\"39156667-8ee3-4c71-9eee-428fc84f8416\" class=\"plotly-graph-div\" style=\"height:525px; width:100%;\"></div>            <script type=\"text/javascript\">                require([\"plotly\"], function(Plotly) {                    window.PLOTLYENV=window.PLOTLYENV || {};\n",
       "                    window.PLOTLYENV.BASE_URL='https://plot.ly';                                    if (document.getElementById(\"39156667-8ee3-4c71-9eee-428fc84f8416\")) {                    Plotly.newPlot(                        \"39156667-8ee3-4c71-9eee-428fc84f8416\",                        [{\"line\":{\"color\":\"rgba(255, 153, 51, 1.0)\",\"dash\":\"solid\",\"shape\":\"linear\",\"width\":1.3},\"mode\":\"lines\",\"name\":\"A\",\"text\":\"\",\"x\":[0,1,2,3,4,5,6,7,8,9,10,11,12,13,14,15,16,17,18,19,20,21,22,23,24,25,26,27,28,29,30,31,32,33,34,35,36,37,38,39,40,41,42,43,44,45,46,47,48,49,50,51,52,53,54,55,56,57,58,59,60,61,62,63,64,65,66,67,68,69,70,71,72,73,74,75,76,77,78,79,80,81,82,83,84,85,86,87,88,89,90,91,92,93,94,95,96,97,98,99],\"y\":[1.384941095893982,-0.3647871044245467,-1.613377798789012,-0.12920481127577702,-0.6300029180423312,0.6955311102837984,-0.07774289928427856,-1.5481508917079352,0.3144299528461812,1.483756889675816,1.3631631851081898,0.3577161379182844,0.44425005373458687,-1.3026835005270772,0.8586317944028101,-0.12796403591939365,0.373209303997531,0.5869332431334456,0.4864253873475166,1.0756346615585344,-1.052001580878504,0.0906431802398545,1.0580572090375877,-0.9848808039026463,0.5513641846951675,1.1659210728519842,0.020314764012267873,0.3074031709948694,-0.23909296540380182,0.02171216478090794,-0.16254690733414418,-0.33711970357111226,0.8142846009651958,0.5807041935213351,1.517465474603419,2.64825109236516,0.9118993743273417,0.3344914818573978,-0.6980817050442862,-0.014535950295435083,-0.29814416383545383,-0.0017524875066887394,-1.1233972672402575,0.06762297707903585,-0.16466873420852687,-0.1795079343480467,-0.6751925963714834,2.006888382314444,-0.7838881243097859,0.9294115904771026,-1.058238874474584,0.6586637071443632,-0.37707299217026374,-0.13598986025585266,-1.4967184420595114,0.4153485006683915,0.24121216996263192,-3.092016438708254,-1.2219917686899848,0.8869662273854365,-1.0682780065598037,-1.2106122878269856,0.803250005443257,0.9877199560578738,-0.2258121665388722,0.13923967982184132,-0.22573522543316654,1.6171694614878647,0.5477551242136519,0.4420065170066808,0.06747036201760358,-1.641776468835695,-0.2876490151341459,0.3684314172007868,1.1306668046343704,-0.8340553638572694,0.6712547294009807,0.8197535903257653,0.2124039178122506,-0.5392633467972721,0.010110482279003876,0.958789971496834,-0.07020997545633594,0.33616891127553034,-0.3907482690955859,0.8806514736157832,0.31650766745412495,0.1448946459985747,0.27772853189609437,-0.4036166749778001,-0.2926052183646972,1.3491425878516692,-1.4689030081303354,1.43789556687664,-1.79323467847179,-0.17223590815000211,1.0094163974481396,-0.31501498808974,-0.3962647074563389,-2.0067551306542164],\"type\":\"scatter\"},{\"line\":{\"color\":\"rgba(55, 128, 191, 1.0)\",\"dash\":\"solid\",\"shape\":\"linear\",\"width\":1.3},\"mode\":\"lines\",\"name\":\"B\",\"text\":\"\",\"x\":[0,1,2,3,4,5,6,7,8,9,10,11,12,13,14,15,16,17,18,19,20,21,22,23,24,25,26,27,28,29,30,31,32,33,34,35,36,37,38,39,40,41,42,43,44,45,46,47,48,49,50,51,52,53,54,55,56,57,58,59,60,61,62,63,64,65,66,67,68,69,70,71,72,73,74,75,76,77,78,79,80,81,82,83,84,85,86,87,88,89,90,91,92,93,94,95,96,97,98,99],\"y\":[-0.11794573212984044,1.2697792200547326,-2.1676156275817493,-0.24857109473288877,0.40460693442474416,1.6139280285149076,0.2360306035442598,-0.22602808881920358,0.057142677471569564,-0.7772782408575107,0.9429237937088079,0.20523204088664526,-0.7154259155847406,1.1964788967171962,1.1522379793062072,0.8376926086136763,1.3857641285531264,-1.2374578036932693,-1.7210512496642552,-0.2495034317564669,0.549318005327426,-1.1113590661117567,-1.4100862237170253,0.9532142588336986,-0.5315758547787328,0.026876504527802447,1.475296799480042,-0.05540255585344138,0.9422840651588723,-1.8656941194067982,0.7869650084081312,1.405011375883612,2.255057549388606,0.1462871105740621,-2.1847079312579747,-1.161172611275934,0.6196167217877991,0.11183036629305333,-0.05854992899036618,0.5065278797161682,0.175142247004244,1.095194809193081,2.6837799095371384,-0.012627706308564711,0.9660921024626176,0.6886580320242333,-1.0591087700884958,0.1104364113543046,2.372207831365576,-0.8860199351161889,1.086165799454149,-0.8626755672497495,-0.06868432104132013,-0.7200816182896868,0.4188150947497825,0.4228561041113086,-0.698445960962204,-0.6988310924554466,-0.6658491938730066,0.2958846261817548,-0.3507001784507818,0.647173773145682,-1.2328387228246311,1.0459553224352556,0.1231502442460987,0.6522703753362419,1.3888130593209138,0.10676669523311827,-1.8282146343099823,-0.9934128961933868,0.0391113792741524,-0.8611094358006953,0.41413313956819325,-1.4101986910835675,1.815049449469626,0.9231752547232016,0.17927969270330754,1.3991110254560424,-0.22439988703791916,-0.9325281027769723,1.434972285835641,0.41293299829143254,0.22260783277251583,-0.6284887586125657,-0.04186487356009881,-0.4049849380508509,1.0931210510758536,-0.9357279986842723,-0.8187865619869552,-2.177802400994987,0.38835428050347276,-0.138536009177223,1.3287017218425048,2.193100689061061,2.7502259232461843,-1.4807074423373137,0.27064831548673124,0.034154607417923276,-0.2738508186098899,-0.5388356081283091],\"type\":\"scatter\"},{\"connectgaps\":false,\"fill\":\"tozeroy\",\"line\":{\"color\":\"green\",\"dash\":\"solid\",\"shape\":\"linear\",\"width\":0.5},\"mode\":\"lines\",\"name\":\"Spread\",\"showlegend\":false,\"x\":[0,1,2,3,4,5,6,7,8,9,10,11,12,13,14,15,16,17,18,19,20,21,22,23,24,25,26,27,28,29,30,31,32,33,34,35,36,37,38,39,40,41,42,43,44,45,46,47,48,49,50,51,52,53,54,55,56,57,58,59,60,61,62,63,64,65,66,67,68,69,70,71,72,73,74,75,76,77,78,79,80,81,82,83,84,85,86,87,88,89,90,91,92,93,94,95,96,97,98,99],\"xaxis\":\"x2\",\"y\":[1.5028868280238226,\"\",0.5542378287927372,0.11936628345711175,\"\",\"\",\"\",\"\",0.2572872753746116,2.261035130533327,0.42023939139938193,0.15248409703163912,1.1596759693193275,\"\",\"\",\"\",\"\",1.8243910468267148,2.207476637011772,1.3251380933150012,\"\",1.2020022463516111,2.468143432754613,\"\",1.0829400394739004,1.1390445683241817,\"\",0.3628057268483108,\"\",1.8874062841877062,\"\",\"\",\"\",0.434417082947273,3.7021734058613935,3.809423703641094,0.29228265253954255,0.22266111556434448,\"\",\"\",\"\",\"\",\"\",0.08025068338760055,\"\",\"\",0.38391617371701237,1.8964519709601395,\"\",1.8154315255932916,\"\",1.5213392743941125,\"\",0.5840917580338341,\"\",\"\",0.939658130924836,\"\",\"\",0.5910816012036817,\"\",\"\",2.036088728267888,\"\",\"\",\"\",\"\",1.5104027662547463,2.375969758523634,1.4354194132000675,0.02835898274345118,\"\",\"\",1.7786301082843543,\"\",\"\",0.4919750366976732,\"\",0.4368038048501698,0.39326475597970023,\"\",0.5458569732054015,\"\",0.964657669888096,\"\",1.2856364116666341,\"\",1.080622644682847,1.0965150938830495,1.7741857260171867,\"\",1.4876785970288922,\"\",\"\",\"\",1.3084715341873117,0.7387680819614084,\"\",\"\",\"\"],\"yaxis\":\"y2\",\"type\":\"scatter\"},{\"connectgaps\":false,\"fill\":\"tozeroy\",\"line\":{\"color\":\"red\",\"dash\":\"solid\",\"shape\":\"linear\",\"width\":0.5},\"mode\":\"lines\",\"name\":\"Spread\",\"showlegend\":false,\"x\":[0,1,2,3,4,5,6,7,8,9,10,11,12,13,14,15,16,17,18,19,20,21,22,23,24,25,26,27,28,29,30,31,32,33,34,35,36,37,38,39,40,41,42,43,44,45,46,47,48,49,50,51,52,53,54,55,56,57,58,59,60,61,62,63,64,65,66,67,68,69,70,71,72,73,74,75,76,77,78,79,80,81,82,83,84,85,86,87,88,89,90,91,92,93,94,95,96,97,98,99],\"xaxis\":\"x2\",\"y\":[\"\",-1.6345663244792794,\"\",\"\",-1.0346098524670753,-0.9183969182311091,-0.3137735028285384,-1.3221228028887315,\"\",\"\",\"\",\"\",\"\",-2.499162397244273,-0.29360618490339707,-0.96565664453307,-1.0125548245555953,\"\",\"\",\"\",-1.60131958620593,\"\",\"\",-1.938095062736345,\"\",\"\",-1.4549820354677743,\"\",-1.181377030562674,\"\",-0.9495119157422753,-1.7421310794547242,-1.4407729484234102,\"\",\"\",\"\",\"\",\"\",-0.6395317760539201,-0.5210638300116033,-0.4732864108396978,-1.0969472966997698,-3.8071771767773956,\"\",-1.1307608366711444,-0.8681659663722799,\"\",\"\",-3.1560959556753616,\"\",-2.144404673928733,\"\",-0.30838867112894364,\"\",-1.9155335368092938,-0.007507603442917066,\"\",-2.393185346252807,-0.5561425748169783,\"\",-0.7175778281090219,-1.8577860609726677,\"\",-0.0582353663773818,-0.3489624107849709,-0.5130306955144006,-1.6145482847540804,\"\",\"\",\"\",\"\",-0.7806670330349997,-0.7017821547023392,\"\",-0.6843826448352557,-1.7572306185804711,\"\",-0.579357435130277,\"\",\"\",-1.4248618035566372,\"\",-0.2928178082288518,\"\",-0.3488833955354871,\"\",-0.7766133836217286,\"\",\"\",\"\",-0.68095949886817,\"\",-2.79760472997284,-0.7552051221844209,-4.543460601717975,\"\",\"\",-0.34916959550766324,-0.12241388884644899,-1.4679195225259072],\"yaxis\":\"y2\",\"type\":\"scatter\"}],                        {\"hovermode\":\"x\",\"legend\":{\"bgcolor\":\"#F5F6F9\",\"font\":{\"color\":\"#4D5663\"}},\"paper_bgcolor\":\"#F5F6F9\",\"plot_bgcolor\":\"#F5F6F9\",\"template\":{\"data\":{\"barpolar\":[{\"marker\":{\"line\":{\"color\":\"#E5ECF6\",\"width\":0.5},\"pattern\":{\"fillmode\":\"overlay\",\"size\":10,\"solidity\":0.2}},\"type\":\"barpolar\"}],\"bar\":[{\"error_x\":{\"color\":\"#2a3f5f\"},\"error_y\":{\"color\":\"#2a3f5f\"},\"marker\":{\"line\":{\"color\":\"#E5ECF6\",\"width\":0.5},\"pattern\":{\"fillmode\":\"overlay\",\"size\":10,\"solidity\":0.2}},\"type\":\"bar\"}],\"carpet\":[{\"aaxis\":{\"endlinecolor\":\"#2a3f5f\",\"gridcolor\":\"white\",\"linecolor\":\"white\",\"minorgridcolor\":\"white\",\"startlinecolor\":\"#2a3f5f\"},\"baxis\":{\"endlinecolor\":\"#2a3f5f\",\"gridcolor\":\"white\",\"linecolor\":\"white\",\"minorgridcolor\":\"white\",\"startlinecolor\":\"#2a3f5f\"},\"type\":\"carpet\"}],\"choropleth\":[{\"colorbar\":{\"outlinewidth\":0,\"ticks\":\"\"},\"type\":\"choropleth\"}],\"contourcarpet\":[{\"colorbar\":{\"outlinewidth\":0,\"ticks\":\"\"},\"type\":\"contourcarpet\"}],\"contour\":[{\"colorbar\":{\"outlinewidth\":0,\"ticks\":\"\"},\"colorscale\":[[0.0,\"#0d0887\"],[0.1111111111111111,\"#46039f\"],[0.2222222222222222,\"#7201a8\"],[0.3333333333333333,\"#9c179e\"],[0.4444444444444444,\"#bd3786\"],[0.5555555555555556,\"#d8576b\"],[0.6666666666666666,\"#ed7953\"],[0.7777777777777778,\"#fb9f3a\"],[0.8888888888888888,\"#fdca26\"],[1.0,\"#f0f921\"]],\"type\":\"contour\"}],\"heatmapgl\":[{\"colorbar\":{\"outlinewidth\":0,\"ticks\":\"\"},\"colorscale\":[[0.0,\"#0d0887\"],[0.1111111111111111,\"#46039f\"],[0.2222222222222222,\"#7201a8\"],[0.3333333333333333,\"#9c179e\"],[0.4444444444444444,\"#bd3786\"],[0.5555555555555556,\"#d8576b\"],[0.6666666666666666,\"#ed7953\"],[0.7777777777777778,\"#fb9f3a\"],[0.8888888888888888,\"#fdca26\"],[1.0,\"#f0f921\"]],\"type\":\"heatmapgl\"}],\"heatmap\":[{\"colorbar\":{\"outlinewidth\":0,\"ticks\":\"\"},\"colorscale\":[[0.0,\"#0d0887\"],[0.1111111111111111,\"#46039f\"],[0.2222222222222222,\"#7201a8\"],[0.3333333333333333,\"#9c179e\"],[0.4444444444444444,\"#bd3786\"],[0.5555555555555556,\"#d8576b\"],[0.6666666666666666,\"#ed7953\"],[0.7777777777777778,\"#fb9f3a\"],[0.8888888888888888,\"#fdca26\"],[1.0,\"#f0f921\"]],\"type\":\"heatmap\"}],\"histogram2dcontour\":[{\"colorbar\":{\"outlinewidth\":0,\"ticks\":\"\"},\"colorscale\":[[0.0,\"#0d0887\"],[0.1111111111111111,\"#46039f\"],[0.2222222222222222,\"#7201a8\"],[0.3333333333333333,\"#9c179e\"],[0.4444444444444444,\"#bd3786\"],[0.5555555555555556,\"#d8576b\"],[0.6666666666666666,\"#ed7953\"],[0.7777777777777778,\"#fb9f3a\"],[0.8888888888888888,\"#fdca26\"],[1.0,\"#f0f921\"]],\"type\":\"histogram2dcontour\"}],\"histogram2d\":[{\"colorbar\":{\"outlinewidth\":0,\"ticks\":\"\"},\"colorscale\":[[0.0,\"#0d0887\"],[0.1111111111111111,\"#46039f\"],[0.2222222222222222,\"#7201a8\"],[0.3333333333333333,\"#9c179e\"],[0.4444444444444444,\"#bd3786\"],[0.5555555555555556,\"#d8576b\"],[0.6666666666666666,\"#ed7953\"],[0.7777777777777778,\"#fb9f3a\"],[0.8888888888888888,\"#fdca26\"],[1.0,\"#f0f921\"]],\"type\":\"histogram2d\"}],\"histogram\":[{\"marker\":{\"pattern\":{\"fillmode\":\"overlay\",\"size\":10,\"solidity\":0.2}},\"type\":\"histogram\"}],\"mesh3d\":[{\"colorbar\":{\"outlinewidth\":0,\"ticks\":\"\"},\"type\":\"mesh3d\"}],\"parcoords\":[{\"line\":{\"colorbar\":{\"outlinewidth\":0,\"ticks\":\"\"}},\"type\":\"parcoords\"}],\"pie\":[{\"automargin\":true,\"type\":\"pie\"}],\"scatter3d\":[{\"line\":{\"colorbar\":{\"outlinewidth\":0,\"ticks\":\"\"}},\"marker\":{\"colorbar\":{\"outlinewidth\":0,\"ticks\":\"\"}},\"type\":\"scatter3d\"}],\"scattercarpet\":[{\"marker\":{\"colorbar\":{\"outlinewidth\":0,\"ticks\":\"\"}},\"type\":\"scattercarpet\"}],\"scattergeo\":[{\"marker\":{\"colorbar\":{\"outlinewidth\":0,\"ticks\":\"\"}},\"type\":\"scattergeo\"}],\"scattergl\":[{\"marker\":{\"colorbar\":{\"outlinewidth\":0,\"ticks\":\"\"}},\"type\":\"scattergl\"}],\"scattermapbox\":[{\"marker\":{\"colorbar\":{\"outlinewidth\":0,\"ticks\":\"\"}},\"type\":\"scattermapbox\"}],\"scatterpolargl\":[{\"marker\":{\"colorbar\":{\"outlinewidth\":0,\"ticks\":\"\"}},\"type\":\"scatterpolargl\"}],\"scatterpolar\":[{\"marker\":{\"colorbar\":{\"outlinewidth\":0,\"ticks\":\"\"}},\"type\":\"scatterpolar\"}],\"scatter\":[{\"marker\":{\"colorbar\":{\"outlinewidth\":0,\"ticks\":\"\"}},\"type\":\"scatter\"}],\"scatterternary\":[{\"marker\":{\"colorbar\":{\"outlinewidth\":0,\"ticks\":\"\"}},\"type\":\"scatterternary\"}],\"surface\":[{\"colorbar\":{\"outlinewidth\":0,\"ticks\":\"\"},\"colorscale\":[[0.0,\"#0d0887\"],[0.1111111111111111,\"#46039f\"],[0.2222222222222222,\"#7201a8\"],[0.3333333333333333,\"#9c179e\"],[0.4444444444444444,\"#bd3786\"],[0.5555555555555556,\"#d8576b\"],[0.6666666666666666,\"#ed7953\"],[0.7777777777777778,\"#fb9f3a\"],[0.8888888888888888,\"#fdca26\"],[1.0,\"#f0f921\"]],\"type\":\"surface\"}],\"table\":[{\"cells\":{\"fill\":{\"color\":\"#EBF0F8\"},\"line\":{\"color\":\"white\"}},\"header\":{\"fill\":{\"color\":\"#C8D4E3\"},\"line\":{\"color\":\"white\"}},\"type\":\"table\"}]},\"layout\":{\"annotationdefaults\":{\"arrowcolor\":\"#2a3f5f\",\"arrowhead\":0,\"arrowwidth\":1},\"autotypenumbers\":\"strict\",\"coloraxis\":{\"colorbar\":{\"outlinewidth\":0,\"ticks\":\"\"}},\"colorscale\":{\"diverging\":[[0,\"#8e0152\"],[0.1,\"#c51b7d\"],[0.2,\"#de77ae\"],[0.3,\"#f1b6da\"],[0.4,\"#fde0ef\"],[0.5,\"#f7f7f7\"],[0.6,\"#e6f5d0\"],[0.7,\"#b8e186\"],[0.8,\"#7fbc41\"],[0.9,\"#4d9221\"],[1,\"#276419\"]],\"sequential\":[[0.0,\"#0d0887\"],[0.1111111111111111,\"#46039f\"],[0.2222222222222222,\"#7201a8\"],[0.3333333333333333,\"#9c179e\"],[0.4444444444444444,\"#bd3786\"],[0.5555555555555556,\"#d8576b\"],[0.6666666666666666,\"#ed7953\"],[0.7777777777777778,\"#fb9f3a\"],[0.8888888888888888,\"#fdca26\"],[1.0,\"#f0f921\"]],\"sequentialminus\":[[0.0,\"#0d0887\"],[0.1111111111111111,\"#46039f\"],[0.2222222222222222,\"#7201a8\"],[0.3333333333333333,\"#9c179e\"],[0.4444444444444444,\"#bd3786\"],[0.5555555555555556,\"#d8576b\"],[0.6666666666666666,\"#ed7953\"],[0.7777777777777778,\"#fb9f3a\"],[0.8888888888888888,\"#fdca26\"],[1.0,\"#f0f921\"]]},\"colorway\":[\"#636efa\",\"#EF553B\",\"#00cc96\",\"#ab63fa\",\"#FFA15A\",\"#19d3f3\",\"#FF6692\",\"#B6E880\",\"#FF97FF\",\"#FECB52\"],\"font\":{\"color\":\"#2a3f5f\"},\"geo\":{\"bgcolor\":\"white\",\"lakecolor\":\"white\",\"landcolor\":\"#E5ECF6\",\"showlakes\":true,\"showland\":true,\"subunitcolor\":\"white\"},\"hoverlabel\":{\"align\":\"left\"},\"hovermode\":\"closest\",\"mapbox\":{\"style\":\"light\"},\"paper_bgcolor\":\"white\",\"plot_bgcolor\":\"#E5ECF6\",\"polar\":{\"angularaxis\":{\"gridcolor\":\"white\",\"linecolor\":\"white\",\"ticks\":\"\"},\"bgcolor\":\"#E5ECF6\",\"radialaxis\":{\"gridcolor\":\"white\",\"linecolor\":\"white\",\"ticks\":\"\"}},\"scene\":{\"xaxis\":{\"backgroundcolor\":\"#E5ECF6\",\"gridcolor\":\"white\",\"gridwidth\":2,\"linecolor\":\"white\",\"showbackground\":true,\"ticks\":\"\",\"zerolinecolor\":\"white\"},\"yaxis\":{\"backgroundcolor\":\"#E5ECF6\",\"gridcolor\":\"white\",\"gridwidth\":2,\"linecolor\":\"white\",\"showbackground\":true,\"ticks\":\"\",\"zerolinecolor\":\"white\"},\"zaxis\":{\"backgroundcolor\":\"#E5ECF6\",\"gridcolor\":\"white\",\"gridwidth\":2,\"linecolor\":\"white\",\"showbackground\":true,\"ticks\":\"\",\"zerolinecolor\":\"white\"}},\"shapedefaults\":{\"line\":{\"color\":\"#2a3f5f\"}},\"ternary\":{\"aaxis\":{\"gridcolor\":\"white\",\"linecolor\":\"white\",\"ticks\":\"\"},\"baxis\":{\"gridcolor\":\"white\",\"linecolor\":\"white\",\"ticks\":\"\"},\"bgcolor\":\"#E5ECF6\",\"caxis\":{\"gridcolor\":\"white\",\"linecolor\":\"white\",\"ticks\":\"\"}},\"title\":{\"x\":0.05},\"xaxis\":{\"automargin\":true,\"gridcolor\":\"white\",\"linecolor\":\"white\",\"ticks\":\"\",\"title\":{\"standoff\":15},\"zerolinecolor\":\"white\",\"zerolinewidth\":2},\"yaxis\":{\"automargin\":true,\"gridcolor\":\"white\",\"linecolor\":\"white\",\"ticks\":\"\",\"title\":{\"standoff\":15},\"zerolinecolor\":\"white\",\"zerolinewidth\":2}}},\"title\":{\"font\":{\"color\":\"#4D5663\"}},\"xaxis\":{\"gridcolor\":\"#E1E5ED\",\"showgrid\":true,\"tickfont\":{\"color\":\"#4D5663\"},\"title\":{\"font\":{\"color\":\"#4D5663\"},\"text\":\"\"},\"zerolinecolor\":\"#E1E5ED\"},\"yaxis\":{\"domain\":[0.3,1],\"gridcolor\":\"#E1E5ED\",\"showgrid\":true,\"tickfont\":{\"color\":\"#4D5663\"},\"title\":{\"font\":{\"color\":\"#4D5663\"},\"text\":\"\"},\"zerolinecolor\":\"#E1E5ED\"},\"yaxis2\":{\"domain\":[0,0.25],\"gridcolor\":\"#E1E5ED\",\"showgrid\":true,\"tickfont\":{\"color\":\"#4D5663\"},\"title\":{\"font\":{\"color\":\"#4D5663\"},\"text\":\"Spread\"},\"zerolinecolor\":\"#E1E5ED\"},\"xaxis2\":{\"anchor\":\"y2\",\"gridcolor\":\"#E1E5ED\",\"showgrid\":true,\"showticklabels\":false,\"tickfont\":{\"color\":\"#4D5663\"},\"title\":{\"font\":{\"color\":\"#4D5663\"},\"text\":\"\"},\"zerolinecolor\":\"#E1E5ED\"}},                        {\"showLink\": true, \"linkText\": \"Export to plot.ly\", \"plotlyServerURL\": \"https://plot.ly\", \"responsive\": true}                    ).then(function(){\n",
       "                            \n",
       "var gd = document.getElementById('39156667-8ee3-4c71-9eee-428fc84f8416');\n",
       "var x = new MutationObserver(function (mutations, observer) {{\n",
       "        var display = window.getComputedStyle(gd).display;\n",
       "        if (!display || display === 'none') {{\n",
       "            console.log([gd, 'removed!']);\n",
       "            Plotly.purge(gd);\n",
       "            observer.disconnect();\n",
       "        }}\n",
       "}});\n",
       "\n",
       "// Listen for the removal of the full notebook cells\n",
       "var notebookContainer = gd.closest('#notebook-container');\n",
       "if (notebookContainer) {{\n",
       "    x.observe(notebookContainer, {childList: true});\n",
       "}}\n",
       "\n",
       "// Listen for the clearing of the current output cell\n",
       "var outputEl = gd.closest('.output');\n",
       "if (outputEl) {{\n",
       "    x.observe(outputEl, {childList: true});\n",
       "}}\n",
       "\n",
       "                        })                };                });            </script>        </div>"
      ]
     },
     "metadata": {},
     "output_type": "display_data"
    }
   ],
   "source": [
    "# it is usefull for stock data\n",
    "df[['A','B']].iplot(kind='spread')"
   ]
  },
  {
   "cell_type": "code",
   "execution_count": 51,
   "id": "5e6a12f0",
   "metadata": {},
   "outputs": [
    {
     "data": {
      "application/vnd.plotly.v1+json": {
       "config": {
        "linkText": "Export to plot.ly",
        "plotlyServerURL": "https://plot.ly",
        "showLink": true
       },
       "data": [
        {
         "marker": {
          "color": [
           "rgb(255, 153, 51)",
           "rgb(55, 128, 191)",
           "rgb(50, 171, 96)",
           "rgb(128, 0, 128)",
           "rgb(219, 64, 82)",
           "rgb(0, 128, 128)",
           "rgb(255, 255, 51)",
           "rgb(128, 128, 0)",
           "rgb(251, 128, 114)",
           "rgb(128, 177, 211)"
          ],
          "line": {
           "width": 1.3
          },
          "size": [
           92,
           40,
           43,
           54,
           37,
           82,
           72,
           47,
           74,
           88,
           58,
           94,
           61,
           42,
           60,
           44,
           66,
           64,
           79,
           41,
           69,
           74,
           59,
           70,
           84,
           52,
           57,
           55,
           53,
           56,
           46,
           95,
           67,
           35,
           20,
           41,
           37,
           60,
           27,
           83,
           26,
           71,
           68,
           42,
           45,
           47,
           46,
           62,
           66,
           74,
           65,
           60,
           68,
           48,
           62,
           49,
           49,
           57,
           30,
           41,
           73,
           50,
           72,
           65,
           64,
           64,
           58,
           51,
           12,
           44,
           39,
           47,
           64,
           56,
           53,
           62,
           52,
           82,
           112,
           61,
           39,
           80,
           81,
           58,
           54,
           92,
           66,
           31,
           48,
           57,
           67,
           56,
           69,
           63,
           88,
           48,
           50,
           71,
           66,
           71
          ],
          "symbol": "circle"
         },
         "mode": "markers",
         "text": "",
         "type": "scatter",
         "x": [
          1.384941095893982,
          -0.3647871044245467,
          -1.613377798789012,
          -0.12920481127577702,
          -0.6300029180423312,
          0.6955311102837984,
          -0.07774289928427856,
          -1.5481508917079352,
          0.3144299528461812,
          1.483756889675816,
          1.3631631851081898,
          0.3577161379182844,
          0.44425005373458687,
          -1.3026835005270772,
          0.8586317944028101,
          -0.12796403591939365,
          0.373209303997531,
          0.5869332431334456,
          0.4864253873475166,
          1.0756346615585344,
          -1.052001580878504,
          0.0906431802398545,
          1.0580572090375877,
          -0.9848808039026463,
          0.5513641846951675,
          1.1659210728519842,
          0.020314764012267873,
          0.3074031709948694,
          -0.23909296540380182,
          0.02171216478090794,
          -0.16254690733414418,
          -0.33711970357111226,
          0.8142846009651958,
          0.5807041935213351,
          1.517465474603419,
          2.64825109236516,
          0.9118993743273417,
          0.3344914818573978,
          -0.6980817050442862,
          -0.014535950295435083,
          -0.29814416383545383,
          -0.0017524875066887394,
          -1.1233972672402575,
          0.06762297707903585,
          -0.16466873420852687,
          -0.1795079343480467,
          -0.6751925963714834,
          2.006888382314444,
          -0.7838881243097859,
          0.9294115904771026,
          -1.058238874474584,
          0.6586637071443632,
          -0.37707299217026374,
          -0.13598986025585266,
          -1.4967184420595114,
          0.4153485006683915,
          0.24121216996263192,
          -3.092016438708254,
          -1.2219917686899848,
          0.8869662273854365,
          -1.0682780065598037,
          -1.2106122878269856,
          0.803250005443257,
          0.9877199560578738,
          -0.2258121665388722,
          0.13923967982184132,
          -0.22573522543316654,
          1.6171694614878647,
          0.5477551242136519,
          0.4420065170066808,
          0.06747036201760358,
          -1.641776468835695,
          -0.2876490151341459,
          0.3684314172007868,
          1.1306668046343704,
          -0.8340553638572694,
          0.6712547294009807,
          0.8197535903257653,
          0.2124039178122506,
          -0.5392633467972721,
          0.010110482279003876,
          0.958789971496834,
          -0.07020997545633594,
          0.33616891127553034,
          -0.3907482690955859,
          0.8806514736157832,
          0.31650766745412495,
          0.1448946459985747,
          0.27772853189609437,
          -0.4036166749778001,
          -0.2926052183646972,
          1.3491425878516692,
          -1.4689030081303354,
          1.43789556687664,
          -1.79323467847179,
          -0.17223590815000211,
          1.0094163974481396,
          -0.31501498808974,
          -0.3962647074563389,
          -2.0067551306542164
         ],
         "y": [
          -0.11794573212984044,
          1.2697792200547326,
          -2.1676156275817493,
          -0.24857109473288877,
          0.40460693442474416,
          1.6139280285149076,
          0.2360306035442598,
          -0.22602808881920358,
          0.057142677471569564,
          -0.7772782408575107,
          0.9429237937088079,
          0.20523204088664526,
          -0.7154259155847406,
          1.1964788967171962,
          1.1522379793062072,
          0.8376926086136763,
          1.3857641285531264,
          -1.2374578036932693,
          -1.7210512496642552,
          -0.2495034317564669,
          0.549318005327426,
          -1.1113590661117567,
          -1.4100862237170253,
          0.9532142588336986,
          -0.5315758547787328,
          0.026876504527802447,
          1.475296799480042,
          -0.05540255585344138,
          0.9422840651588723,
          -1.8656941194067982,
          0.7869650084081312,
          1.405011375883612,
          2.255057549388606,
          0.1462871105740621,
          -2.1847079312579747,
          -1.161172611275934,
          0.6196167217877991,
          0.11183036629305333,
          -0.05854992899036618,
          0.5065278797161682,
          0.175142247004244,
          1.095194809193081,
          2.6837799095371384,
          -0.012627706308564711,
          0.9660921024626176,
          0.6886580320242333,
          -1.0591087700884958,
          0.1104364113543046,
          2.372207831365576,
          -0.8860199351161889,
          1.086165799454149,
          -0.8626755672497495,
          -0.06868432104132013,
          -0.7200816182896868,
          0.4188150947497825,
          0.4228561041113086,
          -0.698445960962204,
          -0.6988310924554466,
          -0.6658491938730066,
          0.2958846261817548,
          -0.3507001784507818,
          0.647173773145682,
          -1.2328387228246311,
          1.0459553224352556,
          0.1231502442460987,
          0.6522703753362419,
          1.3888130593209138,
          0.10676669523311827,
          -1.8282146343099823,
          -0.9934128961933868,
          0.0391113792741524,
          -0.8611094358006953,
          0.41413313956819325,
          -1.4101986910835675,
          1.815049449469626,
          0.9231752547232016,
          0.17927969270330754,
          1.3991110254560424,
          -0.22439988703791916,
          -0.9325281027769723,
          1.434972285835641,
          0.41293299829143254,
          0.22260783277251583,
          -0.6284887586125657,
          -0.04186487356009881,
          -0.4049849380508509,
          1.0931210510758536,
          -0.9357279986842723,
          -0.8187865619869552,
          -2.177802400994987,
          0.38835428050347276,
          -0.138536009177223,
          1.3287017218425048,
          2.193100689061061,
          2.7502259232461843,
          -1.4807074423373137,
          0.27064831548673124,
          0.034154607417923276,
          -0.2738508186098899,
          -0.5388356081283091
         ]
        }
       ],
       "layout": {
        "legend": {
         "bgcolor": "#F5F6F9",
         "font": {
          "color": "#4D5663"
         }
        },
        "paper_bgcolor": "#F5F6F9",
        "plot_bgcolor": "#F5F6F9",
        "template": {
         "data": {
          "bar": [
           {
            "error_x": {
             "color": "#2a3f5f"
            },
            "error_y": {
             "color": "#2a3f5f"
            },
            "marker": {
             "line": {
              "color": "#E5ECF6",
              "width": 0.5
             },
             "pattern": {
              "fillmode": "overlay",
              "size": 10,
              "solidity": 0.2
             }
            },
            "type": "bar"
           }
          ],
          "barpolar": [
           {
            "marker": {
             "line": {
              "color": "#E5ECF6",
              "width": 0.5
             },
             "pattern": {
              "fillmode": "overlay",
              "size": 10,
              "solidity": 0.2
             }
            },
            "type": "barpolar"
           }
          ],
          "carpet": [
           {
            "aaxis": {
             "endlinecolor": "#2a3f5f",
             "gridcolor": "white",
             "linecolor": "white",
             "minorgridcolor": "white",
             "startlinecolor": "#2a3f5f"
            },
            "baxis": {
             "endlinecolor": "#2a3f5f",
             "gridcolor": "white",
             "linecolor": "white",
             "minorgridcolor": "white",
             "startlinecolor": "#2a3f5f"
            },
            "type": "carpet"
           }
          ],
          "choropleth": [
           {
            "colorbar": {
             "outlinewidth": 0,
             "ticks": ""
            },
            "type": "choropleth"
           }
          ],
          "contour": [
           {
            "colorbar": {
             "outlinewidth": 0,
             "ticks": ""
            },
            "colorscale": [
             [
              0,
              "#0d0887"
             ],
             [
              0.1111111111111111,
              "#46039f"
             ],
             [
              0.2222222222222222,
              "#7201a8"
             ],
             [
              0.3333333333333333,
              "#9c179e"
             ],
             [
              0.4444444444444444,
              "#bd3786"
             ],
             [
              0.5555555555555556,
              "#d8576b"
             ],
             [
              0.6666666666666666,
              "#ed7953"
             ],
             [
              0.7777777777777778,
              "#fb9f3a"
             ],
             [
              0.8888888888888888,
              "#fdca26"
             ],
             [
              1,
              "#f0f921"
             ]
            ],
            "type": "contour"
           }
          ],
          "contourcarpet": [
           {
            "colorbar": {
             "outlinewidth": 0,
             "ticks": ""
            },
            "type": "contourcarpet"
           }
          ],
          "heatmap": [
           {
            "colorbar": {
             "outlinewidth": 0,
             "ticks": ""
            },
            "colorscale": [
             [
              0,
              "#0d0887"
             ],
             [
              0.1111111111111111,
              "#46039f"
             ],
             [
              0.2222222222222222,
              "#7201a8"
             ],
             [
              0.3333333333333333,
              "#9c179e"
             ],
             [
              0.4444444444444444,
              "#bd3786"
             ],
             [
              0.5555555555555556,
              "#d8576b"
             ],
             [
              0.6666666666666666,
              "#ed7953"
             ],
             [
              0.7777777777777778,
              "#fb9f3a"
             ],
             [
              0.8888888888888888,
              "#fdca26"
             ],
             [
              1,
              "#f0f921"
             ]
            ],
            "type": "heatmap"
           }
          ],
          "heatmapgl": [
           {
            "colorbar": {
             "outlinewidth": 0,
             "ticks": ""
            },
            "colorscale": [
             [
              0,
              "#0d0887"
             ],
             [
              0.1111111111111111,
              "#46039f"
             ],
             [
              0.2222222222222222,
              "#7201a8"
             ],
             [
              0.3333333333333333,
              "#9c179e"
             ],
             [
              0.4444444444444444,
              "#bd3786"
             ],
             [
              0.5555555555555556,
              "#d8576b"
             ],
             [
              0.6666666666666666,
              "#ed7953"
             ],
             [
              0.7777777777777778,
              "#fb9f3a"
             ],
             [
              0.8888888888888888,
              "#fdca26"
             ],
             [
              1,
              "#f0f921"
             ]
            ],
            "type": "heatmapgl"
           }
          ],
          "histogram": [
           {
            "marker": {
             "pattern": {
              "fillmode": "overlay",
              "size": 10,
              "solidity": 0.2
             }
            },
            "type": "histogram"
           }
          ],
          "histogram2d": [
           {
            "colorbar": {
             "outlinewidth": 0,
             "ticks": ""
            },
            "colorscale": [
             [
              0,
              "#0d0887"
             ],
             [
              0.1111111111111111,
              "#46039f"
             ],
             [
              0.2222222222222222,
              "#7201a8"
             ],
             [
              0.3333333333333333,
              "#9c179e"
             ],
             [
              0.4444444444444444,
              "#bd3786"
             ],
             [
              0.5555555555555556,
              "#d8576b"
             ],
             [
              0.6666666666666666,
              "#ed7953"
             ],
             [
              0.7777777777777778,
              "#fb9f3a"
             ],
             [
              0.8888888888888888,
              "#fdca26"
             ],
             [
              1,
              "#f0f921"
             ]
            ],
            "type": "histogram2d"
           }
          ],
          "histogram2dcontour": [
           {
            "colorbar": {
             "outlinewidth": 0,
             "ticks": ""
            },
            "colorscale": [
             [
              0,
              "#0d0887"
             ],
             [
              0.1111111111111111,
              "#46039f"
             ],
             [
              0.2222222222222222,
              "#7201a8"
             ],
             [
              0.3333333333333333,
              "#9c179e"
             ],
             [
              0.4444444444444444,
              "#bd3786"
             ],
             [
              0.5555555555555556,
              "#d8576b"
             ],
             [
              0.6666666666666666,
              "#ed7953"
             ],
             [
              0.7777777777777778,
              "#fb9f3a"
             ],
             [
              0.8888888888888888,
              "#fdca26"
             ],
             [
              1,
              "#f0f921"
             ]
            ],
            "type": "histogram2dcontour"
           }
          ],
          "mesh3d": [
           {
            "colorbar": {
             "outlinewidth": 0,
             "ticks": ""
            },
            "type": "mesh3d"
           }
          ],
          "parcoords": [
           {
            "line": {
             "colorbar": {
              "outlinewidth": 0,
              "ticks": ""
             }
            },
            "type": "parcoords"
           }
          ],
          "pie": [
           {
            "automargin": true,
            "type": "pie"
           }
          ],
          "scatter": [
           {
            "marker": {
             "colorbar": {
              "outlinewidth": 0,
              "ticks": ""
             }
            },
            "type": "scatter"
           }
          ],
          "scatter3d": [
           {
            "line": {
             "colorbar": {
              "outlinewidth": 0,
              "ticks": ""
             }
            },
            "marker": {
             "colorbar": {
              "outlinewidth": 0,
              "ticks": ""
             }
            },
            "type": "scatter3d"
           }
          ],
          "scattercarpet": [
           {
            "marker": {
             "colorbar": {
              "outlinewidth": 0,
              "ticks": ""
             }
            },
            "type": "scattercarpet"
           }
          ],
          "scattergeo": [
           {
            "marker": {
             "colorbar": {
              "outlinewidth": 0,
              "ticks": ""
             }
            },
            "type": "scattergeo"
           }
          ],
          "scattergl": [
           {
            "marker": {
             "colorbar": {
              "outlinewidth": 0,
              "ticks": ""
             }
            },
            "type": "scattergl"
           }
          ],
          "scattermapbox": [
           {
            "marker": {
             "colorbar": {
              "outlinewidth": 0,
              "ticks": ""
             }
            },
            "type": "scattermapbox"
           }
          ],
          "scatterpolar": [
           {
            "marker": {
             "colorbar": {
              "outlinewidth": 0,
              "ticks": ""
             }
            },
            "type": "scatterpolar"
           }
          ],
          "scatterpolargl": [
           {
            "marker": {
             "colorbar": {
              "outlinewidth": 0,
              "ticks": ""
             }
            },
            "type": "scatterpolargl"
           }
          ],
          "scatterternary": [
           {
            "marker": {
             "colorbar": {
              "outlinewidth": 0,
              "ticks": ""
             }
            },
            "type": "scatterternary"
           }
          ],
          "surface": [
           {
            "colorbar": {
             "outlinewidth": 0,
             "ticks": ""
            },
            "colorscale": [
             [
              0,
              "#0d0887"
             ],
             [
              0.1111111111111111,
              "#46039f"
             ],
             [
              0.2222222222222222,
              "#7201a8"
             ],
             [
              0.3333333333333333,
              "#9c179e"
             ],
             [
              0.4444444444444444,
              "#bd3786"
             ],
             [
              0.5555555555555556,
              "#d8576b"
             ],
             [
              0.6666666666666666,
              "#ed7953"
             ],
             [
              0.7777777777777778,
              "#fb9f3a"
             ],
             [
              0.8888888888888888,
              "#fdca26"
             ],
             [
              1,
              "#f0f921"
             ]
            ],
            "type": "surface"
           }
          ],
          "table": [
           {
            "cells": {
             "fill": {
              "color": "#EBF0F8"
             },
             "line": {
              "color": "white"
             }
            },
            "header": {
             "fill": {
              "color": "#C8D4E3"
             },
             "line": {
              "color": "white"
             }
            },
            "type": "table"
           }
          ]
         },
         "layout": {
          "annotationdefaults": {
           "arrowcolor": "#2a3f5f",
           "arrowhead": 0,
           "arrowwidth": 1
          },
          "autotypenumbers": "strict",
          "coloraxis": {
           "colorbar": {
            "outlinewidth": 0,
            "ticks": ""
           }
          },
          "colorscale": {
           "diverging": [
            [
             0,
             "#8e0152"
            ],
            [
             0.1,
             "#c51b7d"
            ],
            [
             0.2,
             "#de77ae"
            ],
            [
             0.3,
             "#f1b6da"
            ],
            [
             0.4,
             "#fde0ef"
            ],
            [
             0.5,
             "#f7f7f7"
            ],
            [
             0.6,
             "#e6f5d0"
            ],
            [
             0.7,
             "#b8e186"
            ],
            [
             0.8,
             "#7fbc41"
            ],
            [
             0.9,
             "#4d9221"
            ],
            [
             1,
             "#276419"
            ]
           ],
           "sequential": [
            [
             0,
             "#0d0887"
            ],
            [
             0.1111111111111111,
             "#46039f"
            ],
            [
             0.2222222222222222,
             "#7201a8"
            ],
            [
             0.3333333333333333,
             "#9c179e"
            ],
            [
             0.4444444444444444,
             "#bd3786"
            ],
            [
             0.5555555555555556,
             "#d8576b"
            ],
            [
             0.6666666666666666,
             "#ed7953"
            ],
            [
             0.7777777777777778,
             "#fb9f3a"
            ],
            [
             0.8888888888888888,
             "#fdca26"
            ],
            [
             1,
             "#f0f921"
            ]
           ],
           "sequentialminus": [
            [
             0,
             "#0d0887"
            ],
            [
             0.1111111111111111,
             "#46039f"
            ],
            [
             0.2222222222222222,
             "#7201a8"
            ],
            [
             0.3333333333333333,
             "#9c179e"
            ],
            [
             0.4444444444444444,
             "#bd3786"
            ],
            [
             0.5555555555555556,
             "#d8576b"
            ],
            [
             0.6666666666666666,
             "#ed7953"
            ],
            [
             0.7777777777777778,
             "#fb9f3a"
            ],
            [
             0.8888888888888888,
             "#fdca26"
            ],
            [
             1,
             "#f0f921"
            ]
           ]
          },
          "colorway": [
           "#636efa",
           "#EF553B",
           "#00cc96",
           "#ab63fa",
           "#FFA15A",
           "#19d3f3",
           "#FF6692",
           "#B6E880",
           "#FF97FF",
           "#FECB52"
          ],
          "font": {
           "color": "#2a3f5f"
          },
          "geo": {
           "bgcolor": "white",
           "lakecolor": "white",
           "landcolor": "#E5ECF6",
           "showlakes": true,
           "showland": true,
           "subunitcolor": "white"
          },
          "hoverlabel": {
           "align": "left"
          },
          "hovermode": "closest",
          "mapbox": {
           "style": "light"
          },
          "paper_bgcolor": "white",
          "plot_bgcolor": "#E5ECF6",
          "polar": {
           "angularaxis": {
            "gridcolor": "white",
            "linecolor": "white",
            "ticks": ""
           },
           "bgcolor": "#E5ECF6",
           "radialaxis": {
            "gridcolor": "white",
            "linecolor": "white",
            "ticks": ""
           }
          },
          "scene": {
           "xaxis": {
            "backgroundcolor": "#E5ECF6",
            "gridcolor": "white",
            "gridwidth": 2,
            "linecolor": "white",
            "showbackground": true,
            "ticks": "",
            "zerolinecolor": "white"
           },
           "yaxis": {
            "backgroundcolor": "#E5ECF6",
            "gridcolor": "white",
            "gridwidth": 2,
            "linecolor": "white",
            "showbackground": true,
            "ticks": "",
            "zerolinecolor": "white"
           },
           "zaxis": {
            "backgroundcolor": "#E5ECF6",
            "gridcolor": "white",
            "gridwidth": 2,
            "linecolor": "white",
            "showbackground": true,
            "ticks": "",
            "zerolinecolor": "white"
           }
          },
          "shapedefaults": {
           "line": {
            "color": "#2a3f5f"
           }
          },
          "ternary": {
           "aaxis": {
            "gridcolor": "white",
            "linecolor": "white",
            "ticks": ""
           },
           "baxis": {
            "gridcolor": "white",
            "linecolor": "white",
            "ticks": ""
           },
           "bgcolor": "#E5ECF6",
           "caxis": {
            "gridcolor": "white",
            "linecolor": "white",
            "ticks": ""
           }
          },
          "title": {
           "x": 0.05
          },
          "xaxis": {
           "automargin": true,
           "gridcolor": "white",
           "linecolor": "white",
           "ticks": "",
           "title": {
            "standoff": 15
           },
           "zerolinecolor": "white",
           "zerolinewidth": 2
          },
          "yaxis": {
           "automargin": true,
           "gridcolor": "white",
           "linecolor": "white",
           "ticks": "",
           "title": {
            "standoff": 15
           },
           "zerolinecolor": "white",
           "zerolinewidth": 2
          }
         }
        },
        "title": {
         "font": {
          "color": "#4D5663"
         }
        },
        "xaxis": {
         "gridcolor": "#E1E5ED",
         "showgrid": true,
         "tickfont": {
          "color": "#4D5663"
         },
         "title": {
          "font": {
           "color": "#4D5663"
          },
          "text": ""
         },
         "zerolinecolor": "#E1E5ED"
        },
        "yaxis": {
         "gridcolor": "#E1E5ED",
         "showgrid": true,
         "tickfont": {
          "color": "#4D5663"
         },
         "title": {
          "font": {
           "color": "#4D5663"
          },
          "text": ""
         },
         "zerolinecolor": "#E1E5ED"
        }
       }
      },
      "text/html": [
       "<div>                            <div id=\"875a3cda-ec1b-45aa-9abc-de1c9c31065f\" class=\"plotly-graph-div\" style=\"height:525px; width:100%;\"></div>            <script type=\"text/javascript\">                require([\"plotly\"], function(Plotly) {                    window.PLOTLYENV=window.PLOTLYENV || {};\n",
       "                    window.PLOTLYENV.BASE_URL='https://plot.ly';                                    if (document.getElementById(\"875a3cda-ec1b-45aa-9abc-de1c9c31065f\")) {                    Plotly.newPlot(                        \"875a3cda-ec1b-45aa-9abc-de1c9c31065f\",                        [{\"marker\":{\"color\":[\"rgb(255, 153, 51)\",\"rgb(55, 128, 191)\",\"rgb(50, 171, 96)\",\"rgb(128, 0, 128)\",\"rgb(219, 64, 82)\",\"rgb(0, 128, 128)\",\"rgb(255, 255, 51)\",\"rgb(128, 128, 0)\",\"rgb(251, 128, 114)\",\"rgb(128, 177, 211)\"],\"line\":{\"width\":1.3},\"size\":[92,40,43,54,37,82,72,47,74,88,58,94,61,42,60,44,66,64,79,41,69,74,59,70,84,52,57,55,53,56,46,95,67,35,20,41,37,60,27,83,26,71,68,42,45,47,46,62,66,74,65,60,68,48,62,49,49,57,30,41,73,50,72,65,64,64,58,51,12,44,39,47,64,56,53,62,52,82,112,61,39,80,81,58,54,92,66,31,48,57,67,56,69,63,88,48,50,71,66,71],\"symbol\":\"circle\"},\"mode\":\"markers\",\"text\":\"\",\"x\":[1.384941095893982,-0.3647871044245467,-1.613377798789012,-0.12920481127577702,-0.6300029180423312,0.6955311102837984,-0.07774289928427856,-1.5481508917079352,0.3144299528461812,1.483756889675816,1.3631631851081898,0.3577161379182844,0.44425005373458687,-1.3026835005270772,0.8586317944028101,-0.12796403591939365,0.373209303997531,0.5869332431334456,0.4864253873475166,1.0756346615585344,-1.052001580878504,0.0906431802398545,1.0580572090375877,-0.9848808039026463,0.5513641846951675,1.1659210728519842,0.020314764012267873,0.3074031709948694,-0.23909296540380182,0.02171216478090794,-0.16254690733414418,-0.33711970357111226,0.8142846009651958,0.5807041935213351,1.517465474603419,2.64825109236516,0.9118993743273417,0.3344914818573978,-0.6980817050442862,-0.014535950295435083,-0.29814416383545383,-0.0017524875066887394,-1.1233972672402575,0.06762297707903585,-0.16466873420852687,-0.1795079343480467,-0.6751925963714834,2.006888382314444,-0.7838881243097859,0.9294115904771026,-1.058238874474584,0.6586637071443632,-0.37707299217026374,-0.13598986025585266,-1.4967184420595114,0.4153485006683915,0.24121216996263192,-3.092016438708254,-1.2219917686899848,0.8869662273854365,-1.0682780065598037,-1.2106122878269856,0.803250005443257,0.9877199560578738,-0.2258121665388722,0.13923967982184132,-0.22573522543316654,1.6171694614878647,0.5477551242136519,0.4420065170066808,0.06747036201760358,-1.641776468835695,-0.2876490151341459,0.3684314172007868,1.1306668046343704,-0.8340553638572694,0.6712547294009807,0.8197535903257653,0.2124039178122506,-0.5392633467972721,0.010110482279003876,0.958789971496834,-0.07020997545633594,0.33616891127553034,-0.3907482690955859,0.8806514736157832,0.31650766745412495,0.1448946459985747,0.27772853189609437,-0.4036166749778001,-0.2926052183646972,1.3491425878516692,-1.4689030081303354,1.43789556687664,-1.79323467847179,-0.17223590815000211,1.0094163974481396,-0.31501498808974,-0.3962647074563389,-2.0067551306542164],\"y\":[-0.11794573212984044,1.2697792200547326,-2.1676156275817493,-0.24857109473288877,0.40460693442474416,1.6139280285149076,0.2360306035442598,-0.22602808881920358,0.057142677471569564,-0.7772782408575107,0.9429237937088079,0.20523204088664526,-0.7154259155847406,1.1964788967171962,1.1522379793062072,0.8376926086136763,1.3857641285531264,-1.2374578036932693,-1.7210512496642552,-0.2495034317564669,0.549318005327426,-1.1113590661117567,-1.4100862237170253,0.9532142588336986,-0.5315758547787328,0.026876504527802447,1.475296799480042,-0.05540255585344138,0.9422840651588723,-1.8656941194067982,0.7869650084081312,1.405011375883612,2.255057549388606,0.1462871105740621,-2.1847079312579747,-1.161172611275934,0.6196167217877991,0.11183036629305333,-0.05854992899036618,0.5065278797161682,0.175142247004244,1.095194809193081,2.6837799095371384,-0.012627706308564711,0.9660921024626176,0.6886580320242333,-1.0591087700884958,0.1104364113543046,2.372207831365576,-0.8860199351161889,1.086165799454149,-0.8626755672497495,-0.06868432104132013,-0.7200816182896868,0.4188150947497825,0.4228561041113086,-0.698445960962204,-0.6988310924554466,-0.6658491938730066,0.2958846261817548,-0.3507001784507818,0.647173773145682,-1.2328387228246311,1.0459553224352556,0.1231502442460987,0.6522703753362419,1.3888130593209138,0.10676669523311827,-1.8282146343099823,-0.9934128961933868,0.0391113792741524,-0.8611094358006953,0.41413313956819325,-1.4101986910835675,1.815049449469626,0.9231752547232016,0.17927969270330754,1.3991110254560424,-0.22439988703791916,-0.9325281027769723,1.434972285835641,0.41293299829143254,0.22260783277251583,-0.6284887586125657,-0.04186487356009881,-0.4049849380508509,1.0931210510758536,-0.9357279986842723,-0.8187865619869552,-2.177802400994987,0.38835428050347276,-0.138536009177223,1.3287017218425048,2.193100689061061,2.7502259232461843,-1.4807074423373137,0.27064831548673124,0.034154607417923276,-0.2738508186098899,-0.5388356081283091],\"type\":\"scatter\"}],                        {\"legend\":{\"bgcolor\":\"#F5F6F9\",\"font\":{\"color\":\"#4D5663\"}},\"paper_bgcolor\":\"#F5F6F9\",\"plot_bgcolor\":\"#F5F6F9\",\"template\":{\"data\":{\"barpolar\":[{\"marker\":{\"line\":{\"color\":\"#E5ECF6\",\"width\":0.5},\"pattern\":{\"fillmode\":\"overlay\",\"size\":10,\"solidity\":0.2}},\"type\":\"barpolar\"}],\"bar\":[{\"error_x\":{\"color\":\"#2a3f5f\"},\"error_y\":{\"color\":\"#2a3f5f\"},\"marker\":{\"line\":{\"color\":\"#E5ECF6\",\"width\":0.5},\"pattern\":{\"fillmode\":\"overlay\",\"size\":10,\"solidity\":0.2}},\"type\":\"bar\"}],\"carpet\":[{\"aaxis\":{\"endlinecolor\":\"#2a3f5f\",\"gridcolor\":\"white\",\"linecolor\":\"white\",\"minorgridcolor\":\"white\",\"startlinecolor\":\"#2a3f5f\"},\"baxis\":{\"endlinecolor\":\"#2a3f5f\",\"gridcolor\":\"white\",\"linecolor\":\"white\",\"minorgridcolor\":\"white\",\"startlinecolor\":\"#2a3f5f\"},\"type\":\"carpet\"}],\"choropleth\":[{\"colorbar\":{\"outlinewidth\":0,\"ticks\":\"\"},\"type\":\"choropleth\"}],\"contourcarpet\":[{\"colorbar\":{\"outlinewidth\":0,\"ticks\":\"\"},\"type\":\"contourcarpet\"}],\"contour\":[{\"colorbar\":{\"outlinewidth\":0,\"ticks\":\"\"},\"colorscale\":[[0.0,\"#0d0887\"],[0.1111111111111111,\"#46039f\"],[0.2222222222222222,\"#7201a8\"],[0.3333333333333333,\"#9c179e\"],[0.4444444444444444,\"#bd3786\"],[0.5555555555555556,\"#d8576b\"],[0.6666666666666666,\"#ed7953\"],[0.7777777777777778,\"#fb9f3a\"],[0.8888888888888888,\"#fdca26\"],[1.0,\"#f0f921\"]],\"type\":\"contour\"}],\"heatmapgl\":[{\"colorbar\":{\"outlinewidth\":0,\"ticks\":\"\"},\"colorscale\":[[0.0,\"#0d0887\"],[0.1111111111111111,\"#46039f\"],[0.2222222222222222,\"#7201a8\"],[0.3333333333333333,\"#9c179e\"],[0.4444444444444444,\"#bd3786\"],[0.5555555555555556,\"#d8576b\"],[0.6666666666666666,\"#ed7953\"],[0.7777777777777778,\"#fb9f3a\"],[0.8888888888888888,\"#fdca26\"],[1.0,\"#f0f921\"]],\"type\":\"heatmapgl\"}],\"heatmap\":[{\"colorbar\":{\"outlinewidth\":0,\"ticks\":\"\"},\"colorscale\":[[0.0,\"#0d0887\"],[0.1111111111111111,\"#46039f\"],[0.2222222222222222,\"#7201a8\"],[0.3333333333333333,\"#9c179e\"],[0.4444444444444444,\"#bd3786\"],[0.5555555555555556,\"#d8576b\"],[0.6666666666666666,\"#ed7953\"],[0.7777777777777778,\"#fb9f3a\"],[0.8888888888888888,\"#fdca26\"],[1.0,\"#f0f921\"]],\"type\":\"heatmap\"}],\"histogram2dcontour\":[{\"colorbar\":{\"outlinewidth\":0,\"ticks\":\"\"},\"colorscale\":[[0.0,\"#0d0887\"],[0.1111111111111111,\"#46039f\"],[0.2222222222222222,\"#7201a8\"],[0.3333333333333333,\"#9c179e\"],[0.4444444444444444,\"#bd3786\"],[0.5555555555555556,\"#d8576b\"],[0.6666666666666666,\"#ed7953\"],[0.7777777777777778,\"#fb9f3a\"],[0.8888888888888888,\"#fdca26\"],[1.0,\"#f0f921\"]],\"type\":\"histogram2dcontour\"}],\"histogram2d\":[{\"colorbar\":{\"outlinewidth\":0,\"ticks\":\"\"},\"colorscale\":[[0.0,\"#0d0887\"],[0.1111111111111111,\"#46039f\"],[0.2222222222222222,\"#7201a8\"],[0.3333333333333333,\"#9c179e\"],[0.4444444444444444,\"#bd3786\"],[0.5555555555555556,\"#d8576b\"],[0.6666666666666666,\"#ed7953\"],[0.7777777777777778,\"#fb9f3a\"],[0.8888888888888888,\"#fdca26\"],[1.0,\"#f0f921\"]],\"type\":\"histogram2d\"}],\"histogram\":[{\"marker\":{\"pattern\":{\"fillmode\":\"overlay\",\"size\":10,\"solidity\":0.2}},\"type\":\"histogram\"}],\"mesh3d\":[{\"colorbar\":{\"outlinewidth\":0,\"ticks\":\"\"},\"type\":\"mesh3d\"}],\"parcoords\":[{\"line\":{\"colorbar\":{\"outlinewidth\":0,\"ticks\":\"\"}},\"type\":\"parcoords\"}],\"pie\":[{\"automargin\":true,\"type\":\"pie\"}],\"scatter3d\":[{\"line\":{\"colorbar\":{\"outlinewidth\":0,\"ticks\":\"\"}},\"marker\":{\"colorbar\":{\"outlinewidth\":0,\"ticks\":\"\"}},\"type\":\"scatter3d\"}],\"scattercarpet\":[{\"marker\":{\"colorbar\":{\"outlinewidth\":0,\"ticks\":\"\"}},\"type\":\"scattercarpet\"}],\"scattergeo\":[{\"marker\":{\"colorbar\":{\"outlinewidth\":0,\"ticks\":\"\"}},\"type\":\"scattergeo\"}],\"scattergl\":[{\"marker\":{\"colorbar\":{\"outlinewidth\":0,\"ticks\":\"\"}},\"type\":\"scattergl\"}],\"scattermapbox\":[{\"marker\":{\"colorbar\":{\"outlinewidth\":0,\"ticks\":\"\"}},\"type\":\"scattermapbox\"}],\"scatterpolargl\":[{\"marker\":{\"colorbar\":{\"outlinewidth\":0,\"ticks\":\"\"}},\"type\":\"scatterpolargl\"}],\"scatterpolar\":[{\"marker\":{\"colorbar\":{\"outlinewidth\":0,\"ticks\":\"\"}},\"type\":\"scatterpolar\"}],\"scatter\":[{\"marker\":{\"colorbar\":{\"outlinewidth\":0,\"ticks\":\"\"}},\"type\":\"scatter\"}],\"scatterternary\":[{\"marker\":{\"colorbar\":{\"outlinewidth\":0,\"ticks\":\"\"}},\"type\":\"scatterternary\"}],\"surface\":[{\"colorbar\":{\"outlinewidth\":0,\"ticks\":\"\"},\"colorscale\":[[0.0,\"#0d0887\"],[0.1111111111111111,\"#46039f\"],[0.2222222222222222,\"#7201a8\"],[0.3333333333333333,\"#9c179e\"],[0.4444444444444444,\"#bd3786\"],[0.5555555555555556,\"#d8576b\"],[0.6666666666666666,\"#ed7953\"],[0.7777777777777778,\"#fb9f3a\"],[0.8888888888888888,\"#fdca26\"],[1.0,\"#f0f921\"]],\"type\":\"surface\"}],\"table\":[{\"cells\":{\"fill\":{\"color\":\"#EBF0F8\"},\"line\":{\"color\":\"white\"}},\"header\":{\"fill\":{\"color\":\"#C8D4E3\"},\"line\":{\"color\":\"white\"}},\"type\":\"table\"}]},\"layout\":{\"annotationdefaults\":{\"arrowcolor\":\"#2a3f5f\",\"arrowhead\":0,\"arrowwidth\":1},\"autotypenumbers\":\"strict\",\"coloraxis\":{\"colorbar\":{\"outlinewidth\":0,\"ticks\":\"\"}},\"colorscale\":{\"diverging\":[[0,\"#8e0152\"],[0.1,\"#c51b7d\"],[0.2,\"#de77ae\"],[0.3,\"#f1b6da\"],[0.4,\"#fde0ef\"],[0.5,\"#f7f7f7\"],[0.6,\"#e6f5d0\"],[0.7,\"#b8e186\"],[0.8,\"#7fbc41\"],[0.9,\"#4d9221\"],[1,\"#276419\"]],\"sequential\":[[0.0,\"#0d0887\"],[0.1111111111111111,\"#46039f\"],[0.2222222222222222,\"#7201a8\"],[0.3333333333333333,\"#9c179e\"],[0.4444444444444444,\"#bd3786\"],[0.5555555555555556,\"#d8576b\"],[0.6666666666666666,\"#ed7953\"],[0.7777777777777778,\"#fb9f3a\"],[0.8888888888888888,\"#fdca26\"],[1.0,\"#f0f921\"]],\"sequentialminus\":[[0.0,\"#0d0887\"],[0.1111111111111111,\"#46039f\"],[0.2222222222222222,\"#7201a8\"],[0.3333333333333333,\"#9c179e\"],[0.4444444444444444,\"#bd3786\"],[0.5555555555555556,\"#d8576b\"],[0.6666666666666666,\"#ed7953\"],[0.7777777777777778,\"#fb9f3a\"],[0.8888888888888888,\"#fdca26\"],[1.0,\"#f0f921\"]]},\"colorway\":[\"#636efa\",\"#EF553B\",\"#00cc96\",\"#ab63fa\",\"#FFA15A\",\"#19d3f3\",\"#FF6692\",\"#B6E880\",\"#FF97FF\",\"#FECB52\"],\"font\":{\"color\":\"#2a3f5f\"},\"geo\":{\"bgcolor\":\"white\",\"lakecolor\":\"white\",\"landcolor\":\"#E5ECF6\",\"showlakes\":true,\"showland\":true,\"subunitcolor\":\"white\"},\"hoverlabel\":{\"align\":\"left\"},\"hovermode\":\"closest\",\"mapbox\":{\"style\":\"light\"},\"paper_bgcolor\":\"white\",\"plot_bgcolor\":\"#E5ECF6\",\"polar\":{\"angularaxis\":{\"gridcolor\":\"white\",\"linecolor\":\"white\",\"ticks\":\"\"},\"bgcolor\":\"#E5ECF6\",\"radialaxis\":{\"gridcolor\":\"white\",\"linecolor\":\"white\",\"ticks\":\"\"}},\"scene\":{\"xaxis\":{\"backgroundcolor\":\"#E5ECF6\",\"gridcolor\":\"white\",\"gridwidth\":2,\"linecolor\":\"white\",\"showbackground\":true,\"ticks\":\"\",\"zerolinecolor\":\"white\"},\"yaxis\":{\"backgroundcolor\":\"#E5ECF6\",\"gridcolor\":\"white\",\"gridwidth\":2,\"linecolor\":\"white\",\"showbackground\":true,\"ticks\":\"\",\"zerolinecolor\":\"white\"},\"zaxis\":{\"backgroundcolor\":\"#E5ECF6\",\"gridcolor\":\"white\",\"gridwidth\":2,\"linecolor\":\"white\",\"showbackground\":true,\"ticks\":\"\",\"zerolinecolor\":\"white\"}},\"shapedefaults\":{\"line\":{\"color\":\"#2a3f5f\"}},\"ternary\":{\"aaxis\":{\"gridcolor\":\"white\",\"linecolor\":\"white\",\"ticks\":\"\"},\"baxis\":{\"gridcolor\":\"white\",\"linecolor\":\"white\",\"ticks\":\"\"},\"bgcolor\":\"#E5ECF6\",\"caxis\":{\"gridcolor\":\"white\",\"linecolor\":\"white\",\"ticks\":\"\"}},\"title\":{\"x\":0.05},\"xaxis\":{\"automargin\":true,\"gridcolor\":\"white\",\"linecolor\":\"white\",\"ticks\":\"\",\"title\":{\"standoff\":15},\"zerolinecolor\":\"white\",\"zerolinewidth\":2},\"yaxis\":{\"automargin\":true,\"gridcolor\":\"white\",\"linecolor\":\"white\",\"ticks\":\"\",\"title\":{\"standoff\":15},\"zerolinecolor\":\"white\",\"zerolinewidth\":2}}},\"title\":{\"font\":{\"color\":\"#4D5663\"}},\"xaxis\":{\"gridcolor\":\"#E1E5ED\",\"showgrid\":true,\"tickfont\":{\"color\":\"#4D5663\"},\"title\":{\"font\":{\"color\":\"#4D5663\"},\"text\":\"\"},\"zerolinecolor\":\"#E1E5ED\"},\"yaxis\":{\"gridcolor\":\"#E1E5ED\",\"showgrid\":true,\"tickfont\":{\"color\":\"#4D5663\"},\"title\":{\"font\":{\"color\":\"#4D5663\"},\"text\":\"\"},\"zerolinecolor\":\"#E1E5ED\"}},                        {\"showLink\": true, \"linkText\": \"Export to plot.ly\", \"plotlyServerURL\": \"https://plot.ly\", \"responsive\": true}                    ).then(function(){\n",
       "                            \n",
       "var gd = document.getElementById('875a3cda-ec1b-45aa-9abc-de1c9c31065f');\n",
       "var x = new MutationObserver(function (mutations, observer) {{\n",
       "        var display = window.getComputedStyle(gd).display;\n",
       "        if (!display || display === 'none') {{\n",
       "            console.log([gd, 'removed!']);\n",
       "            Plotly.purge(gd);\n",
       "            observer.disconnect();\n",
       "        }}\n",
       "}});\n",
       "\n",
       "// Listen for the removal of the full notebook cells\n",
       "var notebookContainer = gd.closest('#notebook-container');\n",
       "if (notebookContainer) {{\n",
       "    x.observe(notebookContainer, {childList: true});\n",
       "}}\n",
       "\n",
       "// Listen for the clearing of the current output cell\n",
       "var outputEl = gd.closest('.output');\n",
       "if (outputEl) {{\n",
       "    x.observe(outputEl, {childList: true});\n",
       "}}\n",
       "\n",
       "                        })                };                });            </script>        </div>"
      ]
     },
     "metadata": {},
     "output_type": "display_data"
    }
   ],
   "source": [
    "#that will change size of points based on another variable\n",
    "df.iplot(kind='bubble',x='A',y='B',size='C')"
   ]
  },
  {
   "cell_type": "code",
   "execution_count": 53,
   "id": "6aae6707",
   "metadata": {},
   "outputs": [
    {
     "data": {
      "application/vnd.plotly.v1+json": {
       "config": {
        "linkText": "Export to plot.ly",
        "plotlyServerURL": "https://plot.ly",
        "showLink": true
       },
       "data": [
        {
         "histfunc": "count",
         "histnorm": "",
         "marker": {
          "color": "rgba(255, 153, 51, 1.0)",
          "line": {
           "color": "#4D5663",
           "width": 1.3
          }
         },
         "name": "A",
         "nbinsx": 10,
         "opacity": 0.8,
         "orientation": "v",
         "type": "histogram",
         "x": [
          1.384941095893982,
          -0.3647871044245467,
          -1.613377798789012,
          -0.12920481127577702,
          -0.6300029180423312,
          0.6955311102837984,
          -0.07774289928427856,
          -1.5481508917079352,
          0.3144299528461812,
          1.483756889675816,
          1.3631631851081898,
          0.3577161379182844,
          0.44425005373458687,
          -1.3026835005270772,
          0.8586317944028101,
          -0.12796403591939365,
          0.373209303997531,
          0.5869332431334456,
          0.4864253873475166,
          1.0756346615585344,
          -1.052001580878504,
          0.0906431802398545,
          1.0580572090375877,
          -0.9848808039026463,
          0.5513641846951675,
          1.1659210728519842,
          0.020314764012267873,
          0.3074031709948694,
          -0.23909296540380182,
          0.02171216478090794,
          -0.16254690733414418,
          -0.33711970357111226,
          0.8142846009651958,
          0.5807041935213351,
          1.517465474603419,
          2.64825109236516,
          0.9118993743273417,
          0.3344914818573978,
          -0.6980817050442862,
          -0.014535950295435083,
          -0.29814416383545383,
          -0.0017524875066887394,
          -1.1233972672402575,
          0.06762297707903585,
          -0.16466873420852687,
          -0.1795079343480467,
          -0.6751925963714834,
          2.006888382314444,
          -0.7838881243097859,
          0.9294115904771026,
          -1.058238874474584,
          0.6586637071443632,
          -0.37707299217026374,
          -0.13598986025585266,
          -1.4967184420595114,
          0.4153485006683915,
          0.24121216996263192,
          -3.092016438708254,
          -1.2219917686899848,
          0.8869662273854365,
          -1.0682780065598037,
          -1.2106122878269856,
          0.803250005443257,
          0.9877199560578738,
          -0.2258121665388722,
          0.13923967982184132,
          -0.22573522543316654,
          1.6171694614878647,
          0.5477551242136519,
          0.4420065170066808,
          0.06747036201760358,
          -1.641776468835695,
          -0.2876490151341459,
          0.3684314172007868,
          1.1306668046343704,
          -0.8340553638572694,
          0.6712547294009807,
          0.8197535903257653,
          0.2124039178122506,
          -0.5392633467972721,
          0.010110482279003876,
          0.958789971496834,
          -0.07020997545633594,
          0.33616891127553034,
          -0.3907482690955859,
          0.8806514736157832,
          0.31650766745412495,
          0.1448946459985747,
          0.27772853189609437,
          -0.4036166749778001,
          -0.2926052183646972,
          1.3491425878516692,
          -1.4689030081303354,
          1.43789556687664,
          -1.79323467847179,
          -0.17223590815000211,
          1.0094163974481396,
          -0.31501498808974,
          -0.3962647074563389,
          -2.0067551306542164
         ],
         "xaxis": "x",
         "yaxis": "y"
        },
        {
         "line": {
          "color": "rgba(128, 128, 128, 1.0)",
          "dash": "solid",
          "shape": "linear",
          "width": 1.3
         },
         "marker": {
          "size": 2,
          "symbol": "circle"
         },
         "mode": "markers",
         "name": "A",
         "text": "",
         "type": "scatter",
         "x": [
          -0.11794573212984044,
          1.2697792200547326,
          -2.1676156275817493,
          -0.24857109473288877,
          0.40460693442474416,
          1.6139280285149076,
          0.2360306035442598,
          -0.22602808881920358,
          0.057142677471569564,
          -0.7772782408575107,
          0.9429237937088079,
          0.20523204088664526,
          -0.7154259155847406,
          1.1964788967171962,
          1.1522379793062072,
          0.8376926086136763,
          1.3857641285531264,
          -1.2374578036932693,
          -1.7210512496642552,
          -0.2495034317564669,
          0.549318005327426,
          -1.1113590661117567,
          -1.4100862237170253,
          0.9532142588336986,
          -0.5315758547787328,
          0.026876504527802447,
          1.475296799480042,
          -0.05540255585344138,
          0.9422840651588723,
          -1.8656941194067982,
          0.7869650084081312,
          1.405011375883612,
          2.255057549388606,
          0.1462871105740621,
          -2.1847079312579747,
          -1.161172611275934,
          0.6196167217877991,
          0.11183036629305333,
          -0.05854992899036618,
          0.5065278797161682,
          0.175142247004244,
          1.095194809193081,
          2.6837799095371384,
          -0.012627706308564711,
          0.9660921024626176,
          0.6886580320242333,
          -1.0591087700884958,
          0.1104364113543046,
          2.372207831365576,
          -0.8860199351161889,
          1.086165799454149,
          -0.8626755672497495,
          -0.06868432104132013,
          -0.7200816182896868,
          0.4188150947497825,
          0.4228561041113086,
          -0.698445960962204,
          -0.6988310924554466,
          -0.6658491938730066,
          0.2958846261817548,
          -0.3507001784507818,
          0.647173773145682,
          -1.2328387228246311,
          1.0459553224352556,
          0.1231502442460987,
          0.6522703753362419,
          1.3888130593209138,
          0.10676669523311827,
          -1.8282146343099823,
          -0.9934128961933868,
          0.0391113792741524,
          -0.8611094358006953,
          0.41413313956819325,
          -1.4101986910835675,
          1.815049449469626,
          0.9231752547232016,
          0.17927969270330754,
          1.3991110254560424,
          -0.22439988703791916,
          -0.9325281027769723,
          1.434972285835641,
          0.41293299829143254,
          0.22260783277251583,
          -0.6284887586125657,
          -0.04186487356009881,
          -0.4049849380508509,
          1.0931210510758536,
          -0.9357279986842723,
          -0.8187865619869552,
          -2.177802400994987,
          0.38835428050347276,
          -0.138536009177223,
          1.3287017218425048,
          2.193100689061061,
          2.7502259232461843,
          -1.4807074423373137,
          0.27064831548673124,
          0.034154607417923276,
          -0.2738508186098899,
          -0.5388356081283091
         ],
         "xaxis": "x2",
         "y": [
          1.384941095893982,
          -0.3647871044245467,
          -1.613377798789012,
          -0.12920481127577702,
          -0.6300029180423312,
          0.6955311102837984,
          -0.07774289928427856,
          -1.5481508917079352,
          0.3144299528461812,
          1.483756889675816,
          1.3631631851081898,
          0.3577161379182844,
          0.44425005373458687,
          -1.3026835005270772,
          0.8586317944028101,
          -0.12796403591939365,
          0.373209303997531,
          0.5869332431334456,
          0.4864253873475166,
          1.0756346615585344,
          -1.052001580878504,
          0.0906431802398545,
          1.0580572090375877,
          -0.9848808039026463,
          0.5513641846951675,
          1.1659210728519842,
          0.020314764012267873,
          0.3074031709948694,
          -0.23909296540380182,
          0.02171216478090794,
          -0.16254690733414418,
          -0.33711970357111226,
          0.8142846009651958,
          0.5807041935213351,
          1.517465474603419,
          2.64825109236516,
          0.9118993743273417,
          0.3344914818573978,
          -0.6980817050442862,
          -0.014535950295435083,
          -0.29814416383545383,
          -0.0017524875066887394,
          -1.1233972672402575,
          0.06762297707903585,
          -0.16466873420852687,
          -0.1795079343480467,
          -0.6751925963714834,
          2.006888382314444,
          -0.7838881243097859,
          0.9294115904771026,
          -1.058238874474584,
          0.6586637071443632,
          -0.37707299217026374,
          -0.13598986025585266,
          -1.4967184420595114,
          0.4153485006683915,
          0.24121216996263192,
          -3.092016438708254,
          -1.2219917686899848,
          0.8869662273854365,
          -1.0682780065598037,
          -1.2106122878269856,
          0.803250005443257,
          0.9877199560578738,
          -0.2258121665388722,
          0.13923967982184132,
          -0.22573522543316654,
          1.6171694614878647,
          0.5477551242136519,
          0.4420065170066808,
          0.06747036201760358,
          -1.641776468835695,
          -0.2876490151341459,
          0.3684314172007868,
          1.1306668046343704,
          -0.8340553638572694,
          0.6712547294009807,
          0.8197535903257653,
          0.2124039178122506,
          -0.5392633467972721,
          0.010110482279003876,
          0.958789971496834,
          -0.07020997545633594,
          0.33616891127553034,
          -0.3907482690955859,
          0.8806514736157832,
          0.31650766745412495,
          0.1448946459985747,
          0.27772853189609437,
          -0.4036166749778001,
          -0.2926052183646972,
          1.3491425878516692,
          -1.4689030081303354,
          1.43789556687664,
          -1.79323467847179,
          -0.17223590815000211,
          1.0094163974481396,
          -0.31501498808974,
          -0.3962647074563389,
          -2.0067551306542164
         ],
         "yaxis": "y2"
        },
        {
         "line": {
          "color": "rgba(128, 128, 128, 1.0)",
          "dash": "solid",
          "shape": "linear",
          "width": 1.3
         },
         "marker": {
          "size": 2,
          "symbol": "circle"
         },
         "mode": "markers",
         "name": "A",
         "text": "",
         "type": "scatter",
         "x": [
          1.9401484848174453,
          -1.2397331297731549,
          -1.018675973013534,
          -0.33547878047215196,
          -1.3699549380833393,
          1.3810263767929065,
          0.7721843153431419,
          -0.7722237296090372,
          0.8486180756818512,
          1.7440433826405037,
          -0.08001824533932232,
          2.0661183345020007,
          0.04572602069072565,
          -1.0819021945413614,
          0.009085452996414885,
          -0.9878765751184702,
          0.37075917857625,
          0.25437485137637955,
          1.1841266827114045,
          -1.1453249365393527,
          0.5857775601891346,
          0.8710303685429346,
          -0.024783030100748008,
          0.6150492408405598,
          1.4716652952158042,
          -0.46758776423255266,
          -0.1588164476426438,
          -0.30304520129019064,
          -0.390934590087459,
          -0.24233821807824782,
          -0.8688043843960509,
          2.1365140455407627,
          0.4390931231504873,
          -1.4893614799515036,
          -2.4386452322949346,
          -1.1422505213045908,
          -1.4149163539103322,
          -0.013994673048110981,
          -2.034223797662766,
          1.4253019420988005,
          -2.0632544066807643,
          0.6996640900505026,
          0.5166100297666383,
          -1.071532965949633,
          -0.9051225166232557,
          -0.7934178460696767,
          -0.8224502512549449,
          0.15493335662541116,
          0.39500230090794575,
          0.8857418121756081,
          0.32000079106086377,
          -0.008234679363814059,
          0.49444038047693045,
          -0.7121015253712025,
          0.11159926839694684,
          -0.6397544473062552,
          -0.6297012892092753,
          -0.14708147193593385,
          -1.831759802918478,
          -1.132317223629694,
          0.8300459562443999,
          -0.5768572815494716,
          0.7256517351358649,
          0.315413301407352,
          0.2568963021893039,
          0.27725859353110416,
          -0.13520879790699447,
          -0.5648419203108074,
          -2.954018487536646,
          -0.940562870249268,
          -1.2466882336102456,
          -0.8033234119044046,
          0.26439271338445264,
          -0.21474918616508726,
          -0.39167546554283417,
          0.11783823012584817,
          -0.46125483724851585,
          1.328839452652975,
          3.1635328556243794,
          0.1034546363343562,
          -1.260959363985953,
          1.2107659875753456,
          1.3089355281014505,
          -0.08791413108196387,
          -0.3599472537742511,
          1.980076893144827,
          0.3797782251011386,
          -1.7519402263507402,
          -0.7082770903572351,
          -0.15113155411961024,
          0.43962501015970173,
          -0.20895860876046474,
          0.5546753479330597,
          0.1782227202309211,
          1.7531082352203122,
          -0.7415829058805974,
          -0.6266777912851297,
          0.6640612063767465,
          0.41009329778209624,
          0.6915880772218923
         ],
         "xaxis": "x3",
         "y": [
          1.384941095893982,
          -0.3647871044245467,
          -1.613377798789012,
          -0.12920481127577702,
          -0.6300029180423312,
          0.6955311102837984,
          -0.07774289928427856,
          -1.5481508917079352,
          0.3144299528461812,
          1.483756889675816,
          1.3631631851081898,
          0.3577161379182844,
          0.44425005373458687,
          -1.3026835005270772,
          0.8586317944028101,
          -0.12796403591939365,
          0.373209303997531,
          0.5869332431334456,
          0.4864253873475166,
          1.0756346615585344,
          -1.052001580878504,
          0.0906431802398545,
          1.0580572090375877,
          -0.9848808039026463,
          0.5513641846951675,
          1.1659210728519842,
          0.020314764012267873,
          0.3074031709948694,
          -0.23909296540380182,
          0.02171216478090794,
          -0.16254690733414418,
          -0.33711970357111226,
          0.8142846009651958,
          0.5807041935213351,
          1.517465474603419,
          2.64825109236516,
          0.9118993743273417,
          0.3344914818573978,
          -0.6980817050442862,
          -0.014535950295435083,
          -0.29814416383545383,
          -0.0017524875066887394,
          -1.1233972672402575,
          0.06762297707903585,
          -0.16466873420852687,
          -0.1795079343480467,
          -0.6751925963714834,
          2.006888382314444,
          -0.7838881243097859,
          0.9294115904771026,
          -1.058238874474584,
          0.6586637071443632,
          -0.37707299217026374,
          -0.13598986025585266,
          -1.4967184420595114,
          0.4153485006683915,
          0.24121216996263192,
          -3.092016438708254,
          -1.2219917686899848,
          0.8869662273854365,
          -1.0682780065598037,
          -1.2106122878269856,
          0.803250005443257,
          0.9877199560578738,
          -0.2258121665388722,
          0.13923967982184132,
          -0.22573522543316654,
          1.6171694614878647,
          0.5477551242136519,
          0.4420065170066808,
          0.06747036201760358,
          -1.641776468835695,
          -0.2876490151341459,
          0.3684314172007868,
          1.1306668046343704,
          -0.8340553638572694,
          0.6712547294009807,
          0.8197535903257653,
          0.2124039178122506,
          -0.5392633467972721,
          0.010110482279003876,
          0.958789971496834,
          -0.07020997545633594,
          0.33616891127553034,
          -0.3907482690955859,
          0.8806514736157832,
          0.31650766745412495,
          0.1448946459985747,
          0.27772853189609437,
          -0.4036166749778001,
          -0.2926052183646972,
          1.3491425878516692,
          -1.4689030081303354,
          1.43789556687664,
          -1.79323467847179,
          -0.17223590815000211,
          1.0094163974481396,
          -0.31501498808974,
          -0.3962647074563389,
          -2.0067551306542164
         ],
         "yaxis": "y3"
        },
        {
         "line": {
          "color": "rgba(128, 128, 128, 1.0)",
          "dash": "solid",
          "shape": "linear",
          "width": 1.3
         },
         "marker": {
          "size": 2,
          "symbol": "circle"
         },
         "mode": "markers",
         "name": "A",
         "text": "",
         "type": "scatter",
         "x": [
          -0.232607190972093,
          -0.10745682172545627,
          0.7301665782338982,
          -0.8086553985085576,
          -0.3808934345748271,
          -0.49728208115444156,
          -1.143202283557806,
          -0.00924216908427607,
          -0.5762292058604443,
          1.8107409045922969,
          -0.6429151459186503,
          -2.037122862243596,
          -1.1833441828811444,
          -0.2798311937972491,
          -2.3309295348858714,
          -1.181839359370192,
          0.9880300418287801,
          0.8556429383351365,
          1.1693382981537819,
          -1.3808702075475496,
          -0.18309447973892146,
          0.8438897509043974,
          1.581060734608897,
          -0.3596068422236975,
          0.13079908839655863,
          2.2113961251101677,
          -0.36346947498616455,
          -0.6800940270845436,
          1.1187059400934791,
          1.1043099757023331,
          -0.6823882796178447,
          -1.10897733367768,
          -1.6084453760231952,
          0.6398458111237544,
          -2.141650215025133,
          -0.629848221432961,
          -1.3459166652575534,
          0.9192082959941965,
          -0.5172725131310544,
          -0.8588962555419287,
          -0.09863404903046664,
          -1.804389501103032,
          -0.9593821912233614,
          1.0241520629708463,
          -0.6603271986227551,
          -0.26588194329921705,
          0.004759080754978136,
          0.34865477211306106,
          -0.3448425950988407,
          0.7842889066349303,
          1.3925201197443657,
          -0.3594709526907821,
          1.0618973955064497,
          0.14680351808446498,
          -1.7515468410520656,
          -0.6135423107048211,
          -0.9575148475814658,
          1.572687835401607,
          1.5922959327473496,
          1.2073779390002217,
          -0.36322906421417334,
          -2.0688991515179,
          1.1871757251508457,
          2.557928207241564,
          -0.1451521867356024,
          1.0728316273159937,
          0.5540363273931462,
          -0.8189397303937418,
          -0.2991846022135686,
          -0.5589151651974367,
          -1.5852563314699741,
          -1.0250545535826507,
          -0.7307299175017817,
          -1.7498252041560964,
          -1.7707723082582265,
          -0.10650969392090688,
          -1.4960048164865472,
          0.9058747618060715,
          -1.365560984520852,
          -0.5567782956347211,
          1.3349620404090474,
          -0.9921533022298292,
          -1.8561767161985299,
          -1.6961557334052646,
          0.26087038337192237,
          -1.087077580151142,
          -0.7672263733059088,
          -1.3359037825120874,
          -1.6155450718347866,
          -0.14483939598188197,
          0.4677086656212009,
          -0.35371284765311806,
          0.907492357905892,
          -0.39278850620491024,
          1.430034099034796,
          -0.1159178226728583,
          -0.8399729920788126,
          0.6935514209462399,
          -1.1970166117060872,
          -0.8287646619103597
         ],
         "xaxis": "x4",
         "y": [
          1.384941095893982,
          -0.3647871044245467,
          -1.613377798789012,
          -0.12920481127577702,
          -0.6300029180423312,
          0.6955311102837984,
          -0.07774289928427856,
          -1.5481508917079352,
          0.3144299528461812,
          1.483756889675816,
          1.3631631851081898,
          0.3577161379182844,
          0.44425005373458687,
          -1.3026835005270772,
          0.8586317944028101,
          -0.12796403591939365,
          0.373209303997531,
          0.5869332431334456,
          0.4864253873475166,
          1.0756346615585344,
          -1.052001580878504,
          0.0906431802398545,
          1.0580572090375877,
          -0.9848808039026463,
          0.5513641846951675,
          1.1659210728519842,
          0.020314764012267873,
          0.3074031709948694,
          -0.23909296540380182,
          0.02171216478090794,
          -0.16254690733414418,
          -0.33711970357111226,
          0.8142846009651958,
          0.5807041935213351,
          1.517465474603419,
          2.64825109236516,
          0.9118993743273417,
          0.3344914818573978,
          -0.6980817050442862,
          -0.014535950295435083,
          -0.29814416383545383,
          -0.0017524875066887394,
          -1.1233972672402575,
          0.06762297707903585,
          -0.16466873420852687,
          -0.1795079343480467,
          -0.6751925963714834,
          2.006888382314444,
          -0.7838881243097859,
          0.9294115904771026,
          -1.058238874474584,
          0.6586637071443632,
          -0.37707299217026374,
          -0.13598986025585266,
          -1.4967184420595114,
          0.4153485006683915,
          0.24121216996263192,
          -3.092016438708254,
          -1.2219917686899848,
          0.8869662273854365,
          -1.0682780065598037,
          -1.2106122878269856,
          0.803250005443257,
          0.9877199560578738,
          -0.2258121665388722,
          0.13923967982184132,
          -0.22573522543316654,
          1.6171694614878647,
          0.5477551242136519,
          0.4420065170066808,
          0.06747036201760358,
          -1.641776468835695,
          -0.2876490151341459,
          0.3684314172007868,
          1.1306668046343704,
          -0.8340553638572694,
          0.6712547294009807,
          0.8197535903257653,
          0.2124039178122506,
          -0.5392633467972721,
          0.010110482279003876,
          0.958789971496834,
          -0.07020997545633594,
          0.33616891127553034,
          -0.3907482690955859,
          0.8806514736157832,
          0.31650766745412495,
          0.1448946459985747,
          0.27772853189609437,
          -0.4036166749778001,
          -0.2926052183646972,
          1.3491425878516692,
          -1.4689030081303354,
          1.43789556687664,
          -1.79323467847179,
          -0.17223590815000211,
          1.0094163974481396,
          -0.31501498808974,
          -0.3962647074563389,
          -2.0067551306542164
         ],
         "yaxis": "y4"
        },
        {
         "line": {
          "color": "rgba(128, 128, 128, 1.0)",
          "dash": "solid",
          "shape": "linear",
          "width": 1.3
         },
         "marker": {
          "size": 2,
          "symbol": "circle"
         },
         "mode": "markers",
         "name": "B",
         "text": "",
         "type": "scatter",
         "x": [
          1.384941095893982,
          -0.3647871044245467,
          -1.613377798789012,
          -0.12920481127577702,
          -0.6300029180423312,
          0.6955311102837984,
          -0.07774289928427856,
          -1.5481508917079352,
          0.3144299528461812,
          1.483756889675816,
          1.3631631851081898,
          0.3577161379182844,
          0.44425005373458687,
          -1.3026835005270772,
          0.8586317944028101,
          -0.12796403591939365,
          0.373209303997531,
          0.5869332431334456,
          0.4864253873475166,
          1.0756346615585344,
          -1.052001580878504,
          0.0906431802398545,
          1.0580572090375877,
          -0.9848808039026463,
          0.5513641846951675,
          1.1659210728519842,
          0.020314764012267873,
          0.3074031709948694,
          -0.23909296540380182,
          0.02171216478090794,
          -0.16254690733414418,
          -0.33711970357111226,
          0.8142846009651958,
          0.5807041935213351,
          1.517465474603419,
          2.64825109236516,
          0.9118993743273417,
          0.3344914818573978,
          -0.6980817050442862,
          -0.014535950295435083,
          -0.29814416383545383,
          -0.0017524875066887394,
          -1.1233972672402575,
          0.06762297707903585,
          -0.16466873420852687,
          -0.1795079343480467,
          -0.6751925963714834,
          2.006888382314444,
          -0.7838881243097859,
          0.9294115904771026,
          -1.058238874474584,
          0.6586637071443632,
          -0.37707299217026374,
          -0.13598986025585266,
          -1.4967184420595114,
          0.4153485006683915,
          0.24121216996263192,
          -3.092016438708254,
          -1.2219917686899848,
          0.8869662273854365,
          -1.0682780065598037,
          -1.2106122878269856,
          0.803250005443257,
          0.9877199560578738,
          -0.2258121665388722,
          0.13923967982184132,
          -0.22573522543316654,
          1.6171694614878647,
          0.5477551242136519,
          0.4420065170066808,
          0.06747036201760358,
          -1.641776468835695,
          -0.2876490151341459,
          0.3684314172007868,
          1.1306668046343704,
          -0.8340553638572694,
          0.6712547294009807,
          0.8197535903257653,
          0.2124039178122506,
          -0.5392633467972721,
          0.010110482279003876,
          0.958789971496834,
          -0.07020997545633594,
          0.33616891127553034,
          -0.3907482690955859,
          0.8806514736157832,
          0.31650766745412495,
          0.1448946459985747,
          0.27772853189609437,
          -0.4036166749778001,
          -0.2926052183646972,
          1.3491425878516692,
          -1.4689030081303354,
          1.43789556687664,
          -1.79323467847179,
          -0.17223590815000211,
          1.0094163974481396,
          -0.31501498808974,
          -0.3962647074563389,
          -2.0067551306542164
         ],
         "xaxis": "x5",
         "y": [
          -0.11794573212984044,
          1.2697792200547326,
          -2.1676156275817493,
          -0.24857109473288877,
          0.40460693442474416,
          1.6139280285149076,
          0.2360306035442598,
          -0.22602808881920358,
          0.057142677471569564,
          -0.7772782408575107,
          0.9429237937088079,
          0.20523204088664526,
          -0.7154259155847406,
          1.1964788967171962,
          1.1522379793062072,
          0.8376926086136763,
          1.3857641285531264,
          -1.2374578036932693,
          -1.7210512496642552,
          -0.2495034317564669,
          0.549318005327426,
          -1.1113590661117567,
          -1.4100862237170253,
          0.9532142588336986,
          -0.5315758547787328,
          0.026876504527802447,
          1.475296799480042,
          -0.05540255585344138,
          0.9422840651588723,
          -1.8656941194067982,
          0.7869650084081312,
          1.405011375883612,
          2.255057549388606,
          0.1462871105740621,
          -2.1847079312579747,
          -1.161172611275934,
          0.6196167217877991,
          0.11183036629305333,
          -0.05854992899036618,
          0.5065278797161682,
          0.175142247004244,
          1.095194809193081,
          2.6837799095371384,
          -0.012627706308564711,
          0.9660921024626176,
          0.6886580320242333,
          -1.0591087700884958,
          0.1104364113543046,
          2.372207831365576,
          -0.8860199351161889,
          1.086165799454149,
          -0.8626755672497495,
          -0.06868432104132013,
          -0.7200816182896868,
          0.4188150947497825,
          0.4228561041113086,
          -0.698445960962204,
          -0.6988310924554466,
          -0.6658491938730066,
          0.2958846261817548,
          -0.3507001784507818,
          0.647173773145682,
          -1.2328387228246311,
          1.0459553224352556,
          0.1231502442460987,
          0.6522703753362419,
          1.3888130593209138,
          0.10676669523311827,
          -1.8282146343099823,
          -0.9934128961933868,
          0.0391113792741524,
          -0.8611094358006953,
          0.41413313956819325,
          -1.4101986910835675,
          1.815049449469626,
          0.9231752547232016,
          0.17927969270330754,
          1.3991110254560424,
          -0.22439988703791916,
          -0.9325281027769723,
          1.434972285835641,
          0.41293299829143254,
          0.22260783277251583,
          -0.6284887586125657,
          -0.04186487356009881,
          -0.4049849380508509,
          1.0931210510758536,
          -0.9357279986842723,
          -0.8187865619869552,
          -2.177802400994987,
          0.38835428050347276,
          -0.138536009177223,
          1.3287017218425048,
          2.193100689061061,
          2.7502259232461843,
          -1.4807074423373137,
          0.27064831548673124,
          0.034154607417923276,
          -0.2738508186098899,
          -0.5388356081283091
         ],
         "yaxis": "y5"
        },
        {
         "histfunc": "count",
         "histnorm": "",
         "marker": {
          "color": "rgba(55, 128, 191, 1.0)",
          "line": {
           "color": "#4D5663",
           "width": 1.3
          }
         },
         "name": "B",
         "nbinsx": 10,
         "opacity": 0.8,
         "orientation": "v",
         "type": "histogram",
         "x": [
          -0.11794573212984044,
          1.2697792200547326,
          -2.1676156275817493,
          -0.24857109473288877,
          0.40460693442474416,
          1.6139280285149076,
          0.2360306035442598,
          -0.22602808881920358,
          0.057142677471569564,
          -0.7772782408575107,
          0.9429237937088079,
          0.20523204088664526,
          -0.7154259155847406,
          1.1964788967171962,
          1.1522379793062072,
          0.8376926086136763,
          1.3857641285531264,
          -1.2374578036932693,
          -1.7210512496642552,
          -0.2495034317564669,
          0.549318005327426,
          -1.1113590661117567,
          -1.4100862237170253,
          0.9532142588336986,
          -0.5315758547787328,
          0.026876504527802447,
          1.475296799480042,
          -0.05540255585344138,
          0.9422840651588723,
          -1.8656941194067982,
          0.7869650084081312,
          1.405011375883612,
          2.255057549388606,
          0.1462871105740621,
          -2.1847079312579747,
          -1.161172611275934,
          0.6196167217877991,
          0.11183036629305333,
          -0.05854992899036618,
          0.5065278797161682,
          0.175142247004244,
          1.095194809193081,
          2.6837799095371384,
          -0.012627706308564711,
          0.9660921024626176,
          0.6886580320242333,
          -1.0591087700884958,
          0.1104364113543046,
          2.372207831365576,
          -0.8860199351161889,
          1.086165799454149,
          -0.8626755672497495,
          -0.06868432104132013,
          -0.7200816182896868,
          0.4188150947497825,
          0.4228561041113086,
          -0.698445960962204,
          -0.6988310924554466,
          -0.6658491938730066,
          0.2958846261817548,
          -0.3507001784507818,
          0.647173773145682,
          -1.2328387228246311,
          1.0459553224352556,
          0.1231502442460987,
          0.6522703753362419,
          1.3888130593209138,
          0.10676669523311827,
          -1.8282146343099823,
          -0.9934128961933868,
          0.0391113792741524,
          -0.8611094358006953,
          0.41413313956819325,
          -1.4101986910835675,
          1.815049449469626,
          0.9231752547232016,
          0.17927969270330754,
          1.3991110254560424,
          -0.22439988703791916,
          -0.9325281027769723,
          1.434972285835641,
          0.41293299829143254,
          0.22260783277251583,
          -0.6284887586125657,
          -0.04186487356009881,
          -0.4049849380508509,
          1.0931210510758536,
          -0.9357279986842723,
          -0.8187865619869552,
          -2.177802400994987,
          0.38835428050347276,
          -0.138536009177223,
          1.3287017218425048,
          2.193100689061061,
          2.7502259232461843,
          -1.4807074423373137,
          0.27064831548673124,
          0.034154607417923276,
          -0.2738508186098899,
          -0.5388356081283091
         ],
         "xaxis": "x6",
         "yaxis": "y6"
        },
        {
         "line": {
          "color": "rgba(128, 128, 128, 1.0)",
          "dash": "solid",
          "shape": "linear",
          "width": 1.3
         },
         "marker": {
          "size": 2,
          "symbol": "circle"
         },
         "mode": "markers",
         "name": "B",
         "text": "",
         "type": "scatter",
         "x": [
          1.9401484848174453,
          -1.2397331297731549,
          -1.018675973013534,
          -0.33547878047215196,
          -1.3699549380833393,
          1.3810263767929065,
          0.7721843153431419,
          -0.7722237296090372,
          0.8486180756818512,
          1.7440433826405037,
          -0.08001824533932232,
          2.0661183345020007,
          0.04572602069072565,
          -1.0819021945413614,
          0.009085452996414885,
          -0.9878765751184702,
          0.37075917857625,
          0.25437485137637955,
          1.1841266827114045,
          -1.1453249365393527,
          0.5857775601891346,
          0.8710303685429346,
          -0.024783030100748008,
          0.6150492408405598,
          1.4716652952158042,
          -0.46758776423255266,
          -0.1588164476426438,
          -0.30304520129019064,
          -0.390934590087459,
          -0.24233821807824782,
          -0.8688043843960509,
          2.1365140455407627,
          0.4390931231504873,
          -1.4893614799515036,
          -2.4386452322949346,
          -1.1422505213045908,
          -1.4149163539103322,
          -0.013994673048110981,
          -2.034223797662766,
          1.4253019420988005,
          -2.0632544066807643,
          0.6996640900505026,
          0.5166100297666383,
          -1.071532965949633,
          -0.9051225166232557,
          -0.7934178460696767,
          -0.8224502512549449,
          0.15493335662541116,
          0.39500230090794575,
          0.8857418121756081,
          0.32000079106086377,
          -0.008234679363814059,
          0.49444038047693045,
          -0.7121015253712025,
          0.11159926839694684,
          -0.6397544473062552,
          -0.6297012892092753,
          -0.14708147193593385,
          -1.831759802918478,
          -1.132317223629694,
          0.8300459562443999,
          -0.5768572815494716,
          0.7256517351358649,
          0.315413301407352,
          0.2568963021893039,
          0.27725859353110416,
          -0.13520879790699447,
          -0.5648419203108074,
          -2.954018487536646,
          -0.940562870249268,
          -1.2466882336102456,
          -0.8033234119044046,
          0.26439271338445264,
          -0.21474918616508726,
          -0.39167546554283417,
          0.11783823012584817,
          -0.46125483724851585,
          1.328839452652975,
          3.1635328556243794,
          0.1034546363343562,
          -1.260959363985953,
          1.2107659875753456,
          1.3089355281014505,
          -0.08791413108196387,
          -0.3599472537742511,
          1.980076893144827,
          0.3797782251011386,
          -1.7519402263507402,
          -0.7082770903572351,
          -0.15113155411961024,
          0.43962501015970173,
          -0.20895860876046474,
          0.5546753479330597,
          0.1782227202309211,
          1.7531082352203122,
          -0.7415829058805974,
          -0.6266777912851297,
          0.6640612063767465,
          0.41009329778209624,
          0.6915880772218923
         ],
         "xaxis": "x7",
         "y": [
          -0.11794573212984044,
          1.2697792200547326,
          -2.1676156275817493,
          -0.24857109473288877,
          0.40460693442474416,
          1.6139280285149076,
          0.2360306035442598,
          -0.22602808881920358,
          0.057142677471569564,
          -0.7772782408575107,
          0.9429237937088079,
          0.20523204088664526,
          -0.7154259155847406,
          1.1964788967171962,
          1.1522379793062072,
          0.8376926086136763,
          1.3857641285531264,
          -1.2374578036932693,
          -1.7210512496642552,
          -0.2495034317564669,
          0.549318005327426,
          -1.1113590661117567,
          -1.4100862237170253,
          0.9532142588336986,
          -0.5315758547787328,
          0.026876504527802447,
          1.475296799480042,
          -0.05540255585344138,
          0.9422840651588723,
          -1.8656941194067982,
          0.7869650084081312,
          1.405011375883612,
          2.255057549388606,
          0.1462871105740621,
          -2.1847079312579747,
          -1.161172611275934,
          0.6196167217877991,
          0.11183036629305333,
          -0.05854992899036618,
          0.5065278797161682,
          0.175142247004244,
          1.095194809193081,
          2.6837799095371384,
          -0.012627706308564711,
          0.9660921024626176,
          0.6886580320242333,
          -1.0591087700884958,
          0.1104364113543046,
          2.372207831365576,
          -0.8860199351161889,
          1.086165799454149,
          -0.8626755672497495,
          -0.06868432104132013,
          -0.7200816182896868,
          0.4188150947497825,
          0.4228561041113086,
          -0.698445960962204,
          -0.6988310924554466,
          -0.6658491938730066,
          0.2958846261817548,
          -0.3507001784507818,
          0.647173773145682,
          -1.2328387228246311,
          1.0459553224352556,
          0.1231502442460987,
          0.6522703753362419,
          1.3888130593209138,
          0.10676669523311827,
          -1.8282146343099823,
          -0.9934128961933868,
          0.0391113792741524,
          -0.8611094358006953,
          0.41413313956819325,
          -1.4101986910835675,
          1.815049449469626,
          0.9231752547232016,
          0.17927969270330754,
          1.3991110254560424,
          -0.22439988703791916,
          -0.9325281027769723,
          1.434972285835641,
          0.41293299829143254,
          0.22260783277251583,
          -0.6284887586125657,
          -0.04186487356009881,
          -0.4049849380508509,
          1.0931210510758536,
          -0.9357279986842723,
          -0.8187865619869552,
          -2.177802400994987,
          0.38835428050347276,
          -0.138536009177223,
          1.3287017218425048,
          2.193100689061061,
          2.7502259232461843,
          -1.4807074423373137,
          0.27064831548673124,
          0.034154607417923276,
          -0.2738508186098899,
          -0.5388356081283091
         ],
         "yaxis": "y7"
        },
        {
         "line": {
          "color": "rgba(128, 128, 128, 1.0)",
          "dash": "solid",
          "shape": "linear",
          "width": 1.3
         },
         "marker": {
          "size": 2,
          "symbol": "circle"
         },
         "mode": "markers",
         "name": "B",
         "text": "",
         "type": "scatter",
         "x": [
          -0.232607190972093,
          -0.10745682172545627,
          0.7301665782338982,
          -0.8086553985085576,
          -0.3808934345748271,
          -0.49728208115444156,
          -1.143202283557806,
          -0.00924216908427607,
          -0.5762292058604443,
          1.8107409045922969,
          -0.6429151459186503,
          -2.037122862243596,
          -1.1833441828811444,
          -0.2798311937972491,
          -2.3309295348858714,
          -1.181839359370192,
          0.9880300418287801,
          0.8556429383351365,
          1.1693382981537819,
          -1.3808702075475496,
          -0.18309447973892146,
          0.8438897509043974,
          1.581060734608897,
          -0.3596068422236975,
          0.13079908839655863,
          2.2113961251101677,
          -0.36346947498616455,
          -0.6800940270845436,
          1.1187059400934791,
          1.1043099757023331,
          -0.6823882796178447,
          -1.10897733367768,
          -1.6084453760231952,
          0.6398458111237544,
          -2.141650215025133,
          -0.629848221432961,
          -1.3459166652575534,
          0.9192082959941965,
          -0.5172725131310544,
          -0.8588962555419287,
          -0.09863404903046664,
          -1.804389501103032,
          -0.9593821912233614,
          1.0241520629708463,
          -0.6603271986227551,
          -0.26588194329921705,
          0.004759080754978136,
          0.34865477211306106,
          -0.3448425950988407,
          0.7842889066349303,
          1.3925201197443657,
          -0.3594709526907821,
          1.0618973955064497,
          0.14680351808446498,
          -1.7515468410520656,
          -0.6135423107048211,
          -0.9575148475814658,
          1.572687835401607,
          1.5922959327473496,
          1.2073779390002217,
          -0.36322906421417334,
          -2.0688991515179,
          1.1871757251508457,
          2.557928207241564,
          -0.1451521867356024,
          1.0728316273159937,
          0.5540363273931462,
          -0.8189397303937418,
          -0.2991846022135686,
          -0.5589151651974367,
          -1.5852563314699741,
          -1.0250545535826507,
          -0.7307299175017817,
          -1.7498252041560964,
          -1.7707723082582265,
          -0.10650969392090688,
          -1.4960048164865472,
          0.9058747618060715,
          -1.365560984520852,
          -0.5567782956347211,
          1.3349620404090474,
          -0.9921533022298292,
          -1.8561767161985299,
          -1.6961557334052646,
          0.26087038337192237,
          -1.087077580151142,
          -0.7672263733059088,
          -1.3359037825120874,
          -1.6155450718347866,
          -0.14483939598188197,
          0.4677086656212009,
          -0.35371284765311806,
          0.907492357905892,
          -0.39278850620491024,
          1.430034099034796,
          -0.1159178226728583,
          -0.8399729920788126,
          0.6935514209462399,
          -1.1970166117060872,
          -0.8287646619103597
         ],
         "xaxis": "x8",
         "y": [
          -0.11794573212984044,
          1.2697792200547326,
          -2.1676156275817493,
          -0.24857109473288877,
          0.40460693442474416,
          1.6139280285149076,
          0.2360306035442598,
          -0.22602808881920358,
          0.057142677471569564,
          -0.7772782408575107,
          0.9429237937088079,
          0.20523204088664526,
          -0.7154259155847406,
          1.1964788967171962,
          1.1522379793062072,
          0.8376926086136763,
          1.3857641285531264,
          -1.2374578036932693,
          -1.7210512496642552,
          -0.2495034317564669,
          0.549318005327426,
          -1.1113590661117567,
          -1.4100862237170253,
          0.9532142588336986,
          -0.5315758547787328,
          0.026876504527802447,
          1.475296799480042,
          -0.05540255585344138,
          0.9422840651588723,
          -1.8656941194067982,
          0.7869650084081312,
          1.405011375883612,
          2.255057549388606,
          0.1462871105740621,
          -2.1847079312579747,
          -1.161172611275934,
          0.6196167217877991,
          0.11183036629305333,
          -0.05854992899036618,
          0.5065278797161682,
          0.175142247004244,
          1.095194809193081,
          2.6837799095371384,
          -0.012627706308564711,
          0.9660921024626176,
          0.6886580320242333,
          -1.0591087700884958,
          0.1104364113543046,
          2.372207831365576,
          -0.8860199351161889,
          1.086165799454149,
          -0.8626755672497495,
          -0.06868432104132013,
          -0.7200816182896868,
          0.4188150947497825,
          0.4228561041113086,
          -0.698445960962204,
          -0.6988310924554466,
          -0.6658491938730066,
          0.2958846261817548,
          -0.3507001784507818,
          0.647173773145682,
          -1.2328387228246311,
          1.0459553224352556,
          0.1231502442460987,
          0.6522703753362419,
          1.3888130593209138,
          0.10676669523311827,
          -1.8282146343099823,
          -0.9934128961933868,
          0.0391113792741524,
          -0.8611094358006953,
          0.41413313956819325,
          -1.4101986910835675,
          1.815049449469626,
          0.9231752547232016,
          0.17927969270330754,
          1.3991110254560424,
          -0.22439988703791916,
          -0.9325281027769723,
          1.434972285835641,
          0.41293299829143254,
          0.22260783277251583,
          -0.6284887586125657,
          -0.04186487356009881,
          -0.4049849380508509,
          1.0931210510758536,
          -0.9357279986842723,
          -0.8187865619869552,
          -2.177802400994987,
          0.38835428050347276,
          -0.138536009177223,
          1.3287017218425048,
          2.193100689061061,
          2.7502259232461843,
          -1.4807074423373137,
          0.27064831548673124,
          0.034154607417923276,
          -0.2738508186098899,
          -0.5388356081283091
         ],
         "yaxis": "y8"
        },
        {
         "line": {
          "color": "rgba(128, 128, 128, 1.0)",
          "dash": "solid",
          "shape": "linear",
          "width": 1.3
         },
         "marker": {
          "size": 2,
          "symbol": "circle"
         },
         "mode": "markers",
         "name": "C",
         "text": "",
         "type": "scatter",
         "x": [
          1.384941095893982,
          -0.3647871044245467,
          -1.613377798789012,
          -0.12920481127577702,
          -0.6300029180423312,
          0.6955311102837984,
          -0.07774289928427856,
          -1.5481508917079352,
          0.3144299528461812,
          1.483756889675816,
          1.3631631851081898,
          0.3577161379182844,
          0.44425005373458687,
          -1.3026835005270772,
          0.8586317944028101,
          -0.12796403591939365,
          0.373209303997531,
          0.5869332431334456,
          0.4864253873475166,
          1.0756346615585344,
          -1.052001580878504,
          0.0906431802398545,
          1.0580572090375877,
          -0.9848808039026463,
          0.5513641846951675,
          1.1659210728519842,
          0.020314764012267873,
          0.3074031709948694,
          -0.23909296540380182,
          0.02171216478090794,
          -0.16254690733414418,
          -0.33711970357111226,
          0.8142846009651958,
          0.5807041935213351,
          1.517465474603419,
          2.64825109236516,
          0.9118993743273417,
          0.3344914818573978,
          -0.6980817050442862,
          -0.014535950295435083,
          -0.29814416383545383,
          -0.0017524875066887394,
          -1.1233972672402575,
          0.06762297707903585,
          -0.16466873420852687,
          -0.1795079343480467,
          -0.6751925963714834,
          2.006888382314444,
          -0.7838881243097859,
          0.9294115904771026,
          -1.058238874474584,
          0.6586637071443632,
          -0.37707299217026374,
          -0.13598986025585266,
          -1.4967184420595114,
          0.4153485006683915,
          0.24121216996263192,
          -3.092016438708254,
          -1.2219917686899848,
          0.8869662273854365,
          -1.0682780065598037,
          -1.2106122878269856,
          0.803250005443257,
          0.9877199560578738,
          -0.2258121665388722,
          0.13923967982184132,
          -0.22573522543316654,
          1.6171694614878647,
          0.5477551242136519,
          0.4420065170066808,
          0.06747036201760358,
          -1.641776468835695,
          -0.2876490151341459,
          0.3684314172007868,
          1.1306668046343704,
          -0.8340553638572694,
          0.6712547294009807,
          0.8197535903257653,
          0.2124039178122506,
          -0.5392633467972721,
          0.010110482279003876,
          0.958789971496834,
          -0.07020997545633594,
          0.33616891127553034,
          -0.3907482690955859,
          0.8806514736157832,
          0.31650766745412495,
          0.1448946459985747,
          0.27772853189609437,
          -0.4036166749778001,
          -0.2926052183646972,
          1.3491425878516692,
          -1.4689030081303354,
          1.43789556687664,
          -1.79323467847179,
          -0.17223590815000211,
          1.0094163974481396,
          -0.31501498808974,
          -0.3962647074563389,
          -2.0067551306542164
         ],
         "xaxis": "x9",
         "y": [
          1.9401484848174453,
          -1.2397331297731549,
          -1.018675973013534,
          -0.33547878047215196,
          -1.3699549380833393,
          1.3810263767929065,
          0.7721843153431419,
          -0.7722237296090372,
          0.8486180756818512,
          1.7440433826405037,
          -0.08001824533932232,
          2.0661183345020007,
          0.04572602069072565,
          -1.0819021945413614,
          0.009085452996414885,
          -0.9878765751184702,
          0.37075917857625,
          0.25437485137637955,
          1.1841266827114045,
          -1.1453249365393527,
          0.5857775601891346,
          0.8710303685429346,
          -0.024783030100748008,
          0.6150492408405598,
          1.4716652952158042,
          -0.46758776423255266,
          -0.1588164476426438,
          -0.30304520129019064,
          -0.390934590087459,
          -0.24233821807824782,
          -0.8688043843960509,
          2.1365140455407627,
          0.4390931231504873,
          -1.4893614799515036,
          -2.4386452322949346,
          -1.1422505213045908,
          -1.4149163539103322,
          -0.013994673048110981,
          -2.034223797662766,
          1.4253019420988005,
          -2.0632544066807643,
          0.6996640900505026,
          0.5166100297666383,
          -1.071532965949633,
          -0.9051225166232557,
          -0.7934178460696767,
          -0.8224502512549449,
          0.15493335662541116,
          0.39500230090794575,
          0.8857418121756081,
          0.32000079106086377,
          -0.008234679363814059,
          0.49444038047693045,
          -0.7121015253712025,
          0.11159926839694684,
          -0.6397544473062552,
          -0.6297012892092753,
          -0.14708147193593385,
          -1.831759802918478,
          -1.132317223629694,
          0.8300459562443999,
          -0.5768572815494716,
          0.7256517351358649,
          0.315413301407352,
          0.2568963021893039,
          0.27725859353110416,
          -0.13520879790699447,
          -0.5648419203108074,
          -2.954018487536646,
          -0.940562870249268,
          -1.2466882336102456,
          -0.8033234119044046,
          0.26439271338445264,
          -0.21474918616508726,
          -0.39167546554283417,
          0.11783823012584817,
          -0.46125483724851585,
          1.328839452652975,
          3.1635328556243794,
          0.1034546363343562,
          -1.260959363985953,
          1.2107659875753456,
          1.3089355281014505,
          -0.08791413108196387,
          -0.3599472537742511,
          1.980076893144827,
          0.3797782251011386,
          -1.7519402263507402,
          -0.7082770903572351,
          -0.15113155411961024,
          0.43962501015970173,
          -0.20895860876046474,
          0.5546753479330597,
          0.1782227202309211,
          1.7531082352203122,
          -0.7415829058805974,
          -0.6266777912851297,
          0.6640612063767465,
          0.41009329778209624,
          0.6915880772218923
         ],
         "yaxis": "y9"
        },
        {
         "line": {
          "color": "rgba(128, 128, 128, 1.0)",
          "dash": "solid",
          "shape": "linear",
          "width": 1.3
         },
         "marker": {
          "size": 2,
          "symbol": "circle"
         },
         "mode": "markers",
         "name": "C",
         "text": "",
         "type": "scatter",
         "x": [
          -0.11794573212984044,
          1.2697792200547326,
          -2.1676156275817493,
          -0.24857109473288877,
          0.40460693442474416,
          1.6139280285149076,
          0.2360306035442598,
          -0.22602808881920358,
          0.057142677471569564,
          -0.7772782408575107,
          0.9429237937088079,
          0.20523204088664526,
          -0.7154259155847406,
          1.1964788967171962,
          1.1522379793062072,
          0.8376926086136763,
          1.3857641285531264,
          -1.2374578036932693,
          -1.7210512496642552,
          -0.2495034317564669,
          0.549318005327426,
          -1.1113590661117567,
          -1.4100862237170253,
          0.9532142588336986,
          -0.5315758547787328,
          0.026876504527802447,
          1.475296799480042,
          -0.05540255585344138,
          0.9422840651588723,
          -1.8656941194067982,
          0.7869650084081312,
          1.405011375883612,
          2.255057549388606,
          0.1462871105740621,
          -2.1847079312579747,
          -1.161172611275934,
          0.6196167217877991,
          0.11183036629305333,
          -0.05854992899036618,
          0.5065278797161682,
          0.175142247004244,
          1.095194809193081,
          2.6837799095371384,
          -0.012627706308564711,
          0.9660921024626176,
          0.6886580320242333,
          -1.0591087700884958,
          0.1104364113543046,
          2.372207831365576,
          -0.8860199351161889,
          1.086165799454149,
          -0.8626755672497495,
          -0.06868432104132013,
          -0.7200816182896868,
          0.4188150947497825,
          0.4228561041113086,
          -0.698445960962204,
          -0.6988310924554466,
          -0.6658491938730066,
          0.2958846261817548,
          -0.3507001784507818,
          0.647173773145682,
          -1.2328387228246311,
          1.0459553224352556,
          0.1231502442460987,
          0.6522703753362419,
          1.3888130593209138,
          0.10676669523311827,
          -1.8282146343099823,
          -0.9934128961933868,
          0.0391113792741524,
          -0.8611094358006953,
          0.41413313956819325,
          -1.4101986910835675,
          1.815049449469626,
          0.9231752547232016,
          0.17927969270330754,
          1.3991110254560424,
          -0.22439988703791916,
          -0.9325281027769723,
          1.434972285835641,
          0.41293299829143254,
          0.22260783277251583,
          -0.6284887586125657,
          -0.04186487356009881,
          -0.4049849380508509,
          1.0931210510758536,
          -0.9357279986842723,
          -0.8187865619869552,
          -2.177802400994987,
          0.38835428050347276,
          -0.138536009177223,
          1.3287017218425048,
          2.193100689061061,
          2.7502259232461843,
          -1.4807074423373137,
          0.27064831548673124,
          0.034154607417923276,
          -0.2738508186098899,
          -0.5388356081283091
         ],
         "xaxis": "x10",
         "y": [
          1.9401484848174453,
          -1.2397331297731549,
          -1.018675973013534,
          -0.33547878047215196,
          -1.3699549380833393,
          1.3810263767929065,
          0.7721843153431419,
          -0.7722237296090372,
          0.8486180756818512,
          1.7440433826405037,
          -0.08001824533932232,
          2.0661183345020007,
          0.04572602069072565,
          -1.0819021945413614,
          0.009085452996414885,
          -0.9878765751184702,
          0.37075917857625,
          0.25437485137637955,
          1.1841266827114045,
          -1.1453249365393527,
          0.5857775601891346,
          0.8710303685429346,
          -0.024783030100748008,
          0.6150492408405598,
          1.4716652952158042,
          -0.46758776423255266,
          -0.1588164476426438,
          -0.30304520129019064,
          -0.390934590087459,
          -0.24233821807824782,
          -0.8688043843960509,
          2.1365140455407627,
          0.4390931231504873,
          -1.4893614799515036,
          -2.4386452322949346,
          -1.1422505213045908,
          -1.4149163539103322,
          -0.013994673048110981,
          -2.034223797662766,
          1.4253019420988005,
          -2.0632544066807643,
          0.6996640900505026,
          0.5166100297666383,
          -1.071532965949633,
          -0.9051225166232557,
          -0.7934178460696767,
          -0.8224502512549449,
          0.15493335662541116,
          0.39500230090794575,
          0.8857418121756081,
          0.32000079106086377,
          -0.008234679363814059,
          0.49444038047693045,
          -0.7121015253712025,
          0.11159926839694684,
          -0.6397544473062552,
          -0.6297012892092753,
          -0.14708147193593385,
          -1.831759802918478,
          -1.132317223629694,
          0.8300459562443999,
          -0.5768572815494716,
          0.7256517351358649,
          0.315413301407352,
          0.2568963021893039,
          0.27725859353110416,
          -0.13520879790699447,
          -0.5648419203108074,
          -2.954018487536646,
          -0.940562870249268,
          -1.2466882336102456,
          -0.8033234119044046,
          0.26439271338445264,
          -0.21474918616508726,
          -0.39167546554283417,
          0.11783823012584817,
          -0.46125483724851585,
          1.328839452652975,
          3.1635328556243794,
          0.1034546363343562,
          -1.260959363985953,
          1.2107659875753456,
          1.3089355281014505,
          -0.08791413108196387,
          -0.3599472537742511,
          1.980076893144827,
          0.3797782251011386,
          -1.7519402263507402,
          -0.7082770903572351,
          -0.15113155411961024,
          0.43962501015970173,
          -0.20895860876046474,
          0.5546753479330597,
          0.1782227202309211,
          1.7531082352203122,
          -0.7415829058805974,
          -0.6266777912851297,
          0.6640612063767465,
          0.41009329778209624,
          0.6915880772218923
         ],
         "yaxis": "y10"
        },
        {
         "histfunc": "count",
         "histnorm": "",
         "marker": {
          "color": "rgba(50, 171, 96, 1.0)",
          "line": {
           "color": "#4D5663",
           "width": 1.3
          }
         },
         "name": "C",
         "nbinsx": 10,
         "opacity": 0.8,
         "orientation": "v",
         "type": "histogram",
         "x": [
          1.9401484848174453,
          -1.2397331297731549,
          -1.018675973013534,
          -0.33547878047215196,
          -1.3699549380833393,
          1.3810263767929065,
          0.7721843153431419,
          -0.7722237296090372,
          0.8486180756818512,
          1.7440433826405037,
          -0.08001824533932232,
          2.0661183345020007,
          0.04572602069072565,
          -1.0819021945413614,
          0.009085452996414885,
          -0.9878765751184702,
          0.37075917857625,
          0.25437485137637955,
          1.1841266827114045,
          -1.1453249365393527,
          0.5857775601891346,
          0.8710303685429346,
          -0.024783030100748008,
          0.6150492408405598,
          1.4716652952158042,
          -0.46758776423255266,
          -0.1588164476426438,
          -0.30304520129019064,
          -0.390934590087459,
          -0.24233821807824782,
          -0.8688043843960509,
          2.1365140455407627,
          0.4390931231504873,
          -1.4893614799515036,
          -2.4386452322949346,
          -1.1422505213045908,
          -1.4149163539103322,
          -0.013994673048110981,
          -2.034223797662766,
          1.4253019420988005,
          -2.0632544066807643,
          0.6996640900505026,
          0.5166100297666383,
          -1.071532965949633,
          -0.9051225166232557,
          -0.7934178460696767,
          -0.8224502512549449,
          0.15493335662541116,
          0.39500230090794575,
          0.8857418121756081,
          0.32000079106086377,
          -0.008234679363814059,
          0.49444038047693045,
          -0.7121015253712025,
          0.11159926839694684,
          -0.6397544473062552,
          -0.6297012892092753,
          -0.14708147193593385,
          -1.831759802918478,
          -1.132317223629694,
          0.8300459562443999,
          -0.5768572815494716,
          0.7256517351358649,
          0.315413301407352,
          0.2568963021893039,
          0.27725859353110416,
          -0.13520879790699447,
          -0.5648419203108074,
          -2.954018487536646,
          -0.940562870249268,
          -1.2466882336102456,
          -0.8033234119044046,
          0.26439271338445264,
          -0.21474918616508726,
          -0.39167546554283417,
          0.11783823012584817,
          -0.46125483724851585,
          1.328839452652975,
          3.1635328556243794,
          0.1034546363343562,
          -1.260959363985953,
          1.2107659875753456,
          1.3089355281014505,
          -0.08791413108196387,
          -0.3599472537742511,
          1.980076893144827,
          0.3797782251011386,
          -1.7519402263507402,
          -0.7082770903572351,
          -0.15113155411961024,
          0.43962501015970173,
          -0.20895860876046474,
          0.5546753479330597,
          0.1782227202309211,
          1.7531082352203122,
          -0.7415829058805974,
          -0.6266777912851297,
          0.6640612063767465,
          0.41009329778209624,
          0.6915880772218923
         ],
         "xaxis": "x11",
         "yaxis": "y11"
        },
        {
         "line": {
          "color": "rgba(128, 128, 128, 1.0)",
          "dash": "solid",
          "shape": "linear",
          "width": 1.3
         },
         "marker": {
          "size": 2,
          "symbol": "circle"
         },
         "mode": "markers",
         "name": "C",
         "text": "",
         "type": "scatter",
         "x": [
          -0.232607190972093,
          -0.10745682172545627,
          0.7301665782338982,
          -0.8086553985085576,
          -0.3808934345748271,
          -0.49728208115444156,
          -1.143202283557806,
          -0.00924216908427607,
          -0.5762292058604443,
          1.8107409045922969,
          -0.6429151459186503,
          -2.037122862243596,
          -1.1833441828811444,
          -0.2798311937972491,
          -2.3309295348858714,
          -1.181839359370192,
          0.9880300418287801,
          0.8556429383351365,
          1.1693382981537819,
          -1.3808702075475496,
          -0.18309447973892146,
          0.8438897509043974,
          1.581060734608897,
          -0.3596068422236975,
          0.13079908839655863,
          2.2113961251101677,
          -0.36346947498616455,
          -0.6800940270845436,
          1.1187059400934791,
          1.1043099757023331,
          -0.6823882796178447,
          -1.10897733367768,
          -1.6084453760231952,
          0.6398458111237544,
          -2.141650215025133,
          -0.629848221432961,
          -1.3459166652575534,
          0.9192082959941965,
          -0.5172725131310544,
          -0.8588962555419287,
          -0.09863404903046664,
          -1.804389501103032,
          -0.9593821912233614,
          1.0241520629708463,
          -0.6603271986227551,
          -0.26588194329921705,
          0.004759080754978136,
          0.34865477211306106,
          -0.3448425950988407,
          0.7842889066349303,
          1.3925201197443657,
          -0.3594709526907821,
          1.0618973955064497,
          0.14680351808446498,
          -1.7515468410520656,
          -0.6135423107048211,
          -0.9575148475814658,
          1.572687835401607,
          1.5922959327473496,
          1.2073779390002217,
          -0.36322906421417334,
          -2.0688991515179,
          1.1871757251508457,
          2.557928207241564,
          -0.1451521867356024,
          1.0728316273159937,
          0.5540363273931462,
          -0.8189397303937418,
          -0.2991846022135686,
          -0.5589151651974367,
          -1.5852563314699741,
          -1.0250545535826507,
          -0.7307299175017817,
          -1.7498252041560964,
          -1.7707723082582265,
          -0.10650969392090688,
          -1.4960048164865472,
          0.9058747618060715,
          -1.365560984520852,
          -0.5567782956347211,
          1.3349620404090474,
          -0.9921533022298292,
          -1.8561767161985299,
          -1.6961557334052646,
          0.26087038337192237,
          -1.087077580151142,
          -0.7672263733059088,
          -1.3359037825120874,
          -1.6155450718347866,
          -0.14483939598188197,
          0.4677086656212009,
          -0.35371284765311806,
          0.907492357905892,
          -0.39278850620491024,
          1.430034099034796,
          -0.1159178226728583,
          -0.8399729920788126,
          0.6935514209462399,
          -1.1970166117060872,
          -0.8287646619103597
         ],
         "xaxis": "x12",
         "y": [
          1.9401484848174453,
          -1.2397331297731549,
          -1.018675973013534,
          -0.33547878047215196,
          -1.3699549380833393,
          1.3810263767929065,
          0.7721843153431419,
          -0.7722237296090372,
          0.8486180756818512,
          1.7440433826405037,
          -0.08001824533932232,
          2.0661183345020007,
          0.04572602069072565,
          -1.0819021945413614,
          0.009085452996414885,
          -0.9878765751184702,
          0.37075917857625,
          0.25437485137637955,
          1.1841266827114045,
          -1.1453249365393527,
          0.5857775601891346,
          0.8710303685429346,
          -0.024783030100748008,
          0.6150492408405598,
          1.4716652952158042,
          -0.46758776423255266,
          -0.1588164476426438,
          -0.30304520129019064,
          -0.390934590087459,
          -0.24233821807824782,
          -0.8688043843960509,
          2.1365140455407627,
          0.4390931231504873,
          -1.4893614799515036,
          -2.4386452322949346,
          -1.1422505213045908,
          -1.4149163539103322,
          -0.013994673048110981,
          -2.034223797662766,
          1.4253019420988005,
          -2.0632544066807643,
          0.6996640900505026,
          0.5166100297666383,
          -1.071532965949633,
          -0.9051225166232557,
          -0.7934178460696767,
          -0.8224502512549449,
          0.15493335662541116,
          0.39500230090794575,
          0.8857418121756081,
          0.32000079106086377,
          -0.008234679363814059,
          0.49444038047693045,
          -0.7121015253712025,
          0.11159926839694684,
          -0.6397544473062552,
          -0.6297012892092753,
          -0.14708147193593385,
          -1.831759802918478,
          -1.132317223629694,
          0.8300459562443999,
          -0.5768572815494716,
          0.7256517351358649,
          0.315413301407352,
          0.2568963021893039,
          0.27725859353110416,
          -0.13520879790699447,
          -0.5648419203108074,
          -2.954018487536646,
          -0.940562870249268,
          -1.2466882336102456,
          -0.8033234119044046,
          0.26439271338445264,
          -0.21474918616508726,
          -0.39167546554283417,
          0.11783823012584817,
          -0.46125483724851585,
          1.328839452652975,
          3.1635328556243794,
          0.1034546363343562,
          -1.260959363985953,
          1.2107659875753456,
          1.3089355281014505,
          -0.08791413108196387,
          -0.3599472537742511,
          1.980076893144827,
          0.3797782251011386,
          -1.7519402263507402,
          -0.7082770903572351,
          -0.15113155411961024,
          0.43962501015970173,
          -0.20895860876046474,
          0.5546753479330597,
          0.1782227202309211,
          1.7531082352203122,
          -0.7415829058805974,
          -0.6266777912851297,
          0.6640612063767465,
          0.41009329778209624,
          0.6915880772218923
         ],
         "yaxis": "y12"
        },
        {
         "line": {
          "color": "rgba(128, 128, 128, 1.0)",
          "dash": "solid",
          "shape": "linear",
          "width": 1.3
         },
         "marker": {
          "size": 2,
          "symbol": "circle"
         },
         "mode": "markers",
         "name": "D",
         "text": "",
         "type": "scatter",
         "x": [
          1.384941095893982,
          -0.3647871044245467,
          -1.613377798789012,
          -0.12920481127577702,
          -0.6300029180423312,
          0.6955311102837984,
          -0.07774289928427856,
          -1.5481508917079352,
          0.3144299528461812,
          1.483756889675816,
          1.3631631851081898,
          0.3577161379182844,
          0.44425005373458687,
          -1.3026835005270772,
          0.8586317944028101,
          -0.12796403591939365,
          0.373209303997531,
          0.5869332431334456,
          0.4864253873475166,
          1.0756346615585344,
          -1.052001580878504,
          0.0906431802398545,
          1.0580572090375877,
          -0.9848808039026463,
          0.5513641846951675,
          1.1659210728519842,
          0.020314764012267873,
          0.3074031709948694,
          -0.23909296540380182,
          0.02171216478090794,
          -0.16254690733414418,
          -0.33711970357111226,
          0.8142846009651958,
          0.5807041935213351,
          1.517465474603419,
          2.64825109236516,
          0.9118993743273417,
          0.3344914818573978,
          -0.6980817050442862,
          -0.014535950295435083,
          -0.29814416383545383,
          -0.0017524875066887394,
          -1.1233972672402575,
          0.06762297707903585,
          -0.16466873420852687,
          -0.1795079343480467,
          -0.6751925963714834,
          2.006888382314444,
          -0.7838881243097859,
          0.9294115904771026,
          -1.058238874474584,
          0.6586637071443632,
          -0.37707299217026374,
          -0.13598986025585266,
          -1.4967184420595114,
          0.4153485006683915,
          0.24121216996263192,
          -3.092016438708254,
          -1.2219917686899848,
          0.8869662273854365,
          -1.0682780065598037,
          -1.2106122878269856,
          0.803250005443257,
          0.9877199560578738,
          -0.2258121665388722,
          0.13923967982184132,
          -0.22573522543316654,
          1.6171694614878647,
          0.5477551242136519,
          0.4420065170066808,
          0.06747036201760358,
          -1.641776468835695,
          -0.2876490151341459,
          0.3684314172007868,
          1.1306668046343704,
          -0.8340553638572694,
          0.6712547294009807,
          0.8197535903257653,
          0.2124039178122506,
          -0.5392633467972721,
          0.010110482279003876,
          0.958789971496834,
          -0.07020997545633594,
          0.33616891127553034,
          -0.3907482690955859,
          0.8806514736157832,
          0.31650766745412495,
          0.1448946459985747,
          0.27772853189609437,
          -0.4036166749778001,
          -0.2926052183646972,
          1.3491425878516692,
          -1.4689030081303354,
          1.43789556687664,
          -1.79323467847179,
          -0.17223590815000211,
          1.0094163974481396,
          -0.31501498808974,
          -0.3962647074563389,
          -2.0067551306542164
         ],
         "xaxis": "x13",
         "y": [
          -0.232607190972093,
          -0.10745682172545627,
          0.7301665782338982,
          -0.8086553985085576,
          -0.3808934345748271,
          -0.49728208115444156,
          -1.143202283557806,
          -0.00924216908427607,
          -0.5762292058604443,
          1.8107409045922969,
          -0.6429151459186503,
          -2.037122862243596,
          -1.1833441828811444,
          -0.2798311937972491,
          -2.3309295348858714,
          -1.181839359370192,
          0.9880300418287801,
          0.8556429383351365,
          1.1693382981537819,
          -1.3808702075475496,
          -0.18309447973892146,
          0.8438897509043974,
          1.581060734608897,
          -0.3596068422236975,
          0.13079908839655863,
          2.2113961251101677,
          -0.36346947498616455,
          -0.6800940270845436,
          1.1187059400934791,
          1.1043099757023331,
          -0.6823882796178447,
          -1.10897733367768,
          -1.6084453760231952,
          0.6398458111237544,
          -2.141650215025133,
          -0.629848221432961,
          -1.3459166652575534,
          0.9192082959941965,
          -0.5172725131310544,
          -0.8588962555419287,
          -0.09863404903046664,
          -1.804389501103032,
          -0.9593821912233614,
          1.0241520629708463,
          -0.6603271986227551,
          -0.26588194329921705,
          0.004759080754978136,
          0.34865477211306106,
          -0.3448425950988407,
          0.7842889066349303,
          1.3925201197443657,
          -0.3594709526907821,
          1.0618973955064497,
          0.14680351808446498,
          -1.7515468410520656,
          -0.6135423107048211,
          -0.9575148475814658,
          1.572687835401607,
          1.5922959327473496,
          1.2073779390002217,
          -0.36322906421417334,
          -2.0688991515179,
          1.1871757251508457,
          2.557928207241564,
          -0.1451521867356024,
          1.0728316273159937,
          0.5540363273931462,
          -0.8189397303937418,
          -0.2991846022135686,
          -0.5589151651974367,
          -1.5852563314699741,
          -1.0250545535826507,
          -0.7307299175017817,
          -1.7498252041560964,
          -1.7707723082582265,
          -0.10650969392090688,
          -1.4960048164865472,
          0.9058747618060715,
          -1.365560984520852,
          -0.5567782956347211,
          1.3349620404090474,
          -0.9921533022298292,
          -1.8561767161985299,
          -1.6961557334052646,
          0.26087038337192237,
          -1.087077580151142,
          -0.7672263733059088,
          -1.3359037825120874,
          -1.6155450718347866,
          -0.14483939598188197,
          0.4677086656212009,
          -0.35371284765311806,
          0.907492357905892,
          -0.39278850620491024,
          1.430034099034796,
          -0.1159178226728583,
          -0.8399729920788126,
          0.6935514209462399,
          -1.1970166117060872,
          -0.8287646619103597
         ],
         "yaxis": "y13"
        },
        {
         "line": {
          "color": "rgba(128, 128, 128, 1.0)",
          "dash": "solid",
          "shape": "linear",
          "width": 1.3
         },
         "marker": {
          "size": 2,
          "symbol": "circle"
         },
         "mode": "markers",
         "name": "D",
         "text": "",
         "type": "scatter",
         "x": [
          -0.11794573212984044,
          1.2697792200547326,
          -2.1676156275817493,
          -0.24857109473288877,
          0.40460693442474416,
          1.6139280285149076,
          0.2360306035442598,
          -0.22602808881920358,
          0.057142677471569564,
          -0.7772782408575107,
          0.9429237937088079,
          0.20523204088664526,
          -0.7154259155847406,
          1.1964788967171962,
          1.1522379793062072,
          0.8376926086136763,
          1.3857641285531264,
          -1.2374578036932693,
          -1.7210512496642552,
          -0.2495034317564669,
          0.549318005327426,
          -1.1113590661117567,
          -1.4100862237170253,
          0.9532142588336986,
          -0.5315758547787328,
          0.026876504527802447,
          1.475296799480042,
          -0.05540255585344138,
          0.9422840651588723,
          -1.8656941194067982,
          0.7869650084081312,
          1.405011375883612,
          2.255057549388606,
          0.1462871105740621,
          -2.1847079312579747,
          -1.161172611275934,
          0.6196167217877991,
          0.11183036629305333,
          -0.05854992899036618,
          0.5065278797161682,
          0.175142247004244,
          1.095194809193081,
          2.6837799095371384,
          -0.012627706308564711,
          0.9660921024626176,
          0.6886580320242333,
          -1.0591087700884958,
          0.1104364113543046,
          2.372207831365576,
          -0.8860199351161889,
          1.086165799454149,
          -0.8626755672497495,
          -0.06868432104132013,
          -0.7200816182896868,
          0.4188150947497825,
          0.4228561041113086,
          -0.698445960962204,
          -0.6988310924554466,
          -0.6658491938730066,
          0.2958846261817548,
          -0.3507001784507818,
          0.647173773145682,
          -1.2328387228246311,
          1.0459553224352556,
          0.1231502442460987,
          0.6522703753362419,
          1.3888130593209138,
          0.10676669523311827,
          -1.8282146343099823,
          -0.9934128961933868,
          0.0391113792741524,
          -0.8611094358006953,
          0.41413313956819325,
          -1.4101986910835675,
          1.815049449469626,
          0.9231752547232016,
          0.17927969270330754,
          1.3991110254560424,
          -0.22439988703791916,
          -0.9325281027769723,
          1.434972285835641,
          0.41293299829143254,
          0.22260783277251583,
          -0.6284887586125657,
          -0.04186487356009881,
          -0.4049849380508509,
          1.0931210510758536,
          -0.9357279986842723,
          -0.8187865619869552,
          -2.177802400994987,
          0.38835428050347276,
          -0.138536009177223,
          1.3287017218425048,
          2.193100689061061,
          2.7502259232461843,
          -1.4807074423373137,
          0.27064831548673124,
          0.034154607417923276,
          -0.2738508186098899,
          -0.5388356081283091
         ],
         "xaxis": "x14",
         "y": [
          -0.232607190972093,
          -0.10745682172545627,
          0.7301665782338982,
          -0.8086553985085576,
          -0.3808934345748271,
          -0.49728208115444156,
          -1.143202283557806,
          -0.00924216908427607,
          -0.5762292058604443,
          1.8107409045922969,
          -0.6429151459186503,
          -2.037122862243596,
          -1.1833441828811444,
          -0.2798311937972491,
          -2.3309295348858714,
          -1.181839359370192,
          0.9880300418287801,
          0.8556429383351365,
          1.1693382981537819,
          -1.3808702075475496,
          -0.18309447973892146,
          0.8438897509043974,
          1.581060734608897,
          -0.3596068422236975,
          0.13079908839655863,
          2.2113961251101677,
          -0.36346947498616455,
          -0.6800940270845436,
          1.1187059400934791,
          1.1043099757023331,
          -0.6823882796178447,
          -1.10897733367768,
          -1.6084453760231952,
          0.6398458111237544,
          -2.141650215025133,
          -0.629848221432961,
          -1.3459166652575534,
          0.9192082959941965,
          -0.5172725131310544,
          -0.8588962555419287,
          -0.09863404903046664,
          -1.804389501103032,
          -0.9593821912233614,
          1.0241520629708463,
          -0.6603271986227551,
          -0.26588194329921705,
          0.004759080754978136,
          0.34865477211306106,
          -0.3448425950988407,
          0.7842889066349303,
          1.3925201197443657,
          -0.3594709526907821,
          1.0618973955064497,
          0.14680351808446498,
          -1.7515468410520656,
          -0.6135423107048211,
          -0.9575148475814658,
          1.572687835401607,
          1.5922959327473496,
          1.2073779390002217,
          -0.36322906421417334,
          -2.0688991515179,
          1.1871757251508457,
          2.557928207241564,
          -0.1451521867356024,
          1.0728316273159937,
          0.5540363273931462,
          -0.8189397303937418,
          -0.2991846022135686,
          -0.5589151651974367,
          -1.5852563314699741,
          -1.0250545535826507,
          -0.7307299175017817,
          -1.7498252041560964,
          -1.7707723082582265,
          -0.10650969392090688,
          -1.4960048164865472,
          0.9058747618060715,
          -1.365560984520852,
          -0.5567782956347211,
          1.3349620404090474,
          -0.9921533022298292,
          -1.8561767161985299,
          -1.6961557334052646,
          0.26087038337192237,
          -1.087077580151142,
          -0.7672263733059088,
          -1.3359037825120874,
          -1.6155450718347866,
          -0.14483939598188197,
          0.4677086656212009,
          -0.35371284765311806,
          0.907492357905892,
          -0.39278850620491024,
          1.430034099034796,
          -0.1159178226728583,
          -0.8399729920788126,
          0.6935514209462399,
          -1.1970166117060872,
          -0.8287646619103597
         ],
         "yaxis": "y14"
        },
        {
         "line": {
          "color": "rgba(128, 128, 128, 1.0)",
          "dash": "solid",
          "shape": "linear",
          "width": 1.3
         },
         "marker": {
          "size": 2,
          "symbol": "circle"
         },
         "mode": "markers",
         "name": "D",
         "text": "",
         "type": "scatter",
         "x": [
          1.9401484848174453,
          -1.2397331297731549,
          -1.018675973013534,
          -0.33547878047215196,
          -1.3699549380833393,
          1.3810263767929065,
          0.7721843153431419,
          -0.7722237296090372,
          0.8486180756818512,
          1.7440433826405037,
          -0.08001824533932232,
          2.0661183345020007,
          0.04572602069072565,
          -1.0819021945413614,
          0.009085452996414885,
          -0.9878765751184702,
          0.37075917857625,
          0.25437485137637955,
          1.1841266827114045,
          -1.1453249365393527,
          0.5857775601891346,
          0.8710303685429346,
          -0.024783030100748008,
          0.6150492408405598,
          1.4716652952158042,
          -0.46758776423255266,
          -0.1588164476426438,
          -0.30304520129019064,
          -0.390934590087459,
          -0.24233821807824782,
          -0.8688043843960509,
          2.1365140455407627,
          0.4390931231504873,
          -1.4893614799515036,
          -2.4386452322949346,
          -1.1422505213045908,
          -1.4149163539103322,
          -0.013994673048110981,
          -2.034223797662766,
          1.4253019420988005,
          -2.0632544066807643,
          0.6996640900505026,
          0.5166100297666383,
          -1.071532965949633,
          -0.9051225166232557,
          -0.7934178460696767,
          -0.8224502512549449,
          0.15493335662541116,
          0.39500230090794575,
          0.8857418121756081,
          0.32000079106086377,
          -0.008234679363814059,
          0.49444038047693045,
          -0.7121015253712025,
          0.11159926839694684,
          -0.6397544473062552,
          -0.6297012892092753,
          -0.14708147193593385,
          -1.831759802918478,
          -1.132317223629694,
          0.8300459562443999,
          -0.5768572815494716,
          0.7256517351358649,
          0.315413301407352,
          0.2568963021893039,
          0.27725859353110416,
          -0.13520879790699447,
          -0.5648419203108074,
          -2.954018487536646,
          -0.940562870249268,
          -1.2466882336102456,
          -0.8033234119044046,
          0.26439271338445264,
          -0.21474918616508726,
          -0.39167546554283417,
          0.11783823012584817,
          -0.46125483724851585,
          1.328839452652975,
          3.1635328556243794,
          0.1034546363343562,
          -1.260959363985953,
          1.2107659875753456,
          1.3089355281014505,
          -0.08791413108196387,
          -0.3599472537742511,
          1.980076893144827,
          0.3797782251011386,
          -1.7519402263507402,
          -0.7082770903572351,
          -0.15113155411961024,
          0.43962501015970173,
          -0.20895860876046474,
          0.5546753479330597,
          0.1782227202309211,
          1.7531082352203122,
          -0.7415829058805974,
          -0.6266777912851297,
          0.6640612063767465,
          0.41009329778209624,
          0.6915880772218923
         ],
         "xaxis": "x15",
         "y": [
          -0.232607190972093,
          -0.10745682172545627,
          0.7301665782338982,
          -0.8086553985085576,
          -0.3808934345748271,
          -0.49728208115444156,
          -1.143202283557806,
          -0.00924216908427607,
          -0.5762292058604443,
          1.8107409045922969,
          -0.6429151459186503,
          -2.037122862243596,
          -1.1833441828811444,
          -0.2798311937972491,
          -2.3309295348858714,
          -1.181839359370192,
          0.9880300418287801,
          0.8556429383351365,
          1.1693382981537819,
          -1.3808702075475496,
          -0.18309447973892146,
          0.8438897509043974,
          1.581060734608897,
          -0.3596068422236975,
          0.13079908839655863,
          2.2113961251101677,
          -0.36346947498616455,
          -0.6800940270845436,
          1.1187059400934791,
          1.1043099757023331,
          -0.6823882796178447,
          -1.10897733367768,
          -1.6084453760231952,
          0.6398458111237544,
          -2.141650215025133,
          -0.629848221432961,
          -1.3459166652575534,
          0.9192082959941965,
          -0.5172725131310544,
          -0.8588962555419287,
          -0.09863404903046664,
          -1.804389501103032,
          -0.9593821912233614,
          1.0241520629708463,
          -0.6603271986227551,
          -0.26588194329921705,
          0.004759080754978136,
          0.34865477211306106,
          -0.3448425950988407,
          0.7842889066349303,
          1.3925201197443657,
          -0.3594709526907821,
          1.0618973955064497,
          0.14680351808446498,
          -1.7515468410520656,
          -0.6135423107048211,
          -0.9575148475814658,
          1.572687835401607,
          1.5922959327473496,
          1.2073779390002217,
          -0.36322906421417334,
          -2.0688991515179,
          1.1871757251508457,
          2.557928207241564,
          -0.1451521867356024,
          1.0728316273159937,
          0.5540363273931462,
          -0.8189397303937418,
          -0.2991846022135686,
          -0.5589151651974367,
          -1.5852563314699741,
          -1.0250545535826507,
          -0.7307299175017817,
          -1.7498252041560964,
          -1.7707723082582265,
          -0.10650969392090688,
          -1.4960048164865472,
          0.9058747618060715,
          -1.365560984520852,
          -0.5567782956347211,
          1.3349620404090474,
          -0.9921533022298292,
          -1.8561767161985299,
          -1.6961557334052646,
          0.26087038337192237,
          -1.087077580151142,
          -0.7672263733059088,
          -1.3359037825120874,
          -1.6155450718347866,
          -0.14483939598188197,
          0.4677086656212009,
          -0.35371284765311806,
          0.907492357905892,
          -0.39278850620491024,
          1.430034099034796,
          -0.1159178226728583,
          -0.8399729920788126,
          0.6935514209462399,
          -1.1970166117060872,
          -0.8287646619103597
         ],
         "yaxis": "y15"
        },
        {
         "histfunc": "count",
         "histnorm": "",
         "marker": {
          "color": "rgba(128, 0, 128, 1.0)",
          "line": {
           "color": "#4D5663",
           "width": 1.3
          }
         },
         "name": "D",
         "nbinsx": 10,
         "opacity": 0.8,
         "orientation": "v",
         "type": "histogram",
         "x": [
          -0.232607190972093,
          -0.10745682172545627,
          0.7301665782338982,
          -0.8086553985085576,
          -0.3808934345748271,
          -0.49728208115444156,
          -1.143202283557806,
          -0.00924216908427607,
          -0.5762292058604443,
          1.8107409045922969,
          -0.6429151459186503,
          -2.037122862243596,
          -1.1833441828811444,
          -0.2798311937972491,
          -2.3309295348858714,
          -1.181839359370192,
          0.9880300418287801,
          0.8556429383351365,
          1.1693382981537819,
          -1.3808702075475496,
          -0.18309447973892146,
          0.8438897509043974,
          1.581060734608897,
          -0.3596068422236975,
          0.13079908839655863,
          2.2113961251101677,
          -0.36346947498616455,
          -0.6800940270845436,
          1.1187059400934791,
          1.1043099757023331,
          -0.6823882796178447,
          -1.10897733367768,
          -1.6084453760231952,
          0.6398458111237544,
          -2.141650215025133,
          -0.629848221432961,
          -1.3459166652575534,
          0.9192082959941965,
          -0.5172725131310544,
          -0.8588962555419287,
          -0.09863404903046664,
          -1.804389501103032,
          -0.9593821912233614,
          1.0241520629708463,
          -0.6603271986227551,
          -0.26588194329921705,
          0.004759080754978136,
          0.34865477211306106,
          -0.3448425950988407,
          0.7842889066349303,
          1.3925201197443657,
          -0.3594709526907821,
          1.0618973955064497,
          0.14680351808446498,
          -1.7515468410520656,
          -0.6135423107048211,
          -0.9575148475814658,
          1.572687835401607,
          1.5922959327473496,
          1.2073779390002217,
          -0.36322906421417334,
          -2.0688991515179,
          1.1871757251508457,
          2.557928207241564,
          -0.1451521867356024,
          1.0728316273159937,
          0.5540363273931462,
          -0.8189397303937418,
          -0.2991846022135686,
          -0.5589151651974367,
          -1.5852563314699741,
          -1.0250545535826507,
          -0.7307299175017817,
          -1.7498252041560964,
          -1.7707723082582265,
          -0.10650969392090688,
          -1.4960048164865472,
          0.9058747618060715,
          -1.365560984520852,
          -0.5567782956347211,
          1.3349620404090474,
          -0.9921533022298292,
          -1.8561767161985299,
          -1.6961557334052646,
          0.26087038337192237,
          -1.087077580151142,
          -0.7672263733059088,
          -1.3359037825120874,
          -1.6155450718347866,
          -0.14483939598188197,
          0.4677086656212009,
          -0.35371284765311806,
          0.907492357905892,
          -0.39278850620491024,
          1.430034099034796,
          -0.1159178226728583,
          -0.8399729920788126,
          0.6935514209462399,
          -1.1970166117060872,
          -0.8287646619103597
         ],
         "xaxis": "x16",
         "yaxis": "y16"
        }
       ],
       "layout": {
        "bargap": 0.02,
        "legend": {
         "bgcolor": "#F5F6F9",
         "font": {
          "color": "#4D5663"
         }
        },
        "paper_bgcolor": "#F5F6F9",
        "plot_bgcolor": "#F5F6F9",
        "showlegend": false,
        "template": {
         "data": {
          "bar": [
           {
            "error_x": {
             "color": "#2a3f5f"
            },
            "error_y": {
             "color": "#2a3f5f"
            },
            "marker": {
             "line": {
              "color": "#E5ECF6",
              "width": 0.5
             },
             "pattern": {
              "fillmode": "overlay",
              "size": 10,
              "solidity": 0.2
             }
            },
            "type": "bar"
           }
          ],
          "barpolar": [
           {
            "marker": {
             "line": {
              "color": "#E5ECF6",
              "width": 0.5
             },
             "pattern": {
              "fillmode": "overlay",
              "size": 10,
              "solidity": 0.2
             }
            },
            "type": "barpolar"
           }
          ],
          "carpet": [
           {
            "aaxis": {
             "endlinecolor": "#2a3f5f",
             "gridcolor": "white",
             "linecolor": "white",
             "minorgridcolor": "white",
             "startlinecolor": "#2a3f5f"
            },
            "baxis": {
             "endlinecolor": "#2a3f5f",
             "gridcolor": "white",
             "linecolor": "white",
             "minorgridcolor": "white",
             "startlinecolor": "#2a3f5f"
            },
            "type": "carpet"
           }
          ],
          "choropleth": [
           {
            "colorbar": {
             "outlinewidth": 0,
             "ticks": ""
            },
            "type": "choropleth"
           }
          ],
          "contour": [
           {
            "colorbar": {
             "outlinewidth": 0,
             "ticks": ""
            },
            "colorscale": [
             [
              0,
              "#0d0887"
             ],
             [
              0.1111111111111111,
              "#46039f"
             ],
             [
              0.2222222222222222,
              "#7201a8"
             ],
             [
              0.3333333333333333,
              "#9c179e"
             ],
             [
              0.4444444444444444,
              "#bd3786"
             ],
             [
              0.5555555555555556,
              "#d8576b"
             ],
             [
              0.6666666666666666,
              "#ed7953"
             ],
             [
              0.7777777777777778,
              "#fb9f3a"
             ],
             [
              0.8888888888888888,
              "#fdca26"
             ],
             [
              1,
              "#f0f921"
             ]
            ],
            "type": "contour"
           }
          ],
          "contourcarpet": [
           {
            "colorbar": {
             "outlinewidth": 0,
             "ticks": ""
            },
            "type": "contourcarpet"
           }
          ],
          "heatmap": [
           {
            "colorbar": {
             "outlinewidth": 0,
             "ticks": ""
            },
            "colorscale": [
             [
              0,
              "#0d0887"
             ],
             [
              0.1111111111111111,
              "#46039f"
             ],
             [
              0.2222222222222222,
              "#7201a8"
             ],
             [
              0.3333333333333333,
              "#9c179e"
             ],
             [
              0.4444444444444444,
              "#bd3786"
             ],
             [
              0.5555555555555556,
              "#d8576b"
             ],
             [
              0.6666666666666666,
              "#ed7953"
             ],
             [
              0.7777777777777778,
              "#fb9f3a"
             ],
             [
              0.8888888888888888,
              "#fdca26"
             ],
             [
              1,
              "#f0f921"
             ]
            ],
            "type": "heatmap"
           }
          ],
          "heatmapgl": [
           {
            "colorbar": {
             "outlinewidth": 0,
             "ticks": ""
            },
            "colorscale": [
             [
              0,
              "#0d0887"
             ],
             [
              0.1111111111111111,
              "#46039f"
             ],
             [
              0.2222222222222222,
              "#7201a8"
             ],
             [
              0.3333333333333333,
              "#9c179e"
             ],
             [
              0.4444444444444444,
              "#bd3786"
             ],
             [
              0.5555555555555556,
              "#d8576b"
             ],
             [
              0.6666666666666666,
              "#ed7953"
             ],
             [
              0.7777777777777778,
              "#fb9f3a"
             ],
             [
              0.8888888888888888,
              "#fdca26"
             ],
             [
              1,
              "#f0f921"
             ]
            ],
            "type": "heatmapgl"
           }
          ],
          "histogram": [
           {
            "marker": {
             "pattern": {
              "fillmode": "overlay",
              "size": 10,
              "solidity": 0.2
             }
            },
            "type": "histogram"
           }
          ],
          "histogram2d": [
           {
            "colorbar": {
             "outlinewidth": 0,
             "ticks": ""
            },
            "colorscale": [
             [
              0,
              "#0d0887"
             ],
             [
              0.1111111111111111,
              "#46039f"
             ],
             [
              0.2222222222222222,
              "#7201a8"
             ],
             [
              0.3333333333333333,
              "#9c179e"
             ],
             [
              0.4444444444444444,
              "#bd3786"
             ],
             [
              0.5555555555555556,
              "#d8576b"
             ],
             [
              0.6666666666666666,
              "#ed7953"
             ],
             [
              0.7777777777777778,
              "#fb9f3a"
             ],
             [
              0.8888888888888888,
              "#fdca26"
             ],
             [
              1,
              "#f0f921"
             ]
            ],
            "type": "histogram2d"
           }
          ],
          "histogram2dcontour": [
           {
            "colorbar": {
             "outlinewidth": 0,
             "ticks": ""
            },
            "colorscale": [
             [
              0,
              "#0d0887"
             ],
             [
              0.1111111111111111,
              "#46039f"
             ],
             [
              0.2222222222222222,
              "#7201a8"
             ],
             [
              0.3333333333333333,
              "#9c179e"
             ],
             [
              0.4444444444444444,
              "#bd3786"
             ],
             [
              0.5555555555555556,
              "#d8576b"
             ],
             [
              0.6666666666666666,
              "#ed7953"
             ],
             [
              0.7777777777777778,
              "#fb9f3a"
             ],
             [
              0.8888888888888888,
              "#fdca26"
             ],
             [
              1,
              "#f0f921"
             ]
            ],
            "type": "histogram2dcontour"
           }
          ],
          "mesh3d": [
           {
            "colorbar": {
             "outlinewidth": 0,
             "ticks": ""
            },
            "type": "mesh3d"
           }
          ],
          "parcoords": [
           {
            "line": {
             "colorbar": {
              "outlinewidth": 0,
              "ticks": ""
             }
            },
            "type": "parcoords"
           }
          ],
          "pie": [
           {
            "automargin": true,
            "type": "pie"
           }
          ],
          "scatter": [
           {
            "marker": {
             "colorbar": {
              "outlinewidth": 0,
              "ticks": ""
             }
            },
            "type": "scatter"
           }
          ],
          "scatter3d": [
           {
            "line": {
             "colorbar": {
              "outlinewidth": 0,
              "ticks": ""
             }
            },
            "marker": {
             "colorbar": {
              "outlinewidth": 0,
              "ticks": ""
             }
            },
            "type": "scatter3d"
           }
          ],
          "scattercarpet": [
           {
            "marker": {
             "colorbar": {
              "outlinewidth": 0,
              "ticks": ""
             }
            },
            "type": "scattercarpet"
           }
          ],
          "scattergeo": [
           {
            "marker": {
             "colorbar": {
              "outlinewidth": 0,
              "ticks": ""
             }
            },
            "type": "scattergeo"
           }
          ],
          "scattergl": [
           {
            "marker": {
             "colorbar": {
              "outlinewidth": 0,
              "ticks": ""
             }
            },
            "type": "scattergl"
           }
          ],
          "scattermapbox": [
           {
            "marker": {
             "colorbar": {
              "outlinewidth": 0,
              "ticks": ""
             }
            },
            "type": "scattermapbox"
           }
          ],
          "scatterpolar": [
           {
            "marker": {
             "colorbar": {
              "outlinewidth": 0,
              "ticks": ""
             }
            },
            "type": "scatterpolar"
           }
          ],
          "scatterpolargl": [
           {
            "marker": {
             "colorbar": {
              "outlinewidth": 0,
              "ticks": ""
             }
            },
            "type": "scatterpolargl"
           }
          ],
          "scatterternary": [
           {
            "marker": {
             "colorbar": {
              "outlinewidth": 0,
              "ticks": ""
             }
            },
            "type": "scatterternary"
           }
          ],
          "surface": [
           {
            "colorbar": {
             "outlinewidth": 0,
             "ticks": ""
            },
            "colorscale": [
             [
              0,
              "#0d0887"
             ],
             [
              0.1111111111111111,
              "#46039f"
             ],
             [
              0.2222222222222222,
              "#7201a8"
             ],
             [
              0.3333333333333333,
              "#9c179e"
             ],
             [
              0.4444444444444444,
              "#bd3786"
             ],
             [
              0.5555555555555556,
              "#d8576b"
             ],
             [
              0.6666666666666666,
              "#ed7953"
             ],
             [
              0.7777777777777778,
              "#fb9f3a"
             ],
             [
              0.8888888888888888,
              "#fdca26"
             ],
             [
              1,
              "#f0f921"
             ]
            ],
            "type": "surface"
           }
          ],
          "table": [
           {
            "cells": {
             "fill": {
              "color": "#EBF0F8"
             },
             "line": {
              "color": "white"
             }
            },
            "header": {
             "fill": {
              "color": "#C8D4E3"
             },
             "line": {
              "color": "white"
             }
            },
            "type": "table"
           }
          ]
         },
         "layout": {
          "annotationdefaults": {
           "arrowcolor": "#2a3f5f",
           "arrowhead": 0,
           "arrowwidth": 1
          },
          "autotypenumbers": "strict",
          "coloraxis": {
           "colorbar": {
            "outlinewidth": 0,
            "ticks": ""
           }
          },
          "colorscale": {
           "diverging": [
            [
             0,
             "#8e0152"
            ],
            [
             0.1,
             "#c51b7d"
            ],
            [
             0.2,
             "#de77ae"
            ],
            [
             0.3,
             "#f1b6da"
            ],
            [
             0.4,
             "#fde0ef"
            ],
            [
             0.5,
             "#f7f7f7"
            ],
            [
             0.6,
             "#e6f5d0"
            ],
            [
             0.7,
             "#b8e186"
            ],
            [
             0.8,
             "#7fbc41"
            ],
            [
             0.9,
             "#4d9221"
            ],
            [
             1,
             "#276419"
            ]
           ],
           "sequential": [
            [
             0,
             "#0d0887"
            ],
            [
             0.1111111111111111,
             "#46039f"
            ],
            [
             0.2222222222222222,
             "#7201a8"
            ],
            [
             0.3333333333333333,
             "#9c179e"
            ],
            [
             0.4444444444444444,
             "#bd3786"
            ],
            [
             0.5555555555555556,
             "#d8576b"
            ],
            [
             0.6666666666666666,
             "#ed7953"
            ],
            [
             0.7777777777777778,
             "#fb9f3a"
            ],
            [
             0.8888888888888888,
             "#fdca26"
            ],
            [
             1,
             "#f0f921"
            ]
           ],
           "sequentialminus": [
            [
             0,
             "#0d0887"
            ],
            [
             0.1111111111111111,
             "#46039f"
            ],
            [
             0.2222222222222222,
             "#7201a8"
            ],
            [
             0.3333333333333333,
             "#9c179e"
            ],
            [
             0.4444444444444444,
             "#bd3786"
            ],
            [
             0.5555555555555556,
             "#d8576b"
            ],
            [
             0.6666666666666666,
             "#ed7953"
            ],
            [
             0.7777777777777778,
             "#fb9f3a"
            ],
            [
             0.8888888888888888,
             "#fdca26"
            ],
            [
             1,
             "#f0f921"
            ]
           ]
          },
          "colorway": [
           "#636efa",
           "#EF553B",
           "#00cc96",
           "#ab63fa",
           "#FFA15A",
           "#19d3f3",
           "#FF6692",
           "#B6E880",
           "#FF97FF",
           "#FECB52"
          ],
          "font": {
           "color": "#2a3f5f"
          },
          "geo": {
           "bgcolor": "white",
           "lakecolor": "white",
           "landcolor": "#E5ECF6",
           "showlakes": true,
           "showland": true,
           "subunitcolor": "white"
          },
          "hoverlabel": {
           "align": "left"
          },
          "hovermode": "closest",
          "mapbox": {
           "style": "light"
          },
          "paper_bgcolor": "white",
          "plot_bgcolor": "#E5ECF6",
          "polar": {
           "angularaxis": {
            "gridcolor": "white",
            "linecolor": "white",
            "ticks": ""
           },
           "bgcolor": "#E5ECF6",
           "radialaxis": {
            "gridcolor": "white",
            "linecolor": "white",
            "ticks": ""
           }
          },
          "scene": {
           "xaxis": {
            "backgroundcolor": "#E5ECF6",
            "gridcolor": "white",
            "gridwidth": 2,
            "linecolor": "white",
            "showbackground": true,
            "ticks": "",
            "zerolinecolor": "white"
           },
           "yaxis": {
            "backgroundcolor": "#E5ECF6",
            "gridcolor": "white",
            "gridwidth": 2,
            "linecolor": "white",
            "showbackground": true,
            "ticks": "",
            "zerolinecolor": "white"
           },
           "zaxis": {
            "backgroundcolor": "#E5ECF6",
            "gridcolor": "white",
            "gridwidth": 2,
            "linecolor": "white",
            "showbackground": true,
            "ticks": "",
            "zerolinecolor": "white"
           }
          },
          "shapedefaults": {
           "line": {
            "color": "#2a3f5f"
           }
          },
          "ternary": {
           "aaxis": {
            "gridcolor": "white",
            "linecolor": "white",
            "ticks": ""
           },
           "baxis": {
            "gridcolor": "white",
            "linecolor": "white",
            "ticks": ""
           },
           "bgcolor": "#E5ECF6",
           "caxis": {
            "gridcolor": "white",
            "linecolor": "white",
            "ticks": ""
           }
          },
          "title": {
           "x": 0.05
          },
          "xaxis": {
           "automargin": true,
           "gridcolor": "white",
           "linecolor": "white",
           "ticks": "",
           "title": {
            "standoff": 15
           },
           "zerolinecolor": "white",
           "zerolinewidth": 2
          },
          "yaxis": {
           "automargin": true,
           "gridcolor": "white",
           "linecolor": "white",
           "ticks": "",
           "title": {
            "standoff": 15
           },
           "zerolinecolor": "white",
           "zerolinewidth": 2
          }
         }
        },
        "title": {
         "font": {
          "color": "#4D5663"
         }
        },
        "xaxis": {
         "anchor": "y",
         "domain": [
          0,
          0.2125
         ],
         "gridcolor": "#E1E5ED",
         "showgrid": false,
         "tickfont": {
          "color": "#4D5663"
         },
         "title": {
          "font": {
           "color": "#4D5663"
          },
          "text": ""
         },
         "zerolinecolor": "#E1E5ED"
        },
        "xaxis10": {
         "anchor": "y10",
         "domain": [
          0.2625,
          0.475
         ],
         "gridcolor": "#E1E5ED",
         "showgrid": false,
         "tickfont": {
          "color": "#4D5663"
         },
         "title": {
          "font": {
           "color": "#4D5663"
          },
          "text": ""
         },
         "zerolinecolor": "#E1E5ED"
        },
        "xaxis11": {
         "anchor": "y11",
         "domain": [
          0.525,
          0.7375
         ],
         "gridcolor": "#E1E5ED",
         "showgrid": false,
         "tickfont": {
          "color": "#4D5663"
         },
         "title": {
          "font": {
           "color": "#4D5663"
          },
          "text": ""
         },
         "zerolinecolor": "#E1E5ED"
        },
        "xaxis12": {
         "anchor": "y12",
         "domain": [
          0.7875,
          1
         ],
         "gridcolor": "#E1E5ED",
         "showgrid": false,
         "tickfont": {
          "color": "#4D5663"
         },
         "title": {
          "font": {
           "color": "#4D5663"
          },
          "text": ""
         },
         "zerolinecolor": "#E1E5ED"
        },
        "xaxis13": {
         "anchor": "y13",
         "domain": [
          0,
          0.2125
         ],
         "gridcolor": "#E1E5ED",
         "showgrid": false,
         "tickfont": {
          "color": "#4D5663"
         },
         "title": {
          "font": {
           "color": "#4D5663"
          },
          "text": ""
         },
         "zerolinecolor": "#E1E5ED"
        },
        "xaxis14": {
         "anchor": "y14",
         "domain": [
          0.2625,
          0.475
         ],
         "gridcolor": "#E1E5ED",
         "showgrid": false,
         "tickfont": {
          "color": "#4D5663"
         },
         "title": {
          "font": {
           "color": "#4D5663"
          },
          "text": ""
         },
         "zerolinecolor": "#E1E5ED"
        },
        "xaxis15": {
         "anchor": "y15",
         "domain": [
          0.525,
          0.7375
         ],
         "gridcolor": "#E1E5ED",
         "showgrid": false,
         "tickfont": {
          "color": "#4D5663"
         },
         "title": {
          "font": {
           "color": "#4D5663"
          },
          "text": ""
         },
         "zerolinecolor": "#E1E5ED"
        },
        "xaxis16": {
         "anchor": "y16",
         "domain": [
          0.7875,
          1
         ],
         "gridcolor": "#E1E5ED",
         "showgrid": false,
         "tickfont": {
          "color": "#4D5663"
         },
         "title": {
          "font": {
           "color": "#4D5663"
          },
          "text": ""
         },
         "zerolinecolor": "#E1E5ED"
        },
        "xaxis2": {
         "anchor": "y2",
         "domain": [
          0.2625,
          0.475
         ],
         "gridcolor": "#E1E5ED",
         "showgrid": false,
         "tickfont": {
          "color": "#4D5663"
         },
         "title": {
          "font": {
           "color": "#4D5663"
          },
          "text": ""
         },
         "zerolinecolor": "#E1E5ED"
        },
        "xaxis3": {
         "anchor": "y3",
         "domain": [
          0.525,
          0.7375
         ],
         "gridcolor": "#E1E5ED",
         "showgrid": false,
         "tickfont": {
          "color": "#4D5663"
         },
         "title": {
          "font": {
           "color": "#4D5663"
          },
          "text": ""
         },
         "zerolinecolor": "#E1E5ED"
        },
        "xaxis4": {
         "anchor": "y4",
         "domain": [
          0.7875,
          1
         ],
         "gridcolor": "#E1E5ED",
         "showgrid": false,
         "tickfont": {
          "color": "#4D5663"
         },
         "title": {
          "font": {
           "color": "#4D5663"
          },
          "text": ""
         },
         "zerolinecolor": "#E1E5ED"
        },
        "xaxis5": {
         "anchor": "y5",
         "domain": [
          0,
          0.2125
         ],
         "gridcolor": "#E1E5ED",
         "showgrid": false,
         "tickfont": {
          "color": "#4D5663"
         },
         "title": {
          "font": {
           "color": "#4D5663"
          },
          "text": ""
         },
         "zerolinecolor": "#E1E5ED"
        },
        "xaxis6": {
         "anchor": "y6",
         "domain": [
          0.2625,
          0.475
         ],
         "gridcolor": "#E1E5ED",
         "showgrid": false,
         "tickfont": {
          "color": "#4D5663"
         },
         "title": {
          "font": {
           "color": "#4D5663"
          },
          "text": ""
         },
         "zerolinecolor": "#E1E5ED"
        },
        "xaxis7": {
         "anchor": "y7",
         "domain": [
          0.525,
          0.7375
         ],
         "gridcolor": "#E1E5ED",
         "showgrid": false,
         "tickfont": {
          "color": "#4D5663"
         },
         "title": {
          "font": {
           "color": "#4D5663"
          },
          "text": ""
         },
         "zerolinecolor": "#E1E5ED"
        },
        "xaxis8": {
         "anchor": "y8",
         "domain": [
          0.7875,
          1
         ],
         "gridcolor": "#E1E5ED",
         "showgrid": false,
         "tickfont": {
          "color": "#4D5663"
         },
         "title": {
          "font": {
           "color": "#4D5663"
          },
          "text": ""
         },
         "zerolinecolor": "#E1E5ED"
        },
        "xaxis9": {
         "anchor": "y9",
         "domain": [
          0,
          0.2125
         ],
         "gridcolor": "#E1E5ED",
         "showgrid": false,
         "tickfont": {
          "color": "#4D5663"
         },
         "title": {
          "font": {
           "color": "#4D5663"
          },
          "text": ""
         },
         "zerolinecolor": "#E1E5ED"
        },
        "yaxis": {
         "anchor": "x",
         "domain": [
          0.8025,
          1
         ],
         "gridcolor": "#E1E5ED",
         "showgrid": false,
         "tickfont": {
          "color": "#4D5663"
         },
         "title": {
          "font": {
           "color": "#4D5663"
          },
          "text": ""
         },
         "zerolinecolor": "#E1E5ED"
        },
        "yaxis10": {
         "anchor": "x10",
         "domain": [
          0.2675,
          0.465
         ],
         "gridcolor": "#E1E5ED",
         "showgrid": false,
         "tickfont": {
          "color": "#4D5663"
         },
         "title": {
          "font": {
           "color": "#4D5663"
          },
          "text": ""
         },
         "zerolinecolor": "#E1E5ED"
        },
        "yaxis11": {
         "anchor": "x11",
         "domain": [
          0.2675,
          0.465
         ],
         "gridcolor": "#E1E5ED",
         "showgrid": false,
         "tickfont": {
          "color": "#4D5663"
         },
         "title": {
          "font": {
           "color": "#4D5663"
          },
          "text": ""
         },
         "zerolinecolor": "#E1E5ED"
        },
        "yaxis12": {
         "anchor": "x12",
         "domain": [
          0.2675,
          0.465
         ],
         "gridcolor": "#E1E5ED",
         "showgrid": false,
         "tickfont": {
          "color": "#4D5663"
         },
         "title": {
          "font": {
           "color": "#4D5663"
          },
          "text": ""
         },
         "zerolinecolor": "#E1E5ED"
        },
        "yaxis13": {
         "anchor": "x13",
         "domain": [
          0,
          0.1975
         ],
         "gridcolor": "#E1E5ED",
         "showgrid": false,
         "tickfont": {
          "color": "#4D5663"
         },
         "title": {
          "font": {
           "color": "#4D5663"
          },
          "text": ""
         },
         "zerolinecolor": "#E1E5ED"
        },
        "yaxis14": {
         "anchor": "x14",
         "domain": [
          0,
          0.1975
         ],
         "gridcolor": "#E1E5ED",
         "showgrid": false,
         "tickfont": {
          "color": "#4D5663"
         },
         "title": {
          "font": {
           "color": "#4D5663"
          },
          "text": ""
         },
         "zerolinecolor": "#E1E5ED"
        },
        "yaxis15": {
         "anchor": "x15",
         "domain": [
          0,
          0.1975
         ],
         "gridcolor": "#E1E5ED",
         "showgrid": false,
         "tickfont": {
          "color": "#4D5663"
         },
         "title": {
          "font": {
           "color": "#4D5663"
          },
          "text": ""
         },
         "zerolinecolor": "#E1E5ED"
        },
        "yaxis16": {
         "anchor": "x16",
         "domain": [
          0,
          0.1975
         ],
         "gridcolor": "#E1E5ED",
         "showgrid": false,
         "tickfont": {
          "color": "#4D5663"
         },
         "title": {
          "font": {
           "color": "#4D5663"
          },
          "text": ""
         },
         "zerolinecolor": "#E1E5ED"
        },
        "yaxis2": {
         "anchor": "x2",
         "domain": [
          0.8025,
          1
         ],
         "gridcolor": "#E1E5ED",
         "showgrid": false,
         "tickfont": {
          "color": "#4D5663"
         },
         "title": {
          "font": {
           "color": "#4D5663"
          },
          "text": ""
         },
         "zerolinecolor": "#E1E5ED"
        },
        "yaxis3": {
         "anchor": "x3",
         "domain": [
          0.8025,
          1
         ],
         "gridcolor": "#E1E5ED",
         "showgrid": false,
         "tickfont": {
          "color": "#4D5663"
         },
         "title": {
          "font": {
           "color": "#4D5663"
          },
          "text": ""
         },
         "zerolinecolor": "#E1E5ED"
        },
        "yaxis4": {
         "anchor": "x4",
         "domain": [
          0.8025,
          1
         ],
         "gridcolor": "#E1E5ED",
         "showgrid": false,
         "tickfont": {
          "color": "#4D5663"
         },
         "title": {
          "font": {
           "color": "#4D5663"
          },
          "text": ""
         },
         "zerolinecolor": "#E1E5ED"
        },
        "yaxis5": {
         "anchor": "x5",
         "domain": [
          0.535,
          0.7325
         ],
         "gridcolor": "#E1E5ED",
         "showgrid": false,
         "tickfont": {
          "color": "#4D5663"
         },
         "title": {
          "font": {
           "color": "#4D5663"
          },
          "text": ""
         },
         "zerolinecolor": "#E1E5ED"
        },
        "yaxis6": {
         "anchor": "x6",
         "domain": [
          0.535,
          0.7325
         ],
         "gridcolor": "#E1E5ED",
         "showgrid": false,
         "tickfont": {
          "color": "#4D5663"
         },
         "title": {
          "font": {
           "color": "#4D5663"
          },
          "text": ""
         },
         "zerolinecolor": "#E1E5ED"
        },
        "yaxis7": {
         "anchor": "x7",
         "domain": [
          0.535,
          0.7325
         ],
         "gridcolor": "#E1E5ED",
         "showgrid": false,
         "tickfont": {
          "color": "#4D5663"
         },
         "title": {
          "font": {
           "color": "#4D5663"
          },
          "text": ""
         },
         "zerolinecolor": "#E1E5ED"
        },
        "yaxis8": {
         "anchor": "x8",
         "domain": [
          0.535,
          0.7325
         ],
         "gridcolor": "#E1E5ED",
         "showgrid": false,
         "tickfont": {
          "color": "#4D5663"
         },
         "title": {
          "font": {
           "color": "#4D5663"
          },
          "text": ""
         },
         "zerolinecolor": "#E1E5ED"
        },
        "yaxis9": {
         "anchor": "x9",
         "domain": [
          0.2675,
          0.465
         ],
         "gridcolor": "#E1E5ED",
         "showgrid": false,
         "tickfont": {
          "color": "#4D5663"
         },
         "title": {
          "font": {
           "color": "#4D5663"
          },
          "text": ""
         },
         "zerolinecolor": "#E1E5ED"
        }
       }
      },
      "text/html": [
       "<div>                            <div id=\"1a395de1-eea0-4d43-8f42-91481e701f0b\" class=\"plotly-graph-div\" style=\"height:525px; width:100%;\"></div>            <script type=\"text/javascript\">                require([\"plotly\"], function(Plotly) {                    window.PLOTLYENV=window.PLOTLYENV || {};\n",
       "                    window.PLOTLYENV.BASE_URL='https://plot.ly';                                    if (document.getElementById(\"1a395de1-eea0-4d43-8f42-91481e701f0b\")) {                    Plotly.newPlot(                        \"1a395de1-eea0-4d43-8f42-91481e701f0b\",                        [{\"histfunc\":\"count\",\"histnorm\":\"\",\"marker\":{\"color\":\"rgba(255, 153, 51, 1.0)\",\"line\":{\"color\":\"#4D5663\",\"width\":1.3}},\"name\":\"A\",\"nbinsx\":10,\"opacity\":0.8,\"orientation\":\"v\",\"x\":[1.384941095893982,-0.3647871044245467,-1.613377798789012,-0.12920481127577702,-0.6300029180423312,0.6955311102837984,-0.07774289928427856,-1.5481508917079352,0.3144299528461812,1.483756889675816,1.3631631851081898,0.3577161379182844,0.44425005373458687,-1.3026835005270772,0.8586317944028101,-0.12796403591939365,0.373209303997531,0.5869332431334456,0.4864253873475166,1.0756346615585344,-1.052001580878504,0.0906431802398545,1.0580572090375877,-0.9848808039026463,0.5513641846951675,1.1659210728519842,0.020314764012267873,0.3074031709948694,-0.23909296540380182,0.02171216478090794,-0.16254690733414418,-0.33711970357111226,0.8142846009651958,0.5807041935213351,1.517465474603419,2.64825109236516,0.9118993743273417,0.3344914818573978,-0.6980817050442862,-0.014535950295435083,-0.29814416383545383,-0.0017524875066887394,-1.1233972672402575,0.06762297707903585,-0.16466873420852687,-0.1795079343480467,-0.6751925963714834,2.006888382314444,-0.7838881243097859,0.9294115904771026,-1.058238874474584,0.6586637071443632,-0.37707299217026374,-0.13598986025585266,-1.4967184420595114,0.4153485006683915,0.24121216996263192,-3.092016438708254,-1.2219917686899848,0.8869662273854365,-1.0682780065598037,-1.2106122878269856,0.803250005443257,0.9877199560578738,-0.2258121665388722,0.13923967982184132,-0.22573522543316654,1.6171694614878647,0.5477551242136519,0.4420065170066808,0.06747036201760358,-1.641776468835695,-0.2876490151341459,0.3684314172007868,1.1306668046343704,-0.8340553638572694,0.6712547294009807,0.8197535903257653,0.2124039178122506,-0.5392633467972721,0.010110482279003876,0.958789971496834,-0.07020997545633594,0.33616891127553034,-0.3907482690955859,0.8806514736157832,0.31650766745412495,0.1448946459985747,0.27772853189609437,-0.4036166749778001,-0.2926052183646972,1.3491425878516692,-1.4689030081303354,1.43789556687664,-1.79323467847179,-0.17223590815000211,1.0094163974481396,-0.31501498808974,-0.3962647074563389,-2.0067551306542164],\"xaxis\":\"x\",\"yaxis\":\"y\",\"type\":\"histogram\"},{\"line\":{\"color\":\"rgba(128, 128, 128, 1.0)\",\"dash\":\"solid\",\"shape\":\"linear\",\"width\":1.3},\"marker\":{\"size\":2,\"symbol\":\"circle\"},\"mode\":\"markers\",\"name\":\"A\",\"text\":\"\",\"x\":[-0.11794573212984044,1.2697792200547326,-2.1676156275817493,-0.24857109473288877,0.40460693442474416,1.6139280285149076,0.2360306035442598,-0.22602808881920358,0.057142677471569564,-0.7772782408575107,0.9429237937088079,0.20523204088664526,-0.7154259155847406,1.1964788967171962,1.1522379793062072,0.8376926086136763,1.3857641285531264,-1.2374578036932693,-1.7210512496642552,-0.2495034317564669,0.549318005327426,-1.1113590661117567,-1.4100862237170253,0.9532142588336986,-0.5315758547787328,0.026876504527802447,1.475296799480042,-0.05540255585344138,0.9422840651588723,-1.8656941194067982,0.7869650084081312,1.405011375883612,2.255057549388606,0.1462871105740621,-2.1847079312579747,-1.161172611275934,0.6196167217877991,0.11183036629305333,-0.05854992899036618,0.5065278797161682,0.175142247004244,1.095194809193081,2.6837799095371384,-0.012627706308564711,0.9660921024626176,0.6886580320242333,-1.0591087700884958,0.1104364113543046,2.372207831365576,-0.8860199351161889,1.086165799454149,-0.8626755672497495,-0.06868432104132013,-0.7200816182896868,0.4188150947497825,0.4228561041113086,-0.698445960962204,-0.6988310924554466,-0.6658491938730066,0.2958846261817548,-0.3507001784507818,0.647173773145682,-1.2328387228246311,1.0459553224352556,0.1231502442460987,0.6522703753362419,1.3888130593209138,0.10676669523311827,-1.8282146343099823,-0.9934128961933868,0.0391113792741524,-0.8611094358006953,0.41413313956819325,-1.4101986910835675,1.815049449469626,0.9231752547232016,0.17927969270330754,1.3991110254560424,-0.22439988703791916,-0.9325281027769723,1.434972285835641,0.41293299829143254,0.22260783277251583,-0.6284887586125657,-0.04186487356009881,-0.4049849380508509,1.0931210510758536,-0.9357279986842723,-0.8187865619869552,-2.177802400994987,0.38835428050347276,-0.138536009177223,1.3287017218425048,2.193100689061061,2.7502259232461843,-1.4807074423373137,0.27064831548673124,0.034154607417923276,-0.2738508186098899,-0.5388356081283091],\"xaxis\":\"x2\",\"y\":[1.384941095893982,-0.3647871044245467,-1.613377798789012,-0.12920481127577702,-0.6300029180423312,0.6955311102837984,-0.07774289928427856,-1.5481508917079352,0.3144299528461812,1.483756889675816,1.3631631851081898,0.3577161379182844,0.44425005373458687,-1.3026835005270772,0.8586317944028101,-0.12796403591939365,0.373209303997531,0.5869332431334456,0.4864253873475166,1.0756346615585344,-1.052001580878504,0.0906431802398545,1.0580572090375877,-0.9848808039026463,0.5513641846951675,1.1659210728519842,0.020314764012267873,0.3074031709948694,-0.23909296540380182,0.02171216478090794,-0.16254690733414418,-0.33711970357111226,0.8142846009651958,0.5807041935213351,1.517465474603419,2.64825109236516,0.9118993743273417,0.3344914818573978,-0.6980817050442862,-0.014535950295435083,-0.29814416383545383,-0.0017524875066887394,-1.1233972672402575,0.06762297707903585,-0.16466873420852687,-0.1795079343480467,-0.6751925963714834,2.006888382314444,-0.7838881243097859,0.9294115904771026,-1.058238874474584,0.6586637071443632,-0.37707299217026374,-0.13598986025585266,-1.4967184420595114,0.4153485006683915,0.24121216996263192,-3.092016438708254,-1.2219917686899848,0.8869662273854365,-1.0682780065598037,-1.2106122878269856,0.803250005443257,0.9877199560578738,-0.2258121665388722,0.13923967982184132,-0.22573522543316654,1.6171694614878647,0.5477551242136519,0.4420065170066808,0.06747036201760358,-1.641776468835695,-0.2876490151341459,0.3684314172007868,1.1306668046343704,-0.8340553638572694,0.6712547294009807,0.8197535903257653,0.2124039178122506,-0.5392633467972721,0.010110482279003876,0.958789971496834,-0.07020997545633594,0.33616891127553034,-0.3907482690955859,0.8806514736157832,0.31650766745412495,0.1448946459985747,0.27772853189609437,-0.4036166749778001,-0.2926052183646972,1.3491425878516692,-1.4689030081303354,1.43789556687664,-1.79323467847179,-0.17223590815000211,1.0094163974481396,-0.31501498808974,-0.3962647074563389,-2.0067551306542164],\"yaxis\":\"y2\",\"type\":\"scatter\"},{\"line\":{\"color\":\"rgba(128, 128, 128, 1.0)\",\"dash\":\"solid\",\"shape\":\"linear\",\"width\":1.3},\"marker\":{\"size\":2,\"symbol\":\"circle\"},\"mode\":\"markers\",\"name\":\"A\",\"text\":\"\",\"x\":[1.9401484848174453,-1.2397331297731549,-1.018675973013534,-0.33547878047215196,-1.3699549380833393,1.3810263767929065,0.7721843153431419,-0.7722237296090372,0.8486180756818512,1.7440433826405037,-0.08001824533932232,2.0661183345020007,0.04572602069072565,-1.0819021945413614,0.009085452996414885,-0.9878765751184702,0.37075917857625,0.25437485137637955,1.1841266827114045,-1.1453249365393527,0.5857775601891346,0.8710303685429346,-0.024783030100748008,0.6150492408405598,1.4716652952158042,-0.46758776423255266,-0.1588164476426438,-0.30304520129019064,-0.390934590087459,-0.24233821807824782,-0.8688043843960509,2.1365140455407627,0.4390931231504873,-1.4893614799515036,-2.4386452322949346,-1.1422505213045908,-1.4149163539103322,-0.013994673048110981,-2.034223797662766,1.4253019420988005,-2.0632544066807643,0.6996640900505026,0.5166100297666383,-1.071532965949633,-0.9051225166232557,-0.7934178460696767,-0.8224502512549449,0.15493335662541116,0.39500230090794575,0.8857418121756081,0.32000079106086377,-0.008234679363814059,0.49444038047693045,-0.7121015253712025,0.11159926839694684,-0.6397544473062552,-0.6297012892092753,-0.14708147193593385,-1.831759802918478,-1.132317223629694,0.8300459562443999,-0.5768572815494716,0.7256517351358649,0.315413301407352,0.2568963021893039,0.27725859353110416,-0.13520879790699447,-0.5648419203108074,-2.954018487536646,-0.940562870249268,-1.2466882336102456,-0.8033234119044046,0.26439271338445264,-0.21474918616508726,-0.39167546554283417,0.11783823012584817,-0.46125483724851585,1.328839452652975,3.1635328556243794,0.1034546363343562,-1.260959363985953,1.2107659875753456,1.3089355281014505,-0.08791413108196387,-0.3599472537742511,1.980076893144827,0.3797782251011386,-1.7519402263507402,-0.7082770903572351,-0.15113155411961024,0.43962501015970173,-0.20895860876046474,0.5546753479330597,0.1782227202309211,1.7531082352203122,-0.7415829058805974,-0.6266777912851297,0.6640612063767465,0.41009329778209624,0.6915880772218923],\"xaxis\":\"x3\",\"y\":[1.384941095893982,-0.3647871044245467,-1.613377798789012,-0.12920481127577702,-0.6300029180423312,0.6955311102837984,-0.07774289928427856,-1.5481508917079352,0.3144299528461812,1.483756889675816,1.3631631851081898,0.3577161379182844,0.44425005373458687,-1.3026835005270772,0.8586317944028101,-0.12796403591939365,0.373209303997531,0.5869332431334456,0.4864253873475166,1.0756346615585344,-1.052001580878504,0.0906431802398545,1.0580572090375877,-0.9848808039026463,0.5513641846951675,1.1659210728519842,0.020314764012267873,0.3074031709948694,-0.23909296540380182,0.02171216478090794,-0.16254690733414418,-0.33711970357111226,0.8142846009651958,0.5807041935213351,1.517465474603419,2.64825109236516,0.9118993743273417,0.3344914818573978,-0.6980817050442862,-0.014535950295435083,-0.29814416383545383,-0.0017524875066887394,-1.1233972672402575,0.06762297707903585,-0.16466873420852687,-0.1795079343480467,-0.6751925963714834,2.006888382314444,-0.7838881243097859,0.9294115904771026,-1.058238874474584,0.6586637071443632,-0.37707299217026374,-0.13598986025585266,-1.4967184420595114,0.4153485006683915,0.24121216996263192,-3.092016438708254,-1.2219917686899848,0.8869662273854365,-1.0682780065598037,-1.2106122878269856,0.803250005443257,0.9877199560578738,-0.2258121665388722,0.13923967982184132,-0.22573522543316654,1.6171694614878647,0.5477551242136519,0.4420065170066808,0.06747036201760358,-1.641776468835695,-0.2876490151341459,0.3684314172007868,1.1306668046343704,-0.8340553638572694,0.6712547294009807,0.8197535903257653,0.2124039178122506,-0.5392633467972721,0.010110482279003876,0.958789971496834,-0.07020997545633594,0.33616891127553034,-0.3907482690955859,0.8806514736157832,0.31650766745412495,0.1448946459985747,0.27772853189609437,-0.4036166749778001,-0.2926052183646972,1.3491425878516692,-1.4689030081303354,1.43789556687664,-1.79323467847179,-0.17223590815000211,1.0094163974481396,-0.31501498808974,-0.3962647074563389,-2.0067551306542164],\"yaxis\":\"y3\",\"type\":\"scatter\"},{\"line\":{\"color\":\"rgba(128, 128, 128, 1.0)\",\"dash\":\"solid\",\"shape\":\"linear\",\"width\":1.3},\"marker\":{\"size\":2,\"symbol\":\"circle\"},\"mode\":\"markers\",\"name\":\"A\",\"text\":\"\",\"x\":[-0.232607190972093,-0.10745682172545627,0.7301665782338982,-0.8086553985085576,-0.3808934345748271,-0.49728208115444156,-1.143202283557806,-0.00924216908427607,-0.5762292058604443,1.8107409045922969,-0.6429151459186503,-2.037122862243596,-1.1833441828811444,-0.2798311937972491,-2.3309295348858714,-1.181839359370192,0.9880300418287801,0.8556429383351365,1.1693382981537819,-1.3808702075475496,-0.18309447973892146,0.8438897509043974,1.581060734608897,-0.3596068422236975,0.13079908839655863,2.2113961251101677,-0.36346947498616455,-0.6800940270845436,1.1187059400934791,1.1043099757023331,-0.6823882796178447,-1.10897733367768,-1.6084453760231952,0.6398458111237544,-2.141650215025133,-0.629848221432961,-1.3459166652575534,0.9192082959941965,-0.5172725131310544,-0.8588962555419287,-0.09863404903046664,-1.804389501103032,-0.9593821912233614,1.0241520629708463,-0.6603271986227551,-0.26588194329921705,0.004759080754978136,0.34865477211306106,-0.3448425950988407,0.7842889066349303,1.3925201197443657,-0.3594709526907821,1.0618973955064497,0.14680351808446498,-1.7515468410520656,-0.6135423107048211,-0.9575148475814658,1.572687835401607,1.5922959327473496,1.2073779390002217,-0.36322906421417334,-2.0688991515179,1.1871757251508457,2.557928207241564,-0.1451521867356024,1.0728316273159937,0.5540363273931462,-0.8189397303937418,-0.2991846022135686,-0.5589151651974367,-1.5852563314699741,-1.0250545535826507,-0.7307299175017817,-1.7498252041560964,-1.7707723082582265,-0.10650969392090688,-1.4960048164865472,0.9058747618060715,-1.365560984520852,-0.5567782956347211,1.3349620404090474,-0.9921533022298292,-1.8561767161985299,-1.6961557334052646,0.26087038337192237,-1.087077580151142,-0.7672263733059088,-1.3359037825120874,-1.6155450718347866,-0.14483939598188197,0.4677086656212009,-0.35371284765311806,0.907492357905892,-0.39278850620491024,1.430034099034796,-0.1159178226728583,-0.8399729920788126,0.6935514209462399,-1.1970166117060872,-0.8287646619103597],\"xaxis\":\"x4\",\"y\":[1.384941095893982,-0.3647871044245467,-1.613377798789012,-0.12920481127577702,-0.6300029180423312,0.6955311102837984,-0.07774289928427856,-1.5481508917079352,0.3144299528461812,1.483756889675816,1.3631631851081898,0.3577161379182844,0.44425005373458687,-1.3026835005270772,0.8586317944028101,-0.12796403591939365,0.373209303997531,0.5869332431334456,0.4864253873475166,1.0756346615585344,-1.052001580878504,0.0906431802398545,1.0580572090375877,-0.9848808039026463,0.5513641846951675,1.1659210728519842,0.020314764012267873,0.3074031709948694,-0.23909296540380182,0.02171216478090794,-0.16254690733414418,-0.33711970357111226,0.8142846009651958,0.5807041935213351,1.517465474603419,2.64825109236516,0.9118993743273417,0.3344914818573978,-0.6980817050442862,-0.014535950295435083,-0.29814416383545383,-0.0017524875066887394,-1.1233972672402575,0.06762297707903585,-0.16466873420852687,-0.1795079343480467,-0.6751925963714834,2.006888382314444,-0.7838881243097859,0.9294115904771026,-1.058238874474584,0.6586637071443632,-0.37707299217026374,-0.13598986025585266,-1.4967184420595114,0.4153485006683915,0.24121216996263192,-3.092016438708254,-1.2219917686899848,0.8869662273854365,-1.0682780065598037,-1.2106122878269856,0.803250005443257,0.9877199560578738,-0.2258121665388722,0.13923967982184132,-0.22573522543316654,1.6171694614878647,0.5477551242136519,0.4420065170066808,0.06747036201760358,-1.641776468835695,-0.2876490151341459,0.3684314172007868,1.1306668046343704,-0.8340553638572694,0.6712547294009807,0.8197535903257653,0.2124039178122506,-0.5392633467972721,0.010110482279003876,0.958789971496834,-0.07020997545633594,0.33616891127553034,-0.3907482690955859,0.8806514736157832,0.31650766745412495,0.1448946459985747,0.27772853189609437,-0.4036166749778001,-0.2926052183646972,1.3491425878516692,-1.4689030081303354,1.43789556687664,-1.79323467847179,-0.17223590815000211,1.0094163974481396,-0.31501498808974,-0.3962647074563389,-2.0067551306542164],\"yaxis\":\"y4\",\"type\":\"scatter\"},{\"line\":{\"color\":\"rgba(128, 128, 128, 1.0)\",\"dash\":\"solid\",\"shape\":\"linear\",\"width\":1.3},\"marker\":{\"size\":2,\"symbol\":\"circle\"},\"mode\":\"markers\",\"name\":\"B\",\"text\":\"\",\"x\":[1.384941095893982,-0.3647871044245467,-1.613377798789012,-0.12920481127577702,-0.6300029180423312,0.6955311102837984,-0.07774289928427856,-1.5481508917079352,0.3144299528461812,1.483756889675816,1.3631631851081898,0.3577161379182844,0.44425005373458687,-1.3026835005270772,0.8586317944028101,-0.12796403591939365,0.373209303997531,0.5869332431334456,0.4864253873475166,1.0756346615585344,-1.052001580878504,0.0906431802398545,1.0580572090375877,-0.9848808039026463,0.5513641846951675,1.1659210728519842,0.020314764012267873,0.3074031709948694,-0.23909296540380182,0.02171216478090794,-0.16254690733414418,-0.33711970357111226,0.8142846009651958,0.5807041935213351,1.517465474603419,2.64825109236516,0.9118993743273417,0.3344914818573978,-0.6980817050442862,-0.014535950295435083,-0.29814416383545383,-0.0017524875066887394,-1.1233972672402575,0.06762297707903585,-0.16466873420852687,-0.1795079343480467,-0.6751925963714834,2.006888382314444,-0.7838881243097859,0.9294115904771026,-1.058238874474584,0.6586637071443632,-0.37707299217026374,-0.13598986025585266,-1.4967184420595114,0.4153485006683915,0.24121216996263192,-3.092016438708254,-1.2219917686899848,0.8869662273854365,-1.0682780065598037,-1.2106122878269856,0.803250005443257,0.9877199560578738,-0.2258121665388722,0.13923967982184132,-0.22573522543316654,1.6171694614878647,0.5477551242136519,0.4420065170066808,0.06747036201760358,-1.641776468835695,-0.2876490151341459,0.3684314172007868,1.1306668046343704,-0.8340553638572694,0.6712547294009807,0.8197535903257653,0.2124039178122506,-0.5392633467972721,0.010110482279003876,0.958789971496834,-0.07020997545633594,0.33616891127553034,-0.3907482690955859,0.8806514736157832,0.31650766745412495,0.1448946459985747,0.27772853189609437,-0.4036166749778001,-0.2926052183646972,1.3491425878516692,-1.4689030081303354,1.43789556687664,-1.79323467847179,-0.17223590815000211,1.0094163974481396,-0.31501498808974,-0.3962647074563389,-2.0067551306542164],\"xaxis\":\"x5\",\"y\":[-0.11794573212984044,1.2697792200547326,-2.1676156275817493,-0.24857109473288877,0.40460693442474416,1.6139280285149076,0.2360306035442598,-0.22602808881920358,0.057142677471569564,-0.7772782408575107,0.9429237937088079,0.20523204088664526,-0.7154259155847406,1.1964788967171962,1.1522379793062072,0.8376926086136763,1.3857641285531264,-1.2374578036932693,-1.7210512496642552,-0.2495034317564669,0.549318005327426,-1.1113590661117567,-1.4100862237170253,0.9532142588336986,-0.5315758547787328,0.026876504527802447,1.475296799480042,-0.05540255585344138,0.9422840651588723,-1.8656941194067982,0.7869650084081312,1.405011375883612,2.255057549388606,0.1462871105740621,-2.1847079312579747,-1.161172611275934,0.6196167217877991,0.11183036629305333,-0.05854992899036618,0.5065278797161682,0.175142247004244,1.095194809193081,2.6837799095371384,-0.012627706308564711,0.9660921024626176,0.6886580320242333,-1.0591087700884958,0.1104364113543046,2.372207831365576,-0.8860199351161889,1.086165799454149,-0.8626755672497495,-0.06868432104132013,-0.7200816182896868,0.4188150947497825,0.4228561041113086,-0.698445960962204,-0.6988310924554466,-0.6658491938730066,0.2958846261817548,-0.3507001784507818,0.647173773145682,-1.2328387228246311,1.0459553224352556,0.1231502442460987,0.6522703753362419,1.3888130593209138,0.10676669523311827,-1.8282146343099823,-0.9934128961933868,0.0391113792741524,-0.8611094358006953,0.41413313956819325,-1.4101986910835675,1.815049449469626,0.9231752547232016,0.17927969270330754,1.3991110254560424,-0.22439988703791916,-0.9325281027769723,1.434972285835641,0.41293299829143254,0.22260783277251583,-0.6284887586125657,-0.04186487356009881,-0.4049849380508509,1.0931210510758536,-0.9357279986842723,-0.8187865619869552,-2.177802400994987,0.38835428050347276,-0.138536009177223,1.3287017218425048,2.193100689061061,2.7502259232461843,-1.4807074423373137,0.27064831548673124,0.034154607417923276,-0.2738508186098899,-0.5388356081283091],\"yaxis\":\"y5\",\"type\":\"scatter\"},{\"histfunc\":\"count\",\"histnorm\":\"\",\"marker\":{\"color\":\"rgba(55, 128, 191, 1.0)\",\"line\":{\"color\":\"#4D5663\",\"width\":1.3}},\"name\":\"B\",\"nbinsx\":10,\"opacity\":0.8,\"orientation\":\"v\",\"x\":[-0.11794573212984044,1.2697792200547326,-2.1676156275817493,-0.24857109473288877,0.40460693442474416,1.6139280285149076,0.2360306035442598,-0.22602808881920358,0.057142677471569564,-0.7772782408575107,0.9429237937088079,0.20523204088664526,-0.7154259155847406,1.1964788967171962,1.1522379793062072,0.8376926086136763,1.3857641285531264,-1.2374578036932693,-1.7210512496642552,-0.2495034317564669,0.549318005327426,-1.1113590661117567,-1.4100862237170253,0.9532142588336986,-0.5315758547787328,0.026876504527802447,1.475296799480042,-0.05540255585344138,0.9422840651588723,-1.8656941194067982,0.7869650084081312,1.405011375883612,2.255057549388606,0.1462871105740621,-2.1847079312579747,-1.161172611275934,0.6196167217877991,0.11183036629305333,-0.05854992899036618,0.5065278797161682,0.175142247004244,1.095194809193081,2.6837799095371384,-0.012627706308564711,0.9660921024626176,0.6886580320242333,-1.0591087700884958,0.1104364113543046,2.372207831365576,-0.8860199351161889,1.086165799454149,-0.8626755672497495,-0.06868432104132013,-0.7200816182896868,0.4188150947497825,0.4228561041113086,-0.698445960962204,-0.6988310924554466,-0.6658491938730066,0.2958846261817548,-0.3507001784507818,0.647173773145682,-1.2328387228246311,1.0459553224352556,0.1231502442460987,0.6522703753362419,1.3888130593209138,0.10676669523311827,-1.8282146343099823,-0.9934128961933868,0.0391113792741524,-0.8611094358006953,0.41413313956819325,-1.4101986910835675,1.815049449469626,0.9231752547232016,0.17927969270330754,1.3991110254560424,-0.22439988703791916,-0.9325281027769723,1.434972285835641,0.41293299829143254,0.22260783277251583,-0.6284887586125657,-0.04186487356009881,-0.4049849380508509,1.0931210510758536,-0.9357279986842723,-0.8187865619869552,-2.177802400994987,0.38835428050347276,-0.138536009177223,1.3287017218425048,2.193100689061061,2.7502259232461843,-1.4807074423373137,0.27064831548673124,0.034154607417923276,-0.2738508186098899,-0.5388356081283091],\"xaxis\":\"x6\",\"yaxis\":\"y6\",\"type\":\"histogram\"},{\"line\":{\"color\":\"rgba(128, 128, 128, 1.0)\",\"dash\":\"solid\",\"shape\":\"linear\",\"width\":1.3},\"marker\":{\"size\":2,\"symbol\":\"circle\"},\"mode\":\"markers\",\"name\":\"B\",\"text\":\"\",\"x\":[1.9401484848174453,-1.2397331297731549,-1.018675973013534,-0.33547878047215196,-1.3699549380833393,1.3810263767929065,0.7721843153431419,-0.7722237296090372,0.8486180756818512,1.7440433826405037,-0.08001824533932232,2.0661183345020007,0.04572602069072565,-1.0819021945413614,0.009085452996414885,-0.9878765751184702,0.37075917857625,0.25437485137637955,1.1841266827114045,-1.1453249365393527,0.5857775601891346,0.8710303685429346,-0.024783030100748008,0.6150492408405598,1.4716652952158042,-0.46758776423255266,-0.1588164476426438,-0.30304520129019064,-0.390934590087459,-0.24233821807824782,-0.8688043843960509,2.1365140455407627,0.4390931231504873,-1.4893614799515036,-2.4386452322949346,-1.1422505213045908,-1.4149163539103322,-0.013994673048110981,-2.034223797662766,1.4253019420988005,-2.0632544066807643,0.6996640900505026,0.5166100297666383,-1.071532965949633,-0.9051225166232557,-0.7934178460696767,-0.8224502512549449,0.15493335662541116,0.39500230090794575,0.8857418121756081,0.32000079106086377,-0.008234679363814059,0.49444038047693045,-0.7121015253712025,0.11159926839694684,-0.6397544473062552,-0.6297012892092753,-0.14708147193593385,-1.831759802918478,-1.132317223629694,0.8300459562443999,-0.5768572815494716,0.7256517351358649,0.315413301407352,0.2568963021893039,0.27725859353110416,-0.13520879790699447,-0.5648419203108074,-2.954018487536646,-0.940562870249268,-1.2466882336102456,-0.8033234119044046,0.26439271338445264,-0.21474918616508726,-0.39167546554283417,0.11783823012584817,-0.46125483724851585,1.328839452652975,3.1635328556243794,0.1034546363343562,-1.260959363985953,1.2107659875753456,1.3089355281014505,-0.08791413108196387,-0.3599472537742511,1.980076893144827,0.3797782251011386,-1.7519402263507402,-0.7082770903572351,-0.15113155411961024,0.43962501015970173,-0.20895860876046474,0.5546753479330597,0.1782227202309211,1.7531082352203122,-0.7415829058805974,-0.6266777912851297,0.6640612063767465,0.41009329778209624,0.6915880772218923],\"xaxis\":\"x7\",\"y\":[-0.11794573212984044,1.2697792200547326,-2.1676156275817493,-0.24857109473288877,0.40460693442474416,1.6139280285149076,0.2360306035442598,-0.22602808881920358,0.057142677471569564,-0.7772782408575107,0.9429237937088079,0.20523204088664526,-0.7154259155847406,1.1964788967171962,1.1522379793062072,0.8376926086136763,1.3857641285531264,-1.2374578036932693,-1.7210512496642552,-0.2495034317564669,0.549318005327426,-1.1113590661117567,-1.4100862237170253,0.9532142588336986,-0.5315758547787328,0.026876504527802447,1.475296799480042,-0.05540255585344138,0.9422840651588723,-1.8656941194067982,0.7869650084081312,1.405011375883612,2.255057549388606,0.1462871105740621,-2.1847079312579747,-1.161172611275934,0.6196167217877991,0.11183036629305333,-0.05854992899036618,0.5065278797161682,0.175142247004244,1.095194809193081,2.6837799095371384,-0.012627706308564711,0.9660921024626176,0.6886580320242333,-1.0591087700884958,0.1104364113543046,2.372207831365576,-0.8860199351161889,1.086165799454149,-0.8626755672497495,-0.06868432104132013,-0.7200816182896868,0.4188150947497825,0.4228561041113086,-0.698445960962204,-0.6988310924554466,-0.6658491938730066,0.2958846261817548,-0.3507001784507818,0.647173773145682,-1.2328387228246311,1.0459553224352556,0.1231502442460987,0.6522703753362419,1.3888130593209138,0.10676669523311827,-1.8282146343099823,-0.9934128961933868,0.0391113792741524,-0.8611094358006953,0.41413313956819325,-1.4101986910835675,1.815049449469626,0.9231752547232016,0.17927969270330754,1.3991110254560424,-0.22439988703791916,-0.9325281027769723,1.434972285835641,0.41293299829143254,0.22260783277251583,-0.6284887586125657,-0.04186487356009881,-0.4049849380508509,1.0931210510758536,-0.9357279986842723,-0.8187865619869552,-2.177802400994987,0.38835428050347276,-0.138536009177223,1.3287017218425048,2.193100689061061,2.7502259232461843,-1.4807074423373137,0.27064831548673124,0.034154607417923276,-0.2738508186098899,-0.5388356081283091],\"yaxis\":\"y7\",\"type\":\"scatter\"},{\"line\":{\"color\":\"rgba(128, 128, 128, 1.0)\",\"dash\":\"solid\",\"shape\":\"linear\",\"width\":1.3},\"marker\":{\"size\":2,\"symbol\":\"circle\"},\"mode\":\"markers\",\"name\":\"B\",\"text\":\"\",\"x\":[-0.232607190972093,-0.10745682172545627,0.7301665782338982,-0.8086553985085576,-0.3808934345748271,-0.49728208115444156,-1.143202283557806,-0.00924216908427607,-0.5762292058604443,1.8107409045922969,-0.6429151459186503,-2.037122862243596,-1.1833441828811444,-0.2798311937972491,-2.3309295348858714,-1.181839359370192,0.9880300418287801,0.8556429383351365,1.1693382981537819,-1.3808702075475496,-0.18309447973892146,0.8438897509043974,1.581060734608897,-0.3596068422236975,0.13079908839655863,2.2113961251101677,-0.36346947498616455,-0.6800940270845436,1.1187059400934791,1.1043099757023331,-0.6823882796178447,-1.10897733367768,-1.6084453760231952,0.6398458111237544,-2.141650215025133,-0.629848221432961,-1.3459166652575534,0.9192082959941965,-0.5172725131310544,-0.8588962555419287,-0.09863404903046664,-1.804389501103032,-0.9593821912233614,1.0241520629708463,-0.6603271986227551,-0.26588194329921705,0.004759080754978136,0.34865477211306106,-0.3448425950988407,0.7842889066349303,1.3925201197443657,-0.3594709526907821,1.0618973955064497,0.14680351808446498,-1.7515468410520656,-0.6135423107048211,-0.9575148475814658,1.572687835401607,1.5922959327473496,1.2073779390002217,-0.36322906421417334,-2.0688991515179,1.1871757251508457,2.557928207241564,-0.1451521867356024,1.0728316273159937,0.5540363273931462,-0.8189397303937418,-0.2991846022135686,-0.5589151651974367,-1.5852563314699741,-1.0250545535826507,-0.7307299175017817,-1.7498252041560964,-1.7707723082582265,-0.10650969392090688,-1.4960048164865472,0.9058747618060715,-1.365560984520852,-0.5567782956347211,1.3349620404090474,-0.9921533022298292,-1.8561767161985299,-1.6961557334052646,0.26087038337192237,-1.087077580151142,-0.7672263733059088,-1.3359037825120874,-1.6155450718347866,-0.14483939598188197,0.4677086656212009,-0.35371284765311806,0.907492357905892,-0.39278850620491024,1.430034099034796,-0.1159178226728583,-0.8399729920788126,0.6935514209462399,-1.1970166117060872,-0.8287646619103597],\"xaxis\":\"x8\",\"y\":[-0.11794573212984044,1.2697792200547326,-2.1676156275817493,-0.24857109473288877,0.40460693442474416,1.6139280285149076,0.2360306035442598,-0.22602808881920358,0.057142677471569564,-0.7772782408575107,0.9429237937088079,0.20523204088664526,-0.7154259155847406,1.1964788967171962,1.1522379793062072,0.8376926086136763,1.3857641285531264,-1.2374578036932693,-1.7210512496642552,-0.2495034317564669,0.549318005327426,-1.1113590661117567,-1.4100862237170253,0.9532142588336986,-0.5315758547787328,0.026876504527802447,1.475296799480042,-0.05540255585344138,0.9422840651588723,-1.8656941194067982,0.7869650084081312,1.405011375883612,2.255057549388606,0.1462871105740621,-2.1847079312579747,-1.161172611275934,0.6196167217877991,0.11183036629305333,-0.05854992899036618,0.5065278797161682,0.175142247004244,1.095194809193081,2.6837799095371384,-0.012627706308564711,0.9660921024626176,0.6886580320242333,-1.0591087700884958,0.1104364113543046,2.372207831365576,-0.8860199351161889,1.086165799454149,-0.8626755672497495,-0.06868432104132013,-0.7200816182896868,0.4188150947497825,0.4228561041113086,-0.698445960962204,-0.6988310924554466,-0.6658491938730066,0.2958846261817548,-0.3507001784507818,0.647173773145682,-1.2328387228246311,1.0459553224352556,0.1231502442460987,0.6522703753362419,1.3888130593209138,0.10676669523311827,-1.8282146343099823,-0.9934128961933868,0.0391113792741524,-0.8611094358006953,0.41413313956819325,-1.4101986910835675,1.815049449469626,0.9231752547232016,0.17927969270330754,1.3991110254560424,-0.22439988703791916,-0.9325281027769723,1.434972285835641,0.41293299829143254,0.22260783277251583,-0.6284887586125657,-0.04186487356009881,-0.4049849380508509,1.0931210510758536,-0.9357279986842723,-0.8187865619869552,-2.177802400994987,0.38835428050347276,-0.138536009177223,1.3287017218425048,2.193100689061061,2.7502259232461843,-1.4807074423373137,0.27064831548673124,0.034154607417923276,-0.2738508186098899,-0.5388356081283091],\"yaxis\":\"y8\",\"type\":\"scatter\"},{\"line\":{\"color\":\"rgba(128, 128, 128, 1.0)\",\"dash\":\"solid\",\"shape\":\"linear\",\"width\":1.3},\"marker\":{\"size\":2,\"symbol\":\"circle\"},\"mode\":\"markers\",\"name\":\"C\",\"text\":\"\",\"x\":[1.384941095893982,-0.3647871044245467,-1.613377798789012,-0.12920481127577702,-0.6300029180423312,0.6955311102837984,-0.07774289928427856,-1.5481508917079352,0.3144299528461812,1.483756889675816,1.3631631851081898,0.3577161379182844,0.44425005373458687,-1.3026835005270772,0.8586317944028101,-0.12796403591939365,0.373209303997531,0.5869332431334456,0.4864253873475166,1.0756346615585344,-1.052001580878504,0.0906431802398545,1.0580572090375877,-0.9848808039026463,0.5513641846951675,1.1659210728519842,0.020314764012267873,0.3074031709948694,-0.23909296540380182,0.02171216478090794,-0.16254690733414418,-0.33711970357111226,0.8142846009651958,0.5807041935213351,1.517465474603419,2.64825109236516,0.9118993743273417,0.3344914818573978,-0.6980817050442862,-0.014535950295435083,-0.29814416383545383,-0.0017524875066887394,-1.1233972672402575,0.06762297707903585,-0.16466873420852687,-0.1795079343480467,-0.6751925963714834,2.006888382314444,-0.7838881243097859,0.9294115904771026,-1.058238874474584,0.6586637071443632,-0.37707299217026374,-0.13598986025585266,-1.4967184420595114,0.4153485006683915,0.24121216996263192,-3.092016438708254,-1.2219917686899848,0.8869662273854365,-1.0682780065598037,-1.2106122878269856,0.803250005443257,0.9877199560578738,-0.2258121665388722,0.13923967982184132,-0.22573522543316654,1.6171694614878647,0.5477551242136519,0.4420065170066808,0.06747036201760358,-1.641776468835695,-0.2876490151341459,0.3684314172007868,1.1306668046343704,-0.8340553638572694,0.6712547294009807,0.8197535903257653,0.2124039178122506,-0.5392633467972721,0.010110482279003876,0.958789971496834,-0.07020997545633594,0.33616891127553034,-0.3907482690955859,0.8806514736157832,0.31650766745412495,0.1448946459985747,0.27772853189609437,-0.4036166749778001,-0.2926052183646972,1.3491425878516692,-1.4689030081303354,1.43789556687664,-1.79323467847179,-0.17223590815000211,1.0094163974481396,-0.31501498808974,-0.3962647074563389,-2.0067551306542164],\"xaxis\":\"x9\",\"y\":[1.9401484848174453,-1.2397331297731549,-1.018675973013534,-0.33547878047215196,-1.3699549380833393,1.3810263767929065,0.7721843153431419,-0.7722237296090372,0.8486180756818512,1.7440433826405037,-0.08001824533932232,2.0661183345020007,0.04572602069072565,-1.0819021945413614,0.009085452996414885,-0.9878765751184702,0.37075917857625,0.25437485137637955,1.1841266827114045,-1.1453249365393527,0.5857775601891346,0.8710303685429346,-0.024783030100748008,0.6150492408405598,1.4716652952158042,-0.46758776423255266,-0.1588164476426438,-0.30304520129019064,-0.390934590087459,-0.24233821807824782,-0.8688043843960509,2.1365140455407627,0.4390931231504873,-1.4893614799515036,-2.4386452322949346,-1.1422505213045908,-1.4149163539103322,-0.013994673048110981,-2.034223797662766,1.4253019420988005,-2.0632544066807643,0.6996640900505026,0.5166100297666383,-1.071532965949633,-0.9051225166232557,-0.7934178460696767,-0.8224502512549449,0.15493335662541116,0.39500230090794575,0.8857418121756081,0.32000079106086377,-0.008234679363814059,0.49444038047693045,-0.7121015253712025,0.11159926839694684,-0.6397544473062552,-0.6297012892092753,-0.14708147193593385,-1.831759802918478,-1.132317223629694,0.8300459562443999,-0.5768572815494716,0.7256517351358649,0.315413301407352,0.2568963021893039,0.27725859353110416,-0.13520879790699447,-0.5648419203108074,-2.954018487536646,-0.940562870249268,-1.2466882336102456,-0.8033234119044046,0.26439271338445264,-0.21474918616508726,-0.39167546554283417,0.11783823012584817,-0.46125483724851585,1.328839452652975,3.1635328556243794,0.1034546363343562,-1.260959363985953,1.2107659875753456,1.3089355281014505,-0.08791413108196387,-0.3599472537742511,1.980076893144827,0.3797782251011386,-1.7519402263507402,-0.7082770903572351,-0.15113155411961024,0.43962501015970173,-0.20895860876046474,0.5546753479330597,0.1782227202309211,1.7531082352203122,-0.7415829058805974,-0.6266777912851297,0.6640612063767465,0.41009329778209624,0.6915880772218923],\"yaxis\":\"y9\",\"type\":\"scatter\"},{\"line\":{\"color\":\"rgba(128, 128, 128, 1.0)\",\"dash\":\"solid\",\"shape\":\"linear\",\"width\":1.3},\"marker\":{\"size\":2,\"symbol\":\"circle\"},\"mode\":\"markers\",\"name\":\"C\",\"text\":\"\",\"x\":[-0.11794573212984044,1.2697792200547326,-2.1676156275817493,-0.24857109473288877,0.40460693442474416,1.6139280285149076,0.2360306035442598,-0.22602808881920358,0.057142677471569564,-0.7772782408575107,0.9429237937088079,0.20523204088664526,-0.7154259155847406,1.1964788967171962,1.1522379793062072,0.8376926086136763,1.3857641285531264,-1.2374578036932693,-1.7210512496642552,-0.2495034317564669,0.549318005327426,-1.1113590661117567,-1.4100862237170253,0.9532142588336986,-0.5315758547787328,0.026876504527802447,1.475296799480042,-0.05540255585344138,0.9422840651588723,-1.8656941194067982,0.7869650084081312,1.405011375883612,2.255057549388606,0.1462871105740621,-2.1847079312579747,-1.161172611275934,0.6196167217877991,0.11183036629305333,-0.05854992899036618,0.5065278797161682,0.175142247004244,1.095194809193081,2.6837799095371384,-0.012627706308564711,0.9660921024626176,0.6886580320242333,-1.0591087700884958,0.1104364113543046,2.372207831365576,-0.8860199351161889,1.086165799454149,-0.8626755672497495,-0.06868432104132013,-0.7200816182896868,0.4188150947497825,0.4228561041113086,-0.698445960962204,-0.6988310924554466,-0.6658491938730066,0.2958846261817548,-0.3507001784507818,0.647173773145682,-1.2328387228246311,1.0459553224352556,0.1231502442460987,0.6522703753362419,1.3888130593209138,0.10676669523311827,-1.8282146343099823,-0.9934128961933868,0.0391113792741524,-0.8611094358006953,0.41413313956819325,-1.4101986910835675,1.815049449469626,0.9231752547232016,0.17927969270330754,1.3991110254560424,-0.22439988703791916,-0.9325281027769723,1.434972285835641,0.41293299829143254,0.22260783277251583,-0.6284887586125657,-0.04186487356009881,-0.4049849380508509,1.0931210510758536,-0.9357279986842723,-0.8187865619869552,-2.177802400994987,0.38835428050347276,-0.138536009177223,1.3287017218425048,2.193100689061061,2.7502259232461843,-1.4807074423373137,0.27064831548673124,0.034154607417923276,-0.2738508186098899,-0.5388356081283091],\"xaxis\":\"x10\",\"y\":[1.9401484848174453,-1.2397331297731549,-1.018675973013534,-0.33547878047215196,-1.3699549380833393,1.3810263767929065,0.7721843153431419,-0.7722237296090372,0.8486180756818512,1.7440433826405037,-0.08001824533932232,2.0661183345020007,0.04572602069072565,-1.0819021945413614,0.009085452996414885,-0.9878765751184702,0.37075917857625,0.25437485137637955,1.1841266827114045,-1.1453249365393527,0.5857775601891346,0.8710303685429346,-0.024783030100748008,0.6150492408405598,1.4716652952158042,-0.46758776423255266,-0.1588164476426438,-0.30304520129019064,-0.390934590087459,-0.24233821807824782,-0.8688043843960509,2.1365140455407627,0.4390931231504873,-1.4893614799515036,-2.4386452322949346,-1.1422505213045908,-1.4149163539103322,-0.013994673048110981,-2.034223797662766,1.4253019420988005,-2.0632544066807643,0.6996640900505026,0.5166100297666383,-1.071532965949633,-0.9051225166232557,-0.7934178460696767,-0.8224502512549449,0.15493335662541116,0.39500230090794575,0.8857418121756081,0.32000079106086377,-0.008234679363814059,0.49444038047693045,-0.7121015253712025,0.11159926839694684,-0.6397544473062552,-0.6297012892092753,-0.14708147193593385,-1.831759802918478,-1.132317223629694,0.8300459562443999,-0.5768572815494716,0.7256517351358649,0.315413301407352,0.2568963021893039,0.27725859353110416,-0.13520879790699447,-0.5648419203108074,-2.954018487536646,-0.940562870249268,-1.2466882336102456,-0.8033234119044046,0.26439271338445264,-0.21474918616508726,-0.39167546554283417,0.11783823012584817,-0.46125483724851585,1.328839452652975,3.1635328556243794,0.1034546363343562,-1.260959363985953,1.2107659875753456,1.3089355281014505,-0.08791413108196387,-0.3599472537742511,1.980076893144827,0.3797782251011386,-1.7519402263507402,-0.7082770903572351,-0.15113155411961024,0.43962501015970173,-0.20895860876046474,0.5546753479330597,0.1782227202309211,1.7531082352203122,-0.7415829058805974,-0.6266777912851297,0.6640612063767465,0.41009329778209624,0.6915880772218923],\"yaxis\":\"y10\",\"type\":\"scatter\"},{\"histfunc\":\"count\",\"histnorm\":\"\",\"marker\":{\"color\":\"rgba(50, 171, 96, 1.0)\",\"line\":{\"color\":\"#4D5663\",\"width\":1.3}},\"name\":\"C\",\"nbinsx\":10,\"opacity\":0.8,\"orientation\":\"v\",\"x\":[1.9401484848174453,-1.2397331297731549,-1.018675973013534,-0.33547878047215196,-1.3699549380833393,1.3810263767929065,0.7721843153431419,-0.7722237296090372,0.8486180756818512,1.7440433826405037,-0.08001824533932232,2.0661183345020007,0.04572602069072565,-1.0819021945413614,0.009085452996414885,-0.9878765751184702,0.37075917857625,0.25437485137637955,1.1841266827114045,-1.1453249365393527,0.5857775601891346,0.8710303685429346,-0.024783030100748008,0.6150492408405598,1.4716652952158042,-0.46758776423255266,-0.1588164476426438,-0.30304520129019064,-0.390934590087459,-0.24233821807824782,-0.8688043843960509,2.1365140455407627,0.4390931231504873,-1.4893614799515036,-2.4386452322949346,-1.1422505213045908,-1.4149163539103322,-0.013994673048110981,-2.034223797662766,1.4253019420988005,-2.0632544066807643,0.6996640900505026,0.5166100297666383,-1.071532965949633,-0.9051225166232557,-0.7934178460696767,-0.8224502512549449,0.15493335662541116,0.39500230090794575,0.8857418121756081,0.32000079106086377,-0.008234679363814059,0.49444038047693045,-0.7121015253712025,0.11159926839694684,-0.6397544473062552,-0.6297012892092753,-0.14708147193593385,-1.831759802918478,-1.132317223629694,0.8300459562443999,-0.5768572815494716,0.7256517351358649,0.315413301407352,0.2568963021893039,0.27725859353110416,-0.13520879790699447,-0.5648419203108074,-2.954018487536646,-0.940562870249268,-1.2466882336102456,-0.8033234119044046,0.26439271338445264,-0.21474918616508726,-0.39167546554283417,0.11783823012584817,-0.46125483724851585,1.328839452652975,3.1635328556243794,0.1034546363343562,-1.260959363985953,1.2107659875753456,1.3089355281014505,-0.08791413108196387,-0.3599472537742511,1.980076893144827,0.3797782251011386,-1.7519402263507402,-0.7082770903572351,-0.15113155411961024,0.43962501015970173,-0.20895860876046474,0.5546753479330597,0.1782227202309211,1.7531082352203122,-0.7415829058805974,-0.6266777912851297,0.6640612063767465,0.41009329778209624,0.6915880772218923],\"xaxis\":\"x11\",\"yaxis\":\"y11\",\"type\":\"histogram\"},{\"line\":{\"color\":\"rgba(128, 128, 128, 1.0)\",\"dash\":\"solid\",\"shape\":\"linear\",\"width\":1.3},\"marker\":{\"size\":2,\"symbol\":\"circle\"},\"mode\":\"markers\",\"name\":\"C\",\"text\":\"\",\"x\":[-0.232607190972093,-0.10745682172545627,0.7301665782338982,-0.8086553985085576,-0.3808934345748271,-0.49728208115444156,-1.143202283557806,-0.00924216908427607,-0.5762292058604443,1.8107409045922969,-0.6429151459186503,-2.037122862243596,-1.1833441828811444,-0.2798311937972491,-2.3309295348858714,-1.181839359370192,0.9880300418287801,0.8556429383351365,1.1693382981537819,-1.3808702075475496,-0.18309447973892146,0.8438897509043974,1.581060734608897,-0.3596068422236975,0.13079908839655863,2.2113961251101677,-0.36346947498616455,-0.6800940270845436,1.1187059400934791,1.1043099757023331,-0.6823882796178447,-1.10897733367768,-1.6084453760231952,0.6398458111237544,-2.141650215025133,-0.629848221432961,-1.3459166652575534,0.9192082959941965,-0.5172725131310544,-0.8588962555419287,-0.09863404903046664,-1.804389501103032,-0.9593821912233614,1.0241520629708463,-0.6603271986227551,-0.26588194329921705,0.004759080754978136,0.34865477211306106,-0.3448425950988407,0.7842889066349303,1.3925201197443657,-0.3594709526907821,1.0618973955064497,0.14680351808446498,-1.7515468410520656,-0.6135423107048211,-0.9575148475814658,1.572687835401607,1.5922959327473496,1.2073779390002217,-0.36322906421417334,-2.0688991515179,1.1871757251508457,2.557928207241564,-0.1451521867356024,1.0728316273159937,0.5540363273931462,-0.8189397303937418,-0.2991846022135686,-0.5589151651974367,-1.5852563314699741,-1.0250545535826507,-0.7307299175017817,-1.7498252041560964,-1.7707723082582265,-0.10650969392090688,-1.4960048164865472,0.9058747618060715,-1.365560984520852,-0.5567782956347211,1.3349620404090474,-0.9921533022298292,-1.8561767161985299,-1.6961557334052646,0.26087038337192237,-1.087077580151142,-0.7672263733059088,-1.3359037825120874,-1.6155450718347866,-0.14483939598188197,0.4677086656212009,-0.35371284765311806,0.907492357905892,-0.39278850620491024,1.430034099034796,-0.1159178226728583,-0.8399729920788126,0.6935514209462399,-1.1970166117060872,-0.8287646619103597],\"xaxis\":\"x12\",\"y\":[1.9401484848174453,-1.2397331297731549,-1.018675973013534,-0.33547878047215196,-1.3699549380833393,1.3810263767929065,0.7721843153431419,-0.7722237296090372,0.8486180756818512,1.7440433826405037,-0.08001824533932232,2.0661183345020007,0.04572602069072565,-1.0819021945413614,0.009085452996414885,-0.9878765751184702,0.37075917857625,0.25437485137637955,1.1841266827114045,-1.1453249365393527,0.5857775601891346,0.8710303685429346,-0.024783030100748008,0.6150492408405598,1.4716652952158042,-0.46758776423255266,-0.1588164476426438,-0.30304520129019064,-0.390934590087459,-0.24233821807824782,-0.8688043843960509,2.1365140455407627,0.4390931231504873,-1.4893614799515036,-2.4386452322949346,-1.1422505213045908,-1.4149163539103322,-0.013994673048110981,-2.034223797662766,1.4253019420988005,-2.0632544066807643,0.6996640900505026,0.5166100297666383,-1.071532965949633,-0.9051225166232557,-0.7934178460696767,-0.8224502512549449,0.15493335662541116,0.39500230090794575,0.8857418121756081,0.32000079106086377,-0.008234679363814059,0.49444038047693045,-0.7121015253712025,0.11159926839694684,-0.6397544473062552,-0.6297012892092753,-0.14708147193593385,-1.831759802918478,-1.132317223629694,0.8300459562443999,-0.5768572815494716,0.7256517351358649,0.315413301407352,0.2568963021893039,0.27725859353110416,-0.13520879790699447,-0.5648419203108074,-2.954018487536646,-0.940562870249268,-1.2466882336102456,-0.8033234119044046,0.26439271338445264,-0.21474918616508726,-0.39167546554283417,0.11783823012584817,-0.46125483724851585,1.328839452652975,3.1635328556243794,0.1034546363343562,-1.260959363985953,1.2107659875753456,1.3089355281014505,-0.08791413108196387,-0.3599472537742511,1.980076893144827,0.3797782251011386,-1.7519402263507402,-0.7082770903572351,-0.15113155411961024,0.43962501015970173,-0.20895860876046474,0.5546753479330597,0.1782227202309211,1.7531082352203122,-0.7415829058805974,-0.6266777912851297,0.6640612063767465,0.41009329778209624,0.6915880772218923],\"yaxis\":\"y12\",\"type\":\"scatter\"},{\"line\":{\"color\":\"rgba(128, 128, 128, 1.0)\",\"dash\":\"solid\",\"shape\":\"linear\",\"width\":1.3},\"marker\":{\"size\":2,\"symbol\":\"circle\"},\"mode\":\"markers\",\"name\":\"D\",\"text\":\"\",\"x\":[1.384941095893982,-0.3647871044245467,-1.613377798789012,-0.12920481127577702,-0.6300029180423312,0.6955311102837984,-0.07774289928427856,-1.5481508917079352,0.3144299528461812,1.483756889675816,1.3631631851081898,0.3577161379182844,0.44425005373458687,-1.3026835005270772,0.8586317944028101,-0.12796403591939365,0.373209303997531,0.5869332431334456,0.4864253873475166,1.0756346615585344,-1.052001580878504,0.0906431802398545,1.0580572090375877,-0.9848808039026463,0.5513641846951675,1.1659210728519842,0.020314764012267873,0.3074031709948694,-0.23909296540380182,0.02171216478090794,-0.16254690733414418,-0.33711970357111226,0.8142846009651958,0.5807041935213351,1.517465474603419,2.64825109236516,0.9118993743273417,0.3344914818573978,-0.6980817050442862,-0.014535950295435083,-0.29814416383545383,-0.0017524875066887394,-1.1233972672402575,0.06762297707903585,-0.16466873420852687,-0.1795079343480467,-0.6751925963714834,2.006888382314444,-0.7838881243097859,0.9294115904771026,-1.058238874474584,0.6586637071443632,-0.37707299217026374,-0.13598986025585266,-1.4967184420595114,0.4153485006683915,0.24121216996263192,-3.092016438708254,-1.2219917686899848,0.8869662273854365,-1.0682780065598037,-1.2106122878269856,0.803250005443257,0.9877199560578738,-0.2258121665388722,0.13923967982184132,-0.22573522543316654,1.6171694614878647,0.5477551242136519,0.4420065170066808,0.06747036201760358,-1.641776468835695,-0.2876490151341459,0.3684314172007868,1.1306668046343704,-0.8340553638572694,0.6712547294009807,0.8197535903257653,0.2124039178122506,-0.5392633467972721,0.010110482279003876,0.958789971496834,-0.07020997545633594,0.33616891127553034,-0.3907482690955859,0.8806514736157832,0.31650766745412495,0.1448946459985747,0.27772853189609437,-0.4036166749778001,-0.2926052183646972,1.3491425878516692,-1.4689030081303354,1.43789556687664,-1.79323467847179,-0.17223590815000211,1.0094163974481396,-0.31501498808974,-0.3962647074563389,-2.0067551306542164],\"xaxis\":\"x13\",\"y\":[-0.232607190972093,-0.10745682172545627,0.7301665782338982,-0.8086553985085576,-0.3808934345748271,-0.49728208115444156,-1.143202283557806,-0.00924216908427607,-0.5762292058604443,1.8107409045922969,-0.6429151459186503,-2.037122862243596,-1.1833441828811444,-0.2798311937972491,-2.3309295348858714,-1.181839359370192,0.9880300418287801,0.8556429383351365,1.1693382981537819,-1.3808702075475496,-0.18309447973892146,0.8438897509043974,1.581060734608897,-0.3596068422236975,0.13079908839655863,2.2113961251101677,-0.36346947498616455,-0.6800940270845436,1.1187059400934791,1.1043099757023331,-0.6823882796178447,-1.10897733367768,-1.6084453760231952,0.6398458111237544,-2.141650215025133,-0.629848221432961,-1.3459166652575534,0.9192082959941965,-0.5172725131310544,-0.8588962555419287,-0.09863404903046664,-1.804389501103032,-0.9593821912233614,1.0241520629708463,-0.6603271986227551,-0.26588194329921705,0.004759080754978136,0.34865477211306106,-0.3448425950988407,0.7842889066349303,1.3925201197443657,-0.3594709526907821,1.0618973955064497,0.14680351808446498,-1.7515468410520656,-0.6135423107048211,-0.9575148475814658,1.572687835401607,1.5922959327473496,1.2073779390002217,-0.36322906421417334,-2.0688991515179,1.1871757251508457,2.557928207241564,-0.1451521867356024,1.0728316273159937,0.5540363273931462,-0.8189397303937418,-0.2991846022135686,-0.5589151651974367,-1.5852563314699741,-1.0250545535826507,-0.7307299175017817,-1.7498252041560964,-1.7707723082582265,-0.10650969392090688,-1.4960048164865472,0.9058747618060715,-1.365560984520852,-0.5567782956347211,1.3349620404090474,-0.9921533022298292,-1.8561767161985299,-1.6961557334052646,0.26087038337192237,-1.087077580151142,-0.7672263733059088,-1.3359037825120874,-1.6155450718347866,-0.14483939598188197,0.4677086656212009,-0.35371284765311806,0.907492357905892,-0.39278850620491024,1.430034099034796,-0.1159178226728583,-0.8399729920788126,0.6935514209462399,-1.1970166117060872,-0.8287646619103597],\"yaxis\":\"y13\",\"type\":\"scatter\"},{\"line\":{\"color\":\"rgba(128, 128, 128, 1.0)\",\"dash\":\"solid\",\"shape\":\"linear\",\"width\":1.3},\"marker\":{\"size\":2,\"symbol\":\"circle\"},\"mode\":\"markers\",\"name\":\"D\",\"text\":\"\",\"x\":[-0.11794573212984044,1.2697792200547326,-2.1676156275817493,-0.24857109473288877,0.40460693442474416,1.6139280285149076,0.2360306035442598,-0.22602808881920358,0.057142677471569564,-0.7772782408575107,0.9429237937088079,0.20523204088664526,-0.7154259155847406,1.1964788967171962,1.1522379793062072,0.8376926086136763,1.3857641285531264,-1.2374578036932693,-1.7210512496642552,-0.2495034317564669,0.549318005327426,-1.1113590661117567,-1.4100862237170253,0.9532142588336986,-0.5315758547787328,0.026876504527802447,1.475296799480042,-0.05540255585344138,0.9422840651588723,-1.8656941194067982,0.7869650084081312,1.405011375883612,2.255057549388606,0.1462871105740621,-2.1847079312579747,-1.161172611275934,0.6196167217877991,0.11183036629305333,-0.05854992899036618,0.5065278797161682,0.175142247004244,1.095194809193081,2.6837799095371384,-0.012627706308564711,0.9660921024626176,0.6886580320242333,-1.0591087700884958,0.1104364113543046,2.372207831365576,-0.8860199351161889,1.086165799454149,-0.8626755672497495,-0.06868432104132013,-0.7200816182896868,0.4188150947497825,0.4228561041113086,-0.698445960962204,-0.6988310924554466,-0.6658491938730066,0.2958846261817548,-0.3507001784507818,0.647173773145682,-1.2328387228246311,1.0459553224352556,0.1231502442460987,0.6522703753362419,1.3888130593209138,0.10676669523311827,-1.8282146343099823,-0.9934128961933868,0.0391113792741524,-0.8611094358006953,0.41413313956819325,-1.4101986910835675,1.815049449469626,0.9231752547232016,0.17927969270330754,1.3991110254560424,-0.22439988703791916,-0.9325281027769723,1.434972285835641,0.41293299829143254,0.22260783277251583,-0.6284887586125657,-0.04186487356009881,-0.4049849380508509,1.0931210510758536,-0.9357279986842723,-0.8187865619869552,-2.177802400994987,0.38835428050347276,-0.138536009177223,1.3287017218425048,2.193100689061061,2.7502259232461843,-1.4807074423373137,0.27064831548673124,0.034154607417923276,-0.2738508186098899,-0.5388356081283091],\"xaxis\":\"x14\",\"y\":[-0.232607190972093,-0.10745682172545627,0.7301665782338982,-0.8086553985085576,-0.3808934345748271,-0.49728208115444156,-1.143202283557806,-0.00924216908427607,-0.5762292058604443,1.8107409045922969,-0.6429151459186503,-2.037122862243596,-1.1833441828811444,-0.2798311937972491,-2.3309295348858714,-1.181839359370192,0.9880300418287801,0.8556429383351365,1.1693382981537819,-1.3808702075475496,-0.18309447973892146,0.8438897509043974,1.581060734608897,-0.3596068422236975,0.13079908839655863,2.2113961251101677,-0.36346947498616455,-0.6800940270845436,1.1187059400934791,1.1043099757023331,-0.6823882796178447,-1.10897733367768,-1.6084453760231952,0.6398458111237544,-2.141650215025133,-0.629848221432961,-1.3459166652575534,0.9192082959941965,-0.5172725131310544,-0.8588962555419287,-0.09863404903046664,-1.804389501103032,-0.9593821912233614,1.0241520629708463,-0.6603271986227551,-0.26588194329921705,0.004759080754978136,0.34865477211306106,-0.3448425950988407,0.7842889066349303,1.3925201197443657,-0.3594709526907821,1.0618973955064497,0.14680351808446498,-1.7515468410520656,-0.6135423107048211,-0.9575148475814658,1.572687835401607,1.5922959327473496,1.2073779390002217,-0.36322906421417334,-2.0688991515179,1.1871757251508457,2.557928207241564,-0.1451521867356024,1.0728316273159937,0.5540363273931462,-0.8189397303937418,-0.2991846022135686,-0.5589151651974367,-1.5852563314699741,-1.0250545535826507,-0.7307299175017817,-1.7498252041560964,-1.7707723082582265,-0.10650969392090688,-1.4960048164865472,0.9058747618060715,-1.365560984520852,-0.5567782956347211,1.3349620404090474,-0.9921533022298292,-1.8561767161985299,-1.6961557334052646,0.26087038337192237,-1.087077580151142,-0.7672263733059088,-1.3359037825120874,-1.6155450718347866,-0.14483939598188197,0.4677086656212009,-0.35371284765311806,0.907492357905892,-0.39278850620491024,1.430034099034796,-0.1159178226728583,-0.8399729920788126,0.6935514209462399,-1.1970166117060872,-0.8287646619103597],\"yaxis\":\"y14\",\"type\":\"scatter\"},{\"line\":{\"color\":\"rgba(128, 128, 128, 1.0)\",\"dash\":\"solid\",\"shape\":\"linear\",\"width\":1.3},\"marker\":{\"size\":2,\"symbol\":\"circle\"},\"mode\":\"markers\",\"name\":\"D\",\"text\":\"\",\"x\":[1.9401484848174453,-1.2397331297731549,-1.018675973013534,-0.33547878047215196,-1.3699549380833393,1.3810263767929065,0.7721843153431419,-0.7722237296090372,0.8486180756818512,1.7440433826405037,-0.08001824533932232,2.0661183345020007,0.04572602069072565,-1.0819021945413614,0.009085452996414885,-0.9878765751184702,0.37075917857625,0.25437485137637955,1.1841266827114045,-1.1453249365393527,0.5857775601891346,0.8710303685429346,-0.024783030100748008,0.6150492408405598,1.4716652952158042,-0.46758776423255266,-0.1588164476426438,-0.30304520129019064,-0.390934590087459,-0.24233821807824782,-0.8688043843960509,2.1365140455407627,0.4390931231504873,-1.4893614799515036,-2.4386452322949346,-1.1422505213045908,-1.4149163539103322,-0.013994673048110981,-2.034223797662766,1.4253019420988005,-2.0632544066807643,0.6996640900505026,0.5166100297666383,-1.071532965949633,-0.9051225166232557,-0.7934178460696767,-0.8224502512549449,0.15493335662541116,0.39500230090794575,0.8857418121756081,0.32000079106086377,-0.008234679363814059,0.49444038047693045,-0.7121015253712025,0.11159926839694684,-0.6397544473062552,-0.6297012892092753,-0.14708147193593385,-1.831759802918478,-1.132317223629694,0.8300459562443999,-0.5768572815494716,0.7256517351358649,0.315413301407352,0.2568963021893039,0.27725859353110416,-0.13520879790699447,-0.5648419203108074,-2.954018487536646,-0.940562870249268,-1.2466882336102456,-0.8033234119044046,0.26439271338445264,-0.21474918616508726,-0.39167546554283417,0.11783823012584817,-0.46125483724851585,1.328839452652975,3.1635328556243794,0.1034546363343562,-1.260959363985953,1.2107659875753456,1.3089355281014505,-0.08791413108196387,-0.3599472537742511,1.980076893144827,0.3797782251011386,-1.7519402263507402,-0.7082770903572351,-0.15113155411961024,0.43962501015970173,-0.20895860876046474,0.5546753479330597,0.1782227202309211,1.7531082352203122,-0.7415829058805974,-0.6266777912851297,0.6640612063767465,0.41009329778209624,0.6915880772218923],\"xaxis\":\"x15\",\"y\":[-0.232607190972093,-0.10745682172545627,0.7301665782338982,-0.8086553985085576,-0.3808934345748271,-0.49728208115444156,-1.143202283557806,-0.00924216908427607,-0.5762292058604443,1.8107409045922969,-0.6429151459186503,-2.037122862243596,-1.1833441828811444,-0.2798311937972491,-2.3309295348858714,-1.181839359370192,0.9880300418287801,0.8556429383351365,1.1693382981537819,-1.3808702075475496,-0.18309447973892146,0.8438897509043974,1.581060734608897,-0.3596068422236975,0.13079908839655863,2.2113961251101677,-0.36346947498616455,-0.6800940270845436,1.1187059400934791,1.1043099757023331,-0.6823882796178447,-1.10897733367768,-1.6084453760231952,0.6398458111237544,-2.141650215025133,-0.629848221432961,-1.3459166652575534,0.9192082959941965,-0.5172725131310544,-0.8588962555419287,-0.09863404903046664,-1.804389501103032,-0.9593821912233614,1.0241520629708463,-0.6603271986227551,-0.26588194329921705,0.004759080754978136,0.34865477211306106,-0.3448425950988407,0.7842889066349303,1.3925201197443657,-0.3594709526907821,1.0618973955064497,0.14680351808446498,-1.7515468410520656,-0.6135423107048211,-0.9575148475814658,1.572687835401607,1.5922959327473496,1.2073779390002217,-0.36322906421417334,-2.0688991515179,1.1871757251508457,2.557928207241564,-0.1451521867356024,1.0728316273159937,0.5540363273931462,-0.8189397303937418,-0.2991846022135686,-0.5589151651974367,-1.5852563314699741,-1.0250545535826507,-0.7307299175017817,-1.7498252041560964,-1.7707723082582265,-0.10650969392090688,-1.4960048164865472,0.9058747618060715,-1.365560984520852,-0.5567782956347211,1.3349620404090474,-0.9921533022298292,-1.8561767161985299,-1.6961557334052646,0.26087038337192237,-1.087077580151142,-0.7672263733059088,-1.3359037825120874,-1.6155450718347866,-0.14483939598188197,0.4677086656212009,-0.35371284765311806,0.907492357905892,-0.39278850620491024,1.430034099034796,-0.1159178226728583,-0.8399729920788126,0.6935514209462399,-1.1970166117060872,-0.8287646619103597],\"yaxis\":\"y15\",\"type\":\"scatter\"},{\"histfunc\":\"count\",\"histnorm\":\"\",\"marker\":{\"color\":\"rgba(128, 0, 128, 1.0)\",\"line\":{\"color\":\"#4D5663\",\"width\":1.3}},\"name\":\"D\",\"nbinsx\":10,\"opacity\":0.8,\"orientation\":\"v\",\"x\":[-0.232607190972093,-0.10745682172545627,0.7301665782338982,-0.8086553985085576,-0.3808934345748271,-0.49728208115444156,-1.143202283557806,-0.00924216908427607,-0.5762292058604443,1.8107409045922969,-0.6429151459186503,-2.037122862243596,-1.1833441828811444,-0.2798311937972491,-2.3309295348858714,-1.181839359370192,0.9880300418287801,0.8556429383351365,1.1693382981537819,-1.3808702075475496,-0.18309447973892146,0.8438897509043974,1.581060734608897,-0.3596068422236975,0.13079908839655863,2.2113961251101677,-0.36346947498616455,-0.6800940270845436,1.1187059400934791,1.1043099757023331,-0.6823882796178447,-1.10897733367768,-1.6084453760231952,0.6398458111237544,-2.141650215025133,-0.629848221432961,-1.3459166652575534,0.9192082959941965,-0.5172725131310544,-0.8588962555419287,-0.09863404903046664,-1.804389501103032,-0.9593821912233614,1.0241520629708463,-0.6603271986227551,-0.26588194329921705,0.004759080754978136,0.34865477211306106,-0.3448425950988407,0.7842889066349303,1.3925201197443657,-0.3594709526907821,1.0618973955064497,0.14680351808446498,-1.7515468410520656,-0.6135423107048211,-0.9575148475814658,1.572687835401607,1.5922959327473496,1.2073779390002217,-0.36322906421417334,-2.0688991515179,1.1871757251508457,2.557928207241564,-0.1451521867356024,1.0728316273159937,0.5540363273931462,-0.8189397303937418,-0.2991846022135686,-0.5589151651974367,-1.5852563314699741,-1.0250545535826507,-0.7307299175017817,-1.7498252041560964,-1.7707723082582265,-0.10650969392090688,-1.4960048164865472,0.9058747618060715,-1.365560984520852,-0.5567782956347211,1.3349620404090474,-0.9921533022298292,-1.8561767161985299,-1.6961557334052646,0.26087038337192237,-1.087077580151142,-0.7672263733059088,-1.3359037825120874,-1.6155450718347866,-0.14483939598188197,0.4677086656212009,-0.35371284765311806,0.907492357905892,-0.39278850620491024,1.430034099034796,-0.1159178226728583,-0.8399729920788126,0.6935514209462399,-1.1970166117060872,-0.8287646619103597],\"xaxis\":\"x16\",\"yaxis\":\"y16\",\"type\":\"histogram\"}],                        {\"bargap\":0.02,\"legend\":{\"bgcolor\":\"#F5F6F9\",\"font\":{\"color\":\"#4D5663\"}},\"paper_bgcolor\":\"#F5F6F9\",\"plot_bgcolor\":\"#F5F6F9\",\"showlegend\":false,\"template\":{\"data\":{\"barpolar\":[{\"marker\":{\"line\":{\"color\":\"#E5ECF6\",\"width\":0.5},\"pattern\":{\"fillmode\":\"overlay\",\"size\":10,\"solidity\":0.2}},\"type\":\"barpolar\"}],\"bar\":[{\"error_x\":{\"color\":\"#2a3f5f\"},\"error_y\":{\"color\":\"#2a3f5f\"},\"marker\":{\"line\":{\"color\":\"#E5ECF6\",\"width\":0.5},\"pattern\":{\"fillmode\":\"overlay\",\"size\":10,\"solidity\":0.2}},\"type\":\"bar\"}],\"carpet\":[{\"aaxis\":{\"endlinecolor\":\"#2a3f5f\",\"gridcolor\":\"white\",\"linecolor\":\"white\",\"minorgridcolor\":\"white\",\"startlinecolor\":\"#2a3f5f\"},\"baxis\":{\"endlinecolor\":\"#2a3f5f\",\"gridcolor\":\"white\",\"linecolor\":\"white\",\"minorgridcolor\":\"white\",\"startlinecolor\":\"#2a3f5f\"},\"type\":\"carpet\"}],\"choropleth\":[{\"colorbar\":{\"outlinewidth\":0,\"ticks\":\"\"},\"type\":\"choropleth\"}],\"contourcarpet\":[{\"colorbar\":{\"outlinewidth\":0,\"ticks\":\"\"},\"type\":\"contourcarpet\"}],\"contour\":[{\"colorbar\":{\"outlinewidth\":0,\"ticks\":\"\"},\"colorscale\":[[0.0,\"#0d0887\"],[0.1111111111111111,\"#46039f\"],[0.2222222222222222,\"#7201a8\"],[0.3333333333333333,\"#9c179e\"],[0.4444444444444444,\"#bd3786\"],[0.5555555555555556,\"#d8576b\"],[0.6666666666666666,\"#ed7953\"],[0.7777777777777778,\"#fb9f3a\"],[0.8888888888888888,\"#fdca26\"],[1.0,\"#f0f921\"]],\"type\":\"contour\"}],\"heatmapgl\":[{\"colorbar\":{\"outlinewidth\":0,\"ticks\":\"\"},\"colorscale\":[[0.0,\"#0d0887\"],[0.1111111111111111,\"#46039f\"],[0.2222222222222222,\"#7201a8\"],[0.3333333333333333,\"#9c179e\"],[0.4444444444444444,\"#bd3786\"],[0.5555555555555556,\"#d8576b\"],[0.6666666666666666,\"#ed7953\"],[0.7777777777777778,\"#fb9f3a\"],[0.8888888888888888,\"#fdca26\"],[1.0,\"#f0f921\"]],\"type\":\"heatmapgl\"}],\"heatmap\":[{\"colorbar\":{\"outlinewidth\":0,\"ticks\":\"\"},\"colorscale\":[[0.0,\"#0d0887\"],[0.1111111111111111,\"#46039f\"],[0.2222222222222222,\"#7201a8\"],[0.3333333333333333,\"#9c179e\"],[0.4444444444444444,\"#bd3786\"],[0.5555555555555556,\"#d8576b\"],[0.6666666666666666,\"#ed7953\"],[0.7777777777777778,\"#fb9f3a\"],[0.8888888888888888,\"#fdca26\"],[1.0,\"#f0f921\"]],\"type\":\"heatmap\"}],\"histogram2dcontour\":[{\"colorbar\":{\"outlinewidth\":0,\"ticks\":\"\"},\"colorscale\":[[0.0,\"#0d0887\"],[0.1111111111111111,\"#46039f\"],[0.2222222222222222,\"#7201a8\"],[0.3333333333333333,\"#9c179e\"],[0.4444444444444444,\"#bd3786\"],[0.5555555555555556,\"#d8576b\"],[0.6666666666666666,\"#ed7953\"],[0.7777777777777778,\"#fb9f3a\"],[0.8888888888888888,\"#fdca26\"],[1.0,\"#f0f921\"]],\"type\":\"histogram2dcontour\"}],\"histogram2d\":[{\"colorbar\":{\"outlinewidth\":0,\"ticks\":\"\"},\"colorscale\":[[0.0,\"#0d0887\"],[0.1111111111111111,\"#46039f\"],[0.2222222222222222,\"#7201a8\"],[0.3333333333333333,\"#9c179e\"],[0.4444444444444444,\"#bd3786\"],[0.5555555555555556,\"#d8576b\"],[0.6666666666666666,\"#ed7953\"],[0.7777777777777778,\"#fb9f3a\"],[0.8888888888888888,\"#fdca26\"],[1.0,\"#f0f921\"]],\"type\":\"histogram2d\"}],\"histogram\":[{\"marker\":{\"pattern\":{\"fillmode\":\"overlay\",\"size\":10,\"solidity\":0.2}},\"type\":\"histogram\"}],\"mesh3d\":[{\"colorbar\":{\"outlinewidth\":0,\"ticks\":\"\"},\"type\":\"mesh3d\"}],\"parcoords\":[{\"line\":{\"colorbar\":{\"outlinewidth\":0,\"ticks\":\"\"}},\"type\":\"parcoords\"}],\"pie\":[{\"automargin\":true,\"type\":\"pie\"}],\"scatter3d\":[{\"line\":{\"colorbar\":{\"outlinewidth\":0,\"ticks\":\"\"}},\"marker\":{\"colorbar\":{\"outlinewidth\":0,\"ticks\":\"\"}},\"type\":\"scatter3d\"}],\"scattercarpet\":[{\"marker\":{\"colorbar\":{\"outlinewidth\":0,\"ticks\":\"\"}},\"type\":\"scattercarpet\"}],\"scattergeo\":[{\"marker\":{\"colorbar\":{\"outlinewidth\":0,\"ticks\":\"\"}},\"type\":\"scattergeo\"}],\"scattergl\":[{\"marker\":{\"colorbar\":{\"outlinewidth\":0,\"ticks\":\"\"}},\"type\":\"scattergl\"}],\"scattermapbox\":[{\"marker\":{\"colorbar\":{\"outlinewidth\":0,\"ticks\":\"\"}},\"type\":\"scattermapbox\"}],\"scatterpolargl\":[{\"marker\":{\"colorbar\":{\"outlinewidth\":0,\"ticks\":\"\"}},\"type\":\"scatterpolargl\"}],\"scatterpolar\":[{\"marker\":{\"colorbar\":{\"outlinewidth\":0,\"ticks\":\"\"}},\"type\":\"scatterpolar\"}],\"scatter\":[{\"marker\":{\"colorbar\":{\"outlinewidth\":0,\"ticks\":\"\"}},\"type\":\"scatter\"}],\"scatterternary\":[{\"marker\":{\"colorbar\":{\"outlinewidth\":0,\"ticks\":\"\"}},\"type\":\"scatterternary\"}],\"surface\":[{\"colorbar\":{\"outlinewidth\":0,\"ticks\":\"\"},\"colorscale\":[[0.0,\"#0d0887\"],[0.1111111111111111,\"#46039f\"],[0.2222222222222222,\"#7201a8\"],[0.3333333333333333,\"#9c179e\"],[0.4444444444444444,\"#bd3786\"],[0.5555555555555556,\"#d8576b\"],[0.6666666666666666,\"#ed7953\"],[0.7777777777777778,\"#fb9f3a\"],[0.8888888888888888,\"#fdca26\"],[1.0,\"#f0f921\"]],\"type\":\"surface\"}],\"table\":[{\"cells\":{\"fill\":{\"color\":\"#EBF0F8\"},\"line\":{\"color\":\"white\"}},\"header\":{\"fill\":{\"color\":\"#C8D4E3\"},\"line\":{\"color\":\"white\"}},\"type\":\"table\"}]},\"layout\":{\"annotationdefaults\":{\"arrowcolor\":\"#2a3f5f\",\"arrowhead\":0,\"arrowwidth\":1},\"autotypenumbers\":\"strict\",\"coloraxis\":{\"colorbar\":{\"outlinewidth\":0,\"ticks\":\"\"}},\"colorscale\":{\"diverging\":[[0,\"#8e0152\"],[0.1,\"#c51b7d\"],[0.2,\"#de77ae\"],[0.3,\"#f1b6da\"],[0.4,\"#fde0ef\"],[0.5,\"#f7f7f7\"],[0.6,\"#e6f5d0\"],[0.7,\"#b8e186\"],[0.8,\"#7fbc41\"],[0.9,\"#4d9221\"],[1,\"#276419\"]],\"sequential\":[[0.0,\"#0d0887\"],[0.1111111111111111,\"#46039f\"],[0.2222222222222222,\"#7201a8\"],[0.3333333333333333,\"#9c179e\"],[0.4444444444444444,\"#bd3786\"],[0.5555555555555556,\"#d8576b\"],[0.6666666666666666,\"#ed7953\"],[0.7777777777777778,\"#fb9f3a\"],[0.8888888888888888,\"#fdca26\"],[1.0,\"#f0f921\"]],\"sequentialminus\":[[0.0,\"#0d0887\"],[0.1111111111111111,\"#46039f\"],[0.2222222222222222,\"#7201a8\"],[0.3333333333333333,\"#9c179e\"],[0.4444444444444444,\"#bd3786\"],[0.5555555555555556,\"#d8576b\"],[0.6666666666666666,\"#ed7953\"],[0.7777777777777778,\"#fb9f3a\"],[0.8888888888888888,\"#fdca26\"],[1.0,\"#f0f921\"]]},\"colorway\":[\"#636efa\",\"#EF553B\",\"#00cc96\",\"#ab63fa\",\"#FFA15A\",\"#19d3f3\",\"#FF6692\",\"#B6E880\",\"#FF97FF\",\"#FECB52\"],\"font\":{\"color\":\"#2a3f5f\"},\"geo\":{\"bgcolor\":\"white\",\"lakecolor\":\"white\",\"landcolor\":\"#E5ECF6\",\"showlakes\":true,\"showland\":true,\"subunitcolor\":\"white\"},\"hoverlabel\":{\"align\":\"left\"},\"hovermode\":\"closest\",\"mapbox\":{\"style\":\"light\"},\"paper_bgcolor\":\"white\",\"plot_bgcolor\":\"#E5ECF6\",\"polar\":{\"angularaxis\":{\"gridcolor\":\"white\",\"linecolor\":\"white\",\"ticks\":\"\"},\"bgcolor\":\"#E5ECF6\",\"radialaxis\":{\"gridcolor\":\"white\",\"linecolor\":\"white\",\"ticks\":\"\"}},\"scene\":{\"xaxis\":{\"backgroundcolor\":\"#E5ECF6\",\"gridcolor\":\"white\",\"gridwidth\":2,\"linecolor\":\"white\",\"showbackground\":true,\"ticks\":\"\",\"zerolinecolor\":\"white\"},\"yaxis\":{\"backgroundcolor\":\"#E5ECF6\",\"gridcolor\":\"white\",\"gridwidth\":2,\"linecolor\":\"white\",\"showbackground\":true,\"ticks\":\"\",\"zerolinecolor\":\"white\"},\"zaxis\":{\"backgroundcolor\":\"#E5ECF6\",\"gridcolor\":\"white\",\"gridwidth\":2,\"linecolor\":\"white\",\"showbackground\":true,\"ticks\":\"\",\"zerolinecolor\":\"white\"}},\"shapedefaults\":{\"line\":{\"color\":\"#2a3f5f\"}},\"ternary\":{\"aaxis\":{\"gridcolor\":\"white\",\"linecolor\":\"white\",\"ticks\":\"\"},\"baxis\":{\"gridcolor\":\"white\",\"linecolor\":\"white\",\"ticks\":\"\"},\"bgcolor\":\"#E5ECF6\",\"caxis\":{\"gridcolor\":\"white\",\"linecolor\":\"white\",\"ticks\":\"\"}},\"title\":{\"x\":0.05},\"xaxis\":{\"automargin\":true,\"gridcolor\":\"white\",\"linecolor\":\"white\",\"ticks\":\"\",\"title\":{\"standoff\":15},\"zerolinecolor\":\"white\",\"zerolinewidth\":2},\"yaxis\":{\"automargin\":true,\"gridcolor\":\"white\",\"linecolor\":\"white\",\"ticks\":\"\",\"title\":{\"standoff\":15},\"zerolinecolor\":\"white\",\"zerolinewidth\":2}}},\"title\":{\"font\":{\"color\":\"#4D5663\"}},\"xaxis\":{\"anchor\":\"y\",\"domain\":[0.0,0.2125],\"gridcolor\":\"#E1E5ED\",\"showgrid\":false,\"tickfont\":{\"color\":\"#4D5663\"},\"title\":{\"font\":{\"color\":\"#4D5663\"},\"text\":\"\"},\"zerolinecolor\":\"#E1E5ED\"},\"yaxis\":{\"anchor\":\"x\",\"domain\":[0.8025,1.0],\"gridcolor\":\"#E1E5ED\",\"showgrid\":false,\"tickfont\":{\"color\":\"#4D5663\"},\"title\":{\"font\":{\"color\":\"#4D5663\"},\"text\":\"\"},\"zerolinecolor\":\"#E1E5ED\"},\"xaxis2\":{\"anchor\":\"y2\",\"domain\":[0.2625,0.475],\"gridcolor\":\"#E1E5ED\",\"showgrid\":false,\"tickfont\":{\"color\":\"#4D5663\"},\"title\":{\"font\":{\"color\":\"#4D5663\"},\"text\":\"\"},\"zerolinecolor\":\"#E1E5ED\"},\"yaxis2\":{\"anchor\":\"x2\",\"domain\":[0.8025,1.0],\"gridcolor\":\"#E1E5ED\",\"showgrid\":false,\"tickfont\":{\"color\":\"#4D5663\"},\"title\":{\"font\":{\"color\":\"#4D5663\"},\"text\":\"\"},\"zerolinecolor\":\"#E1E5ED\"},\"xaxis3\":{\"anchor\":\"y3\",\"domain\":[0.525,0.7375],\"gridcolor\":\"#E1E5ED\",\"showgrid\":false,\"tickfont\":{\"color\":\"#4D5663\"},\"title\":{\"font\":{\"color\":\"#4D5663\"},\"text\":\"\"},\"zerolinecolor\":\"#E1E5ED\"},\"yaxis3\":{\"anchor\":\"x3\",\"domain\":[0.8025,1.0],\"gridcolor\":\"#E1E5ED\",\"showgrid\":false,\"tickfont\":{\"color\":\"#4D5663\"},\"title\":{\"font\":{\"color\":\"#4D5663\"},\"text\":\"\"},\"zerolinecolor\":\"#E1E5ED\"},\"xaxis4\":{\"anchor\":\"y4\",\"domain\":[0.7875,1.0],\"gridcolor\":\"#E1E5ED\",\"showgrid\":false,\"tickfont\":{\"color\":\"#4D5663\"},\"title\":{\"font\":{\"color\":\"#4D5663\"},\"text\":\"\"},\"zerolinecolor\":\"#E1E5ED\"},\"yaxis4\":{\"anchor\":\"x4\",\"domain\":[0.8025,1.0],\"gridcolor\":\"#E1E5ED\",\"showgrid\":false,\"tickfont\":{\"color\":\"#4D5663\"},\"title\":{\"font\":{\"color\":\"#4D5663\"},\"text\":\"\"},\"zerolinecolor\":\"#E1E5ED\"},\"xaxis5\":{\"anchor\":\"y5\",\"domain\":[0.0,0.2125],\"gridcolor\":\"#E1E5ED\",\"showgrid\":false,\"tickfont\":{\"color\":\"#4D5663\"},\"title\":{\"font\":{\"color\":\"#4D5663\"},\"text\":\"\"},\"zerolinecolor\":\"#E1E5ED\"},\"yaxis5\":{\"anchor\":\"x5\",\"domain\":[0.535,0.7325],\"gridcolor\":\"#E1E5ED\",\"showgrid\":false,\"tickfont\":{\"color\":\"#4D5663\"},\"title\":{\"font\":{\"color\":\"#4D5663\"},\"text\":\"\"},\"zerolinecolor\":\"#E1E5ED\"},\"xaxis6\":{\"anchor\":\"y6\",\"domain\":[0.2625,0.475],\"gridcolor\":\"#E1E5ED\",\"showgrid\":false,\"tickfont\":{\"color\":\"#4D5663\"},\"title\":{\"font\":{\"color\":\"#4D5663\"},\"text\":\"\"},\"zerolinecolor\":\"#E1E5ED\"},\"yaxis6\":{\"anchor\":\"x6\",\"domain\":[0.535,0.7325],\"gridcolor\":\"#E1E5ED\",\"showgrid\":false,\"tickfont\":{\"color\":\"#4D5663\"},\"title\":{\"font\":{\"color\":\"#4D5663\"},\"text\":\"\"},\"zerolinecolor\":\"#E1E5ED\"},\"xaxis7\":{\"anchor\":\"y7\",\"domain\":[0.525,0.7375],\"gridcolor\":\"#E1E5ED\",\"showgrid\":false,\"tickfont\":{\"color\":\"#4D5663\"},\"title\":{\"font\":{\"color\":\"#4D5663\"},\"text\":\"\"},\"zerolinecolor\":\"#E1E5ED\"},\"yaxis7\":{\"anchor\":\"x7\",\"domain\":[0.535,0.7325],\"gridcolor\":\"#E1E5ED\",\"showgrid\":false,\"tickfont\":{\"color\":\"#4D5663\"},\"title\":{\"font\":{\"color\":\"#4D5663\"},\"text\":\"\"},\"zerolinecolor\":\"#E1E5ED\"},\"xaxis8\":{\"anchor\":\"y8\",\"domain\":[0.7875,1.0],\"gridcolor\":\"#E1E5ED\",\"showgrid\":false,\"tickfont\":{\"color\":\"#4D5663\"},\"title\":{\"font\":{\"color\":\"#4D5663\"},\"text\":\"\"},\"zerolinecolor\":\"#E1E5ED\"},\"yaxis8\":{\"anchor\":\"x8\",\"domain\":[0.535,0.7325],\"gridcolor\":\"#E1E5ED\",\"showgrid\":false,\"tickfont\":{\"color\":\"#4D5663\"},\"title\":{\"font\":{\"color\":\"#4D5663\"},\"text\":\"\"},\"zerolinecolor\":\"#E1E5ED\"},\"xaxis9\":{\"anchor\":\"y9\",\"domain\":[0.0,0.2125],\"gridcolor\":\"#E1E5ED\",\"showgrid\":false,\"tickfont\":{\"color\":\"#4D5663\"},\"title\":{\"font\":{\"color\":\"#4D5663\"},\"text\":\"\"},\"zerolinecolor\":\"#E1E5ED\"},\"yaxis9\":{\"anchor\":\"x9\",\"domain\":[0.2675,0.465],\"gridcolor\":\"#E1E5ED\",\"showgrid\":false,\"tickfont\":{\"color\":\"#4D5663\"},\"title\":{\"font\":{\"color\":\"#4D5663\"},\"text\":\"\"},\"zerolinecolor\":\"#E1E5ED\"},\"xaxis10\":{\"anchor\":\"y10\",\"domain\":[0.2625,0.475],\"gridcolor\":\"#E1E5ED\",\"showgrid\":false,\"tickfont\":{\"color\":\"#4D5663\"},\"title\":{\"font\":{\"color\":\"#4D5663\"},\"text\":\"\"},\"zerolinecolor\":\"#E1E5ED\"},\"yaxis10\":{\"anchor\":\"x10\",\"domain\":[0.2675,0.465],\"gridcolor\":\"#E1E5ED\",\"showgrid\":false,\"tickfont\":{\"color\":\"#4D5663\"},\"title\":{\"font\":{\"color\":\"#4D5663\"},\"text\":\"\"},\"zerolinecolor\":\"#E1E5ED\"},\"xaxis11\":{\"anchor\":\"y11\",\"domain\":[0.525,0.7375],\"gridcolor\":\"#E1E5ED\",\"showgrid\":false,\"tickfont\":{\"color\":\"#4D5663\"},\"title\":{\"font\":{\"color\":\"#4D5663\"},\"text\":\"\"},\"zerolinecolor\":\"#E1E5ED\"},\"yaxis11\":{\"anchor\":\"x11\",\"domain\":[0.2675,0.465],\"gridcolor\":\"#E1E5ED\",\"showgrid\":false,\"tickfont\":{\"color\":\"#4D5663\"},\"title\":{\"font\":{\"color\":\"#4D5663\"},\"text\":\"\"},\"zerolinecolor\":\"#E1E5ED\"},\"xaxis12\":{\"anchor\":\"y12\",\"domain\":[0.7875,1.0],\"gridcolor\":\"#E1E5ED\",\"showgrid\":false,\"tickfont\":{\"color\":\"#4D5663\"},\"title\":{\"font\":{\"color\":\"#4D5663\"},\"text\":\"\"},\"zerolinecolor\":\"#E1E5ED\"},\"yaxis12\":{\"anchor\":\"x12\",\"domain\":[0.2675,0.465],\"gridcolor\":\"#E1E5ED\",\"showgrid\":false,\"tickfont\":{\"color\":\"#4D5663\"},\"title\":{\"font\":{\"color\":\"#4D5663\"},\"text\":\"\"},\"zerolinecolor\":\"#E1E5ED\"},\"xaxis13\":{\"anchor\":\"y13\",\"domain\":[0.0,0.2125],\"gridcolor\":\"#E1E5ED\",\"showgrid\":false,\"tickfont\":{\"color\":\"#4D5663\"},\"title\":{\"font\":{\"color\":\"#4D5663\"},\"text\":\"\"},\"zerolinecolor\":\"#E1E5ED\"},\"yaxis13\":{\"anchor\":\"x13\",\"domain\":[0.0,0.1975],\"gridcolor\":\"#E1E5ED\",\"showgrid\":false,\"tickfont\":{\"color\":\"#4D5663\"},\"title\":{\"font\":{\"color\":\"#4D5663\"},\"text\":\"\"},\"zerolinecolor\":\"#E1E5ED\"},\"xaxis14\":{\"anchor\":\"y14\",\"domain\":[0.2625,0.475],\"gridcolor\":\"#E1E5ED\",\"showgrid\":false,\"tickfont\":{\"color\":\"#4D5663\"},\"title\":{\"font\":{\"color\":\"#4D5663\"},\"text\":\"\"},\"zerolinecolor\":\"#E1E5ED\"},\"yaxis14\":{\"anchor\":\"x14\",\"domain\":[0.0,0.1975],\"gridcolor\":\"#E1E5ED\",\"showgrid\":false,\"tickfont\":{\"color\":\"#4D5663\"},\"title\":{\"font\":{\"color\":\"#4D5663\"},\"text\":\"\"},\"zerolinecolor\":\"#E1E5ED\"},\"xaxis15\":{\"anchor\":\"y15\",\"domain\":[0.525,0.7375],\"gridcolor\":\"#E1E5ED\",\"showgrid\":false,\"tickfont\":{\"color\":\"#4D5663\"},\"title\":{\"font\":{\"color\":\"#4D5663\"},\"text\":\"\"},\"zerolinecolor\":\"#E1E5ED\"},\"yaxis15\":{\"anchor\":\"x15\",\"domain\":[0.0,0.1975],\"gridcolor\":\"#E1E5ED\",\"showgrid\":false,\"tickfont\":{\"color\":\"#4D5663\"},\"title\":{\"font\":{\"color\":\"#4D5663\"},\"text\":\"\"},\"zerolinecolor\":\"#E1E5ED\"},\"xaxis16\":{\"anchor\":\"y16\",\"domain\":[0.7875,1.0],\"gridcolor\":\"#E1E5ED\",\"showgrid\":false,\"tickfont\":{\"color\":\"#4D5663\"},\"title\":{\"font\":{\"color\":\"#4D5663\"},\"text\":\"\"},\"zerolinecolor\":\"#E1E5ED\"},\"yaxis16\":{\"anchor\":\"x16\",\"domain\":[0.0,0.1975],\"gridcolor\":\"#E1E5ED\",\"showgrid\":false,\"tickfont\":{\"color\":\"#4D5663\"},\"title\":{\"font\":{\"color\":\"#4D5663\"},\"text\":\"\"},\"zerolinecolor\":\"#E1E5ED\"}},                        {\"showLink\": true, \"linkText\": \"Export to plot.ly\", \"plotlyServerURL\": \"https://plot.ly\", \"responsive\": true}                    ).then(function(){\n",
       "                            \n",
       "var gd = document.getElementById('1a395de1-eea0-4d43-8f42-91481e701f0b');\n",
       "var x = new MutationObserver(function (mutations, observer) {{\n",
       "        var display = window.getComputedStyle(gd).display;\n",
       "        if (!display || display === 'none') {{\n",
       "            console.log([gd, 'removed!']);\n",
       "            Plotly.purge(gd);\n",
       "            observer.disconnect();\n",
       "        }}\n",
       "}});\n",
       "\n",
       "// Listen for the removal of the full notebook cells\n",
       "var notebookContainer = gd.closest('#notebook-container');\n",
       "if (notebookContainer) {{\n",
       "    x.observe(notebookContainer, {childList: true});\n",
       "}}\n",
       "\n",
       "// Listen for the clearing of the current output cell\n",
       "var outputEl = gd.closest('.output');\n",
       "if (outputEl) {{\n",
       "    x.observe(outputEl, {childList: true});\n",
       "}}\n",
       "\n",
       "                        })                };                });            </script>        </div>"
      ]
     },
     "metadata": {},
     "output_type": "display_data"
    }
   ],
   "source": [
    "#simmilar to sns.pairplot(all columns must be numerical)\n",
    "df.scatter_matrix()"
   ]
  },
  {
   "cell_type": "code",
   "execution_count": null,
   "id": "24b7b394",
   "metadata": {},
   "outputs": [],
   "source": []
  }
 ],
 "metadata": {
  "kernelspec": {
   "display_name": "Python 3 (ipykernel)",
   "language": "python",
   "name": "python3"
  },
  "language_info": {
   "codemirror_mode": {
    "name": "ipython",
    "version": 3
   },
   "file_extension": ".py",
   "mimetype": "text/x-python",
   "name": "python",
   "nbconvert_exporter": "python",
   "pygments_lexer": "ipython3",
   "version": "3.9.12"
  }
 },
 "nbformat": 4,
 "nbformat_minor": 5
}
