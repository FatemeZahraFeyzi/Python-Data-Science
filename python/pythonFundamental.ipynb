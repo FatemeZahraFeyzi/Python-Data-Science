{
 "cells": [
  {
   "cell_type": "code",
   "execution_count": 6,
   "id": "b3facc4c",
   "metadata": {},
   "outputs": [
    {
     "name": "stdout",
     "output_type": "stream",
     "text": [
      "my name is samantha and my number is +612336598\n"
     ]
    }
   ],
   "source": [
    "var1=\"samantha\"\n",
    "var2=\"+612336598\"\n",
    "print(\"my name is {} and my number is {}\".format(var1,var2))"
   ]
  },
  {
   "cell_type": "code",
   "execution_count": 8,
   "id": "83805182",
   "metadata": {},
   "outputs": [
    {
     "name": "stdout",
     "output_type": "stream",
     "text": [
      "my name is samantha and my number is +612336598\n"
     ]
    }
   ],
   "source": [
    "print(\"my name is {name} and my number is {number}\".format(name=var1,number=var2))"
   ]
  },
  {
   "cell_type": "code",
   "execution_count": 10,
   "id": "fd527330",
   "metadata": {},
   "outputs": [],
   "source": [
    "m_list=['a','b','c']"
   ]
  },
  {
   "cell_type": "code",
   "execution_count": 11,
   "id": "4f62bacb",
   "metadata": {},
   "outputs": [],
   "source": [
    "m_list.append('d')"
   ]
  },
  {
   "cell_type": "code",
   "execution_count": 12,
   "id": "b3ecd084",
   "metadata": {},
   "outputs": [
    {
     "data": {
      "text/plain": [
       "['a', 'b', 'c', 'd']"
      ]
     },
     "execution_count": 12,
     "metadata": {},
     "output_type": "execute_result"
    }
   ],
   "source": [
    "m_list"
   ]
  },
  {
   "cell_type": "code",
   "execution_count": 13,
   "id": "601c430f",
   "metadata": {},
   "outputs": [],
   "source": [
    "m_dictionary={'key1':'value','mobina':'feyzi'}"
   ]
  },
  {
   "cell_type": "code",
   "execution_count": null,
   "id": "2084b591",
   "metadata": {},
   "outputs": [],
   "source": [
    "m_dictionary['mobina']"
   ]
  },
  {
   "cell_type": "markdown",
   "id": "77b8bb3f",
   "metadata": {},
   "source": [
    "##### tuples are immutable (do not support item assignment)\n",
    "m_tuple[2] =5 ==>> does not work"
   ]
  },
  {
   "cell_type": "code",
   "execution_count": 16,
   "id": "e3e2faa4",
   "metadata": {},
   "outputs": [],
   "source": [
    "m_tuple=(1,2,3)"
   ]
  },
  {
   "cell_type": "markdown",
   "id": "a90e4dd4",
   "metadata": {},
   "source": [
    "##### set is a collection of unique elements"
   ]
  },
  {
   "cell_type": "code",
   "execution_count": 17,
   "id": "b9b5b170",
   "metadata": {},
   "outputs": [
    {
     "data": {
      "text/plain": [
       "{1, 2}"
      ]
     },
     "execution_count": 17,
     "metadata": {},
     "output_type": "execute_result"
    }
   ],
   "source": [
    "{1,1,1,1,2,2}"
   ]
  },
  {
   "cell_type": "code",
   "execution_count": 18,
   "id": "3859675e",
   "metadata": {},
   "outputs": [
    {
     "data": {
      "text/plain": [
       "{1, 2}"
      ]
     },
     "execution_count": 18,
     "metadata": {},
     "output_type": "execute_result"
    }
   ],
   "source": [
    "set({1,1,1,2,2})"
   ]
  },
  {
   "cell_type": "markdown",
   "id": "6cedb6fa",
   "metadata": {},
   "source": [
    "##### list comprehension\n",
    "it is kind of for loop but backwards"
   ]
  },
  {
   "cell_type": "code",
   "execution_count": 1,
   "id": "9725250a",
   "metadata": {},
   "outputs": [
    {
     "data": {
      "text/plain": [
       "[1, 4, 9, 16]"
      ]
     },
     "execution_count": 1,
     "metadata": {},
     "output_type": "execute_result"
    }
   ],
   "source": [
    "[num**2 for num in [1,2,3,4]]"
   ]
  },
  {
   "cell_type": "markdown",
   "id": "5aa920fc",
   "metadata": {},
   "source": [
    "##### functions"
   ]
  },
  {
   "cell_type": "code",
   "execution_count": 14,
   "id": "f6e120dd",
   "metadata": {},
   "outputs": [],
   "source": [
    "def m_func(name = 'default name'):\n",
    "    \"\"\"\"\n",
    "    multiple lines comment\n",
    "    \"\"\"\n",
    "    print('hello '+name)"
   ]
  },
  {
   "cell_type": "code",
   "execution_count": 15,
   "id": "39ced451",
   "metadata": {},
   "outputs": [
    {
     "name": "stdout",
     "output_type": "stream",
     "text": [
      "hello mobina\n"
     ]
    }
   ],
   "source": [
    "m_func('mobina')"
   ]
  },
  {
   "cell_type": "markdown",
   "id": "ca86ba3d",
   "metadata": {},
   "source": [
    "#### quick access to documentation ==>> tab+shift"
   ]
  },
  {
   "cell_type": "code",
   "execution_count": 31,
   "id": "8c1b05d5",
   "metadata": {},
   "outputs": [
    {
     "data": {
      "text/plain": [
       "12"
      ]
     },
     "execution_count": 31,
     "metadata": {},
     "output_type": "execute_result"
    }
   ],
   "source": [
    "def times2(var):\n",
    "    return var*2\n",
    "\n",
    "#lambda expression(anonymous function) for this function\n",
    "t=lambda var:var*2\n",
    "t(6)"
   ]
  },
  {
   "cell_type": "code",
   "execution_count": 37,
   "id": "aa36acbc",
   "metadata": {},
   "outputs": [
    {
     "data": {
      "text/plain": [
       "[1, 8, 27, 64, 125]"
      ]
     },
     "execution_count": 37,
     "metadata": {},
     "output_type": "execute_result"
    }
   ],
   "source": [
    "seq=[1,2,3,4,5]\n",
    "#this will map each item of seq to the new list by using map function and pass the operator function to it\n",
    "list(map(times2,seq))\n",
    "list(map(lambda num:num**3,seq))"
   ]
  },
  {
   "cell_type": "markdown",
   "id": "52dda3d2",
   "metadata": {},
   "source": [
    "#### filter must use a function or lambda expression that returns true or false value."
   ]
  },
  {
   "cell_type": "code",
   "execution_count": 35,
   "id": "d3a191b9",
   "metadata": {},
   "outputs": [
    {
     "data": {
      "text/plain": [
       "[2, 4]"
      ]
     },
     "execution_count": 35,
     "metadata": {},
     "output_type": "execute_result"
    }
   ],
   "source": [
    "list(filter(lambda num:num%2 == 0,seq))"
   ]
  },
  {
   "cell_type": "markdown",
   "id": "fe4f207d",
   "metadata": {},
   "source": [
    "##### tuple unpacking"
   ]
  },
  {
   "cell_type": "code",
   "execution_count": 41,
   "id": "ae4194c8",
   "metadata": {},
   "outputs": [
    {
     "name": "stdout",
     "output_type": "stream",
     "text": [
      "1\n",
      "3\n",
      "5\n"
     ]
    }
   ],
   "source": [
    "x=[(1,2),(3,4),(5,6)]\n",
    "for a,b in x:\n",
    "    print(a)"
   ]
  },
  {
   "cell_type": "code",
   "execution_count": null,
   "id": "d903290e",
   "metadata": {},
   "outputs": [],
   "source": []
  }
 ],
 "metadata": {
  "kernelspec": {
   "display_name": "Python 3 (ipykernel)",
   "language": "python",
   "name": "python3"
  },
  "language_info": {
   "codemirror_mode": {
    "name": "ipython",
    "version": 3
   },
   "file_extension": ".py",
   "mimetype": "text/x-python",
   "name": "python",
   "nbconvert_exporter": "python",
   "pygments_lexer": "ipython3",
   "version": "3.9.12"
  }
 },
 "nbformat": 4,
 "nbformat_minor": 5
}
