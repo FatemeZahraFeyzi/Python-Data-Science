{
 "cells": [
  {
   "cell_type": "markdown",
   "id": "2a2344d5",
   "metadata": {},
   "source": [
    "# choropleth maps"
   ]
  },
  {
   "cell_type": "code",
   "execution_count": 3,
   "id": "9aa13bbf",
   "metadata": {},
   "outputs": [],
   "source": [
    "import plotly as py\n",
    "from plotly.offline import download_plotlyjs,init_notebook_mode,plot,iplot"
   ]
  },
  {
   "cell_type": "code",
   "execution_count": 4,
   "id": "febe882a",
   "metadata": {},
   "outputs": [
    {
     "data": {
      "text/html": [
       "        <script type=\"text/javascript\">\n",
       "        window.PlotlyConfig = {MathJaxConfig: 'local'};\n",
       "        if (window.MathJax) {MathJax.Hub.Config({SVG: {font: \"STIX-Web\"}});}\n",
       "        if (typeof require !== 'undefined') {\n",
       "        require.undef(\"plotly\");\n",
       "        requirejs.config({\n",
       "            paths: {\n",
       "                'plotly': ['https://cdn.plot.ly/plotly-2.9.0.min']\n",
       "            }\n",
       "        });\n",
       "        require(['plotly'], function(Plotly) {\n",
       "            window._Plotly = Plotly;\n",
       "        });\n",
       "        }\n",
       "        </script>\n",
       "        "
      ]
     },
     "metadata": {},
     "output_type": "display_data"
    }
   ],
   "source": [
    "init_notebook_mode(connected=True)"
   ]
  },
  {
   "cell_type": "code",
   "execution_count": 6,
   "id": "bdae4840",
   "metadata": {},
   "outputs": [],
   "source": [
    "data= dict(type='choropleth',\n",
    "          locations=['AZ','CA','NY'],\n",
    "          locationmode='USA-states',\n",
    "          colorscale='Portland',\n",
    "          text=['text 1','text 2','text 3'],\n",
    "          z=[1.0,2.0,3.0],\n",
    "          colorbar={'title':'color bar title goes here'})"
   ]
  },
  {
   "cell_type": "code",
   "execution_count": 7,
   "id": "c025c271",
   "metadata": {},
   "outputs": [
    {
     "data": {
      "text/plain": [
       "{'type': 'choropleth',\n",
       " 'locations': ['AZ', 'CA', 'NY'],\n",
       " 'locationmode': 'USA-states',\n",
       " 'colorscale': 'Portland',\n",
       " 'text': ['text 1', 'text 2', 'text 3'],\n",
       " 'z': [1.0, 2.0, 3.0],\n",
       " 'colorbar': {'title': 'color bar title goes here'}}"
      ]
     },
     "execution_count": 7,
     "metadata": {},
     "output_type": "execute_result"
    }
   ],
   "source": [
    "data"
   ]
  },
  {
   "cell_type": "code",
   "execution_count": 8,
   "id": "39671821",
   "metadata": {},
   "outputs": [],
   "source": [
    "layout= dict(geo={'scope':'usa'})"
   ]
  },
  {
   "cell_type": "code",
   "execution_count": null,
   "id": "ae389efe",
   "metadata": {},
   "outputs": [],
   "source": [
    "import "
   ]
  }
 ],
 "metadata": {
  "kernelspec": {
   "display_name": "Python 3 (ipykernel)",
   "language": "python",
   "name": "python3"
  },
  "language_info": {
   "codemirror_mode": {
    "name": "ipython",
    "version": 3
   },
   "file_extension": ".py",
   "mimetype": "text/x-python",
   "name": "python",
   "nbconvert_exporter": "python",
   "pygments_lexer": "ipython3",
   "version": "3.9.12"
  }
 },
 "nbformat": 4,
 "nbformat_minor": 5
}
